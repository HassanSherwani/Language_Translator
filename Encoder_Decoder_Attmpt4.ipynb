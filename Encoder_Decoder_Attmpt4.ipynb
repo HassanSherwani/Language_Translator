{
  "nbformat": 4,
  "nbformat_minor": 0,
  "metadata": {
    "colab": {
      "name": "Encoder_Decoder_Attmpt4.ipynb",
      "version": "0.3.2",
      "provenance": [],
      "collapsed_sections": [],
      "machine_shape": "hm"
    },
    "kernelspec": {
      "name": "python3",
      "display_name": "Python 3"
    },
    "language_info": {
      "codemirror_mode": {
        "name": "ipython",
        "version": 3
      },
      "file_extension": ".py",
      "mimetype": "text/x-python",
      "name": "python",
      "nbconvert_exporter": "python",
      "pygments_lexer": "ipython3",
      "version": "3.6.3"
    },
    "accelerator": "GPU"
  },
  "cells": [
    {
      "cell_type": "markdown",
      "metadata": {
        "colab_type": "text",
        "id": "QJxJLfT6m4zo"
      },
      "source": [
        "# Machine Translation\n",
        "\n",
        "English-German Translation\n",
        "\n",
        "using only full data. With random sample"
      ]
    },
    {
      "cell_type": "markdown",
      "metadata": {
        "colab_type": "text",
        "id": "YvFSu3KOnCQI"
      },
      "source": [
        "# 1)- Importing key modules"
      ]
    },
    {
      "cell_type": "code",
      "metadata": {
        "colab_type": "code",
        "id": "ydSdCo4JzRta",
        "colab": {}
      },
      "source": [
        "#support both Python 2 and Python 3 with minimal overhead.\n",
        "from __future__ import absolute_import, division, print_function\n",
        "#ignore warnings\n",
        "import warnings\n",
        "warnings.filterwarnings('ignore')"
      ],
      "execution_count": 0,
      "outputs": []
    },
    {
      "cell_type": "code",
      "metadata": {
        "colab_type": "code",
        "id": "eXS6Ad_pwdsT",
        "colab": {}
      },
      "source": [
        "# What's life without style :). So, let's add style to our dataframes\n",
        "#from IPython.core.display import HTML\n",
        "#css = open('style-table.css').read() + open('style-notebook.css').read()\n",
        "#HTML('<style>{}</style>'.format(css))"
      ],
      "execution_count": 0,
      "outputs": []
    },
    {
      "cell_type": "code",
      "metadata": {
        "colab_type": "code",
        "id": "HXdjBXc-zNXe",
        "colab": {}
      },
      "source": [
        "import pandas as pd \n",
        "import string \n",
        "import pickle\n",
        "from pickle import dump\n",
        "from pickle import load\n",
        "from string import digits\n",
        "import re \n",
        "from sklearn.utils import shuffle\n",
        "from sklearn.model_selection import train_test_split\n",
        "from numpy import array, argmax, random, take \n",
        "import matplotlib.pyplot as plt \n",
        "%matplotlib inline \n",
        "pd.set_option('display.max_colwidth', 200)"
      ],
      "execution_count": 0,
      "outputs": []
    },
    {
      "cell_type": "code",
      "metadata": {
        "colab_type": "code",
        "id": "ElRcz5K3hJrC",
        "colab": {
          "base_uri": "https://localhost:8080/",
          "height": 34
        },
        "outputId": "79b490e8-6214-4659-bfb4-7eb7e7422dae"
      },
      "source": [
        "from keras.models import Model\n",
        "from keras.models import Sequential \n",
        "from keras.layers import Dense, LSTM, Embedding,Input,RepeatVector\n",
        "from keras.preprocessing.text import Tokenizer\n",
        "from keras.callbacks import ModelCheckpoint \n",
        "from keras.preprocessing.sequence import pad_sequences\n",
        "from keras.models import load_model \n",
        "from keras import optimizers "
      ],
      "execution_count": 5,
      "outputs": [
        {
          "output_type": "stream",
          "text": [
            "Using TensorFlow backend.\n"
          ],
          "name": "stderr"
        }
      ]
    },
    {
      "cell_type": "code",
      "metadata": {
        "colab_type": "code",
        "id": "yI5oZH-mwmWL",
        "outputId": "3caf3949-2b6e-42b0-dcc2-1151b13c2c97",
        "colab": {
          "base_uri": "https://localhost:8080/",
          "height": 34
        }
      },
      "source": [
        "!  pip install version_information"
      ],
      "execution_count": 6,
      "outputs": [
        {
          "output_type": "stream",
          "text": [
            "Requirement already satisfied: version_information in /usr/local/lib/python3.6/dist-packages (1.0.3)\n"
          ],
          "name": "stdout"
        }
      ]
    },
    {
      "cell_type": "code",
      "metadata": {
        "colab_type": "code",
        "id": "91NCx_C7wdsZ",
        "outputId": "aa671e54-bff2-4f69-ab49-7419f63108fa",
        "colab": {
          "base_uri": "https://localhost:8080/",
          "height": 195
        }
      },
      "source": [
        "# first install: pip install version_information\n",
        "%reload_ext version_information\n",
        "%version_information pandas,re,sklearn, matplotlib,keras"
      ],
      "execution_count": 7,
      "outputs": [
        {
          "output_type": "execute_result",
          "data": {
            "text/latex": "\\begin{tabular}{|l|l|}\\hline\n{\\bf Software} & {\\bf Version} \\\\ \\hline\\hline\nPython & 3.6.8 64bit [GCC 8.0.1 20180414 (experimental) [trunk revision 259383] \\\\ \\hline\nIPython & 5.5.0 \\\\ \\hline\nOS & Linux 4.14.137+ x86\\_64 with Ubuntu 18.04 bionic \\\\ \\hline\npandas & 0.24.2 \\\\ \\hline\nre & 2.2.1 \\\\ \\hline\nsklearn & 0.21.3 \\\\ \\hline\nmatplotlib & 3.0.3 \\\\ \\hline\nkeras & 2.2.5 \\\\ \\hline\n\\hline \\multicolumn{2}{|l|}{Wed Sep 11 15:24:19 2019 UTC} \\\\ \\hline\n\\end{tabular}\n",
            "application/json": {
              "Software versions": [
                {
                  "version": "3.6.8 64bit [GCC 8.0.1 20180414 (experimental) [trunk revision 259383]",
                  "module": "Python"
                },
                {
                  "version": "5.5.0",
                  "module": "IPython"
                },
                {
                  "version": "Linux 4.14.137+ x86_64 with Ubuntu 18.04 bionic",
                  "module": "OS"
                },
                {
                  "version": "0.24.2",
                  "module": "pandas"
                },
                {
                  "version": "2.2.1",
                  "module": "re"
                },
                {
                  "version": "0.21.3",
                  "module": "sklearn"
                },
                {
                  "version": "3.0.3",
                  "module": "matplotlib"
                },
                {
                  "version": "2.2.5",
                  "module": "keras"
                }
              ]
            },
            "text/html": [
              "<table><tr><th>Software</th><th>Version</th></tr><tr><td>Python</td><td>3.6.8 64bit [GCC 8.0.1 20180414 (experimental) [trunk revision 259383]</td></tr><tr><td>IPython</td><td>5.5.0</td></tr><tr><td>OS</td><td>Linux 4.14.137+ x86_64 with Ubuntu 18.04 bionic</td></tr><tr><td>pandas</td><td>0.24.2</td></tr><tr><td>re</td><td>2.2.1</td></tr><tr><td>sklearn</td><td>0.21.3</td></tr><tr><td>matplotlib</td><td>3.0.3</td></tr><tr><td>keras</td><td>2.2.5</td></tr><tr><td colspan='2'>Wed Sep 11 15:24:19 2019 UTC</td></tr></table>"
            ],
            "text/plain": [
              "Software versions\n",
              "Python 3.6.8 64bit [GCC 8.0.1 20180414 (experimental) [trunk revision 259383]\n",
              "IPython 5.5.0\n",
              "OS Linux 4.14.137+ x86_64 with Ubuntu 18.04 bionic\n",
              "pandas 0.24.2\n",
              "re 2.2.1\n",
              "sklearn 0.21.3\n",
              "matplotlib 3.0.3\n",
              "keras 2.2.5\n",
              "Wed Sep 11 15:24:19 2019 UTC"
            ]
          },
          "metadata": {
            "tags": []
          },
          "execution_count": 7
        }
      ]
    },
    {
      "cell_type": "markdown",
      "metadata": {
        "colab_type": "text",
        "id": "XN_b91atnHye"
      },
      "source": [
        "# 2)- Reading Dataset"
      ]
    },
    {
      "cell_type": "code",
      "metadata": {
        "colab_type": "code",
        "id": "ZM1ZO53WhL_6",
        "colab": {}
      },
      "source": [
        "lines= pd.read_pickle('full_data.pkl')"
      ],
      "execution_count": 0,
      "outputs": []
    },
    {
      "cell_type": "code",
      "metadata": {
        "colab_type": "code",
        "id": "gws8XMBx-IfV",
        "outputId": "5b4b069e-6a4a-42cc-cc3a-a33f26f9f320",
        "colab": {
          "base_uri": "https://localhost:8080/",
          "height": 34
        }
      },
      "source": [
        "lines.shape"
      ],
      "execution_count": 9,
      "outputs": [
        {
          "output_type": "execute_result",
          "data": {
            "text/plain": [
              "(22191, 2)"
            ]
          },
          "metadata": {
            "tags": []
          },
          "execution_count": 9
        }
      ]
    },
    {
      "cell_type": "code",
      "metadata": {
        "colab_type": "code",
        "id": "GdbfP26dHHIX",
        "outputId": "b7958b5d-4e59-4667-e98b-8d7620780b6e",
        "colab": {
          "base_uri": "https://localhost:8080/",
          "height": 197
        }
      },
      "source": [
        "lines.head()"
      ],
      "execution_count": 10,
      "outputs": [
        {
          "output_type": "execute_result",
          "data": {
            "text/html": [
              "<div>\n",
              "<style scoped>\n",
              "    .dataframe tbody tr th:only-of-type {\n",
              "        vertical-align: middle;\n",
              "    }\n",
              "\n",
              "    .dataframe tbody tr th {\n",
              "        vertical-align: top;\n",
              "    }\n",
              "\n",
              "    .dataframe thead th {\n",
              "        text-align: right;\n",
              "    }\n",
              "</style>\n",
              "<table border=\"1\" class=\"dataframe\">\n",
              "  <thead>\n",
              "    <tr style=\"text-align: right;\">\n",
              "      <th></th>\n",
              "      <th>eng</th>\n",
              "      <th>ger</th>\n",
              "    </tr>\n",
              "  </thead>\n",
              "  <tbody>\n",
              "    <tr>\n",
              "      <th>0</th>\n",
              "      <td>Prague Stock Market falls to minus by the end of the trading day</td>\n",
              "      <td>Die Prager Börse stürzt gegen Geschäftsschluss ins Minus.</td>\n",
              "    </tr>\n",
              "    <tr>\n",
              "      <th>1</th>\n",
              "      <td>After a sharp drop in the morning</td>\n",
              "      <td>Nach dem steilen Abfall am Morgen konnte die Prager Börse die Verluste korrigieren.</td>\n",
              "    </tr>\n",
              "    <tr>\n",
              "      <th>2</th>\n",
              "      <td>Transactions with stocks from the Czech Energy Enterprise (ČEZ) reached nearly half of the regular daily trading.</td>\n",
              "      <td>Die Transaktionen mit den Aktien von ČEZ erreichten fast die Hälfte des normalen Tagesgeschäfts.</td>\n",
              "    </tr>\n",
              "    <tr>\n",
              "      <th>3</th>\n",
              "      <td>The Prague Stock Market immediately continued its fall from Monday at the beginning of Tuesday's trading</td>\n",
              "      <td>Die Prager Börse knüpfte gleich zu Beginn der Dienstagsgeschäfte an den Einbruch vom Montag an</td>\n",
              "    </tr>\n",
              "    <tr>\n",
              "      <th>4</th>\n",
              "      <td>This time the fall in stocks on Wall Street is responsible for the drop.</td>\n",
              "      <td>Diesmal lag der Grund für den Einbruch an der Wall Street.</td>\n",
              "    </tr>\n",
              "  </tbody>\n",
              "</table>\n",
              "</div>"
            ],
            "text/plain": [
              "                                                                                                                 eng                                                                                               ger\n",
              "0                                                   Prague Stock Market falls to minus by the end of the trading day                                         Die Prager Börse stürzt gegen Geschäftsschluss ins Minus.\n",
              "1                                                                                  After a sharp drop in the morning               Nach dem steilen Abfall am Morgen konnte die Prager Börse die Verluste korrigieren.\n",
              "2  Transactions with stocks from the Czech Energy Enterprise (ČEZ) reached nearly half of the regular daily trading.  Die Transaktionen mit den Aktien von ČEZ erreichten fast die Hälfte des normalen Tagesgeschäfts.\n",
              "3           The Prague Stock Market immediately continued its fall from Monday at the beginning of Tuesday's trading    Die Prager Börse knüpfte gleich zu Beginn der Dienstagsgeschäfte an den Einbruch vom Montag an\n",
              "4                                           This time the fall in stocks on Wall Street is responsible for the drop.                                        Diesmal lag der Grund für den Einbruch an der Wall Street."
            ]
          },
          "metadata": {
            "tags": []
          },
          "execution_count": 10
        }
      ]
    },
    {
      "cell_type": "markdown",
      "metadata": {
        "colab_type": "text",
        "id": "8532Vnqswdsh"
      },
      "source": [
        "As this is big data and I have a poor old computing machine. So, I ll use smaller sample. It got to be random to avoid sample biaseness"
      ]
    },
    {
      "cell_type": "code",
      "metadata": {
        "colab_type": "code",
        "id": "PZuWRYCZwdsh",
        "outputId": "a9ec29af-67cd-4ccb-e9c2-5fa584e2e0ac",
        "colab": {
          "base_uri": "https://localhost:8080/",
          "height": 564
        }
      },
      "source": [
        "lines.sample(15)"
      ],
      "execution_count": 11,
      "outputs": [
        {
          "output_type": "execute_result",
          "data": {
            "text/html": [
              "<div>\n",
              "<style scoped>\n",
              "    .dataframe tbody tr th:only-of-type {\n",
              "        vertical-align: middle;\n",
              "    }\n",
              "\n",
              "    .dataframe tbody tr th {\n",
              "        vertical-align: top;\n",
              "    }\n",
              "\n",
              "    .dataframe thead th {\n",
              "        text-align: right;\n",
              "    }\n",
              "</style>\n",
              "<table border=\"1\" class=\"dataframe\">\n",
              "  <thead>\n",
              "    <tr style=\"text-align: right;\">\n",
              "      <th></th>\n",
              "      <th>eng</th>\n",
              "      <th>ger</th>\n",
              "    </tr>\n",
              "  </thead>\n",
              "  <tbody>\n",
              "    <tr>\n",
              "      <th>11261</th>\n",
              "      <td>The wound is being cleaned, but Montreal would need its own investigative unit with ongoing monitoring, to avoid the return of these questionable practices.</td>\n",
              "      <td>Wir sind dabei, die Wunde zu säubern, bräuchten allerdings eine nur für Montreal bestimmte Ermittlungseinheit, sowie eine Aufsicht, um eine Rückkehr der fragwürdigen Praktiken zu verhindern.</td>\n",
              "    </tr>\n",
              "    <tr>\n",
              "      <th>1534</th>\n",
              "      <td>Paul Newman the Magnificent</td>\n",
              "      <td>Paul Newman der Wunderbare</td>\n",
              "    </tr>\n",
              "    <tr>\n",
              "      <th>10560</th>\n",
              "      <td>Lastly, concerning palliative sedation already widely used in Canadian health institutions,the committee asks that it should be considered where it only serves to reduce physical pain, as does eut...</td>\n",
              "      <td>Zuletzt fordert das Gremium hinsichtlich der bereits in den kanadischen Institutionen zur Gesundheitspflege weitreichend angewendeten Mittel zu Schmerzlinderung oder lebensabschlieβender Maβnahmen...</td>\n",
              "    </tr>\n",
              "    <tr>\n",
              "      <th>18132</th>\n",
              "      <td>But even then Abbott didn't make the connection with his own case.</td>\n",
              "      <td>Aber auch jetzt verband Abbott dies nicht mit seinem eigenen Fall.</td>\n",
              "    </tr>\n",
              "    <tr>\n",
              "      <th>7341</th>\n",
              "      <td>Apparently it is centred around a microbe that was found at the bottom of the Monkey Lake in the National Park Yosemite, California, where it lives in an environment that was considered too poison...</td>\n",
              "      <td>Scheinbar handelt es sich um eine Mikrobe, die auf dem Grund des Mono Lake im Yosemite-Nationalpark, Kalifornien, gefunden wurde. Sie lebt dort in einer Umgebung, die für zu giftig für alle erdenk...</td>\n",
              "    </tr>\n",
              "    <tr>\n",
              "      <th>3272</th>\n",
              "      <td>So the targeting may yield political repercussions that go against that important agenda.</td>\n",
              "      <td>Die Zielsetzung könnte politische Nachwirkungen hervorrufen, die gegen diesen wichtigen Tagesordnungspunkt arbeiten.</td>\n",
              "    </tr>\n",
              "    <tr>\n",
              "      <th>17529</th>\n",
              "      <td>Among the detainees were 14 high-ranking officers, according to Hurriyet Daily News.</td>\n",
              "      <td>Unter den Verhafteten sind 14 hochrangige Polizisten, meldet Hürriyet Daily News.</td>\n",
              "    </tr>\n",
              "    <tr>\n",
              "      <th>10601</th>\n",
              "      <td>The prime minister-designate had to form a team, most importantly comprising technocrats, even though he stressed that he would also like to include \"politicians.\"</td>\n",
              "      <td>Der amtierende Premierminister solle einen aus vorwiegend Technokraten bestehenden Stab gründen, obwohl er betont hatte, gerne auch\"Politiker\" miteinzubeziehen.</td>\n",
              "    </tr>\n",
              "    <tr>\n",
              "      <th>21664</th>\n",
              "      <td>Equally, for those not depressed, a circle of mentally healthy friends halved the chances of mental challenges arising.</td>\n",
              "      <td>Für diejenigen, die nicht depressiv sind, halbiert ein Kreis von geistig gesunden Freunden die Risiken von mentalen Problemen.</td>\n",
              "    </tr>\n",
              "    <tr>\n",
              "      <th>1419</th>\n",
              "      <td>This project's goal is the reinstatement of the driver</td>\n",
              "      <td>Der Zweck ist die Resozialisierung des Fahrers</td>\n",
              "    </tr>\n",
              "    <tr>\n",
              "      <th>21210</th>\n",
              "      <td>Now we want to come out of it as quickly as possible.</td>\n",
              "      <td>Jetzt wollen wir so schnell wie möglich da heraus kommen.</td>\n",
              "    </tr>\n",
              "    <tr>\n",
              "      <th>20741</th>\n",
              "      <td>The KfW state bank's refugee funding programme has already been well received in towns and local authorities.</td>\n",
              "      <td>Das Förderprogramm für Flüchtlingsunterkünfte der Staatsbank KfW kommt bei Städten und Gemeinden schon jetzt gut an.</td>\n",
              "    </tr>\n",
              "    <tr>\n",
              "      <th>14252</th>\n",
              "      <td>Mayor Thomas Haas retorted: The \"Hirschen\" railway crossing is used regularly for the transportation of long logs.</td>\n",
              "      <td>Bürgermeister Thomas Haas widersprach: Der Bahnübergang \"Hirschen\" werde regelmäßig für Langholztransporte genutzt.</td>\n",
              "    </tr>\n",
              "    <tr>\n",
              "      <th>193</th>\n",
              "      <td>On the basis of unofficial information</td>\n",
              "      <td>Aus nicht offiziellen Informationen geht hervor</td>\n",
              "    </tr>\n",
              "    <tr>\n",
              "      <th>15456</th>\n",
              "      <td>However, he first wishes for his situation to be clarified.</td>\n",
              "      <td>Zuerst will er jedoch seine Situation geklärt wissen.</td>\n",
              "    </tr>\n",
              "  </tbody>\n",
              "</table>\n",
              "</div>"
            ],
            "text/plain": [
              "                                                                                                                                                                                                           eng                                                                                                                                                                                                      ger\n",
              "11261                                             The wound is being cleaned, but Montreal would need its own investigative unit with ongoing monitoring, to avoid the return of these questionable practices.           Wir sind dabei, die Wunde zu säubern, bräuchten allerdings eine nur für Montreal bestimmte Ermittlungseinheit, sowie eine Aufsicht, um eine Rückkehr der fragwürdigen Praktiken zu verhindern.\n",
              "1534                                                                                                                                                                               Paul Newman the Magnificent                                                                                                                                                                               Paul Newman der Wunderbare\n",
              "10560  Lastly, concerning palliative sedation already widely used in Canadian health institutions,the committee asks that it should be considered where it only serves to reduce physical pain, as does eut...  Zuletzt fordert das Gremium hinsichtlich der bereits in den kanadischen Institutionen zur Gesundheitspflege weitreichend angewendeten Mittel zu Schmerzlinderung oder lebensabschlieβender Maβnahmen...\n",
              "18132                                                                                                                                       But even then Abbott didn't make the connection with his own case.                                                                                                                                       Aber auch jetzt verband Abbott dies nicht mit seinem eigenen Fall.\n",
              "7341   Apparently it is centred around a microbe that was found at the bottom of the Monkey Lake in the National Park Yosemite, California, where it lives in an environment that was considered too poison...  Scheinbar handelt es sich um eine Mikrobe, die auf dem Grund des Mono Lake im Yosemite-Nationalpark, Kalifornien, gefunden wurde. Sie lebt dort in einer Umgebung, die für zu giftig für alle erdenk...\n",
              "3272                                                                                                                 So the targeting may yield political repercussions that go against that important agenda.                                                                                     Die Zielsetzung könnte politische Nachwirkungen hervorrufen, die gegen diesen wichtigen Tagesordnungspunkt arbeiten.\n",
              "17529                                                                                                                     Among the detainees were 14 high-ranking officers, according to Hurriyet Daily News.                                                                                                                        Unter den Verhafteten sind 14 hochrangige Polizisten, meldet Hürriyet Daily News.\n",
              "10601                                      The prime minister-designate had to form a team, most importantly comprising technocrats, even though he stressed that he would also like to include \"politicians.\"                                         Der amtierende Premierminister solle einen aus vorwiegend Technokraten bestehenden Stab gründen, obwohl er betont hatte, gerne auch\"Politiker\" miteinzubeziehen.\n",
              "21664                                                                                  Equally, for those not depressed, a circle of mentally healthy friends halved the chances of mental challenges arising.                                                                           Für diejenigen, die nicht depressiv sind, halbiert ein Kreis von geistig gesunden Freunden die Risiken von mentalen Problemen.\n",
              "1419                                                                                                                                                    This project's goal is the reinstatement of the driver                                                                                                                                                           Der Zweck ist die Resozialisierung des Fahrers\n",
              "21210                                                                                                                                                    Now we want to come out of it as quickly as possible.                                                                                                                                                Jetzt wollen wir so schnell wie möglich da heraus kommen.\n",
              "20741                                                                                            The KfW state bank's refugee funding programme has already been well received in towns and local authorities.                                                                                     Das Förderprogramm für Flüchtlingsunterkünfte der Staatsbank KfW kommt bei Städten und Gemeinden schon jetzt gut an.\n",
              "14252                                                                                       Mayor Thomas Haas retorted: The \"Hirschen\" railway crossing is used regularly for the transportation of long logs.                                                                                      Bürgermeister Thomas Haas widersprach: Der Bahnübergang \"Hirschen\" werde regelmäßig für Langholztransporte genutzt.\n",
              "193                                                                                                                                                                     On the basis of unofficial information                                                                                                                                                          Aus nicht offiziellen Informationen geht hervor\n",
              "15456                                                                                                                                              However, he first wishes for his situation to be clarified.                                                                                                                                                    Zuerst will er jedoch seine Situation geklärt wissen."
            ]
          },
          "metadata": {
            "tags": []
          },
          "execution_count": 11
        }
      ]
    },
    {
      "cell_type": "code",
      "metadata": {
        "id": "uX9epDW72fU8",
        "colab_type": "code",
        "colab": {}
      },
      "source": [
        "# choose 5000 random rows\n",
        "lines=lines.sample(5000)"
      ],
      "execution_count": 0,
      "outputs": []
    },
    {
      "cell_type": "markdown",
      "metadata": {
        "colab_type": "text",
        "id": "y4sjvE5Nwdsk"
      },
      "source": [
        "# 3)- Quick Preprocessing"
      ]
    },
    {
      "cell_type": "code",
      "metadata": {
        "colab_type": "code",
        "id": "GEvO1bfy-KKP",
        "colab": {}
      },
      "source": [
        "# Lowercase all characters\n",
        "lines.eng=lines.eng.apply(lambda x: x.lower())\n",
        "lines.ger=lines.ger.apply(lambda x: x.lower())"
      ],
      "execution_count": 0,
      "outputs": []
    },
    {
      "cell_type": "code",
      "metadata": {
        "colab_type": "code",
        "id": "9bLMfF59-KNX",
        "colab": {}
      },
      "source": [
        "# Remove quotes\n",
        "lines.eng=lines.eng.apply(lambda x: re.sub(\"'\", '', x))\n",
        "lines.ger=lines.ger.apply(lambda x: re.sub(\"'\", '', x))"
      ],
      "execution_count": 0,
      "outputs": []
    },
    {
      "cell_type": "code",
      "metadata": {
        "colab_type": "code",
        "id": "t-rYHNHd-KQK",
        "colab": {}
      },
      "source": [
        "exclude = set(string.punctuation) # Set of all special characters\n",
        "# Remove all the special characters\n",
        "lines.eng=lines.eng.apply(lambda x: ''.join(ch for ch in x if ch not in exclude))\n",
        "lines.ger=lines.ger.apply(lambda x: ''.join(ch for ch in x if ch not in exclude))"
      ],
      "execution_count": 0,
      "outputs": []
    },
    {
      "cell_type": "code",
      "metadata": {
        "colab_type": "code",
        "id": "bWGhz8JG-KVi",
        "colab": {}
      },
      "source": [
        "# Remove all numbers from text\n",
        "remove_digits = str.maketrans('', '', digits)\n",
        "lines.eng=lines.eng.apply(lambda x: x.translate(remove_digits))\n",
        "lines.ger=lines.ger.apply(lambda x: x.translate(remove_digits))"
      ],
      "execution_count": 0,
      "outputs": []
    },
    {
      "cell_type": "code",
      "metadata": {
        "colab_type": "code",
        "id": "qCJnKqIY-KYm",
        "colab": {}
      },
      "source": [
        "# Remove extra spaces\n",
        "lines.eng=lines.eng.apply(lambda x: x.strip())\n",
        "lines.ger=lines.ger.apply(lambda x: x.strip())\n",
        "lines.eng=lines.eng.apply(lambda x: re.sub(\" +\", \" \", x))\n",
        "lines.ger=lines.ger.apply(lambda x: re.sub(\" +\", \" \", x))"
      ],
      "execution_count": 0,
      "outputs": []
    },
    {
      "cell_type": "markdown",
      "metadata": {
        "colab_type": "text",
        "id": "-TJC18LaS_Qi"
      },
      "source": [
        "**Do threshold here**"
      ]
    },
    {
      "cell_type": "code",
      "metadata": {
        "colab_type": "code",
        "id": "9AwSMz4O-pKQ",
        "colab": {}
      },
      "source": [
        "# Add start and end tokens to target sequences. I am not German so , I am doing so for my ease\n",
        "lines.ger = lines.ger.apply(lambda x : 'START_ '+ x + ' _END')"
      ],
      "execution_count": 0,
      "outputs": []
    },
    {
      "cell_type": "code",
      "metadata": {
        "colab_type": "code",
        "id": "O-6Rm08s-yn9",
        "outputId": "d24695e9-e36e-4219-d12a-f3d69a864c1f",
        "colab": {
          "base_uri": "https://localhost:8080/",
          "height": 123
        }
      },
      "source": [
        "lines.ger[:5]"
      ],
      "execution_count": 19,
      "outputs": [
        {
          "output_type": "execute_result",
          "data": {
            "text/plain": [
              "980                                                                                                                 START_ analysten der deutschen bank haben in einer mitteilung an investoren geschrieben _END\n",
              "4719     START_ falls der fahrer nicht auf die warnung reagiert und sogar wenn der zusammenstoss schon unvermeidlich ist übt der bremsassistent den maximalen druck auf die bremsen aus um auf diese weise di...\n",
              "18566                                                                                                                                                  START_ zwei besatzungsmitglieder galten als vermisst _END\n",
              "16436                                                                                                                                                                 START_ und dann schließe ich das buch _END\n",
              "2591     START_ die cssd hat vorgeschlagen dass sie den abfluss von geld salomonisch löst sie greift die cezaktiendividenden an bei denen der staat eigentümer der majorität ist und aus diesen dann das geld...\n",
              "Name: ger, dtype: object"
            ]
          },
          "metadata": {
            "tags": []
          },
          "execution_count": 19
        }
      ]
    },
    {
      "cell_type": "code",
      "metadata": {
        "colab_type": "code",
        "id": "5slsI5P7-Ja-",
        "outputId": "3d8a80fe-60c5-43be-8a8d-8dc76c030f4c",
        "colab": {
          "base_uri": "https://localhost:8080/",
          "height": 397
        }
      },
      "source": [
        "lines.sample(10)"
      ],
      "execution_count": 20,
      "outputs": [
        {
          "output_type": "execute_result",
          "data": {
            "text/html": [
              "<div>\n",
              "<style scoped>\n",
              "    .dataframe tbody tr th:only-of-type {\n",
              "        vertical-align: middle;\n",
              "    }\n",
              "\n",
              "    .dataframe tbody tr th {\n",
              "        vertical-align: top;\n",
              "    }\n",
              "\n",
              "    .dataframe thead th {\n",
              "        text-align: right;\n",
              "    }\n",
              "</style>\n",
              "<table border=\"1\" class=\"dataframe\">\n",
              "  <thead>\n",
              "    <tr style=\"text-align: right;\">\n",
              "      <th></th>\n",
              "      <th>eng</th>\n",
              "      <th>ger</th>\n",
              "    </tr>\n",
              "  </thead>\n",
              "  <tbody>\n",
              "    <tr>\n",
              "      <th>18481</th>\n",
              "      <td>mayor wolfgang wild and state secretary albert füracker have taken on the sponsorship</td>\n",
              "      <td>START_ die schirmherrschaft haben bürgermeister wolfgang wild und staatssekretär albert füracker übernommen _END</td>\n",
              "    </tr>\n",
              "    <tr>\n",
              "      <th>14481</th>\n",
              "      <td>except for the landing of arrival aircraft flight traffic was temporarily suspended it was reported</td>\n",
              "      <td>START_ bis auf landungen sei der flugverkehr vorübergehend eingestellt worden hieß es _END</td>\n",
              "    </tr>\n",
              "    <tr>\n",
              "      <th>2838</th>\n",
              "      <td>the mature infectious viral corpuscles would not occur if the hiv virus was not split by the hiv protease</td>\n",
              "      <td>START_ ohne die durch die hivprotease verursachte hivvirusspaltung würden keine reifen infektionsvirenpartikel entstehen _END</td>\n",
              "    </tr>\n",
              "    <tr>\n",
              "      <th>14478</th>\n",
              "      <td>users on twitter published photos of a swat officer and a weapon lying on the ground</td>\n",
              "      <td>START_ nutzer auf twitter veröffentlichten fotos von einem spezialeinsatzkommando und einem auf dem boden liegenden gewehr _END</td>\n",
              "    </tr>\n",
              "    <tr>\n",
              "      <th>12818</th>\n",
              "      <td>this image comes from a camera developed by german researchers at the max planck institute</td>\n",
              "      <td>START_ das bild kommt von einer kamera die deutsche forscher vom maxplanckinstitut entwickelt haben _END</td>\n",
              "    </tr>\n",
              "    <tr>\n",
              "      <th>3953</th>\n",
              "      <td>there may however always be a few difficult ones who remain uncooperative he added</td>\n",
              "      <td>START_ es wird jedoch wahrscheinlich immer einige widerspenstige geben die mit der einigung nicht zufrieden sind ergänzt er _END</td>\n",
              "    </tr>\n",
              "    <tr>\n",
              "      <th>15239</th>\n",
              "      <td>in germany many of these companies are global market leaders in their particular niche</td>\n",
              "      <td>START_ in deutschland sind viele dieser unternehmen weltweite marktführer in der jeweiligen nische _END</td>\n",
              "    </tr>\n",
              "    <tr>\n",
              "      <th>8081</th>\n",
              "      <td>that was also why there was no pressure from the home team in the first half long kicks behind the defence were neatly averted by the czech defence</td>\n",
              "      <td>START_ auch in der zweiten halbzeit blieb der druck der heimmannschaft aus und die weiten abschläge vor den strafraum wurden von der tschechischen abwehr erfolgreich abgewehrt _END</td>\n",
              "    </tr>\n",
              "    <tr>\n",
              "      <th>13766</th>\n",
              "      <td>it is incomprehensible that the interamerican commission on human rights is in washington under us funding he said referring to ecuador giving political asylum to wikileaks founder julian assange</td>\n",
              "      <td>START_ es ist unverständlich dass die interamerikanische kommission für menschenrechte ihren sitz in washington hat und von den vereinigten staaten finanziert wird erklärte er als anspielung auf d...</td>\n",
              "    </tr>\n",
              "    <tr>\n",
              "      <th>16289</th>\n",
              "      <td>margarine in place of butter a little more baking powder and bicarbonate of soda in place of egg proctor has even managed to astonish his inlaws with his vegan cheese cakes</td>\n",
              "      <td>START_ margarine statt butter etwas mehr backpulver und kohlensäure statt ei mit seinen veganen käsekuchen konnte proctor auch seine schwiegereltern zum staunen bringen _END</td>\n",
              "    </tr>\n",
              "  </tbody>\n",
              "</table>\n",
              "</div>"
            ],
            "text/plain": [
              "                                                                                                                                                                                                       eng                                                                                                                                                                                                      ger\n",
              "18481                                                                                                                mayor wolfgang wild and state secretary albert füracker have taken on the sponsorship                                                                                         START_ die schirmherrschaft haben bürgermeister wolfgang wild und staatssekretär albert füracker übernommen _END\n",
              "14481                                                                                                  except for the landing of arrival aircraft flight traffic was temporarily suspended it was reported                                                                                                               START_ bis auf landungen sei der flugverkehr vorübergehend eingestellt worden hieß es _END\n",
              "2838                                                                                             the mature infectious viral corpuscles would not occur if the hiv virus was not split by the hiv protease                                                                            START_ ohne die durch die hivprotease verursachte hivvirusspaltung würden keine reifen infektionsvirenpartikel entstehen _END\n",
              "14478                                                                                                                 users on twitter published photos of a swat officer and a weapon lying on the ground                                                                          START_ nutzer auf twitter veröffentlichten fotos von einem spezialeinsatzkommando und einem auf dem boden liegenden gewehr _END\n",
              "12818                                                                                                           this image comes from a camera developed by german researchers at the max planck institute                                                                                                 START_ das bild kommt von einer kamera die deutsche forscher vom maxplanckinstitut entwickelt haben _END\n",
              "3953                                                                                                                    there may however always be a few difficult ones who remain uncooperative he added                                                                         START_ es wird jedoch wahrscheinlich immer einige widerspenstige geben die mit der einigung nicht zufrieden sind ergänzt er _END\n",
              "15239                                                                                                               in germany many of these companies are global market leaders in their particular niche                                                                                                  START_ in deutschland sind viele dieser unternehmen weltweite marktführer in der jeweiligen nische _END\n",
              "8081                                                   that was also why there was no pressure from the home team in the first half long kicks behind the defence were neatly averted by the czech defence                     START_ auch in der zweiten halbzeit blieb der druck der heimmannschaft aus und die weiten abschläge vor den strafraum wurden von der tschechischen abwehr erfolgreich abgewehrt _END\n",
              "13766  it is incomprehensible that the interamerican commission on human rights is in washington under us funding he said referring to ecuador giving political asylum to wikileaks founder julian assange  START_ es ist unverständlich dass die interamerikanische kommission für menschenrechte ihren sitz in washington hat und von den vereinigten staaten finanziert wird erklärte er als anspielung auf d...\n",
              "16289                         margarine in place of butter a little more baking powder and bicarbonate of soda in place of egg proctor has even managed to astonish his inlaws with his vegan cheese cakes                            START_ margarine statt butter etwas mehr backpulver und kohlensäure statt ei mit seinen veganen käsekuchen konnte proctor auch seine schwiegereltern zum staunen bringen _END"
            ]
          },
          "metadata": {
            "tags": []
          },
          "execution_count": 20
        }
      ]
    },
    {
      "cell_type": "markdown",
      "metadata": {
        "colab_type": "text",
        "id": "D1HIfLfoMlYD"
      },
      "source": [
        "### 3a)- Vocab Size"
      ]
    },
    {
      "cell_type": "code",
      "metadata": {
        "colab_type": "code",
        "id": "tum2mSmK-Jeq",
        "colab": {}
      },
      "source": [
        "# Vocabulary of English\n",
        "all_eng_words=set()\n",
        "for eng in lines.eng:\n",
        "    for word in eng.split():\n",
        "        if word not in all_eng_words:\n",
        "            all_eng_words.add(word)\n",
        "# Vocabulary of German \n",
        "all_german_words=set()\n",
        "for ger in lines.ger:\n",
        "    for word in ger.split():\n",
        "        if word not in all_german_words:\n",
        "            all_german_words.add(word)"
      ],
      "execution_count": 0,
      "outputs": []
    },
    {
      "cell_type": "code",
      "metadata": {
        "colab_type": "code",
        "id": "gGrnrWLw-Jhr",
        "outputId": "414c2ad3-7dec-4a31-91c6-2a2572203746",
        "colab": {
          "base_uri": "https://localhost:8080/",
          "height": 34
        }
      },
      "source": [
        "# Max Length of source sequence\n",
        "import numpy as np\n",
        "lenght_list=[]\n",
        "for l in lines.eng:\n",
        "    lenght_list.append(len(l.split(' ')))\n",
        "max_length_src = np.max(lenght_list)\n",
        "max_length_src"
      ],
      "execution_count": 22,
      "outputs": [
        {
          "output_type": "execute_result",
          "data": {
            "text/plain": [
              "108"
            ]
          },
          "metadata": {
            "tags": []
          },
          "execution_count": 22
        }
      ]
    },
    {
      "cell_type": "code",
      "metadata": {
        "colab_type": "code",
        "id": "NKYTzcsw-Jls",
        "outputId": "05b1f4a1-fcb7-4263-8dc1-cbe779462dde",
        "colab": {
          "base_uri": "https://localhost:8080/",
          "height": 34
        }
      },
      "source": [
        "# Max Length of target sequence\n",
        "lenght_list=[]\n",
        "for l in lines.ger:\n",
        "    lenght_list.append(len(l.split(' ')))\n",
        "max_length_tar = np.max(lenght_list)\n",
        "max_length_tar"
      ],
      "execution_count": 23,
      "outputs": [
        {
          "output_type": "execute_result",
          "data": {
            "text/plain": [
              "90"
            ]
          },
          "metadata": {
            "tags": []
          },
          "execution_count": 23
        }
      ]
    },
    {
      "cell_type": "code",
      "metadata": {
        "colab_type": "code",
        "id": "njsfAZIhGmjf",
        "outputId": "8815a06a-d753-46dc-9df3-7294b4d659aa",
        "colab": {
          "base_uri": "https://localhost:8080/",
          "height": 197
        }
      },
      "source": [
        "lines['word_eng'] = lines['eng'].apply(lambda x: len(str(x).split(\" \")))\n",
        "lines[['eng','word_eng']].head()"
      ],
      "execution_count": 24,
      "outputs": [
        {
          "output_type": "execute_result",
          "data": {
            "text/html": [
              "<div>\n",
              "<style scoped>\n",
              "    .dataframe tbody tr th:only-of-type {\n",
              "        vertical-align: middle;\n",
              "    }\n",
              "\n",
              "    .dataframe tbody tr th {\n",
              "        vertical-align: top;\n",
              "    }\n",
              "\n",
              "    .dataframe thead th {\n",
              "        text-align: right;\n",
              "    }\n",
              "</style>\n",
              "<table border=\"1\" class=\"dataframe\">\n",
              "  <thead>\n",
              "    <tr style=\"text-align: right;\">\n",
              "      <th></th>\n",
              "      <th>eng</th>\n",
              "      <th>word_eng</th>\n",
              "    </tr>\n",
              "  </thead>\n",
              "  <tbody>\n",
              "    <tr>\n",
              "      <th>980</th>\n",
              "      <td>the outlook for global equity</td>\n",
              "      <td>5</td>\n",
              "    </tr>\n",
              "    <tr>\n",
              "      <th>4719</th>\n",
              "      <td>if he does not react and even though the collision is unavoidable the device exerts the maximum force to the brakes to minimize damage</td>\n",
              "      <td>24</td>\n",
              "    </tr>\n",
              "    <tr>\n",
              "      <th>18566</th>\n",
              "      <td>two crew members are missing</td>\n",
              "      <td>5</td>\n",
              "    </tr>\n",
              "    <tr>\n",
              "      <th>16436</th>\n",
              "      <td>and then i close the book</td>\n",
              "      <td>6</td>\n",
              "    </tr>\n",
              "    <tr>\n",
              "      <th>2591</th>\n",
              "      <td>the čssd has suggested that the deficit be resolved solomonstyle – it should draw on čez dividends which are mostly stateowned and use those to top up the transport fund</td>\n",
              "      <td>30</td>\n",
              "    </tr>\n",
              "  </tbody>\n",
              "</table>\n",
              "</div>"
            ],
            "text/plain": [
              "                                                                                                                                                                             eng  word_eng\n",
              "980                                                                                                                                                the outlook for global equity         5\n",
              "4719                                      if he does not react and even though the collision is unavoidable the device exerts the maximum force to the brakes to minimize damage        24\n",
              "18566                                                                                                                                               two crew members are missing         5\n",
              "16436                                                                                                                                                  and then i close the book         6\n",
              "2591   the čssd has suggested that the deficit be resolved solomonstyle – it should draw on čez dividends which are mostly stateowned and use those to top up the transport fund        30"
            ]
          },
          "metadata": {
            "tags": []
          },
          "execution_count": 24
        }
      ]
    },
    {
      "cell_type": "code",
      "metadata": {
        "colab_type": "code",
        "id": "j2cAOXePGmmg",
        "outputId": "77a56672-f0e2-4199-d258-a0e7f48b09a4",
        "colab": {
          "base_uri": "https://localhost:8080/",
          "height": 197
        }
      },
      "source": [
        "# adding +2 due to adding of START and END\n",
        "lines['word_ger'] = lines['ger'].apply(lambda x: len(str(x).split(\" \")))\n",
        "lines[['ger','word_ger']].head()"
      ],
      "execution_count": 25,
      "outputs": [
        {
          "output_type": "execute_result",
          "data": {
            "text/html": [
              "<div>\n",
              "<style scoped>\n",
              "    .dataframe tbody tr th:only-of-type {\n",
              "        vertical-align: middle;\n",
              "    }\n",
              "\n",
              "    .dataframe tbody tr th {\n",
              "        vertical-align: top;\n",
              "    }\n",
              "\n",
              "    .dataframe thead th {\n",
              "        text-align: right;\n",
              "    }\n",
              "</style>\n",
              "<table border=\"1\" class=\"dataframe\">\n",
              "  <thead>\n",
              "    <tr style=\"text-align: right;\">\n",
              "      <th></th>\n",
              "      <th>ger</th>\n",
              "      <th>word_ger</th>\n",
              "    </tr>\n",
              "  </thead>\n",
              "  <tbody>\n",
              "    <tr>\n",
              "      <th>980</th>\n",
              "      <td>START_ analysten der deutschen bank haben in einer mitteilung an investoren geschrieben _END</td>\n",
              "      <td>13</td>\n",
              "    </tr>\n",
              "    <tr>\n",
              "      <th>4719</th>\n",
              "      <td>START_ falls der fahrer nicht auf die warnung reagiert und sogar wenn der zusammenstoss schon unvermeidlich ist übt der bremsassistent den maximalen druck auf die bremsen aus um auf diese weise di...</td>\n",
              "      <td>40</td>\n",
              "    </tr>\n",
              "    <tr>\n",
              "      <th>18566</th>\n",
              "      <td>START_ zwei besatzungsmitglieder galten als vermisst _END</td>\n",
              "      <td>7</td>\n",
              "    </tr>\n",
              "    <tr>\n",
              "      <th>16436</th>\n",
              "      <td>START_ und dann schließe ich das buch _END</td>\n",
              "      <td>8</td>\n",
              "    </tr>\n",
              "    <tr>\n",
              "      <th>2591</th>\n",
              "      <td>START_ die cssd hat vorgeschlagen dass sie den abfluss von geld salomonisch löst sie greift die cezaktiendividenden an bei denen der staat eigentümer der majorität ist und aus diesen dann das geld...</td>\n",
              "      <td>38</td>\n",
              "    </tr>\n",
              "  </tbody>\n",
              "</table>\n",
              "</div>"
            ],
            "text/plain": [
              "                                                                                                                                                                                                           ger  word_ger\n",
              "980                                                                                                               START_ analysten der deutschen bank haben in einer mitteilung an investoren geschrieben _END        13\n",
              "4719   START_ falls der fahrer nicht auf die warnung reagiert und sogar wenn der zusammenstoss schon unvermeidlich ist übt der bremsassistent den maximalen druck auf die bremsen aus um auf diese weise di...        40\n",
              "18566                                                                                                                                                START_ zwei besatzungsmitglieder galten als vermisst _END         7\n",
              "16436                                                                                                                                                               START_ und dann schließe ich das buch _END         8\n",
              "2591   START_ die cssd hat vorgeschlagen dass sie den abfluss von geld salomonisch löst sie greift die cezaktiendividenden an bei denen der staat eigentümer der majorität ist und aus diesen dann das geld...        38"
            ]
          },
          "metadata": {
            "tags": []
          },
          "execution_count": 25
        }
      ]
    },
    {
      "cell_type": "code",
      "metadata": {
        "colab_type": "code",
        "id": "iAFqlcXjHy-F",
        "outputId": "9f3960b1-b169-4a75-ed1a-1cc6f1e78a1c",
        "colab": {
          "base_uri": "https://localhost:8080/",
          "height": 268
        }
      },
      "source": [
        "words_eng=lines['word_eng']\n",
        "plt.hist(words_eng, bins=20, label=\"Word length of english sequence\") \n",
        "plt.legend() \n",
        "plt.show()"
      ],
      "execution_count": 26,
      "outputs": [
        {
          "output_type": "display_data",
          "data": {
            "image/png": "[encoded data removed]",
            "text/plain": [
              "<Figure size 432x288 with 1 Axes>"
            ]
          },
          "metadata": {
            "tags": []
          }
        }
      ]
    },
    {
      "cell_type": "code",
      "metadata": {
        "colab_type": "code",
        "id": "t3NjOtTIGmpO",
        "outputId": "bc0187a0-3184-4f41-ec92-5988f57b4a95",
        "colab": {
          "base_uri": "https://localhost:8080/",
          "height": 268
        }
      },
      "source": [
        "words_ger=lines['word_ger']\n",
        "plt.hist(words_ger, bins=20, label=\"Word length of German sequence\") \n",
        "plt.legend() \n",
        "plt.show()"
      ],
      "execution_count": 27,
      "outputs": [
        {
          "output_type": "display_data",
          "data": {
            "image/png": "[encoded data removed]",
            "text/plain": [
              "<Figure size 432x288 with 1 Axes>"
            ]
          },
          "metadata": {
            "tags": []
          }
        }
      ]
    },
    {
      "cell_type": "markdown",
      "metadata": {
        "colab_type": "text",
        "id": "uF2tPX2JMgvN"
      },
      "source": [
        "### 3b)-Words' frequency"
      ]
    },
    {
      "cell_type": "code",
      "metadata": {
        "colab_type": "code",
        "id": "jfq_DzpnLXeK",
        "outputId": "b7927fc5-8da4-4b24-cf72-fe71989a3dc7",
        "colab": {
          "base_uri": "https://localhost:8080/",
          "height": 212
        }
      },
      "source": [
        "# let’s check the 10 most frequently occurring words in our English text data\n",
        "freq_eng = pd.Series(' '.join(lines['eng']).split()).value_counts()[:10]\n",
        "freq_eng"
      ],
      "execution_count": 28,
      "outputs": [
        {
          "output_type": "execute_result",
          "data": {
            "text/plain": [
              "the     7233\n",
              "of      3200\n",
              "to      2664\n",
              "in      2286\n",
              "and     2148\n",
              "a       2122\n",
              "is      1152\n",
              "that    1044\n",
              "for      963\n",
              "on       831\n",
              "dtype: int64"
            ]
          },
          "metadata": {
            "tags": []
          },
          "execution_count": 28
        }
      ]
    },
    {
      "cell_type": "code",
      "metadata": {
        "colab_type": "code",
        "id": "CRqExh5_LKIC",
        "outputId": "84212edc-f8dd-44a0-d2fd-662f11990576",
        "colab": {
          "base_uri": "https://localhost:8080/",
          "height": 247
        }
      },
      "source": [
        "freq_ger = pd.Series(' '.join(lines['ger']).split()).value_counts()[:12]\n",
        "freq_ger"
      ],
      "execution_count": 29,
      "outputs": [
        {
          "output_type": "execute_result",
          "data": {
            "text/plain": [
              "_END      5000\n",
              "START_    5000\n",
              "die       3337\n",
              "der       3146\n",
              "und       2071\n",
              "in        1642\n",
              "von       1104\n",
              "das       1034\n",
              "zu        1031\n",
              "den       1003\n",
              "mit        782\n",
              "ist        780\n",
              "dtype: int64"
            ]
          },
          "metadata": {
            "tags": []
          },
          "execution_count": 29
        }
      ]
    },
    {
      "cell_type": "markdown",
      "metadata": {
        "colab_type": "text",
        "id": "S2jWXT3yM71x"
      },
      "source": [
        "As we have start and end so, I did check 12 so that we get idea of most fequent words"
      ]
    },
    {
      "cell_type": "markdown",
      "metadata": {
        "colab_type": "text",
        "id": "RDxvf8EbNCQI"
      },
      "source": [
        "**How about least occuring words**"
      ]
    },
    {
      "cell_type": "code",
      "metadata": {
        "colab_type": "code",
        "id": "nw37EWeeNFTc",
        "outputId": "d378f4ca-b5b7-4cab-fa7b-f09ccfc66f11",
        "colab": {
          "base_uri": "https://localhost:8080/",
          "height": 212
        }
      },
      "source": [
        "less_freq_eng = pd.Series(' '.join(lines['eng']).split()).value_counts()[-10:]\n",
        "less_freq_eng"
      ],
      "execution_count": 30,
      "outputs": [
        {
          "output_type": "execute_result",
          "data": {
            "text/plain": [
              "mogul         1\n",
              "littoral      1\n",
              "ezulweni      1\n",
              "ensuring      1\n",
              "tomb          1\n",
              "diminished    1\n",
              "magnussen     1\n",
              "usufruct      1\n",
              "alsadd        1\n",
              "reuter        1\n",
              "dtype: int64"
            ]
          },
          "metadata": {
            "tags": []
          },
          "execution_count": 30
        }
      ]
    },
    {
      "cell_type": "code",
      "metadata": {
        "colab_type": "code",
        "id": "aJqyRkyRNQno",
        "outputId": "d830e194-4e0f-44b3-e37b-1059c610716b",
        "colab": {
          "base_uri": "https://localhost:8080/",
          "height": 212
        }
      },
      "source": [
        "less_freq_ger = pd.Series(' '.join(lines['ger']).split()).value_counts()[-10:]\n",
        "less_freq_ger"
      ],
      "execution_count": 31,
      "outputs": [
        {
          "output_type": "execute_result",
          "data": {
            "text/plain": [
              "fänge          1\n",
              "wänden         1\n",
              "tagelangen     1\n",
              "karitatives    1\n",
              "engen          1\n",
              "duldung        1\n",
              "pflaster       1\n",
              "baie           1\n",
              "alassane       1\n",
              "papierkram     1\n",
              "dtype: int64"
            ]
          },
          "metadata": {
            "tags": []
          },
          "execution_count": 31
        }
      ]
    },
    {
      "cell_type": "markdown",
      "metadata": {
        "colab_type": "text",
        "id": "dLxosVx4wds5"
      },
      "source": [
        "### 3a)- Defining input and target"
      ]
    },
    {
      "cell_type": "code",
      "metadata": {
        "colab_type": "code",
        "id": "z8TUTnn4AC9c",
        "outputId": "b5f90abf-8a90-4eef-fe81-9b722d516fc2",
        "colab": {
          "base_uri": "https://localhost:8080/",
          "height": 34
        }
      },
      "source": [
        "input_words = sorted(list(all_eng_words))\n",
        "target_words = sorted(list(all_german_words))\n",
        "num_encoder_tokens = len(all_eng_words)\n",
        "num_decoder_tokens = len(all_german_words)\n",
        "num_encoder_tokens, num_decoder_tokens"
      ],
      "execution_count": 32,
      "outputs": [
        {
          "output_type": "execute_result",
          "data": {
            "text/plain": [
              "(13792, 19893)"
            ]
          },
          "metadata": {
            "tags": []
          },
          "execution_count": 32
        }
      ]
    },
    {
      "cell_type": "code",
      "metadata": {
        "colab_type": "code",
        "id": "G06K661ZADAo",
        "outputId": "9d1e3474-4a3d-4a98-a029-326e185ad787",
        "colab": {
          "base_uri": "https://localhost:8080/",
          "height": 34
        }
      },
      "source": [
        "num_decoder_tokens += 1 # For zero padding\n",
        "num_decoder_tokens"
      ],
      "execution_count": 33,
      "outputs": [
        {
          "output_type": "execute_result",
          "data": {
            "text/plain": [
              "19894"
            ]
          },
          "metadata": {
            "tags": []
          },
          "execution_count": 33
        }
      ]
    },
    {
      "cell_type": "code",
      "metadata": {
        "colab_type": "code",
        "id": "pw2TwZh6ADGE",
        "colab": {}
      },
      "source": [
        "input_token_index = dict([(word, i+1) for i, word in enumerate(input_words)])\n",
        "target_token_index = dict([(word, i+1) for i, word in enumerate(target_words)])"
      ],
      "execution_count": 0,
      "outputs": []
    },
    {
      "cell_type": "code",
      "metadata": {
        "colab_type": "code",
        "id": "3_DwM1HCADJk",
        "colab": {}
      },
      "source": [
        "reverse_input_char_index = dict((i, word) for word, i in input_token_index.items())\n",
        "reverse_target_char_index = dict((i, word) for word, i in target_token_index.items())"
      ],
      "execution_count": 0,
      "outputs": []
    },
    {
      "cell_type": "code",
      "metadata": {
        "colab_type": "code",
        "id": "jfgAU6cH_g-L",
        "colab": {}
      },
      "source": [
        "#print(reverse_input_char_index)"
      ],
      "execution_count": 0,
      "outputs": []
    },
    {
      "cell_type": "code",
      "metadata": {
        "colab_type": "code",
        "id": "WVLHBLON_kQY",
        "colab": {}
      },
      "source": [
        "#print(reverse_target_char_index)"
      ],
      "execution_count": 0,
      "outputs": []
    },
    {
      "cell_type": "markdown",
      "metadata": {
        "colab_type": "text",
        "id": "2SKleAlZwdtA"
      },
      "source": [
        "### 3b)-Train - Test Split\n",
        "\n",
        "For validation"
      ]
    },
    {
      "cell_type": "code",
      "metadata": {
        "colab_type": "code",
        "id": "kj_K6FfeAeYC",
        "outputId": "6f0a3c64-8e03-4041-b884-7c1586cd45bd",
        "colab": {
          "base_uri": "https://localhost:8080/",
          "height": 34
        }
      },
      "source": [
        "X, y = lines.eng, lines.ger #X being input, y being target\n",
        "X_train, X_test, y_train, y_test = train_test_split(X, y, test_size = 0.2)\n",
        "X_train.shape, X_test.shape"
      ],
      "execution_count": 38,
      "outputs": [
        {
          "output_type": "execute_result",
          "data": {
            "text/plain": [
              "((4000,), (1000,))"
            ]
          },
          "metadata": {
            "tags": []
          },
          "execution_count": 38
        }
      ]
    },
    {
      "cell_type": "markdown",
      "metadata": {
        "colab_type": "text",
        "id": "LZYt7v-fCOQt"
      },
      "source": [
        "**Save the train and test dataframes for reproducing the results later, as they are shuffled**"
      ]
    },
    {
      "cell_type": "code",
      "metadata": {
        "colab_type": "code",
        "id": "GvpxI3i7A3BT",
        "colab": {}
      },
      "source": [
        "X_train.to_pickle('X_train.pkl')\n",
        "X_test.to_pickle('X_test.pkl')"
      ],
      "execution_count": 0,
      "outputs": []
    },
    {
      "cell_type": "code",
      "metadata": {
        "colab_type": "code",
        "id": "f99GUE2iA3E5",
        "colab": {}
      },
      "source": [
        "def generate_batch(X = X_train, y = y_train, batch_size = 128):\n",
        "    ''' Generate a batch of data '''\n",
        "    while True:\n",
        "        for j in range(0, len(X), batch_size):\n",
        "            encoder_input_data = np.zeros((batch_size, max_length_src),dtype='float32')\n",
        "            decoder_input_data = np.zeros((batch_size, max_length_tar),dtype='float32')\n",
        "            decoder_target_data = np.zeros((batch_size, max_length_tar, num_decoder_tokens),dtype='float32')\n",
        "            for i, (input_text, target_text) in enumerate(zip(X[j:j+batch_size], y[j:j+batch_size])):\n",
        "                for t, word in enumerate(input_text.split()):\n",
        "                    encoder_input_data[i, t] = input_token_index[word] # encoder input seq\n",
        "                for t, word in enumerate(target_text.split()):\n",
        "                    if t<len(target_text.split())-1:\n",
        "                        decoder_input_data[i, t] = target_token_index[word] # decoder input seq\n",
        "                    if t>0:\n",
        "                        # decoder target sequence (one hot encoded)\n",
        "                        # does not include the START_ token\n",
        "                        # Offset by one timestep\n",
        "                        decoder_target_data[i, t - 1, target_token_index[word]] = 1.\n",
        "            yield([encoder_input_data, decoder_input_data], decoder_target_data)"
      ],
      "execution_count": 0,
      "outputs": []
    },
    {
      "cell_type": "markdown",
      "metadata": {
        "colab_type": "text",
        "id": "G_MQxfbrCj_E"
      },
      "source": [
        "# 4)-Encoder - Decoder Model Architecture"
      ]
    },
    {
      "cell_type": "code",
      "metadata": {
        "colab_type": "code",
        "id": "WAKup9U3A3II",
        "colab": {}
      },
      "source": [
        "latent_dim = 50"
      ],
      "execution_count": 0,
      "outputs": []
    },
    {
      "cell_type": "code",
      "metadata": {
        "colab_type": "code",
        "id": "NVWXpjPeA3K4",
        "colab": {
          "base_uri": "https://localhost:8080/",
          "height": 176
        },
        "outputId": "c2ec4666-db7f-469b-cb09-a420a467299b"
      },
      "source": [
        "# Encoder\n",
        "encoder_inputs = Input(shape=(None,))\n",
        "enc_emb =  Embedding(num_encoder_tokens, latent_dim, mask_zero = True)(encoder_inputs)\n",
        "encoder_lstm = LSTM(latent_dim, return_state=True)\n",
        "encoder_outputs, state_h, state_c = encoder_lstm(enc_emb)\n",
        "# We discard `encoder_outputs` and only keep the states.\n",
        "encoder_states = [state_h, state_c]"
      ],
      "execution_count": 42,
      "outputs": [
        {
          "output_type": "stream",
          "text": [
            "WARNING:tensorflow:From /usr/local/lib/python3.6/dist-packages/keras/backend/tensorflow_backend.py:66: The name tf.get_default_graph is deprecated. Please use tf.compat.v1.get_default_graph instead.\n",
            "\n",
            "WARNING:tensorflow:From /usr/local/lib/python3.6/dist-packages/keras/backend/tensorflow_backend.py:541: The name tf.placeholder is deprecated. Please use tf.compat.v1.placeholder instead.\n",
            "\n",
            "WARNING:tensorflow:From /usr/local/lib/python3.6/dist-packages/keras/backend/tensorflow_backend.py:4432: The name tf.random_uniform is deprecated. Please use tf.random.uniform instead.\n",
            "\n",
            "WARNING:tensorflow:From /usr/local/lib/python3.6/dist-packages/keras/backend/tensorflow_backend.py:3239: add_dispatch_support.<locals>.wrapper (from tensorflow.python.ops.array_ops) is deprecated and will be removed in a future version.\n",
            "Instructions for updating:\n",
            "Use tf.where in 2.0, which has the same broadcast rule as np.where\n"
          ],
          "name": "stdout"
        }
      ]
    },
    {
      "cell_type": "code",
      "metadata": {
        "colab_type": "code",
        "id": "y5NPVx5SAebD",
        "colab": {}
      },
      "source": [
        "# Set up the decoder, using `encoder_states` as initial state.\n",
        "decoder_inputs = Input(shape=(None,))\n",
        "dec_emb_layer = Embedding(num_decoder_tokens, latent_dim, mask_zero = True)\n",
        "dec_emb = dec_emb_layer(decoder_inputs)\n",
        "# We set up our decoder to return full output sequences,\n",
        "# and to return internal states as well. We don't use the\n",
        "# return states in the training model, but we will use them in inference.\n",
        "decoder_lstm = LSTM(latent_dim, return_sequences=True, return_state=True)\n",
        "decoder_outputs, _, _ = decoder_lstm(dec_emb,\n",
        "                                     initial_state=encoder_states)\n",
        "decoder_dense = Dense(num_decoder_tokens, activation='softmax')\n",
        "decoder_outputs = decoder_dense(decoder_outputs)\n",
        "\n",
        "# Define the model that will turn\n",
        "# `encoder_input_data` & `decoder_input_data` into `decoder_target_data`\n",
        "model = Model([encoder_inputs, decoder_inputs], decoder_outputs)"
      ],
      "execution_count": 0,
      "outputs": []
    },
    {
      "cell_type": "code",
      "metadata": {
        "colab_type": "code",
        "id": "jmJpG9LHAegu",
        "colab": {
          "base_uri": "https://localhost:8080/",
          "height": 87
        },
        "outputId": "4dbb183a-1bc1-4a1e-a913-f2903fe47647"
      },
      "source": [
        "model.compile(optimizer='rmsprop', loss='categorical_crossentropy', metrics=['acc'])"
      ],
      "execution_count": 44,
      "outputs": [
        {
          "output_type": "stream",
          "text": [
            "WARNING:tensorflow:From /usr/local/lib/python3.6/dist-packages/keras/optimizers.py:793: The name tf.train.Optimizer is deprecated. Please use tf.compat.v1.train.Optimizer instead.\n",
            "\n",
            "WARNING:tensorflow:From /usr/local/lib/python3.6/dist-packages/keras/backend/tensorflow_backend.py:3576: The name tf.log is deprecated. Please use tf.math.log instead.\n",
            "\n"
          ],
          "name": "stdout"
        }
      ]
    },
    {
      "cell_type": "code",
      "metadata": {
        "colab_type": "code",
        "id": "ZYb2KO_TAepD",
        "colab": {}
      },
      "source": [
        "#from IPython.display import Image\n",
        "#Image(retina=True, filename='train.png')"
      ],
      "execution_count": 0,
      "outputs": []
    },
    {
      "cell_type": "code",
      "metadata": {
        "colab_type": "code",
        "id": "dEJCmevEAesV",
        "colab": {}
      },
      "source": [
        "train_samples = len(X_train)\n",
        "val_samples = len(X_test)\n",
        "batch_size = 128\n",
        "epochs = 15"
      ],
      "execution_count": 0,
      "outputs": []
    },
    {
      "cell_type": "code",
      "metadata": {
        "colab_type": "code",
        "id": "bYQOjYpjEmfJ",
        "outputId": "7cc6af52-72c0-4832-bc8b-4969ad0da870",
        "colab": {
          "base_uri": "https://localhost:8080/",
          "height": 443
        }
      },
      "source": [
        "model.summary()"
      ],
      "execution_count": 47,
      "outputs": [
        {
          "output_type": "stream",
          "text": [
            "Model: \"model_1\"\n",
            "__________________________________________________________________________________________________\n",
            "Layer (type)                    Output Shape         Param #     Connected to                     \n",
            "==================================================================================================\n",
            "input_1 (InputLayer)            (None, None)         0                                            \n",
            "__________________________________________________________________________________________________\n",
            "input_2 (InputLayer)            (None, None)         0                                            \n",
            "__________________________________________________________________________________________________\n",
            "embedding_1 (Embedding)         (None, None, 50)     689600      input_1[0][0]                    \n",
            "__________________________________________________________________________________________________\n",
            "embedding_2 (Embedding)         (None, None, 50)     994700      input_2[0][0]                    \n",
            "__________________________________________________________________________________________________\n",
            "lstm_1 (LSTM)                   [(None, 50), (None,  20200       embedding_1[0][0]                \n",
            "__________________________________________________________________________________________________\n",
            "lstm_2 (LSTM)                   [(None, None, 50), ( 20200       embedding_2[0][0]                \n",
            "                                                                 lstm_1[0][1]                     \n",
            "                                                                 lstm_1[0][2]                     \n",
            "__________________________________________________________________________________________________\n",
            "dense_1 (Dense)                 (None, None, 19894)  1014594     lstm_2[0][0]                     \n",
            "==================================================================================================\n",
            "Total params: 2,739,294\n",
            "Trainable params: 2,739,294\n",
            "Non-trainable params: 0\n",
            "__________________________________________________________________________________________________\n"
          ],
          "name": "stdout"
        }
      ]
    },
    {
      "cell_type": "code",
      "metadata": {
        "colab_type": "code",
        "id": "8_dLHRGWAemn",
        "outputId": "56d5bca4-725d-443e-df32-02af9c733ef3",
        "colab": {
          "base_uri": "https://localhost:8080/",
          "height": 585
        }
      },
      "source": [
        "history=model.fit_generator(generator = generate_batch(X_train, y_train, batch_size = batch_size),\n",
        "                    steps_per_epoch = train_samples//batch_size,\n",
        "                    epochs=epochs,\n",
        "                    validation_data = generate_batch(X_test, y_test, batch_size = batch_size),\n",
        "                    validation_steps = val_samples//batch_size)"
      ],
      "execution_count": 48,
      "outputs": [
        {
          "output_type": "stream",
          "text": [
            "WARNING:tensorflow:From /usr/local/lib/python3.6/dist-packages/keras/backend/tensorflow_backend.py:1033: The name tf.assign_add is deprecated. Please use tf.compat.v1.assign_add instead.\n",
            "\n",
            "Epoch 1/15\n",
            "31/31 [==============================] - 52s 2s/step - loss: 9.0498 - acc: 0.0319 - val_loss: 8.0673 - val_acc: 0.0345\n",
            "Epoch 2/15\n",
            "31/31 [==============================] - 44s 1s/step - loss: 7.6922 - acc: 0.0361 - val_loss: 7.7200 - val_acc: 0.0353\n",
            "Epoch 3/15\n",
            "31/31 [==============================] - 44s 1s/step - loss: 7.4609 - acc: 0.0502 - val_loss: 7.7620 - val_acc: 0.0542\n",
            "Epoch 4/15\n",
            "31/31 [==============================] - 44s 1s/step - loss: 7.4275 - acc: 0.0536 - val_loss: 7.8627 - val_acc: 0.0552\n",
            "Epoch 5/15\n",
            "31/31 [==============================] - 44s 1s/step - loss: 7.4153 - acc: 0.0537 - val_loss: 7.9381 - val_acc: 0.0541\n",
            "Epoch 6/15\n",
            "31/31 [==============================] - 44s 1s/step - loss: 7.3924 - acc: 0.0537 - val_loss: 8.0113 - val_acc: 0.0537\n",
            "Epoch 7/15\n",
            "31/31 [==============================] - 44s 1s/step - loss: 7.3408 - acc: 0.0537 - val_loss: 8.0007 - val_acc: 0.0545\n",
            "Epoch 8/15\n",
            "31/31 [==============================] - 44s 1s/step - loss: 7.2937 - acc: 0.0543 - val_loss: 7.9923 - val_acc: 0.0545\n",
            "Epoch 9/15\n",
            "31/31 [==============================] - 44s 1s/step - loss: 7.2548 - acc: 0.0599 - val_loss: 8.0011 - val_acc: 0.0589\n",
            "Epoch 10/15\n",
            "31/31 [==============================] - 44s 1s/step - loss: 7.2203 - acc: 0.0616 - val_loss: 7.9822 - val_acc: 0.0626\n",
            "Epoch 11/15\n",
            "31/31 [==============================] - 45s 1s/step - loss: 7.1853 - acc: 0.0640 - val_loss: 7.9628 - val_acc: 0.0645\n",
            "Epoch 12/15\n",
            "31/31 [==============================] - 45s 1s/step - loss: 7.1520 - acc: 0.0667 - val_loss: 7.9366 - val_acc: 0.0700\n",
            "Epoch 13/15\n",
            "31/31 [==============================] - 45s 1s/step - loss: 7.1120 - acc: 0.0709 - val_loss: 7.9189 - val_acc: 0.0705\n",
            "Epoch 14/15\n",
            "31/31 [==============================] - 45s 1s/step - loss: 7.0749 - acc: 0.0745 - val_loss: 7.9272 - val_acc: 0.0750\n",
            "Epoch 15/15\n",
            "31/31 [==============================] - 44s 1s/step - loss: 7.0368 - acc: 0.0772 - val_loss: 7.9108 - val_acc: 0.0782\n"
          ],
          "name": "stdout"
        }
      ]
    },
    {
      "cell_type": "markdown",
      "metadata": {
        "id": "Lkq5_krINm39",
        "colab_type": "text"
      },
      "source": [
        "Results are consistent for smaller data sample of 2015. <br>\n",
        "Validation accuracy is too low and loss(reflects error) is high. I wonder if we could predict any good results out of it?"
      ]
    },
    {
      "cell_type": "code",
      "metadata": {
        "colab_type": "code",
        "id": "S5p1pg6XAekB",
        "colab": {}
      },
      "source": [
        "# save model\n",
        "model.save_weights('translate_attempt4.h5')"
      ],
      "execution_count": 0,
      "outputs": []
    },
    {
      "cell_type": "code",
      "metadata": {
        "colab_type": "code",
        "id": "Bg0C_Xo0Aedy",
        "colab": {}
      },
      "source": [
        "# for later use even in other notebooks\n",
        "model.load_weights('translate_attempt4.h5')"
      ],
      "execution_count": 0,
      "outputs": []
    },
    {
      "cell_type": "markdown",
      "metadata": {
        "colab_type": "text",
        "id": "5MuBJTzQNTVn"
      },
      "source": [
        "# 5)- Inference Setup"
      ]
    },
    {
      "cell_type": "code",
      "metadata": {
        "colab_type": "code",
        "id": "DYLNM2LFNMAp",
        "colab": {}
      },
      "source": [
        "# Encode the input sequence to get the \"thought vectors\"\n",
        "encoder_model = Model(encoder_inputs, encoder_states)\n",
        "\n",
        "# Decoder setup\n",
        "# Below tensors will hold the states of the previous time step\n",
        "decoder_state_input_h = Input(shape=(latent_dim,))\n",
        "decoder_state_input_c = Input(shape=(latent_dim,))\n",
        "decoder_states_inputs = [decoder_state_input_h, decoder_state_input_c]\n",
        "\n",
        "dec_emb2= dec_emb_layer(decoder_inputs) # Get the embeddings of the decoder sequence\n",
        "\n",
        "# To predict the next word in the sequence, set the initial states to the states from the previous time step\n",
        "decoder_outputs2, state_h2, state_c2 = decoder_lstm(dec_emb2, initial_state=decoder_states_inputs)\n",
        "decoder_states2 = [state_h2, state_c2]\n",
        "decoder_outputs2 = decoder_dense(decoder_outputs2) # A dense softmax layer to generate prob dist. over the target vocabulary\n",
        "\n",
        "# Final decoder model\n",
        "decoder_model = Model(\n",
        "    [decoder_inputs] + decoder_states_inputs,\n",
        "    [decoder_outputs2] + decoder_states2)"
      ],
      "execution_count": 0,
      "outputs": []
    },
    {
      "cell_type": "markdown",
      "metadata": {
        "colab_type": "text",
        "id": "yp5DWmhDNaSX"
      },
      "source": [
        "# Decode sample sequeces"
      ]
    },
    {
      "cell_type": "code",
      "metadata": {
        "colab_type": "code",
        "id": "qZnHAo2KNX1R",
        "colab": {}
      },
      "source": [
        "def decode_sequence(input_seq):\n",
        "    # Encode the input as state vectors.\n",
        "    states_value = encoder_model.predict(input_seq)\n",
        "    # Generate empty target sequence of length 1.\n",
        "    target_seq = np.zeros((1,1))\n",
        "    \n",
        "    \n",
        "    # Populate the first character of target sequence with the start character.\n",
        "    target_seq[0, 0] = target_token_index['START_']\n",
        "  \n",
        "\n",
        "    # Sampling loop for a batch of sequences\n",
        "    # (to simplify, here we assume a batch of size 1).\n",
        "    stop_condition = False\n",
        "    decoded_sentence = ''\n",
        "    while not stop_condition:\n",
        "        output_tokens, h, c = decoder_model.predict([target_seq] + states_value)\n",
        "\n",
        "        # Sample a token\n",
        "        sampled_token_index = np.argmax(output_tokens[0, -1, :])\n",
        "        sampled_char = reverse_target_char_index[sampled_token_index]\n",
        "        decoded_sentence += ' '+sampled_char\n",
        "\n",
        "        # Exit condition: either hit max length\n",
        "        # or find stop character.\n",
        "        if (sampled_char == '_END' or\n",
        "           len(decoded_sentence) > 50):\n",
        "            stop_condition = True\n",
        "\n",
        "        # Update the target sequence (of length 1).\n",
        "        target_seq = np.zeros((1,1))\n",
        "        target_seq[0, 0] = sampled_token_index\n",
        "\n",
        "        # Update states\n",
        "        states_value = [h, c]\n",
        "\n",
        "    return decoded_sentence"
      ],
      "execution_count": 0,
      "outputs": []
    },
    {
      "cell_type": "markdown",
      "metadata": {
        "id": "2F5S3e5yVLTQ",
        "colab_type": "text"
      },
      "source": [
        "# 6)- Model Validation"
      ]
    },
    {
      "cell_type": "markdown",
      "metadata": {
        "colab_type": "text",
        "id": "BmOR00fXNgFe"
      },
      "source": [
        "### 6a.Evaluation on Train Dataset"
      ]
    },
    {
      "cell_type": "code",
      "metadata": {
        "colab_type": "code",
        "id": "Vm_zRElrNd39",
        "colab": {}
      },
      "source": [
        "train_gen = generate_batch(X_train, y_train, batch_size = 1)\n",
        "k=-1"
      ],
      "execution_count": 0,
      "outputs": []
    },
    {
      "cell_type": "code",
      "metadata": {
        "colab_type": "code",
        "id": "gUFD9t9ENhbG",
        "outputId": "b3c692dd-2901-42ce-e1ce-1d7a722c42e4",
        "colab": {
          "base_uri": "https://localhost:8080/",
          "height": 70
        }
      },
      "source": [
        "k+=1\n",
        "(input_seq, actual_output), _ = next(train_gen)\n",
        "decoded_sentence = decode_sequence(input_seq)\n",
        "print('Input English sentence:', X_train[k:k+1].values[0])\n",
        "print('Actual German Translation:', y_train[k:k+1].values[0][6:-4])\n",
        "print('Predicted German Translation:', decoded_sentence[:-4])"
      ],
      "execution_count": 54,
      "outputs": [
        {
          "output_type": "stream",
          "text": [
            "Input English sentence: they insist with good reason on the setback of his naive dialogue with iran on the premature departure of the boys from iraq his tergiversations in libya labelling him weak\n",
            "Actual German Translation:  sie beharren zu recht auf dem misserfolg seines naiven zwiegespräches mit dem iran des voreiligen abzugs seinerjungs aus dem irak seiner unentschlossenheit in libyen was ihm ebenfalls den ruf der schwäche einbrachte \n",
            "Predicted German Translation:  die die die die der der der der der der der der er\n"
          ],
          "name": "stdout"
        }
      ]
    },
    {
      "cell_type": "markdown",
      "metadata": {
        "colab_type": "text",
        "id": "2tpV8t7HOc8R"
      },
      "source": [
        "### 6b. Evaluation on Validation Dataset"
      ]
    },
    {
      "cell_type": "code",
      "metadata": {
        "colab_type": "code",
        "id": "Ew_6eBkXNhkm",
        "colab": {}
      },
      "source": [
        "val_gen = generate_batch(X_test, y_test, batch_size = 1)\n",
        "k=-1"
      ],
      "execution_count": 0,
      "outputs": []
    },
    {
      "cell_type": "code",
      "metadata": {
        "colab_type": "code",
        "id": "JAc4u_sbOgV8",
        "outputId": "6dbe2e5f-0a45-4190-b197-3be3867806fa",
        "colab": {
          "base_uri": "https://localhost:8080/",
          "height": 70
        }
      },
      "source": [
        "k+=1\n",
        "(input_seq, actual_output), _ = next(val_gen)\n",
        "decoded_sentence = decode_sequence(input_seq)\n",
        "print('Input English sentence:', X_test[k:k+1].values[0])\n",
        "print('Actual German Translation:', y_test[k:k+1].values[0][6:-4])\n",
        "print('Predicted German Translation:', decoded_sentence[:-4])"
      ],
      "execution_count": 56,
      "outputs": [
        {
          "output_type": "stream",
          "text": [
            "Input English sentence: next comes temperament and inner qualities\n",
            "Actual German Translation:  dann kommen temperament und innere qualitäten \n",
            "Predicted German Translation:  die der \n"
          ],
          "name": "stdout"
        }
      ]
    },
    {
      "cell_type": "markdown",
      "metadata": {
        "id": "F6U92GUgNu3h",
        "colab_type": "text"
      },
      "source": [
        "**As expected, we got no good results. We better go back to data preprocessing part and re-build our model**"
      ]
    },
    {
      "cell_type": "markdown",
      "metadata": {
        "id": "Ly05SPhEVUln",
        "colab_type": "text"
      },
      "source": [
        "### 6c. Plotting Loss and Accuracy"
      ]
    },
    {
      "cell_type": "code",
      "metadata": {
        "id": "BzPN7jzAYFHZ",
        "colab_type": "code",
        "outputId": "40e3d38e-05e0-4c83-aa83-fc0d73fdc4fd",
        "colab": {
          "base_uri": "https://localhost:8080/",
          "height": 294
        }
      },
      "source": [
        "plt.plot(history.history['loss']) \n",
        "plt.plot(history.history['val_loss']) \n",
        "plt.legend(['train','validation']) \n",
        "plt.suptitle('Results for Loss', fontsize=16)\n",
        "plt.show()"
      ],
      "execution_count": 57,
      "outputs": [
        {
          "output_type": "display_data",
          "data": {
            "image/png": "[encoded data removed]",
            "text/plain": [
              "<Figure size 432x288 with 1 Axes>"
            ]
          },
          "metadata": {
            "tags": []
          }
        }
      ]
    },
    {
      "cell_type": "code",
      "metadata": {
        "id": "UD9qYqC-Z1Yg",
        "colab_type": "code",
        "outputId": "586762d3-972a-455d-8164-33f255877d68",
        "colab": {
          "base_uri": "https://localhost:8080/",
          "height": 294
        }
      },
      "source": [
        "plt.plot(history.history['acc']) \n",
        "plt.plot(history.history['val_acc']) \n",
        "plt.legend(['train','validation']) \n",
        "plt.suptitle('Results for Accuracy', fontsize=16)\n",
        "plt.show()"
      ],
      "execution_count": 58,
      "outputs": [
        {
          "output_type": "display_data",
          "data": {
            "image/png": "[encoded data removed]",
            "text/plain": [
              "<Figure size 432x288 with 1 Axes>"
            ]
          },
          "metadata": {
            "tags": []
          }
        }
      ]
    },
    {
      "cell_type": "markdown",
      "metadata": {
        "id": "cMOkMLh_XDXj",
        "colab_type": "text"
      },
      "source": [
        "- We can see that train and validation accuracies are low like in previous. Random sample has not made much difference.\n",
        "\n",
        "Adding more rows is crushing my system. Either I need a better processor or I change my strategy."
      ]
    },
    {
      "cell_type": "code",
      "metadata": {
        "id": "v5LXyas_-oB2",
        "colab_type": "code",
        "colab": {}
      },
      "source": [
        ""
      ],
      "execution_count": 0,
      "outputs": []
    }
  ]
}