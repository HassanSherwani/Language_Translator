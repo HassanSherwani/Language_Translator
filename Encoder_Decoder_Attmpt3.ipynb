{
  "nbformat": 4,
  "nbformat_minor": 0,
  "metadata": {
    "colab": {
      "name": "Encoder_Decoder_Attmpt3.ipynb",
      "version": "0.3.2",
      "provenance": [],
      "collapsed_sections": [],
      "machine_shape": "hm"
    },
    "kernelspec": {
      "name": "python3",
      "display_name": "Python 3"
    },
    "language_info": {
      "codemirror_mode": {
        "name": "ipython",
        "version": 3
      },
      "file_extension": ".py",
      "mimetype": "text/x-python",
      "name": "python",
      "nbconvert_exporter": "python",
      "pygments_lexer": "ipython3",
      "version": "3.6.3"
    },
    "accelerator": "GPU"
  },
  "cells": [
    {
      "cell_type": "markdown",
      "metadata": {
        "colab_type": "text",
        "id": "QJxJLfT6m4zo"
      },
      "source": [
        "# Machine Translation\n",
        "\n",
        "English-German Translation\n",
        "\n",
        "using only 2015 data"
      ]
    },
    {
      "cell_type": "markdown",
      "metadata": {
        "colab_type": "text",
        "id": "YvFSu3KOnCQI"
      },
      "source": [
        "# 1)- Importing key modules"
      ]
    },
    {
      "cell_type": "code",
      "metadata": {
        "colab_type": "code",
        "id": "ydSdCo4JzRta",
        "colab": {}
      },
      "source": [
        "#support both Python 2 and Python 3 with minimal overhead.\n",
        "from __future__ import absolute_import, division, print_function\n",
        "#ignore warnings\n",
        "import warnings\n",
        "warnings.filterwarnings('ignore')"
      ],
      "execution_count": 0,
      "outputs": []
    },
    {
      "cell_type": "code",
      "metadata": {
        "colab_type": "code",
        "id": "eXS6Ad_pwdsT",
        "colab": {}
      },
      "source": [
        "# What's life without style :). So, let's add style to our dataframes\n",
        "#from IPython.core.display import HTML\n",
        "#css = open('style-table.css').read() + open('style-notebook.css').read()\n",
        "#HTML('<style>{}</style>'.format(css))"
      ],
      "execution_count": 0,
      "outputs": []
    },
    {
      "cell_type": "code",
      "metadata": {
        "colab_type": "code",
        "id": "HXdjBXc-zNXe",
        "colab": {}
      },
      "source": [
        "import pandas as pd \n",
        "import string \n",
        "import pickle\n",
        "from pickle import dump\n",
        "from pickle import load\n",
        "from string import digits\n",
        "import re \n",
        "from sklearn.utils import shuffle\n",
        "from sklearn.model_selection import train_test_split\n",
        "from numpy import array, argmax, random, take \n",
        "import matplotlib.pyplot as plt \n",
        "%matplotlib inline \n",
        "pd.set_option('display.max_colwidth', 200)"
      ],
      "execution_count": 0,
      "outputs": []
    },
    {
      "cell_type": "code",
      "metadata": {
        "colab_type": "code",
        "id": "ElRcz5K3hJrC",
        "colab": {}
      },
      "source": [
        "from keras.models import Model\n",
        "from keras.models import Sequential \n",
        "from keras.layers import Dense, LSTM, Embedding,Input,RepeatVector\n",
        "from keras.preprocessing.text import Tokenizer\n",
        "from keras.callbacks import ModelCheckpoint \n",
        "from keras.preprocessing.sequence import pad_sequences\n",
        "from keras.models import load_model \n",
        "from keras import optimizers "
      ],
      "execution_count": 0,
      "outputs": []
    },
    {
      "cell_type": "code",
      "metadata": {
        "colab_type": "code",
        "id": "yI5oZH-mwmWL",
        "outputId": "c0a6bb64-2e9c-4474-905b-99c82f40c2bc",
        "colab": {
          "base_uri": "https://localhost:8080/",
          "height": 34
        }
      },
      "source": [
        "!  pip install version_information"
      ],
      "execution_count": 63,
      "outputs": [
        {
          "output_type": "stream",
          "text": [
            "Requirement already satisfied: version_information in /usr/local/lib/python3.6/dist-packages (1.0.3)\n"
          ],
          "name": "stdout"
        }
      ]
    },
    {
      "cell_type": "code",
      "metadata": {
        "colab_type": "code",
        "id": "91NCx_C7wdsZ",
        "outputId": "b61f460a-526e-4c44-cc9c-d320e805abcc",
        "colab": {
          "base_uri": "https://localhost:8080/",
          "height": 195
        }
      },
      "source": [
        "# first install: pip install version_information\n",
        "%reload_ext version_information\n",
        "%version_information pandas,re,sklearn, matplotlib,keras"
      ],
      "execution_count": 64,
      "outputs": [
        {
          "output_type": "execute_result",
          "data": {
            "text/latex": "\\begin{tabular}{|l|l|}\\hline\n{\\bf Software} & {\\bf Version} \\\\ \\hline\\hline\nPython & 3.6.8 64bit [GCC 8.0.1 20180414 (experimental) [trunk revision 259383] \\\\ \\hline\nIPython & 5.5.0 \\\\ \\hline\nOS & Linux 4.14.137+ x86\\_64 with Ubuntu 18.04 bionic \\\\ \\hline\npandas & 0.24.2 \\\\ \\hline\nre & 2.2.1 \\\\ \\hline\nsklearn & 0.21.3 \\\\ \\hline\nmatplotlib & 3.0.3 \\\\ \\hline\nkeras & 2.2.5 \\\\ \\hline\n\\hline \\multicolumn{2}{|l|}{Wed Sep 11 15:02:58 2019 UTC} \\\\ \\hline\n\\end{tabular}\n",
            "application/json": {
              "Software versions": [
                {
                  "version": "3.6.8 64bit [GCC 8.0.1 20180414 (experimental) [trunk revision 259383]",
                  "module": "Python"
                },
                {
                  "version": "5.5.0",
                  "module": "IPython"
                },
                {
                  "version": "Linux 4.14.137+ x86_64 with Ubuntu 18.04 bionic",
                  "module": "OS"
                },
                {
                  "version": "0.24.2",
                  "module": "pandas"
                },
                {
                  "version": "2.2.1",
                  "module": "re"
                },
                {
                  "version": "0.21.3",
                  "module": "sklearn"
                },
                {
                  "version": "3.0.3",
                  "module": "matplotlib"
                },
                {
                  "version": "2.2.5",
                  "module": "keras"
                }
              ]
            },
            "text/html": [
              "<table><tr><th>Software</th><th>Version</th></tr><tr><td>Python</td><td>3.6.8 64bit [GCC 8.0.1 20180414 (experimental) [trunk revision 259383]</td></tr><tr><td>IPython</td><td>5.5.0</td></tr><tr><td>OS</td><td>Linux 4.14.137+ x86_64 with Ubuntu 18.04 bionic</td></tr><tr><td>pandas</td><td>0.24.2</td></tr><tr><td>re</td><td>2.2.1</td></tr><tr><td>sklearn</td><td>0.21.3</td></tr><tr><td>matplotlib</td><td>3.0.3</td></tr><tr><td>keras</td><td>2.2.5</td></tr><tr><td colspan='2'>Wed Sep 11 15:02:58 2019 UTC</td></tr></table>"
            ],
            "text/plain": [
              "Software versions\n",
              "Python 3.6.8 64bit [GCC 8.0.1 20180414 (experimental) [trunk revision 259383]\n",
              "IPython 5.5.0\n",
              "OS Linux 4.14.137+ x86_64 with Ubuntu 18.04 bionic\n",
              "pandas 0.24.2\n",
              "re 2.2.1\n",
              "sklearn 0.21.3\n",
              "matplotlib 3.0.3\n",
              "keras 2.2.5\n",
              "Wed Sep 11 15:02:58 2019 UTC"
            ]
          },
          "metadata": {
            "tags": []
          },
          "execution_count": 64
        }
      ]
    },
    {
      "cell_type": "markdown",
      "metadata": {
        "colab_type": "text",
        "id": "XN_b91atnHye"
      },
      "source": [
        "# 2)- Reading Dataset"
      ]
    },
    {
      "cell_type": "code",
      "metadata": {
        "colab_type": "code",
        "id": "ZM1ZO53WhL_6",
        "colab": {}
      },
      "source": [
        "lines= pd.read_pickle('full_data.pkl')"
      ],
      "execution_count": 0,
      "outputs": []
    },
    {
      "cell_type": "code",
      "metadata": {
        "colab_type": "code",
        "id": "gws8XMBx-IfV",
        "outputId": "af26dd5e-23c5-4861-8865-34fc520420e9",
        "colab": {
          "base_uri": "https://localhost:8080/",
          "height": 34
        }
      },
      "source": [
        "lines.shape"
      ],
      "execution_count": 67,
      "outputs": [
        {
          "output_type": "execute_result",
          "data": {
            "text/plain": [
              "(22191, 2)"
            ]
          },
          "metadata": {
            "tags": []
          },
          "execution_count": 67
        }
      ]
    },
    {
      "cell_type": "code",
      "metadata": {
        "colab_type": "code",
        "id": "GdbfP26dHHIX",
        "outputId": "82a6fb69-b22a-4de2-c7a0-de6336a6253b",
        "colab": {
          "base_uri": "https://localhost:8080/",
          "height": 197
        }
      },
      "source": [
        "lines.head()"
      ],
      "execution_count": 68,
      "outputs": [
        {
          "output_type": "execute_result",
          "data": {
            "text/html": [
              "<div>\n",
              "<style scoped>\n",
              "    .dataframe tbody tr th:only-of-type {\n",
              "        vertical-align: middle;\n",
              "    }\n",
              "\n",
              "    .dataframe tbody tr th {\n",
              "        vertical-align: top;\n",
              "    }\n",
              "\n",
              "    .dataframe thead th {\n",
              "        text-align: right;\n",
              "    }\n",
              "</style>\n",
              "<table border=\"1\" class=\"dataframe\">\n",
              "  <thead>\n",
              "    <tr style=\"text-align: right;\">\n",
              "      <th></th>\n",
              "      <th>eng</th>\n",
              "      <th>ger</th>\n",
              "    </tr>\n",
              "  </thead>\n",
              "  <tbody>\n",
              "    <tr>\n",
              "      <th>0</th>\n",
              "      <td>Prague Stock Market falls to minus by the end of the trading day</td>\n",
              "      <td>Die Prager Börse stürzt gegen Geschäftsschluss ins Minus.</td>\n",
              "    </tr>\n",
              "    <tr>\n",
              "      <th>1</th>\n",
              "      <td>After a sharp drop in the morning</td>\n",
              "      <td>Nach dem steilen Abfall am Morgen konnte die Prager Börse die Verluste korrigieren.</td>\n",
              "    </tr>\n",
              "    <tr>\n",
              "      <th>2</th>\n",
              "      <td>Transactions with stocks from the Czech Energy Enterprise (ČEZ) reached nearly half of the regular daily trading.</td>\n",
              "      <td>Die Transaktionen mit den Aktien von ČEZ erreichten fast die Hälfte des normalen Tagesgeschäfts.</td>\n",
              "    </tr>\n",
              "    <tr>\n",
              "      <th>3</th>\n",
              "      <td>The Prague Stock Market immediately continued its fall from Monday at the beginning of Tuesday's trading</td>\n",
              "      <td>Die Prager Börse knüpfte gleich zu Beginn der Dienstagsgeschäfte an den Einbruch vom Montag an</td>\n",
              "    </tr>\n",
              "    <tr>\n",
              "      <th>4</th>\n",
              "      <td>This time the fall in stocks on Wall Street is responsible for the drop.</td>\n",
              "      <td>Diesmal lag der Grund für den Einbruch an der Wall Street.</td>\n",
              "    </tr>\n",
              "  </tbody>\n",
              "</table>\n",
              "</div>"
            ],
            "text/plain": [
              "                                                                                                                 eng                                                                                               ger\n",
              "0                                                   Prague Stock Market falls to minus by the end of the trading day                                         Die Prager Börse stürzt gegen Geschäftsschluss ins Minus.\n",
              "1                                                                                  After a sharp drop in the morning               Nach dem steilen Abfall am Morgen konnte die Prager Börse die Verluste korrigieren.\n",
              "2  Transactions with stocks from the Czech Energy Enterprise (ČEZ) reached nearly half of the regular daily trading.  Die Transaktionen mit den Aktien von ČEZ erreichten fast die Hälfte des normalen Tagesgeschäfts.\n",
              "3           The Prague Stock Market immediately continued its fall from Monday at the beginning of Tuesday's trading    Die Prager Börse knüpfte gleich zu Beginn der Dienstagsgeschäfte an den Einbruch vom Montag an\n",
              "4                                           This time the fall in stocks on Wall Street is responsible for the drop.                                        Diesmal lag der Grund für den Einbruch an der Wall Street."
            ]
          },
          "metadata": {
            "tags": []
          },
          "execution_count": 68
        }
      ]
    },
    {
      "cell_type": "markdown",
      "metadata": {
        "colab_type": "text",
        "id": "8532Vnqswdsh"
      },
      "source": [
        "As this is big data and I have a poor old computing machine. So, I ll use smaller sample. It got to be random to avoid sample biaseness"
      ]
    },
    {
      "cell_type": "code",
      "metadata": {
        "colab_type": "code",
        "id": "PZuWRYCZwdsh",
        "outputId": "4361ba50-9566-406c-ce87-3328f77574bf",
        "colab": {
          "base_uri": "https://localhost:8080/",
          "height": 564
        }
      },
      "source": [
        "lines.sample(15)"
      ],
      "execution_count": 69,
      "outputs": [
        {
          "output_type": "execute_result",
          "data": {
            "text/html": [
              "<div>\n",
              "<style scoped>\n",
              "    .dataframe tbody tr th:only-of-type {\n",
              "        vertical-align: middle;\n",
              "    }\n",
              "\n",
              "    .dataframe tbody tr th {\n",
              "        vertical-align: top;\n",
              "    }\n",
              "\n",
              "    .dataframe thead th {\n",
              "        text-align: right;\n",
              "    }\n",
              "</style>\n",
              "<table border=\"1\" class=\"dataframe\">\n",
              "  <thead>\n",
              "    <tr style=\"text-align: right;\">\n",
              "      <th></th>\n",
              "      <th>eng</th>\n",
              "      <th>ger</th>\n",
              "    </tr>\n",
              "  </thead>\n",
              "  <tbody>\n",
              "    <tr>\n",
              "      <th>19538</th>\n",
              "      <td>SABMiller was the stand-out stock on the market, jumping 20% after it received a bid approach from rival AB InBev.</td>\n",
              "      <td>SABMiller war die herausragende Aktie auf dem Markt und machte einen Sprung von 20 %, nachdem Übernahme-Angebot des Rivalen AB InBev eingegangen war.</td>\n",
              "    </tr>\n",
              "    <tr>\n",
              "      <th>11882</th>\n",
              "      <td>- When did you realise that you must be an artist?</td>\n",
              "      <td>- Wann wusstest du, dass du Maler werden musst?</td>\n",
              "    </tr>\n",
              "    <tr>\n",
              "      <th>14786</th>\n",
              "      <td>They themselves enjoy the fragrant, hot brew in a variet of formats.</td>\n",
              "      <td>Genießt das duftende heiße Gebräu in den verschiedensten Variationen selbst.</td>\n",
              "    </tr>\n",
              "    <tr>\n",
              "      <th>10762</th>\n",
              "      <td>Universal suffrage, in order to be the sine qua non of democracy, is not enough and can actually become a \"tool of oppression\" as once said the republican philosopher Etienne Vacherot.</td>\n",
              "      <td>Das allgemeine Wahlrecht, das notwendige Bedingung der Demokratie darstellt, ist hierfür nicht ausreichende Bedingung und kann ebenso gut zum\"Unterdrückungsinstrument\" werden, wie es damals der re...</td>\n",
              "    </tr>\n",
              "    <tr>\n",
              "      <th>11844</th>\n",
              "      <td>Or make it worse, by increasing the required volume of calculations.</td>\n",
              "      <td>Oder das Problem verstärken, da mehr Berechnungen notwendig wären.</td>\n",
              "    </tr>\n",
              "    <tr>\n",
              "      <th>16088</th>\n",
              "      <td>Pressure has been building on the FAA in recent years to ease restrictions on their use.</td>\n",
              "      <td>In den letzten Jahren hat sich der Druck auf die FAA erhöht, Einschränkungen für den Gebrauch zu lockern.</td>\n",
              "    </tr>\n",
              "    <tr>\n",
              "      <th>19975</th>\n",
              "      <td>However the Fed cannot ignore the less rosy global outlook.</td>\n",
              "      <td>Jedoch kann die Fed den weniger rosigen Ausblick auf globale Verhältnisse nicht ignorieren.</td>\n",
              "    </tr>\n",
              "    <tr>\n",
              "      <th>4598</th>\n",
              "      <td>The promise of FonPeek</td>\n",
              "      <td>Die Versprechungen von FonPeek</td>\n",
              "    </tr>\n",
              "    <tr>\n",
              "      <th>15723</th>\n",
              "      <td>The only recourse is to slash wages and public spending - spurred on by Berlin.</td>\n",
              "      <td>Die einzige Möglichkeit besteht darin, Löhne und öffentliche Ausgaben zu kürzen – angespornt von Berlin.</td>\n",
              "    </tr>\n",
              "    <tr>\n",
              "      <th>9906</th>\n",
              "      <td>Redefining the vocation</td>\n",
              "      <td>Berufung neu definieren</td>\n",
              "    </tr>\n",
              "    <tr>\n",
              "      <th>11814</th>\n",
              "      <td>For example, we had a project to control devices in public places, in which we thought about movements, not wide movements, but small, reserved ones.</td>\n",
              "      <td>Zum Beispiel arbeiteten wir im Bereich der Steuerung von Objekten auf öffentlichen Plätzen an einem Projekt, bei dem wir mit kurzen und knappen, statt mit ausladenden Gesten experimentierten.</td>\n",
              "    </tr>\n",
              "    <tr>\n",
              "      <th>1939</th>\n",
              "      <td>Even though there are similarities in the symptoms</td>\n",
              "      <td>Die Symptome sind oft ähnlich - Leberentzündung und Gelbsucht sind häufig</td>\n",
              "    </tr>\n",
              "    <tr>\n",
              "      <th>10932</th>\n",
              "      <td>The Italian company Modo Modo, based in Milan, decided to launch a designer notebook.</td>\n",
              "      <td>Das italienische Unternehmen Modo Modo, welches seinen Sitz in Milan hat, beschloss seinerzeit ein distinguiertes Designnotizbuch auf den Markt zu bringen.</td>\n",
              "    </tr>\n",
              "    <tr>\n",
              "      <th>14317</th>\n",
              "      <td>To date they have never been proved to exist.</td>\n",
              "      <td>Nachgewiesen wurden sie bis heute nicht.</td>\n",
              "    </tr>\n",
              "    <tr>\n",
              "      <th>17331</th>\n",
              "      <td>Henry is rehearsing a comedy, Rudy's Rare Records, which is based in part on an imaginary conversation with his father and has grown out of the Radio 4 series.</td>\n",
              "      <td>Henry probt für eine Komödie, Rudy's Rare Records, die teilweise auf einem imaginären Gespräch mit seinem Vater beruht und aus der Serie auf Radio 4 entstand.</td>\n",
              "    </tr>\n",
              "  </tbody>\n",
              "</table>\n",
              "</div>"
            ],
            "text/plain": [
              "                                                                                                                                                                                            eng                                                                                                                                                                                                      ger\n",
              "19538                                                                        SABMiller was the stand-out stock on the market, jumping 20% after it received a bid approach from rival AB InBev.                                                    SABMiller war die herausragende Aktie auf dem Markt und machte einen Sprung von 20 %, nachdem Übernahme-Angebot des Rivalen AB InBev eingegangen war.\n",
              "11882                                                                                                                                        - When did you realise that you must be an artist?                                                                                                                                                          - Wann wusstest du, dass du Maler werden musst?\n",
              "14786                                                                                                                      They themselves enjoy the fragrant, hot brew in a variet of formats.                                                                                                                             Genießt das duftende heiße Gebräu in den verschiedensten Variationen selbst.\n",
              "10762  Universal suffrage, in order to be the sine qua non of democracy, is not enough and can actually become a \"tool of oppression\" as once said the republican philosopher Etienne Vacherot.  Das allgemeine Wahlrecht, das notwendige Bedingung der Demokratie darstellt, ist hierfür nicht ausreichende Bedingung und kann ebenso gut zum\"Unterdrückungsinstrument\" werden, wie es damals der re...\n",
              "11844                                                                                                                      Or make it worse, by increasing the required volume of calculations.                                                                                                                                       Oder das Problem verstärken, da mehr Berechnungen notwendig wären.\n",
              "16088                                                                                                  Pressure has been building on the FAA in recent years to ease restrictions on their use.                                                                                                In den letzten Jahren hat sich der Druck auf die FAA erhöht, Einschränkungen für den Gebrauch zu lockern.\n",
              "19975                                                                                                                               However the Fed cannot ignore the less rosy global outlook.                                                                                                              Jedoch kann die Fed den weniger rosigen Ausblick auf globale Verhältnisse nicht ignorieren.\n",
              "4598                                                                                                                                                                     The promise of FonPeek                                                                                                                                                                           Die Versprechungen von FonPeek\n",
              "15723                                                                                                           The only recourse is to slash wages and public spending - spurred on by Berlin.                                                                                                 Die einzige Möglichkeit besteht darin, Löhne und öffentliche Ausgaben zu kürzen – angespornt von Berlin.\n",
              "9906                                                                                                                                                                    Redefining the vocation                                                                                                                                                                                  Berufung neu definieren\n",
              "11814                                     For example, we had a project to control devices in public places, in which we thought about movements, not wide movements, but small, reserved ones.          Zum Beispiel arbeiteten wir im Bereich der Steuerung von Objekten auf öffentlichen Plätzen an einem Projekt, bei dem wir mit kurzen und knappen, statt mit ausladenden Gesten experimentierten.\n",
              "1939                                                                                                                                         Even though there are similarities in the symptoms                                                                                                                                Die Symptome sind oft ähnlich - Leberentzündung und Gelbsucht sind häufig\n",
              "10932                                                                                                     The Italian company Modo Modo, based in Milan, decided to launch a designer notebook.                                              Das italienische Unternehmen Modo Modo, welches seinen Sitz in Milan hat, beschloss seinerzeit ein distinguiertes Designnotizbuch auf den Markt zu bringen.\n",
              "14317                                                                                                                                             To date they have never been proved to exist.                                                                                                                                                                 Nachgewiesen wurden sie bis heute nicht.\n",
              "17331                           Henry is rehearsing a comedy, Rudy's Rare Records, which is based in part on an imaginary conversation with his father and has grown out of the Radio 4 series.                                           Henry probt für eine Komödie, Rudy's Rare Records, die teilweise auf einem imaginären Gespräch mit seinem Vater beruht und aus der Serie auf Radio 4 entstand."
            ]
          },
          "metadata": {
            "tags": []
          },
          "execution_count": 69
        }
      ]
    },
    {
      "cell_type": "code",
      "metadata": {
        "id": "uX9epDW72fU8",
        "colab_type": "code",
        "colab": {}
      },
      "source": [
        "# choose 1st 5000 rows\n",
        "lines=lines[:5000]"
      ],
      "execution_count": 0,
      "outputs": []
    },
    {
      "cell_type": "markdown",
      "metadata": {
        "colab_type": "text",
        "id": "y4sjvE5Nwdsk"
      },
      "source": [
        "# 3)- Quick Preprocessing"
      ]
    },
    {
      "cell_type": "code",
      "metadata": {
        "colab_type": "code",
        "id": "GEvO1bfy-KKP",
        "colab": {}
      },
      "source": [
        "# Lowercase all characters\n",
        "lines.eng=lines.eng.apply(lambda x: x.lower())\n",
        "lines.ger=lines.ger.apply(lambda x: x.lower())"
      ],
      "execution_count": 0,
      "outputs": []
    },
    {
      "cell_type": "code",
      "metadata": {
        "colab_type": "code",
        "id": "9bLMfF59-KNX",
        "colab": {}
      },
      "source": [
        "# Remove quotes\n",
        "lines.eng=lines.eng.apply(lambda x: re.sub(\"'\", '', x))\n",
        "lines.ger=lines.ger.apply(lambda x: re.sub(\"'\", '', x))"
      ],
      "execution_count": 0,
      "outputs": []
    },
    {
      "cell_type": "code",
      "metadata": {
        "colab_type": "code",
        "id": "t-rYHNHd-KQK",
        "colab": {}
      },
      "source": [
        "exclude = set(string.punctuation) # Set of all special characters\n",
        "# Remove all the special characters\n",
        "lines.eng=lines.eng.apply(lambda x: ''.join(ch for ch in x if ch not in exclude))\n",
        "lines.ger=lines.ger.apply(lambda x: ''.join(ch for ch in x if ch not in exclude))"
      ],
      "execution_count": 0,
      "outputs": []
    },
    {
      "cell_type": "code",
      "metadata": {
        "colab_type": "code",
        "id": "bWGhz8JG-KVi",
        "colab": {}
      },
      "source": [
        "# Remove all numbers from text\n",
        "remove_digits = str.maketrans('', '', digits)\n",
        "lines.eng=lines.eng.apply(lambda x: x.translate(remove_digits))\n",
        "lines.ger=lines.ger.apply(lambda x: x.translate(remove_digits))"
      ],
      "execution_count": 0,
      "outputs": []
    },
    {
      "cell_type": "code",
      "metadata": {
        "colab_type": "code",
        "id": "qCJnKqIY-KYm",
        "colab": {}
      },
      "source": [
        "# Remove extra spaces\n",
        "lines.eng=lines.eng.apply(lambda x: x.strip())\n",
        "lines.ger=lines.ger.apply(lambda x: x.strip())\n",
        "lines.eng=lines.eng.apply(lambda x: re.sub(\" +\", \" \", x))\n",
        "lines.ger=lines.ger.apply(lambda x: re.sub(\" +\", \" \", x))"
      ],
      "execution_count": 0,
      "outputs": []
    },
    {
      "cell_type": "markdown",
      "metadata": {
        "colab_type": "text",
        "id": "-TJC18LaS_Qi"
      },
      "source": [
        "**Do threshold here**"
      ]
    },
    {
      "cell_type": "code",
      "metadata": {
        "colab_type": "code",
        "id": "9AwSMz4O-pKQ",
        "colab": {}
      },
      "source": [
        "# Add start and end tokens to target sequences. I am not German so , I am doing so for my ease\n",
        "lines.ger = lines.ger.apply(lambda x : 'START_ '+ x + ' _END')"
      ],
      "execution_count": 0,
      "outputs": []
    },
    {
      "cell_type": "code",
      "metadata": {
        "colab_type": "code",
        "id": "O-6Rm08s-yn9",
        "outputId": "d71e77d8-c6d1-46b3-8136-44abef5046f0",
        "colab": {
          "base_uri": "https://localhost:8080/",
          "height": 123
        }
      },
      "source": [
        "lines.ger[:5]"
      ],
      "execution_count": 77,
      "outputs": [
        {
          "output_type": "execute_result",
          "data": {
            "text/plain": [
              "0                                           START_ die prager börse stürzt gegen geschäftsschluss ins minus _END\n",
              "1                 START_ nach dem steilen abfall am morgen konnte die prager börse die verluste korrigieren _END\n",
              "2    START_ die transaktionen mit den aktien von čez erreichten fast die hälfte des normalen tagesgeschäfts _END\n",
              "3     START_ die prager börse knüpfte gleich zu beginn der dienstagsgeschäfte an den einbruch vom montag an _END\n",
              "4                                          START_ diesmal lag der grund für den einbruch an der wall street _END\n",
              "Name: ger, dtype: object"
            ]
          },
          "metadata": {
            "tags": []
          },
          "execution_count": 77
        }
      ]
    },
    {
      "cell_type": "code",
      "metadata": {
        "colab_type": "code",
        "id": "5slsI5P7-Ja-",
        "outputId": "0e00d6f4-0f93-4b60-c784-7bd466985d87",
        "colab": {
          "base_uri": "https://localhost:8080/",
          "height": 397
        }
      },
      "source": [
        "lines.sample(10)"
      ],
      "execution_count": 78,
      "outputs": [
        {
          "output_type": "execute_result",
          "data": {
            "text/html": [
              "<div>\n",
              "<style scoped>\n",
              "    .dataframe tbody tr th:only-of-type {\n",
              "        vertical-align: middle;\n",
              "    }\n",
              "\n",
              "    .dataframe tbody tr th {\n",
              "        vertical-align: top;\n",
              "    }\n",
              "\n",
              "    .dataframe thead th {\n",
              "        text-align: right;\n",
              "    }\n",
              "</style>\n",
              "<table border=\"1\" class=\"dataframe\">\n",
              "  <thead>\n",
              "    <tr style=\"text-align: right;\">\n",
              "      <th></th>\n",
              "      <th>eng</th>\n",
              "      <th>ger</th>\n",
              "    </tr>\n",
              "  </thead>\n",
              "  <tbody>\n",
              "    <tr>\n",
              "      <th>3332</th>\n",
              "      <td>if his death is confirmed somali would be the second senior alqaeda or taliban leader killed since september when a similar strike killed najmuddin jalolov the leader of a militant faction in the ...</td>\n",
              "      <td>START_ wenn sich sein tod bestätigt würde wäre somali der zweite führende al kaida oder talibanführer der seit september getötet wurde als bei einem ähnlichen angriff najmuddin jalolov der führer ...</td>\n",
              "    </tr>\n",
              "    <tr>\n",
              "      <th>848</th>\n",
              "      <td>retailers are to decide for themselves if they want pass on the price increases to their customers</td>\n",
              "      <td>START_ die einzelhändler sollen selbst entscheiden _END</td>\n",
              "    </tr>\n",
              "    <tr>\n",
              "      <th>1173</th>\n",
              "      <td>it is much more an inner personality and character</td>\n",
              "      <td>START_ ihre persönlichkeit und ihr charakter ist in ihren herzen _END</td>\n",
              "    </tr>\n",
              "    <tr>\n",
              "      <th>1779</th>\n",
              "      <td>but these measures are necessary</td>\n",
              "      <td>START_ aber diese maßnahmen sind notwendig _END</td>\n",
              "    </tr>\n",
              "    <tr>\n",
              "      <th>3285</th>\n",
              "      <td>wow really she said thoughtfully when told of the schools low professortostudent ratio</td>\n",
              "      <td>START_ wow wirklich sagte sie nachdenklich als ihr das niedrige professorzustudentenverhältnis der schule berichtet wurde _END</td>\n",
              "    </tr>\n",
              "    <tr>\n",
              "      <th>3867</th>\n",
              "      <td>as you are well aware you have no right to the use of the acronym explains the udfs office requiring that the nc remove immediately any mention of the udf name from all material and from their int...</td>\n",
              "      <td>START_ wie sie wissen haben sie kein anrecht auf die verwendung dieses siegels erklärte die geschäftsstelle der udf und fordert die partei nc auf unverzüglich die erwähnung des namens udf von sämt...</td>\n",
              "    </tr>\n",
              "    <tr>\n",
              "      <th>1775</th>\n",
              "      <td>the deadline we had given was the opening of the markets this morning</td>\n",
              "      <td>START_ die frist _END</td>\n",
              "    </tr>\n",
              "    <tr>\n",
              "      <th>2764</th>\n",
              "      <td>yesterday the russian defence ministry finally admitted that it had tested an intercontinental ballistic missile not far from the norwegian border</td>\n",
              "      <td>START_ das russische verteidigungsministerium hat erst gestern eingeräumt dass unweit der norwegischen grenze eine interkontinentale ballistische rakete getestet wurde _END</td>\n",
              "    </tr>\n",
              "    <tr>\n",
              "      <th>2059</th>\n",
              "      <td>brc uses lithiumpolymer accumulators that are lighter and have a higher energy density</td>\n",
              "      <td>START_ das brc enthält lithiumpolymerbatterien _END</td>\n",
              "    </tr>\n",
              "    <tr>\n",
              "      <th>148</th>\n",
              "      <td>first virtual operator to arrive in czechia this year</td>\n",
              "      <td>START_ der erste virtuelle anbieter kommt bereits in diesem jahr nach tschechien _END</td>\n",
              "    </tr>\n",
              "  </tbody>\n",
              "</table>\n",
              "</div>"
            ],
            "text/plain": [
              "                                                                                                                                                                                                          eng                                                                                                                                                                                                      ger\n",
              "3332  if his death is confirmed somali would be the second senior alqaeda or taliban leader killed since september when a similar strike killed najmuddin jalolov the leader of a militant faction in the ...  START_ wenn sich sein tod bestätigt würde wäre somali der zweite führende al kaida oder talibanführer der seit september getötet wurde als bei einem ähnlichen angriff najmuddin jalolov der führer ...\n",
              "848                                                                                                        retailers are to decide for themselves if they want pass on the price increases to their customers                                                                                                                                                  START_ die einzelhändler sollen selbst entscheiden _END\n",
              "1173                                                                                                                                                       it is much more an inner personality and character                                                                                                                                    START_ ihre persönlichkeit und ihr charakter ist in ihren herzen _END\n",
              "1779                                                                                                                                                                         but these measures are necessary                                                                                                                                                          START_ aber diese maßnahmen sind notwendig _END\n",
              "3285                                                                                                                   wow really she said thoughtfully when told of the schools low professortostudent ratio                                                                           START_ wow wirklich sagte sie nachdenklich als ihr das niedrige professorzustudentenverhältnis der schule berichtet wurde _END\n",
              "3867  as you are well aware you have no right to the use of the acronym explains the udfs office requiring that the nc remove immediately any mention of the udf name from all material and from their int...  START_ wie sie wissen haben sie kein anrecht auf die verwendung dieses siegels erklärte die geschäftsstelle der udf und fordert die partei nc auf unverzüglich die erwähnung des namens udf von sämt...\n",
              "1775                                                                                                                                    the deadline we had given was the opening of the markets this morning                                                                                                                                                                                    START_ die frist _END\n",
              "2764                                                       yesterday the russian defence ministry finally admitted that it had tested an intercontinental ballistic missile not far from the norwegian border                             START_ das russische verteidigungsministerium hat erst gestern eingeräumt dass unweit der norwegischen grenze eine interkontinentale ballistische rakete getestet wurde _END\n",
              "2059                                                                                                                   brc uses lithiumpolymer accumulators that are lighter and have a higher energy density                                                                                                                                                      START_ das brc enthält lithiumpolymerbatterien _END\n",
              "148                                                                                                                                                     first virtual operator to arrive in czechia this year                                                                                                                    START_ der erste virtuelle anbieter kommt bereits in diesem jahr nach tschechien _END"
            ]
          },
          "metadata": {
            "tags": []
          },
          "execution_count": 78
        }
      ]
    },
    {
      "cell_type": "markdown",
      "metadata": {
        "colab_type": "text",
        "id": "D1HIfLfoMlYD"
      },
      "source": [
        "### 3a)- Vocab Size"
      ]
    },
    {
      "cell_type": "code",
      "metadata": {
        "colab_type": "code",
        "id": "tum2mSmK-Jeq",
        "colab": {}
      },
      "source": [
        "# Vocabulary of English\n",
        "all_eng_words=set()\n",
        "for eng in lines.eng:\n",
        "    for word in eng.split():\n",
        "        if word not in all_eng_words:\n",
        "            all_eng_words.add(word)\n",
        "# Vocabulary of German \n",
        "all_german_words=set()\n",
        "for ger in lines.ger:\n",
        "    for word in ger.split():\n",
        "        if word not in all_german_words:\n",
        "            all_german_words.add(word)"
      ],
      "execution_count": 0,
      "outputs": []
    },
    {
      "cell_type": "code",
      "metadata": {
        "colab_type": "code",
        "id": "gGrnrWLw-Jhr",
        "outputId": "4dc3cefd-13b3-48cc-f2b1-036349c5c1f2",
        "colab": {
          "base_uri": "https://localhost:8080/",
          "height": 34
        }
      },
      "source": [
        "# Max Length of source sequence\n",
        "import numpy as np\n",
        "lenght_list=[]\n",
        "for l in lines.eng:\n",
        "    lenght_list.append(len(l.split(' ')))\n",
        "max_length_src = np.max(lenght_list)\n",
        "max_length_src"
      ],
      "execution_count": 80,
      "outputs": [
        {
          "output_type": "execute_result",
          "data": {
            "text/plain": [
              "74"
            ]
          },
          "metadata": {
            "tags": []
          },
          "execution_count": 80
        }
      ]
    },
    {
      "cell_type": "code",
      "metadata": {
        "colab_type": "code",
        "id": "NKYTzcsw-Jls",
        "outputId": "050adeed-6de0-4c89-d4f4-4caccd6af860",
        "colab": {
          "base_uri": "https://localhost:8080/",
          "height": 34
        }
      },
      "source": [
        "# Max Length of target sequence\n",
        "lenght_list=[]\n",
        "for l in lines.ger:\n",
        "    lenght_list.append(len(l.split(' ')))\n",
        "max_length_tar = np.max(lenght_list)\n",
        "max_length_tar"
      ],
      "execution_count": 81,
      "outputs": [
        {
          "output_type": "execute_result",
          "data": {
            "text/plain": [
              "81"
            ]
          },
          "metadata": {
            "tags": []
          },
          "execution_count": 81
        }
      ]
    },
    {
      "cell_type": "code",
      "metadata": {
        "colab_type": "code",
        "id": "njsfAZIhGmjf",
        "outputId": "92114047-6ef5-4d47-d252-34646130cf47",
        "colab": {
          "base_uri": "https://localhost:8080/",
          "height": 197
        }
      },
      "source": [
        "lines['word_eng'] = lines['eng'].apply(lambda x: len(str(x).split(\" \")))\n",
        "lines[['eng','word_eng']].head()"
      ],
      "execution_count": 82,
      "outputs": [
        {
          "output_type": "execute_result",
          "data": {
            "text/html": [
              "<div>\n",
              "<style scoped>\n",
              "    .dataframe tbody tr th:only-of-type {\n",
              "        vertical-align: middle;\n",
              "    }\n",
              "\n",
              "    .dataframe tbody tr th {\n",
              "        vertical-align: top;\n",
              "    }\n",
              "\n",
              "    .dataframe thead th {\n",
              "        text-align: right;\n",
              "    }\n",
              "</style>\n",
              "<table border=\"1\" class=\"dataframe\">\n",
              "  <thead>\n",
              "    <tr style=\"text-align: right;\">\n",
              "      <th></th>\n",
              "      <th>eng</th>\n",
              "      <th>word_eng</th>\n",
              "    </tr>\n",
              "  </thead>\n",
              "  <tbody>\n",
              "    <tr>\n",
              "      <th>0</th>\n",
              "      <td>prague stock market falls to minus by the end of the trading day</td>\n",
              "      <td>13</td>\n",
              "    </tr>\n",
              "    <tr>\n",
              "      <th>1</th>\n",
              "      <td>after a sharp drop in the morning</td>\n",
              "      <td>7</td>\n",
              "    </tr>\n",
              "    <tr>\n",
              "      <th>2</th>\n",
              "      <td>transactions with stocks from the czech energy enterprise čez reached nearly half of the regular daily trading</td>\n",
              "      <td>17</td>\n",
              "    </tr>\n",
              "    <tr>\n",
              "      <th>3</th>\n",
              "      <td>the prague stock market immediately continued its fall from monday at the beginning of tuesdays trading</td>\n",
              "      <td>16</td>\n",
              "    </tr>\n",
              "    <tr>\n",
              "      <th>4</th>\n",
              "      <td>this time the fall in stocks on wall street is responsible for the drop</td>\n",
              "      <td>14</td>\n",
              "    </tr>\n",
              "  </tbody>\n",
              "</table>\n",
              "</div>"
            ],
            "text/plain": [
              "                                                                                                              eng  word_eng\n",
              "0                                                prague stock market falls to minus by the end of the trading day        13\n",
              "1                                                                               after a sharp drop in the morning         7\n",
              "2  transactions with stocks from the czech energy enterprise čez reached nearly half of the regular daily trading        17\n",
              "3         the prague stock market immediately continued its fall from monday at the beginning of tuesdays trading        16\n",
              "4                                         this time the fall in stocks on wall street is responsible for the drop        14"
            ]
          },
          "metadata": {
            "tags": []
          },
          "execution_count": 82
        }
      ]
    },
    {
      "cell_type": "code",
      "metadata": {
        "colab_type": "code",
        "id": "j2cAOXePGmmg",
        "outputId": "6b6b3c1d-77f7-42ca-9125-39a0437e2809",
        "colab": {
          "base_uri": "https://localhost:8080/",
          "height": 197
        }
      },
      "source": [
        "# adding +2 due to adding of START and END\n",
        "lines['word_ger'] = lines['ger'].apply(lambda x: len(str(x).split(\" \")))\n",
        "lines[['ger','word_ger']].head()"
      ],
      "execution_count": 83,
      "outputs": [
        {
          "output_type": "execute_result",
          "data": {
            "text/html": [
              "<div>\n",
              "<style scoped>\n",
              "    .dataframe tbody tr th:only-of-type {\n",
              "        vertical-align: middle;\n",
              "    }\n",
              "\n",
              "    .dataframe tbody tr th {\n",
              "        vertical-align: top;\n",
              "    }\n",
              "\n",
              "    .dataframe thead th {\n",
              "        text-align: right;\n",
              "    }\n",
              "</style>\n",
              "<table border=\"1\" class=\"dataframe\">\n",
              "  <thead>\n",
              "    <tr style=\"text-align: right;\">\n",
              "      <th></th>\n",
              "      <th>ger</th>\n",
              "      <th>word_ger</th>\n",
              "    </tr>\n",
              "  </thead>\n",
              "  <tbody>\n",
              "    <tr>\n",
              "      <th>0</th>\n",
              "      <td>START_ die prager börse stürzt gegen geschäftsschluss ins minus _END</td>\n",
              "      <td>10</td>\n",
              "    </tr>\n",
              "    <tr>\n",
              "      <th>1</th>\n",
              "      <td>START_ nach dem steilen abfall am morgen konnte die prager börse die verluste korrigieren _END</td>\n",
              "      <td>15</td>\n",
              "    </tr>\n",
              "    <tr>\n",
              "      <th>2</th>\n",
              "      <td>START_ die transaktionen mit den aktien von čez erreichten fast die hälfte des normalen tagesgeschäfts _END</td>\n",
              "      <td>16</td>\n",
              "    </tr>\n",
              "    <tr>\n",
              "      <th>3</th>\n",
              "      <td>START_ die prager börse knüpfte gleich zu beginn der dienstagsgeschäfte an den einbruch vom montag an _END</td>\n",
              "      <td>17</td>\n",
              "    </tr>\n",
              "    <tr>\n",
              "      <th>4</th>\n",
              "      <td>START_ diesmal lag der grund für den einbruch an der wall street _END</td>\n",
              "      <td>13</td>\n",
              "    </tr>\n",
              "  </tbody>\n",
              "</table>\n",
              "</div>"
            ],
            "text/plain": [
              "                                                                                                           ger  word_ger\n",
              "0                                         START_ die prager börse stürzt gegen geschäftsschluss ins minus _END        10\n",
              "1               START_ nach dem steilen abfall am morgen konnte die prager börse die verluste korrigieren _END        15\n",
              "2  START_ die transaktionen mit den aktien von čez erreichten fast die hälfte des normalen tagesgeschäfts _END        16\n",
              "3   START_ die prager börse knüpfte gleich zu beginn der dienstagsgeschäfte an den einbruch vom montag an _END        17\n",
              "4                                        START_ diesmal lag der grund für den einbruch an der wall street _END        13"
            ]
          },
          "metadata": {
            "tags": []
          },
          "execution_count": 83
        }
      ]
    },
    {
      "cell_type": "code",
      "metadata": {
        "colab_type": "code",
        "id": "iAFqlcXjHy-F",
        "outputId": "1f7fc5ea-c87c-44c3-c14a-8b594ee84ad4",
        "colab": {
          "base_uri": "https://localhost:8080/",
          "height": 268
        }
      },
      "source": [
        "words_eng=lines['word_eng']\n",
        "plt.hist(words_eng, bins=20, label=\"Word length of english sequence\") \n",
        "plt.legend() \n",
        "plt.show()"
      ],
      "execution_count": 84,
      "outputs": [
        {
          "output_type": "display_data",
          "data": {
            "image/png": "[encoded data removed]",
            "text/plain": [
              "<Figure size 432x288 with 1 Axes>"
            ]
          },
          "metadata": {
            "tags": []
          }
        }
      ]
    },
    {
      "cell_type": "code",
      "metadata": {
        "colab_type": "code",
        "id": "t3NjOtTIGmpO",
        "outputId": "7dff2703-a612-4d24-c3db-1e43f023cc06",
        "colab": {
          "base_uri": "https://localhost:8080/",
          "height": 268
        }
      },
      "source": [
        "words_ger=lines['word_ger']\n",
        "plt.hist(words_ger, bins=20, label=\"Word length of German sequence\") \n",
        "plt.legend() \n",
        "plt.show()"
      ],
      "execution_count": 85,
      "outputs": [
        {
          "output_type": "display_data",
          "data": {
            "image/png": "[encoded data removed]",
            "text/plain": [
              "<Figure size 432x288 with 1 Axes>"
            ]
          },
          "metadata": {
            "tags": []
          }
        }
      ]
    },
    {
      "cell_type": "markdown",
      "metadata": {
        "colab_type": "text",
        "id": "uF2tPX2JMgvN"
      },
      "source": [
        "### 3b)-Words' frequency"
      ]
    },
    {
      "cell_type": "code",
      "metadata": {
        "colab_type": "code",
        "id": "jfq_DzpnLXeK",
        "outputId": "30c3cdef-2e79-4871-81af-f9c3561824ef",
        "colab": {
          "base_uri": "https://localhost:8080/",
          "height": 212
        }
      },
      "source": [
        "# let’s check the 10 most frequently occurring words in our English text data\n",
        "freq_eng = pd.Series(' '.join(lines['eng']).split()).value_counts()[:10]\n",
        "freq_eng"
      ],
      "execution_count": 86,
      "outputs": [
        {
          "output_type": "execute_result",
          "data": {
            "text/plain": [
              "the     6786\n",
              "of      2663\n",
              "to      2262\n",
              "in      1935\n",
              "a       1733\n",
              "and     1685\n",
              "is      1015\n",
              "for      893\n",
              "that     874\n",
              "on       757\n",
              "dtype: int64"
            ]
          },
          "metadata": {
            "tags": []
          },
          "execution_count": 86
        }
      ]
    },
    {
      "cell_type": "code",
      "metadata": {
        "colab_type": "code",
        "id": "CRqExh5_LKIC",
        "outputId": "7f12ecaf-17b1-4528-94c1-4237d6fb3649",
        "colab": {
          "base_uri": "https://localhost:8080/",
          "height": 247
        }
      },
      "source": [
        "freq_ger = pd.Series(' '.join(lines['ger']).split()).value_counts()[:12]\n",
        "freq_ger"
      ],
      "execution_count": 87,
      "outputs": [
        {
          "output_type": "execute_result",
          "data": {
            "text/plain": [
              "_END      5000\n",
              "START_    5000\n",
              "die       3066\n",
              "der       2998\n",
              "und       1611\n",
              "in        1445\n",
              "den        941\n",
              "von        918\n",
              "das        872\n",
              "zu         758\n",
              "ist        687\n",
              "für        655\n",
              "dtype: int64"
            ]
          },
          "metadata": {
            "tags": []
          },
          "execution_count": 87
        }
      ]
    },
    {
      "cell_type": "markdown",
      "metadata": {
        "colab_type": "text",
        "id": "S2jWXT3yM71x"
      },
      "source": [
        "As we have start and end so, I did check 12 so that we get idea of most fequent words"
      ]
    },
    {
      "cell_type": "markdown",
      "metadata": {
        "colab_type": "text",
        "id": "RDxvf8EbNCQI"
      },
      "source": [
        "**How about least occuring words**"
      ]
    },
    {
      "cell_type": "code",
      "metadata": {
        "colab_type": "code",
        "id": "nw37EWeeNFTc",
        "outputId": "741a416a-629d-4a3f-f798-8ab26f67e3fe",
        "colab": {
          "base_uri": "https://localhost:8080/",
          "height": 212
        }
      },
      "source": [
        "less_freq_eng = pd.Series(' '.join(lines['eng']).split()).value_counts()[-10:]\n",
        "less_freq_eng"
      ],
      "execution_count": 88,
      "outputs": [
        {
          "output_type": "execute_result",
          "data": {
            "text/plain": [
              "centerstasks    1\n",
              "proud           1\n",
              "hindered        1\n",
              "nonpayment      1\n",
              "alejandro       1\n",
              "heels           1\n",
              "interstate      1\n",
              "freely          1\n",
              "hofbräu         1\n",
              "disapproved     1\n",
              "dtype: int64"
            ]
          },
          "metadata": {
            "tags": []
          },
          "execution_count": 88
        }
      ]
    },
    {
      "cell_type": "code",
      "metadata": {
        "colab_type": "code",
        "id": "aJqyRkyRNQno",
        "outputId": "9a2a6a7d-0a3e-4cc0-bd16-10ff7aa3aa81",
        "colab": {
          "base_uri": "https://localhost:8080/",
          "height": 212
        }
      },
      "source": [
        "less_freq_ger = pd.Series(' '.join(lines['ger']).split()).value_counts()[-10:]\n",
        "less_freq_ger"
      ],
      "execution_count": 89,
      "outputs": [
        {
          "output_type": "execute_result",
          "data": {
            "text/plain": [
              "jeff             1\n",
              "ungenannten      1\n",
              "distanz          1\n",
              "richtlinien      1\n",
              "belegte          1\n",
              "versteigerten    1\n",
              "wachsen          1\n",
              "mladen           1\n",
              "kurzsichtig      1\n",
              "chefredaktor     1\n",
              "dtype: int64"
            ]
          },
          "metadata": {
            "tags": []
          },
          "execution_count": 89
        }
      ]
    },
    {
      "cell_type": "markdown",
      "metadata": {
        "colab_type": "text",
        "id": "dLxosVx4wds5"
      },
      "source": [
        "### 3a)- Defining input and target"
      ]
    },
    {
      "cell_type": "code",
      "metadata": {
        "colab_type": "code",
        "id": "z8TUTnn4AC9c",
        "outputId": "fc41da87-1056-4cea-c6f8-ac1400290e82",
        "colab": {
          "base_uri": "https://localhost:8080/",
          "height": 34
        }
      },
      "source": [
        "input_words = sorted(list(all_eng_words))\n",
        "target_words = sorted(list(all_german_words))\n",
        "num_encoder_tokens = len(all_eng_words)\n",
        "num_decoder_tokens = len(all_german_words)\n",
        "num_encoder_tokens, num_decoder_tokens"
      ],
      "execution_count": 90,
      "outputs": [
        {
          "output_type": "execute_result",
          "data": {
            "text/plain": [
              "(10955, 15724)"
            ]
          },
          "metadata": {
            "tags": []
          },
          "execution_count": 90
        }
      ]
    },
    {
      "cell_type": "code",
      "metadata": {
        "colab_type": "code",
        "id": "G06K661ZADAo",
        "outputId": "b40f72b0-d38c-4424-f840-e3f917fb602c",
        "colab": {
          "base_uri": "https://localhost:8080/",
          "height": 34
        }
      },
      "source": [
        "num_decoder_tokens += 1 # For zero padding\n",
        "num_decoder_tokens"
      ],
      "execution_count": 91,
      "outputs": [
        {
          "output_type": "execute_result",
          "data": {
            "text/plain": [
              "15725"
            ]
          },
          "metadata": {
            "tags": []
          },
          "execution_count": 91
        }
      ]
    },
    {
      "cell_type": "code",
      "metadata": {
        "colab_type": "code",
        "id": "pw2TwZh6ADGE",
        "colab": {}
      },
      "source": [
        "input_token_index = dict([(word, i+1) for i, word in enumerate(input_words)])\n",
        "target_token_index = dict([(word, i+1) for i, word in enumerate(target_words)])"
      ],
      "execution_count": 0,
      "outputs": []
    },
    {
      "cell_type": "code",
      "metadata": {
        "colab_type": "code",
        "id": "3_DwM1HCADJk",
        "colab": {}
      },
      "source": [
        "reverse_input_char_index = dict((i, word) for word, i in input_token_index.items())\n",
        "reverse_target_char_index = dict((i, word) for word, i in target_token_index.items())"
      ],
      "execution_count": 0,
      "outputs": []
    },
    {
      "cell_type": "code",
      "metadata": {
        "colab_type": "code",
        "id": "jfgAU6cH_g-L",
        "colab": {}
      },
      "source": [
        "#print(reverse_input_char_index)"
      ],
      "execution_count": 0,
      "outputs": []
    },
    {
      "cell_type": "code",
      "metadata": {
        "colab_type": "code",
        "id": "WVLHBLON_kQY",
        "colab": {}
      },
      "source": [
        "#print(reverse_target_char_index)"
      ],
      "execution_count": 0,
      "outputs": []
    },
    {
      "cell_type": "markdown",
      "metadata": {
        "colab_type": "text",
        "id": "2SKleAlZwdtA"
      },
      "source": [
        "### 3b)-Train - Test Split\n",
        "\n",
        "For validation"
      ]
    },
    {
      "cell_type": "code",
      "metadata": {
        "colab_type": "code",
        "id": "kj_K6FfeAeYC",
        "outputId": "b7250975-3e5d-4413-bb70-962770166eb0",
        "colab": {
          "base_uri": "https://localhost:8080/",
          "height": 34
        }
      },
      "source": [
        "X, y = lines.eng, lines.ger #X being input, y being target\n",
        "X_train, X_test, y_train, y_test = train_test_split(X, y, test_size = 0.2)\n",
        "X_train.shape, X_test.shape"
      ],
      "execution_count": 96,
      "outputs": [
        {
          "output_type": "execute_result",
          "data": {
            "text/plain": [
              "((4000,), (1000,))"
            ]
          },
          "metadata": {
            "tags": []
          },
          "execution_count": 96
        }
      ]
    },
    {
      "cell_type": "markdown",
      "metadata": {
        "colab_type": "text",
        "id": "LZYt7v-fCOQt"
      },
      "source": [
        "**Save the train and test dataframes for reproducing the results later, as they are shuffled**"
      ]
    },
    {
      "cell_type": "code",
      "metadata": {
        "colab_type": "code",
        "id": "GvpxI3i7A3BT",
        "colab": {}
      },
      "source": [
        "X_train.to_pickle('X_train.pkl')\n",
        "X_test.to_pickle('X_test.pkl')"
      ],
      "execution_count": 0,
      "outputs": []
    },
    {
      "cell_type": "code",
      "metadata": {
        "colab_type": "code",
        "id": "f99GUE2iA3E5",
        "colab": {}
      },
      "source": [
        "def generate_batch(X = X_train, y = y_train, batch_size = 128):\n",
        "    ''' Generate a batch of data '''\n",
        "    while True:\n",
        "        for j in range(0, len(X), batch_size):\n",
        "            encoder_input_data = np.zeros((batch_size, max_length_src),dtype='float32')\n",
        "            decoder_input_data = np.zeros((batch_size, max_length_tar),dtype='float32')\n",
        "            decoder_target_data = np.zeros((batch_size, max_length_tar, num_decoder_tokens),dtype='float32')\n",
        "            for i, (input_text, target_text) in enumerate(zip(X[j:j+batch_size], y[j:j+batch_size])):\n",
        "                for t, word in enumerate(input_text.split()):\n",
        "                    encoder_input_data[i, t] = input_token_index[word] # encoder input seq\n",
        "                for t, word in enumerate(target_text.split()):\n",
        "                    if t<len(target_text.split())-1:\n",
        "                        decoder_input_data[i, t] = target_token_index[word] # decoder input seq\n",
        "                    if t>0:\n",
        "                        # decoder target sequence (one hot encoded)\n",
        "                        # does not include the START_ token\n",
        "                        # Offset by one timestep\n",
        "                        decoder_target_data[i, t - 1, target_token_index[word]] = 1.\n",
        "            yield([encoder_input_data, decoder_input_data], decoder_target_data)"
      ],
      "execution_count": 0,
      "outputs": []
    },
    {
      "cell_type": "markdown",
      "metadata": {
        "colab_type": "text",
        "id": "G_MQxfbrCj_E"
      },
      "source": [
        "# 4)-Encoder - Decoder Model Architecture"
      ]
    },
    {
      "cell_type": "code",
      "metadata": {
        "colab_type": "code",
        "id": "WAKup9U3A3II",
        "colab": {}
      },
      "source": [
        "latent_dim = 50"
      ],
      "execution_count": 0,
      "outputs": []
    },
    {
      "cell_type": "code",
      "metadata": {
        "colab_type": "code",
        "id": "NVWXpjPeA3K4",
        "colab": {}
      },
      "source": [
        "# Encoder\n",
        "encoder_inputs = Input(shape=(None,))\n",
        "enc_emb =  Embedding(num_encoder_tokens, latent_dim, mask_zero = True)(encoder_inputs)\n",
        "encoder_lstm = LSTM(latent_dim, return_state=True)\n",
        "encoder_outputs, state_h, state_c = encoder_lstm(enc_emb)\n",
        "# We discard `encoder_outputs` and only keep the states.\n",
        "encoder_states = [state_h, state_c]"
      ],
      "execution_count": 0,
      "outputs": []
    },
    {
      "cell_type": "code",
      "metadata": {
        "colab_type": "code",
        "id": "y5NPVx5SAebD",
        "colab": {}
      },
      "source": [
        "# Set up the decoder, using `encoder_states` as initial state.\n",
        "decoder_inputs = Input(shape=(None,))\n",
        "dec_emb_layer = Embedding(num_decoder_tokens, latent_dim, mask_zero = True)\n",
        "dec_emb = dec_emb_layer(decoder_inputs)\n",
        "# We set up our decoder to return full output sequences,\n",
        "# and to return internal states as well. We don't use the\n",
        "# return states in the training model, but we will use them in inference.\n",
        "decoder_lstm = LSTM(latent_dim, return_sequences=True, return_state=True)\n",
        "decoder_outputs, _, _ = decoder_lstm(dec_emb,\n",
        "                                     initial_state=encoder_states)\n",
        "decoder_dense = Dense(num_decoder_tokens, activation='softmax')\n",
        "decoder_outputs = decoder_dense(decoder_outputs)\n",
        "\n",
        "# Define the model that will turn\n",
        "# `encoder_input_data` & `decoder_input_data` into `decoder_target_data`\n",
        "model = Model([encoder_inputs, decoder_inputs], decoder_outputs)"
      ],
      "execution_count": 0,
      "outputs": []
    },
    {
      "cell_type": "code",
      "metadata": {
        "colab_type": "code",
        "id": "jmJpG9LHAegu",
        "colab": {}
      },
      "source": [
        "model.compile(optimizer='rmsprop', loss='categorical_crossentropy', metrics=['acc'])"
      ],
      "execution_count": 0,
      "outputs": []
    },
    {
      "cell_type": "code",
      "metadata": {
        "colab_type": "code",
        "id": "ZYb2KO_TAepD",
        "colab": {}
      },
      "source": [
        "#from IPython.display import Image\n",
        "#Image(retina=True, filename='train.png')"
      ],
      "execution_count": 0,
      "outputs": []
    },
    {
      "cell_type": "code",
      "metadata": {
        "colab_type": "code",
        "id": "dEJCmevEAesV",
        "colab": {}
      },
      "source": [
        "train_samples = len(X_train)\n",
        "val_samples = len(X_test)\n",
        "batch_size = 128\n",
        "epochs = 15"
      ],
      "execution_count": 0,
      "outputs": []
    },
    {
      "cell_type": "code",
      "metadata": {
        "colab_type": "code",
        "id": "bYQOjYpjEmfJ",
        "outputId": "67d0d4fd-bd3c-4cd2-d9c2-d6dca0ed648b",
        "colab": {
          "base_uri": "https://localhost:8080/",
          "height": 443
        }
      },
      "source": [
        "model.summary()"
      ],
      "execution_count": 105,
      "outputs": [
        {
          "output_type": "stream",
          "text": [
            "Model: \"model_4\"\n",
            "__________________________________________________________________________________________________\n",
            "Layer (type)                    Output Shape         Param #     Connected to                     \n",
            "==================================================================================================\n",
            "input_5 (InputLayer)            (None, None)         0                                            \n",
            "__________________________________________________________________________________________________\n",
            "input_6 (InputLayer)            (None, None)         0                                            \n",
            "__________________________________________________________________________________________________\n",
            "embedding_3 (Embedding)         (None, None, 50)     547750      input_5[0][0]                    \n",
            "__________________________________________________________________________________________________\n",
            "embedding_4 (Embedding)         (None, None, 50)     786250      input_6[0][0]                    \n",
            "__________________________________________________________________________________________________\n",
            "lstm_3 (LSTM)                   [(None, 50), (None,  20200       embedding_3[0][0]                \n",
            "__________________________________________________________________________________________________\n",
            "lstm_4 (LSTM)                   [(None, None, 50), ( 20200       embedding_4[0][0]                \n",
            "                                                                 lstm_3[0][1]                     \n",
            "                                                                 lstm_3[0][2]                     \n",
            "__________________________________________________________________________________________________\n",
            "dense_2 (Dense)                 (None, None, 15725)  801975      lstm_4[0][0]                     \n",
            "==================================================================================================\n",
            "Total params: 2,176,375\n",
            "Trainable params: 2,176,375\n",
            "Non-trainable params: 0\n",
            "__________________________________________________________________________________________________\n"
          ],
          "name": "stdout"
        }
      ]
    },
    {
      "cell_type": "code",
      "metadata": {
        "colab_type": "code",
        "id": "8_dLHRGWAemn",
        "outputId": "5d3d3d0e-29d2-4c99-ac4f-0b300abad89a",
        "colab": {
          "base_uri": "https://localhost:8080/",
          "height": 550
        }
      },
      "source": [
        "history=model.fit_generator(generator = generate_batch(X_train, y_train, batch_size = batch_size),\n",
        "                    steps_per_epoch = train_samples//batch_size,\n",
        "                    epochs=epochs,\n",
        "                    validation_data = generate_batch(X_test, y_test, batch_size = batch_size),\n",
        "                    validation_steps = val_samples//batch_size)"
      ],
      "execution_count": 106,
      "outputs": [
        {
          "output_type": "stream",
          "text": [
            "Epoch 1/15\n",
            "31/31 [==============================] - 36s 1s/step - loss: 8.7774 - acc: 0.0366 - val_loss: 7.8318 - val_acc: 0.0370\n",
            "Epoch 2/15\n",
            "31/31 [==============================] - 32s 1s/step - loss: 7.4804 - acc: 0.0382 - val_loss: 7.5252 - val_acc: 0.0368\n",
            "Epoch 3/15\n",
            "31/31 [==============================] - 32s 1s/step - loss: 7.2772 - acc: 0.0609 - val_loss: 7.5717 - val_acc: 0.0634\n",
            "Epoch 4/15\n",
            "31/31 [==============================] - 32s 1s/step - loss: 7.2461 - acc: 0.0631 - val_loss: 7.6850 - val_acc: 0.0632\n",
            "Epoch 5/15\n",
            "31/31 [==============================] - 32s 1s/step - loss: 7.2410 - acc: 0.0629 - val_loss: 7.7982 - val_acc: 0.0631\n",
            "Epoch 6/15\n",
            "31/31 [==============================] - 32s 1s/step - loss: 7.2358 - acc: 0.0634 - val_loss: 7.8862 - val_acc: 0.0646\n",
            "Epoch 7/15\n",
            "31/31 [==============================] - 32s 1s/step - loss: 7.2332 - acc: 0.0633 - val_loss: 7.9557 - val_acc: 0.0634\n",
            "Epoch 8/15\n",
            "31/31 [==============================] - 32s 1s/step - loss: 7.2132 - acc: 0.0633 - val_loss: 7.9608 - val_acc: 0.0640\n",
            "Epoch 9/15\n",
            "31/31 [==============================] - 32s 1s/step - loss: 7.1555 - acc: 0.0634 - val_loss: 7.8847 - val_acc: 0.0637\n",
            "Epoch 10/15\n",
            "31/31 [==============================] - 32s 1s/step - loss: 7.1011 - acc: 0.0632 - val_loss: 7.8161 - val_acc: 0.0636\n",
            "Epoch 11/15\n",
            "31/31 [==============================] - 32s 1s/step - loss: 7.0535 - acc: 0.0666 - val_loss: 7.7888 - val_acc: 0.0712\n",
            "Epoch 12/15\n",
            "31/31 [==============================] - 32s 1s/step - loss: 7.0179 - acc: 0.0720 - val_loss: 7.7693 - val_acc: 0.0725\n",
            "Epoch 13/15\n",
            "31/31 [==============================] - 32s 1s/step - loss: 6.9789 - acc: 0.0739 - val_loss: 7.7592 - val_acc: 0.0749\n",
            "Epoch 14/15\n",
            "31/31 [==============================] - 32s 1s/step - loss: 6.9427 - acc: 0.0761 - val_loss: 7.7271 - val_acc: 0.0795\n",
            "Epoch 15/15\n",
            "31/31 [==============================] - 32s 1s/step - loss: 6.9047 - acc: 0.0787 - val_loss: 7.7128 - val_acc: 0.0768\n"
          ],
          "name": "stdout"
        }
      ]
    },
    {
      "cell_type": "markdown",
      "metadata": {
        "id": "Lkq5_krINm39",
        "colab_type": "text"
      },
      "source": [
        "Results are consistent for smaller data sample of 2015. <br>\n",
        "Validation accuracy is too low and loss(reflects error) is high. I wonder if we could predict any good results out of it?"
      ]
    },
    {
      "cell_type": "code",
      "metadata": {
        "colab_type": "code",
        "id": "S5p1pg6XAekB",
        "colab": {}
      },
      "source": [
        "# save model\n",
        "model.save_weights('translate_attempt3.h5')"
      ],
      "execution_count": 0,
      "outputs": []
    },
    {
      "cell_type": "code",
      "metadata": {
        "colab_type": "code",
        "id": "Bg0C_Xo0Aedy",
        "colab": {}
      },
      "source": [
        "# for later use even in other notebooks\n",
        "model.load_weights('translate_attempt3.h5')"
      ],
      "execution_count": 0,
      "outputs": []
    },
    {
      "cell_type": "markdown",
      "metadata": {
        "colab_type": "text",
        "id": "5MuBJTzQNTVn"
      },
      "source": [
        "# 5)- Inference Setup"
      ]
    },
    {
      "cell_type": "code",
      "metadata": {
        "colab_type": "code",
        "id": "DYLNM2LFNMAp",
        "colab": {}
      },
      "source": [
        "# Encode the input sequence to get the \"thought vectors\"\n",
        "encoder_model = Model(encoder_inputs, encoder_states)\n",
        "\n",
        "# Decoder setup\n",
        "# Below tensors will hold the states of the previous time step\n",
        "decoder_state_input_h = Input(shape=(latent_dim,))\n",
        "decoder_state_input_c = Input(shape=(latent_dim,))\n",
        "decoder_states_inputs = [decoder_state_input_h, decoder_state_input_c]\n",
        "\n",
        "dec_emb2= dec_emb_layer(decoder_inputs) # Get the embeddings of the decoder sequence\n",
        "\n",
        "# To predict the next word in the sequence, set the initial states to the states from the previous time step\n",
        "decoder_outputs2, state_h2, state_c2 = decoder_lstm(dec_emb2, initial_state=decoder_states_inputs)\n",
        "decoder_states2 = [state_h2, state_c2]\n",
        "decoder_outputs2 = decoder_dense(decoder_outputs2) # A dense softmax layer to generate prob dist. over the target vocabulary\n",
        "\n",
        "# Final decoder model\n",
        "decoder_model = Model(\n",
        "    [decoder_inputs] + decoder_states_inputs,\n",
        "    [decoder_outputs2] + decoder_states2)"
      ],
      "execution_count": 0,
      "outputs": []
    },
    {
      "cell_type": "markdown",
      "metadata": {
        "colab_type": "text",
        "id": "yp5DWmhDNaSX"
      },
      "source": [
        "# Decode sample sequeces"
      ]
    },
    {
      "cell_type": "code",
      "metadata": {
        "colab_type": "code",
        "id": "qZnHAo2KNX1R",
        "colab": {}
      },
      "source": [
        "def decode_sequence(input_seq):\n",
        "    # Encode the input as state vectors.\n",
        "    states_value = encoder_model.predict(input_seq)\n",
        "    # Generate empty target sequence of length 1.\n",
        "    target_seq = np.zeros((1,1))\n",
        "    \n",
        "    \n",
        "    # Populate the first character of target sequence with the start character.\n",
        "    target_seq[0, 0] = target_token_index['START_']\n",
        "  \n",
        "\n",
        "    # Sampling loop for a batch of sequences\n",
        "    # (to simplify, here we assume a batch of size 1).\n",
        "    stop_condition = False\n",
        "    decoded_sentence = ''\n",
        "    while not stop_condition:\n",
        "        output_tokens, h, c = decoder_model.predict([target_seq] + states_value)\n",
        "\n",
        "        # Sample a token\n",
        "        sampled_token_index = np.argmax(output_tokens[0, -1, :])\n",
        "        sampled_char = reverse_target_char_index[sampled_token_index]\n",
        "        decoded_sentence += ' '+sampled_char\n",
        "\n",
        "        # Exit condition: either hit max length\n",
        "        # or find stop character.\n",
        "        if (sampled_char == '_END' or\n",
        "           len(decoded_sentence) > 50):\n",
        "            stop_condition = True\n",
        "\n",
        "        # Update the target sequence (of length 1).\n",
        "        target_seq = np.zeros((1,1))\n",
        "        target_seq[0, 0] = sampled_token_index\n",
        "\n",
        "        # Update states\n",
        "        states_value = [h, c]\n",
        "\n",
        "    return decoded_sentence"
      ],
      "execution_count": 0,
      "outputs": []
    },
    {
      "cell_type": "markdown",
      "metadata": {
        "id": "2F5S3e5yVLTQ",
        "colab_type": "text"
      },
      "source": [
        "# 6)- Model Validation"
      ]
    },
    {
      "cell_type": "markdown",
      "metadata": {
        "colab_type": "text",
        "id": "BmOR00fXNgFe"
      },
      "source": [
        "### 6a.Evaluation on Train Dataset"
      ]
    },
    {
      "cell_type": "code",
      "metadata": {
        "colab_type": "code",
        "id": "Vm_zRElrNd39",
        "colab": {}
      },
      "source": [
        "train_gen = generate_batch(X_train, y_train, batch_size = 1)\n",
        "k=-1"
      ],
      "execution_count": 0,
      "outputs": []
    },
    {
      "cell_type": "code",
      "metadata": {
        "colab_type": "code",
        "id": "gUFD9t9ENhbG",
        "outputId": "10572328-e3e0-45a4-bc88-97291a668604",
        "colab": {
          "base_uri": "https://localhost:8080/",
          "height": 70
        }
      },
      "source": [
        "k+=1\n",
        "(input_seq, actual_output), _ = next(train_gen)\n",
        "decoded_sentence = decode_sequence(input_seq)\n",
        "print('Input English sentence:', X_train[k:k+1].values[0])\n",
        "print('Actual German Translation:', y_train[k:k+1].values[0][6:-4])\n",
        "print('Predicted German Translation:', decoded_sentence[:-4])"
      ],
      "execution_count": 112,
      "outputs": [
        {
          "output_type": "stream",
          "text": [
            "Input English sentence: not in front of the teller windows\n",
            "Actual German Translation:  nicht an den geldschaltern um geld abzuheben oder einzuzahlen \n",
            "Predicted German Translation:  die \n"
          ],
          "name": "stdout"
        }
      ]
    },
    {
      "cell_type": "markdown",
      "metadata": {
        "colab_type": "text",
        "id": "2tpV8t7HOc8R"
      },
      "source": [
        "### 6b. Evaluation on Validation Dataset"
      ]
    },
    {
      "cell_type": "code",
      "metadata": {
        "colab_type": "code",
        "id": "Ew_6eBkXNhkm",
        "colab": {}
      },
      "source": [
        "val_gen = generate_batch(X_test, y_test, batch_size = 1)\n",
        "k=-1"
      ],
      "execution_count": 0,
      "outputs": []
    },
    {
      "cell_type": "code",
      "metadata": {
        "colab_type": "code",
        "id": "JAc4u_sbOgV8",
        "outputId": "a996efea-6667-4171-ed33-9e1fad94e8a9",
        "colab": {
          "base_uri": "https://localhost:8080/",
          "height": 70
        }
      },
      "source": [
        "k+=1\n",
        "(input_seq, actual_output), _ = next(val_gen)\n",
        "decoded_sentence = decode_sequence(input_seq)\n",
        "print('Input English sentence:', X_test[k:k+1].values[0])\n",
        "print('Actual German Translation:', y_test[k:k+1].values[0][6:-4])\n",
        "print('Predicted German Translation:', decoded_sentence[:-4])"
      ],
      "execution_count": 114,
      "outputs": [
        {
          "output_type": "stream",
          "text": [
            "Input English sentence: labour defends budget tax rises\n",
            "Actual German Translation:  labour verteidigt etat und steuererhöhungen \n",
            "Predicted German Translation:  die \n"
          ],
          "name": "stdout"
        }
      ]
    },
    {
      "cell_type": "markdown",
      "metadata": {
        "id": "F6U92GUgNu3h",
        "colab_type": "text"
      },
      "source": [
        "**As expected, we got no good results. We better go back to data preprocessing part and re-build our model**"
      ]
    },
    {
      "cell_type": "markdown",
      "metadata": {
        "id": "Ly05SPhEVUln",
        "colab_type": "text"
      },
      "source": [
        "### 6c. Plotting Loss and Accuracy"
      ]
    },
    {
      "cell_type": "code",
      "metadata": {
        "id": "BzPN7jzAYFHZ",
        "colab_type": "code",
        "outputId": "26b2fee0-ffa3-48bb-b35e-cbf137031b4b",
        "colab": {
          "base_uri": "https://localhost:8080/",
          "height": 294
        }
      },
      "source": [
        "plt.plot(history.history['loss']) \n",
        "plt.plot(history.history['val_loss']) \n",
        "plt.legend(['train','validation']) \n",
        "plt.suptitle('Results for Loss', fontsize=16)\n",
        "plt.show()"
      ],
      "execution_count": 115,
      "outputs": [
        {
          "output_type": "display_data",
          "data": {
            "image/png": "[encoded data removed]",
            "text/plain": [
              "<Figure size 432x288 with 1 Axes>"
            ]
          },
          "metadata": {
            "tags": []
          }
        }
      ]
    },
    {
      "cell_type": "code",
      "metadata": {
        "id": "UD9qYqC-Z1Yg",
        "colab_type": "code",
        "outputId": "2631238f-72be-4b4e-e69c-5f4dc6b563c7",
        "colab": {
          "base_uri": "https://localhost:8080/",
          "height": 294
        }
      },
      "source": [
        "plt.plot(history.history['acc']) \n",
        "plt.plot(history.history['val_acc']) \n",
        "plt.legend(['train','validation']) \n",
        "plt.suptitle('Results for Accuracy', fontsize=16)\n",
        "plt.show()"
      ],
      "execution_count": 116,
      "outputs": [
        {
          "output_type": "display_data",
          "data": {
            "image/png": "[encoded data removed]",
            "text/plain": [
              "<Figure size 432x288 with 1 Axes>"
            ]
          },
          "metadata": {
            "tags": []
          }
        }
      ]
    },
    {
      "cell_type": "markdown",
      "metadata": {
        "id": "cMOkMLh_XDXj",
        "colab_type": "text"
      },
      "source": [
        "- We can see that train and validation accuracies are low.But, we have got rid of stair-case fluctuation. \n",
        "\n",
        "- what could we do now? Either choose higher data points i.e 10,000. We ll do that in next steps.\n",
        "\n",
        "- Choose random sample to see if things remain same"
      ]
    }
  ]
}