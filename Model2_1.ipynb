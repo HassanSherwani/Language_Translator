{
  "nbformat": 4,
  "nbformat_minor": 0,
  "metadata": {
    "accelerator": "GPU",
    "colab": {
      "name": "Model2.1.ipynb",
      "version": "0.3.2",
      "provenance": [],
      "collapsed_sections": []
    },
    "kernelspec": {
      "name": "python3",
      "display_name": "Python 3"
    },
    "language_info": {
      "codemirror_mode": {
        "name": "ipython",
        "version": 3
      },
      "file_extension": ".py",
      "mimetype": "text/x-python",
      "name": "python",
      "nbconvert_exporter": "python",
      "pygments_lexer": "ipython3",
      "version": "3.6.3"
    }
  },
  "cells": [
    {
      "cell_type": "markdown",
      "metadata": {
        "colab_type": "text",
        "id": "QJxJLfT6m4zo"
      },
      "source": [
        "# Machine Translation\n",
        "\n",
        "English-German Translation"
      ]
    },
    {
      "cell_type": "markdown",
      "metadata": {
        "colab_type": "text",
        "id": "YvFSu3KOnCQI"
      },
      "source": [
        "# 1)- Importing key modules"
      ]
    },
    {
      "cell_type": "code",
      "metadata": {
        "colab_type": "code",
        "id": "ydSdCo4JzRta",
        "colab": {}
      },
      "source": [
        "#support both Python 2 and Python 3 with minimal overhead.\n",
        "from __future__ import absolute_import, division, print_function\n",
        "#ignore warnings\n",
        "import warnings\n",
        "warnings.filterwarnings('ignore')"
      ],
      "execution_count": 0,
      "outputs": []
    },
    {
      "cell_type": "code",
      "metadata": {
        "colab_type": "code",
        "id": "HXdjBXc-zNXe",
        "colab": {}
      },
      "source": [
        "import string \n",
        "import re \n",
        "from numpy import array, argmax, random, take \n",
        "import pandas as pd \n",
        "import matplotlib.pyplot as plt \n",
        "%matplotlib inline \n",
        "pd.set_option('display.max_colwidth', 200)"
      ],
      "execution_count": 0,
      "outputs": []
    },
    {
      "cell_type": "code",
      "metadata": {
        "colab_type": "code",
        "id": "ElRcz5K3hJrC",
        "outputId": "99692ddd-18cb-43e5-b489-f0539437b0f1",
        "colab": {
          "base_uri": "https://localhost:8080/",
          "height": 34
        }
      },
      "source": [
        "from keras.models import Sequential \n",
        "from keras.layers import Dense, LSTM, Embedding, RepeatVector\n",
        "from keras.preprocessing.text import Tokenizer\n",
        "from keras.callbacks import ModelCheckpoint \n",
        "from keras.preprocessing.sequence import pad_sequences\n",
        "from keras.models import load_model \n",
        "from keras import optimizers \n"
      ],
      "execution_count": 3,
      "outputs": [
        {
          "output_type": "stream",
          "text": [
            "Using TensorFlow backend.\n"
          ],
          "name": "stderr"
        }
      ]
    },
    {
      "cell_type": "markdown",
      "metadata": {
        "colab_type": "text",
        "id": "XN_b91atnHye"
      },
      "source": [
        "# 2)- Reading Dataset"
      ]
    },
    {
      "cell_type": "code",
      "metadata": {
        "id": "jf8ouNXKzyIf",
        "colab_type": "code",
        "colab": {}
      },
      "source": [
        "df= pd.read_pickle('full_data_clean.pkl')"
      ],
      "execution_count": 0,
      "outputs": []
    },
    {
      "cell_type": "code",
      "metadata": {
        "id": "ZrtJAhNTzyLm",
        "colab_type": "code",
        "colab": {
          "base_uri": "https://localhost:8080/",
          "height": 34
        },
        "outputId": "6ad71737-48df-4f45-d6f8-acd4d7aae2b9"
      },
      "source": [
        "df.shape"
      ],
      "execution_count": 42,
      "outputs": [
        {
          "output_type": "execute_result",
          "data": {
            "text/plain": [
              "(22191, 2)"
            ]
          },
          "metadata": {
            "tags": []
          },
          "execution_count": 42
        }
      ]
    },
    {
      "cell_type": "code",
      "metadata": {
        "id": "znwOGp95zyPO",
        "colab_type": "code",
        "colab": {}
      },
      "source": [
        "df_random=df.sample(5000)"
      ],
      "execution_count": 0,
      "outputs": []
    },
    {
      "cell_type": "code",
      "metadata": {
        "id": "43cpILBZzySA",
        "colab_type": "code",
        "colab": {
          "base_uri": "https://localhost:8080/",
          "height": 642
        },
        "outputId": "be5115f5-f088-4f1f-8d00-dfd0981a5491"
      },
      "source": [
        "df_random.head(15)"
      ],
      "execution_count": 44,
      "outputs": [
        {
          "output_type": "execute_result",
          "data": {
            "text/html": [
              "<div>\n",
              "<style scoped>\n",
              "    .dataframe tbody tr th:only-of-type {\n",
              "        vertical-align: middle;\n",
              "    }\n",
              "\n",
              "    .dataframe tbody tr th {\n",
              "        vertical-align: top;\n",
              "    }\n",
              "\n",
              "    .dataframe thead th {\n",
              "        text-align: right;\n",
              "    }\n",
              "</style>\n",
              "<table border=\"1\" class=\"dataframe\">\n",
              "  <thead>\n",
              "    <tr style=\"text-align: right;\">\n",
              "      <th></th>\n",
              "      <th>eng</th>\n",
              "      <th>ger</th>\n",
              "    </tr>\n",
              "  </thead>\n",
              "  <tbody>\n",
              "    <tr>\n",
              "      <th>13353</th>\n",
              "      <td>the scale includes questions like many things i have to do are repetitive and monotonous and i have so many interests i dont have time to do everything</td>\n",
              "      <td>auf der skala finden sich aussagen wie viele dinge die ich tun muss wiederholen sich und sind monoton und ich habe so viele interessen dass ich nicht genug zeit fur alles habe</td>\n",
              "    </tr>\n",
              "    <tr>\n",
              "      <th>1566</th>\n",
              "      <td>the performance of treasury bond fell to against on friday evening and the bond to against on the previous day</td>\n",
              "      <td>die einnahmen der staatskasse innerhalb von zehn jahren sind freitag abend von auf zuruckgegangen und die einnahmen innerhalb von jahren gestern abend von auf</td>\n",
              "    </tr>\n",
              "    <tr>\n",
              "      <th>19122</th>\n",
              "      <td>peskov said putins reference to statehood was meant in the context of the broader autonomy that has been discussed for months with the kiev leadership as it struggles to allay fears in the russian...</td>\n",
              "      <td>peskow sagte dass putins verweis auf die staatlichkeit im kontext mit der groeren autonomie gesehen werden musse die seit monaten von der kiewer fuhrung diskutiert wird um befurchtungen in russisc...</td>\n",
              "    </tr>\n",
              "    <tr>\n",
              "      <th>20693</th>\n",
              "      <td>the handballers of rheinneckar lowen are being challenged this evening pm at bergischer hc</td>\n",
              "      <td>die handballer der rheinneckar lowen sind heute abend uhr beim bergischen hc gefordert</td>\n",
              "    </tr>\n",
              "    <tr>\n",
              "      <th>872</th>\n",
              "      <td>previously the commission said that bskybs stake thwarted competition and allowed it unfair influence over itv</td>\n",
              "      <td>zuvor hatte die kommission behauptet der anteil bskybs verzerre den wettbewerb und ermogliche ihm einen unlauteren einfluss auf den sender itv</td>\n",
              "    </tr>\n",
              "    <tr>\n",
              "      <th>8623</th>\n",
              "      <td>he then promised that his arrival to the head of the football would not mean any personnel housecleaning</td>\n",
              "      <td>damals versprach er auch dass sein einzug in die spitze des tschechischen fuballs keine personellen sauberungen bedeuten werde</td>\n",
              "    </tr>\n",
              "    <tr>\n",
              "      <th>15435</th>\n",
              "      <td>with this opinion she is at least not alone in the state capital</td>\n",
              "      <td>mit dieser meinung steht sie zumindest in der landeshauptstadt nicht allein da</td>\n",
              "    </tr>\n",
              "    <tr>\n",
              "      <th>12205</th>\n",
              "      <td>how many of those were present at the beginning in</td>\n",
              "      <td>wie viele davon waren von anfang an dh seit dabei</td>\n",
              "    </tr>\n",
              "    <tr>\n",
              "      <th>20020</th>\n",
              "      <td>following the strike which was halted on legal grounds negotiations with the pilots union cockpit vc in the pay dispute will be resumed on thursday</td>\n",
              "      <td>im tarifkonflikt mit der pilotenvereinigung cockpit vc sollen die verhandlungen nach dem gerichtlich gestoppten streik an diesem donnerstag wieder aufgenommen werden</td>\n",
              "    </tr>\n",
              "    <tr>\n",
              "      <th>525</th>\n",
              "      <td>since the acquisition of depfa hypo real estate has been a significant financer of government and infrastructure</td>\n",
              "      <td>die hypo real estate ist seit der depfaubernahme ein bedeutender staats und infrastrukturfinanzierer</td>\n",
              "    </tr>\n",
              "    <tr>\n",
              "      <th>15857</th>\n",
              "      <td>but he denied the changes were made at the request of mr obeid who mr tripodi acknowledged was urging a shift in government lease policy</td>\n",
              "      <td>doch er stritt ab die anderungen auf bitten von obeid vorgenommen zu haben der wie tripodi bestatigte auf eine umgestaltung der pachtregelungen der regierung gedrangt hatte</td>\n",
              "    </tr>\n",
              "    <tr>\n",
              "      <th>6225</th>\n",
              "      <td>for example in peru where economic growth has averaged a year since support for democracy has risen from a low of in to this year</td>\n",
              "      <td>in peru zb wo die wirtschaft seit jahrlich um ca wachst stieg die zahl der demokratiebefurworter von im jahr auf in diesem jahr</td>\n",
              "    </tr>\n",
              "    <tr>\n",
              "      <th>14688</th>\n",
              "      <td>the vehicles collided</td>\n",
              "      <td>die fahrzauge kollidierten</td>\n",
              "    </tr>\n",
              "    <tr>\n",
              "      <th>5766</th>\n",
              "      <td>and studies criticising companies are not normally published</td>\n",
              "      <td>fur unternehmen kritische studien wurden in der regel nicht publiziert</td>\n",
              "    </tr>\n",
              "    <tr>\n",
              "      <th>15030</th>\n",
              "      <td>pimp must go to prison</td>\n",
              "      <td>zuhalter muss ins gefangnis</td>\n",
              "    </tr>\n",
              "  </tbody>\n",
              "</table>\n",
              "</div>"
            ],
            "text/plain": [
              "                                                                                                                                                                                                           eng                                                                                                                                                                                                      ger\n",
              "13353                                                  the scale includes questions like many things i have to do are repetitive and monotonous and i have so many interests i dont have time to do everything                          auf der skala finden sich aussagen wie viele dinge die ich tun muss wiederholen sich und sind monoton und ich habe so viele interessen dass ich nicht genug zeit fur alles habe\n",
              "1566                                                                                            the performance of treasury bond fell to against on friday evening and the bond to against on the previous day                                           die einnahmen der staatskasse innerhalb von zehn jahren sind freitag abend von auf zuruckgegangen und die einnahmen innerhalb von jahren gestern abend von auf\n",
              "19122  peskov said putins reference to statehood was meant in the context of the broader autonomy that has been discussed for months with the kiev leadership as it struggles to allay fears in the russian...  peskow sagte dass putins verweis auf die staatlichkeit im kontext mit der groeren autonomie gesehen werden musse die seit monaten von der kiewer fuhrung diskutiert wird um befurchtungen in russisc...\n",
              "20693                                                                                                               the handballers of rheinneckar lowen are being challenged this evening pm at bergischer hc                                                                                                                   die handballer der rheinneckar lowen sind heute abend uhr beim bergischen hc gefordert\n",
              "872                                                                                             previously the commission said that bskybs stake thwarted competition and allowed it unfair influence over itv                                                           zuvor hatte die kommission behauptet der anteil bskybs verzerre den wettbewerb und ermogliche ihm einen unlauteren einfluss auf den sender itv\n",
              "8623                                                                                                  he then promised that his arrival to the head of the football would not mean any personnel housecleaning                                                                           damals versprach er auch dass sein einzug in die spitze des tschechischen fuballs keine personellen sauberungen bedeuten werde\n",
              "15435                                                                                                                                         with this opinion she is at least not alone in the state capital                                                                                                                           mit dieser meinung steht sie zumindest in der landeshauptstadt nicht allein da\n",
              "12205                                                                                                                                                       how many of those were present at the beginning in                                                                                                                                                        wie viele davon waren von anfang an dh seit dabei\n",
              "20020                                                      following the strike which was halted on legal grounds negotiations with the pilots union cockpit vc in the pay dispute will be resumed on thursday                                    im tarifkonflikt mit der pilotenvereinigung cockpit vc sollen die verhandlungen nach dem gerichtlich gestoppten streik an diesem donnerstag wieder aufgenommen werden\n",
              "525                                                                                           since the acquisition of depfa hypo real estate has been a significant financer of government and infrastructure                                                                                                     die hypo real estate ist seit der depfaubernahme ein bedeutender staats und infrastrukturfinanzierer\n",
              "15857                                                                 but he denied the changes were made at the request of mr obeid who mr tripodi acknowledged was urging a shift in government lease policy                             doch er stritt ab die anderungen auf bitten von obeid vorgenommen zu haben der wie tripodi bestatigte auf eine umgestaltung der pachtregelungen der regierung gedrangt hatte\n",
              "6225                                                                         for example in peru where economic growth has averaged a year since support for democracy has risen from a low of in to this year                                                                          in peru zb wo die wirtschaft seit jahrlich um ca wachst stieg die zahl der demokratiebefurworter von im jahr auf in diesem jahr\n",
              "14688                                                                                                                                                                                    the vehicles collided                                                                                                                                                                               die fahrzauge kollidierten\n",
              "5766                                                                                                                                              and studies criticising companies are not normally published                                                                                                                                   fur unternehmen kritische studien wurden in der regel nicht publiziert\n",
              "15030                                                                                                                                                                                   pimp must go to prison                                                                                                                                                                              zuhalter muss ins gefangnis"
            ]
          },
          "metadata": {
            "tags": []
          },
          "execution_count": 44
        }
      ]
    },
    {
      "cell_type": "code",
      "metadata": {
        "id": "o4au9mmW144H",
        "colab_type": "code",
        "colab": {}
      },
      "source": [
        "deu_eng=df_random.values"
      ],
      "execution_count": 0,
      "outputs": []
    },
    {
      "cell_type": "code",
      "metadata": {
        "id": "5azilzTootrW",
        "colab_type": "code",
        "colab": {
          "base_uri": "https://localhost:8080/",
          "height": 34
        },
        "outputId": "b5d4055f-9342-4470-cb53-0af0e2465744"
      },
      "source": [
        "type(deu_eng)"
      ],
      "execution_count": 46,
      "outputs": [
        {
          "output_type": "execute_result",
          "data": {
            "text/plain": [
              "numpy.ndarray"
            ]
          },
          "metadata": {
            "tags": []
          },
          "execution_count": 46
        }
      ]
    },
    {
      "cell_type": "code",
      "metadata": {
        "id": "MSFX69O1ns-b",
        "colab_type": "code",
        "colab": {
          "base_uri": "https://localhost:8080/",
          "height": 87
        },
        "outputId": "9af14242-b534-4ce0-eb44-9e59e8f75839"
      },
      "source": [
        "deu_eng[0]"
      ],
      "execution_count": 47,
      "outputs": [
        {
          "output_type": "execute_result",
          "data": {
            "text/plain": [
              "array(['the scale includes questions like many things i have to do are repetitive and monotonous and i have so many interests i dont have time to do everything',\n",
              "       'auf der skala finden sich aussagen wie viele dinge die ich tun muss wiederholen sich und sind monoton und ich habe so viele interessen dass ich nicht genug zeit fur alles habe'],\n",
              "      dtype=object)"
            ]
          },
          "metadata": {
            "tags": []
          },
          "execution_count": 47
        }
      ]
    },
    {
      "cell_type": "code",
      "metadata": {
        "colab_type": "code",
        "id": "o1FK1T2Kicbi",
        "outputId": "4cec239f-27eb-4ffd-8031-4cac36c4b5ce",
        "colab": {
          "base_uri": "https://localhost:8080/",
          "height": 171
        }
      },
      "source": [
        "# for english part \n",
        "deu_eng[:,0]"
      ],
      "execution_count": 48,
      "outputs": [
        {
          "output_type": "execute_result",
          "data": {
            "text/plain": [
              "array(['the scale includes questions like many things i have to do are repetitive and monotonous and i have so many interests i dont have time to do everything',\n",
              "       'the performance of treasury bond fell to against on friday evening and the bond to against on the previous day',\n",
              "       'peskov said putins reference to statehood was meant in the context of the broader autonomy that has been discussed for months with the kiev leadership as it struggles to allay fears in the russianspeaking areas that their cultural and linguistic rights are in danger',\n",
              "       ...,\n",
              "       'the suit seeks unspecified damages but the familys lawyer sam davis said he took the case for free and that the family plans to donate any money it gets to a childrens cancer charity',\n",
              "       'nancy pelosi chairwoman of the house of representatives provided the information that the house of representatives was expected to vote on the bill on monday',\n",
              "       'the england head coach trevor bayliss praised his attitude even when he was not performing as well as he can and that does not surprise me he is a team man above all else'],\n",
              "      dtype=object)"
            ]
          },
          "metadata": {
            "tags": []
          },
          "execution_count": 48
        }
      ]
    },
    {
      "cell_type": "code",
      "metadata": {
        "colab_type": "code",
        "id": "Z2CAJPD_ifVc",
        "outputId": "d83a268d-4bce-4c20-a007-864f37e2226b",
        "colab": {
          "base_uri": "https://localhost:8080/",
          "height": 171
        }
      },
      "source": [
        "# for german part of lang.\n",
        "deu_eng[:,1]"
      ],
      "execution_count": 49,
      "outputs": [
        {
          "output_type": "execute_result",
          "data": {
            "text/plain": [
              "array(['auf der skala finden sich aussagen wie viele dinge die ich tun muss wiederholen sich und sind monoton und ich habe so viele interessen dass ich nicht genug zeit fur alles habe',\n",
              "       'die einnahmen der staatskasse innerhalb von zehn jahren sind freitag abend von auf zuruckgegangen und die einnahmen innerhalb von jahren gestern abend von auf',\n",
              "       'peskow sagte dass putins verweis auf die staatlichkeit im kontext mit der groeren autonomie gesehen werden musse die seit monaten von der kiewer fuhrung diskutiert wird um befurchtungen in russischsprachigen gebieten zu zerstreuen dass deren kulturelle und sprachliche rechte gefahrdet seien',\n",
              "       ...,\n",
              "       'die klage lautet auf einen nicht naher bestimmten schadensersatz doch der anwalt der familie sam davis sagte dass er kein honorar in rechnung stelle und die familie plane das geld das sie bekomme der kinderkrebshilfe spenden wird',\n",
              "       'am sonntag teilte die sprecherin des reprasentantenhauses nancy pelosi mit dass das abgeordnetenhaus vermutlich bereits am montag uber den gesetzesentwurf abstimmen wird',\n",
              "       'der englandtrainer trevor bayliss lobte seine haltung auch wenn er nicht so gute leistungen erbrachte und das uberrascht mich nicht er ist vor allem ein teammann'],\n",
              "      dtype=object)"
            ]
          },
          "metadata": {
            "tags": []
          },
          "execution_count": 49
        }
      ]
    },
    {
      "cell_type": "markdown",
      "metadata": {
        "id": "lUZ6BSmvtJ1s",
        "colab_type": "text"
      },
      "source": [
        "# 3)-Text Pre-Processing"
      ]
    },
    {
      "cell_type": "markdown",
      "metadata": {
        "colab_type": "text",
        "id": "GEia-m7ViPLD"
      },
      "source": [
        "### 3.1)-Text cleaning"
      ]
    },
    {
      "cell_type": "code",
      "metadata": {
        "colab_type": "code",
        "id": "WmC81k-wh8ZJ",
        "colab": {}
      },
      "source": [
        "# Remove punctuation \n",
        "deu_eng[:,0] = [s.translate(str.maketrans('', '', string.punctuation)) for s in deu_eng[:,0]] \n",
        "deu_eng[:,1] = [s.translate(str.maketrans('', '', string.punctuation)) for s in deu_eng[:,1]] \n",
        "\n",
        "# convert text to lowercase \n",
        "for i in range(len(deu_eng)): \n",
        "    deu_eng[i,0] = deu_eng[i,0].lower() \n",
        "    deu_eng[i,1] = deu_eng[i,1].lower()"
      ],
      "execution_count": 0,
      "outputs": []
    },
    {
      "cell_type": "markdown",
      "metadata": {
        "colab_type": "text",
        "id": "4FdyDdXwiS9i"
      },
      "source": [
        "### 3.2)-Text to Sequence Conversion"
      ]
    },
    {
      "cell_type": "code",
      "metadata": {
        "colab_type": "code",
        "id": "8pxu1-xNh8cA",
        "outputId": "674316d3-e45a-4a8c-af40-f18da27759ed",
        "colab": {
          "base_uri": "https://localhost:8080/",
          "height": 281
        }
      },
      "source": [
        "# empty lists \n",
        "eng_l = [] \n",
        "deu_l = [] \n",
        "\n",
        "# populate the lists with sentence lengths \n",
        "for i in deu_eng[:,0]: \n",
        "      eng_l.append(len(i.split())) \n",
        "\n",
        "for i in deu_eng[:,1]: \n",
        "      deu_l.append(len(i.split())) \n",
        "\n",
        "length_df = pd.DataFrame({'eng':eng_l, 'deu':deu_l})\n",
        "length_df.hist(bins = 30) \n",
        "plt.show()"
      ],
      "execution_count": 51,
      "outputs": [
        {
          "output_type": "display_data",
          "data": {
            "image/png": "[encoded data removed]",
            "text/plain": [
              "<Figure size 432x288 with 2 Axes>"
            ]
          },
          "metadata": {
            "tags": []
          }
        }
      ]
    },
    {
      "cell_type": "markdown",
      "metadata": {
        "colab_type": "text",
        "id": "2De4ZERJzX_4"
      },
      "source": [
        "the maximum length of the German sentences is 78 and that of the English phrases is 75."
      ]
    },
    {
      "cell_type": "markdown",
      "metadata": {
        "colab_type": "text",
        "id": "Lpt6tCjfkGKu"
      },
      "source": [
        "### 3.3)-vectorize our text data \n",
        "\n",
        "by using Keras’s Tokenizer()"
      ]
    },
    {
      "cell_type": "code",
      "metadata": {
        "colab_type": "code",
        "id": "_j_y_uZ7h8e6",
        "outputId": "ccfeb015-1221-4291-c563-d3529633543e",
        "colab": {
          "base_uri": "https://localhost:8080/",
          "height": 34
        }
      },
      "source": [
        "# function to build a tokenizer \n",
        "def tokenization(lines): \n",
        "      tokenizer = Tokenizer() \n",
        "      tokenizer.fit_on_texts(lines) \n",
        "      return tokenizer\n",
        "\n",
        "# prepare english tokenizer \n",
        "eng_tokenizer = tokenization(deu_eng[:, 0]) \n",
        "eng_vocab_size = len(eng_tokenizer.word_index) + 1 \n",
        "eng_length = 8 \n",
        "\n",
        "print('English Vocabulary Size: %d' % eng_vocab_size)"
      ],
      "execution_count": 52,
      "outputs": [
        {
          "output_type": "stream",
          "text": [
            "English Vocabulary Size: 14142\n"
          ],
          "name": "stdout"
        }
      ]
    },
    {
      "cell_type": "code",
      "metadata": {
        "colab_type": "code",
        "id": "0ha_ZNySh8hh",
        "outputId": "bb14d9d0-4f64-4baa-b302-d05aaccf7aad",
        "colab": {
          "base_uri": "https://localhost:8080/",
          "height": 34
        }
      },
      "source": [
        "# prepare Deutch tokenizer \n",
        "deu_tokenizer = tokenization(deu_eng[:, 1]) \n",
        "deu_vocab_size = len(deu_tokenizer.word_index) + 1 \n",
        "deu_length = 8 \n",
        "print('Deutch Vocabulary Size: %d' % deu_vocab_size)"
      ],
      "execution_count": 53,
      "outputs": [
        {
          "output_type": "stream",
          "text": [
            "Deutch Vocabulary Size: 20761\n"
          ],
          "name": "stdout"
        }
      ]
    },
    {
      "cell_type": "markdown",
      "metadata": {
        "colab_type": "text",
        "id": "XvmowmplzfdT"
      },
      "source": [
        "There is difference in amount of words in two languages.We need to encode sequence"
      ]
    },
    {
      "cell_type": "markdown",
      "metadata": {
        "colab_type": "text",
        "id": "cUY-Py6WzhtB"
      },
      "source": [
        "### 3.4)-encode and pad sequences "
      ]
    },
    {
      "cell_type": "code",
      "metadata": {
        "colab_type": "code",
        "id": "QElAizsykOtJ",
        "colab": {}
      },
      "source": [
        "def encode_sequences(tokenizer, length, lines):          \n",
        "         # integer encode sequences          \n",
        "         seq = tokenizer.texts_to_sequences(lines)          \n",
        "         # pad sequences with 0 values          \n",
        "         seq = pad_sequences(seq, maxlen=length, padding='post')           \n",
        "         return seq"
      ],
      "execution_count": 0,
      "outputs": []
    },
    {
      "cell_type": "markdown",
      "metadata": {
        "colab_type": "text",
        "id": "408A3w7Ukb4r"
      },
      "source": [
        "# 4)-Model Building"
      ]
    },
    {
      "cell_type": "markdown",
      "metadata": {
        "colab_type": "text",
        "id": "kJF5iWUOnUgC"
      },
      "source": [
        "### 4.1)- Train-test Split\n",
        "\n",
        "80%-20%"
      ]
    },
    {
      "cell_type": "code",
      "metadata": {
        "colab_type": "code",
        "id": "GzxozTM0kZk7",
        "colab": {}
      },
      "source": [
        "from sklearn.model_selection import train_test_split \n",
        "\n",
        "# split data into train and test set \n",
        "train,test= train_test_split(deu_eng,test_size=0.2,random_state= 12)"
      ],
      "execution_count": 0,
      "outputs": []
    },
    {
      "cell_type": "markdown",
      "metadata": {
        "colab_type": "text",
        "id": "xvyO7SdQkr88"
      },
      "source": [
        "### 4.2)- Defining input and target\n",
        "We will encode English sentences as the input sequences and German sentences as the target sequences"
      ]
    },
    {
      "cell_type": "code",
      "metadata": {
        "colab_type": "code",
        "id": "wJvJMU9Vzr-7",
        "outputId": "6c9eb125-41fb-4d2f-f0ed-5a157309c803",
        "colab": {
          "base_uri": "https://localhost:8080/",
          "height": 171
        }
      },
      "source": [
        "# english version\n",
        "train[:, 0]"
      ],
      "execution_count": 56,
      "outputs": [
        {
          "output_type": "execute_result",
          "data": {
            "text/plain": [
              "array(['several people who went through the site noted that in the countryhouse whose wall is beige with brown the gate was wide open',\n",
              "       'get some of the words in your mouth and then youll understand why we all love shakespeare so much',\n",
              "       'eight wa winners have celebrated division one wins last month capping off a lucky few weeks for the states players',\n",
              "       ...,\n",
              "       'an industry which has cost quebec taxpayers dearly especially in the and',\n",
              "       'francisco catunda the charge daffaires of the brazilian embassy in the honduran capital told tv globo that mel knows that he must leave the embassywhere he has been a refugee since september before that date',\n",
              "       'georgy does not like to look at this picture and it is hidden it in the bookcase in our home'],\n",
              "      dtype=object)"
            ]
          },
          "metadata": {
            "tags": []
          },
          "execution_count": 56
        }
      ]
    },
    {
      "cell_type": "code",
      "metadata": {
        "colab_type": "code",
        "id": "TcMT6wFoztLT",
        "outputId": "fb6dcf68-c096-488c-9512-637cc737ecdc",
        "colab": {
          "base_uri": "https://localhost:8080/",
          "height": 171
        }
      },
      "source": [
        "# english version\n",
        "train[:, 1]"
      ],
      "execution_count": 57,
      "outputs": [
        {
          "output_type": "execute_result",
          "data": {
            "text/plain": [
              "array(['mehrere vorubergehende sahen dass die tur des von einer beigebraunen mauer umgebenen landhauses sperrangelweit aufstand',\n",
              "       'nimm ein paar der worte in den mund und dann wirst du verstehen warum wir alle shakespeare so lieben',\n",
              "       'acht wagewinner haben im vergangenen monat gewinne in der ersten division gefeiert ein gebuhrender abschluss fur ein paar gluckliche wochen fur die spieler im staat',\n",
              "       ...,\n",
              "       'eine industrie die fur den steuerzahler quebecs sehr teuer war insbesondere in den und jahren',\n",
              "       'francisco catunda der handelsdelegierte der brasilianischen botschaft in der honduranischen hauptstadt bestatigte dem fernsehsender tv globo dass mel wei dass er vor diesem datum die botschaft in der er seit dem september asyl gefunden hatte verlassen haben muss',\n",
              "       'georgij sieht das bild nicht gerne und es ist bei uns zu hause im bucherregal versteckt'],\n",
              "      dtype=object)"
            ]
          },
          "metadata": {
            "tags": []
          },
          "execution_count": 57
        }
      ]
    },
    {
      "cell_type": "code",
      "metadata": {
        "colab_type": "code",
        "id": "P6ZhWiJdkkb8",
        "colab": {}
      },
      "source": [
        "# prepare training data \n",
        "trainX = encode_sequences(eng_tokenizer, deu_length, train[:, 0]) \n",
        "trainY = encode_sequences(deu_tokenizer, eng_length, train[:, 1]) \n",
        "\n",
        "# prepare validation data \n",
        "testX = encode_sequences(eng_tokenizer, deu_length, test[:, 0]) \n",
        "testY = encode_sequences(deu_tokenizer, eng_length, test[:, 1])"
      ],
      "execution_count": 0,
      "outputs": []
    },
    {
      "cell_type": "code",
      "metadata": {
        "colab_type": "code",
        "id": "f2LKJrFfz0GI",
        "outputId": "bc84b7a5-b3bd-4407-9fc5-cd59ffcca6b3",
        "colab": {
          "base_uri": "https://localhost:8080/",
          "height": 101
        }
      },
      "source": [
        "print(trainX[:5])"
      ],
      "execution_count": 59,
      "outputs": [
        {
          "output_type": "stream",
          "text": [
            "[[10958    12  2413     1  3208    13  2220   319]\n",
            " [ 1073   246    38    47   376  5776    62   144]\n",
            " [    6  3991   158   458     9     1   171   330]\n",
            " [ 1067  3369   966   260   626     1   153  2733]\n",
            " [ 4300     6   377   962  3058    12    26  1005]]\n"
          ],
          "name": "stdout"
        }
      ]
    },
    {
      "cell_type": "code",
      "metadata": {
        "colab_type": "code",
        "id": "L81CkA-Rz0Jh",
        "outputId": "8632ef64-f6e2-4b27-dd0a-7d4aa7ce009d",
        "colab": {
          "base_uri": "https://localhost:8080/",
          "height": 101
        }
      },
      "source": [
        "print(trainY[:5])"
      ],
      "execution_count": 60,
      "outputs": [
        {
          "output_type": "stream",
          "text": [
            "[[    5    34 14918  1674 14919 14920 14921  6496]\n",
            " [  387   768   416    48   111  5851    44  2560]\n",
            " [  327  5293   427    13     1   471    14   530]\n",
            " [ 7046   464  1114     7   658  4185     6   299]\n",
            " [   49  4010    18  4011     9    32 13797  1170]]\n"
          ],
          "name": "stdout"
        }
      ]
    },
    {
      "cell_type": "code",
      "metadata": {
        "colab_type": "code",
        "id": "plUoF_-gz0Mh",
        "outputId": "4515c610-e572-4d47-f6b5-532bf0e5a6fe",
        "colab": {
          "base_uri": "https://localhost:8080/",
          "height": 84
        }
      },
      "source": [
        "print(trainX.shape)\n",
        "print(trainY.shape)\n",
        "print(testX.shape)\n",
        "print(testY.shape)"
      ],
      "execution_count": 61,
      "outputs": [
        {
          "output_type": "stream",
          "text": [
            "(4000, 8)\n",
            "(4000, 8)\n",
            "(1000, 8)\n",
            "(1000, 8)\n"
          ],
          "name": "stdout"
        }
      ]
    },
    {
      "cell_type": "markdown",
      "metadata": {
        "colab_type": "text",
        "id": "7ubte9AUngfx"
      },
      "source": [
        "### 4.3)- build NMT model"
      ]
    },
    {
      "cell_type": "code",
      "metadata": {
        "colab_type": "code",
        "id": "CuEMUhwV248X",
        "outputId": "34bce679-e623-4149-8a4f-68e5b48ac730",
        "colab": {
          "base_uri": "https://localhost:8080/",
          "height": 34
        }
      },
      "source": [
        "eng_length"
      ],
      "execution_count": 62,
      "outputs": [
        {
          "output_type": "execute_result",
          "data": {
            "text/plain": [
              "8"
            ]
          },
          "metadata": {
            "tags": []
          },
          "execution_count": 62
        }
      ]
    },
    {
      "cell_type": "code",
      "metadata": {
        "colab_type": "code",
        "id": "afiv_7mw26av",
        "outputId": "4f84b606-fc6d-4dde-82d9-5c3d16f3efeb",
        "colab": {
          "base_uri": "https://localhost:8080/",
          "height": 34
        }
      },
      "source": [
        "deu_length"
      ],
      "execution_count": 63,
      "outputs": [
        {
          "output_type": "execute_result",
          "data": {
            "text/plain": [
              "8"
            ]
          },
          "metadata": {
            "tags": []
          },
          "execution_count": 63
        }
      ]
    },
    {
      "cell_type": "code",
      "metadata": {
        "colab_type": "code",
        "id": "yORpCfMCkkjz",
        "colab": {}
      },
      "source": [
        " def build_model(in_vocab,out_vocab, in_timesteps,out_timesteps,n):   \n",
        "      model = Sequential() \n",
        "      model.add(Embedding(in_vocab, n, input_length=in_timesteps,   \n",
        "      mask_zero=True)) \n",
        "      model.add(LSTM(n)) \n",
        "      model.add(RepeatVector(out_timesteps)) \n",
        "      model.add(LSTM(n, return_sequences=True))  \n",
        "      model.add(Dense(out_vocab, activation='softmax')) \n",
        "      return model"
      ],
      "execution_count": 0,
      "outputs": []
    },
    {
      "cell_type": "code",
      "metadata": {
        "colab_type": "code",
        "id": "H_0LMdC6lgnp",
        "colab": {}
      },
      "source": [
        "# model compilation (with 512 hidden units)\n",
        "model = build_model(eng_vocab_size,deu_vocab_size, eng_length, deu_length, 512)\n",
        "\n",
        "rms = optimizers.RMSprop(lr=0.001) \n",
        "model.compile(optimizer=rms, loss='sparse_categorical_crossentropy')"
      ],
      "execution_count": 0,
      "outputs": []
    },
    {
      "cell_type": "code",
      "metadata": {
        "colab_type": "code",
        "id": "BA8KW2_80Hs3",
        "outputId": "bc896441-8752-433a-ba93-4d9e37ac117d",
        "colab": {
          "base_uri": "https://localhost:8080/",
          "height": 319
        }
      },
      "source": [
        "model.summary()"
      ],
      "execution_count": 27,
      "outputs": [
        {
          "output_type": "stream",
          "text": [
            "Model: \"sequential_1\"\n",
            "_________________________________________________________________\n",
            "Layer (type)                 Output Shape              Param #   \n",
            "=================================================================\n",
            "embedding_1 (Embedding)      (None, 8, 512)            3702272   \n",
            "_________________________________________________________________\n",
            "lstm_1 (LSTM)                (None, 512)               2099200   \n",
            "_________________________________________________________________\n",
            "repeat_vector_1 (RepeatVecto (None, 8, 512)            0         \n",
            "_________________________________________________________________\n",
            "lstm_2 (LSTM)                (None, 8, 512)            2099200   \n",
            "_________________________________________________________________\n",
            "dense_1 (Dense)              (None, 8, 9284)           4762692   \n",
            "=================================================================\n",
            "Total params: 12,663,364\n",
            "Trainable params: 12,663,364\n",
            "Non-trainable params: 0\n",
            "_________________________________________________________________\n"
          ],
          "name": "stdout"
        }
      ]
    },
    {
      "cell_type": "code",
      "metadata": {
        "colab_type": "code",
        "id": "9M1ukVFAlkFz",
        "outputId": "bb5a2764-69bd-4320-9a34-efed0a97afc4",
        "colab": {
          "base_uri": "https://localhost:8080/",
          "height": 1000
        }
      },
      "source": [
        "filename = 'model_translate.h1' \n",
        "\n",
        "# set checkpoint\n",
        "checkpoint = ModelCheckpoint(filename, monitor='val_loss',  \n",
        "                             verbose=1, save_best_only=True, \n",
        "                             mode='min') \n",
        "\n",
        "\n",
        "# train model \n",
        "history = model.fit(trainX, trainY.reshape(trainY.shape[0], trainY.shape[1], 1), \n",
        "                    epochs=30, batch_size=512, validation_split = 0.2, \n",
        "                    callbacks=[checkpoint], verbose=1)"
      ],
      "execution_count": 66,
      "outputs": [
        {
          "output_type": "stream",
          "text": [
            "Train on 3200 samples, validate on 800 samples\n",
            "Epoch 1/30\n",
            "3200/3200 [==============================] - 5s 2ms/step - loss: 9.1959 - val_loss: 8.1035\n",
            "\n",
            "Epoch 00001: val_loss improved from inf to 8.10350, saving model to model_translate.h1\n",
            "Epoch 2/30\n",
            "3200/3200 [==============================] - 3s 913us/step - loss: 7.7073 - val_loss: 8.2315\n",
            "\n",
            "Epoch 00002: val_loss did not improve from 8.10350\n",
            "Epoch 3/30\n",
            "3200/3200 [==============================] - 3s 926us/step - loss: 7.5113 - val_loss: 8.4340\n",
            "\n",
            "Epoch 00003: val_loss did not improve from 8.10350\n",
            "Epoch 4/30\n",
            "3200/3200 [==============================] - 3s 922us/step - loss: 7.4654 - val_loss: 8.4304\n",
            "\n",
            "Epoch 00004: val_loss did not improve from 8.10350\n",
            "Epoch 5/30\n",
            "3200/3200 [==============================] - 3s 919us/step - loss: 7.3780 - val_loss: 8.5961\n",
            "\n",
            "Epoch 00005: val_loss did not improve from 8.10350\n",
            "Epoch 6/30\n",
            "3200/3200 [==============================] - 3s 912us/step - loss: 7.3818 - val_loss: 8.6059\n",
            "\n",
            "Epoch 00006: val_loss did not improve from 8.10350\n",
            "Epoch 7/30\n",
            "3200/3200 [==============================] - 3s 921us/step - loss: 7.3151 - val_loss: 8.6859\n",
            "\n",
            "Epoch 00007: val_loss did not improve from 8.10350\n",
            "Epoch 8/30\n",
            "3200/3200 [==============================] - 3s 919us/step - loss: 7.3076 - val_loss: 8.7533\n",
            "\n",
            "Epoch 00008: val_loss did not improve from 8.10350\n",
            "Epoch 9/30\n",
            "3200/3200 [==============================] - 3s 918us/step - loss: 7.2651 - val_loss: 8.7916\n",
            "\n",
            "Epoch 00009: val_loss did not improve from 8.10350\n",
            "Epoch 10/30\n",
            "3200/3200 [==============================] - 3s 927us/step - loss: 7.2475 - val_loss: 8.8246\n",
            "\n",
            "Epoch 00010: val_loss did not improve from 8.10350\n",
            "Epoch 11/30\n",
            "3200/3200 [==============================] - 3s 921us/step - loss: 7.2004 - val_loss: 8.8454\n",
            "\n",
            "Epoch 00011: val_loss did not improve from 8.10350\n",
            "Epoch 12/30\n",
            "3200/3200 [==============================] - 3s 928us/step - loss: 7.1633 - val_loss: 8.8378\n",
            "\n",
            "Epoch 00012: val_loss did not improve from 8.10350\n",
            "Epoch 13/30\n",
            "3200/3200 [==============================] - 3s 923us/step - loss: 7.2318 - val_loss: 8.8487\n",
            "\n",
            "Epoch 00013: val_loss did not improve from 8.10350\n",
            "Epoch 14/30\n",
            "3200/3200 [==============================] - 3s 922us/step - loss: 7.1064 - val_loss: 8.8271\n",
            "\n",
            "Epoch 00014: val_loss did not improve from 8.10350\n",
            "Epoch 15/30\n",
            "3200/3200 [==============================] - 3s 924us/step - loss: 7.0839 - val_loss: 8.8324\n",
            "\n",
            "Epoch 00015: val_loss did not improve from 8.10350\n",
            "Epoch 16/30\n",
            "3200/3200 [==============================] - 3s 923us/step - loss: 7.0602 - val_loss: 8.8629\n",
            "\n",
            "Epoch 00016: val_loss did not improve from 8.10350\n",
            "Epoch 17/30\n",
            "3200/3200 [==============================] - 3s 924us/step - loss: 7.0060 - val_loss: 8.8356\n",
            "\n",
            "Epoch 00017: val_loss did not improve from 8.10350\n",
            "Epoch 18/30\n",
            "3200/3200 [==============================] - 3s 925us/step - loss: 6.9772 - val_loss: 8.9156\n",
            "\n",
            "Epoch 00018: val_loss did not improve from 8.10350\n",
            "Epoch 19/30\n",
            "3200/3200 [==============================] - 3s 930us/step - loss: 6.9630 - val_loss: 8.8963\n",
            "\n",
            "Epoch 00019: val_loss did not improve from 8.10350\n",
            "Epoch 20/30\n",
            "3200/3200 [==============================] - 3s 921us/step - loss: 6.9098 - val_loss: 8.8972\n",
            "\n",
            "Epoch 00020: val_loss did not improve from 8.10350\n",
            "Epoch 21/30\n",
            "3200/3200 [==============================] - 3s 928us/step - loss: 6.9099 - val_loss: 8.9005\n",
            "\n",
            "Epoch 00021: val_loss did not improve from 8.10350\n",
            "Epoch 22/30\n",
            "3200/3200 [==============================] - 3s 921us/step - loss: 6.8401 - val_loss: 8.9471\n",
            "\n",
            "Epoch 00022: val_loss did not improve from 8.10350\n",
            "Epoch 23/30\n",
            "3200/3200 [==============================] - 3s 936us/step - loss: 6.8349 - val_loss: 8.9146\n",
            "\n",
            "Epoch 00023: val_loss did not improve from 8.10350\n",
            "Epoch 24/30\n",
            "3200/3200 [==============================] - 3s 921us/step - loss: 6.7740 - val_loss: 8.9129\n",
            "\n",
            "Epoch 00024: val_loss did not improve from 8.10350\n",
            "Epoch 25/30\n",
            "3200/3200 [==============================] - 3s 932us/step - loss: 6.8687 - val_loss: 8.9188\n",
            "\n",
            "Epoch 00025: val_loss did not improve from 8.10350\n",
            "Epoch 26/30\n",
            "3200/3200 [==============================] - 3s 930us/step - loss: 6.7335 - val_loss: 8.9763\n",
            "\n",
            "Epoch 00026: val_loss did not improve from 8.10350\n",
            "Epoch 27/30\n",
            "3200/3200 [==============================] - 3s 927us/step - loss: 6.7040 - val_loss: 8.9388\n",
            "\n",
            "Epoch 00027: val_loss did not improve from 8.10350\n",
            "Epoch 28/30\n",
            "3200/3200 [==============================] - 3s 926us/step - loss: 6.6788 - val_loss: 8.9802\n",
            "\n",
            "Epoch 00028: val_loss did not improve from 8.10350\n",
            "Epoch 29/30\n",
            "3200/3200 [==============================] - 3s 928us/step - loss: 6.6564 - val_loss: 8.9665\n",
            "\n",
            "Epoch 00029: val_loss did not improve from 8.10350\n",
            "Epoch 30/30\n",
            "3200/3200 [==============================] - 3s 931us/step - loss: 6.5856 - val_loss: 9.0492\n",
            "\n",
            "Epoch 00030: val_loss did not improve from 8.10350\n"
          ],
          "name": "stdout"
        }
      ]
    },
    {
      "cell_type": "markdown",
      "metadata": {
        "colab_type": "text",
        "id": "nwrL0_sjmUuO"
      },
      "source": [
        "# 5)-Plotting results"
      ]
    },
    {
      "cell_type": "code",
      "metadata": {
        "colab_type": "code",
        "id": "iUYdtjQXlupF",
        "outputId": "372d8231-d2a9-426f-f686-ed09fb01737c",
        "colab": {
          "base_uri": "https://localhost:8080/",
          "height": 269
        }
      },
      "source": [
        "plt.plot(history.history['loss']) \n",
        "plt.plot(history.history['val_loss']) \n",
        "plt.legend(['train','validation']) \n",
        "plt.show()"
      ],
      "execution_count": 67,
      "outputs": [
        {
          "output_type": "display_data",
          "data": {
            "image/png": "[encoded data removed]",
            "text/plain": [
              "<Figure size 432x288 with 1 Axes>"
            ]
          },
          "metadata": {
            "tags": []
          }
        }
      ]
    },
    {
      "cell_type": "markdown",
      "metadata": {
        "colab_type": "text",
        "id": "xQVCiaNDn4VJ"
      },
      "source": [
        "As you can see in the above plot, the validation loss stopped decreasing after 25 epochs. It did improve but not very significant."
      ]
    },
    {
      "cell_type": "markdown",
      "metadata": {
        "colab_type": "text",
        "id": "FgePSmZBmSbn"
      },
      "source": [
        "# 6)-Make Predictions"
      ]
    },
    {
      "cell_type": "code",
      "metadata": {
        "colab_type": "code",
        "id": "6gh_CukCl7Al",
        "colab": {}
      },
      "source": [
        "model = load_model('model_translate.h1') \n",
        "\n",
        "preds = model.predict_classes(testX.reshape((testX.shape[0], testX.shape[1])))"
      ],
      "execution_count": 0,
      "outputs": []
    },
    {
      "cell_type": "markdown",
      "metadata": {
        "colab_type": "text",
        "id": "M-DaR0x4oA4P"
      },
      "source": [
        "These predictions are sequences of integers. We need to convert these integers to their corresponding words."
      ]
    },
    {
      "cell_type": "markdown",
      "metadata": {
        "colab_type": "text",
        "id": "VU6IOmOOoB3f"
      },
      "source": [
        "### 6.1)- Convert integers to words"
      ]
    },
    {
      "cell_type": "code",
      "metadata": {
        "colab_type": "code",
        "id": "oiy9gGAAmAat",
        "colab": {}
      },
      "source": [
        "def get_word(n, tokenizer):  \n",
        "      for word, index in tokenizer.word_index.items():                       \n",
        "          if index == n: \n",
        "              return word \n",
        "      return None"
      ],
      "execution_count": 0,
      "outputs": []
    },
    {
      "cell_type": "markdown",
      "metadata": {
        "colab_type": "text",
        "id": "KqSwZTcXmDTW"
      },
      "source": [
        "### 6.2)-Convert predictions into text (German)"
      ]
    },
    {
      "cell_type": "code",
      "metadata": {
        "colab_type": "code",
        "id": "Y82jlYQMmAg0",
        "colab": {}
      },
      "source": [
        "preds_text = [] \n",
        "for i in preds:        \n",
        "       temp = []        \n",
        "       for j in range(len(i)):             \n",
        "            t = get_word(i[j], deu_tokenizer)             \n",
        "            if j > 0:                 \n",
        "                if (t==get_word(i[j-1],deu_tokenizer))or(t== None):                       \n",
        "                     temp.append('')                 \n",
        "                else:                      \n",
        "                     temp.append(t)             \n",
        "            else:                    \n",
        "                if(t == None):                                   \n",
        "                     temp.append('')                    \n",
        "                else:                           \n",
        "                     temp.append(t)        \n",
        "       preds_text.append(' '.join(temp))"
      ],
      "execution_count": 0,
      "outputs": []
    },
    {
      "cell_type": "code",
      "metadata": {
        "colab_type": "code",
        "id": "XOAI5cB8mAj3",
        "colab": {}
      },
      "source": [
        "pred_df = pd.DataFrame({'actual' : test[:,1], 'predicted' : preds_text})"
      ],
      "execution_count": 0,
      "outputs": []
    },
    {
      "cell_type": "code",
      "metadata": {
        "colab_type": "code",
        "id": "S2orsrv6oo4o",
        "outputId": "339b2093-6dab-4b89-b0a3-6a242afbf376",
        "colab": {
          "base_uri": "https://localhost:8080/",
          "height": 195
        }
      },
      "source": [
        "# 1st 5 rows\n",
        "pred_df.head(5)"
      ],
      "execution_count": 72,
      "outputs": [
        {
          "output_type": "execute_result",
          "data": {
            "text/html": [
              "<div>\n",
              "<style scoped>\n",
              "    .dataframe tbody tr th:only-of-type {\n",
              "        vertical-align: middle;\n",
              "    }\n",
              "\n",
              "    .dataframe tbody tr th {\n",
              "        vertical-align: top;\n",
              "    }\n",
              "\n",
              "    .dataframe thead th {\n",
              "        text-align: right;\n",
              "    }\n",
              "</style>\n",
              "<table border=\"1\" class=\"dataframe\">\n",
              "  <thead>\n",
              "    <tr style=\"text-align: right;\">\n",
              "      <th></th>\n",
              "      <th>actual</th>\n",
              "      <th>predicted</th>\n",
              "    </tr>\n",
              "  </thead>\n",
              "  <tbody>\n",
              "    <tr>\n",
              "      <th>0</th>\n",
              "      <td>der ehemalige eukommissar hatte gestern vor dem heutigen aufeinandertreffen von gewerkschaften und arbeitgeberschaft eine verhandlung mit den politischen parteien abgehalten</td>\n",
              "      <td>der</td>\n",
              "    </tr>\n",
              "    <tr>\n",
              "      <th>1</th>\n",
              "      <td>eine mit der situation vertraute person sagte reuters am montag die kredithilfen beliefen sich auf bis zu milliarden euro</td>\n",
              "      <td>der</td>\n",
              "    </tr>\n",
              "    <tr>\n",
              "      <th>2</th>\n",
              "      <td>dann ging die zeit der alten freien jedoch nicht offiziell anerkannten maler damals zu ende und neue und freie maler wie ich waren unverstandlich</td>\n",
              "      <td>der</td>\n",
              "    </tr>\n",
              "    <tr>\n",
              "      <th>3</th>\n",
              "      <td>wie die zeitung meldet haben bis jetzt die wiener borse die nasdaq transatlantic die new york stock exchange die londoner borse und die deutsche borse angebote gelegt</td>\n",
              "      <td>der</td>\n",
              "    </tr>\n",
              "    <tr>\n",
              "      <th>4</th>\n",
              "      <td>war aber die schwanzneigung vornehmlich nach links wieder aus perspektive des hundes der wedelt so stieg ihre herzfrequenz und sie sahen unruhig aus</td>\n",
              "      <td>der</td>\n",
              "    </tr>\n",
              "  </tbody>\n",
              "</table>\n",
              "</div>"
            ],
            "text/plain": [
              "                                                                                                                                                                          actual   predicted\n",
              "0  der ehemalige eukommissar hatte gestern vor dem heutigen aufeinandertreffen von gewerkschaften und arbeitgeberschaft eine verhandlung mit den politischen parteien abgehalten  der       \n",
              "1                                                      eine mit der situation vertraute person sagte reuters am montag die kredithilfen beliefen sich auf bis zu milliarden euro  der       \n",
              "2                              dann ging die zeit der alten freien jedoch nicht offiziell anerkannten maler damals zu ende und neue und freie maler wie ich waren unverstandlich  der       \n",
              "3         wie die zeitung meldet haben bis jetzt die wiener borse die nasdaq transatlantic die new york stock exchange die londoner borse und die deutsche borse angebote gelegt  der       \n",
              "4                           war aber die schwanzneigung vornehmlich nach links wieder aus perspektive des hundes der wedelt so stieg ihre herzfrequenz und sie sahen unruhig aus  der       "
            ]
          },
          "metadata": {
            "tags": []
          },
          "execution_count": 72
        }
      ]
    },
    {
      "cell_type": "code",
      "metadata": {
        "colab_type": "code",
        "id": "LPocsO00mJy-",
        "outputId": "9a80196e-26b8-41e5-abb9-e9947302f921",
        "colab": {
          "base_uri": "https://localhost:8080/",
          "height": 195
        }
      },
      "source": [
        "# print 5 rows randomly \n",
        "pred_df.sample(5)"
      ],
      "execution_count": 73,
      "outputs": [
        {
          "output_type": "execute_result",
          "data": {
            "text/html": [
              "<div>\n",
              "<style scoped>\n",
              "    .dataframe tbody tr th:only-of-type {\n",
              "        vertical-align: middle;\n",
              "    }\n",
              "\n",
              "    .dataframe tbody tr th {\n",
              "        vertical-align: top;\n",
              "    }\n",
              "\n",
              "    .dataframe thead th {\n",
              "        text-align: right;\n",
              "    }\n",
              "</style>\n",
              "<table border=\"1\" class=\"dataframe\">\n",
              "  <thead>\n",
              "    <tr style=\"text-align: right;\">\n",
              "      <th></th>\n",
              "      <th>actual</th>\n",
              "      <th>predicted</th>\n",
              "    </tr>\n",
              "  </thead>\n",
              "  <tbody>\n",
              "    <tr>\n",
              "      <th>841</th>\n",
              "      <td>es sei ihm ein moralisches bedurfnis diese anmerkung zu machen</td>\n",
              "      <td>der</td>\n",
              "    </tr>\n",
              "    <tr>\n",
              "      <th>290</th>\n",
              "      <td>einige kameras sind nur fur bis zu fu zugelassen andere bis oder fu</td>\n",
              "      <td>der</td>\n",
              "    </tr>\n",
              "    <tr>\n",
              "      <th>591</th>\n",
              "      <td>die regierung gibt renamo die schuld fur die zusammenstoe und beschuldigt die organisation soldaten angegriffen zu haben</td>\n",
              "      <td>der</td>\n",
              "    </tr>\n",
              "    <tr>\n",
              "      <th>657</th>\n",
              "      <td>ich glaube an systematisches vorgehen und das ist etwas was mirek pelta nicht bringt</td>\n",
              "      <td>der</td>\n",
              "    </tr>\n",
              "    <tr>\n",
              "      <th>568</th>\n",
              "      <td>am teuerste wird es fur kunden die es selten maximal zehnmal im monat verwenden namlich euro pro monat</td>\n",
              "      <td>der</td>\n",
              "    </tr>\n",
              "  </tbody>\n",
              "</table>\n",
              "</div>"
            ],
            "text/plain": [
              "                                                                                                                       actual   predicted\n",
              "841                                                            es sei ihm ein moralisches bedurfnis diese anmerkung zu machen  der       \n",
              "290                                                       einige kameras sind nur fur bis zu fu zugelassen andere bis oder fu  der       \n",
              "591  die regierung gibt renamo die schuld fur die zusammenstoe und beschuldigt die organisation soldaten angegriffen zu haben  der       \n",
              "657                                      ich glaube an systematisches vorgehen und das ist etwas was mirek pelta nicht bringt  der       \n",
              "568                    am teuerste wird es fur kunden die es selten maximal zehnmal im monat verwenden namlich euro pro monat  der       "
            ]
          },
          "metadata": {
            "tags": []
          },
          "execution_count": 73
        }
      ]
    }
  ]
}