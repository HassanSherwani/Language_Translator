{
  "nbformat": 4,
  "nbformat_minor": 0,
  "metadata": {
    "colab": {
      "name": "Preprocess.ipynb",
      "version": "0.3.2",
      "provenance": [],
      "collapsed_sections": []
    },
    "kernelspec": {
      "name": "python3",
      "display_name": "Python 3"
    },
    "accelerator": "GPU"
  },
  "cells": [
    {
      "cell_type": "code",
      "metadata": {
        "id": "2RX6yTTaKtav",
        "colab_type": "code",
        "colab": {}
      },
      "source": [
        ""
      ],
      "execution_count": 0,
      "outputs": []
    },
    {
      "cell_type": "markdown",
      "metadata": {
        "id": "_t3V5W67K5zX",
        "colab_type": "text"
      },
      "source": [
        "# Machine Translation\n",
        "\n"
      ]
    },
    {
      "cell_type": "markdown",
      "metadata": {
        "id": "8Q5A1ySzLPrq",
        "colab_type": "text"
      },
      "source": [
        "# 1)- Importing key modules"
      ]
    },
    {
      "cell_type": "code",
      "metadata": {
        "id": "dPBH2WUkKwz-",
        "colab_type": "code",
        "colab": {}
      },
      "source": [
        "#support both Python 2 and Python 3 with minimal overhead.\n",
        "from __future__ import absolute_import, division, print_function\n",
        "#ignore warnings\n",
        "import warnings\n",
        "warnings.filterwarnings('ignore')"
      ],
      "execution_count": 0,
      "outputs": []
    },
    {
      "cell_type": "code",
      "metadata": {
        "id": "zTJY_mj6K-LS",
        "colab_type": "code",
        "colab": {}
      },
      "source": [
        "import string \n",
        "from string import digits\n",
        "from collections import Counter\n",
        "import re \n",
        "from sklearn.utils import shuffle\n",
        "import pandas as pd \n",
        "from pickle import dump\n",
        "from pickle import load\n",
        "from unicodedata import normalize\n",
        "import matplotlib.pyplot as plt \n",
        "% matplotlib inline \n",
        "pd.set_option('display.max_colwidth', 200)"
      ],
      "execution_count": 0,
      "outputs": []
    },
    {
      "cell_type": "markdown",
      "metadata": {
        "id": "5-X0sC5fLS7a",
        "colab_type": "text"
      },
      "source": [
        "# 2)- Loading data\n",
        "\n",
        "We have data from 2009 to 2016."
      ]
    },
    {
      "cell_type": "code",
      "metadata": {
        "id": "tFpuPSdKLEtJ",
        "colab_type": "code",
        "colab": {}
      },
      "source": [
        "# load doc into memory\n",
        "def load_doc(filename):\n",
        "\t# open the file as read only\n",
        "\tfile = open(filename, mode='rt', encoding='utf-8')\n",
        "\t# read all text\n",
        "\ttext = file.read()\n",
        "\t# close the file\n",
        "\tfile.close()\n",
        "\treturn text"
      ],
      "execution_count": 0,
      "outputs": []
    },
    {
      "cell_type": "code",
      "metadata": {
        "id": "3QpycswrLlaU",
        "colab_type": "code",
        "colab": {}
      },
      "source": [
        "# split a loaded document into sentences\n",
        "def to_sentences(doc):\n",
        "\treturn doc.strip().split('\\n')"
      ],
      "execution_count": 0,
      "outputs": []
    },
    {
      "cell_type": "code",
      "metadata": {
        "id": "GMLe1Lk5LnAV",
        "colab_type": "code",
        "colab": {}
      },
      "source": [
        "# shortest and longest sentence lengths\n",
        "def sentence_lengths(sentences):\n",
        "\tlengths = [len(s.split()) for s in sentences]\n",
        "\treturn min(lengths), max(lengths)"
      ],
      "execution_count": 0,
      "outputs": []
    },
    {
      "cell_type": "markdown",
      "metadata": {
        "id": "lkrmOs7-L0X0",
        "colab_type": "text"
      },
      "source": [
        "### 2.1)- For year 2009"
      ]
    },
    {
      "cell_type": "code",
      "metadata": {
        "id": "Xg8f11ToLpnc",
        "colab_type": "code",
        "colab": {
          "base_uri": "https://localhost:8080/",
          "height": 50
        },
        "outputId": "311de7c7-f649-42f0-8cd9-ec431b5807f4"
      },
      "source": [
        "# load English data\n",
        "filename = 'newstest2009.en'\n",
        "doc = load_doc(filename)\n",
        "sentences = to_sentences(doc)\n",
        "minlen, maxlen = sentence_lengths(sentences)\n",
        "print('English data: sentences=%d, min=%d, max=%d' % (len(sentences), minlen, maxlen))\n",
        "\n",
        "# load French data\n",
        "filename = 'newstest2009.de'\n",
        "doc = load_doc(filename)\n",
        "sentences = to_sentences(doc)\n",
        "minlen, maxlen = sentence_lengths(sentences)\n",
        "print('German data: sentences=%d, min=%d, max=%d' % (len(sentences), minlen, maxlen))"
      ],
      "execution_count": 6,
      "outputs": [
        {
          "output_type": "stream",
          "text": [
            "English data: sentences=2525, min=1, max=108\n",
            "German data: sentences=2525, min=1, max=110\n"
          ],
          "name": "stdout"
        }
      ]
    },
    {
      "cell_type": "markdown",
      "metadata": {
        "id": "SQmRuUHGL74N",
        "colab_type": "text"
      },
      "source": [
        "It is important to notice that sentence length is same. So, we have a balanced data.\n",
        "\n",
        "We shall check this on all years"
      ]
    },
    {
      "cell_type": "markdown",
      "metadata": {
        "id": "lr3hYKrBMGtQ",
        "colab_type": "text"
      },
      "source": [
        "### 2.2)-For 2010"
      ]
    },
    {
      "cell_type": "code",
      "metadata": {
        "id": "bF2HZBV-LycJ",
        "colab_type": "code",
        "colab": {
          "base_uri": "https://localhost:8080/",
          "height": 50
        },
        "outputId": "acdf8664-6604-4301-8d9d-ba390eaf4347"
      },
      "source": [
        "# load English data\n",
        "filename = 'newstest2010.en'\n",
        "doc = load_doc(filename)\n",
        "sentences = to_sentences(doc)\n",
        "minlen, maxlen = sentence_lengths(sentences)\n",
        "print('English data: sentences=%d, min=%d, max=%d' % (len(sentences), minlen, maxlen))\n",
        "\n",
        "# load French data\n",
        "filename = 'newstest2010.de'\n",
        "doc = load_doc(filename)\n",
        "sentences = to_sentences(doc)\n",
        "minlen, maxlen = sentence_lengths(sentences)\n",
        "print('German data: sentences=%d, min=%d, max=%d' % (len(sentences), minlen, maxlen))"
      ],
      "execution_count": 7,
      "outputs": [
        {
          "output_type": "stream",
          "text": [
            "English data: sentences=2489, min=1, max=74\n",
            "German data: sentences=2489, min=1, max=86\n"
          ],
          "name": "stdout"
        }
      ]
    },
    {
      "cell_type": "markdown",
      "metadata": {
        "id": "xFaKT4WENIA0",
        "colab_type": "text"
      },
      "source": [
        "### 2.3)-For year 2011"
      ]
    },
    {
      "cell_type": "code",
      "metadata": {
        "id": "OFdlOFxaM8GF",
        "colab_type": "code",
        "colab": {
          "base_uri": "https://localhost:8080/",
          "height": 50
        },
        "outputId": "36ee1165-5d13-4dab-84dc-23b0f15cf953"
      },
      "source": [
        "# load English data\n",
        "filename = 'newstest2011.en'\n",
        "doc = load_doc(filename)\n",
        "sentences = to_sentences(doc)\n",
        "minlen, maxlen = sentence_lengths(sentences)\n",
        "print('English data: sentences=%d, min=%d, max=%d' % (len(sentences), minlen, maxlen))\n",
        "\n",
        "# load French data\n",
        "filename = 'newstest2011.de'\n",
        "doc = load_doc(filename)\n",
        "sentences = to_sentences(doc)\n",
        "minlen, maxlen = sentence_lengths(sentences)\n",
        "print('German data: sentences=%d, min=%d, max=%d' % (len(sentences), minlen, maxlen))"
      ],
      "execution_count": 8,
      "outputs": [
        {
          "output_type": "stream",
          "text": [
            "English data: sentences=3003, min=1, max=93\n",
            "German data: sentences=3003, min=1, max=92\n"
          ],
          "name": "stdout"
        }
      ]
    },
    {
      "cell_type": "markdown",
      "metadata": {
        "id": "H-iKcf42NQl9",
        "colab_type": "text"
      },
      "source": [
        "### 2.4)-For year 2012"
      ]
    },
    {
      "cell_type": "code",
      "metadata": {
        "id": "T6YRzm6yNO12",
        "colab_type": "code",
        "colab": {
          "base_uri": "https://localhost:8080/",
          "height": 50
        },
        "outputId": "9b944f1f-774e-458a-9039-0ccffa67ab29"
      },
      "source": [
        "# load English data\n",
        "filename = 'newstest2012.en'\n",
        "doc = load_doc(filename)\n",
        "sentences = to_sentences(doc)\n",
        "minlen, maxlen = sentence_lengths(sentences)\n",
        "print('English data: sentences=%d, min=%d, max=%d' % (len(sentences), minlen, maxlen))\n",
        "\n",
        "# load French data\n",
        "filename = 'newstest2012.de'\n",
        "doc = load_doc(filename)\n",
        "sentences = to_sentences(doc)\n",
        "minlen, maxlen = sentence_lengths(sentences)\n",
        "print('German data: sentences=%d, min=%d, max=%d' % (len(sentences), minlen, maxlen))"
      ],
      "execution_count": 9,
      "outputs": [
        {
          "output_type": "stream",
          "text": [
            "English data: sentences=3003, min=1, max=114\n",
            "German data: sentences=3003, min=1, max=101\n"
          ],
          "name": "stdout"
        }
      ]
    },
    {
      "cell_type": "markdown",
      "metadata": {
        "id": "4624P_5XNUCW",
        "colab_type": "text"
      },
      "source": [
        "### 2.5)-For year 2013"
      ]
    },
    {
      "cell_type": "code",
      "metadata": {
        "id": "6pqUQn_dNW8B",
        "colab_type": "code",
        "colab": {
          "base_uri": "https://localhost:8080/",
          "height": 50
        },
        "outputId": "b7324f03-847e-44b7-9548-e0a01f752c87"
      },
      "source": [
        "# load English data\n",
        "filename = 'newstest2013.en'\n",
        "doc = load_doc(filename)\n",
        "sentences = to_sentences(doc)\n",
        "minlen, maxlen = sentence_lengths(sentences)\n",
        "print('English data: sentences=%d, min=%d, max=%d' % (len(sentences), minlen, maxlen))\n",
        "\n",
        "# load French data\n",
        "filename = 'newstest2013.de'\n",
        "doc = load_doc(filename)\n",
        "sentences = to_sentences(doc)\n",
        "minlen, maxlen = sentence_lengths(sentences)\n",
        "print('German data: sentences=%d, min=%d, max=%d' % (len(sentences), minlen, maxlen))"
      ],
      "execution_count": 10,
      "outputs": [
        {
          "output_type": "stream",
          "text": [
            "English data: sentences=3000, min=1, max=82\n",
            "German data: sentences=3000, min=1, max=85\n"
          ],
          "name": "stdout"
        }
      ]
    },
    {
      "cell_type": "markdown",
      "metadata": {
        "id": "5ROs3kgYNXzl",
        "colab_type": "text"
      },
      "source": [
        "### 2.6)-For year 2014"
      ]
    },
    {
      "cell_type": "code",
      "metadata": {
        "id": "ZlS9fS1ANcTU",
        "colab_type": "code",
        "colab": {
          "base_uri": "https://localhost:8080/",
          "height": 50
        },
        "outputId": "b6621ab2-a139-465e-96ce-f3f0fe6040bc"
      },
      "source": [
        "# load English data\n",
        "filename = 'newstest2014.en'\n",
        "doc = load_doc(filename)\n",
        "sentences = to_sentences(doc)\n",
        "minlen, maxlen = sentence_lengths(sentences)\n",
        "print('English data: sentences=%d, min=%d, max=%d' % (len(sentences), minlen, maxlen))\n",
        "\n",
        "# load French data\n",
        "filename = 'newstest2014.de'\n",
        "doc = load_doc(filename)\n",
        "sentences = to_sentences(doc)\n",
        "minlen, maxlen = sentence_lengths(sentences)\n",
        "print('German data: sentences=%d, min=%d, max=%d' % (len(sentences), minlen, maxlen))"
      ],
      "execution_count": 11,
      "outputs": [
        {
          "output_type": "stream",
          "text": [
            "English data: sentences=3003, min=1, max=68\n",
            "German data: sentences=3003, min=1, max=64\n"
          ],
          "name": "stdout"
        }
      ]
    },
    {
      "cell_type": "markdown",
      "metadata": {
        "id": "_By95YGUOKjP",
        "colab_type": "text"
      },
      "source": [
        "### 2.7)- For year 2015"
      ]
    },
    {
      "cell_type": "code",
      "metadata": {
        "id": "Id289Xi1ONBv",
        "colab_type": "code",
        "colab": {
          "base_uri": "https://localhost:8080/",
          "height": 50
        },
        "outputId": "d7d9604d-c494-4b87-b9c8-47cc10ba9d87"
      },
      "source": [
        "# load English data\n",
        "filename = 'newstest2015.en'\n",
        "doc = load_doc(filename)\n",
        "sentences = to_sentences(doc)\n",
        "minlen, maxlen = sentence_lengths(sentences)\n",
        "print('English data: sentences=%d, min=%d, max=%d' % (len(sentences), minlen, maxlen))\n",
        "\n",
        "# load French data\n",
        "filename = 'newstest2015.de'\n",
        "doc = load_doc(filename)\n",
        "sentences = to_sentences(doc)\n",
        "minlen, maxlen = sentence_lengths(sentences)\n",
        "print('German data: sentences=%d, min=%d, max=%d' % (len(sentences), minlen, maxlen))"
      ],
      "execution_count": 12,
      "outputs": [
        {
          "output_type": "stream",
          "text": [
            "English data: sentences=2169, min=1, max=71\n",
            "German data: sentences=2169, min=1, max=72\n"
          ],
          "name": "stdout"
        }
      ]
    },
    {
      "cell_type": "markdown",
      "metadata": {
        "id": "VzgjV6OjON2G",
        "colab_type": "text"
      },
      "source": [
        "### For year 2016"
      ]
    },
    {
      "cell_type": "code",
      "metadata": {
        "id": "z2fUwxLLOQFR",
        "colab_type": "code",
        "colab": {
          "base_uri": "https://localhost:8080/",
          "height": 50
        },
        "outputId": "53495f34-d4a9-4c63-a113-e531e115c426"
      },
      "source": [
        "# load English data\n",
        "filename = 'newstest2016.en'\n",
        "doc = load_doc(filename)\n",
        "sentences = to_sentences(doc)\n",
        "minlen, maxlen = sentence_lengths(sentences)\n",
        "print('English data: sentences=%d, min=%d, max=%d' % (len(sentences), minlen, maxlen))\n",
        "\n",
        "# load French data\n",
        "filename = 'newstest2016.de'\n",
        "doc = load_doc(filename)\n",
        "sentences = to_sentences(doc)\n",
        "minlen, maxlen = sentence_lengths(sentences)\n",
        "print('German data: sentences=%d, min=%d, max=%d' % (len(sentences), minlen, maxlen))"
      ],
      "execution_count": 13,
      "outputs": [
        {
          "output_type": "stream",
          "text": [
            "English data: sentences=2999, min=1, max=83\n",
            "German data: sentences=2999, min=1, max=88\n"
          ],
          "name": "stdout"
        }
      ]
    },
    {
      "cell_type": "markdown",
      "metadata": {
        "id": "4Jlgba1dOkje",
        "colab_type": "text"
      },
      "source": [
        "**All datasets have balanced sentences for English and German version**"
      ]
    },
    {
      "cell_type": "markdown",
      "metadata": {
        "id": "351hNk4lOsGe",
        "colab_type": "text"
      },
      "source": [
        "# 3)- Data Cleaning\n",
        "\n",
        "- Tokenizing text by white space.\n",
        "- Normalizing case to lowercase.\n",
        "- Removing punctuation from each word.\n",
        "- Removing non-printable characters.\n",
        "- Removing words that contain non-alphabetic characters.\n",
        "\n",
        "\n",
        "**We shall use only one file(2015) for quick processing.**"
      ]
    },
    {
      "cell_type": "code",
      "metadata": {
        "id": "c4XeL-PkOh7o",
        "colab_type": "code",
        "colab": {}
      },
      "source": [
        "# create cleaning function\n",
        "\n",
        "def clean_lines(lines):\n",
        "\tcleaned = list()\n",
        "\t# prepare regex for char filtering\n",
        "\tre_print = re.compile('[^%s]' % re.escape(string.printable))\n",
        "\t# prepare translation table for removing punctuation\n",
        "\ttable = str.maketrans('', '', string.punctuation)\n",
        "\tfor line in lines:\n",
        "\t\t# normalize unicode characters\n",
        "\t\tline = normalize('NFD', line).encode('ascii', 'ignore')\n",
        "\t\tline = line.decode('UTF-8')\n",
        "\t\t# tokenize on white space\n",
        "\t\tline = line.split()\n",
        "\t\t# convert to lower case\n",
        "\t\tline = [word.lower() for word in line]\n",
        "\t\t# remove punctuation from each token\n",
        "\t\tline = [word.translate(table) for word in line]\n",
        "\t\t# remove non-printable chars form each token\n",
        "\t\tline = [re_print.sub('', w) for w in line]\n",
        "\t\t# remove tokens with numbers in them\n",
        "\t\tline = [word for word in line if word.isalpha()]\n",
        "\t\t# store as string\n",
        "\t\tcleaned.append(' '.join(line))\n",
        "\treturn cleaned"
      ],
      "execution_count": 0,
      "outputs": []
    },
    {
      "cell_type": "code",
      "metadata": {
        "id": "tXXFMVdbQIIs",
        "colab_type": "code",
        "colab": {}
      },
      "source": [
        "# save a list of clean sentences to file\n",
        "def save_clean_sentences(sentences, filename):\n",
        "\tdump(sentences, open(filename, 'wb'))\n",
        "\tprint('Saved: %s' % filename)"
      ],
      "execution_count": 0,
      "outputs": []
    },
    {
      "cell_type": "code",
      "metadata": {
        "id": "uaYHZmrgQMJ0",
        "colab_type": "code",
        "colab": {
          "base_uri": "https://localhost:8080/",
          "height": 34
        },
        "outputId": "2e3c9597-9a43-4c9f-f9b9-a577c0f73775"
      },
      "source": [
        "# load English data\n",
        "filename = 'newstest2015.en'\n",
        "doc = load_doc(filename)\n",
        "sentences = to_sentences(doc)\n",
        "sentences = clean_lines(sentences)\n",
        "save_clean_sentences(sentences, 'english2015.pkl')"
      ],
      "execution_count": 16,
      "outputs": [
        {
          "output_type": "stream",
          "text": [
            "Saved: english2015.pkl\n"
          ],
          "name": "stdout"
        }
      ]
    },
    {
      "cell_type": "code",
      "metadata": {
        "id": "Tb9xfJXJQeGX",
        "colab_type": "code",
        "colab": {
          "base_uri": "https://localhost:8080/",
          "height": 205
        },
        "outputId": "9b1244e5-8d65-4cad-cc09-be937c555f71"
      },
      "source": [
        "# spot check for english version\n",
        "for i in range(10):\n",
        "\tprint(sentences[i])"
      ],
      "execution_count": 17,
      "outputs": [
        {
          "output_type": "stream",
          "text": [
            "india and japan prime ministers meet in tokyo\n",
            "indias new prime minister narendra modi is meeting his japanese counterpart shinzo abe in tokyo to discuss economic and security ties on his first major foreign visit since winning mays election\n",
            "mr modi is on a fiveday trip to japan to strengthen economic ties with the third largest economy in the world\n",
            "high on the agenda are plans for greater nuclear cooperation\n",
            "india is also reportedly hoping for a deal on defence collaboration between the two nations\n",
            "karratha police arrest after high speed motorcycle chase\n",
            "a motorcycle has been seized after it was ridden at in a zone and through bushland to escape police in the pilbara\n",
            "traffic police on patrol in karratha this morning tried to pull over a blue motorcycle when they spotted it reaching as it pulled out of a service station on bathgate road\n",
            "police say the rider then failed to stop and continued on to burgess road before turning into bushland causing the officers to lose sight of it\n",
            "the motorcycle and a person matching the description of the rider was then spotted at a house on walcott way in bulgarra\n"
          ],
          "name": "stdout"
        }
      ]
    },
    {
      "cell_type": "code",
      "metadata": {
        "id": "Wryy3Y1OQVDv",
        "colab_type": "code",
        "colab": {
          "base_uri": "https://localhost:8080/",
          "height": 222
        },
        "outputId": "67adf2b8-d1a3-4b46-9715-d5d04f40f3ae"
      },
      "source": [
        "# load and check German data\n",
        "\n",
        "filename = 'newstest2015.de'\n",
        "doc = load_doc(filename)\n",
        "sentences = to_sentences(doc)\n",
        "sentences = clean_lines(sentences)\n",
        "save_clean_sentences(sentences, 'german2015.pkl')\n",
        "# spot check for german version\n",
        "for i in range(10):\n",
        "\tprint(sentences[i])"
      ],
      "execution_count": 18,
      "outputs": [
        {
          "output_type": "stream",
          "text": [
            "Saved: german2015.pkl\n",
            "die premierminister indiens und japans trafen sich in tokio\n",
            "indiens neuer premierminister narendra modi trifft bei seinem ersten wichtigen auslandsbesuch seit seinem wahlsieg im mai seinen japanischen amtskollegen shinzo abe in toko um wirtschaftliche und sicherheitspolitische beziehungen zu besprechen\n",
            "herr modi befindet sich auf einer funftagigen reise nach japan um die wirtschaftlichen beziehungen mit der drittgroten wirtschaftsnation der welt zu festigen\n",
            "plane fur eine starkere kerntechnische zusammenarbeit stehen ganz oben auf der tagesordnung\n",
            "berichten zufolge hofft indien daruber hinaus auf einen vertrag zur verteidigungszusammenarbeit zwischen den beiden nationen\n",
            "polizei von karratha verhaftet nach schneller motorradjagd\n",
            "ein motorrad wurde beschlagnahmt nachdem der fahrer es mit kmh in einer kmhzone und durch buschland gefahren hatte um der polizei in bilbara zu entkommen\n",
            "verkehrspolizisten in karratha versuchten heute morgen ein blaues motorrad zu stoppen nachdem sie es dabei beobachtet hatten wie es mit kmh eine tankstelle auf der bathdate road verlie\n",
            "die polizei berichtet dass der fahrer die haltesignale dann ignorierte und weiter auf der burgess road fuhr bevor er in das buschland abbog wo die beamten es aus den augen verloren\n",
            "das motorrad sowie eine person die der beschreibung des fahrers entsprach wurden spater bei einem haus im walcott way in bulgarra gesehen\n"
          ],
          "name": "stdout"
        }
      ]
    },
    {
      "cell_type": "markdown",
      "metadata": {
        "id": "Jtx8CoZTRmG4",
        "colab_type": "text"
      },
      "source": [
        "# 4)- Checking Vocabulary"
      ]
    },
    {
      "cell_type": "code",
      "metadata": {
        "id": "gLX2pg3KTqlB",
        "colab_type": "code",
        "colab": {}
      },
      "source": [
        "# function to load a clean dataset\n",
        "def load_clean_sentences(filename):\n",
        "\treturn load(open(filename, 'rb'))"
      ],
      "execution_count": 0,
      "outputs": []
    },
    {
      "cell_type": "code",
      "metadata": {
        "id": "u6iYQaotVRaZ",
        "colab_type": "code",
        "colab": {}
      },
      "source": [
        "# function to save a list of clean sentences to file\n",
        "def save_clean_sentences(sentences, filename):\n",
        "\tdump(sentences, open(filename, 'wb'))\n",
        "\tprint('Saved: %s' % filename)"
      ],
      "execution_count": 0,
      "outputs": []
    },
    {
      "cell_type": "markdown",
      "metadata": {
        "id": "v_RVdnLCSCuo",
        "colab_type": "text"
      },
      "source": [
        "### 4.1)-frequency table\n",
        "create a frequency table for all words"
      ]
    },
    {
      "cell_type": "code",
      "metadata": {
        "id": "icBWdxApRJyv",
        "colab_type": "code",
        "colab": {}
      },
      "source": [
        "def to_vocab(lines):\n",
        "\tvocab = Counter()\n",
        "\tfor line in lines:\n",
        "\t\ttokens = line.split()\n",
        "\t\tvocab.update(tokens)\n",
        "\treturn vocab"
      ],
      "execution_count": 0,
      "outputs": []
    },
    {
      "cell_type": "markdown",
      "metadata": {
        "id": "LQIVl-zSSQdO",
        "colab_type": "text"
      },
      "source": [
        "### 4.2)- Trim Vocab\n",
        "\n",
        "Process the created vocabulary and remove all words from the Counter that have an occurrence below a specific threshold using *out of vocabulary (OOV)* method.\n",
        "\n",
        "\n",
        "https://medium.com/@shabeelkandi/handling-out-of-vocabulary-words-in-natural-language-processing-based-on-context-4bbba16214d5"
      ]
    },
    {
      "cell_type": "code",
      "metadata": {
        "id": "iBqCUzMPSbn4",
        "colab_type": "code",
        "colab": {}
      },
      "source": [
        "def trim_vocab(vocab, min_occurance):\n",
        "\ttokens = [k for k,c in vocab.items() if c >= min_occurance]\n",
        "\treturn set(tokens)"
      ],
      "execution_count": 0,
      "outputs": []
    },
    {
      "cell_type": "markdown",
      "metadata": {
        "id": "ctXFtetOSjsf",
        "colab_type": "text"
      },
      "source": [
        "### 4.3)- Update dataset\n",
        "\n",
        "Update the sentences, remove all words not in the trimmed vocabulary and mark their removal with a special token, in this case, the string “unk“."
      ]
    },
    {
      "cell_type": "code",
      "metadata": {
        "id": "Fymy1xb5Sf_a",
        "colab_type": "code",
        "colab": {}
      },
      "source": [
        "def update_dataset(lines, vocab):\n",
        "\tnew_lines = list()\n",
        "\tfor line in lines:\n",
        "\t\tnew_tokens = list()\n",
        "\t\tfor token in line.split():\n",
        "\t\t\tif token in vocab:\n",
        "\t\t\t\tnew_tokens.append(token)\n",
        "\t\t\telse:\n",
        "\t\t\t\tnew_tokens.append('unk')\n",
        "\t\tnew_line = ' '.join(new_tokens)\n",
        "\t\tnew_lines.append(new_line)\n",
        "\treturn new_lines"
      ],
      "execution_count": 0,
      "outputs": []
    },
    {
      "cell_type": "markdown",
      "metadata": {
        "id": "qfg7hEWQTApL",
        "colab_type": "text"
      },
      "source": [
        "### 4.4)- Check English version"
      ]
    },
    {
      "cell_type": "code",
      "metadata": {
        "id": "Hs6lDK3RUZFR",
        "colab_type": "code",
        "colab": {
          "base_uri": "https://localhost:8080/",
          "height": 67
        },
        "outputId": "59e23cf3-b0af-4f99-d35a-1813c72c8f00"
      },
      "source": [
        "# load English dataset i.e pickled earlier\n",
        "filename = 'english2015.pkl'\n",
        "lines = load_clean_sentences(filename)\n",
        "\n",
        "# calculate vocabulary\n",
        "vocab = to_vocab(lines)\n",
        "print('English Vocabulary: %d' % len(vocab))\n",
        "\n",
        "# reduce vocabulary\n",
        "vocab = trim_vocab(vocab, 5)\n",
        "print('New English Vocabulary: %d' % len(vocab))\n",
        "\n",
        "# mark out of vocabulary words\n",
        "lines = update_dataset(lines, vocab)\n",
        "# save updated dataset\n",
        "filename = 'english_vocab2015.pkl'\n",
        "save_clean_sentences(lines, filename)"
      ],
      "execution_count": 25,
      "outputs": [
        {
          "output_type": "stream",
          "text": [
            "English Vocabulary: 7227\n",
            "New English Vocabulary: 1210\n",
            "Saved: english_vocab2015.pkl\n"
          ],
          "name": "stdout"
        }
      ]
    },
    {
      "cell_type": "markdown",
      "metadata": {
        "id": "6A4kJkxAW79J",
        "colab_type": "text"
      },
      "source": [
        "### 4.5)-Check German version"
      ]
    },
    {
      "cell_type": "code",
      "metadata": {
        "id": "zv3bZhbTUyPl",
        "colab_type": "code",
        "colab": {
          "base_uri": "https://localhost:8080/",
          "height": 67
        },
        "outputId": "235a6d72-0425-4fe9-98f6-9df8e31f2312"
      },
      "source": [
        "# load English dataset i.e pickled earlier\n",
        "filename = 'german2015.pkl'\n",
        "lines = load_clean_sentences(filename)\n",
        "\n",
        "# calculate vocabulary\n",
        "vocab = to_vocab(lines)\n",
        "print('German Vocabulary: %d' % len(vocab))\n",
        "\n",
        "# reduce vocabulary\n",
        "vocab = trim_vocab(vocab, 5)\n",
        "print('New German Vocabulary: %d' % len(vocab))\n",
        "\n",
        "# mark out of vocabulary words\n",
        "lines = update_dataset(lines, vocab)\n",
        "# save updated dataset\n",
        "filename = 'german_vocab2015.pkl'\n",
        "save_clean_sentences(lines, filename)"
      ],
      "execution_count": 26,
      "outputs": [
        {
          "output_type": "stream",
          "text": [
            "German Vocabulary: 9280\n",
            "New German Vocabulary: 988\n",
            "Saved: german_vocab2015.pkl\n"
          ],
          "name": "stdout"
        }
      ]
    },
    {
      "cell_type": "markdown",
      "metadata": {
        "id": "Y1ZW_PsfXOc8",
        "colab_type": "text"
      },
      "source": [
        "These cleaning and vocab reduction methods have given us a more normalized and potent data for model training"
      ]
    },
    {
      "cell_type": "markdown",
      "metadata": {
        "id": "JgBlgGqVbzTM",
        "colab_type": "text"
      },
      "source": [
        "# 5)- Combine Files\n",
        "\n",
        "- We can do this whole process on each file and then use one dataset pair for modeling i.e German 2015, English 2015.\n",
        "\n",
        "- Or we can combine all these files and then apply these above discussed preprocessing methods on combined data. \n",
        "\n",
        "-  We may end up with a huge data so, we need to use random sample of data to train our model.\n",
        "\n",
        "- Finally, I personally like to work with dataframes and like to see files as form of matrix or vector. So, I will convert these files into dataframes then combine both English and German translation parts in rows and columns. So, they look agreeable to me. "
      ]
    },
    {
      "cell_type": "code",
      "metadata": {
        "id": "nSjpKssKbjV5",
        "colab_type": "code",
        "colab": {}
      },
      "source": [
        "df_en_2009= pd.read_table('newstest2009.en', sep=\"\\t\", names=['eng'])"
      ],
      "execution_count": 0,
      "outputs": []
    },
    {
      "cell_type": "code",
      "metadata": {
        "id": "oQ04coB-et9_",
        "colab_type": "code",
        "colab": {}
      },
      "source": [
        "df_ger_2009= pd.read_table('newstest2009.de', sep=\"\\t\", names=['ger'])"
      ],
      "execution_count": 0,
      "outputs": []
    },
    {
      "cell_type": "code",
      "metadata": {
        "id": "D5edVuf5cJjA",
        "colab_type": "code",
        "colab": {
          "base_uri": "https://localhost:8080/",
          "height": 195
        },
        "outputId": "00f91c3b-8ecf-4e1c-fc39-11ddfc05d4a8"
      },
      "source": [
        "df_en_2009.head()"
      ],
      "execution_count": 39,
      "outputs": [
        {
          "output_type": "execute_result",
          "data": {
            "text/html": [
              "<div>\n",
              "<style scoped>\n",
              "    .dataframe tbody tr th:only-of-type {\n",
              "        vertical-align: middle;\n",
              "    }\n",
              "\n",
              "    .dataframe tbody tr th {\n",
              "        vertical-align: top;\n",
              "    }\n",
              "\n",
              "    .dataframe thead th {\n",
              "        text-align: right;\n",
              "    }\n",
              "</style>\n",
              "<table border=\"1\" class=\"dataframe\">\n",
              "  <thead>\n",
              "    <tr style=\"text-align: right;\">\n",
              "      <th></th>\n",
              "      <th>eng</th>\n",
              "    </tr>\n",
              "  </thead>\n",
              "  <tbody>\n",
              "    <tr>\n",
              "      <th>0</th>\n",
              "      <td>Prague Stock Market falls to minus by the end of the trading day</td>\n",
              "    </tr>\n",
              "    <tr>\n",
              "      <th>1</th>\n",
              "      <td>After a sharp drop in the morning, the Prague Stock Market corrected its losses.</td>\n",
              "    </tr>\n",
              "    <tr>\n",
              "      <th>2</th>\n",
              "      <td>Transactions with stocks from the Czech Energy Enterprise (ČEZ) reached nearly half of the regular daily trading.</td>\n",
              "    </tr>\n",
              "    <tr>\n",
              "      <th>3</th>\n",
              "      <td>The Prague Stock Market immediately continued its fall from Monday at the beginning of Tuesday's trading, when it dropped by nearly six percent.</td>\n",
              "    </tr>\n",
              "    <tr>\n",
              "      <th>4</th>\n",
              "      <td>This time the fall in stocks on Wall Street is responsible for the drop.</td>\n",
              "    </tr>\n",
              "  </tbody>\n",
              "</table>\n",
              "</div>"
            ],
            "text/plain": [
              "                                                                                                                                                eng\n",
              "0                                                                                  Prague Stock Market falls to minus by the end of the trading day\n",
              "1                                                                  After a sharp drop in the morning, the Prague Stock Market corrected its losses.\n",
              "2                                 Transactions with stocks from the Czech Energy Enterprise (ČEZ) reached nearly half of the regular daily trading.\n",
              "3  The Prague Stock Market immediately continued its fall from Monday at the beginning of Tuesday's trading, when it dropped by nearly six percent.\n",
              "4                                                                          This time the fall in stocks on Wall Street is responsible for the drop."
            ]
          },
          "metadata": {
            "tags": []
          },
          "execution_count": 39
        }
      ]
    },
    {
      "cell_type": "code",
      "metadata": {
        "id": "oWFE_e_Pe3_F",
        "colab_type": "code",
        "colab": {
          "base_uri": "https://localhost:8080/",
          "height": 195
        },
        "outputId": "e4683c5d-1303-447d-fc8f-d97746a2093d"
      },
      "source": [
        "df_ger_2009.head()"
      ],
      "execution_count": 40,
      "outputs": [
        {
          "output_type": "execute_result",
          "data": {
            "text/html": [
              "<div>\n",
              "<style scoped>\n",
              "    .dataframe tbody tr th:only-of-type {\n",
              "        vertical-align: middle;\n",
              "    }\n",
              "\n",
              "    .dataframe tbody tr th {\n",
              "        vertical-align: top;\n",
              "    }\n",
              "\n",
              "    .dataframe thead th {\n",
              "        text-align: right;\n",
              "    }\n",
              "</style>\n",
              "<table border=\"1\" class=\"dataframe\">\n",
              "  <thead>\n",
              "    <tr style=\"text-align: right;\">\n",
              "      <th></th>\n",
              "      <th>ger</th>\n",
              "    </tr>\n",
              "  </thead>\n",
              "  <tbody>\n",
              "    <tr>\n",
              "      <th>0</th>\n",
              "      <td>Die Prager Börse stürzt gegen Geschäftsschluss ins Minus.</td>\n",
              "    </tr>\n",
              "    <tr>\n",
              "      <th>1</th>\n",
              "      <td>Nach dem steilen Abfall am Morgen konnte die Prager Börse die Verluste korrigieren.</td>\n",
              "    </tr>\n",
              "    <tr>\n",
              "      <th>2</th>\n",
              "      <td>Die Transaktionen mit den Aktien von ČEZ erreichten fast die Hälfte des normalen Tagesgeschäfts.</td>\n",
              "    </tr>\n",
              "    <tr>\n",
              "      <th>3</th>\n",
              "      <td>Die Prager Börse knüpfte gleich zu Beginn der Dienstagsgeschäfte an den Einbruch vom Montag an, als sie um weitere sechs Prozentpunkte sank.</td>\n",
              "    </tr>\n",
              "    <tr>\n",
              "      <th>4</th>\n",
              "      <td>Diesmal lag der Grund für den Einbruch an der Wall Street.</td>\n",
              "    </tr>\n",
              "  </tbody>\n",
              "</table>\n",
              "</div>"
            ],
            "text/plain": [
              "                                                                                                                                            ger\n",
              "0                                                                                     Die Prager Börse stürzt gegen Geschäftsschluss ins Minus.\n",
              "1                                                           Nach dem steilen Abfall am Morgen konnte die Prager Börse die Verluste korrigieren.\n",
              "2                                              Die Transaktionen mit den Aktien von ČEZ erreichten fast die Hälfte des normalen Tagesgeschäfts.\n",
              "3  Die Prager Börse knüpfte gleich zu Beginn der Dienstagsgeschäfte an den Einbruch vom Montag an, als sie um weitere sechs Prozentpunkte sank.\n",
              "4                                                                                    Diesmal lag der Grund für den Einbruch an der Wall Street."
            ]
          },
          "metadata": {
            "tags": []
          },
          "execution_count": 40
        }
      ]
    },
    {
      "cell_type": "code",
      "metadata": {
        "id": "zIxT_tmFe7Jn",
        "colab_type": "code",
        "colab": {
          "base_uri": "https://localhost:8080/",
          "height": 229
        },
        "outputId": "d2a85af0-9764-439a-e034-47867d659062"
      },
      "source": [
        "df_combine_2009=pd.concat([df_en_2009, df_ger_2009], axis=1, join='inner') # to adjust automatically row labels i.e index\n",
        "df_combine_2009.head()"
      ],
      "execution_count": 43,
      "outputs": [
        {
          "output_type": "execute_result",
          "data": {
            "text/html": [
              "<div>\n",
              "<style scoped>\n",
              "    .dataframe tbody tr th:only-of-type {\n",
              "        vertical-align: middle;\n",
              "    }\n",
              "\n",
              "    .dataframe tbody tr th {\n",
              "        vertical-align: top;\n",
              "    }\n",
              "\n",
              "    .dataframe thead th {\n",
              "        text-align: right;\n",
              "    }\n",
              "</style>\n",
              "<table border=\"1\" class=\"dataframe\">\n",
              "  <thead>\n",
              "    <tr style=\"text-align: right;\">\n",
              "      <th></th>\n",
              "      <th>eng</th>\n",
              "      <th>ger</th>\n",
              "    </tr>\n",
              "  </thead>\n",
              "  <tbody>\n",
              "    <tr>\n",
              "      <th>0</th>\n",
              "      <td>Prague Stock Market falls to minus by the end of the trading day</td>\n",
              "      <td>Die Prager Börse stürzt gegen Geschäftsschluss ins Minus.</td>\n",
              "    </tr>\n",
              "    <tr>\n",
              "      <th>1</th>\n",
              "      <td>After a sharp drop in the morning, the Prague Stock Market corrected its losses.</td>\n",
              "      <td>Nach dem steilen Abfall am Morgen konnte die Prager Börse die Verluste korrigieren.</td>\n",
              "    </tr>\n",
              "    <tr>\n",
              "      <th>2</th>\n",
              "      <td>Transactions with stocks from the Czech Energy Enterprise (ČEZ) reached nearly half of the regular daily trading.</td>\n",
              "      <td>Die Transaktionen mit den Aktien von ČEZ erreichten fast die Hälfte des normalen Tagesgeschäfts.</td>\n",
              "    </tr>\n",
              "    <tr>\n",
              "      <th>3</th>\n",
              "      <td>The Prague Stock Market immediately continued its fall from Monday at the beginning of Tuesday's trading, when it dropped by nearly six percent.</td>\n",
              "      <td>Die Prager Börse knüpfte gleich zu Beginn der Dienstagsgeschäfte an den Einbruch vom Montag an, als sie um weitere sechs Prozentpunkte sank.</td>\n",
              "    </tr>\n",
              "    <tr>\n",
              "      <th>4</th>\n",
              "      <td>This time the fall in stocks on Wall Street is responsible for the drop.</td>\n",
              "      <td>Diesmal lag der Grund für den Einbruch an der Wall Street.</td>\n",
              "    </tr>\n",
              "  </tbody>\n",
              "</table>\n",
              "</div>"
            ],
            "text/plain": [
              "                                                                                                                                                eng                                                                                                                                           ger\n",
              "0                                                                                  Prague Stock Market falls to minus by the end of the trading day                                                                                     Die Prager Börse stürzt gegen Geschäftsschluss ins Minus.\n",
              "1                                                                  After a sharp drop in the morning, the Prague Stock Market corrected its losses.                                                           Nach dem steilen Abfall am Morgen konnte die Prager Börse die Verluste korrigieren.\n",
              "2                                 Transactions with stocks from the Czech Energy Enterprise (ČEZ) reached nearly half of the regular daily trading.                                              Die Transaktionen mit den Aktien von ČEZ erreichten fast die Hälfte des normalen Tagesgeschäfts.\n",
              "3  The Prague Stock Market immediately continued its fall from Monday at the beginning of Tuesday's trading, when it dropped by nearly six percent.  Die Prager Börse knüpfte gleich zu Beginn der Dienstagsgeschäfte an den Einbruch vom Montag an, als sie um weitere sechs Prozentpunkte sank.\n",
              "4                                                                          This time the fall in stocks on Wall Street is responsible for the drop.                                                                                    Diesmal lag der Grund für den Einbruch an der Wall Street."
            ]
          },
          "metadata": {
            "tags": []
          },
          "execution_count": 43
        }
      ]
    },
    {
      "cell_type": "markdown",
      "metadata": {
        "id": "8PZ0-Hl_f34A",
        "colab_type": "text"
      },
      "source": [
        "**Here we have combined one file. Let's us combine all of dataset in form of dataframes with columns (showing german and english lang text) and rows.**"
      ]
    },
    {
      "cell_type": "markdown",
      "metadata": {
        "id": "hxCTGM5LhE63",
        "colab_type": "text"
      },
      "source": [
        "### 5a)- Combine all english version"
      ]
    },
    {
      "cell_type": "code",
      "metadata": {
        "id": "clJSlSUDfw6K",
        "colab_type": "code",
        "colab": {}
      },
      "source": [
        "df_en_2010= pd.read_table('newstest2010.en', sep=\"\\t\", names=['eng'])\n",
        "df_en_2011= pd.read_table('newstest2011.en', sep=\"\\t\", names=['eng'])\n",
        "df_en_2012= pd.read_table('newstest2012.en', sep=\"\\t\", names=['eng'])\n",
        "df_en_2013= pd.read_table('newstest2013.en', sep=\"\\t\", names=['eng'])\n",
        "df_en_2014= pd.read_table('newstest2014.en', sep=\"\\t\", names=['eng'])\n",
        "df_en_2015= pd.read_table('newstest2015.en', sep=\"\\t\", names=['eng'])\n",
        "df_en_2016= pd.read_table('newstest2016.en', sep=\"\\t\", names=['eng'])"
      ],
      "execution_count": 0,
      "outputs": []
    },
    {
      "cell_type": "code",
      "metadata": {
        "id": "S1YKFO2foQOA",
        "colab_type": "code",
        "colab": {}
      },
      "source": [
        "df_eng_all=pd.concat([df_en_2009,df_en_2010,df_en_2011,df_en_2012,df_en_2013,df_en_2014,df_en_2015,df_en_2016], ignore_index=True)"
      ],
      "execution_count": 0,
      "outputs": []
    },
    {
      "cell_type": "code",
      "metadata": {
        "id": "a97y6Cv-ohgO",
        "colab_type": "code",
        "colab": {
          "base_uri": "https://localhost:8080/",
          "height": 195
        },
        "outputId": "53a3c37a-094a-47d4-dbf1-3d634d9d0151"
      },
      "source": [
        "df_eng_all.head()"
      ],
      "execution_count": 56,
      "outputs": [
        {
          "output_type": "execute_result",
          "data": {
            "text/html": [
              "<div>\n",
              "<style scoped>\n",
              "    .dataframe tbody tr th:only-of-type {\n",
              "        vertical-align: middle;\n",
              "    }\n",
              "\n",
              "    .dataframe tbody tr th {\n",
              "        vertical-align: top;\n",
              "    }\n",
              "\n",
              "    .dataframe thead th {\n",
              "        text-align: right;\n",
              "    }\n",
              "</style>\n",
              "<table border=\"1\" class=\"dataframe\">\n",
              "  <thead>\n",
              "    <tr style=\"text-align: right;\">\n",
              "      <th></th>\n",
              "      <th>eng</th>\n",
              "    </tr>\n",
              "  </thead>\n",
              "  <tbody>\n",
              "    <tr>\n",
              "      <th>0</th>\n",
              "      <td>Prague Stock Market falls to minus by the end of the trading day</td>\n",
              "    </tr>\n",
              "    <tr>\n",
              "      <th>1</th>\n",
              "      <td>After a sharp drop in the morning, the Prague Stock Market corrected its losses.</td>\n",
              "    </tr>\n",
              "    <tr>\n",
              "      <th>2</th>\n",
              "      <td>Transactions with stocks from the Czech Energy Enterprise (ČEZ) reached nearly half of the regular daily trading.</td>\n",
              "    </tr>\n",
              "    <tr>\n",
              "      <th>3</th>\n",
              "      <td>The Prague Stock Market immediately continued its fall from Monday at the beginning of Tuesday's trading, when it dropped by nearly six percent.</td>\n",
              "    </tr>\n",
              "    <tr>\n",
              "      <th>4</th>\n",
              "      <td>This time the fall in stocks on Wall Street is responsible for the drop.</td>\n",
              "    </tr>\n",
              "  </tbody>\n",
              "</table>\n",
              "</div>"
            ],
            "text/plain": [
              "                                                                                                                                                eng\n",
              "0                                                                                  Prague Stock Market falls to minus by the end of the trading day\n",
              "1                                                                  After a sharp drop in the morning, the Prague Stock Market corrected its losses.\n",
              "2                                 Transactions with stocks from the Czech Energy Enterprise (ČEZ) reached nearly half of the regular daily trading.\n",
              "3  The Prague Stock Market immediately continued its fall from Monday at the beginning of Tuesday's trading, when it dropped by nearly six percent.\n",
              "4                                                                          This time the fall in stocks on Wall Street is responsible for the drop."
            ]
          },
          "metadata": {
            "tags": []
          },
          "execution_count": 56
        }
      ]
    },
    {
      "cell_type": "code",
      "metadata": {
        "id": "kBJ6lzYFoniy",
        "colab_type": "code",
        "colab": {
          "base_uri": "https://localhost:8080/",
          "height": 34
        },
        "outputId": "ced67531-bab5-4b80-b5cd-1eef449cb2a4"
      },
      "source": [
        "df_eng_all.shape"
      ],
      "execution_count": 57,
      "outputs": [
        {
          "output_type": "execute_result",
          "data": {
            "text/plain": [
              "(21967, 1)"
            ]
          },
          "metadata": {
            "tags": []
          },
          "execution_count": 57
        }
      ]
    },
    {
      "cell_type": "markdown",
      "metadata": {
        "id": "9Ws-YxkolvK-",
        "colab_type": "text"
      },
      "source": [
        "### 5b)- Combine all German version"
      ]
    },
    {
      "cell_type": "code",
      "metadata": {
        "id": "UiqEnEqPjF7z",
        "colab_type": "code",
        "colab": {}
      },
      "source": [
        "df_ger_2010= pd.read_table('newstest2010.de', sep=\"\\t\", names=['ger'])\n",
        "df_ger_2011= pd.read_table('newstest2011.de', sep=\"\\t\", names=['ger'])\n",
        "df_ger_2012= pd.read_table('newstest2012.de', sep=\"\\t\", names=['ger'])\n",
        "df_ger_2013= pd.read_table('newstest2013.de', sep=\"\\t\", names=['ger'])\n",
        "df_ger_2014= pd.read_table('newstest2014.de', sep=\"\\t\", names=['ger'])\n",
        "df_ger_2015= pd.read_table('newstest2015.de', sep=\"\\t\", names=['ger'])\n",
        "df_ger_2016= pd.read_table('newstest2016.de', sep=\"\\t\", names=['ger'])"
      ],
      "execution_count": 0,
      "outputs": []
    },
    {
      "cell_type": "code",
      "metadata": {
        "id": "yfbgXPWUluO3",
        "colab_type": "code",
        "colab": {}
      },
      "source": [
        "df_ger_all=pd.concat([df_ger_2009,df_ger_2010,df_ger_2011,df_ger_2012,df_ger_2013,df_ger_2014,df_ger_2015,df_ger_2016], ignore_index=True)"
      ],
      "execution_count": 0,
      "outputs": []
    },
    {
      "cell_type": "code",
      "metadata": {
        "id": "0N5P-t9dpvkI",
        "colab_type": "code",
        "colab": {
          "base_uri": "https://localhost:8080/",
          "height": 195
        },
        "outputId": "0fcecbb0-08ac-485f-9478-132984b4e76d"
      },
      "source": [
        "df_ger_all.head()"
      ],
      "execution_count": 61,
      "outputs": [
        {
          "output_type": "execute_result",
          "data": {
            "text/html": [
              "<div>\n",
              "<style scoped>\n",
              "    .dataframe tbody tr th:only-of-type {\n",
              "        vertical-align: middle;\n",
              "    }\n",
              "\n",
              "    .dataframe tbody tr th {\n",
              "        vertical-align: top;\n",
              "    }\n",
              "\n",
              "    .dataframe thead th {\n",
              "        text-align: right;\n",
              "    }\n",
              "</style>\n",
              "<table border=\"1\" class=\"dataframe\">\n",
              "  <thead>\n",
              "    <tr style=\"text-align: right;\">\n",
              "      <th></th>\n",
              "      <th>ger</th>\n",
              "    </tr>\n",
              "  </thead>\n",
              "  <tbody>\n",
              "    <tr>\n",
              "      <th>0</th>\n",
              "      <td>Die Prager Börse stürzt gegen Geschäftsschluss ins Minus.</td>\n",
              "    </tr>\n",
              "    <tr>\n",
              "      <th>1</th>\n",
              "      <td>Nach dem steilen Abfall am Morgen konnte die Prager Börse die Verluste korrigieren.</td>\n",
              "    </tr>\n",
              "    <tr>\n",
              "      <th>2</th>\n",
              "      <td>Die Transaktionen mit den Aktien von ČEZ erreichten fast die Hälfte des normalen Tagesgeschäfts.</td>\n",
              "    </tr>\n",
              "    <tr>\n",
              "      <th>3</th>\n",
              "      <td>Die Prager Börse knüpfte gleich zu Beginn der Dienstagsgeschäfte an den Einbruch vom Montag an, als sie um weitere sechs Prozentpunkte sank.</td>\n",
              "    </tr>\n",
              "    <tr>\n",
              "      <th>4</th>\n",
              "      <td>Diesmal lag der Grund für den Einbruch an der Wall Street.</td>\n",
              "    </tr>\n",
              "  </tbody>\n",
              "</table>\n",
              "</div>"
            ],
            "text/plain": [
              "                                                                                                                                            ger\n",
              "0                                                                                     Die Prager Börse stürzt gegen Geschäftsschluss ins Minus.\n",
              "1                                                           Nach dem steilen Abfall am Morgen konnte die Prager Börse die Verluste korrigieren.\n",
              "2                                              Die Transaktionen mit den Aktien von ČEZ erreichten fast die Hälfte des normalen Tagesgeschäfts.\n",
              "3  Die Prager Börse knüpfte gleich zu Beginn der Dienstagsgeschäfte an den Einbruch vom Montag an, als sie um weitere sechs Prozentpunkte sank.\n",
              "4                                                                                    Diesmal lag der Grund für den Einbruch an der Wall Street."
            ]
          },
          "metadata": {
            "tags": []
          },
          "execution_count": 61
        }
      ]
    },
    {
      "cell_type": "code",
      "metadata": {
        "id": "taBKeIMlpxfF",
        "colab_type": "code",
        "colab": {
          "base_uri": "https://localhost:8080/",
          "height": 34
        },
        "outputId": "b7fa7ef1-a5d0-46dd-f03a-9f73fb97da4f"
      },
      "source": [
        "df_ger_all.shape"
      ],
      "execution_count": 60,
      "outputs": [
        {
          "output_type": "execute_result",
          "data": {
            "text/plain": [
              "(21906, 1)"
            ]
          },
          "metadata": {
            "tags": []
          },
          "execution_count": 60
        }
      ]
    },
    {
      "cell_type": "code",
      "metadata": {
        "id": "4NQGALNlkO_U",
        "colab_type": "code",
        "colab": {
          "base_uri": "https://localhost:8080/",
          "height": 642
        },
        "outputId": "fe1c9dbf-8a1a-4810-d50e-f46f1129e02a"
      },
      "source": [
        "# combine into rows and columns dataframe\n",
        "\n",
        "df_combine=pd.concat([df_eng_all,df_ger_all], axis=1, join='inner') # to adjust automatically row labels i.e index\n",
        "df_combine.head(15)"
      ],
      "execution_count": 64,
      "outputs": [
        {
          "output_type": "execute_result",
          "data": {
            "text/html": [
              "<div>\n",
              "<style scoped>\n",
              "    .dataframe tbody tr th:only-of-type {\n",
              "        vertical-align: middle;\n",
              "    }\n",
              "\n",
              "    .dataframe tbody tr th {\n",
              "        vertical-align: top;\n",
              "    }\n",
              "\n",
              "    .dataframe thead th {\n",
              "        text-align: right;\n",
              "    }\n",
              "</style>\n",
              "<table border=\"1\" class=\"dataframe\">\n",
              "  <thead>\n",
              "    <tr style=\"text-align: right;\">\n",
              "      <th></th>\n",
              "      <th>eng</th>\n",
              "      <th>ger</th>\n",
              "    </tr>\n",
              "  </thead>\n",
              "  <tbody>\n",
              "    <tr>\n",
              "      <th>0</th>\n",
              "      <td>Prague Stock Market falls to minus by the end of the trading day</td>\n",
              "      <td>Die Prager Börse stürzt gegen Geschäftsschluss ins Minus.</td>\n",
              "    </tr>\n",
              "    <tr>\n",
              "      <th>1</th>\n",
              "      <td>After a sharp drop in the morning, the Prague Stock Market corrected its losses.</td>\n",
              "      <td>Nach dem steilen Abfall am Morgen konnte die Prager Börse die Verluste korrigieren.</td>\n",
              "    </tr>\n",
              "    <tr>\n",
              "      <th>2</th>\n",
              "      <td>Transactions with stocks from the Czech Energy Enterprise (ČEZ) reached nearly half of the regular daily trading.</td>\n",
              "      <td>Die Transaktionen mit den Aktien von ČEZ erreichten fast die Hälfte des normalen Tagesgeschäfts.</td>\n",
              "    </tr>\n",
              "    <tr>\n",
              "      <th>3</th>\n",
              "      <td>The Prague Stock Market immediately continued its fall from Monday at the beginning of Tuesday's trading, when it dropped by nearly six percent.</td>\n",
              "      <td>Die Prager Börse knüpfte gleich zu Beginn der Dienstagsgeschäfte an den Einbruch vom Montag an, als sie um weitere sechs Prozentpunkte sank.</td>\n",
              "    </tr>\n",
              "    <tr>\n",
              "      <th>4</th>\n",
              "      <td>This time the fall in stocks on Wall Street is responsible for the drop.</td>\n",
              "      <td>Diesmal lag der Grund für den Einbruch an der Wall Street.</td>\n",
              "    </tr>\n",
              "    <tr>\n",
              "      <th>5</th>\n",
              "      <td>The reaction of the market to the results of the vote in the American House of Representatives, which refused to support the plan for the stabilization of the financial sector there, has manifeste...</td>\n",
              "      <td>Auch in Tschechien zeigt sich so die Reaktion des Marktes auf das Ergebnis der Abstimmung des amerikanischen Repräsentantenhauses, das es abgelehnt hatte, einen Stabilisierungsplan für den dortige...</td>\n",
              "    </tr>\n",
              "    <tr>\n",
              "      <th>6</th>\n",
              "      <td>Stocks fall in Asia</td>\n",
              "      <td>Fall der Aktien in Asien</td>\n",
              "    </tr>\n",
              "    <tr>\n",
              "      <th>7</th>\n",
              "      <td>Stocks in the Asian markets experienced a dramatic drop on Tuesday, even though the indexes ultimately erased a part of the losses during the day.</td>\n",
              "      <td>Einen dramatischen Fall erlebten am Dienstag die Aktien an den Börsen in Asien, wenngleich die Indices im Laufe des Tages einen Teil der Verluste ausgleichen konnten.</td>\n",
              "    </tr>\n",
              "    <tr>\n",
              "      <th>8</th>\n",
              "      <td>The Hang Seng Index of the Hong Kong Stock Exchange wrote off nearly four percent during the day, but later it erased a part of the losses and reduced the decrease to roughly 2.5 percent.</td>\n",
              "      <td>Der Index der Hang Seng Börse in Hongkong verlor im Laufe des Geschäftstages fast vier Prozentpunkte, konnte aber später einen Teil der Verluste wettmachen, somit verringerte sich der Rückgang auf...</td>\n",
              "    </tr>\n",
              "    <tr>\n",
              "      <th>9</th>\n",
              "      <td>The Hang Seng China Enterprises Index, which follows the movement of Chinese stocks on the stock market in Hong Kong, dropped by 3.8 percent, in Shanghai the markets were closed.</td>\n",
              "      <td>Der Index Hang Seng China Enterprises, der die Bewegung der chinesischen Aktien an der Börse in Hongkong beobachtet, sank um 3,8 Prozent, in Shanghai waren die Märkte geschlossen.</td>\n",
              "    </tr>\n",
              "    <tr>\n",
              "      <th>10</th>\n",
              "      <td>Stocks on the market in Sydney lost more than five percent, but ultimately lowered their losses to 4.3 percent.</td>\n",
              "      <td>Die Aktien an der Börse in Sydney verloren mehr als fünf Prozent, verringerten jedoch dann die Verluste auf 4,3 Prozent.</td>\n",
              "    </tr>\n",
              "    <tr>\n",
              "      <th>11</th>\n",
              "      <td>The stock exchange in Taiwan dropped by 3.6 percent according to the local index.</td>\n",
              "      <td>Die Börse in Taiwan sank nach dem dortigen Index um 3,6 Prozent.</td>\n",
              "    </tr>\n",
              "    <tr>\n",
              "      <th>12</th>\n",
              "      <td>The timing of the bailout action in the USA is uncertain and it will influence financial markets all over the world, remarked the head of the Hong Kong Currency Board, Joseph Yam.</td>\n",
              "      <td>Das Timing für die Rettungsaktion in den USA ist unsicher und wird die Finanzmärkte weltweit beeinflussen, so der Chef der Währungsbehörde in Hongkong Joseph Yam.</td>\n",
              "    </tr>\n",
              "    <tr>\n",
              "      <th>13</th>\n",
              "      <td>Despite the fact that it is a part of China, Hong Kong determines its currency policy separately, that is, without being dependent on the Chinese Central Bank.</td>\n",
              "      <td>Hongkong bestimmt, obwohl es zu China gehört, seine Währungspolitik selbst, also unabhängig von der chinesischen Zentralbank.</td>\n",
              "    </tr>\n",
              "    <tr>\n",
              "      <th>14</th>\n",
              "      <td>Hong Kong has interest rates at the same level as the United States.</td>\n",
              "      <td>Die Zinssätze in Hongkong bewegen sich auf demselben Niveau wie die in den Vereinigten Staaten.</td>\n",
              "    </tr>\n",
              "  </tbody>\n",
              "</table>\n",
              "</div>"
            ],
            "text/plain": [
              "                                                                                                                                                                                                        eng                                                                                                                                                                                                      ger\n",
              "0                                                                                                                                          Prague Stock Market falls to minus by the end of the trading day                                                                                                                                                Die Prager Börse stürzt gegen Geschäftsschluss ins Minus.\n",
              "1                                                                                                                          After a sharp drop in the morning, the Prague Stock Market corrected its losses.                                                                                                                      Nach dem steilen Abfall am Morgen konnte die Prager Börse die Verluste korrigieren.\n",
              "2                                                                                         Transactions with stocks from the Czech Energy Enterprise (ČEZ) reached nearly half of the regular daily trading.                                                                                                         Die Transaktionen mit den Aktien von ČEZ erreichten fast die Hälfte des normalen Tagesgeschäfts.\n",
              "3                                                          The Prague Stock Market immediately continued its fall from Monday at the beginning of Tuesday's trading, when it dropped by nearly six percent.                                                             Die Prager Börse knüpfte gleich zu Beginn der Dienstagsgeschäfte an den Einbruch vom Montag an, als sie um weitere sechs Prozentpunkte sank.\n",
              "4                                                                                                                                  This time the fall in stocks on Wall Street is responsible for the drop.                                                                                                                                               Diesmal lag der Grund für den Einbruch an der Wall Street.\n",
              "5   The reaction of the market to the results of the vote in the American House of Representatives, which refused to support the plan for the stabilization of the financial sector there, has manifeste...  Auch in Tschechien zeigt sich so die Reaktion des Marktes auf das Ergebnis der Abstimmung des amerikanischen Repräsentantenhauses, das es abgelehnt hatte, einen Stabilisierungsplan für den dortige...\n",
              "6                                                                                                                                                                                       Stocks fall in Asia                                                                                                                                                                                 Fall der Aktien in Asien\n",
              "7                                                        Stocks in the Asian markets experienced a dramatic drop on Tuesday, even though the indexes ultimately erased a part of the losses during the day.                                   Einen dramatischen Fall erlebten am Dienstag die Aktien an den Börsen in Asien, wenngleich die Indices im Laufe des Tages einen Teil der Verluste ausgleichen konnten.\n",
              "8               The Hang Seng Index of the Hong Kong Stock Exchange wrote off nearly four percent during the day, but later it erased a part of the losses and reduced the decrease to roughly 2.5 percent.  Der Index der Hang Seng Börse in Hongkong verlor im Laufe des Geschäftstages fast vier Prozentpunkte, konnte aber später einen Teil der Verluste wettmachen, somit verringerte sich der Rückgang auf...\n",
              "9                        The Hang Seng China Enterprises Index, which follows the movement of Chinese stocks on the stock market in Hong Kong, dropped by 3.8 percent, in Shanghai the markets were closed.                      Der Index Hang Seng China Enterprises, der die Bewegung der chinesischen Aktien an der Börse in Hongkong beobachtet, sank um 3,8 Prozent, in Shanghai waren die Märkte geschlossen.\n",
              "10                                                                                          Stocks on the market in Sydney lost more than five percent, but ultimately lowered their losses to 4.3 percent.                                                                                 Die Aktien an der Börse in Sydney verloren mehr als fünf Prozent, verringerten jedoch dann die Verluste auf 4,3 Prozent.\n",
              "11                                                                                                                        The stock exchange in Taiwan dropped by 3.6 percent according to the local index.                                                                                                                                         Die Börse in Taiwan sank nach dem dortigen Index um 3,6 Prozent.\n",
              "12                      The timing of the bailout action in the USA is uncertain and it will influence financial markets all over the world, remarked the head of the Hong Kong Currency Board, Joseph Yam.                                       Das Timing für die Rettungsaktion in den USA ist unsicher und wird die Finanzmärkte weltweit beeinflussen, so der Chef der Währungsbehörde in Hongkong Joseph Yam.\n",
              "13                                          Despite the fact that it is a part of China, Hong Kong determines its currency policy separately, that is, without being dependent on the Chinese Central Bank.                                                                            Hongkong bestimmt, obwohl es zu China gehört, seine Währungspolitik selbst, also unabhängig von der chinesischen Zentralbank.\n",
              "14                                                                                                                                     Hong Kong has interest rates at the same level as the United States.                                                                                                          Die Zinssätze in Hongkong bewegen sich auf demselben Niveau wie die in den Vereinigten Staaten."
            ]
          },
          "metadata": {
            "tags": []
          },
          "execution_count": 64
        }
      ]
    },
    {
      "cell_type": "code",
      "metadata": {
        "id": "w9Y6IQVHlejL",
        "colab_type": "code",
        "colab": {}
      },
      "source": [
        ""
      ],
      "execution_count": 0,
      "outputs": []
    }
  ]
}