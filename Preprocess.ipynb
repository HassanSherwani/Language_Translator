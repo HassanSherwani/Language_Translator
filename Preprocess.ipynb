{
  "nbformat": 4,
  "nbformat_minor": 0,
  "metadata": {
    "colab": {
      "name": "Preprocess.ipynb",
      "version": "0.3.2",
      "provenance": [],
      "collapsed_sections": []
    },
    "kernelspec": {
      "name": "python3",
      "display_name": "Python 3"
    },
    "accelerator": "GPU"
  },
  "cells": [
    {
      "cell_type": "code",
      "metadata": {
        "id": "2RX6yTTaKtav",
        "colab_type": "code",
        "colab": {}
      },
      "source": [
        ""
      ],
      "execution_count": 0,
      "outputs": []
    },
    {
      "cell_type": "markdown",
      "metadata": {
        "id": "_t3V5W67K5zX",
        "colab_type": "text"
      },
      "source": [
        "# Machine Translation\n",
        "\n"
      ]
    },
    {
      "cell_type": "markdown",
      "metadata": {
        "id": "8Q5A1ySzLPrq",
        "colab_type": "text"
      },
      "source": [
        "# 1)- Importing key modules"
      ]
    },
    {
      "cell_type": "code",
      "metadata": {
        "id": "dPBH2WUkKwz-",
        "colab_type": "code",
        "colab": {}
      },
      "source": [
        "#support both Python 2 and Python 3 with minimal overhead.\n",
        "from __future__ import absolute_import, division, print_function\n",
        "#ignore warnings\n",
        "import warnings\n",
        "warnings.filterwarnings('ignore')"
      ],
      "execution_count": 0,
      "outputs": []
    },
    {
      "cell_type": "code",
      "metadata": {
        "id": "zTJY_mj6K-LS",
        "colab_type": "code",
        "colab": {}
      },
      "source": [
        "import string \n",
        "from string import digits\n",
        "import re \n",
        "from sklearn.utils import shuffle\n",
        "import pandas as pd \n",
        "import matplotlib.pyplot as plt \n",
        "% matplotlib inline \n",
        "pd.set_option('display.max_colwidth', 200)"
      ],
      "execution_count": 0,
      "outputs": []
    },
    {
      "cell_type": "markdown",
      "metadata": {
        "id": "5-X0sC5fLS7a",
        "colab_type": "text"
      },
      "source": [
        "# 2)- Loading data\n",
        "\n",
        "We have data from 2009 to 2016."
      ]
    },
    {
      "cell_type": "code",
      "metadata": {
        "id": "tFpuPSdKLEtJ",
        "colab_type": "code",
        "colab": {}
      },
      "source": [
        "# load doc into memory\n",
        "def load_doc(filename):\n",
        "\t# open the file as read only\n",
        "\tfile = open(filename, mode='rt', encoding='utf-8')\n",
        "\t# read all text\n",
        "\ttext = file.read()\n",
        "\t# close the file\n",
        "\tfile.close()\n",
        "\treturn text"
      ],
      "execution_count": 0,
      "outputs": []
    },
    {
      "cell_type": "code",
      "metadata": {
        "id": "3QpycswrLlaU",
        "colab_type": "code",
        "colab": {}
      },
      "source": [
        "# split a loaded document into sentences\n",
        "def to_sentences(doc):\n",
        "\treturn doc.strip().split('\\n')"
      ],
      "execution_count": 0,
      "outputs": []
    },
    {
      "cell_type": "code",
      "metadata": {
        "id": "GMLe1Lk5LnAV",
        "colab_type": "code",
        "colab": {}
      },
      "source": [
        "# shortest and longest sentence lengths\n",
        "def sentence_lengths(sentences):\n",
        "\tlengths = [len(s.split()) for s in sentences]\n",
        "\treturn min(lengths), max(lengths)"
      ],
      "execution_count": 0,
      "outputs": []
    },
    {
      "cell_type": "markdown",
      "metadata": {
        "id": "lkrmOs7-L0X0",
        "colab_type": "text"
      },
      "source": [
        "### 2.1)- For year 2009"
      ]
    },
    {
      "cell_type": "code",
      "metadata": {
        "id": "Xg8f11ToLpnc",
        "colab_type": "code",
        "colab": {
          "base_uri": "https://localhost:8080/",
          "height": 50
        },
        "outputId": "dec07b87-dd60-4086-b8a5-ddf037df1f06"
      },
      "source": [
        "# load English data\n",
        "filename = 'newstest2009.en'\n",
        "doc = load_doc(filename)\n",
        "sentences = to_sentences(doc)\n",
        "minlen, maxlen = sentence_lengths(sentences)\n",
        "print('English data: sentences=%d, min=%d, max=%d' % (len(sentences), minlen, maxlen))\n",
        "\n",
        "# load French data\n",
        "filename = 'newstest2009.de'\n",
        "doc = load_doc(filename)\n",
        "sentences = to_sentences(doc)\n",
        "minlen, maxlen = sentence_lengths(sentences)\n",
        "print('German data: sentences=%d, min=%d, max=%d' % (len(sentences), minlen, maxlen))"
      ],
      "execution_count": 7,
      "outputs": [
        {
          "output_type": "stream",
          "text": [
            "English data: sentences=2525, min=1, max=108\n",
            "German data: sentences=2525, min=1, max=110\n"
          ],
          "name": "stdout"
        }
      ]
    },
    {
      "cell_type": "markdown",
      "metadata": {
        "id": "SQmRuUHGL74N",
        "colab_type": "text"
      },
      "source": [
        "It is important to notice that sentence length is same. So, we have a balanced data.\n",
        "\n",
        "We shall check this on all years"
      ]
    },
    {
      "cell_type": "markdown",
      "metadata": {
        "id": "lr3hYKrBMGtQ",
        "colab_type": "text"
      },
      "source": [
        "### 2.2)-For 2010"
      ]
    },
    {
      "cell_type": "code",
      "metadata": {
        "id": "bF2HZBV-LycJ",
        "colab_type": "code",
        "colab": {
          "base_uri": "https://localhost:8080/",
          "height": 50
        },
        "outputId": "7721efb2-5034-41a7-b08d-842232a9581f"
      },
      "source": [
        "# load English data\n",
        "filename = 'newstest2010.en'\n",
        "doc = load_doc(filename)\n",
        "sentences = to_sentences(doc)\n",
        "minlen, maxlen = sentence_lengths(sentences)\n",
        "print('English data: sentences=%d, min=%d, max=%d' % (len(sentences), minlen, maxlen))\n",
        "\n",
        "# load French data\n",
        "filename = 'newstest2010.de'\n",
        "doc = load_doc(filename)\n",
        "sentences = to_sentences(doc)\n",
        "minlen, maxlen = sentence_lengths(sentences)\n",
        "print('German data: sentences=%d, min=%d, max=%d' % (len(sentences), minlen, maxlen))"
      ],
      "execution_count": 8,
      "outputs": [
        {
          "output_type": "stream",
          "text": [
            "English data: sentences=2489, min=1, max=74\n",
            "German data: sentences=2489, min=1, max=86\n"
          ],
          "name": "stdout"
        }
      ]
    },
    {
      "cell_type": "markdown",
      "metadata": {
        "id": "xFaKT4WENIA0",
        "colab_type": "text"
      },
      "source": [
        "### 2.3)-For year 2011"
      ]
    },
    {
      "cell_type": "code",
      "metadata": {
        "id": "OFdlOFxaM8GF",
        "colab_type": "code",
        "colab": {
          "base_uri": "https://localhost:8080/",
          "height": 50
        },
        "outputId": "028fe1a1-64f8-4870-dc14-9117ec77ed77"
      },
      "source": [
        "# load English data\n",
        "filename = 'newstest2011.en'\n",
        "doc = load_doc(filename)\n",
        "sentences = to_sentences(doc)\n",
        "minlen, maxlen = sentence_lengths(sentences)\n",
        "print('English data: sentences=%d, min=%d, max=%d' % (len(sentences), minlen, maxlen))\n",
        "\n",
        "# load French data\n",
        "filename = 'newstest2011.de'\n",
        "doc = load_doc(filename)\n",
        "sentences = to_sentences(doc)\n",
        "minlen, maxlen = sentence_lengths(sentences)\n",
        "print('German data: sentences=%d, min=%d, max=%d' % (len(sentences), minlen, maxlen))"
      ],
      "execution_count": 9,
      "outputs": [
        {
          "output_type": "stream",
          "text": [
            "English data: sentences=3003, min=1, max=93\n",
            "German data: sentences=3003, min=1, max=92\n"
          ],
          "name": "stdout"
        }
      ]
    },
    {
      "cell_type": "markdown",
      "metadata": {
        "id": "H-iKcf42NQl9",
        "colab_type": "text"
      },
      "source": [
        "### 2.4)-For year 2012"
      ]
    },
    {
      "cell_type": "code",
      "metadata": {
        "id": "T6YRzm6yNO12",
        "colab_type": "code",
        "colab": {
          "base_uri": "https://localhost:8080/",
          "height": 50
        },
        "outputId": "d16fec91-b6c4-4c5e-8c47-b23386ab01dd"
      },
      "source": [
        "# load English data\n",
        "filename = 'newstest2012.en'\n",
        "doc = load_doc(filename)\n",
        "sentences = to_sentences(doc)\n",
        "minlen, maxlen = sentence_lengths(sentences)\n",
        "print('English data: sentences=%d, min=%d, max=%d' % (len(sentences), minlen, maxlen))\n",
        "\n",
        "# load French data\n",
        "filename = 'newstest2012.de'\n",
        "doc = load_doc(filename)\n",
        "sentences = to_sentences(doc)\n",
        "minlen, maxlen = sentence_lengths(sentences)\n",
        "print('German data: sentences=%d, min=%d, max=%d' % (len(sentences), minlen, maxlen))"
      ],
      "execution_count": 10,
      "outputs": [
        {
          "output_type": "stream",
          "text": [
            "English data: sentences=3003, min=1, max=114\n",
            "German data: sentences=3003, min=1, max=101\n"
          ],
          "name": "stdout"
        }
      ]
    },
    {
      "cell_type": "markdown",
      "metadata": {
        "id": "4624P_5XNUCW",
        "colab_type": "text"
      },
      "source": [
        "### 2.5)-For year 2013"
      ]
    },
    {
      "cell_type": "code",
      "metadata": {
        "id": "6pqUQn_dNW8B",
        "colab_type": "code",
        "colab": {
          "base_uri": "https://localhost:8080/",
          "height": 50
        },
        "outputId": "7cce43f7-98df-4bcf-bd64-da9ef6ed8dff"
      },
      "source": [
        "# load English data\n",
        "filename = 'newstest2013.en'\n",
        "doc = load_doc(filename)\n",
        "sentences = to_sentences(doc)\n",
        "minlen, maxlen = sentence_lengths(sentences)\n",
        "print('English data: sentences=%d, min=%d, max=%d' % (len(sentences), minlen, maxlen))\n",
        "\n",
        "# load French data\n",
        "filename = 'newstest2013.de'\n",
        "doc = load_doc(filename)\n",
        "sentences = to_sentences(doc)\n",
        "minlen, maxlen = sentence_lengths(sentences)\n",
        "print('German data: sentences=%d, min=%d, max=%d' % (len(sentences), minlen, maxlen))"
      ],
      "execution_count": 11,
      "outputs": [
        {
          "output_type": "stream",
          "text": [
            "English data: sentences=3000, min=1, max=82\n",
            "German data: sentences=3000, min=1, max=85\n"
          ],
          "name": "stdout"
        }
      ]
    },
    {
      "cell_type": "markdown",
      "metadata": {
        "id": "5ROs3kgYNXzl",
        "colab_type": "text"
      },
      "source": [
        "### 2.6)-For year 2014"
      ]
    },
    {
      "cell_type": "code",
      "metadata": {
        "id": "ZlS9fS1ANcTU",
        "colab_type": "code",
        "colab": {
          "base_uri": "https://localhost:8080/",
          "height": 50
        },
        "outputId": "90635351-6fcf-41d1-b4c9-196f3d2848bd"
      },
      "source": [
        "# load English data\n",
        "filename = 'newstest2014.en'\n",
        "doc = load_doc(filename)\n",
        "sentences = to_sentences(doc)\n",
        "minlen, maxlen = sentence_lengths(sentences)\n",
        "print('English data: sentences=%d, min=%d, max=%d' % (len(sentences), minlen, maxlen))\n",
        "\n",
        "# load French data\n",
        "filename = 'newstest2014.de'\n",
        "doc = load_doc(filename)\n",
        "sentences = to_sentences(doc)\n",
        "minlen, maxlen = sentence_lengths(sentences)\n",
        "print('German data: sentences=%d, min=%d, max=%d' % (len(sentences), minlen, maxlen))"
      ],
      "execution_count": 12,
      "outputs": [
        {
          "output_type": "stream",
          "text": [
            "English data: sentences=3003, min=1, max=68\n",
            "German data: sentences=3003, min=1, max=64\n"
          ],
          "name": "stdout"
        }
      ]
    },
    {
      "cell_type": "markdown",
      "metadata": {
        "id": "_By95YGUOKjP",
        "colab_type": "text"
      },
      "source": [
        "### 2.7)- For year 2015"
      ]
    },
    {
      "cell_type": "code",
      "metadata": {
        "id": "Id289Xi1ONBv",
        "colab_type": "code",
        "colab": {
          "base_uri": "https://localhost:8080/",
          "height": 50
        },
        "outputId": "6415d298-211a-4788-be95-0a2e7251bed5"
      },
      "source": [
        "# load English data\n",
        "filename = 'newstest2015.en'\n",
        "doc = load_doc(filename)\n",
        "sentences = to_sentences(doc)\n",
        "minlen, maxlen = sentence_lengths(sentences)\n",
        "print('English data: sentences=%d, min=%d, max=%d' % (len(sentences), minlen, maxlen))\n",
        "\n",
        "# load French data\n",
        "filename = 'newstest2015.de'\n",
        "doc = load_doc(filename)\n",
        "sentences = to_sentences(doc)\n",
        "minlen, maxlen = sentence_lengths(sentences)\n",
        "print('German data: sentences=%d, min=%d, max=%d' % (len(sentences), minlen, maxlen))"
      ],
      "execution_count": 13,
      "outputs": [
        {
          "output_type": "stream",
          "text": [
            "English data: sentences=2169, min=1, max=71\n",
            "German data: sentences=2169, min=1, max=72\n"
          ],
          "name": "stdout"
        }
      ]
    },
    {
      "cell_type": "markdown",
      "metadata": {
        "id": "VzgjV6OjON2G",
        "colab_type": "text"
      },
      "source": [
        "### For year 2016"
      ]
    },
    {
      "cell_type": "code",
      "metadata": {
        "id": "z2fUwxLLOQFR",
        "colab_type": "code",
        "colab": {
          "base_uri": "https://localhost:8080/",
          "height": 50
        },
        "outputId": "3a417f6e-149d-47d0-a8a2-0f606391b780"
      },
      "source": [
        "# load English data\n",
        "filename = 'newstest2016.en'\n",
        "doc = load_doc(filename)\n",
        "sentences = to_sentences(doc)\n",
        "minlen, maxlen = sentence_lengths(sentences)\n",
        "print('English data: sentences=%d, min=%d, max=%d' % (len(sentences), minlen, maxlen))\n",
        "\n",
        "# load French data\n",
        "filename = 'newstest2016.de'\n",
        "doc = load_doc(filename)\n",
        "sentences = to_sentences(doc)\n",
        "minlen, maxlen = sentence_lengths(sentences)\n",
        "print('German data: sentences=%d, min=%d, max=%d' % (len(sentences), minlen, maxlen))"
      ],
      "execution_count": 14,
      "outputs": [
        {
          "output_type": "stream",
          "text": [
            "English data: sentences=2999, min=1, max=83\n",
            "German data: sentences=2999, min=1, max=88\n"
          ],
          "name": "stdout"
        }
      ]
    },
    {
      "cell_type": "markdown",
      "metadata": {
        "id": "4Jlgba1dOkje",
        "colab_type": "text"
      },
      "source": [
        "**All datasets have balanced sentences for English and German version**"
      ]
    },
    {
      "cell_type": "markdown",
      "metadata": {
        "id": "351hNk4lOsGe",
        "colab_type": "text"
      },
      "source": [
        "# 3)- Data Cleaning\n",
        "\n",
        "- Tokenizing text by white space.\n",
        "- Normalizing case to lowercase.\n",
        "- Removing punctuation from each word.\n",
        "- Removing non-printable characters.\n",
        "- Removing words that contain non-alphabetic characters."
      ]
    },
    {
      "cell_type": "code",
      "metadata": {
        "id": "c4XeL-PkOh7o",
        "colab_type": "code",
        "colab": {}
      },
      "source": [
        ""
      ],
      "execution_count": 0,
      "outputs": []
    }
  ]
}