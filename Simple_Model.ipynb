{
  "nbformat": 4,
  "nbformat_minor": 0,
  "metadata": {
    "accelerator": "GPU",
    "colab": {
      "name": "Simple_Model.ipynb",
      "version": "0.3.2",
      "provenance": [],
      "collapsed_sections": [],
      "include_colab_link": true
    },
    "kernelspec": {
      "name": "python3",
      "display_name": "Python 3"
    },
    "language_info": {
      "codemirror_mode": {
        "name": "ipython",
        "version": 3
      },
      "file_extension": ".py",
      "mimetype": "text/x-python",
      "name": "python",
      "nbconvert_exporter": "python",
      "pygments_lexer": "ipython3",
      "version": "3.6.3"
    }
  },
  "cells": [
    {
      "cell_type": "markdown",
      "metadata": {
        "id": "view-in-github",
        "colab_type": "text"
      },
      "source": [
        "<a href=\"https://colab.research.google.com/github/HassanSherwani/Language_Translator/blob/master/Simple_Model.ipynb\" target=\"_parent\"><img src=\"https://colab.research.google.com/assets/colab-badge.svg\" alt=\"Open In Colab\"/></a>"
      ]
    },
    {
      "cell_type": "markdown",
      "metadata": {
        "colab_type": "text",
        "id": "QJxJLfT6m4zo"
      },
      "source": [
        "# Machine Translation\n",
        "\n",
        "English-German Translation"
      ]
    },
    {
      "cell_type": "markdown",
      "metadata": {
        "colab_type": "text",
        "id": "YvFSu3KOnCQI"
      },
      "source": [
        "# 1)- Importing key modules"
      ]
    },
    {
      "cell_type": "code",
      "metadata": {
        "colab_type": "code",
        "id": "ydSdCo4JzRta",
        "colab": {}
      },
      "source": [
        "#support both Python 2 and Python 3 with minimal overhead.\n",
        "from __future__ import absolute_import, division, print_function\n",
        "#ignore warnings\n",
        "import warnings\n",
        "warnings.filterwarnings('ignore')"
      ],
      "execution_count": 0,
      "outputs": []
    },
    {
      "cell_type": "code",
      "metadata": {
        "colab_type": "code",
        "id": "HXdjBXc-zNXe",
        "colab": {}
      },
      "source": [
        "import string \n",
        "import re \n",
        "from numpy import array, argmax, random, take \n",
        "import pandas as pd \n",
        "import matplotlib.pyplot as plt \n",
        "%matplotlib inline \n",
        "pd.set_option('display.max_colwidth', 200)"
      ],
      "execution_count": 0,
      "outputs": []
    },
    {
      "cell_type": "code",
      "metadata": {
        "colab_type": "code",
        "id": "ElRcz5K3hJrC",
        "outputId": "a69be058-c84c-4b6d-dc64-863b2b1dd1c9",
        "colab": {
          "base_uri": "https://localhost:8080/",
          "height": 34
        }
      },
      "source": [
        "from keras.models import Sequential \n",
        "from keras.layers import Dense, LSTM, Embedding, RepeatVector\n",
        "from keras.preprocessing.text import Tokenizer\n",
        "from keras.callbacks import ModelCheckpoint \n",
        "from keras.preprocessing.sequence import pad_sequences\n",
        "from keras.models import load_model \n",
        "from keras import optimizers \n"
      ],
      "execution_count": 3,
      "outputs": [
        {
          "output_type": "stream",
          "text": [
            "Using TensorFlow backend.\n"
          ],
          "name": "stderr"
        }
      ]
    },
    {
      "cell_type": "markdown",
      "metadata": {
        "colab_type": "text",
        "id": "XN_b91atnHye"
      },
      "source": [
        "# 2)- Reading Dataset"
      ]
    },
    {
      "cell_type": "code",
      "metadata": {
        "id": "3ffc2bMb7xJU",
        "colab_type": "code",
        "colab": {}
      },
      "source": [
        "# function to read raw text file\n",
        "def read_text(filename): \n",
        "        # open the file \n",
        "        file = open(filename, mode='rt', encoding='utf-8') \n",
        "        \n",
        "        # read all text \n",
        "        text = file.read() \n",
        "        file.close() \n",
        "        return text"
      ],
      "execution_count": 0,
      "outputs": []
    },
    {
      "cell_type": "code",
      "metadata": {
        "id": "L6ucxbaz7xMm",
        "colab_type": "code",
        "colab": {}
      },
      "source": [
        "# split text into sentences \n",
        "def to_lines(text): \n",
        "      sents = text.strip().split('\\n') \n",
        "      sents = [i.split('\\t') for i in sents] \n",
        "      return sents"
      ],
      "execution_count": 0,
      "outputs": []
    },
    {
      "cell_type": "code",
      "metadata": {
        "id": "P23QEeky7xPt",
        "colab_type": "code",
        "colab": {}
      },
      "source": [
        "data = read_text(\"random_data.txt\") \n",
        "deu_eng = to_lines(data) \n",
        "deu_eng = array(deu_eng)"
      ],
      "execution_count": 0,
      "outputs": []
    },
    {
      "cell_type": "code",
      "metadata": {
        "id": "5uE4Ka5gVYq-",
        "colab_type": "code",
        "colab": {
          "base_uri": "https://localhost:8080/",
          "height": 34
        },
        "outputId": "9951b18a-9a76-4a01-c786-7da1582cab2d"
      },
      "source": [
        "type(deu_eng)"
      ],
      "execution_count": 10,
      "outputs": [
        {
          "output_type": "execute_result",
          "data": {
            "text/plain": [
              "numpy.ndarray"
            ]
          },
          "metadata": {
            "tags": []
          },
          "execution_count": 10
        }
      ]
    },
    {
      "cell_type": "code",
      "metadata": {
        "id": "5sQ0sxkw7xS3",
        "colab_type": "code",
        "outputId": "4d83a143-d5da-459f-d0b3-03edd52168e9",
        "colab": {
          "base_uri": "https://localhost:8080/",
          "height": 154
        }
      },
      "source": [
        "# for english part \n",
        "deu_eng[:,0]"
      ],
      "execution_count": 9,
      "outputs": [
        {
          "output_type": "execute_result",
          "data": {
            "text/plain": [
              "array(['india and japan prime ministers meet in tokyo',\n",
              "       'indias new prime minister narendra modi is meeting his japanese counterpart shinzo abe in tokyo to discuss economic and security ties on his first major foreign visit since winning mays election',\n",
              "       'mr modi is on a fiveday trip to japan to strengthen economic ties with the third largest economy in the world',\n",
              "       ..., 'five minutes later the first mountainbikers set off',\n",
              "       'bent hansen chairman of the association cycling on the grosser feldberg gave the starting orders and wished those taking part an enjoyable trip',\n",
              "       'next year he hopes to have safety barriers on the course for the benefit of those taking part on the feldberg'],\n",
              "      dtype='<U511')"
            ]
          },
          "metadata": {
            "tags": []
          },
          "execution_count": 9
        }
      ]
    },
    {
      "cell_type": "code",
      "metadata": {
        "id": "QMxTVt657xV9",
        "colab_type": "code",
        "colab": {
          "base_uri": "https://localhost:8080/",
          "height": 154
        },
        "outputId": "f09ae73a-9421-4b65-f565-f74e33ccec9f"
      },
      "source": [
        "# for german version of data\n",
        "deu_eng[:,1]"
      ],
      "execution_count": 12,
      "outputs": [
        {
          "output_type": "execute_result",
          "data": {
            "text/plain": [
              "array(['die premierminister indiens und japans trafen sich in tokio',\n",
              "       'indiens neuer premierminister narendra modi trifft bei seinem ersten wichtigen auslandsbesuch seit seinem wahlsieg im mai seinen japanischen amtskollegen shinzo abe in toko um wirtschaftliche und sicherheitspolitische beziehungen zu besprechen',\n",
              "       'herr modi befindet sich auf einer funftagigen reise nach japan um die wirtschaftlichen beziehungen mit der drittgroten wirtschaftsnation der welt zu festigen',\n",
              "       ..., 'funf minuten spater legten die ersten mountainbiker los',\n",
              "       'bent hansen vorsitzender des vereins radeln auf den groen feldberg gab die startkommandos und wunschte den teilnehmern einen schonen ausflug',\n",
              "       'fur nachstes jahr hoffe er dass es gelingt die strecke zum feldberg hinauf zur sicherheit der teilnehmer zu sperren'],\n",
              "      dtype='<U511')"
            ]
          },
          "metadata": {
            "tags": []
          },
          "execution_count": 12
        }
      ]
    },
    {
      "cell_type": "markdown",
      "metadata": {
        "id": "lUZ6BSmvtJ1s",
        "colab_type": "text"
      },
      "source": [
        "# 3)-Text Pre-Processing"
      ]
    },
    {
      "cell_type": "markdown",
      "metadata": {
        "colab_type": "text",
        "id": "GEia-m7ViPLD"
      },
      "source": [
        "### 3.1)-Text cleaning"
      ]
    },
    {
      "cell_type": "code",
      "metadata": {
        "colab_type": "code",
        "id": "WmC81k-wh8ZJ",
        "colab": {}
      },
      "source": [
        "# Remove punctuation \n",
        "deu_eng[:,0] = [s.translate(str.maketrans('', '', string.punctuation)) for s in deu_eng[:,0]] \n",
        "deu_eng[:,1] = [s.translate(str.maketrans('', '', string.punctuation)) for s in deu_eng[:,1]] \n",
        "\n",
        "# convert text to lowercase \n",
        "for i in range(len(deu_eng)): \n",
        "    deu_eng[i,0] = deu_eng[i,0].lower() \n",
        "    deu_eng[i,1] = deu_eng[i,1].lower()"
      ],
      "execution_count": 0,
      "outputs": []
    },
    {
      "cell_type": "markdown",
      "metadata": {
        "colab_type": "text",
        "id": "4FdyDdXwiS9i"
      },
      "source": [
        "### 3.2)-Text to Sequence Conversion"
      ]
    },
    {
      "cell_type": "code",
      "metadata": {
        "colab_type": "code",
        "id": "8pxu1-xNh8cA",
        "colab": {
          "base_uri": "https://localhost:8080/",
          "height": 281
        },
        "outputId": "82c20837-8df2-4ad5-8a48-2a264cf155fc"
      },
      "source": [
        "# empty lists \n",
        "eng_l = [] \n",
        "deu_l = [] \n",
        "\n",
        "# populate the lists with sentence lengths \n",
        "for i in deu_eng[:,0]: \n",
        "      eng_l.append(len(i.split())) \n",
        "\n",
        "for i in deu_eng[:,1]: \n",
        "      deu_l.append(len(i.split())) \n",
        "\n",
        "length_df = pd.DataFrame({'eng':eng_l, 'deu':deu_l})\n",
        "length_df.hist(bins = 30) \n",
        "plt.show()"
      ],
      "execution_count": 14,
      "outputs": [
        {
          "output_type": "display_data",
          "data": {
            "image/png": "[encoded data removed]",
            "text/plain": [
              "<Figure size 432x288 with 2 Axes>"
            ]
          },
          "metadata": {
            "tags": []
          }
        }
      ]
    },
    {
      "cell_type": "markdown",
      "metadata": {
        "colab_type": "text",
        "id": "2De4ZERJzX_4"
      },
      "source": [
        "the maximum length of the German sentences is of max. range of 68 and that of the English phrases is 68. But, their graph pattern is different from each other"
      ]
    },
    {
      "cell_type": "markdown",
      "metadata": {
        "colab_type": "text",
        "id": "Lpt6tCjfkGKu"
      },
      "source": [
        "### 3.3)-vectorize our text data \n",
        "\n",
        "by using Keras’s Tokenizer()"
      ]
    },
    {
      "cell_type": "code",
      "metadata": {
        "colab_type": "code",
        "id": "_j_y_uZ7h8e6",
        "colab": {
          "base_uri": "https://localhost:8080/",
          "height": 34
        },
        "outputId": "7d17d7f4-83b0-4cfc-9c38-fbf913884cb4"
      },
      "source": [
        "# function to build a tokenizer \n",
        "def tokenization(lines): \n",
        "      tokenizer = Tokenizer() \n",
        "      tokenizer.fit_on_texts(lines) \n",
        "      return tokenizer\n",
        "\n",
        "# prepare english tokenizer \n",
        "eng_tokenizer = tokenization(deu_eng[:, 0]) \n",
        "eng_vocab_size = len(eng_tokenizer.word_index) + 1 \n",
        "eng_length = 8 \n",
        "\n",
        "print('English Vocabulary Size: %d' % eng_vocab_size)"
      ],
      "execution_count": 15,
      "outputs": [
        {
          "output_type": "stream",
          "text": [
            "English Vocabulary Size: 7231\n"
          ],
          "name": "stdout"
        }
      ]
    },
    {
      "cell_type": "code",
      "metadata": {
        "colab_type": "code",
        "id": "0ha_ZNySh8hh",
        "colab": {
          "base_uri": "https://localhost:8080/",
          "height": 34
        },
        "outputId": "fded5c70-e999-42d2-f386-9973e78d1888"
      },
      "source": [
        "# prepare Deutch tokenizer \n",
        "deu_tokenizer = tokenization(deu_eng[:, 1]) \n",
        "deu_vocab_size = len(deu_tokenizer.word_index) + 1 \n",
        "deu_length = 8 \n",
        "print('Deutch Vocabulary Size: %d' % deu_vocab_size)"
      ],
      "execution_count": 16,
      "outputs": [
        {
          "output_type": "stream",
          "text": [
            "Deutch Vocabulary Size: 9284\n"
          ],
          "name": "stdout"
        }
      ]
    },
    {
      "cell_type": "markdown",
      "metadata": {
        "colab_type": "text",
        "id": "XvmowmplzfdT"
      },
      "source": [
        "There is difference in amount of words in two languages.We need to encode sequence"
      ]
    },
    {
      "cell_type": "markdown",
      "metadata": {
        "colab_type": "text",
        "id": "cUY-Py6WzhtB"
      },
      "source": [
        "### 3.4)-encode and pad sequences "
      ]
    },
    {
      "cell_type": "code",
      "metadata": {
        "colab_type": "code",
        "id": "QElAizsykOtJ",
        "colab": {}
      },
      "source": [
        "def encode_sequences(tokenizer, length, lines):          \n",
        "         # integer encode sequences          \n",
        "         seq = tokenizer.texts_to_sequences(lines)          \n",
        "         # pad sequences with 0 values          \n",
        "         seq = pad_sequences(seq, maxlen=length, padding='post')           \n",
        "         return seq"
      ],
      "execution_count": 0,
      "outputs": []
    },
    {
      "cell_type": "markdown",
      "metadata": {
        "colab_type": "text",
        "id": "408A3w7Ukb4r"
      },
      "source": [
        "# 4)-Model Building"
      ]
    },
    {
      "cell_type": "markdown",
      "metadata": {
        "colab_type": "text",
        "id": "kJF5iWUOnUgC"
      },
      "source": [
        "### 4.1)- Train-test Split\n",
        "\n",
        "80%-20%"
      ]
    },
    {
      "cell_type": "code",
      "metadata": {
        "colab_type": "code",
        "id": "GzxozTM0kZk7",
        "colab": {}
      },
      "source": [
        "from sklearn.model_selection import train_test_split \n",
        "\n",
        "# split data into train and test set \n",
        "train,test= train_test_split(deu_eng,test_size=0.2,random_state= 12)"
      ],
      "execution_count": 0,
      "outputs": []
    },
    {
      "cell_type": "markdown",
      "metadata": {
        "colab_type": "text",
        "id": "xvyO7SdQkr88"
      },
      "source": [
        "### 4.2)- Defining input and target\n",
        "We will encode English sentences as the input sequences and German sentences as the target sequences"
      ]
    },
    {
      "cell_type": "code",
      "metadata": {
        "colab_type": "code",
        "id": "wJvJMU9Vzr-7",
        "colab": {
          "base_uri": "https://localhost:8080/",
          "height": 134
        },
        "outputId": "fcef5eaa-7927-46fb-b7a5-6d6cee875b87"
      },
      "source": [
        "# english version\n",
        "train[:, 0]"
      ],
      "execution_count": 19,
      "outputs": [
        {
          "output_type": "execute_result",
          "data": {
            "text/plain": [
              "array(['its not my responsibility',\n",
              "       'meanwhile in our homes items as innocuous as floor tiles or shed roofs have routinely contained asbestos',\n",
              "       'she said i keep thinking this world did not get better within these years',\n",
              "       ...,\n",
              "       'crops are rotting in the fields mines have been deserted and the markets have been abandoned the virus has cost the region dearly',\n",
              "       'the preparations for the party are well underway in tannenwald gun club which will celebrate years since being established on to september',\n",
              "       'it also means higher taxes'], dtype='<U511')"
            ]
          },
          "metadata": {
            "tags": []
          },
          "execution_count": 19
        }
      ]
    },
    {
      "cell_type": "code",
      "metadata": {
        "colab_type": "code",
        "id": "TcMT6wFoztLT",
        "colab": {
          "base_uri": "https://localhost:8080/",
          "height": 134
        },
        "outputId": "c62222b0-6c73-4d70-a762-1892fca4c21b"
      },
      "source": [
        "# english version\n",
        "train[:, 1]"
      ],
      "execution_count": 20,
      "outputs": [
        {
          "output_type": "execute_result",
          "data": {
            "text/plain": [
              "array(['ich bin nicht dafur verantwortlich',\n",
              "       'und derweil haben so unschuldige gegenstande in unseren hausern wie fubodenplatten oder schuppendacher standardmaig asbest enthalten',\n",
              "       'sie sagte ich denke immer dass diese welt in diesen jahren nicht besser geworden ist',\n",
              "       ...,\n",
              "       'die ernte verrottet auf den feldern die minen sind verlassen und die markte verwaist das virus hat der region schwer zugesetzt',\n",
              "       'auf hochtouren laufen beim schutzenverein tannenwald die vorbereitungen fur das grundungsfest von bis september',\n",
              "       'sie bedeutet auch hohere steuern'], dtype='<U511')"
            ]
          },
          "metadata": {
            "tags": []
          },
          "execution_count": 20
        }
      ]
    },
    {
      "cell_type": "code",
      "metadata": {
        "colab_type": "code",
        "id": "P6ZhWiJdkkb8",
        "colab": {}
      },
      "source": [
        "# prepare training data \n",
        "trainX = encode_sequences(eng_tokenizer, deu_length, train[:, 0]) \n",
        "trainY = encode_sequences(deu_tokenizer, eng_length, train[:, 1]) \n",
        "\n",
        "# prepare validation data \n",
        "testX = encode_sequences(eng_tokenizer, deu_length, test[:, 0]) \n",
        "testY = encode_sequences(deu_tokenizer, eng_length, test[:, 1])"
      ],
      "execution_count": 0,
      "outputs": []
    },
    {
      "cell_type": "code",
      "metadata": {
        "colab_type": "code",
        "id": "f2LKJrFfz0GI",
        "colab": {
          "base_uri": "https://localhost:8080/",
          "height": 101
        },
        "outputId": "b86d6ffd-6d26-44b9-c700-c04eef86fd7f"
      },
      "source": [
        "print(trainX[:5])"
      ],
      "execution_count": 22,
      "outputs": [
        {
          "output_type": "stream",
          "text": [
            "[[  48   23   51 4075    0    0    0    0]\n",
            " [2904   64 2016 5284   17 5285 2943   65]\n",
            " [ 141   97   23   98  179  362  193   58]\n",
            " [  69  610  427   23 1523 1892 2202 5445]\n",
            " [1329    3  113   76    1  204 3174    4]]\n"
          ],
          "name": "stdout"
        }
      ]
    },
    {
      "cell_type": "code",
      "metadata": {
        "colab_type": "code",
        "id": "L81CkA-Rz0Jh",
        "colab": {
          "base_uri": "https://localhost:8080/",
          "height": 101
        },
        "outputId": "344d4800-35e5-4c3f-9156-b972f7b8dcca"
      },
      "source": [
        "print(trainY[:5])"
      ],
      "execution_count": 23,
      "outputs": [
        {
          "output_type": "stream",
          "text": [
            "[[  15  184   18  272 1521    0    0    0]\n",
            " [1071   30 2751   59 6215 6216   85 1223]\n",
            " [ 197    4  261  100   18  323  708   16]\n",
            " [6478   55 1233  208 6479 6480  956 1466]\n",
            " [ 264    5  550    6    4  592    6  180]]\n"
          ],
          "name": "stdout"
        }
      ]
    },
    {
      "cell_type": "code",
      "metadata": {
        "colab_type": "code",
        "id": "plUoF_-gz0Mh",
        "colab": {
          "base_uri": "https://localhost:8080/",
          "height": 84
        },
        "outputId": "b0de407b-6f83-497a-958b-b06821acda0a"
      },
      "source": [
        "print(trainX.shape)\n",
        "print(trainY.shape)\n",
        "print(testX.shape)\n",
        "print(testY.shape)"
      ],
      "execution_count": 24,
      "outputs": [
        {
          "output_type": "stream",
          "text": [
            "(5205, 8)\n",
            "(5205, 8)\n",
            "(1302, 8)\n",
            "(1302, 8)\n"
          ],
          "name": "stdout"
        }
      ]
    },
    {
      "cell_type": "markdown",
      "metadata": {
        "colab_type": "text",
        "id": "7ubte9AUngfx"
      },
      "source": [
        "### 4.3)- build NMT model"
      ]
    },
    {
      "cell_type": "code",
      "metadata": {
        "colab_type": "code",
        "id": "CuEMUhwV248X",
        "colab": {
          "base_uri": "https://localhost:8080/",
          "height": 34
        },
        "outputId": "732020e0-4dbe-4ce1-daae-6669b447ad1b"
      },
      "source": [
        "eng_length"
      ],
      "execution_count": 25,
      "outputs": [
        {
          "output_type": "execute_result",
          "data": {
            "text/plain": [
              "8"
            ]
          },
          "metadata": {
            "tags": []
          },
          "execution_count": 25
        }
      ]
    },
    {
      "cell_type": "code",
      "metadata": {
        "colab_type": "code",
        "id": "afiv_7mw26av",
        "colab": {
          "base_uri": "https://localhost:8080/",
          "height": 34
        },
        "outputId": "3cec834e-007b-41ee-c079-0034c28d4dc0"
      },
      "source": [
        "deu_length"
      ],
      "execution_count": 26,
      "outputs": [
        {
          "output_type": "execute_result",
          "data": {
            "text/plain": [
              "8"
            ]
          },
          "metadata": {
            "tags": []
          },
          "execution_count": 26
        }
      ]
    },
    {
      "cell_type": "code",
      "metadata": {
        "colab_type": "code",
        "id": "yORpCfMCkkjz",
        "colab": {}
      },
      "source": [
        " def build_model(in_vocab,out_vocab, in_timesteps,out_timesteps,n):   \n",
        "      model = Sequential() \n",
        "      model.add(Embedding(in_vocab, n, input_length=in_timesteps,   \n",
        "      mask_zero=True)) \n",
        "      model.add(LSTM(n)) \n",
        "      model.add(RepeatVector(out_timesteps)) \n",
        "      model.add(LSTM(n, return_sequences=True))  \n",
        "      model.add(Dense(out_vocab, activation='softmax')) \n",
        "      return model"
      ],
      "execution_count": 0,
      "outputs": []
    },
    {
      "cell_type": "code",
      "metadata": {
        "colab_type": "code",
        "id": "H_0LMdC6lgnp",
        "colab": {
          "base_uri": "https://localhost:8080/",
          "height": 255
        },
        "outputId": "8e9a6e4e-20d9-4d72-978f-dd47b46967b0"
      },
      "source": [
        "# model compilation (with 512 hidden units)\n",
        "model = build_model(eng_vocab_size,deu_vocab_size, eng_length, deu_length, 512)\n",
        "\n",
        "rms = optimizers.RMSprop(lr=0.001) \n",
        "model.compile(optimizer=rms, loss='sparse_categorical_crossentropy')"
      ],
      "execution_count": 28,
      "outputs": [
        {
          "output_type": "stream",
          "text": [
            "WARNING:tensorflow:From /usr/local/lib/python3.6/dist-packages/keras/backend/tensorflow_backend.py:66: The name tf.get_default_graph is deprecated. Please use tf.compat.v1.get_default_graph instead.\n",
            "\n",
            "WARNING:tensorflow:From /usr/local/lib/python3.6/dist-packages/keras/backend/tensorflow_backend.py:541: The name tf.placeholder is deprecated. Please use tf.compat.v1.placeholder instead.\n",
            "\n",
            "WARNING:tensorflow:From /usr/local/lib/python3.6/dist-packages/keras/backend/tensorflow_backend.py:4432: The name tf.random_uniform is deprecated. Please use tf.random.uniform instead.\n",
            "\n",
            "WARNING:tensorflow:From /usr/local/lib/python3.6/dist-packages/keras/backend/tensorflow_backend.py:3239: add_dispatch_support.<locals>.wrapper (from tensorflow.python.ops.array_ops) is deprecated and will be removed in a future version.\n",
            "Instructions for updating:\n",
            "Use tf.where in 2.0, which has the same broadcast rule as np.where\n",
            "WARNING:tensorflow:From /usr/local/lib/python3.6/dist-packages/keras/optimizers.py:793: The name tf.train.Optimizer is deprecated. Please use tf.compat.v1.train.Optimizer instead.\n",
            "\n",
            "WARNING:tensorflow:From /usr/local/lib/python3.6/dist-packages/keras/backend/tensorflow_backend.py:3622: The name tf.log is deprecated. Please use tf.math.log instead.\n",
            "\n"
          ],
          "name": "stdout"
        }
      ]
    },
    {
      "cell_type": "code",
      "metadata": {
        "colab_type": "code",
        "id": "BA8KW2_80Hs3",
        "colab": {
          "base_uri": "https://localhost:8080/",
          "height": 319
        },
        "outputId": "0e4215b7-66a7-4442-c2c5-3cbe0a6aaf1f"
      },
      "source": [
        "model.summary()"
      ],
      "execution_count": 29,
      "outputs": [
        {
          "output_type": "stream",
          "text": [
            "Model: \"sequential_1\"\n",
            "_________________________________________________________________\n",
            "Layer (type)                 Output Shape              Param #   \n",
            "=================================================================\n",
            "embedding_1 (Embedding)      (None, 8, 512)            3702272   \n",
            "_________________________________________________________________\n",
            "lstm_1 (LSTM)                (None, 512)               2099200   \n",
            "_________________________________________________________________\n",
            "repeat_vector_1 (RepeatVecto (None, 8, 512)            0         \n",
            "_________________________________________________________________\n",
            "lstm_2 (LSTM)                (None, 8, 512)            2099200   \n",
            "_________________________________________________________________\n",
            "dense_1 (Dense)              (None, 8, 9284)           4762692   \n",
            "=================================================================\n",
            "Total params: 12,663,364\n",
            "Trainable params: 12,663,364\n",
            "Non-trainable params: 0\n",
            "_________________________________________________________________\n"
          ],
          "name": "stdout"
        }
      ]
    },
    {
      "cell_type": "code",
      "metadata": {
        "colab_type": "code",
        "id": "9M1ukVFAlkFz",
        "colab": {
          "base_uri": "https://localhost:8080/",
          "height": 1000
        },
        "outputId": "b549176c-47c1-4573-b53f-3da7dd8f5697"
      },
      "source": [
        "filename = 'model_translate.h1' \n",
        "\n",
        "# set checkpoint\n",
        "checkpoint = ModelCheckpoint(filename, monitor='val_loss',  \n",
        "                             verbose=1, save_best_only=True, \n",
        "                             mode='min') \n",
        "\n",
        "\n",
        "# train model \n",
        "history = model.fit(trainX, trainY.reshape(trainY.shape[0], trainY.shape[1], 1), \n",
        "                    epochs=30, batch_size=512, validation_split = 0.2, \n",
        "                    callbacks=[checkpoint], verbose=1)"
      ],
      "execution_count": 30,
      "outputs": [
        {
          "output_type": "stream",
          "text": [
            "WARNING:tensorflow:From /usr/local/lib/python3.6/dist-packages/keras/backend/tensorflow_backend.py:1033: The name tf.assign_add is deprecated. Please use tf.compat.v1.assign_add instead.\n",
            "\n",
            "Train on 4164 samples, validate on 1041 samples\n",
            "Epoch 1/30\n",
            "4164/4164 [==============================] - 8s 2ms/step - loss: 8.2239 - val_loss: 7.3432\n",
            "\n",
            "Epoch 00001: val_loss improved from inf to 7.34316, saving model to model_translate.h1\n",
            "Epoch 2/30\n",
            "4164/4164 [==============================] - 2s 546us/step - loss: 7.0973 - val_loss: 7.2177\n",
            "\n",
            "Epoch 00002: val_loss improved from 7.34316 to 7.21767, saving model to model_translate.h1\n",
            "Epoch 3/30\n",
            "4164/4164 [==============================] - 2s 548us/step - loss: 6.9842 - val_loss: 7.1847\n",
            "\n",
            "Epoch 00003: val_loss improved from 7.21767 to 7.18468, saving model to model_translate.h1\n",
            "Epoch 4/30\n",
            "4164/4164 [==============================] - 2s 548us/step - loss: 6.9288 - val_loss: 7.1315\n",
            "\n",
            "Epoch 00004: val_loss improved from 7.18468 to 7.13151, saving model to model_translate.h1\n",
            "Epoch 5/30\n",
            "4164/4164 [==============================] - 2s 548us/step - loss: 6.8462 - val_loss: 7.1350\n",
            "\n",
            "Epoch 00005: val_loss did not improve from 7.13151\n",
            "Epoch 6/30\n",
            "4164/4164 [==============================] - 2s 543us/step - loss: 6.8135 - val_loss: 7.0500\n",
            "\n",
            "Epoch 00006: val_loss improved from 7.13151 to 7.05001, saving model to model_translate.h1\n",
            "Epoch 7/30\n",
            "4164/4164 [==============================] - 2s 550us/step - loss: 6.7550 - val_loss: 7.0180\n",
            "\n",
            "Epoch 00007: val_loss improved from 7.05001 to 7.01803, saving model to model_translate.h1\n",
            "Epoch 8/30\n",
            "4164/4164 [==============================] - 2s 550us/step - loss: 6.7456 - val_loss: 7.0033\n",
            "\n",
            "Epoch 00008: val_loss improved from 7.01803 to 7.00334, saving model to model_translate.h1\n",
            "Epoch 9/30\n",
            "4164/4164 [==============================] - 2s 554us/step - loss: 6.6569 - val_loss: 6.9297\n",
            "\n",
            "Epoch 00009: val_loss improved from 7.00334 to 6.92969, saving model to model_translate.h1\n",
            "Epoch 10/30\n",
            "4164/4164 [==============================] - 2s 553us/step - loss: 6.6243 - val_loss: 6.9162\n",
            "\n",
            "Epoch 00010: val_loss improved from 6.92969 to 6.91618, saving model to model_translate.h1\n",
            "Epoch 11/30\n",
            "4164/4164 [==============================] - 2s 547us/step - loss: 6.5719 - val_loss: 6.8671\n",
            "\n",
            "Epoch 00011: val_loss improved from 6.91618 to 6.86705, saving model to model_translate.h1\n",
            "Epoch 12/30\n",
            "4164/4164 [==============================] - 2s 552us/step - loss: 6.4945 - val_loss: 6.9912\n",
            "\n",
            "Epoch 00012: val_loss did not improve from 6.86705\n",
            "Epoch 13/30\n",
            "4164/4164 [==============================] - 2s 549us/step - loss: 6.5019 - val_loss: 6.8510\n",
            "\n",
            "Epoch 00013: val_loss improved from 6.86705 to 6.85097, saving model to model_translate.h1\n",
            "Epoch 14/30\n",
            "4164/4164 [==============================] - 2s 548us/step - loss: 6.4065 - val_loss: 6.8989\n",
            "\n",
            "Epoch 00014: val_loss did not improve from 6.85097\n",
            "Epoch 15/30\n",
            "4164/4164 [==============================] - 2s 550us/step - loss: 6.3757 - val_loss: 6.7143\n",
            "\n",
            "Epoch 00015: val_loss improved from 6.85097 to 6.71427, saving model to model_translate.h1\n",
            "Epoch 16/30\n",
            "4164/4164 [==============================] - 2s 558us/step - loss: 6.3082 - val_loss: 6.8321\n",
            "\n",
            "Epoch 00016: val_loss did not improve from 6.71427\n",
            "Epoch 17/30\n",
            "4164/4164 [==============================] - 2s 553us/step - loss: 6.2863 - val_loss: 6.6391\n",
            "\n",
            "Epoch 00017: val_loss improved from 6.71427 to 6.63913, saving model to model_translate.h1\n",
            "Epoch 18/30\n",
            "4164/4164 [==============================] - 2s 554us/step - loss: 6.2261 - val_loss: 6.6123\n",
            "\n",
            "Epoch 00018: val_loss improved from 6.63913 to 6.61225, saving model to model_translate.h1\n",
            "Epoch 19/30\n",
            "4164/4164 [==============================] - 2s 556us/step - loss: 6.1568 - val_loss: 6.5551\n",
            "\n",
            "Epoch 00019: val_loss improved from 6.61225 to 6.55513, saving model to model_translate.h1\n",
            "Epoch 20/30\n",
            "4164/4164 [==============================] - 2s 546us/step - loss: 6.0896 - val_loss: 6.6636\n",
            "\n",
            "Epoch 00020: val_loss did not improve from 6.55513\n",
            "Epoch 21/30\n",
            "4164/4164 [==============================] - 2s 553us/step - loss: 6.1031 - val_loss: 6.4823\n",
            "\n",
            "Epoch 00021: val_loss improved from 6.55513 to 6.48228, saving model to model_translate.h1\n",
            "Epoch 22/30\n",
            "4164/4164 [==============================] - 2s 559us/step - loss: 6.0479 - val_loss: 6.5282\n",
            "\n",
            "Epoch 00022: val_loss did not improve from 6.48228\n",
            "Epoch 23/30\n",
            "4164/4164 [==============================] - 2s 553us/step - loss: 5.9817 - val_loss: 6.4618\n",
            "\n",
            "Epoch 00023: val_loss improved from 6.48228 to 6.46183, saving model to model_translate.h1\n",
            "Epoch 24/30\n",
            "4164/4164 [==============================] - 2s 549us/step - loss: 5.9341 - val_loss: 6.3973\n",
            "\n",
            "Epoch 00024: val_loss improved from 6.46183 to 6.39731, saving model to model_translate.h1\n",
            "Epoch 25/30\n",
            "4164/4164 [==============================] - 2s 557us/step - loss: 5.8861 - val_loss: 6.5144\n",
            "\n",
            "Epoch 00025: val_loss did not improve from 6.39731\n",
            "Epoch 26/30\n",
            "4164/4164 [==============================] - 2s 556us/step - loss: 5.8600 - val_loss: 6.3490\n",
            "\n",
            "Epoch 00026: val_loss improved from 6.39731 to 6.34903, saving model to model_translate.h1\n",
            "Epoch 27/30\n",
            "4164/4164 [==============================] - 2s 553us/step - loss: 5.7943 - val_loss: 6.3782\n",
            "\n",
            "Epoch 00027: val_loss did not improve from 6.34903\n",
            "Epoch 28/30\n",
            "4164/4164 [==============================] - 2s 555us/step - loss: 5.7407 - val_loss: 6.2749\n",
            "\n",
            "Epoch 00028: val_loss improved from 6.34903 to 6.27492, saving model to model_translate.h1\n",
            "Epoch 29/30\n",
            "4164/4164 [==============================] - 2s 553us/step - loss: 5.7072 - val_loss: 6.2684\n",
            "\n",
            "Epoch 00029: val_loss improved from 6.27492 to 6.26838, saving model to model_translate.h1\n",
            "Epoch 30/30\n",
            "4164/4164 [==============================] - 2s 558us/step - loss: 5.6358 - val_loss: 6.2016\n",
            "\n",
            "Epoch 00030: val_loss improved from 6.26838 to 6.20161, saving model to model_translate.h1\n"
          ],
          "name": "stdout"
        }
      ]
    },
    {
      "cell_type": "markdown",
      "metadata": {
        "colab_type": "text",
        "id": "nwrL0_sjmUuO"
      },
      "source": [
        "# 5)-Plotting results"
      ]
    },
    {
      "cell_type": "code",
      "metadata": {
        "colab_type": "code",
        "id": "iUYdtjQXlupF",
        "colab": {
          "base_uri": "https://localhost:8080/",
          "height": 269
        },
        "outputId": "8b2dcc9d-07ca-4720-f43b-8e1e5368c69e"
      },
      "source": [
        "plt.plot(history.history['loss']) \n",
        "plt.plot(history.history['val_loss']) \n",
        "plt.legend(['train','validation']) \n",
        "plt.show()"
      ],
      "execution_count": 31,
      "outputs": [
        {
          "output_type": "display_data",
          "data": {
            "image/png": "[encoded data removed]",
            "text/plain": [
              "<Figure size 432x288 with 1 Axes>"
            ]
          },
          "metadata": {
            "tags": []
          }
        }
      ]
    },
    {
      "cell_type": "markdown",
      "metadata": {
        "colab_type": "text",
        "id": "xQVCiaNDn4VJ"
      },
      "source": [
        "As you can see in the above plot, the validation loss stopped decreasing after 5 epochs. It did improve but not very significant.So, we didn't get very good results from our basic model."
      ]
    },
    {
      "cell_type": "markdown",
      "metadata": {
        "colab_type": "text",
        "id": "FgePSmZBmSbn"
      },
      "source": [
        "# 6)-Make Predictions"
      ]
    },
    {
      "cell_type": "code",
      "metadata": {
        "colab_type": "code",
        "id": "6gh_CukCl7Al",
        "colab": {}
      },
      "source": [
        "model = load_model('model_translate.h1') \n",
        "\n",
        "preds = model.predict_classes(testX.reshape((testX.shape[0], testX.shape[1])))"
      ],
      "execution_count": 0,
      "outputs": []
    },
    {
      "cell_type": "markdown",
      "metadata": {
        "colab_type": "text",
        "id": "M-DaR0x4oA4P"
      },
      "source": [
        "These predictions are sequences of integers. We need to convert these integers to their corresponding words."
      ]
    },
    {
      "cell_type": "markdown",
      "metadata": {
        "colab_type": "text",
        "id": "VU6IOmOOoB3f"
      },
      "source": [
        "### 6.1)- Convert integers to words"
      ]
    },
    {
      "cell_type": "code",
      "metadata": {
        "colab_type": "code",
        "id": "oiy9gGAAmAat",
        "colab": {}
      },
      "source": [
        "def get_word(n, tokenizer):  \n",
        "      for word, index in tokenizer.word_index.items():                       \n",
        "          if index == n: \n",
        "              return word \n",
        "      return None"
      ],
      "execution_count": 0,
      "outputs": []
    },
    {
      "cell_type": "markdown",
      "metadata": {
        "colab_type": "text",
        "id": "KqSwZTcXmDTW"
      },
      "source": [
        "### 6.2)-Convert predictions into text (German)"
      ]
    },
    {
      "cell_type": "code",
      "metadata": {
        "colab_type": "code",
        "id": "Y82jlYQMmAg0",
        "colab": {}
      },
      "source": [
        "preds_text = [] \n",
        "for i in preds:        \n",
        "       temp = []        \n",
        "       for j in range(len(i)):             \n",
        "            t = get_word(i[j], deu_tokenizer)             \n",
        "            if j > 0:                 \n",
        "                if (t==get_word(i[j-1],deu_tokenizer))or(t== None):                       \n",
        "                     temp.append('')                 \n",
        "                else:                      \n",
        "                     temp.append(t)             \n",
        "            else:                    \n",
        "                if(t == None):                                   \n",
        "                     temp.append('')                    \n",
        "                else:                           \n",
        "                     temp.append(t)        \n",
        "       preds_text.append(' '.join(temp))"
      ],
      "execution_count": 0,
      "outputs": []
    },
    {
      "cell_type": "code",
      "metadata": {
        "colab_type": "code",
        "id": "XOAI5cB8mAj3",
        "colab": {}
      },
      "source": [
        "pred_df = pd.DataFrame({'actual' : test[:,1], 'predicted' : preds_text})"
      ],
      "execution_count": 0,
      "outputs": []
    },
    {
      "cell_type": "code",
      "metadata": {
        "colab_type": "code",
        "id": "S2orsrv6oo4o",
        "colab": {
          "base_uri": "https://localhost:8080/",
          "height": 229
        },
        "outputId": "b6ea08e3-c407-46fb-9aef-6632370f2a13"
      },
      "source": [
        "# 1st 5 rows\n",
        "pred_df.head(5)"
      ],
      "execution_count": 36,
      "outputs": [
        {
          "output_type": "execute_result",
          "data": {
            "text/html": [
              "<div>\n",
              "<style scoped>\n",
              "    .dataframe tbody tr th:only-of-type {\n",
              "        vertical-align: middle;\n",
              "    }\n",
              "\n",
              "    .dataframe tbody tr th {\n",
              "        vertical-align: top;\n",
              "    }\n",
              "\n",
              "    .dataframe thead th {\n",
              "        text-align: right;\n",
              "    }\n",
              "</style>\n",
              "<table border=\"1\" class=\"dataframe\">\n",
              "  <thead>\n",
              "    <tr style=\"text-align: right;\">\n",
              "      <th></th>\n",
              "      <th>actual</th>\n",
              "      <th>predicted</th>\n",
              "    </tr>\n",
              "  </thead>\n",
              "  <tbody>\n",
              "    <tr>\n",
              "      <th>0</th>\n",
              "      <td>wahrend die konkurrenz naher ruckt und neue technologien alte bequeme sicherheiten bedrohen ist die anstehende verhandlung der lizenzgebuhren fur die bbc mit besonderen gefahren verbunden</td>\n",
              "      <td>und die   der  zu</td>\n",
              "    </tr>\n",
              "    <tr>\n",
              "      <th>1</th>\n",
              "      <td>luther rabinowitz lie seine pyramide zusammenfallen</td>\n",
              "      <td>ich war in ein fur</td>\n",
              "    </tr>\n",
              "    <tr>\n",
              "      <th>2</th>\n",
              "      <td>kurzlich erklarten die gesundheitsbehorden die krankheit sei in jeden winkel des landes vorgedrungen</td>\n",
              "      <td>und die   und der zu war</td>\n",
              "    </tr>\n",
              "    <tr>\n",
              "      <th>3</th>\n",
              "      <td>ich billige den tweet nicht und habe ihn geloscht hie es in der spateren nachricht</td>\n",
              "      <td>und       war</td>\n",
              "    </tr>\n",
              "    <tr>\n",
              "      <th>4</th>\n",
              "      <td>fur den chef des oberurseler kultkiosks gehoren radtouren uber den feldberg einfach dazu</td>\n",
              "      <td>und die   und der zu</td>\n",
              "    </tr>\n",
              "  </tbody>\n",
              "</table>\n",
              "</div>"
            ],
            "text/plain": [
              "                                                                                                                                                                                        actual                 predicted\n",
              "0  wahrend die konkurrenz naher ruckt und neue technologien alte bequeme sicherheiten bedrohen ist die anstehende verhandlung der lizenzgebuhren fur die bbc mit besonderen gefahren verbunden        und die   der  zu \n",
              "1                                                                                                                                          luther rabinowitz lie seine pyramide zusammenfallen     ich war in ein fur   \n",
              "2                                                                                         kurzlich erklarten die gesundheitsbehorden die krankheit sei in jeden winkel des landes vorgedrungen  und die   und der zu war\n",
              "3                                                                                                           ich billige den tweet nicht und habe ihn geloscht hie es in der spateren nachricht             und       war\n",
              "4                                                                                                     fur den chef des oberurseler kultkiosks gehoren radtouren uber den feldberg einfach dazu     und die   und der zu "
            ]
          },
          "metadata": {
            "tags": []
          },
          "execution_count": 36
        }
      ]
    },
    {
      "cell_type": "code",
      "metadata": {
        "colab_type": "code",
        "id": "LPocsO00mJy-",
        "colab": {
          "base_uri": "https://localhost:8080/",
          "height": 246
        },
        "outputId": "4186cb0f-a6b1-4f7d-ce39-a6bdee571512"
      },
      "source": [
        "# print 5 rows randomly \n",
        "pred_df.sample(5)"
      ],
      "execution_count": 37,
      "outputs": [
        {
          "output_type": "execute_result",
          "data": {
            "text/html": [
              "<div>\n",
              "<style scoped>\n",
              "    .dataframe tbody tr th:only-of-type {\n",
              "        vertical-align: middle;\n",
              "    }\n",
              "\n",
              "    .dataframe tbody tr th {\n",
              "        vertical-align: top;\n",
              "    }\n",
              "\n",
              "    .dataframe thead th {\n",
              "        text-align: right;\n",
              "    }\n",
              "</style>\n",
              "<table border=\"1\" class=\"dataframe\">\n",
              "  <thead>\n",
              "    <tr style=\"text-align: right;\">\n",
              "      <th></th>\n",
              "      <th>actual</th>\n",
              "      <th>predicted</th>\n",
              "    </tr>\n",
              "  </thead>\n",
              "  <tbody>\n",
              "    <tr>\n",
              "      <th>751</th>\n",
              "      <td>dass es auch ohne rad locker nach oben ging bewiesen nicht nur die wanderer die uber die weie mauer und den fuchstanz zum gipfel hinauf stiegen sondern auch ein jogger der an einer kordel einen au...</td>\n",
              "      <td>und     der war</td>\n",
              "    </tr>\n",
              "    <tr>\n",
              "      <th>1164</th>\n",
              "      <td>ich wollte fur mein land kampfen aber das wird nicht geschehen</td>\n",
              "      <td>ich     nicht</td>\n",
              "    </tr>\n",
              "    <tr>\n",
              "      <th>853</th>\n",
              "      <td>es ist so schwierig sich an alle orte zu erinnern an denen man gearbeitet hat und an die daten</td>\n",
              "      <td>und die und    zu war</td>\n",
              "    </tr>\n",
              "    <tr>\n",
              "      <th>816</th>\n",
              "      <td>pascal perrineau ein politikwissenschaftler an der sciences po universitat warnte davor dass die franzosen schnell die geduld verlieren wurde wenn die neue sozialistische regierung keine verbesser...</td>\n",
              "      <td>und die  und  der zu wurde</td>\n",
              "    </tr>\n",
              "    <tr>\n",
              "      <th>408</th>\n",
              "      <td>ich hoffe dass frauen die einen anderen aber parallelen grund dafur haben eine dem korper innewohnende gefahr zu verstehen und meinungen zur rasse die in offentlichen umfragen deutlich anders sind...</td>\n",
              "      <td>und die  und  der zu wurde</td>\n",
              "    </tr>\n",
              "  </tbody>\n",
              "</table>\n",
              "</div>"
            ],
            "text/plain": [
              "                                                                                                                                                                                                       actual                   predicted\n",
              "751   dass es auch ohne rad locker nach oben ging bewiesen nicht nur die wanderer die uber die weie mauer und den fuchstanz zum gipfel hinauf stiegen sondern auch ein jogger der an einer kordel einen au...            und     der war \n",
              "1164                                                                                                                                           ich wollte fur mein land kampfen aber das wird nicht geschehen             ich     nicht  \n",
              "853                                                                                                            es ist so schwierig sich an alle orte zu erinnern an denen man gearbeitet hat und an die daten       und die und    zu war\n",
              "816   pascal perrineau ein politikwissenschaftler an der sciences po universitat warnte davor dass die franzosen schnell die geduld verlieren wurde wenn die neue sozialistische regierung keine verbesser...  und die  und  der zu wurde\n",
              "408   ich hoffe dass frauen die einen anderen aber parallelen grund dafur haben eine dem korper innewohnende gefahr zu verstehen und meinungen zur rasse die in offentlichen umfragen deutlich anders sind...  und die  und  der zu wurde"
            ]
          },
          "metadata": {
            "tags": []
          },
          "execution_count": 37
        }
      ]
    },
    {
      "cell_type": "code",
      "metadata": {
        "id": "0Z0LG2ydWrci",
        "colab_type": "code",
        "colab": {}
      },
      "source": [
        ""
      ],
      "execution_count": 0,
      "outputs": []
    }
  ]
}