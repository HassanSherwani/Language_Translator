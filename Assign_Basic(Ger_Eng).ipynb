{
  "nbformat": 4,
  "nbformat_minor": 0,
  "metadata": {
    "colab": {
      "name": "Assign_Basic(Ger_Eng).ipynb",
      "version": "0.3.2",
      "provenance": [],
      "collapsed_sections": []
    },
    "kernelspec": {
      "name": "python3",
      "display_name": "Python 3"
    },
    "accelerator": "GPU"
  },
  "cells": [
    {
      "cell_type": "markdown",
      "metadata": {
        "id": "QJxJLfT6m4zo",
        "colab_type": "text"
      },
      "source": [
        "# Machine Translation\n",
        "\n",
        "German-English"
      ]
    },
    {
      "cell_type": "markdown",
      "metadata": {
        "id": "YvFSu3KOnCQI",
        "colab_type": "text"
      },
      "source": [
        "# 1)- Importing key modules"
      ]
    },
    {
      "cell_type": "code",
      "metadata": {
        "id": "ydSdCo4JzRta",
        "colab_type": "code",
        "colab": {}
      },
      "source": [
        "#support both Python 2 and Python 3 with minimal overhead.\n",
        "from __future__ import absolute_import, division, print_function\n",
        "#ignore warnings\n",
        "import warnings\n",
        "warnings.filterwarnings('ignore')"
      ],
      "execution_count": 0,
      "outputs": []
    },
    {
      "cell_type": "code",
      "metadata": {
        "id": "HXdjBXc-zNXe",
        "colab_type": "code",
        "colab": {}
      },
      "source": [
        "import string \n",
        "import re \n",
        "from numpy import array, argmax, random, take \n",
        "import pandas as pd \n",
        "import matplotlib.pyplot as plt \n",
        "% matplotlib inline \n",
        "pd.set_option('display.max_colwidth', 200)"
      ],
      "execution_count": 0,
      "outputs": []
    },
    {
      "cell_type": "code",
      "metadata": {
        "id": "ElRcz5K3hJrC",
        "colab_type": "code",
        "outputId": "c3b5a551-76f1-4796-d1ac-a5670b0b3d6c",
        "colab": {
          "base_uri": "https://localhost:8080/",
          "height": 34
        }
      },
      "source": [
        "from keras.models import Sequential \n",
        "from keras.layers import Dense, LSTM, Embedding, RepeatVector\n",
        "from keras.preprocessing.text import Tokenizer\n",
        "from keras.callbacks import ModelCheckpoint \n",
        "from keras.preprocessing.sequence import pad_sequences\n",
        "from keras.models import load_model \n",
        "from keras import optimizers \n"
      ],
      "execution_count": 3,
      "outputs": [
        {
          "output_type": "stream",
          "text": [
            "Using TensorFlow backend.\n"
          ],
          "name": "stderr"
        }
      ]
    },
    {
      "cell_type": "markdown",
      "metadata": {
        "id": "XN_b91atnHye",
        "colab_type": "text"
      },
      "source": [
        "# 2)- Reading Dataset"
      ]
    },
    {
      "cell_type": "code",
      "metadata": {
        "id": "ZM1ZO53WhL_6",
        "colab_type": "code",
        "colab": {}
      },
      "source": [
        "# function to read raw text file\n",
        "def read_text(filename): \n",
        "        # open the file \n",
        "        file = open(filename, mode='rt', encoding='utf-8') \n",
        "        \n",
        "        # read all text \n",
        "        text = file.read() \n",
        "        file.close() \n",
        "        return text"
      ],
      "execution_count": 0,
      "outputs": []
    },
    {
      "cell_type": "code",
      "metadata": {
        "id": "3nJ3NaVchcWb",
        "colab_type": "code",
        "colab": {}
      },
      "source": [
        "# split text into sentences \n",
        "def to_lines(text): \n",
        "      sents = text.strip().split('\\n') \n",
        "      sents = [i.split('\\t') for i in sents] \n",
        "      return sents"
      ],
      "execution_count": 0,
      "outputs": []
    },
    {
      "cell_type": "code",
      "metadata": {
        "id": "liHFTvu6hffX",
        "colab_type": "code",
        "colab": {}
      },
      "source": [
        "data = read_text(\"merged2015.txt\") \n",
        "deu_eng = to_lines(data) \n",
        "deu_eng = array(deu_eng)"
      ],
      "execution_count": 0,
      "outputs": []
    },
    {
      "cell_type": "code",
      "metadata": {
        "id": "1LoUaSevh0Z2",
        "colab_type": "code",
        "colab": {}
      },
      "source": [
        "#deu_eng = deu_eng[:50000,:]"
      ],
      "execution_count": 0,
      "outputs": []
    },
    {
      "cell_type": "markdown",
      "metadata": {
        "id": "bX6QuO7xh6RK",
        "colab_type": "text"
      },
      "source": [
        "# 3)-Text Pre-Processing"
      ]
    },
    {
      "cell_type": "code",
      "metadata": {
        "id": "7ewE-nHLh3ph",
        "colab_type": "code",
        "outputId": "bba935b3-57a6-401d-b668-3d4a17ac126d",
        "colab": {
          "base_uri": "https://localhost:8080/",
          "height": 272
        }
      },
      "source": [
        "deu_eng"
      ],
      "execution_count": 8,
      "outputs": [
        {
          "output_type": "execute_result",
          "data": {
            "text/plain": [
              "array([['india and japan prime ministers meet in tokyo',\n",
              "        'die premierminister indiens und japans trafen sich in tokio'],\n",
              "       ['indias new prime minister narendra modi is meeting his japanese counterpart shinzo abe in tokyo to discuss economic and security ties on his first major foreign visit since winning mays election',\n",
              "        'indiens neuer premierminister narendra modi trifft bei seinem ersten wichtigen auslandsbesuch seit seinem wahlsieg im mai seinen japanischen amtskollegen shinzo abe in toko um wirtschaftliche und sicherheitspolitische beziehungen zu besprechen'],\n",
              "       ['mr modi is on a fiveday trip to japan to strengthen economic ties with the third largest economy in the world',\n",
              "        'herr modi befindet sich auf einer funftagigen reise nach japan um die wirtschaftlichen beziehungen mit der drittgroten wirtschaftsnation der welt zu festigen'],\n",
              "       ...,\n",
              "       ['five minutes later the first mountainbikers set off',\n",
              "        'funf minuten spater legten die ersten mountainbiker los'],\n",
              "       ['bent hansen chairman of the association cycling on the grosser feldberg gave the starting orders and wished those taking part an enjoyable trip',\n",
              "        'bent hansen vorsitzender des vereins radeln auf den groen feldberg gab die startkommandos und wunschte den teilnehmern einen schonen ausflug'],\n",
              "       ['next year he hopes to have safety barriers on the course for the benefit of those taking part on the feldberg',\n",
              "        'fur nachstes jahr hoffe er dass es gelingt die strecke zum feldberg hinauf zur sicherheit der teilnehmer zu sperren']],\n",
              "      dtype='<U511')"
            ]
          },
          "metadata": {
            "tags": []
          },
          "execution_count": 8
        }
      ]
    },
    {
      "cell_type": "code",
      "metadata": {
        "id": "wStmPrUddr9E",
        "colab_type": "code",
        "outputId": "35a66737-2713-454a-afa8-5b3caf920963",
        "colab": {
          "base_uri": "https://localhost:8080/",
          "height": 34
        }
      },
      "source": [
        "type(deu_eng)"
      ],
      "execution_count": 9,
      "outputs": [
        {
          "output_type": "execute_result",
          "data": {
            "text/plain": [
              "numpy.ndarray"
            ]
          },
          "metadata": {
            "tags": []
          },
          "execution_count": 9
        }
      ]
    },
    {
      "cell_type": "code",
      "metadata": {
        "id": "KxFu03nLeK4T",
        "colab_type": "code",
        "outputId": "4aee31f2-4b62-42cd-cc6d-a447382dbe0e",
        "colab": {
          "base_uri": "https://localhost:8080/",
          "height": 67
        }
      },
      "source": [
        "deu_eng[0]"
      ],
      "execution_count": 10,
      "outputs": [
        {
          "output_type": "execute_result",
          "data": {
            "text/plain": [
              "array(['india and japan prime ministers meet in tokyo',\n",
              "       'die premierminister indiens und japans trafen sich in tokio'],\n",
              "      dtype='<U511')"
            ]
          },
          "metadata": {
            "tags": []
          },
          "execution_count": 10
        }
      ]
    },
    {
      "cell_type": "code",
      "metadata": {
        "id": "Z_6AWqwveSe7",
        "colab_type": "code",
        "outputId": "fdccc0b8-c520-451f-bdb2-6f6b204d5599",
        "colab": {
          "base_uri": "https://localhost:8080/",
          "height": 222
        }
      },
      "source": [
        "deu_eng[:5]"
      ],
      "execution_count": 11,
      "outputs": [
        {
          "output_type": "execute_result",
          "data": {
            "text/plain": [
              "array([['india and japan prime ministers meet in tokyo',\n",
              "        'die premierminister indiens und japans trafen sich in tokio'],\n",
              "       ['indias new prime minister narendra modi is meeting his japanese counterpart shinzo abe in tokyo to discuss economic and security ties on his first major foreign visit since winning mays election',\n",
              "        'indiens neuer premierminister narendra modi trifft bei seinem ersten wichtigen auslandsbesuch seit seinem wahlsieg im mai seinen japanischen amtskollegen shinzo abe in toko um wirtschaftliche und sicherheitspolitische beziehungen zu besprechen'],\n",
              "       ['mr modi is on a fiveday trip to japan to strengthen economic ties with the third largest economy in the world',\n",
              "        'herr modi befindet sich auf einer funftagigen reise nach japan um die wirtschaftlichen beziehungen mit der drittgroten wirtschaftsnation der welt zu festigen'],\n",
              "       ['high on the agenda are plans for greater nuclear cooperation',\n",
              "        'plane fur eine starkere kerntechnische zusammenarbeit stehen ganz oben auf der tagesordnung'],\n",
              "       ['india is also reportedly hoping for a deal on defence collaboration between the two nations',\n",
              "        'berichten zufolge hofft indien daruber hinaus auf einen vertrag zur verteidigungszusammenarbeit zwischen den beiden nationen']],\n",
              "      dtype='<U511')"
            ]
          },
          "metadata": {
            "tags": []
          },
          "execution_count": 11
        }
      ]
    },
    {
      "cell_type": "code",
      "metadata": {
        "id": "o1FK1T2Kicbi",
        "colab_type": "code",
        "outputId": "bb901b1f-aa45-4266-913b-48d7579d2732",
        "colab": {
          "base_uri": "https://localhost:8080/",
          "height": 154
        }
      },
      "source": [
        "# for english part \n",
        "deu_eng[:,0]"
      ],
      "execution_count": 12,
      "outputs": [
        {
          "output_type": "execute_result",
          "data": {
            "text/plain": [
              "array(['india and japan prime ministers meet in tokyo',\n",
              "       'indias new prime minister narendra modi is meeting his japanese counterpart shinzo abe in tokyo to discuss economic and security ties on his first major foreign visit since winning mays election',\n",
              "       'mr modi is on a fiveday trip to japan to strengthen economic ties with the third largest economy in the world',\n",
              "       ..., 'five minutes later the first mountainbikers set off',\n",
              "       'bent hansen chairman of the association cycling on the grosser feldberg gave the starting orders and wished those taking part an enjoyable trip',\n",
              "       'next year he hopes to have safety barriers on the course for the benefit of those taking part on the feldberg'],\n",
              "      dtype='<U511')"
            ]
          },
          "metadata": {
            "tags": []
          },
          "execution_count": 12
        }
      ]
    },
    {
      "cell_type": "markdown",
      "metadata": {
        "id": "keSiAeBoeXxT",
        "colab_type": "text"
      },
      "source": [
        "**This shows all the dataset. I expect to show english version only.**"
      ]
    },
    {
      "cell_type": "code",
      "metadata": {
        "id": "Z2CAJPD_ifVc",
        "colab_type": "code",
        "outputId": "7bf3143b-8bff-4d2a-ce84-d8548861c8e7",
        "colab": {
          "base_uri": "https://localhost:8080/",
          "height": 154
        }
      },
      "source": [
        "# for german part of lang.\n",
        "deu_eng[:,1]"
      ],
      "execution_count": 13,
      "outputs": [
        {
          "output_type": "execute_result",
          "data": {
            "text/plain": [
              "array(['die premierminister indiens und japans trafen sich in tokio',\n",
              "       'indiens neuer premierminister narendra modi trifft bei seinem ersten wichtigen auslandsbesuch seit seinem wahlsieg im mai seinen japanischen amtskollegen shinzo abe in toko um wirtschaftliche und sicherheitspolitische beziehungen zu besprechen',\n",
              "       'herr modi befindet sich auf einer funftagigen reise nach japan um die wirtschaftlichen beziehungen mit der drittgroten wirtschaftsnation der welt zu festigen',\n",
              "       ..., 'funf minuten spater legten die ersten mountainbiker los',\n",
              "       'bent hansen vorsitzender des vereins radeln auf den groen feldberg gab die startkommandos und wunschte den teilnehmern einen schonen ausflug',\n",
              "       'fur nachstes jahr hoffe er dass es gelingt die strecke zum feldberg hinauf zur sicherheit der teilnehmer zu sperren'],\n",
              "      dtype='<U511')"
            ]
          },
          "metadata": {
            "tags": []
          },
          "execution_count": 13
        }
      ]
    },
    {
      "cell_type": "markdown",
      "metadata": {
        "id": "RauipdAfdl7H",
        "colab_type": "text"
      },
      "source": [
        "**I want to apply slice method as in array. Then I have one array with english version and other array in german. This not happening.\n",
        "So when I will try to apply text cleaning or any other modeling technique, my data does not act as expected.**"
      ]
    },
    {
      "cell_type": "markdown",
      "metadata": {
        "id": "GEia-m7ViPLD",
        "colab_type": "text"
      },
      "source": [
        "### 3.1)-Text cleaning"
      ]
    },
    {
      "cell_type": "code",
      "metadata": {
        "id": "WmC81k-wh8ZJ",
        "colab_type": "code",
        "colab": {}
      },
      "source": [
        "# Remove punctuation \n",
        "deu_eng[:,0] = [s.translate(str.maketrans('', '', string.punctuation)) for s in deu_eng[:,0]] \n",
        "deu_eng[:,1] = [s.translate(str.maketrans('', '', string.punctuation)) for s in deu_eng[:,1]] \n",
        "\n",
        "# convert text to lowercase \n",
        "for i in range(len(deu_eng)): \n",
        "    deu_eng[i,0] = deu_eng[i,0].lower() \n",
        "    deu_eng[i,1] = deu_eng[i,1].lower()"
      ],
      "execution_count": 0,
      "outputs": []
    },
    {
      "cell_type": "markdown",
      "metadata": {
        "id": "4FdyDdXwiS9i",
        "colab_type": "text"
      },
      "source": [
        "### 3.2)-Text to Sequence Conversion"
      ]
    },
    {
      "cell_type": "code",
      "metadata": {
        "id": "8pxu1-xNh8cA",
        "colab_type": "code",
        "outputId": "63546fb0-056a-4343-ea68-75cbf2aa535f",
        "colab": {
          "base_uri": "https://localhost:8080/",
          "height": 281
        }
      },
      "source": [
        "# empty lists \n",
        "eng_l = [] \n",
        "deu_l = [] \n",
        "\n",
        "# populate the lists with sentence lengths \n",
        "for i in deu_eng[:,0]: \n",
        "      eng_l.append(len(i.split())) \n",
        "\n",
        "for i in deu_eng[:,1]: \n",
        "      deu_l.append(len(i.split())) \n",
        "\n",
        "length_df = pd.DataFrame({'eng':eng_l, 'deu':deu_l})\n",
        "length_df.hist(bins = 30) \n",
        "plt.show()"
      ],
      "execution_count": 15,
      "outputs": [
        {
          "output_type": "display_data",
          "data": {
            "image/png": "[encoded data removed]",
            "text/plain": [
              "<Figure size 432x288 with 2 Axes>"
            ]
          },
          "metadata": {
            "tags": []
          }
        }
      ]
    },
    {
      "cell_type": "markdown",
      "metadata": {
        "id": "2De4ZERJzX_4",
        "colab_type": "text"
      },
      "source": [
        "the maximum length of the German sentences is 8 and that of the English phrases is 6."
      ]
    },
    {
      "cell_type": "markdown",
      "metadata": {
        "id": "Lpt6tCjfkGKu",
        "colab_type": "text"
      },
      "source": [
        "### 3.3)-vectorize our text data \n",
        "\n",
        "by using Keras’s Tokenizer()"
      ]
    },
    {
      "cell_type": "code",
      "metadata": {
        "id": "_j_y_uZ7h8e6",
        "colab_type": "code",
        "outputId": "8aa1ed4c-081f-4dc0-ffa4-c18c47990d19",
        "colab": {
          "base_uri": "https://localhost:8080/",
          "height": 34
        }
      },
      "source": [
        "# function to build a tokenizer \n",
        "def tokenization(lines): \n",
        "      tokenizer = Tokenizer() \n",
        "      tokenizer.fit_on_texts(lines) \n",
        "      return tokenizer\n",
        "\n",
        "# prepare english tokenizer \n",
        "eng_tokenizer = tokenization(deu_eng[:, 0]) \n",
        "eng_vocab_size = len(eng_tokenizer.word_index) + 1 \n",
        "eng_length = 8 \n",
        "\n",
        "print('English Vocabulary Size: %d' % eng_vocab_size)\n",
        "\n",
        "\n",
        "\n"
      ],
      "execution_count": 16,
      "outputs": [
        {
          "output_type": "stream",
          "text": [
            "English Vocabulary Size: 7231\n"
          ],
          "name": "stdout"
        }
      ]
    },
    {
      "cell_type": "code",
      "metadata": {
        "id": "0ha_ZNySh8hh",
        "colab_type": "code",
        "outputId": "6b557cb3-22d9-492d-afe2-db3ad8a9b048",
        "colab": {
          "base_uri": "https://localhost:8080/",
          "height": 34
        }
      },
      "source": [
        "# prepare Deutch tokenizer \n",
        "deu_tokenizer = tokenization(deu_eng[:, 1]) \n",
        "deu_vocab_size = len(deu_tokenizer.word_index) + 1 \n",
        "deu_length = 8 \n",
        "print('Deutch Vocabulary Size: %d' % deu_vocab_size)"
      ],
      "execution_count": 17,
      "outputs": [
        {
          "output_type": "stream",
          "text": [
            "Deutch Vocabulary Size: 9284\n"
          ],
          "name": "stdout"
        }
      ]
    },
    {
      "cell_type": "markdown",
      "metadata": {
        "id": "XvmowmplzfdT",
        "colab_type": "text"
      },
      "source": [
        "There is difference in amount of words in two languages.We need to encode sequence"
      ]
    },
    {
      "cell_type": "markdown",
      "metadata": {
        "id": "cUY-Py6WzhtB",
        "colab_type": "text"
      },
      "source": [
        "### 3.4)-encode and pad sequences "
      ]
    },
    {
      "cell_type": "code",
      "metadata": {
        "id": "QElAizsykOtJ",
        "colab_type": "code",
        "colab": {}
      },
      "source": [
        "def encode_sequences(tokenizer, length, lines):          \n",
        "         # integer encode sequences          \n",
        "         seq = tokenizer.texts_to_sequences(lines)          \n",
        "         # pad sequences with 0 values          \n",
        "         seq = pad_sequences(seq, maxlen=length, padding='post')           \n",
        "         return seq"
      ],
      "execution_count": 0,
      "outputs": []
    },
    {
      "cell_type": "markdown",
      "metadata": {
        "id": "408A3w7Ukb4r",
        "colab_type": "text"
      },
      "source": [
        "# 4)-Model Building"
      ]
    },
    {
      "cell_type": "markdown",
      "metadata": {
        "id": "kJF5iWUOnUgC",
        "colab_type": "text"
      },
      "source": [
        "### 4.1)- Train-test Split\n",
        "\n",
        "80%-20%"
      ]
    },
    {
      "cell_type": "code",
      "metadata": {
        "id": "GzxozTM0kZk7",
        "colab_type": "code",
        "colab": {}
      },
      "source": [
        "from sklearn.model_selection import train_test_split \n",
        "\n",
        "# split data into train and test set \n",
        "train,test= train_test_split(deu_eng,test_size=0.2,random_state= 12)"
      ],
      "execution_count": 0,
      "outputs": []
    },
    {
      "cell_type": "markdown",
      "metadata": {
        "id": "xvyO7SdQkr88",
        "colab_type": "text"
      },
      "source": [
        "### 4.2)- Defining input and target\n",
        "We will encode German sentences as the input sequences and English sentences as the target sequences"
      ]
    },
    {
      "cell_type": "code",
      "metadata": {
        "id": "wJvJMU9Vzr-7",
        "colab_type": "code",
        "outputId": "ff65c2f5-b573-4ae6-83ff-396948cd5b25",
        "colab": {
          "base_uri": "https://localhost:8080/",
          "height": 134
        }
      },
      "source": [
        "# english version\n",
        "train[:, 0]"
      ],
      "execution_count": 20,
      "outputs": [
        {
          "output_type": "execute_result",
          "data": {
            "text/plain": [
              "array(['its not my responsibility',\n",
              "       'meanwhile in our homes items as innocuous as floor tiles or shed roofs have routinely contained asbestos',\n",
              "       'she said i keep thinking this world did not get better within these years',\n",
              "       ...,\n",
              "       'crops are rotting in the fields mines have been deserted and the markets have been abandoned the virus has cost the region dearly',\n",
              "       'the preparations for the party are well underway in tannenwald gun club which will celebrate years since being established on to september',\n",
              "       'it also means higher taxes'], dtype='<U511')"
            ]
          },
          "metadata": {
            "tags": []
          },
          "execution_count": 20
        }
      ]
    },
    {
      "cell_type": "code",
      "metadata": {
        "id": "TcMT6wFoztLT",
        "colab_type": "code",
        "outputId": "a0350a52-10b3-42aa-ae48-d1c7c88984e7",
        "colab": {
          "base_uri": "https://localhost:8080/",
          "height": 134
        }
      },
      "source": [
        "# english version\n",
        "train[:, 1]"
      ],
      "execution_count": 21,
      "outputs": [
        {
          "output_type": "execute_result",
          "data": {
            "text/plain": [
              "array(['ich bin nicht dafur verantwortlich',\n",
              "       'und derweil haben so unschuldige gegenstande in unseren hausern wie fubodenplatten oder schuppendacher standardmaig asbest enthalten',\n",
              "       'sie sagte ich denke immer dass diese welt in diesen jahren nicht besser geworden ist',\n",
              "       ...,\n",
              "       'die ernte verrottet auf den feldern die minen sind verlassen und die markte verwaist das virus hat der region schwer zugesetzt',\n",
              "       'auf hochtouren laufen beim schutzenverein tannenwald die vorbereitungen fur das grundungsfest von bis september',\n",
              "       'sie bedeutet auch hohere steuern'], dtype='<U511')"
            ]
          },
          "metadata": {
            "tags": []
          },
          "execution_count": 21
        }
      ]
    },
    {
      "cell_type": "code",
      "metadata": {
        "id": "P6ZhWiJdkkb8",
        "colab_type": "code",
        "colab": {}
      },
      "source": [
        "# prepare training data \n",
        "trainX = encode_sequences(deu_tokenizer, deu_length, train[:, 1]) \n",
        "trainY = encode_sequences(eng_tokenizer, eng_length, train[:, 0]) \n",
        "\n",
        "# prepare validation data \n",
        "testX = encode_sequences(deu_tokenizer, deu_length, test[:, 1]) \n",
        "testY = encode_sequences(eng_tokenizer, eng_length, test[:, 0])"
      ],
      "execution_count": 0,
      "outputs": []
    },
    {
      "cell_type": "code",
      "metadata": {
        "id": "f2LKJrFfz0GI",
        "colab_type": "code",
        "outputId": "c908f8ef-5b53-4461-b1fe-6f0f56f129b7",
        "colab": {
          "base_uri": "https://localhost:8080/",
          "height": 101
        }
      },
      "source": [
        "print(trainX[:5])"
      ],
      "execution_count": 23,
      "outputs": [
        {
          "output_type": "stream",
          "text": [
            "[[  15  184   18  272 1521    0    0    0]\n",
            " [1071   30 2751   59 6215 6216   85 1223]\n",
            " [ 197    4  261  100   18  323  708   16]\n",
            " [6478   55 1233  208 6479 6480  956 1466]\n",
            " [ 264    5  550    6    4  592    6  180]]\n"
          ],
          "name": "stdout"
        }
      ]
    },
    {
      "cell_type": "code",
      "metadata": {
        "id": "L81CkA-Rz0Jh",
        "colab_type": "code",
        "outputId": "6cfd728e-d74f-4143-dc32-ca41d733bc5a",
        "colab": {
          "base_uri": "https://localhost:8080/",
          "height": 101
        }
      },
      "source": [
        "print(trainY[:5])"
      ],
      "execution_count": 24,
      "outputs": [
        {
          "output_type": "stream",
          "text": [
            "[[  48   23   51 4075    0    0    0    0]\n",
            " [2904   64 2016 5284   17 5285 2943   65]\n",
            " [ 141   97   23   98  179  362  193   58]\n",
            " [  69  610  427   23 1523 1892 2202 5445]\n",
            " [1329    3  113   76    1  204 3174    4]]\n"
          ],
          "name": "stdout"
        }
      ]
    },
    {
      "cell_type": "code",
      "metadata": {
        "id": "plUoF_-gz0Mh",
        "colab_type": "code",
        "outputId": "c021afb1-ad50-4340-a725-f430f72270d2",
        "colab": {
          "base_uri": "https://localhost:8080/",
          "height": 84
        }
      },
      "source": [
        "print(trainX.shape)\n",
        "print(trainY.shape)\n",
        "print(testX.shape)\n",
        "print(testY.shape)"
      ],
      "execution_count": 25,
      "outputs": [
        {
          "output_type": "stream",
          "text": [
            "(5205, 8)\n",
            "(5205, 8)\n",
            "(1302, 8)\n",
            "(1302, 8)\n"
          ],
          "name": "stdout"
        }
      ]
    },
    {
      "cell_type": "markdown",
      "metadata": {
        "id": "7ubte9AUngfx",
        "colab_type": "text"
      },
      "source": [
        "### 4.3)- build NMT model"
      ]
    },
    {
      "cell_type": "code",
      "metadata": {
        "id": "yORpCfMCkkjz",
        "colab_type": "code",
        "colab": {}
      },
      "source": [
        " def build_model(in_vocab,out_vocab, in_timesteps,out_timesteps,n):   \n",
        "      model = Sequential() \n",
        "      model.add(Embedding(in_vocab, n, input_length=in_timesteps,   \n",
        "      mask_zero=True)) \n",
        "      model.add(LSTM(n)) \n",
        "      model.add(RepeatVector(out_timesteps)) \n",
        "      model.add(LSTM(n, return_sequences=True))  \n",
        "      model.add(Dense(out_vocab, activation='softmax')) \n",
        "      return model"
      ],
      "execution_count": 0,
      "outputs": []
    },
    {
      "cell_type": "code",
      "metadata": {
        "id": "H_0LMdC6lgnp",
        "colab_type": "code",
        "colab": {}
      },
      "source": [
        "# model compilation (with 512 hidden units)\n",
        "model = build_model(deu_vocab_size, eng_vocab_size, deu_length, eng_length, 512)\n",
        "\n",
        "rms = optimizers.RMSprop(lr=0.001) \n",
        "model.compile(optimizer=rms, loss='sparse_categorical_crossentropy', metrics=['acc'])"
      ],
      "execution_count": 0,
      "outputs": []
    },
    {
      "cell_type": "code",
      "metadata": {
        "id": "BA8KW2_80Hs3",
        "colab_type": "code",
        "outputId": "ea1ce522-4cef-4c62-b53a-4f7660adfb88",
        "colab": {
          "base_uri": "https://localhost:8080/",
          "height": 319
        }
      },
      "source": [
        "model.summary()"
      ],
      "execution_count": 31,
      "outputs": [
        {
          "output_type": "stream",
          "text": [
            "Model: \"sequential_3\"\n",
            "_________________________________________________________________\n",
            "Layer (type)                 Output Shape              Param #   \n",
            "=================================================================\n",
            "embedding_3 (Embedding)      (None, 8, 512)            4753408   \n",
            "_________________________________________________________________\n",
            "lstm_5 (LSTM)                (None, 512)               2099200   \n",
            "_________________________________________________________________\n",
            "repeat_vector_3 (RepeatVecto (None, 8, 512)            0         \n",
            "_________________________________________________________________\n",
            "lstm_6 (LSTM)                (None, 8, 512)            2099200   \n",
            "_________________________________________________________________\n",
            "dense_3 (Dense)              (None, 8, 7231)           3709503   \n",
            "=================================================================\n",
            "Total params: 12,661,311\n",
            "Trainable params: 12,661,311\n",
            "Non-trainable params: 0\n",
            "_________________________________________________________________\n"
          ],
          "name": "stdout"
        }
      ]
    },
    {
      "cell_type": "code",
      "metadata": {
        "id": "9M1ukVFAlkFz",
        "colab_type": "code",
        "outputId": "4868f981-d2ed-41a9-f969-03a9309f6089",
        "colab": {
          "base_uri": "https://localhost:8080/",
          "height": 1000
        }
      },
      "source": [
        "filename = 'model_translate.h1' \n",
        "\n",
        "# set checkpoint\n",
        "checkpoint = ModelCheckpoint(filename, monitor='val_loss',  \n",
        "                             verbose=1, save_best_only=True, \n",
        "                             mode='min') \n",
        "\n",
        "\n",
        "# train model \n",
        "history = model.fit(trainX, trainY.reshape(trainY.shape[0], trainY.shape[1], 1), \n",
        "                    epochs=30, batch_size=512, validation_split = 0.2, \n",
        "                    callbacks=[checkpoint], verbose=1)"
      ],
      "execution_count": 32,
      "outputs": [
        {
          "output_type": "stream",
          "text": [
            "WARNING:tensorflow:From /usr/local/lib/python3.6/dist-packages/keras/backend/tensorflow_backend.py:1033: The name tf.assign_add is deprecated. Please use tf.compat.v1.assign_add instead.\n",
            "\n",
            "Train on 4164 samples, validate on 1041 samples\n",
            "Epoch 1/30\n",
            "4164/4164 [==============================] - 9s 2ms/step - loss: 7.8991 - acc: 0.0526 - val_loss: 6.9161 - val_acc: 0.0946\n",
            "\n",
            "Epoch 00001: val_loss improved from inf to 6.91614, saving model to model_translate.h1\n",
            "Epoch 2/30\n",
            "4164/4164 [==============================] - 2s 506us/step - loss: 6.7410 - acc: 0.0947 - val_loss: 6.8209 - val_acc: 0.0908\n",
            "\n",
            "Epoch 00002: val_loss improved from 6.91614 to 6.82092, saving model to model_translate.h1\n",
            "Epoch 3/30\n",
            "4164/4164 [==============================] - 2s 508us/step - loss: 6.6343 - acc: 0.0984 - val_loss: 6.7549 - val_acc: 0.0944\n",
            "\n",
            "Epoch 00003: val_loss improved from 6.82092 to 6.75490, saving model to model_translate.h1\n",
            "Epoch 4/30\n",
            "4164/4164 [==============================] - 2s 504us/step - loss: 6.5841 - acc: 0.0973 - val_loss: 6.7269 - val_acc: 0.0953\n",
            "\n",
            "Epoch 00004: val_loss improved from 6.75490 to 6.72691, saving model to model_translate.h1\n",
            "Epoch 5/30\n",
            "4164/4164 [==============================] - 2s 507us/step - loss: 6.5377 - acc: 0.0988 - val_loss: 6.6793 - val_acc: 0.0977\n",
            "\n",
            "Epoch 00005: val_loss improved from 6.72691 to 6.67928, saving model to model_translate.h1\n",
            "Epoch 6/30\n",
            "4164/4164 [==============================] - 2s 509us/step - loss: 6.4996 - acc: 0.0974 - val_loss: 6.6613 - val_acc: 0.0980\n",
            "\n",
            "Epoch 00006: val_loss improved from 6.67928 to 6.66133, saving model to model_translate.h1\n",
            "Epoch 7/30\n",
            "4164/4164 [==============================] - 2s 513us/step - loss: 6.4835 - acc: 0.0962 - val_loss: 6.6511 - val_acc: 0.0964\n",
            "\n",
            "Epoch 00007: val_loss improved from 6.66133 to 6.65111, saving model to model_translate.h1\n",
            "Epoch 8/30\n",
            "4164/4164 [==============================] - 2s 505us/step - loss: 6.3898 - acc: 0.1014 - val_loss: 6.7311 - val_acc: 0.0947\n",
            "\n",
            "Epoch 00008: val_loss did not improve from 6.65111\n",
            "Epoch 9/30\n",
            "4164/4164 [==============================] - 2s 502us/step - loss: 6.3797 - acc: 0.0999 - val_loss: 6.6142 - val_acc: 0.0893\n",
            "\n",
            "Epoch 00009: val_loss improved from 6.65111 to 6.61418, saving model to model_translate.h1\n",
            "Epoch 10/30\n",
            "4164/4164 [==============================] - 2s 511us/step - loss: 6.3596 - acc: 0.0991 - val_loss: 6.5788 - val_acc: 0.0982\n",
            "\n",
            "Epoch 00010: val_loss improved from 6.61418 to 6.57877, saving model to model_translate.h1\n",
            "Epoch 11/30\n",
            "4164/4164 [==============================] - 2s 508us/step - loss: 6.2746 - acc: 0.1026 - val_loss: 6.5177 - val_acc: 0.0995\n",
            "\n",
            "Epoch 00011: val_loss improved from 6.57877 to 6.51772, saving model to model_translate.h1\n",
            "Epoch 12/30\n",
            "4164/4164 [==============================] - 2s 513us/step - loss: 6.2287 - acc: 0.1033 - val_loss: 6.4862 - val_acc: 0.1016\n",
            "\n",
            "Epoch 00012: val_loss improved from 6.51772 to 6.48616, saving model to model_translate.h1\n",
            "Epoch 13/30\n",
            "4164/4164 [==============================] - 2s 513us/step - loss: 6.2182 - acc: 0.1018 - val_loss: 6.4929 - val_acc: 0.0999\n",
            "\n",
            "Epoch 00013: val_loss did not improve from 6.48616\n",
            "Epoch 14/30\n",
            "4164/4164 [==============================] - 2s 508us/step - loss: 6.1592 - acc: 0.1039 - val_loss: 6.4709 - val_acc: 0.1007\n",
            "\n",
            "Epoch 00014: val_loss improved from 6.48616 to 6.47091, saving model to model_translate.h1\n",
            "Epoch 15/30\n",
            "4164/4164 [==============================] - 2s 518us/step - loss: 6.1170 - acc: 0.1038 - val_loss: 6.4108 - val_acc: 0.1012\n",
            "\n",
            "Epoch 00015: val_loss improved from 6.47091 to 6.41081, saving model to model_translate.h1\n",
            "Epoch 16/30\n",
            "4164/4164 [==============================] - 2s 505us/step - loss: 6.0546 - acc: 0.1047 - val_loss: 6.3303 - val_acc: 0.1035\n",
            "\n",
            "Epoch 00016: val_loss improved from 6.41081 to 6.33026, saving model to model_translate.h1\n",
            "Epoch 17/30\n",
            "4164/4164 [==============================] - 2s 505us/step - loss: 6.0403 - acc: 0.1041 - val_loss: 6.3119 - val_acc: 0.1024\n",
            "\n",
            "Epoch 00017: val_loss improved from 6.33026 to 6.31195, saving model to model_translate.h1\n",
            "Epoch 18/30\n",
            "4164/4164 [==============================] - 2s 514us/step - loss: 5.9800 - acc: 0.1051 - val_loss: 6.3184 - val_acc: 0.1016\n",
            "\n",
            "Epoch 00018: val_loss did not improve from 6.31195\n",
            "Epoch 19/30\n",
            "4164/4164 [==============================] - 2s 503us/step - loss: 5.9293 - acc: 0.1054 - val_loss: 6.2496 - val_acc: 0.1023\n",
            "\n",
            "Epoch 00019: val_loss improved from 6.31195 to 6.24957, saving model to model_translate.h1\n",
            "Epoch 20/30\n",
            "4164/4164 [==============================] - 2s 511us/step - loss: 5.8994 - acc: 0.1058 - val_loss: 6.2532 - val_acc: 0.1039\n",
            "\n",
            "Epoch 00020: val_loss did not improve from 6.24957\n",
            "Epoch 21/30\n",
            "4164/4164 [==============================] - 2s 510us/step - loss: 5.8542 - acc: 0.1053 - val_loss: 6.2045 - val_acc: 0.1058\n",
            "\n",
            "Epoch 00021: val_loss improved from 6.24957 to 6.20446, saving model to model_translate.h1\n",
            "Epoch 22/30\n",
            "4164/4164 [==============================] - 2s 511us/step - loss: 5.8023 - acc: 0.1069 - val_loss: 6.2565 - val_acc: 0.0949\n",
            "\n",
            "Epoch 00022: val_loss did not improve from 6.20446\n",
            "Epoch 23/30\n",
            "4164/4164 [==============================] - 2s 508us/step - loss: 5.7798 - acc: 0.1059 - val_loss: 6.1492 - val_acc: 0.1060\n",
            "\n",
            "Epoch 00023: val_loss improved from 6.20446 to 6.14925, saving model to model_translate.h1\n",
            "Epoch 24/30\n",
            "4164/4164 [==============================] - 2s 507us/step - loss: 5.7209 - acc: 0.1082 - val_loss: 6.1052 - val_acc: 0.1055\n",
            "\n",
            "Epoch 00024: val_loss improved from 6.14925 to 6.10520, saving model to model_translate.h1\n",
            "Epoch 25/30\n",
            "4164/4164 [==============================] - 2s 506us/step - loss: 5.7045 - acc: 0.1078 - val_loss: 6.0644 - val_acc: 0.1066\n",
            "\n",
            "Epoch 00025: val_loss improved from 6.10520 to 6.06438, saving model to model_translate.h1\n",
            "Epoch 26/30\n",
            "4164/4164 [==============================] - 2s 505us/step - loss: 5.6037 - acc: 0.1105 - val_loss: 6.1355 - val_acc: 0.1027\n",
            "\n",
            "Epoch 00026: val_loss did not improve from 6.06438\n",
            "Epoch 27/30\n",
            "4164/4164 [==============================] - 2s 515us/step - loss: 5.6311 - acc: 0.1117 - val_loss: 6.0096 - val_acc: 0.1078\n",
            "\n",
            "Epoch 00027: val_loss improved from 6.06438 to 6.00956, saving model to model_translate.h1\n",
            "Epoch 28/30\n",
            "4164/4164 [==============================] - 2s 506us/step - loss: 5.5394 - acc: 0.1127 - val_loss: 6.0155 - val_acc: 0.1054\n",
            "\n",
            "Epoch 00028: val_loss did not improve from 6.00956\n",
            "Epoch 29/30\n",
            "4164/4164 [==============================] - 2s 518us/step - loss: 5.4867 - acc: 0.1133 - val_loss: 5.9991 - val_acc: 0.1060\n",
            "\n",
            "Epoch 00029: val_loss improved from 6.00956 to 5.99912, saving model to model_translate.h1\n",
            "Epoch 30/30\n",
            "4164/4164 [==============================] - 2s 516us/step - loss: 5.5011 - acc: 0.1135 - val_loss: 5.9119 - val_acc: 0.1108\n",
            "\n",
            "Epoch 00030: val_loss improved from 5.99912 to 5.91189, saving model to model_translate.h1\n"
          ],
          "name": "stdout"
        }
      ]
    },
    {
      "cell_type": "markdown",
      "metadata": {
        "id": "nwrL0_sjmUuO",
        "colab_type": "text"
      },
      "source": [
        "# 5)-Plotting results"
      ]
    },
    {
      "cell_type": "code",
      "metadata": {
        "id": "iUYdtjQXlupF",
        "colab_type": "code",
        "outputId": "3c720292-d751-44a9-8567-e6152b86434e",
        "colab": {
          "base_uri": "https://localhost:8080/",
          "height": 269
        }
      },
      "source": [
        "plt.plot(history.history['loss']) \n",
        "plt.plot(history.history['val_loss']) \n",
        "plt.legend(['train','validation']) \n",
        "plt.show()"
      ],
      "execution_count": 33,
      "outputs": [
        {
          "output_type": "display_data",
          "data": {
            "image/png": "[encoded data removed]",
            "text/plain": [
              "<Figure size 432x288 with 1 Axes>"
            ]
          },
          "metadata": {
            "tags": []
          }
        }
      ]
    },
    {
      "cell_type": "markdown",
      "metadata": {
        "id": "xQVCiaNDn4VJ",
        "colab_type": "text"
      },
      "source": [
        "As you can see in the above plot, the validation loss stopped decreasing after 20 epochs."
      ]
    },
    {
      "cell_type": "markdown",
      "metadata": {
        "id": "FgePSmZBmSbn",
        "colab_type": "text"
      },
      "source": [
        "# 6)-Make Predictions"
      ]
    },
    {
      "cell_type": "code",
      "metadata": {
        "id": "6gh_CukCl7Al",
        "colab_type": "code",
        "colab": {}
      },
      "source": [
        "model = load_model('model_translate.h1') \n",
        "\n",
        "preds = model.predict_classes(testX.reshape((testX.shape[0], testX.shape[1])))"
      ],
      "execution_count": 0,
      "outputs": []
    },
    {
      "cell_type": "markdown",
      "metadata": {
        "id": "M-DaR0x4oA4P",
        "colab_type": "text"
      },
      "source": [
        "These predictions are sequences of integers. We need to convert these integers to their corresponding words."
      ]
    },
    {
      "cell_type": "markdown",
      "metadata": {
        "id": "VU6IOmOOoB3f",
        "colab_type": "text"
      },
      "source": [
        "### 6.1)- Convert integers to words"
      ]
    },
    {
      "cell_type": "code",
      "metadata": {
        "id": "oiy9gGAAmAat",
        "colab_type": "code",
        "colab": {}
      },
      "source": [
        "def get_word(n, tokenizer):  \n",
        "      for word, index in tokenizer.word_index.items():                       \n",
        "          if index == n: \n",
        "              return word \n",
        "      return None"
      ],
      "execution_count": 0,
      "outputs": []
    },
    {
      "cell_type": "markdown",
      "metadata": {
        "id": "KqSwZTcXmDTW",
        "colab_type": "text"
      },
      "source": [
        "### 6.2)-Convert predictions into text (English)"
      ]
    },
    {
      "cell_type": "code",
      "metadata": {
        "id": "Y82jlYQMmAg0",
        "colab_type": "code",
        "colab": {}
      },
      "source": [
        "preds_text = [] \n",
        "for i in preds:        \n",
        "       temp = []        \n",
        "       for j in range(len(i)):             \n",
        "            t = get_word(i[j], eng_tokenizer)             \n",
        "            if j > 0:                 \n",
        "                if (t==get_word(i[j-1],eng_tokenizer))or(t== None):                       \n",
        "                     temp.append('')                 \n",
        "                else:                      \n",
        "                     temp.append(t)             \n",
        "            else:                    \n",
        "                if(t == None):                                   \n",
        "                     temp.append('')                    \n",
        "                else:                           \n",
        "                     temp.append(t)        \n",
        "       preds_text.append(' '.join(temp))"
      ],
      "execution_count": 0,
      "outputs": []
    },
    {
      "cell_type": "code",
      "metadata": {
        "id": "XOAI5cB8mAj3",
        "colab_type": "code",
        "colab": {}
      },
      "source": [
        "pred_df = pd.DataFrame({'actual' : test[:,0], 'predicted' : preds_text})"
      ],
      "execution_count": 0,
      "outputs": []
    },
    {
      "cell_type": "code",
      "metadata": {
        "id": "S2orsrv6oo4o",
        "colab_type": "code",
        "outputId": "31e48e88-1ac6-4d31-8cb6-2d23290f9155",
        "colab": {
          "base_uri": "https://localhost:8080/",
          "height": 491
        }
      },
      "source": [
        "# 1st 15 rows\n",
        "pred_df.head(15)"
      ],
      "execution_count": 38,
      "outputs": [
        {
          "output_type": "execute_result",
          "data": {
            "text/html": [
              "<div>\n",
              "<style scoped>\n",
              "    .dataframe tbody tr th:only-of-type {\n",
              "        vertical-align: middle;\n",
              "    }\n",
              "\n",
              "    .dataframe tbody tr th {\n",
              "        vertical-align: top;\n",
              "    }\n",
              "\n",
              "    .dataframe thead th {\n",
              "        text-align: right;\n",
              "    }\n",
              "</style>\n",
              "<table border=\"1\" class=\"dataframe\">\n",
              "  <thead>\n",
              "    <tr style=\"text-align: right;\">\n",
              "      <th></th>\n",
              "      <th>actual</th>\n",
              "      <th>predicted</th>\n",
              "    </tr>\n",
              "  </thead>\n",
              "  <tbody>\n",
              "    <tr>\n",
              "      <th>0</th>\n",
              "      <td>as competitors circle ever closer and new technology challenges cosy old certainties the imminent negotiation of the licence fee is fraught with especial danger for the bbc</td>\n",
              "      <td>the and the</td>\n",
              "    </tr>\n",
              "    <tr>\n",
              "      <th>1</th>\n",
              "      <td>luther rabinowitz collapsed his pyramid</td>\n",
              "      <td>i  in</td>\n",
              "    </tr>\n",
              "    <tr>\n",
              "      <th>2</th>\n",
              "      <td>the health authorities recently explained that the disease has reached all corners of the country</td>\n",
              "      <td>the to   the</td>\n",
              "    </tr>\n",
              "    <tr>\n",
              "      <th>3</th>\n",
              "      <td>i do not condone the tweet and i have taken it down the later post said</td>\n",
              "      <td>the</td>\n",
              "    </tr>\n",
              "    <tr>\n",
              "      <th>4</th>\n",
              "      <td>for the manager of the oberursel cult kiosk taking part in cycling events which go over the feldberg is perfectly natural</td>\n",
              "      <td>the</td>\n",
              "    </tr>\n",
              "    <tr>\n",
              "      <th>5</th>\n",
              "      <td>nato will not break their agreements with russian as a result of their planned deployment to east europe in response to the ukrainian crisis</td>\n",
              "      <td>the</td>\n",
              "    </tr>\n",
              "    <tr>\n",
              "      <th>6</th>\n",
              "      <td>another one who enjoyed himself was frittentoni</td>\n",
              "      <td>i was is the</td>\n",
              "    </tr>\n",
              "    <tr>\n",
              "      <th>7</th>\n",
              "      <td>the billion cruise industry is expected to benefit in the coming years from the rise of the middle class in emerging economies such as china and india</td>\n",
              "      <td>the and to and the</td>\n",
              "    </tr>\n",
              "    <tr>\n",
              "      <th>8</th>\n",
              "      <td>in addition to this the separatists reported that they have taken control of several towns and villages in the donezk region</td>\n",
              "      <td>the and to and the</td>\n",
              "    </tr>\n",
              "    <tr>\n",
              "      <th>9</th>\n",
              "      <td>kiev and moscow have agreed to new talks on gas</td>\n",
              "      <td>to and    the  to</td>\n",
              "    </tr>\n",
              "    <tr>\n",
              "      <th>10</th>\n",
              "      <td>many friends and neighbours were killed in the siege and it only adds to my pain</td>\n",
              "      <td>but and    to  him</td>\n",
              "    </tr>\n",
              "    <tr>\n",
              "      <th>11</th>\n",
              "      <td>his dad vladimir who scooped up his son outside said damir told me his mother had died</td>\n",
              "      <td>but that  and  to  it</td>\n",
              "    </tr>\n",
              "    <tr>\n",
              "      <th>12</th>\n",
              "      <td>perry vetoed funds to her office when she refused to resign which led to a grand jury in austin this month indicting perry who is a potential presidential candidate</td>\n",
              "      <td>the and to and a the</td>\n",
              "    </tr>\n",
              "    <tr>\n",
              "      <th>13</th>\n",
              "      <td>they were fed and watered on their way back in havixbeck and billerbeck</td>\n",
              "      <td>the</td>\n",
              "    </tr>\n",
              "    <tr>\n",
              "      <th>14</th>\n",
              "      <td>she is a supporter of pipeline south stream run by the russian firm gasprom through which russian natural gas is to be transported directly to southern europe bypassing ukraine this will also make...</td>\n",
              "      <td>and  to   in to said</td>\n",
              "    </tr>\n",
              "  </tbody>\n",
              "</table>\n",
              "</div>"
            ],
            "text/plain": [
              "                                                                                                                                                                                                     actual               predicted\n",
              "0                              as competitors circle ever closer and new technology challenges cosy old certainties the imminent negotiation of the licence fee is fraught with especial danger for the bbc        the and the     \n",
              "1                                                                                                                                                                   luther rabinowitz collapsed his pyramid              i  in     \n",
              "2                                                                                                         the health authorities recently explained that the disease has reached all corners of the country         the to   the   \n",
              "3                                                                                                                                   i do not condone the tweet and i have taken it down the later post said              the       \n",
              "4                                                                                 for the manager of the oberursel cult kiosk taking part in cycling events which go over the feldberg is perfectly natural              the       \n",
              "5                                                              nato will not break their agreements with russian as a result of their planned deployment to east europe in response to the ukrainian crisis              the       \n",
              "6                                                                                                                                                           another one who enjoyed himself was frittentoni        i was is the    \n",
              "7                                                    the billion cruise industry is expected to benefit in the coming years from the rise of the middle class in emerging economies such as china and india   the and to and the   \n",
              "8                                                                              in addition to this the separatists reported that they have taken control of several towns and villages in the donezk region   the and to and the   \n",
              "9                                                                                                                                                           kiev and moscow have agreed to new talks on gas       to and    the  to\n",
              "10                                                                                                                         many friends and neighbours were killed in the siege and it only adds to my pain      but and    to  him\n",
              "11                                                                                                                   his dad vladimir who scooped up his son outside said damir told me his mother had died   but that  and  to  it\n",
              "12                                     perry vetoed funds to her office when she refused to resign which led to a grand jury in austin this month indicting perry who is a potential presidential candidate  the and to and a the  \n",
              "13                                                                                                                                  they were fed and watered on their way back in havixbeck and billerbeck              the       \n",
              "14  she is a supporter of pipeline south stream run by the russian firm gasprom through which russian natural gas is to be transported directly to southern europe bypassing ukraine this will also make...    and  to   in to said"
            ]
          },
          "metadata": {
            "tags": []
          },
          "execution_count": 38
        }
      ]
    },
    {
      "cell_type": "code",
      "metadata": {
        "id": "LPocsO00mJy-",
        "colab_type": "code",
        "outputId": "d6e39bf1-5363-4e52-97bd-32ffe453a560",
        "colab": {
          "base_uri": "https://localhost:8080/",
          "height": 525
        }
      },
      "source": [
        "# print 15 rows randomly \n",
        "pred_df.sample(15)"
      ],
      "execution_count": 39,
      "outputs": [
        {
          "output_type": "execute_result",
          "data": {
            "text/html": [
              "<div>\n",
              "<style scoped>\n",
              "    .dataframe tbody tr th:only-of-type {\n",
              "        vertical-align: middle;\n",
              "    }\n",
              "\n",
              "    .dataframe tbody tr th {\n",
              "        vertical-align: top;\n",
              "    }\n",
              "\n",
              "    .dataframe thead th {\n",
              "        text-align: right;\n",
              "    }\n",
              "</style>\n",
              "<table border=\"1\" class=\"dataframe\">\n",
              "  <thead>\n",
              "    <tr style=\"text-align: right;\">\n",
              "      <th></th>\n",
              "      <th>actual</th>\n",
              "      <th>predicted</th>\n",
              "    </tr>\n",
              "  </thead>\n",
              "  <tbody>\n",
              "    <tr>\n",
              "      <th>1105</th>\n",
              "      <td>businesses state and local tax burdens last year expanded by percent to billion compared with percent the year before and it was the third consecutive year of growth after backtoback years of shri...</td>\n",
              "      <td>the</td>\n",
              "    </tr>\n",
              "    <tr>\n",
              "      <th>1112</th>\n",
              "      <td>a woman has been hospitalised after screaming so hard during the ice bucket challenge that she dislocated her jaw</td>\n",
              "      <td>but my  and  to  it</td>\n",
              "    </tr>\n",
              "    <tr>\n",
              "      <th>823</th>\n",
              "      <td>i now know that i can do it brilliant</td>\n",
              "      <td>i that to     it</td>\n",
              "    </tr>\n",
              "    <tr>\n",
              "      <th>117</th>\n",
              "      <td>on the israeli side soldiers and six civilians including a thai worker were killed</td>\n",
              "      <td>and     in  said</td>\n",
              "    </tr>\n",
              "    <tr>\n",
              "      <th>260</th>\n",
              "      <td>no one it seems can be sure that they are safe</td>\n",
              "      <td>and     in to said</td>\n",
              "    </tr>\n",
              "    <tr>\n",
              "      <th>807</th>\n",
              "      <td>we havent been playing as badly in recent weeks as it has been made out to be</td>\n",
              "      <td>and that to</td>\n",
              "    </tr>\n",
              "    <tr>\n",
              "      <th>1086</th>\n",
              "      <td>he was another one who did it all in one go as did nina kuhn press spokesperson for the oberursel council who did the route along side frank gruneisen</td>\n",
              "      <td>to and to  a the  to</td>\n",
              "    </tr>\n",
              "    <tr>\n",
              "      <th>1296</th>\n",
              "      <td>in one of abbotts patients arrived at his gps surgery with similar symptoms to him and was subsequently diagnosed with mesothelioma</td>\n",
              "      <td>the</td>\n",
              "    </tr>\n",
              "    <tr>\n",
              "      <th>673</th>\n",
              "      <td>the first day back at school is traditionally celebrated by children wearing embroidered shirts carrying balloons and giving flowers to their teachers</td>\n",
              "      <td>to and    in  to</td>\n",
              "    </tr>\n",
              "    <tr>\n",
              "      <th>1279</th>\n",
              "      <td>the hessian spd chairman thorsten schafergumbel who led the german delegation said to the host that he would keeps his ears open in germany for a possible partner</td>\n",
              "      <td>the and to  the   said</td>\n",
              "    </tr>\n",
              "    <tr>\n",
              "      <th>861</th>\n",
              "      <td>after registering at the fraternitys club house sta</td>\n",
              "      <td>the</td>\n",
              "    </tr>\n",
              "    <tr>\n",
              "      <th>31</th>\n",
              "      <td>now the two are coming together there should soon be talks about a joint venture</td>\n",
              "      <td>to and to and  in the to</td>\n",
              "    </tr>\n",
              "    <tr>\n",
              "      <th>513</th>\n",
              "      <td>one person who has never been able to pinpoint his exposure to asbestos is graham abbott a gp</td>\n",
              "      <td>the  to</td>\n",
              "    </tr>\n",
              "    <tr>\n",
              "      <th>903</th>\n",
              "      <td>his crew chief chad johnston said the team was disappointed but will now start focusing on next weekends race in richmond virginia</td>\n",
              "      <td>the</td>\n",
              "    </tr>\n",
              "    <tr>\n",
              "      <th>492</th>\n",
              "      <td>harburg tents for new refugees</td>\n",
              "      <td>the was is to</td>\n",
              "    </tr>\n",
              "  </tbody>\n",
              "</table>\n",
              "</div>"
            ],
            "text/plain": [
              "                                                                                                                                                                                                       actual                 predicted\n",
              "1105  businesses state and local tax burdens last year expanded by percent to billion compared with percent the year before and it was the third consecutive year of growth after backtoback years of shri...                the       \n",
              "1112                                                                                        a woman has been hospitalised after screaming so hard during the ice bucket challenge that she dislocated her jaw       but my  and  to  it\n",
              "823                                                                                                                                                                     i now know that i can do it brilliant          i that to     it\n",
              "117                                                                                                                        on the israeli side soldiers and six civilians including a thai worker were killed          and     in  said\n",
              "260                                                                                                                                                            no one it seems can be sure that they are safe        and     in to said\n",
              "807                                                                                                                             we havent been playing as badly in recent weeks as it has been made out to be          and that to     \n",
              "1086                                                   he was another one who did it all in one go as did nina kuhn press spokesperson for the oberursel council who did the route along side frank gruneisen      to and to  a the  to\n",
              "1296                                                                      in one of abbotts patients arrived at his gps surgery with similar symptoms to him and was subsequently diagnosed with mesothelioma                the       \n",
              "673                                                    the first day back at school is traditionally celebrated by children wearing embroidered shirts carrying balloons and giving flowers to their teachers          to and    in  to\n",
              "1279                                       the hessian spd chairman thorsten schafergumbel who led the german delegation said to the host that he would keeps his ears open in germany for a possible partner    the and to  the   said\n",
              "861                                                                                                                                                       after registering at the fraternitys club house sta                the       \n",
              "31                                                                                                                           now the two are coming together there should soon be talks about a joint venture  to and to and  in the to\n",
              "513                                                                                                             one person who has never been able to pinpoint his exposure to asbestos is graham abbott a gp              the  to     \n",
              "903                                                                        his crew chief chad johnston said the team was disappointed but will now start focusing on next weekends race in richmond virginia                the       \n",
              "492                                                                                                                                                                            harburg tents for new refugees         the was is to    "
            ]
          },
          "metadata": {
            "tags": []
          },
          "execution_count": 39
        }
      ]
    }
  ]
}