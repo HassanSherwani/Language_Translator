{
  "nbformat": 4,
  "nbformat_minor": 0,
  "metadata": {
    "accelerator": "GPU",
    "colab": {
      "name": "Encoder_Decoder_Model.ipynb",
      "version": "0.3.2",
      "provenance": [],
      "collapsed_sections": [],
      "machine_shape": "hm"
    },
    "kernelspec": {
      "name": "python3",
      "display_name": "Python 3"
    },
    "language_info": {
      "codemirror_mode": {
        "name": "ipython",
        "version": 3
      },
      "file_extension": ".py",
      "mimetype": "text/x-python",
      "name": "python",
      "nbconvert_exporter": "python",
      "pygments_lexer": "ipython3",
      "version": "3.6.5"
    }
  },
  "cells": [
    {
      "cell_type": "markdown",
      "metadata": {
        "colab_type": "text",
        "id": "QJxJLfT6m4zo"
      },
      "source": [
        "# Machine Translation\n",
        "\n",
        "English-German Translation"
      ]
    },
    {
      "cell_type": "markdown",
      "metadata": {
        "colab_type": "text",
        "id": "YvFSu3KOnCQI"
      },
      "source": [
        "# 1)- Importing key modules"
      ]
    },
    {
      "cell_type": "code",
      "metadata": {
        "colab_type": "code",
        "id": "ydSdCo4JzRta",
        "colab": {}
      },
      "source": [
        "#support both Python 2 and Python 3 with minimal overhead.\n",
        "from __future__ import absolute_import, division, print_function\n",
        "#ignore warnings\n",
        "import warnings\n",
        "warnings.filterwarnings('ignore')"
      ],
      "execution_count": 0,
      "outputs": []
    },
    {
      "cell_type": "code",
      "metadata": {
        "colab_type": "code",
        "id": "eXS6Ad_pwdsT",
        "colab": {}
      },
      "source": [
        "# What's life without style :). So, let's add style to our dataframes\n",
        "#from IPython.core.display import HTML\n",
        "#css = open('style-table.css').read() + open('style-notebook.css').read()\n",
        "#HTML('<style>{}</style>'.format(css))"
      ],
      "execution_count": 0,
      "outputs": []
    },
    {
      "cell_type": "code",
      "metadata": {
        "colab_type": "code",
        "id": "HXdjBXc-zNXe",
        "colab": {}
      },
      "source": [
        "import pandas as pd \n",
        "import string \n",
        "import pickle\n",
        "from pickle import dump\n",
        "from pickle import load\n",
        "from string import digits\n",
        "import re \n",
        "from sklearn.utils import shuffle\n",
        "from sklearn.model_selection import train_test_split\n",
        "from numpy import array, argmax, random, take \n",
        "import matplotlib.pyplot as plt \n",
        "%matplotlib inline \n",
        "pd.set_option('display.max_colwidth', 200)"
      ],
      "execution_count": 0,
      "outputs": []
    },
    {
      "cell_type": "code",
      "metadata": {
        "colab_type": "code",
        "id": "ElRcz5K3hJrC",
        "outputId": "a4097bf0-bf72-4c78-cd26-6760db0db796",
        "colab": {
          "base_uri": "https://localhost:8080/",
          "height": 34
        }
      },
      "source": [
        "from keras.models import Model\n",
        "from keras.models import Sequential \n",
        "from keras.layers import Dense, LSTM, Embedding,Input,RepeatVector\n",
        "from keras.preprocessing.text import Tokenizer\n",
        "from keras.callbacks import ModelCheckpoint \n",
        "from keras.preprocessing.sequence import pad_sequences\n",
        "from keras.models import load_model \n",
        "from keras import optimizers "
      ],
      "execution_count": 4,
      "outputs": [
        {
          "output_type": "stream",
          "text": [
            "Using TensorFlow backend.\n"
          ],
          "name": "stderr"
        }
      ]
    },
    {
      "cell_type": "code",
      "metadata": {
        "colab_type": "code",
        "id": "yI5oZH-mwmWL",
        "outputId": "0d2c64a8-4311-4ca4-ffc7-d33bae7c259e",
        "colab": {
          "base_uri": "https://localhost:8080/",
          "height": 34
        }
      },
      "source": [
        "!  pip install version_information"
      ],
      "execution_count": 5,
      "outputs": [
        {
          "output_type": "stream",
          "text": [
            "Requirement already satisfied: version_information in /usr/local/lib/python3.6/dist-packages (1.0.3)\n"
          ],
          "name": "stdout"
        }
      ]
    },
    {
      "cell_type": "code",
      "metadata": {
        "colab_type": "code",
        "id": "91NCx_C7wdsZ",
        "outputId": "4c8b8474-2b5e-41ed-9d52-63ed7fd5818d",
        "colab": {
          "base_uri": "https://localhost:8080/",
          "height": 218
        }
      },
      "source": [
        "# first install: pip install version_information\n",
        "%reload_ext version_information\n",
        "%version_information pandas,re,sklearn, matplotlib,keras"
      ],
      "execution_count": 6,
      "outputs": [
        {
          "output_type": "execute_result",
          "data": {
            "text/latex": "\\begin{tabular}{|l|l|}\\hline\n{\\bf Software} & {\\bf Version} \\\\ \\hline\\hline\nPython & 3.6.8 64bit [GCC 8.0.1 20180414 (experimental) [trunk revision 259383] \\\\ \\hline\nIPython & 5.5.0 \\\\ \\hline\nOS & Linux 4.14.137+ x86\\_64 with Ubuntu 18.04 bionic \\\\ \\hline\npandas & 0.24.2 \\\\ \\hline\nre & 2.2.1 \\\\ \\hline\nsklearn & 0.21.3 \\\\ \\hline\nmatplotlib & 3.0.3 \\\\ \\hline\nkeras & 2.2.5 \\\\ \\hline\n\\hline \\multicolumn{2}{|l|}{Mon Sep 16 17:02:18 2019 UTC} \\\\ \\hline\n\\end{tabular}\n",
            "application/json": {
              "Software versions": [
                {
                  "version": "3.6.8 64bit [GCC 8.0.1 20180414 (experimental) [trunk revision 259383]",
                  "module": "Python"
                },
                {
                  "version": "5.5.0",
                  "module": "IPython"
                },
                {
                  "version": "Linux 4.14.137+ x86_64 with Ubuntu 18.04 bionic",
                  "module": "OS"
                },
                {
                  "version": "0.24.2",
                  "module": "pandas"
                },
                {
                  "version": "2.2.1",
                  "module": "re"
                },
                {
                  "version": "0.21.3",
                  "module": "sklearn"
                },
                {
                  "version": "3.0.3",
                  "module": "matplotlib"
                },
                {
                  "version": "2.2.5",
                  "module": "keras"
                }
              ]
            },
            "text/html": [
              "<table><tr><th>Software</th><th>Version</th></tr><tr><td>Python</td><td>3.6.8 64bit [GCC 8.0.1 20180414 (experimental) [trunk revision 259383]</td></tr><tr><td>IPython</td><td>5.5.0</td></tr><tr><td>OS</td><td>Linux 4.14.137+ x86_64 with Ubuntu 18.04 bionic</td></tr><tr><td>pandas</td><td>0.24.2</td></tr><tr><td>re</td><td>2.2.1</td></tr><tr><td>sklearn</td><td>0.21.3</td></tr><tr><td>matplotlib</td><td>3.0.3</td></tr><tr><td>keras</td><td>2.2.5</td></tr><tr><td colspan='2'>Mon Sep 16 17:02:18 2019 UTC</td></tr></table>"
            ],
            "text/plain": [
              "Software versions\n",
              "Python 3.6.8 64bit [GCC 8.0.1 20180414 (experimental) [trunk revision 259383]\n",
              "IPython 5.5.0\n",
              "OS Linux 4.14.137+ x86_64 with Ubuntu 18.04 bionic\n",
              "pandas 0.24.2\n",
              "re 2.2.1\n",
              "sklearn 0.21.3\n",
              "matplotlib 3.0.3\n",
              "keras 2.2.5\n",
              "Mon Sep 16 17:02:18 2019 UTC"
            ]
          },
          "metadata": {
            "tags": []
          },
          "execution_count": 6
        }
      ]
    },
    {
      "cell_type": "markdown",
      "metadata": {
        "colab_type": "text",
        "id": "XN_b91atnHye"
      },
      "source": [
        "# 2)- Reading Dataset"
      ]
    },
    {
      "cell_type": "code",
      "metadata": {
        "colab_type": "code",
        "id": "ZM1ZO53WhL_6",
        "colab": {}
      },
      "source": [
        "df= pd.read_table('random_data.txt', names=['eng','ger'])"
      ],
      "execution_count": 0,
      "outputs": []
    },
    {
      "cell_type": "code",
      "metadata": {
        "colab_type": "code",
        "id": "gws8XMBx-IfV",
        "outputId": "0d686918-f0c2-4e87-cb9f-b3cd374072ed",
        "colab": {
          "base_uri": "https://localhost:8080/",
          "height": 34
        }
      },
      "source": [
        "df.shape"
      ],
      "execution_count": 8,
      "outputs": [
        {
          "output_type": "execute_result",
          "data": {
            "text/plain": [
              "(6507, 2)"
            ]
          },
          "metadata": {
            "tags": []
          },
          "execution_count": 8
        }
      ]
    },
    {
      "cell_type": "code",
      "metadata": {
        "colab_type": "code",
        "id": "GdbfP26dHHIX",
        "outputId": "fc79a2f0-c015-4de5-a66b-bf8678abd458",
        "colab": {
          "base_uri": "https://localhost:8080/",
          "height": 279
        }
      },
      "source": [
        "df[30:35]"
      ],
      "execution_count": 9,
      "outputs": [
        {
          "output_type": "execute_result",
          "data": {
            "text/html": [
              "<div>\n",
              "<style scoped>\n",
              "    .dataframe tbody tr th:only-of-type {\n",
              "        vertical-align: middle;\n",
              "    }\n",
              "\n",
              "    .dataframe tbody tr th {\n",
              "        vertical-align: top;\n",
              "    }\n",
              "\n",
              "    .dataframe thead th {\n",
              "        text-align: right;\n",
              "    }\n",
              "</style>\n",
              "<table border=\"1\" class=\"dataframe\">\n",
              "  <thead>\n",
              "    <tr style=\"text-align: right;\">\n",
              "      <th></th>\n",
              "      <th>eng</th>\n",
              "      <th>ger</th>\n",
              "    </tr>\n",
              "  </thead>\n",
              "  <tbody>\n",
              "    <tr>\n",
              "      <th>30</th>\n",
              "      <td>when the united states occupied japan after world war ii general douglas macarthur and his aides encouraged the country to adopt a constitution designed to assure that hideki tojos militarized aut...</td>\n",
              "      <td>als die vereinigten staaten nach dem zweiten weltkrieg japan besetzte ermutigten general douglas mac arthur und sein stab das land dazu eine verfassung zu verabschieden die sicherstellen solle das...</td>\n",
              "    </tr>\n",
              "    <tr>\n",
              "      <th>31</th>\n",
              "      <td>fully aware that workers and their unions had a role to play in shaping the new japan they included language that explicitly recognized that the right of workers to organize and to bargain and act...</td>\n",
              "      <td>in vollem bewusstsein dessen dass die arbeiter und ihre gewerkschaften bei der schaffung eines neuen japan eine rolle einnahmen verwendeten sie eine sprache die explizit anerkannte dass die rechte...</td>\n",
              "    </tr>\n",
              "    <tr>\n",
              "      <th>32</th>\n",
              "      <td>when the united states occupied germany after world war ii general dwight david eisenhower and his aides urged the germans to write a constitution that would assure that adolf hitlers fascism was ...</td>\n",
              "      <td>als die vereinigten staaten nach dem zweiten weltkrieg deutschland besetzen drangten general dwight david eisenhower und sein stab die deutschen eine verfassung zu schreiben die dafur sorgen wurde...</td>\n",
              "    </tr>\n",
              "    <tr>\n",
              "      <th>33</th>\n",
              "      <td>recognizing that workers would need to organize and make their voices heard in the new nation the germans included a provision that explicitly declared the right to form associations to safeguard ...</td>\n",
              "      <td>in anerkennung der tatsache dass die arbeiter sich wurden organisieren mussen und ihre stimme in der neuen nation erheben sollten fugten die deutschen eine klausel ein die explizit aussagte das re...</td>\n",
              "    </tr>\n",
              "    <tr>\n",
              "      <th>34</th>\n",
              "      <td>agreements that restrict or seek to impair this right shall be null and void measures directed to this end shall be unlawful</td>\n",
              "      <td>vereinbarungen die dieses recht einschranken oder darauf abzielen es zu schmalern sind null und nichtig darauf abzielende manahmen sind ungesetzlich</td>\n",
              "    </tr>\n",
              "  </tbody>\n",
              "</table>\n",
              "</div>"
            ],
            "text/plain": [
              "                                                                                                                                                                                                        eng                                                                                                                                                                                                      ger\n",
              "30  when the united states occupied japan after world war ii general douglas macarthur and his aides encouraged the country to adopt a constitution designed to assure that hideki tojos militarized aut...  als die vereinigten staaten nach dem zweiten weltkrieg japan besetzte ermutigten general douglas mac arthur und sein stab das land dazu eine verfassung zu verabschieden die sicherstellen solle das...\n",
              "31  fully aware that workers and their unions had a role to play in shaping the new japan they included language that explicitly recognized that the right of workers to organize and to bargain and act...  in vollem bewusstsein dessen dass die arbeiter und ihre gewerkschaften bei der schaffung eines neuen japan eine rolle einnahmen verwendeten sie eine sprache die explizit anerkannte dass die rechte...\n",
              "32  when the united states occupied germany after world war ii general dwight david eisenhower and his aides urged the germans to write a constitution that would assure that adolf hitlers fascism was ...  als die vereinigten staaten nach dem zweiten weltkrieg deutschland besetzen drangten general dwight david eisenhower und sein stab die deutschen eine verfassung zu schreiben die dafur sorgen wurde...\n",
              "33  recognizing that workers would need to organize and make their voices heard in the new nation the germans included a provision that explicitly declared the right to form associations to safeguard ...  in anerkennung der tatsache dass die arbeiter sich wurden organisieren mussen und ihre stimme in der neuen nation erheben sollten fugten die deutschen eine klausel ein die explizit aussagte das re...\n",
              "34                                                                             agreements that restrict or seek to impair this right shall be null and void measures directed to this end shall be unlawful                                                     vereinbarungen die dieses recht einschranken oder darauf abzielen es zu schmalern sind null und nichtig darauf abzielende manahmen sind ungesetzlich"
            ]
          },
          "metadata": {
            "tags": []
          },
          "execution_count": 9
        }
      ]
    },
    {
      "cell_type": "markdown",
      "metadata": {
        "colab_type": "text",
        "id": "y4sjvE5Nwdsk"
      },
      "source": [
        "# 3)- Quick Preprocessing"
      ]
    },
    {
      "cell_type": "code",
      "metadata": {
        "colab_type": "code",
        "id": "GEvO1bfy-KKP",
        "colab": {}
      },
      "source": [
        "# Lowercase all characters\n",
        "df.eng=df.eng.apply(lambda x: x.lower())\n",
        "df.ger=df.ger.apply(lambda x: x.lower())"
      ],
      "execution_count": 0,
      "outputs": []
    },
    {
      "cell_type": "code",
      "metadata": {
        "colab_type": "code",
        "id": "9bLMfF59-KNX",
        "colab": {}
      },
      "source": [
        "# Remove quotes\n",
        "df.eng=df.eng.apply(lambda x: re.sub(\"'\", '', x))\n",
        "df.ger=df.ger.apply(lambda x: re.sub(\"'\", '', x))"
      ],
      "execution_count": 0,
      "outputs": []
    },
    {
      "cell_type": "code",
      "metadata": {
        "colab_type": "code",
        "id": "t-rYHNHd-KQK",
        "colab": {}
      },
      "source": [
        "exclude = set(string.punctuation) # Set of all special characters\n",
        "# Remove all the special characters\n",
        "df.eng=df.eng.apply(lambda x: ''.join(ch for ch in x if ch not in exclude))\n",
        "df.ger=df.ger.apply(lambda x: ''.join(ch for ch in x if ch not in exclude))"
      ],
      "execution_count": 0,
      "outputs": []
    },
    {
      "cell_type": "code",
      "metadata": {
        "colab_type": "code",
        "id": "bWGhz8JG-KVi",
        "colab": {}
      },
      "source": [
        "# Remove all numbers from text\n",
        "remove_digits = str.maketrans('', '', digits)\n",
        "df.eng=df.eng.apply(lambda x: x.translate(remove_digits))\n",
        "df.ger=df.ger.apply(lambda x: x.translate(remove_digits))"
      ],
      "execution_count": 0,
      "outputs": []
    },
    {
      "cell_type": "code",
      "metadata": {
        "colab_type": "code",
        "id": "qCJnKqIY-KYm",
        "colab": {}
      },
      "source": [
        "# Remove extra spaces\n",
        "df.eng=df.eng.apply(lambda x: x.strip())\n",
        "df.ger=df.ger.apply(lambda x: x.strip())\n",
        "df.eng=df.eng.apply(lambda x: re.sub(\" +\", \" \", x))\n",
        "df.ger=df.ger.apply(lambda x: re.sub(\" +\", \" \", x))"
      ],
      "execution_count": 0,
      "outputs": []
    },
    {
      "cell_type": "code",
      "metadata": {
        "colab_type": "code",
        "id": "9AwSMz4O-pKQ",
        "colab": {}
      },
      "source": [
        "# Add start and end tokens to target sequences. This will make ensure that we know when to end our decoding seq. in interfernce alogorithm\n",
        "df.ger = df.ger.apply(lambda x : 'START_ '+ x + ' _END')"
      ],
      "execution_count": 0,
      "outputs": []
    },
    {
      "cell_type": "code",
      "metadata": {
        "colab_type": "code",
        "id": "O-6Rm08s-yn9",
        "outputId": "b329aecc-e921-4bf6-c4e6-7e6497c2de5d",
        "colab": {
          "base_uri": "https://localhost:8080/",
          "height": 104
        }
      },
      "source": [
        "df.ger[70:73]"
      ],
      "execution_count": 16,
      "outputs": [
        {
          "output_type": "execute_result",
          "data": {
            "text/plain": [
              "70    START_ dr jordan sagte dass das alter einer frau bei der diagnose der typ des eierstockkrebses bestehende vorerkrankungen sowie der soziale und wirtschaftliche status ebenfalls die uberlebenschanc...\n",
              "71                                                    START_ fur altere frauen und diejenigen deren krebs zum diagnosezeitpunkt bereits weiter fortgeschritten war lag die uberlebensrate am niedrigsten _END\n",
              "72              START_ fur diejenigen die in landlichen und abgelegenen regionen des staates lebten lag das sterblichkeitsrisiko wahrend der studie um prozent hoher als fur diejenigen in stadtgebieten _END\n",
              "Name: ger, dtype: object"
            ]
          },
          "metadata": {
            "tags": []
          },
          "execution_count": 16
        }
      ]
    },
    {
      "cell_type": "code",
      "metadata": {
        "colab_type": "code",
        "id": "5slsI5P7-Ja-",
        "outputId": "2493dd57-52a6-41c8-d809-602b2eab33f5",
        "colab": {
          "base_uri": "https://localhost:8080/",
          "height": 461
        }
      },
      "source": [
        "df.sample(10)"
      ],
      "execution_count": 17,
      "outputs": [
        {
          "output_type": "execute_result",
          "data": {
            "text/html": [
              "<div>\n",
              "<style scoped>\n",
              "    .dataframe tbody tr th:only-of-type {\n",
              "        vertical-align: middle;\n",
              "    }\n",
              "\n",
              "    .dataframe tbody tr th {\n",
              "        vertical-align: top;\n",
              "    }\n",
              "\n",
              "    .dataframe thead th {\n",
              "        text-align: right;\n",
              "    }\n",
              "</style>\n",
              "<table border=\"1\" class=\"dataframe\">\n",
              "  <thead>\n",
              "    <tr style=\"text-align: right;\">\n",
              "      <th></th>\n",
              "      <th>eng</th>\n",
              "      <th>ger</th>\n",
              "    </tr>\n",
              "  </thead>\n",
              "  <tbody>\n",
              "    <tr>\n",
              "      <th>1482</th>\n",
              "      <td>tony stewart crashes in return to track</td>\n",
              "      <td>START_ tony stewart erleidet unfall bei ruckkehr auf die rennstrecke _END</td>\n",
              "    </tr>\n",
              "    <tr>\n",
              "      <th>954</th>\n",
              "      <td>i lost many people i knew well and they were dear for me</td>\n",
              "      <td>START_ ich habe viele menschen verloren die ich gut kannte und die mir teuer waren _END</td>\n",
              "    </tr>\n",
              "    <tr>\n",
              "      <th>4684</th>\n",
              "      <td>since he won critical acclaim for his othello he has become engrossed in the theatre</td>\n",
              "      <td>START_ seit er von den kritikern fur seinen othello gelobt wurde ist er vom theater vereinnahmt _END</td>\n",
              "    </tr>\n",
              "    <tr>\n",
              "      <th>2387</th>\n",
              "      <td>at the other end of the scale was canberra hit by government spending cutbacks where prices rose by only per cent through the year</td>\n",
              "      <td>START_ am anderen ende der skala liegt canberra das von den einschnitten bei staatlichen ausgaben hart getroffen wurde und wo die preise uber das jahr lediglich um prozent anstiegen _END</td>\n",
              "    </tr>\n",
              "    <tr>\n",
              "      <th>2995</th>\n",
              "      <td>damir was later flown to london by the now defunct news of the world newspaper to be crowned a barnardos childrens champion by then premier tony blair and wife wife cherie</td>\n",
              "      <td>START_ damir wurde spater nach london geflogen von der inzwischen aufgelosten zeitung news of the world um vom damaligen premier tony blair und seiner frau cherie den titel eines barnardos childre...</td>\n",
              "    </tr>\n",
              "    <tr>\n",
              "      <th>6255</th>\n",
              "      <td>the girl and man went hiking just after midday on sunday at govetts leap in blackheath</td>\n",
              "      <td>START_ das madchen und der mann brachen kurz nach sonntagmittag in govetts leap in blackheath zu ihrer tour auf _END</td>\n",
              "    </tr>\n",
              "    <tr>\n",
              "      <th>6258</th>\n",
              "      <td>the girl had injured her knee and the man had fallen and hit his head</td>\n",
              "      <td>START_ das madchen hatte sich am knie verletzt und der mann war gesturzt und hatte seinen kopf aufgeschlagen _END</td>\n",
              "    </tr>\n",
              "    <tr>\n",
              "      <th>5744</th>\n",
              "      <td>the roman legionnaire will for example talk about his drafty work in wachtberg plants will be presented as living monuments of roman times and a humorous lesson on the matter of international unde...</td>\n",
              "      <td>START_ dabei wird zum beispiel ein romischer legionar von seiner arbeit auf dem zugigen wachtberg erzahlen pflanzen als lebende denkmale aus der romerzeit vorgestellt und eine witzige lehrstunde i...</td>\n",
              "    </tr>\n",
              "    <tr>\n",
              "      <th>3847</th>\n",
              "      <td>the administration of the province of guangdong whose capital city is guangzhou is also hoping for a flight connection</td>\n",
              "      <td>START_ auch die verwaltung der provinz guangdong deren hauptstadt guangzhou ist hofft auf die flugverbindung _END</td>\n",
              "    </tr>\n",
              "    <tr>\n",
              "      <th>2693</th>\n",
              "      <td>her career began at global management consultants bain and co then progressed via morgan stanley bombadier ici and the media world of pearsons</td>\n",
              "      <td>START_ ihre karriere begann bei dem weltweiten managementberatungsunternehmen bain and co worauf sie zu morgan stanley bombadier ici und die medienwelt von pearsons wechselte _END</td>\n",
              "    </tr>\n",
              "  </tbody>\n",
              "</table>\n",
              "</div>"
            ],
            "text/plain": [
              "                                                                                                                                                                                                          eng                                                                                                                                                                                                      ger\n",
              "1482                                                                                                                                                                  tony stewart crashes in return to track                                                                                                                                START_ tony stewart erleidet unfall bei ruckkehr auf die rennstrecke _END\n",
              "954                                                                                                                                                  i lost many people i knew well and they were dear for me                                                                                                                  START_ ich habe viele menschen verloren die ich gut kannte und die mir teuer waren _END\n",
              "4684                                                                                                                     since he won critical acclaim for his othello he has become engrossed in the theatre                                                                                                     START_ seit er von den kritikern fur seinen othello gelobt wurde ist er vom theater vereinnahmt _END\n",
              "2387                                                                       at the other end of the scale was canberra hit by government spending cutbacks where prices rose by only per cent through the year               START_ am anderen ende der skala liegt canberra das von den einschnitten bei staatlichen ausgaben hart getroffen wurde und wo die preise uber das jahr lediglich um prozent anstiegen _END\n",
              "2995                              damir was later flown to london by the now defunct news of the world newspaper to be crowned a barnardos childrens champion by then premier tony blair and wife wife cherie  START_ damir wurde spater nach london geflogen von der inzwischen aufgelosten zeitung news of the world um vom damaligen premier tony blair und seiner frau cherie den titel eines barnardos childre...\n",
              "6255                                                                                                                   the girl and man went hiking just after midday on sunday at govetts leap in blackheath                                                                                     START_ das madchen und der mann brachen kurz nach sonntagmittag in govetts leap in blackheath zu ihrer tour auf _END\n",
              "6258                                                                                                                                    the girl had injured her knee and the man had fallen and hit his head                                                                                        START_ das madchen hatte sich am knie verletzt und der mann war gesturzt und hatte seinen kopf aufgeschlagen _END\n",
              "5744  the roman legionnaire will for example talk about his drafty work in wachtberg plants will be presented as living monuments of roman times and a humorous lesson on the matter of international unde...  START_ dabei wird zum beispiel ein romischer legionar von seiner arbeit auf dem zugigen wachtberg erzahlen pflanzen als lebende denkmale aus der romerzeit vorgestellt und eine witzige lehrstunde i...\n",
              "3847                                                                                   the administration of the province of guangdong whose capital city is guangzhou is also hoping for a flight connection                                                                                        START_ auch die verwaltung der provinz guangdong deren hauptstadt guangzhou ist hofft auf die flugverbindung _END\n",
              "2693                                                           her career began at global management consultants bain and co then progressed via morgan stanley bombadier ici and the media world of pearsons                      START_ ihre karriere begann bei dem weltweiten managementberatungsunternehmen bain and co worauf sie zu morgan stanley bombadier ici und die medienwelt von pearsons wechselte _END"
            ]
          },
          "metadata": {
            "tags": []
          },
          "execution_count": 17
        }
      ]
    },
    {
      "cell_type": "markdown",
      "metadata": {
        "colab_type": "text",
        "id": "D1HIfLfoMlYD"
      },
      "source": [
        "### 3a)- Vocab Size\n",
        "\n",
        "compute the vocabulary for both English(input) and German(target)"
      ]
    },
    {
      "cell_type": "code",
      "metadata": {
        "colab_type": "code",
        "id": "tum2mSmK-Jeq",
        "colab": {}
      },
      "source": [
        "# Vocabulary of English\n",
        "all_eng_words=set()\n",
        "for eng in df.eng:\n",
        "    for word in eng.split():\n",
        "        if word not in all_eng_words:\n",
        "            all_eng_words.add(word)\n",
        "# Vocabulary of German \n",
        "all_german_words=set()\n",
        "for ger in df.ger:\n",
        "    for word in ger.split():\n",
        "        if word not in all_german_words:\n",
        "            all_german_words.add(word)"
      ],
      "execution_count": 0,
      "outputs": []
    },
    {
      "cell_type": "markdown",
      "metadata": {
        "id": "LobZdAVB9V2S",
        "colab_type": "text"
      },
      "source": [
        "**compute the vocabulary sizes and the length of maximum sequence for both the languages**"
      ]
    },
    {
      "cell_type": "code",
      "metadata": {
        "colab_type": "code",
        "id": "gGrnrWLw-Jhr",
        "outputId": "e95a81d6-f846-40e9-cbe2-4bbab5e6ee2d",
        "colab": {
          "base_uri": "https://localhost:8080/",
          "height": 34
        }
      },
      "source": [
        "# Max Length of source sequence\n",
        "import numpy as np\n",
        "lenght_list=[]\n",
        "for l in df.eng:\n",
        "    lenght_list.append(len(l.split(' ')))\n",
        "max_length_src = np.max(lenght_list)\n",
        "max_length_src"
      ],
      "execution_count": 19,
      "outputs": [
        {
          "output_type": "execute_result",
          "data": {
            "text/plain": [
              "71"
            ]
          },
          "metadata": {
            "tags": []
          },
          "execution_count": 19
        }
      ]
    },
    {
      "cell_type": "code",
      "metadata": {
        "colab_type": "code",
        "id": "NKYTzcsw-Jls",
        "outputId": "afa6186c-c471-418c-e8a6-a741b8e45722",
        "colab": {
          "base_uri": "https://localhost:8080/",
          "height": 34
        }
      },
      "source": [
        "# Max Length of target sequence\n",
        "lenght_list=[]\n",
        "for l in df.ger:\n",
        "    lenght_list.append(len(l.split(' ')))\n",
        "max_length_tar = np.max(lenght_list)\n",
        "max_length_tar"
      ],
      "execution_count": 20,
      "outputs": [
        {
          "output_type": "execute_result",
          "data": {
            "text/plain": [
              "73"
            ]
          },
          "metadata": {
            "tags": []
          },
          "execution_count": 20
        }
      ]
    },
    {
      "cell_type": "code",
      "metadata": {
        "colab_type": "code",
        "id": "njsfAZIhGmjf",
        "outputId": "2d76031b-44b0-428d-fd6b-bc89587e45fd",
        "colab": {
          "base_uri": "https://localhost:8080/",
          "height": 136
        }
      },
      "source": [
        "df['word_eng'] = df['eng'].apply(lambda x: len(str(x).split(\" \")))\n",
        "df[['eng','word_eng']].sample(3)"
      ],
      "execution_count": 21,
      "outputs": [
        {
          "output_type": "execute_result",
          "data": {
            "text/html": [
              "<div>\n",
              "<style scoped>\n",
              "    .dataframe tbody tr th:only-of-type {\n",
              "        vertical-align: middle;\n",
              "    }\n",
              "\n",
              "    .dataframe tbody tr th {\n",
              "        vertical-align: top;\n",
              "    }\n",
              "\n",
              "    .dataframe thead th {\n",
              "        text-align: right;\n",
              "    }\n",
              "</style>\n",
              "<table border=\"1\" class=\"dataframe\">\n",
              "  <thead>\n",
              "    <tr style=\"text-align: right;\">\n",
              "      <th></th>\n",
              "      <th>eng</th>\n",
              "      <th>word_eng</th>\n",
              "    </tr>\n",
              "  </thead>\n",
              "  <tbody>\n",
              "    <tr>\n",
              "      <th>3955</th>\n",
              "      <td>this ice bucket challenge went painfully wrong</td>\n",
              "      <td>7</td>\n",
              "    </tr>\n",
              "    <tr>\n",
              "      <th>3617</th>\n",
              "      <td>the gun club tannenwald in berngau is celebrating its anniversary from to september</td>\n",
              "      <td>13</td>\n",
              "    </tr>\n",
              "    <tr>\n",
              "      <th>284</th>\n",
              "      <td>after registering at the fraternitys club house sta</td>\n",
              "      <td>8</td>\n",
              "    </tr>\n",
              "  </tbody>\n",
              "</table>\n",
              "</div>"
            ],
            "text/plain": [
              "                                                                                      eng  word_eng\n",
              "3955                                       this ice bucket challenge went painfully wrong         7\n",
              "3617  the gun club tannenwald in berngau is celebrating its anniversary from to september        13\n",
              "284                                   after registering at the fraternitys club house sta         8"
            ]
          },
          "metadata": {
            "tags": []
          },
          "execution_count": 21
        }
      ]
    },
    {
      "cell_type": "code",
      "metadata": {
        "colab_type": "code",
        "id": "j2cAOXePGmmg",
        "outputId": "9a1ebffa-6813-450b-9de0-8abade3eff1b",
        "colab": {
          "base_uri": "https://localhost:8080/",
          "height": 136
        }
      },
      "source": [
        "# adding +2 due to adding of START and END\n",
        "df['word_ger'] = df['ger'].apply(lambda x: len(str(x).split(\" \")))\n",
        "df[['ger','word_ger']].sample(3)"
      ],
      "execution_count": 22,
      "outputs": [
        {
          "output_type": "execute_result",
          "data": {
            "text/html": [
              "<div>\n",
              "<style scoped>\n",
              "    .dataframe tbody tr th:only-of-type {\n",
              "        vertical-align: middle;\n",
              "    }\n",
              "\n",
              "    .dataframe tbody tr th {\n",
              "        vertical-align: top;\n",
              "    }\n",
              "\n",
              "    .dataframe thead th {\n",
              "        text-align: right;\n",
              "    }\n",
              "</style>\n",
              "<table border=\"1\" class=\"dataframe\">\n",
              "  <thead>\n",
              "    <tr style=\"text-align: right;\">\n",
              "      <th></th>\n",
              "      <th>ger</th>\n",
              "      <th>word_ger</th>\n",
              "    </tr>\n",
              "  </thead>\n",
              "  <tbody>\n",
              "    <tr>\n",
              "      <th>5157</th>\n",
              "      <td>START_ voller angst sie konne tot sein floh er und sah auf dem weg ein weinendes kleinkind ergriff es bei der hand und floh durch einen kugelhagel _END</td>\n",
              "      <td>28</td>\n",
              "    </tr>\n",
              "    <tr>\n",
              "      <th>2010</th>\n",
              "      <td>START_ wie bei fruheren serien der mainpost in vergangenen jahren gibt es auch heuer wieder preise zu gewinnen wenn sie die richtige losung haben _END</td>\n",
              "      <td>25</td>\n",
              "    </tr>\n",
              "    <tr>\n",
              "      <th>5435</th>\n",
              "      <td>START_ plotzlich hatte ich schuttelfrost _END</td>\n",
              "      <td>6</td>\n",
              "    </tr>\n",
              "  </tbody>\n",
              "</table>\n",
              "</div>"
            ],
            "text/plain": [
              "                                                                                                                                                          ger  word_ger\n",
              "5157  START_ voller angst sie konne tot sein floh er und sah auf dem weg ein weinendes kleinkind ergriff es bei der hand und floh durch einen kugelhagel _END        28\n",
              "2010   START_ wie bei fruheren serien der mainpost in vergangenen jahren gibt es auch heuer wieder preise zu gewinnen wenn sie die richtige losung haben _END        25\n",
              "5435                                                                                                            START_ plotzlich hatte ich schuttelfrost _END         6"
            ]
          },
          "metadata": {
            "tags": []
          },
          "execution_count": 22
        }
      ]
    },
    {
      "cell_type": "code",
      "metadata": {
        "colab_type": "code",
        "id": "iAFqlcXjHy-F",
        "outputId": "67b30a69-91bd-427b-fe81-240c2eea7b3b",
        "colab": {
          "base_uri": "https://localhost:8080/",
          "height": 269
        }
      },
      "source": [
        "words_eng=df['word_eng']\n",
        "plt.hist(words_eng, bins=20, label=\"Distribution of length of english version\") \n",
        "plt.legend() \n",
        "plt.show()"
      ],
      "execution_count": 23,
      "outputs": [
        {
          "output_type": "display_data",
          "data": {
            "image/png": "[encoded data removed]",
            "text/plain": [
              "<Figure size 432x288 with 1 Axes>"
            ]
          },
          "metadata": {
            "tags": []
          }
        }
      ]
    },
    {
      "cell_type": "code",
      "metadata": {
        "colab_type": "code",
        "id": "t3NjOtTIGmpO",
        "outputId": "f0e11f59-83ce-4fc4-f1e0-036d1335d260",
        "colab": {
          "base_uri": "https://localhost:8080/",
          "height": 269
        }
      },
      "source": [
        "words_ger=df['word_ger']\n",
        "plt.hist(words_ger, bins=20, label=\"Distribution of length of German version\") \n",
        "plt.legend() \n",
        "plt.show()"
      ],
      "execution_count": 24,
      "outputs": [
        {
          "output_type": "display_data",
          "data": {
            "image/png": "[encoded data removed]",
            "text/plain": [
              "<Figure size 432x288 with 1 Axes>"
            ]
          },
          "metadata": {
            "tags": []
          }
        }
      ]
    },
    {
      "cell_type": "markdown",
      "metadata": {
        "colab_type": "text",
        "id": "uF2tPX2JMgvN"
      },
      "source": [
        "### 3b)-Words' frequency"
      ]
    },
    {
      "cell_type": "code",
      "metadata": {
        "colab_type": "code",
        "id": "jfq_DzpnLXeK",
        "outputId": "2cea7ceb-7f71-45c4-8308-1d4ea14fad75",
        "colab": {
          "base_uri": "https://localhost:8080/",
          "height": 202
        }
      },
      "source": [
        "# let’s check the 10 most frequently occurring words in our English text data\n",
        "freq_eng = pd.Series(' '.join(df['eng']).split()).value_counts()[:10]\n",
        "freq_eng"
      ],
      "execution_count": 25,
      "outputs": [
        {
          "output_type": "execute_result",
          "data": {
            "text/plain": [
              "the     7929\n",
              "to      3345\n",
              "of      3234\n",
              "in      3045\n",
              "and     2859\n",
              "a       2709\n",
              "for     1269\n",
              "that    1230\n",
              "is      1200\n",
              "was     1146\n",
              "dtype: int64"
            ]
          },
          "metadata": {
            "tags": []
          },
          "execution_count": 25
        }
      ]
    },
    {
      "cell_type": "code",
      "metadata": {
        "colab_type": "code",
        "id": "CRqExh5_LKIC",
        "outputId": "631cd77f-126e-4846-924f-b46e3a7352f2",
        "colab": {
          "base_uri": "https://localhost:8080/",
          "height": 235
        }
      },
      "source": [
        "freq_ger = pd.Series(' '.join(df['ger']).split()).value_counts()[:12]\n",
        "freq_ger"
      ],
      "execution_count": 26,
      "outputs": [
        {
          "output_type": "execute_result",
          "data": {
            "text/plain": [
              "START_    6507\n",
              "_END      6507\n",
              "die       3768\n",
              "der       3531\n",
              "und       2820\n",
              "in        2370\n",
              "den       1359\n",
              "von       1299\n",
              "das       1278\n",
              "zu        1218\n",
              "fur        999\n",
              "dass       996\n",
              "dtype: int64"
            ]
          },
          "metadata": {
            "tags": []
          },
          "execution_count": 26
        }
      ]
    },
    {
      "cell_type": "markdown",
      "metadata": {
        "colab_type": "text",
        "id": "S2jWXT3yM71x"
      },
      "source": [
        "As we have start and end words so, I did check 12 so that we get idea of most fequent words"
      ]
    },
    {
      "cell_type": "markdown",
      "metadata": {
        "colab_type": "text",
        "id": "RDxvf8EbNCQI"
      },
      "source": [
        "**How about least occuring words**"
      ]
    },
    {
      "cell_type": "code",
      "metadata": {
        "colab_type": "code",
        "id": "nw37EWeeNFTc",
        "outputId": "cfea387b-1043-4012-83b2-5bf8a12ef0e3",
        "colab": {
          "base_uri": "https://localhost:8080/",
          "height": 202
        }
      },
      "source": [
        "less_freq_eng = pd.Series(' '.join(df['eng']).split()).value_counts()[-10:]\n",
        "less_freq_eng"
      ],
      "execution_count": 27,
      "outputs": [
        {
          "output_type": "execute_result",
          "data": {
            "text/plain": [
              "rounds          3\n",
              "contradicted    3\n",
              "ploy            3\n",
              "giorgio         3\n",
              "forever         3\n",
              "defeats         3\n",
              "dame            3\n",
              "dundee          3\n",
              "nitric          3\n",
              "gottingens      3\n",
              "dtype: int64"
            ]
          },
          "metadata": {
            "tags": []
          },
          "execution_count": 27
        }
      ]
    },
    {
      "cell_type": "code",
      "metadata": {
        "colab_type": "code",
        "id": "aJqyRkyRNQno",
        "outputId": "fb2a71d3-a634-49a6-da58-2b613083a959",
        "colab": {
          "base_uri": "https://localhost:8080/",
          "height": 202
        }
      },
      "source": [
        "less_freq_ger = pd.Series(' '.join(df['ger']).split()).value_counts()[-10:]\n",
        "less_freq_ger"
      ],
      "execution_count": 28,
      "outputs": [
        {
          "output_type": "execute_result",
          "data": {
            "text/plain": [
              "wesentliches                   3\n",
              "verfahrensmechaniker           3\n",
              "missbilligung                  3\n",
              "gemerkt                        3\n",
              "vorderreifen                   3\n",
              "leichte                        3\n",
              "ausgetauscht                   3\n",
              "lebenserhaltungsmechanismus    3\n",
              "upper                          3\n",
              "wachsende                      3\n",
              "dtype: int64"
            ]
          },
          "metadata": {
            "tags": []
          },
          "execution_count": 28
        }
      ]
    },
    {
      "cell_type": "markdown",
      "metadata": {
        "colab_type": "text",
        "id": "dLxosVx4wds5"
      },
      "source": [
        "### 3a)- Defining input and target"
      ]
    },
    {
      "cell_type": "code",
      "metadata": {
        "colab_type": "code",
        "id": "z8TUTnn4AC9c",
        "colab": {}
      },
      "source": [
        "input_words = sorted(list(all_eng_words))\n",
        "target_words = sorted(list(all_german_words))\n"
      ],
      "execution_count": 0,
      "outputs": []
    },
    {
      "cell_type": "markdown",
      "metadata": {
        "id": "iO1Yhd8G9V2r",
        "colab_type": "text"
      },
      "source": [
        "**Calculate Vocab size for both source and target**"
      ]
    },
    {
      "cell_type": "code",
      "metadata": {
        "id": "b741jcEU9V2s",
        "colab_type": "code",
        "colab": {
          "base_uri": "https://localhost:8080/",
          "height": 50
        },
        "outputId": "9eec9e22-3166-4c56-d6e8-70aff396fc89"
      },
      "source": [
        "num_encoder_tokens = len(all_eng_words)\n",
        "num_decoder_tokens = len(all_german_words)\n",
        "print(num_encoder_tokens) \n",
        "print(num_decoder_tokens)"
      ],
      "execution_count": 30,
      "outputs": [
        {
          "output_type": "stream",
          "text": [
            "7230\n",
            "9285\n"
          ],
          "name": "stdout"
        }
      ]
    },
    {
      "cell_type": "markdown",
      "metadata": {
        "id": "xif3MTvd9V2u",
        "colab_type": "text"
      },
      "source": [
        "**We will shift the target data by 1 since we have appended ‘Start_’ in the German sentences**"
      ]
    },
    {
      "cell_type": "code",
      "metadata": {
        "colab_type": "code",
        "id": "G06K661ZADAo",
        "outputId": "7494b849-b85e-4ec0-af24-0ca84889ab6e",
        "colab": {
          "base_uri": "https://localhost:8080/",
          "height": 34
        }
      },
      "source": [
        "num_decoder_tokens += 1 \n",
        "num_decoder_tokens"
      ],
      "execution_count": 31,
      "outputs": [
        {
          "output_type": "execute_result",
          "data": {
            "text/plain": [
              "9286"
            ]
          },
          "metadata": {
            "tags": []
          },
          "execution_count": 31
        }
      ]
    },
    {
      "cell_type": "markdown",
      "metadata": {
        "id": "gZSg4nri9V2w",
        "colab_type": "text"
      },
      "source": [
        "**Creating word to token dictionary for both source and target**"
      ]
    },
    {
      "cell_type": "code",
      "metadata": {
        "colab_type": "code",
        "id": "pw2TwZh6ADGE",
        "colab": {}
      },
      "source": [
        "input_token_index = dict([(word, i+1) for i, word in enumerate(input_words)])\n",
        "target_token_index = dict([(word, i+1) for i, word in enumerate(target_words)])"
      ],
      "execution_count": 0,
      "outputs": []
    },
    {
      "cell_type": "markdown",
      "metadata": {
        "id": "iFnF6Oud9V2y",
        "colab_type": "text"
      },
      "source": [
        "**Create token to word dictionary for both source and target**"
      ]
    },
    {
      "cell_type": "code",
      "metadata": {
        "colab_type": "code",
        "id": "3_DwM1HCADJk",
        "colab": {}
      },
      "source": [
        "reverse_input_char_index = dict((i, word) for word, i in input_token_index.items())\n",
        "reverse_target_char_index = dict((i, word) for word, i in target_token_index.items())"
      ],
      "execution_count": 0,
      "outputs": []
    },
    {
      "cell_type": "code",
      "metadata": {
        "colab_type": "code",
        "id": "jfgAU6cH_g-L",
        "colab": {}
      },
      "source": [
        "#print(reverse_input_char_index)"
      ],
      "execution_count": 0,
      "outputs": []
    },
    {
      "cell_type": "code",
      "metadata": {
        "colab_type": "code",
        "id": "WVLHBLON_kQY",
        "colab": {}
      },
      "source": [
        "#print(reverse_target_char_index)"
      ],
      "execution_count": 0,
      "outputs": []
    },
    {
      "cell_type": "markdown",
      "metadata": {
        "colab_type": "text",
        "id": "2SKleAlZwdtA"
      },
      "source": [
        "### 3b)-Train - Test Split\n",
        "\n",
        "For validation\n",
        "\n",
        "90%-10%"
      ]
    },
    {
      "cell_type": "code",
      "metadata": {
        "colab_type": "code",
        "id": "kj_K6FfeAeYC",
        "outputId": "27263d10-338b-4a4f-accd-14dc63820c75",
        "colab": {
          "base_uri": "https://localhost:8080/",
          "height": 34
        }
      },
      "source": [
        "X, y = df.eng, df.ger #X being input, y being target\n",
        "X_train, X_test, y_train, y_test = train_test_split(X, y, test_size = 0.1, random_state=2019)\n",
        "X_train.shape, X_test.shape"
      ],
      "execution_count": 36,
      "outputs": [
        {
          "output_type": "execute_result",
          "data": {
            "text/plain": [
              "((5856,), (651,))"
            ]
          },
          "metadata": {
            "tags": []
          },
          "execution_count": 36
        }
      ]
    },
    {
      "cell_type": "markdown",
      "metadata": {
        "colab_type": "text",
        "id": "LZYt7v-fCOQt"
      },
      "source": [
        "**Save the train and test dataframes for reproducing the results later, as they are shuffled**"
      ]
    },
    {
      "cell_type": "code",
      "metadata": {
        "colab_type": "code",
        "id": "GvpxI3i7A3BT",
        "colab": {}
      },
      "source": [
        "X_train.to_pickle('X_train.pkl')\n",
        "X_test.to_pickle('X_test.pkl')"
      ],
      "execution_count": 0,
      "outputs": []
    },
    {
      "cell_type": "markdown",
      "metadata": {
        "id": "YblRfbhz9V3A",
        "colab_type": "text"
      },
      "source": [
        "**function to load the data in batches**"
      ]
    },
    {
      "cell_type": "code",
      "metadata": {
        "colab_type": "code",
        "id": "f99GUE2iA3E5",
        "colab": {}
      },
      "source": [
        "def generate_batch(X = X_train, y = y_train, batch_size = 128):\n",
        "    ''' Generate a batch of data '''\n",
        "    while True:\n",
        "        for j in range(0, len(X), batch_size):\n",
        "            encoder_input_data = np.zeros((batch_size, max_length_src),dtype='float32')\n",
        "            decoder_input_data = np.zeros((batch_size, max_length_tar),dtype='float32')\n",
        "            decoder_target_data = np.zeros((batch_size, max_length_tar, num_decoder_tokens),dtype='float32')\n",
        "            for i, (input_text, target_text) in enumerate(zip(X[j:j+batch_size], y[j:j+batch_size])):\n",
        "                for t, word in enumerate(input_text.split()):\n",
        "                    encoder_input_data[i, t] = input_token_index[word] # encoder input seq\n",
        "                for t, word in enumerate(target_text.split()):\n",
        "                    if t<len(target_text.split())-1:\n",
        "                        decoder_input_data[i, t] = target_token_index[word] # decoder input seq\n",
        "                    if t>0:\n",
        "                        # decoder target sequence (one hot encoded)\n",
        "                        # does not include the START_ token\n",
        "                        # Offset by one timestep\n",
        "                        decoder_target_data[i, t - 1, target_token_index[word]] = 1.\n",
        "            yield([encoder_input_data, decoder_input_data], decoder_target_data)"
      ],
      "execution_count": 0,
      "outputs": []
    },
    {
      "cell_type": "markdown",
      "metadata": {
        "colab_type": "text",
        "id": "G_MQxfbrCj_E"
      },
      "source": [
        "# 4)-Encoder - Decoder Model Architecture"
      ]
    },
    {
      "cell_type": "code",
      "metadata": {
        "colab_type": "code",
        "id": "WAKup9U3A3II",
        "colab": {}
      },
      "source": [
        "latent_dim = 50"
      ],
      "execution_count": 0,
      "outputs": []
    },
    {
      "cell_type": "markdown",
      "metadata": {
        "id": "nAhIqk3S9V3I",
        "colab_type": "text"
      },
      "source": [
        "**Encoder sode**"
      ]
    },
    {
      "cell_type": "code",
      "metadata": {
        "colab_type": "code",
        "id": "NVWXpjPeA3K4",
        "outputId": "13f54d86-51b3-477c-f42e-2afcdac8079f",
        "colab": {
          "base_uri": "https://localhost:8080/",
          "height": 188
        }
      },
      "source": [
        "# Encoder\n",
        "encoder_inputs = Input(shape=(None,))\n",
        "enc_emb =  Embedding(num_encoder_tokens, latent_dim, mask_zero = True)(encoder_inputs)\n",
        "encoder_lstm = LSTM(latent_dim, return_state=True)\n",
        "encoder_outputs, state_h, state_c = encoder_lstm(enc_emb)\n",
        "# We discard `encoder_outputs` and only keep the states.\n",
        "encoder_states = [state_h, state_c]"
      ],
      "execution_count": 40,
      "outputs": [
        {
          "output_type": "stream",
          "text": [
            "WARNING:tensorflow:From /usr/local/lib/python3.6/dist-packages/keras/backend/tensorflow_backend.py:66: The name tf.get_default_graph is deprecated. Please use tf.compat.v1.get_default_graph instead.\n",
            "\n",
            "WARNING:tensorflow:From /usr/local/lib/python3.6/dist-packages/keras/backend/tensorflow_backend.py:541: The name tf.placeholder is deprecated. Please use tf.compat.v1.placeholder instead.\n",
            "\n",
            "WARNING:tensorflow:From /usr/local/lib/python3.6/dist-packages/keras/backend/tensorflow_backend.py:4432: The name tf.random_uniform is deprecated. Please use tf.random.uniform instead.\n",
            "\n",
            "WARNING:tensorflow:From /usr/local/lib/python3.6/dist-packages/keras/backend/tensorflow_backend.py:3239: add_dispatch_support.<locals>.wrapper (from tensorflow.python.ops.array_ops) is deprecated and will be removed in a future version.\n",
            "Instructions for updating:\n",
            "Use tf.where in 2.0, which has the same broadcast rule as np.where\n"
          ],
          "name": "stdout"
        }
      ]
    },
    {
      "cell_type": "markdown",
      "metadata": {
        "id": "VzOSz3iK9V3M",
        "colab_type": "text"
      },
      "source": [
        "**decoder side**"
      ]
    },
    {
      "cell_type": "code",
      "metadata": {
        "colab_type": "code",
        "id": "y5NPVx5SAebD",
        "colab": {}
      },
      "source": [
        "# Set up the decoder, using `encoder_states` as initial state.\n",
        "decoder_inputs = Input(shape=(None,))\n",
        "dec_emb_layer = Embedding(num_decoder_tokens, latent_dim, mask_zero = True)\n",
        "dec_emb = dec_emb_layer(decoder_inputs)\n",
        "# We set up our decoder to return full output sequences,\n",
        "# and to return internal states as well. We don't use the\n",
        "# return states in the training model, but we will use them in inference.\n",
        "decoder_lstm = LSTM(latent_dim, return_sequences=True, return_state=True)\n",
        "decoder_outputs, _, _ = decoder_lstm(dec_emb,\n",
        "                                     initial_state=encoder_states)\n",
        "decoder_dense = Dense(num_decoder_tokens, activation='softmax')\n",
        "decoder_outputs = decoder_dense(decoder_outputs)\n",
        "\n",
        "# Define the model that will turn\n",
        "# `encoder_input_data` & `decoder_input_data` into `decoder_target_data`\n",
        "model = Model([encoder_inputs, decoder_inputs], decoder_outputs)"
      ],
      "execution_count": 0,
      "outputs": []
    },
    {
      "cell_type": "markdown",
      "metadata": {
        "id": "ySWkWdGF9V3O",
        "colab_type": "text"
      },
      "source": [
        "**compile model**"
      ]
    },
    {
      "cell_type": "code",
      "metadata": {
        "colab_type": "code",
        "id": "jmJpG9LHAegu",
        "outputId": "7f88a245-d8ba-4422-c5b9-c354244dd535",
        "colab": {
          "base_uri": "https://localhost:8080/",
          "height": 84
        }
      },
      "source": [
        "model.compile(optimizer='rmsprop', loss='categorical_crossentropy', metrics=['acc'])"
      ],
      "execution_count": 42,
      "outputs": [
        {
          "output_type": "stream",
          "text": [
            "WARNING:tensorflow:From /usr/local/lib/python3.6/dist-packages/keras/optimizers.py:793: The name tf.train.Optimizer is deprecated. Please use tf.compat.v1.train.Optimizer instead.\n",
            "\n",
            "WARNING:tensorflow:From /usr/local/lib/python3.6/dist-packages/keras/backend/tensorflow_backend.py:3576: The name tf.log is deprecated. Please use tf.math.log instead.\n",
            "\n"
          ],
          "name": "stdout"
        }
      ]
    },
    {
      "cell_type": "markdown",
      "metadata": {
        "id": "naUpfyQ09V3V",
        "colab_type": "text"
      },
      "source": [
        "**Note our number of decoder tokens are 9286. Rest I have used same latent dimension of 50**"
      ]
    },
    {
      "cell_type": "code",
      "metadata": {
        "colab_type": "code",
        "id": "dEJCmevEAesV",
        "colab": {}
      },
      "source": [
        "train_samples = len(X_train)\n",
        "val_samples = len(X_test)\n",
        "batch_size = 128\n",
        "epochs = 50"
      ],
      "execution_count": 0,
      "outputs": []
    },
    {
      "cell_type": "code",
      "metadata": {
        "colab_type": "code",
        "id": "bYQOjYpjEmfJ",
        "outputId": "ffd08280-8255-414d-cfd4-4b246713a076",
        "colab": {
          "base_uri": "https://localhost:8080/",
          "height": 420
        }
      },
      "source": [
        "model.summary()"
      ],
      "execution_count": 44,
      "outputs": [
        {
          "output_type": "stream",
          "text": [
            "Model: \"model_1\"\n",
            "__________________________________________________________________________________________________\n",
            "Layer (type)                    Output Shape         Param #     Connected to                     \n",
            "==================================================================================================\n",
            "input_1 (InputLayer)            (None, None)         0                                            \n",
            "__________________________________________________________________________________________________\n",
            "input_2 (InputLayer)            (None, None)         0                                            \n",
            "__________________________________________________________________________________________________\n",
            "embedding_1 (Embedding)         (None, None, 50)     361500      input_1[0][0]                    \n",
            "__________________________________________________________________________________________________\n",
            "embedding_2 (Embedding)         (None, None, 50)     464300      input_2[0][0]                    \n",
            "__________________________________________________________________________________________________\n",
            "lstm_1 (LSTM)                   [(None, 50), (None,  20200       embedding_1[0][0]                \n",
            "__________________________________________________________________________________________________\n",
            "lstm_2 (LSTM)                   [(None, None, 50), ( 20200       embedding_2[0][0]                \n",
            "                                                                 lstm_1[0][1]                     \n",
            "                                                                 lstm_1[0][2]                     \n",
            "__________________________________________________________________________________________________\n",
            "dense_1 (Dense)                 (None, None, 9286)   473586      lstm_2[0][0]                     \n",
            "==================================================================================================\n",
            "Total params: 1,339,786\n",
            "Trainable params: 1,339,786\n",
            "Non-trainable params: 0\n",
            "__________________________________________________________________________________________________\n"
          ],
          "name": "stdout"
        }
      ]
    },
    {
      "cell_type": "code",
      "metadata": {
        "id": "zGopOB9X_Khz",
        "colab_type": "code",
        "colab": {}
      },
      "source": [
        "filename = 'model_translate.h1' \n",
        "\n",
        "# set checkpoint\n",
        "checkpoint = ModelCheckpoint(filename, monitor='val_loss',  \n",
        "                             verbose=1, save_best_only=True, \n",
        "                             mode='min') "
      ],
      "execution_count": 0,
      "outputs": []
    },
    {
      "cell_type": "code",
      "metadata": {
        "colab_type": "code",
        "id": "8_dLHRGWAemn",
        "outputId": "e94c87f8-0f1e-444b-8c1b-cf4e444c8d40",
        "colab": {
          "base_uri": "https://localhost:8080/",
          "height": 1000
        }
      },
      "source": [
        "history=model.fit_generator(generator = generate_batch(X_train, y_train, batch_size = batch_size),\n",
        "                    steps_per_epoch = train_samples//batch_size,\n",
        "                    epochs=epochs,\n",
        "                    callbacks=[checkpoint],\n",
        "                    validation_data = generate_batch(X_test, y_test, batch_size = batch_size),\n",
        "                    validation_steps = val_samples//batch_size)"
      ],
      "execution_count": 46,
      "outputs": [
        {
          "output_type": "stream",
          "text": [
            "WARNING:tensorflow:From /usr/local/lib/python3.6/dist-packages/keras/backend/tensorflow_backend.py:1033: The name tf.assign_add is deprecated. Please use tf.compat.v1.assign_add instead.\n",
            "\n",
            "Epoch 1/50\n",
            "45/45 [==============================] - 32s 707ms/step - loss: 8.0039 - acc: 0.0525 - val_loss: 7.2547 - val_acc: 0.0557\n",
            "\n",
            "Epoch 00001: val_loss improved from inf to 7.25474, saving model to model_translate.h1\n",
            "Epoch 2/50\n",
            "45/45 [==============================] - 29s 634ms/step - loss: 7.1417 - acc: 0.0550 - val_loss: 7.1617 - val_acc: 0.0544\n",
            "\n",
            "Epoch 00002: val_loss improved from 7.25474 to 7.16171, saving model to model_translate.h1\n",
            "Epoch 3/50\n",
            "45/45 [==============================] - 29s 639ms/step - loss: 7.0923 - acc: 0.0550 - val_loss: 7.1252 - val_acc: 0.0548\n",
            "\n",
            "Epoch 00003: val_loss improved from 7.16171 to 7.12520, saving model to model_translate.h1\n",
            "Epoch 4/50\n",
            "45/45 [==============================] - 29s 634ms/step - loss: 7.0265 - acc: 0.0550 - val_loss: 7.0630 - val_acc: 0.0552\n",
            "\n",
            "Epoch 00004: val_loss improved from 7.12520 to 7.06299, saving model to model_translate.h1\n",
            "Epoch 5/50\n",
            "45/45 [==============================] - 29s 635ms/step - loss: 6.9542 - acc: 0.0548 - val_loss: 6.9955 - val_acc: 0.0552\n",
            "\n",
            "Epoch 00005: val_loss improved from 7.06299 to 6.99552, saving model to model_translate.h1\n",
            "Epoch 6/50\n",
            "45/45 [==============================] - 29s 637ms/step - loss: 6.8863 - acc: 0.0590 - val_loss: 6.9603 - val_acc: 0.0615\n",
            "\n",
            "Epoch 00006: val_loss improved from 6.99552 to 6.96027, saving model to model_translate.h1\n",
            "Epoch 7/50\n",
            "45/45 [==============================] - 28s 633ms/step - loss: 6.8212 - acc: 0.0658 - val_loss: 6.8937 - val_acc: 0.0700\n",
            "\n",
            "Epoch 00007: val_loss improved from 6.96027 to 6.89375, saving model to model_translate.h1\n",
            "Epoch 8/50\n",
            "45/45 [==============================] - 29s 636ms/step - loss: 6.7588 - acc: 0.0711 - val_loss: 6.8346 - val_acc: 0.0731\n",
            "\n",
            "Epoch 00008: val_loss improved from 6.89375 to 6.83456, saving model to model_translate.h1\n",
            "Epoch 9/50\n",
            "45/45 [==============================] - 29s 635ms/step - loss: 6.6920 - acc: 0.0755 - val_loss: 6.7768 - val_acc: 0.0788\n",
            "\n",
            "Epoch 00009: val_loss improved from 6.83456 to 6.77680, saving model to model_translate.h1\n",
            "Epoch 10/50\n",
            "45/45 [==============================] - 29s 634ms/step - loss: 6.6246 - acc: 0.0783 - val_loss: 6.7273 - val_acc: 0.0837\n",
            "\n",
            "Epoch 00010: val_loss improved from 6.77680 to 6.72731, saving model to model_translate.h1\n",
            "Epoch 11/50\n",
            "45/45 [==============================] - 29s 640ms/step - loss: 6.5570 - acc: 0.0813 - val_loss: 6.6572 - val_acc: 0.0834\n",
            "\n",
            "Epoch 00011: val_loss improved from 6.72731 to 6.65718, saving model to model_translate.h1\n",
            "Epoch 12/50\n",
            "45/45 [==============================] - 29s 638ms/step - loss: 6.4931 - acc: 0.0833 - val_loss: 6.6396 - val_acc: 0.0848\n",
            "\n",
            "Epoch 00012: val_loss improved from 6.65718 to 6.63958, saving model to model_translate.h1\n",
            "Epoch 13/50\n",
            "45/45 [==============================] - 29s 635ms/step - loss: 6.4346 - acc: 0.0858 - val_loss: 6.5703 - val_acc: 0.0887\n",
            "\n",
            "Epoch 00013: val_loss improved from 6.63958 to 6.57032, saving model to model_translate.h1\n",
            "Epoch 14/50\n",
            "45/45 [==============================] - 29s 644ms/step - loss: 6.3738 - acc: 0.0872 - val_loss: 6.5189 - val_acc: 0.0884\n",
            "\n",
            "Epoch 00014: val_loss improved from 6.57032 to 6.51892, saving model to model_translate.h1\n",
            "Epoch 15/50\n",
            "45/45 [==============================] - 29s 641ms/step - loss: 6.3138 - acc: 0.0894 - val_loss: 6.4601 - val_acc: 0.0923\n",
            "\n",
            "Epoch 00015: val_loss improved from 6.51892 to 6.46009, saving model to model_translate.h1\n",
            "Epoch 16/50\n",
            "45/45 [==============================] - 29s 643ms/step - loss: 6.2606 - acc: 0.0917 - val_loss: 6.4180 - val_acc: 0.0935\n",
            "\n",
            "Epoch 00016: val_loss improved from 6.46009 to 6.41797, saving model to model_translate.h1\n",
            "Epoch 17/50\n",
            "45/45 [==============================] - 29s 643ms/step - loss: 6.2044 - acc: 0.0937 - val_loss: 6.3752 - val_acc: 0.0977\n",
            "\n",
            "Epoch 00017: val_loss improved from 6.41797 to 6.37518, saving model to model_translate.h1\n",
            "Epoch 18/50\n",
            "45/45 [==============================] - 29s 640ms/step - loss: 6.1474 - acc: 0.0960 - val_loss: 6.3398 - val_acc: 0.0981\n",
            "\n",
            "Epoch 00018: val_loss improved from 6.37518 to 6.33985, saving model to model_translate.h1\n",
            "Epoch 19/50\n",
            "45/45 [==============================] - 29s 642ms/step - loss: 6.0935 - acc: 0.0982 - val_loss: 6.3002 - val_acc: 0.0964\n",
            "\n",
            "Epoch 00019: val_loss improved from 6.33985 to 6.30023, saving model to model_translate.h1\n",
            "Epoch 20/50\n",
            "45/45 [==============================] - 29s 638ms/step - loss: 6.0386 - acc: 0.1010 - val_loss: 6.2505 - val_acc: 0.0977\n",
            "\n",
            "Epoch 00020: val_loss improved from 6.30023 to 6.25047, saving model to model_translate.h1\n",
            "Epoch 21/50\n",
            "45/45 [==============================] - 29s 640ms/step - loss: 5.9821 - acc: 0.1034 - val_loss: 6.1914 - val_acc: 0.1044\n",
            "\n",
            "Epoch 00021: val_loss improved from 6.25047 to 6.19139, saving model to model_translate.h1\n",
            "Epoch 22/50\n",
            "45/45 [==============================] - 29s 643ms/step - loss: 5.9269 - acc: 0.1064 - val_loss: 6.1577 - val_acc: 0.1073\n",
            "\n",
            "Epoch 00022: val_loss improved from 6.19139 to 6.15766, saving model to model_translate.h1\n",
            "Epoch 23/50\n",
            "45/45 [==============================] - 29s 641ms/step - loss: 5.8742 - acc: 0.1087 - val_loss: 6.1052 - val_acc: 0.1073\n",
            "\n",
            "Epoch 00023: val_loss improved from 6.15766 to 6.10520, saving model to model_translate.h1\n",
            "Epoch 24/50\n",
            "45/45 [==============================] - 29s 642ms/step - loss: 5.8175 - acc: 0.1115 - val_loss: 6.0736 - val_acc: 0.1104\n",
            "\n",
            "Epoch 00024: val_loss improved from 6.10520 to 6.07357, saving model to model_translate.h1\n",
            "Epoch 25/50\n",
            "45/45 [==============================] - 29s 646ms/step - loss: 5.7598 - acc: 0.1141 - val_loss: 6.0576 - val_acc: 0.1098\n",
            "\n",
            "Epoch 00025: val_loss improved from 6.07357 to 6.05756, saving model to model_translate.h1\n",
            "Epoch 26/50\n",
            "45/45 [==============================] - 29s 643ms/step - loss: 5.7062 - acc: 0.1166 - val_loss: 5.9919 - val_acc: 0.1139\n",
            "\n",
            "Epoch 00026: val_loss improved from 6.05756 to 5.99189, saving model to model_translate.h1\n",
            "Epoch 27/50\n",
            "45/45 [==============================] - 29s 640ms/step - loss: 5.6516 - acc: 0.1190 - val_loss: 5.9238 - val_acc: 0.1205\n",
            "\n",
            "Epoch 00027: val_loss improved from 5.99189 to 5.92380, saving model to model_translate.h1\n",
            "Epoch 28/50\n",
            "45/45 [==============================] - 29s 642ms/step - loss: 5.5948 - acc: 0.1217 - val_loss: 5.8846 - val_acc: 0.1236\n",
            "\n",
            "Epoch 00028: val_loss improved from 5.92380 to 5.88458, saving model to model_translate.h1\n",
            "Epoch 29/50\n",
            "45/45 [==============================] - 29s 642ms/step - loss: 5.5369 - acc: 0.1241 - val_loss: 5.8320 - val_acc: 0.1242\n",
            "\n",
            "Epoch 00029: val_loss improved from 5.88458 to 5.83196, saving model to model_translate.h1\n",
            "Epoch 30/50\n",
            "45/45 [==============================] - 29s 640ms/step - loss: 5.4828 - acc: 0.1261 - val_loss: 5.8051 - val_acc: 0.1262\n",
            "\n",
            "Epoch 00030: val_loss improved from 5.83196 to 5.80511, saving model to model_translate.h1\n",
            "Epoch 31/50\n",
            "45/45 [==============================] - 29s 635ms/step - loss: 5.4268 - acc: 0.1294 - val_loss: 5.7520 - val_acc: 0.1241\n",
            "\n",
            "Epoch 00031: val_loss improved from 5.80511 to 5.75202, saving model to model_translate.h1\n",
            "Epoch 32/50\n",
            "45/45 [==============================] - 29s 638ms/step - loss: 5.3697 - acc: 0.1324 - val_loss: 5.7172 - val_acc: 0.1297\n",
            "\n",
            "Epoch 00032: val_loss improved from 5.75202 to 5.71723, saving model to model_translate.h1\n",
            "Epoch 33/50\n",
            "45/45 [==============================] - 29s 639ms/step - loss: 5.3161 - acc: 0.1357 - val_loss: 5.6540 - val_acc: 0.1341\n",
            "\n",
            "Epoch 00033: val_loss improved from 5.71723 to 5.65397, saving model to model_translate.h1\n",
            "Epoch 34/50\n",
            "45/45 [==============================] - 29s 639ms/step - loss: 5.2628 - acc: 0.1388 - val_loss: 5.6200 - val_acc: 0.1349\n",
            "\n",
            "Epoch 00034: val_loss improved from 5.65397 to 5.62000, saving model to model_translate.h1\n",
            "Epoch 35/50\n",
            "45/45 [==============================] - 29s 643ms/step - loss: 5.2071 - acc: 0.1417 - val_loss: 5.5651 - val_acc: 0.1381\n",
            "\n",
            "Epoch 00035: val_loss improved from 5.62000 to 5.56508, saving model to model_translate.h1\n",
            "Epoch 36/50\n",
            "45/45 [==============================] - 29s 647ms/step - loss: 5.1544 - acc: 0.1450 - val_loss: 5.5355 - val_acc: 0.1380\n",
            "\n",
            "Epoch 00036: val_loss improved from 5.56508 to 5.53547, saving model to model_translate.h1\n",
            "Epoch 37/50\n",
            "45/45 [==============================] - 29s 638ms/step - loss: 5.1023 - acc: 0.1482 - val_loss: 5.4849 - val_acc: 0.1374\n",
            "\n",
            "Epoch 00037: val_loss improved from 5.53547 to 5.48491, saving model to model_translate.h1\n",
            "Epoch 38/50\n",
            "45/45 [==============================] - 29s 639ms/step - loss: 5.0502 - acc: 0.1518 - val_loss: 5.4593 - val_acc: 0.1407\n",
            "\n",
            "Epoch 00038: val_loss improved from 5.48491 to 5.45927, saving model to model_translate.h1\n",
            "Epoch 39/50\n",
            "45/45 [==============================] - 29s 640ms/step - loss: 4.9982 - acc: 0.1550 - val_loss: 5.3900 - val_acc: 0.1450\n",
            "\n",
            "Epoch 00039: val_loss improved from 5.45927 to 5.39004, saving model to model_translate.h1\n",
            "Epoch 40/50\n",
            "45/45 [==============================] - 29s 641ms/step - loss: 4.9488 - acc: 0.1582 - val_loss: 5.3675 - val_acc: 0.1447\n",
            "\n",
            "Epoch 00040: val_loss improved from 5.39004 to 5.36752, saving model to model_translate.h1\n",
            "Epoch 41/50\n",
            "45/45 [==============================] - 29s 640ms/step - loss: 4.9011 - acc: 0.1621 - val_loss: 5.3286 - val_acc: 0.1470\n",
            "\n",
            "Epoch 00041: val_loss improved from 5.36752 to 5.32858, saving model to model_translate.h1\n",
            "Epoch 42/50\n",
            "45/45 [==============================] - 29s 636ms/step - loss: 4.8499 - acc: 0.1659 - val_loss: 5.2909 - val_acc: 0.1523\n",
            "\n",
            "Epoch 00042: val_loss improved from 5.32858 to 5.29088, saving model to model_translate.h1\n",
            "Epoch 43/50\n",
            "45/45 [==============================] - 29s 637ms/step - loss: 4.8023 - acc: 0.1697 - val_loss: 5.2461 - val_acc: 0.1503\n",
            "\n",
            "Epoch 00043: val_loss improved from 5.29088 to 5.24611, saving model to model_translate.h1\n",
            "Epoch 44/50\n",
            "45/45 [==============================] - 29s 637ms/step - loss: 4.7517 - acc: 0.1750 - val_loss: 5.2091 - val_acc: 0.1528\n",
            "\n",
            "Epoch 00044: val_loss improved from 5.24611 to 5.20912, saving model to model_translate.h1\n",
            "Epoch 45/50\n",
            "45/45 [==============================] - 29s 640ms/step - loss: 4.7043 - acc: 0.1783 - val_loss: 5.1530 - val_acc: 0.1570\n",
            "\n",
            "Epoch 00045: val_loss improved from 5.20912 to 5.15305, saving model to model_translate.h1\n",
            "Epoch 46/50\n",
            "45/45 [==============================] - 29s 643ms/step - loss: 4.6569 - acc: 0.1836 - val_loss: 5.1232 - val_acc: 0.1600\n",
            "\n",
            "Epoch 00046: val_loss improved from 5.15305 to 5.12323, saving model to model_translate.h1\n",
            "Epoch 47/50\n",
            "45/45 [==============================] - 29s 643ms/step - loss: 4.6072 - acc: 0.1889 - val_loss: 5.0883 - val_acc: 0.1606\n",
            "\n",
            "Epoch 00047: val_loss improved from 5.12323 to 5.08825, saving model to model_translate.h1\n",
            "Epoch 48/50\n",
            "45/45 [==============================] - 29s 642ms/step - loss: 4.5583 - acc: 0.1940 - val_loss: 5.0616 - val_acc: 0.1628\n",
            "\n",
            "Epoch 00048: val_loss improved from 5.08825 to 5.06161, saving model to model_translate.h1\n",
            "Epoch 49/50\n",
            "45/45 [==============================] - 29s 638ms/step - loss: 4.5124 - acc: 0.1994 - val_loss: 5.0161 - val_acc: 0.1684\n",
            "\n",
            "Epoch 00049: val_loss improved from 5.06161 to 5.01613, saving model to model_translate.h1\n",
            "Epoch 50/50\n",
            "45/45 [==============================] - 29s 639ms/step - loss: 4.4680 - acc: 0.2034 - val_loss: 4.9841 - val_acc: 0.1661\n",
            "\n",
            "Epoch 00050: val_loss improved from 5.01613 to 4.98408, saving model to model_translate.h1\n"
          ],
          "name": "stdout"
        }
      ]
    },
    {
      "cell_type": "code",
      "metadata": {
        "colab_type": "code",
        "id": "S5p1pg6XAekB",
        "colab": {}
      },
      "source": [
        "# save model\n",
        "model.save_weights('model_translate.h5')"
      ],
      "execution_count": 0,
      "outputs": []
    },
    {
      "cell_type": "code",
      "metadata": {
        "colab_type": "code",
        "id": "Bg0C_Xo0Aedy",
        "colab": {}
      },
      "source": [
        "model.load_weights('model_translate.h5')"
      ],
      "execution_count": 0,
      "outputs": []
    },
    {
      "cell_type": "markdown",
      "metadata": {
        "colab_type": "text",
        "id": "5MuBJTzQNTVn"
      },
      "source": [
        "# 5)-Inference Setup"
      ]
    },
    {
      "cell_type": "code",
      "metadata": {
        "colab_type": "code",
        "id": "DYLNM2LFNMAp",
        "colab": {}
      },
      "source": [
        "# Encode the input sequence to get the \"thought vectors\"\n",
        "encoder_model = Model(encoder_inputs, encoder_states)\n",
        "\n",
        "# Decoder setup\n",
        "# Below tensors will hold the states of the previous time step\n",
        "decoder_state_input_h = Input(shape=(latent_dim,))\n",
        "decoder_state_input_c = Input(shape=(latent_dim,))\n",
        "decoder_states_inputs = [decoder_state_input_h, decoder_state_input_c]\n",
        "\n",
        "dec_emb2= dec_emb_layer(decoder_inputs) # Get the embeddings of the decoder sequence\n",
        "\n",
        "# To predict the next word in the sequence, set the initial states to the states from the previous time step\n",
        "decoder_outputs2, state_h2, state_c2 = decoder_lstm(dec_emb2, initial_state=decoder_states_inputs)\n",
        "decoder_states2 = [state_h2, state_c2]\n",
        "decoder_outputs2 = decoder_dense(decoder_outputs2) # A dense softmax layer to generate prob dist. over the target vocabulary\n",
        "\n",
        "# Final decoder model\n",
        "decoder_model = Model(\n",
        "    [decoder_inputs] + decoder_states_inputs,\n",
        "    [decoder_outputs2] + decoder_states2)"
      ],
      "execution_count": 0,
      "outputs": []
    },
    {
      "cell_type": "markdown",
      "metadata": {
        "colab_type": "text",
        "id": "yp5DWmhDNaSX"
      },
      "source": [
        "# Decode sample sequeces"
      ]
    },
    {
      "cell_type": "code",
      "metadata": {
        "colab_type": "code",
        "id": "qZnHAo2KNX1R",
        "colab": {}
      },
      "source": [
        "def decode_sequence(input_seq):\n",
        "    # Encode the input as state vectors.\n",
        "    states_value = encoder_model.predict(input_seq)\n",
        "    # Generate empty target sequence of length 1.\n",
        "    target_seq = np.zeros((1,1))\n",
        "    \n",
        "    \n",
        "    # Populate the first character of target sequence with the start character.\n",
        "    target_seq[0, 0] = target_token_index['START_']\n",
        "  \n",
        "\n",
        "    # Sampling loop for a batch of sequences\n",
        "    # (to simplify, here we assume a batch of size 1).\n",
        "    stop_condition = False\n",
        "    decoded_sentence = ''\n",
        "    while not stop_condition:\n",
        "        output_tokens, h, c = decoder_model.predict([target_seq] + states_value)\n",
        "\n",
        "        # Sample a token\n",
        "        sampled_token_index = np.argmax(output_tokens[0, -1, :])\n",
        "        sampled_char = reverse_target_char_index[sampled_token_index]\n",
        "        decoded_sentence += ' '+sampled_char\n",
        "\n",
        "        # Exit condition: either hit max length\n",
        "        # or find stop character.\n",
        "        if (sampled_char == '_END' or\n",
        "           len(decoded_sentence) > 50):\n",
        "            stop_condition = True\n",
        "\n",
        "        # Update the target sequence (of length 1).\n",
        "        target_seq = np.zeros((1,1))\n",
        "        target_seq[0, 0] = sampled_token_index\n",
        "\n",
        "        # Update states\n",
        "        states_value = [h, c]\n",
        "\n",
        "    return decoded_sentence"
      ],
      "execution_count": 0,
      "outputs": []
    },
    {
      "cell_type": "markdown",
      "metadata": {
        "id": "B8e2hV8UO6N4",
        "colab_type": "text"
      },
      "source": [
        "# 6)-Evaluation on Train Dataset"
      ]
    },
    {
      "cell_type": "code",
      "metadata": {
        "id": "qpx3hWhKPAnQ",
        "colab_type": "code",
        "colab": {}
      },
      "source": [
        "train_gen = generate_batch(X_train, y_train, batch_size = 1)\n",
        "k=-1"
      ],
      "execution_count": 0,
      "outputs": []
    },
    {
      "cell_type": "code",
      "metadata": {
        "id": "yWEKT8VlPAr-",
        "colab_type": "code",
        "colab": {
          "base_uri": "https://localhost:8080/",
          "height": 67
        },
        "outputId": "26683909-5fb2-4fd7-baee-24b0aa53a5bb"
      },
      "source": [
        "k+=1\n",
        "(input_seq, actual_output), _ = next(train_gen)\n",
        "decoded_sentence = decode_sequence(input_seq)\n",
        "print('Input English sentence:', X_train[k:k+1].values[0])\n",
        "print('Actual German Translation:', y_train[k:k+1].values[0][6:-4])\n",
        "print('Predicted German Translation:', decoded_sentence[:-4])"
      ],
      "execution_count": 56,
      "outputs": [
        {
          "output_type": "stream",
          "text": [
            "Input English sentence: this zest for like already beams out of mr li he said flattering the host\n",
            "Actual German Translation:  diese lebensfreude strahle bereits herr li aus schmeichelte er dem gastgeber \n",
            "Predicted German Translation:  das cruise nach der zweiten spielte wurde und die flugh\n"
          ],
          "name": "stdout"
        }
      ]
    },
    {
      "cell_type": "code",
      "metadata": {
        "id": "RQj7xdiNPNyl",
        "colab_type": "code",
        "colab": {
          "base_uri": "https://localhost:8080/",
          "height": 67
        },
        "outputId": "7c4f4a42-8636-4ea3-a3d6-c4fd2c403c73"
      },
      "source": [
        "k+=1\n",
        "(input_seq, actual_output), _ = next(train_gen)\n",
        "decoded_sentence = decode_sequence(input_seq)\n",
        "print('Input English sentence:', X_train[k:k+1].values[0])\n",
        "print('Actual German Translation:', y_train[k:k+1].values[0][6:-4])\n",
        "print('Predicted German Translation:', decoded_sentence[:-4])"
      ],
      "execution_count": 57,
      "outputs": [
        {
          "output_type": "stream",
          "text": [
            "Input English sentence: pupils perched their bunsen burners on asbestos mats\n",
            "Actual German Translation:  schuler stellten ihre bunsenbrenner auf asbestmatten ab \n",
            "Predicted German Translation:  lenny und die nachmittag aus dem mutter aus \n"
          ],
          "name": "stdout"
        }
      ]
    },
    {
      "cell_type": "markdown",
      "metadata": {
        "colab_type": "text",
        "id": "2tpV8t7HOc8R"
      },
      "source": [
        "# 7)-Evaluation on Validation Dataset"
      ]
    },
    {
      "cell_type": "code",
      "metadata": {
        "colab_type": "code",
        "id": "Ew_6eBkXNhkm",
        "colab": {}
      },
      "source": [
        "val_gen = generate_batch(X_test, y_test, batch_size = 1)\n",
        "k=-1"
      ],
      "execution_count": 0,
      "outputs": []
    },
    {
      "cell_type": "code",
      "metadata": {
        "colab_type": "code",
        "id": "JAc4u_sbOgV8",
        "outputId": "3a94806c-5e9a-4373-bee4-634f55a33ffe",
        "colab": {
          "base_uri": "https://localhost:8080/",
          "height": 67
        }
      },
      "source": [
        "k+=1\n",
        "(input_seq, actual_output), _ = next(val_gen)\n",
        "decoded_sentence = decode_sequence(input_seq)\n",
        "print('Input English sentence:', X_test[k:k+1].values[0])\n",
        "print('Actual German Translation:', y_test[k:k+1].values[0][6:-4])\n",
        "print('Predicted German Translation:', decoded_sentence[:-4])"
      ],
      "execution_count": 59,
      "outputs": [
        {
          "output_type": "stream",
          "text": [
            "Input English sentence: if we are in real big trouble then i might consider it the twotime father told the magazine\n",
            "Actual German Translation:  wenn alle stricke reien bin ich immer gesprachsbereit erklarte der zweifache familienvater dem fachmagazin \n",
            "Predicted German Translation:  es ist es ist dass die menschen und die schule\n"
          ],
          "name": "stdout"
        }
      ]
    },
    {
      "cell_type": "markdown",
      "metadata": {
        "colab_type": "text",
        "id": "5WeQf2JVdyIz"
      },
      "source": [
        "# 8)- Plotting results"
      ]
    },
    {
      "cell_type": "code",
      "metadata": {
        "colab_type": "code",
        "id": "BzPN7jzAYFHZ",
        "outputId": "048b5665-19dc-4715-96ad-5e9797d3d5c2",
        "colab": {
          "base_uri": "https://localhost:8080/",
          "height": 294
        }
      },
      "source": [
        "plt.plot(history.history['loss']) \n",
        "plt.plot(history.history['val_loss']) \n",
        "plt.legend(['train','validation']) \n",
        "plt.suptitle('Results for Loss', fontsize=16)\n",
        "plt.show()"
      ],
      "execution_count": 53,
      "outputs": [
        {
          "output_type": "display_data",
          "data": {
            "image/png": "[encoded data removed]",
            "text/plain": [
              "<Figure size 432x288 with 1 Axes>"
            ]
          },
          "metadata": {
            "tags": []
          }
        }
      ]
    },
    {
      "cell_type": "code",
      "metadata": {
        "colab_type": "code",
        "id": "do0w2zjJd3M4",
        "outputId": "22a98cbd-4dc0-49cc-efd9-9fd5646b1b37",
        "colab": {
          "base_uri": "https://localhost:8080/",
          "height": 294
        }
      },
      "source": [
        "plt.plot(history.history['acc']) \n",
        "plt.plot(history.history['val_acc']) \n",
        "plt.legend(['train','validation']) \n",
        "plt.suptitle('Results for Accuracy', fontsize=16)\n",
        "plt.show()"
      ],
      "execution_count": 54,
      "outputs": [
        {
          "output_type": "display_data",
          "data": {
            "image/png": "[encoded data removed]",
            "text/plain": [
              "<Figure size 432x288 with 1 Axes>"
            ]
          },
          "metadata": {
            "tags": []
          }
        }
      ]
    }
  ]
}