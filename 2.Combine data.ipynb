{
 "cells": [
  {
   "cell_type": "markdown",
   "metadata": {
    "colab_type": "text",
    "id": "_t3V5W67K5zX"
   },
   "source": [
    "# Machine Translation\n",
    "\n"
   ]
  },
  {
   "cell_type": "markdown",
   "metadata": {
    "colab_type": "text",
    "id": "8Q5A1ySzLPrq"
   },
   "source": [
    "# 1)- Importing key modules"
   ]
  },
  {
   "cell_type": "code",
   "execution_count": 1,
   "metadata": {
    "colab": {},
    "colab_type": "code",
    "id": "dPBH2WUkKwz-"
   },
   "outputs": [],
   "source": [
    "#support both Python 2 and Python 3 with minimal overhead.\n",
    "from __future__ import absolute_import, division, print_function\n",
    "#ignore warnings\n",
    "import warnings\n",
    "warnings.filterwarnings('ignore')"
   ]
  },
  {
   "cell_type": "code",
   "execution_count": 2,
   "metadata": {},
   "outputs": [
    {
     "data": {
      "text/html": [
       "<style>body {\n",
       "    margin: 0;\n",
       "    font-family: Helvetica;\n",
       "}\n",
       "table.dataframe {\n",
       "    border-collapse: collapse;\n",
       "    border: none;\n",
       "}\n",
       "table.dataframe tr {\n",
       "    border: none;\n",
       "}\n",
       "table.dataframe td, table.dataframe th {\n",
       "    margin: 0;\n",
       "    border: 1px solid white;\n",
       "    padding-left: 0.25em;\n",
       "    padding-right: 0.25em;\n",
       "}\n",
       "table.dataframe th:not(:empty) {\n",
       "    background-color: #fec;\n",
       "    text-align: left;\n",
       "    font-weight: normal;\n",
       "}\n",
       "table.dataframe tr:nth-child(2) th:empty {\n",
       "    border-left: none;\n",
       "    border-right: 1px dashed #888;\n",
       "}\n",
       "table.dataframe td {\n",
       "    border: 2px solid #ccf;\n",
       "    background-color: #f4f4ff;\n",
       "}\n",
       "h3 {\n",
       "    color: white;\n",
       "    background-color: black;\n",
       "    padding: 0.5em;\n",
       "}\n",
       "</style>"
      ],
      "text/plain": [
       "<IPython.core.display.HTML object>"
      ]
     },
     "execution_count": 2,
     "metadata": {},
     "output_type": "execute_result"
    }
   ],
   "source": [
    "# What's life without style :). So, let's add style to our dataframes\n",
    "from IPython.core.display import HTML\n",
    "css = open('style-table.css').read() + open('style-notebook.css').read()\n",
    "HTML('<style>{}</style>'.format(css))"
   ]
  },
  {
   "cell_type": "code",
   "execution_count": 3,
   "metadata": {
    "colab": {},
    "colab_type": "code",
    "id": "zTJY_mj6K-LS"
   },
   "outputs": [],
   "source": [
    "import string \n",
    "from string import digits\n",
    "from collections import Counter\n",
    "import re \n",
    "from sklearn.utils import shuffle\n",
    "import pandas as pd \n",
    "from pickle import dump\n",
    "from pickle import load\n",
    "from unicodedata import normalize\n",
    "import matplotlib.pyplot as plt \n",
    "%matplotlib inline\n",
    "pd.set_option('display.max_colwidth', 200)"
   ]
  },
  {
   "cell_type": "code",
   "execution_count": 4,
   "metadata": {},
   "outputs": [
    {
     "data": {
      "application/json": {
       "Software versions": [
        {
         "module": "Python",
         "version": "3.6.3 64bit [MSC v.1900 64 bit (AMD64)]"
        },
        {
         "module": "IPython",
         "version": "7.4.0"
        },
        {
         "module": "OS",
         "version": "Windows 10 10.0.16299 SP0"
        },
        {
         "module": "pandas",
         "version": "0.23.4"
        },
        {
         "module": "re",
         "version": "2.2.1"
        },
        {
         "module": "sklearn",
         "version": "0.20.3"
        },
        {
         "module": "matplotlib",
         "version": "2.1.0"
        }
       ]
      },
      "text/html": [
       "<table><tr><th>Software</th><th>Version</th></tr><tr><td>Python</td><td>3.6.3 64bit [MSC v.1900 64 bit (AMD64)]</td></tr><tr><td>IPython</td><td>7.4.0</td></tr><tr><td>OS</td><td>Windows 10 10.0.16299 SP0</td></tr><tr><td>pandas</td><td>0.23.4</td></tr><tr><td>re</td><td>2.2.1</td></tr><tr><td>sklearn</td><td>0.20.3</td></tr><tr><td>matplotlib</td><td>2.1.0</td></tr><tr><td colspan='2'>Tue Sep 10 16:58:50 2019 W. Europe Daylight Time</td></tr></table>"
      ],
      "text/latex": [
       "\\begin{tabular}{|l|l|}\\hline\n",
       "{\\bf Software} & {\\bf Version} \\\\ \\hline\\hline\n",
       "Python & 3.6.3 64bit [MSC v.1900 64 bit (AMD64)] \\\\ \\hline\n",
       "IPython & 7.4.0 \\\\ \\hline\n",
       "OS & Windows 10 10.0.16299 SP0 \\\\ \\hline\n",
       "pandas & 0.23.4 \\\\ \\hline\n",
       "re & 2.2.1 \\\\ \\hline\n",
       "sklearn & 0.20.3 \\\\ \\hline\n",
       "matplotlib & 2.1.0 \\\\ \\hline\n",
       "\\hline \\multicolumn{2}{|l|}{Tue Sep 10 16:58:50 2019 W. Europe Daylight Time} \\\\ \\hline\n",
       "\\end{tabular}\n"
      ],
      "text/plain": [
       "Software versions\n",
       "Python 3.6.3 64bit [MSC v.1900 64 bit (AMD64)]\n",
       "IPython 7.4.0\n",
       "OS Windows 10 10.0.16299 SP0\n",
       "pandas 0.23.4\n",
       "re 2.2.1\n",
       "sklearn 0.20.3\n",
       "matplotlib 2.1.0\n",
       "Tue Sep 10 16:58:50 2019 W. Europe Daylight Time"
      ]
     },
     "execution_count": 4,
     "metadata": {},
     "output_type": "execute_result"
    }
   ],
   "source": [
    "# first install: pip install version_information\n",
    "%reload_ext version_information\n",
    "%version_information pandas,re,sklearn, matplotlib"
   ]
  },
  {
   "cell_type": "markdown",
   "metadata": {
    "colab_type": "text",
    "id": "5-X0sC5fLS7a"
   },
   "source": [
    "# 2)- Loading data\n",
    "\n",
    "We have data from 2009 to 2016."
   ]
  },
  {
   "cell_type": "code",
   "execution_count": 5,
   "metadata": {
    "colab": {},
    "colab_type": "code",
    "id": "tFpuPSdKLEtJ"
   },
   "outputs": [],
   "source": [
    "# load doc into memory\n",
    "def load_doc(filename):\n",
    "    # open the file as read only\n",
    "    file = open(filename, mode='rt', encoding='utf-8')\n",
    "    # read all text\n",
    "    text = file.read()\n",
    "    # close the file\n",
    "    file.close()\n",
    "    return text"
   ]
  },
  {
   "cell_type": "code",
   "execution_count": 6,
   "metadata": {
    "colab": {},
    "colab_type": "code",
    "id": "3QpycswrLlaU"
   },
   "outputs": [],
   "source": [
    "# split a loaded document into sentences\n",
    "def to_sentences(doc):\n",
    "    return doc.strip().split('\\n')"
   ]
  },
  {
   "cell_type": "code",
   "execution_count": 7,
   "metadata": {
    "colab": {},
    "colab_type": "code",
    "id": "GMLe1Lk5LnAV"
   },
   "outputs": [],
   "source": [
    "# shortest and longest sentence lengths\n",
    "def sentence_lengths(sentences):\n",
    "    lengths = [len(s.split()) for s in sentences]\n",
    "    return min(lengths), max(lengths)"
   ]
  },
  {
   "cell_type": "markdown",
   "metadata": {
    "colab_type": "text",
    "id": "lkrmOs7-L0X0"
   },
   "source": [
    "### 2.1)- For year 2009"
   ]
  },
  {
   "cell_type": "code",
   "execution_count": 8,
   "metadata": {
    "colab": {
     "base_uri": "https://localhost:8080/",
     "height": 50
    },
    "colab_type": "code",
    "id": "Xg8f11ToLpnc",
    "outputId": "311de7c7-f649-42f0-8cd9-ec431b5807f4"
   },
   "outputs": [
    {
     "name": "stdout",
     "output_type": "stream",
     "text": [
      "English data: sentences=2525, min=1, max=108\n",
      "German data: sentences=2525, min=1, max=110\n"
     ]
    }
   ],
   "source": [
    "# load English data\n",
    "filename = 'newstest2009.en'\n",
    "doc = load_doc(filename)\n",
    "sentences = to_sentences(doc)\n",
    "minlen, maxlen = sentence_lengths(sentences)\n",
    "print('English data: sentences=%d, min=%d, max=%d' % (len(sentences), minlen, maxlen))\n",
    "\n",
    "# load French data\n",
    "filename = 'newstest2009.de'\n",
    "doc = load_doc(filename)\n",
    "sentences = to_sentences(doc)\n",
    "minlen, maxlen = sentence_lengths(sentences)\n",
    "print('German data: sentences=%d, min=%d, max=%d' % (len(sentences), minlen, maxlen))"
   ]
  },
  {
   "cell_type": "markdown",
   "metadata": {
    "colab_type": "text",
    "id": "SQmRuUHGL74N"
   },
   "source": [
    "It is important to notice that sentence length is same. So, we have a balanced data.\n",
    "\n",
    "We shall check this on all years"
   ]
  },
  {
   "cell_type": "markdown",
   "metadata": {
    "colab_type": "text",
    "id": "lr3hYKrBMGtQ"
   },
   "source": [
    "### 2.2)-For 2010"
   ]
  },
  {
   "cell_type": "code",
   "execution_count": 9,
   "metadata": {
    "colab": {
     "base_uri": "https://localhost:8080/",
     "height": 50
    },
    "colab_type": "code",
    "id": "bF2HZBV-LycJ",
    "outputId": "acdf8664-6604-4301-8d9d-ba390eaf4347"
   },
   "outputs": [
    {
     "name": "stdout",
     "output_type": "stream",
     "text": [
      "English data: sentences=2489, min=1, max=74\n",
      "German data: sentences=2489, min=1, max=86\n"
     ]
    }
   ],
   "source": [
    "# load English data\n",
    "filename = 'newstest2010.en'\n",
    "doc = load_doc(filename)\n",
    "sentences = to_sentences(doc)\n",
    "minlen, maxlen = sentence_lengths(sentences)\n",
    "print('English data: sentences=%d, min=%d, max=%d' % (len(sentences), minlen, maxlen))\n",
    "\n",
    "# load French data\n",
    "filename = 'newstest2010.de'\n",
    "doc = load_doc(filename)\n",
    "sentences = to_sentences(doc)\n",
    "minlen, maxlen = sentence_lengths(sentences)\n",
    "print('German data: sentences=%d, min=%d, max=%d' % (len(sentences), minlen, maxlen))"
   ]
  },
  {
   "cell_type": "markdown",
   "metadata": {
    "colab_type": "text",
    "id": "xFaKT4WENIA0"
   },
   "source": [
    "### 2.3)-For year 2011"
   ]
  },
  {
   "cell_type": "code",
   "execution_count": 10,
   "metadata": {
    "colab": {
     "base_uri": "https://localhost:8080/",
     "height": 50
    },
    "colab_type": "code",
    "id": "OFdlOFxaM8GF",
    "outputId": "36ee1165-5d13-4dab-84dc-23b0f15cf953"
   },
   "outputs": [
    {
     "name": "stdout",
     "output_type": "stream",
     "text": [
      "English data: sentences=3003, min=1, max=93\n",
      "German data: sentences=3003, min=1, max=92\n"
     ]
    }
   ],
   "source": [
    "# load English data\n",
    "filename = 'newstest2011.en'\n",
    "doc = load_doc(filename)\n",
    "sentences = to_sentences(doc)\n",
    "minlen, maxlen = sentence_lengths(sentences)\n",
    "print('English data: sentences=%d, min=%d, max=%d' % (len(sentences), minlen, maxlen))\n",
    "\n",
    "# load French data\n",
    "filename = 'newstest2011.de'\n",
    "doc = load_doc(filename)\n",
    "sentences = to_sentences(doc)\n",
    "minlen, maxlen = sentence_lengths(sentences)\n",
    "print('German data: sentences=%d, min=%d, max=%d' % (len(sentences), minlen, maxlen))"
   ]
  },
  {
   "cell_type": "markdown",
   "metadata": {
    "colab_type": "text",
    "id": "H-iKcf42NQl9"
   },
   "source": [
    "### 2.4)-For year 2012"
   ]
  },
  {
   "cell_type": "code",
   "execution_count": 11,
   "metadata": {
    "colab": {
     "base_uri": "https://localhost:8080/",
     "height": 50
    },
    "colab_type": "code",
    "id": "T6YRzm6yNO12",
    "outputId": "9b944f1f-774e-458a-9039-0ccffa67ab29"
   },
   "outputs": [
    {
     "name": "stdout",
     "output_type": "stream",
     "text": [
      "English data: sentences=3003, min=1, max=114\n",
      "German data: sentences=3003, min=1, max=101\n"
     ]
    }
   ],
   "source": [
    "# load English data\n",
    "filename = 'newstest2012.en'\n",
    "doc = load_doc(filename)\n",
    "sentences = to_sentences(doc)\n",
    "minlen, maxlen = sentence_lengths(sentences)\n",
    "print('English data: sentences=%d, min=%d, max=%d' % (len(sentences), minlen, maxlen))\n",
    "\n",
    "# load French data\n",
    "filename = 'newstest2012.de'\n",
    "doc = load_doc(filename)\n",
    "sentences = to_sentences(doc)\n",
    "minlen, maxlen = sentence_lengths(sentences)\n",
    "print('German data: sentences=%d, min=%d, max=%d' % (len(sentences), minlen, maxlen))"
   ]
  },
  {
   "cell_type": "markdown",
   "metadata": {
    "colab_type": "text",
    "id": "4624P_5XNUCW"
   },
   "source": [
    "### 2.5)-For year 2013"
   ]
  },
  {
   "cell_type": "code",
   "execution_count": 12,
   "metadata": {
    "colab": {
     "base_uri": "https://localhost:8080/",
     "height": 50
    },
    "colab_type": "code",
    "id": "6pqUQn_dNW8B",
    "outputId": "b7324f03-847e-44b7-9548-e0a01f752c87"
   },
   "outputs": [
    {
     "name": "stdout",
     "output_type": "stream",
     "text": [
      "English data: sentences=3000, min=1, max=82\n",
      "German data: sentences=3000, min=1, max=85\n"
     ]
    }
   ],
   "source": [
    "# load English data\n",
    "filename = 'newstest2013.en'\n",
    "doc = load_doc(filename)\n",
    "sentences = to_sentences(doc)\n",
    "minlen, maxlen = sentence_lengths(sentences)\n",
    "print('English data: sentences=%d, min=%d, max=%d' % (len(sentences), minlen, maxlen))\n",
    "\n",
    "# load French data\n",
    "filename = 'newstest2013.de'\n",
    "doc = load_doc(filename)\n",
    "sentences = to_sentences(doc)\n",
    "minlen, maxlen = sentence_lengths(sentences)\n",
    "print('German data: sentences=%d, min=%d, max=%d' % (len(sentences), minlen, maxlen))"
   ]
  },
  {
   "cell_type": "markdown",
   "metadata": {
    "colab_type": "text",
    "id": "5ROs3kgYNXzl"
   },
   "source": [
    "### 2.6)-For year 2014"
   ]
  },
  {
   "cell_type": "code",
   "execution_count": 13,
   "metadata": {
    "colab": {
     "base_uri": "https://localhost:8080/",
     "height": 50
    },
    "colab_type": "code",
    "id": "ZlS9fS1ANcTU",
    "outputId": "b6621ab2-a139-465e-96ce-f3f0fe6040bc"
   },
   "outputs": [
    {
     "name": "stdout",
     "output_type": "stream",
     "text": [
      "English data: sentences=3003, min=1, max=68\n",
      "German data: sentences=3003, min=1, max=64\n"
     ]
    }
   ],
   "source": [
    "# load English data\n",
    "filename = 'newstest2014.en'\n",
    "doc = load_doc(filename)\n",
    "sentences = to_sentences(doc)\n",
    "minlen, maxlen = sentence_lengths(sentences)\n",
    "print('English data: sentences=%d, min=%d, max=%d' % (len(sentences), minlen, maxlen))\n",
    "\n",
    "# load French data\n",
    "filename = 'newstest2014.de'\n",
    "doc = load_doc(filename)\n",
    "sentences = to_sentences(doc)\n",
    "minlen, maxlen = sentence_lengths(sentences)\n",
    "print('German data: sentences=%d, min=%d, max=%d' % (len(sentences), minlen, maxlen))"
   ]
  },
  {
   "cell_type": "markdown",
   "metadata": {
    "colab_type": "text",
    "id": "_By95YGUOKjP"
   },
   "source": [
    "### 2.7)- For year 2015"
   ]
  },
  {
   "cell_type": "code",
   "execution_count": 14,
   "metadata": {
    "colab": {
     "base_uri": "https://localhost:8080/",
     "height": 50
    },
    "colab_type": "code",
    "id": "Id289Xi1ONBv",
    "outputId": "d7d9604d-c494-4b87-b9c8-47cc10ba9d87"
   },
   "outputs": [
    {
     "name": "stdout",
     "output_type": "stream",
     "text": [
      "English data: sentences=2169, min=1, max=71\n",
      "German data: sentences=2169, min=1, max=72\n"
     ]
    }
   ],
   "source": [
    "# load English data\n",
    "filename = 'newstest2015.en'\n",
    "doc = load_doc(filename)\n",
    "sentences = to_sentences(doc)\n",
    "minlen, maxlen = sentence_lengths(sentences)\n",
    "print('English data: sentences=%d, min=%d, max=%d' % (len(sentences), minlen, maxlen))\n",
    "\n",
    "# load French data\n",
    "filename = 'newstest2015.de'\n",
    "doc = load_doc(filename)\n",
    "sentences = to_sentences(doc)\n",
    "minlen, maxlen = sentence_lengths(sentences)\n",
    "print('German data: sentences=%d, min=%d, max=%d' % (len(sentences), minlen, maxlen))"
   ]
  },
  {
   "cell_type": "markdown",
   "metadata": {
    "colab_type": "text",
    "id": "VzgjV6OjON2G"
   },
   "source": [
    "### For year 2016"
   ]
  },
  {
   "cell_type": "code",
   "execution_count": 15,
   "metadata": {
    "colab": {
     "base_uri": "https://localhost:8080/",
     "height": 50
    },
    "colab_type": "code",
    "id": "z2fUwxLLOQFR",
    "outputId": "53495f34-d4a9-4c63-a113-e531e115c426"
   },
   "outputs": [
    {
     "name": "stdout",
     "output_type": "stream",
     "text": [
      "English data: sentences=2999, min=1, max=83\n",
      "German data: sentences=2999, min=1, max=88\n"
     ]
    }
   ],
   "source": [
    "# load English data\n",
    "filename = 'newstest2016.en'\n",
    "doc = load_doc(filename)\n",
    "sentences = to_sentences(doc)\n",
    "minlen, maxlen = sentence_lengths(sentences)\n",
    "print('English data: sentences=%d, min=%d, max=%d' % (len(sentences), minlen, maxlen))\n",
    "\n",
    "# load French data\n",
    "filename = 'newstest2016.de'\n",
    "doc = load_doc(filename)\n",
    "sentences = to_sentences(doc)\n",
    "minlen, maxlen = sentence_lengths(sentences)\n",
    "print('German data: sentences=%d, min=%d, max=%d' % (len(sentences), minlen, maxlen))"
   ]
  },
  {
   "cell_type": "markdown",
   "metadata": {
    "colab_type": "text",
    "id": "4Jlgba1dOkje"
   },
   "source": [
    "**All datasets have balanced sentences for English and German version**"
   ]
  },
  {
   "cell_type": "markdown",
   "metadata": {
    "colab_type": "text",
    "id": "JgBlgGqVbzTM"
   },
   "source": [
    "# 2)- Combine Files\n",
    "\n",
    "- We can do this whole process on each file and then use one dataset pair for modeling i.e German 2015, English 2015.\n",
    "\n",
    "- Or we can combine all these files and then apply these above discussed preprocessing methods on combined data. \n",
    "\n",
    "-  We may end up with a huge data so, we need to use random sample of data to train our model.\n",
    "\n",
    "- Finally, I personally like to work with dataframes and like to see files as form of matrix or vector. So, I will convert these files into dataframes then combine both English and German translation parts in rows and columns. So, they look agreeable to me. "
   ]
  },
  {
   "cell_type": "code",
   "execution_count": 16,
   "metadata": {},
   "outputs": [
    {
     "data": {
      "text/plain": [
       "(2424, 1)"
      ]
     },
     "execution_count": 16,
     "metadata": {},
     "output_type": "execute_result"
    }
   ],
   "source": [
    "df_en_2009= pd.read_csv('newstest2009.en', encoding='utf-8', names=['eng'])\n",
    "df_en_2009.shape"
   ]
  },
  {
   "cell_type": "code",
   "execution_count": 17,
   "metadata": {},
   "outputs": [
    {
     "data": {
      "text/plain": [
       "(2394, 1)"
      ]
     },
     "execution_count": 17,
     "metadata": {},
     "output_type": "execute_result"
    }
   ],
   "source": [
    "df_ger_2009= pd.read_csv('newstest2009.de',encoding='utf-8', names=['ger'])\n",
    "df_ger_2009.shape"
   ]
  },
  {
   "cell_type": "code",
   "execution_count": 18,
   "metadata": {},
   "outputs": [
    {
     "name": "stdout",
     "output_type": "stream",
     "text": [
      "English data: sentences=2525, min=1, max=108\n",
      "German data: sentences=2525, min=1, max=110\n"
     ]
    }
   ],
   "source": [
    "# load English data\n",
    "filename = 'newstest2009.en'\n",
    "doc = load_doc(filename)\n",
    "sentences = to_sentences(doc)\n",
    "minlen, maxlen = sentence_lengths(sentences)\n",
    "print('English data: sentences=%d, min=%d, max=%d' % (len(sentences), minlen, maxlen))\n",
    "\n",
    "# load French data\n",
    "filename = 'newstest2009.de'\n",
    "doc = load_doc(filename)\n",
    "sentences = to_sentences(doc)\n",
    "minlen, maxlen = sentence_lengths(sentences)\n",
    "print('German data: sentences=%d, min=%d, max=%d' % (len(sentences), minlen, maxlen))"
   ]
  },
  {
   "cell_type": "markdown",
   "metadata": {},
   "source": [
    "# Note\n",
    "\n",
    "In our pandas reading method, we have an issue. we do not have same lengths. After inspection, I found that **Unicode Character 'NEXT LINE (NEL)' (U+0085)** issue in our german file. I first tried to use replace() function so that I may change these unicode characters with \\n. I got more sentences than I wanted.So, I went to my old friend stackoverflow who told me \"csv.QUOTE_NONE\" solution\n",
    "\n",
    "https://stackoverflow.com/questions/51859373/python-pandas-misses-some-end-of-line-characters-while-loading-csv-file"
   ]
  },
  {
   "cell_type": "code",
   "execution_count": 19,
   "metadata": {},
   "outputs": [
    {
     "data": {
      "text/plain": [
       "\"\\n\\n\\nif __name__ == '__main__':\\n    with open('newstest2009.de', 'rt', encoding='utf8') as r,          open('newstest2009.de.fix', 'wt', encoding='utf8') as w:\\n        for line in r:\\n            if line == '':\\n                break\\n            line = line.replace('\\x85', '')\\n            w.write(line)\\n            \\n            \\n\""
      ]
     },
     "execution_count": 19,
     "metadata": {},
     "output_type": "execute_result"
    }
   ],
   "source": [
    "# my own home made idea\n",
    "\"\"\"\n",
    "\n",
    "\n",
    "if __name__ == '__main__':\n",
    "    with open('newstest2009.de', 'rt', encoding='utf8') as r, \\\n",
    "         open('newstest2009.de.fix', 'wt', encoding='utf8') as w:\n",
    "        for line in r:\n",
    "            if line == '':\n",
    "                break\n",
    "            line = line.replace('\\u0085', '')\n",
    "            w.write(line)\n",
    "            \n",
    "            \n",
    "\"\"\""
   ]
  },
  {
   "cell_type": "code",
   "execution_count": 20,
   "metadata": {},
   "outputs": [
    {
     "data": {
      "text/plain": [
       "(2525, 1)"
      ]
     },
     "execution_count": 20,
     "metadata": {},
     "output_type": "execute_result"
    }
   ],
   "source": [
    "import csv\n",
    "df_en_2009= pd.read_csv('newstest2009.en', encoding='utf-8',quoting = csv.QUOTE_NONE, names=['eng'])\n",
    "df_en_2009.shape"
   ]
  },
  {
   "cell_type": "code",
   "execution_count": 21,
   "metadata": {},
   "outputs": [
    {
     "data": {
      "text/plain": [
       "(2525, 1)"
      ]
     },
     "execution_count": 21,
     "metadata": {},
     "output_type": "execute_result"
    }
   ],
   "source": [
    "df_ger_2009= pd.read_csv('newstest2009.de',encoding='utf-8',quoting = csv.QUOTE_NONE, names=['ger'])\n",
    "df_ger_2009.shape"
   ]
  },
  {
   "cell_type": "markdown",
   "metadata": {},
   "source": [
    "**Perfect. Problem solved**"
   ]
  },
  {
   "cell_type": "markdown",
   "metadata": {},
   "source": [
    "### Combine english and german version"
   ]
  },
  {
   "cell_type": "code",
   "execution_count": 22,
   "metadata": {},
   "outputs": [
    {
     "data": {
      "text/plain": [
       "(2525, 2)"
      ]
     },
     "execution_count": 22,
     "metadata": {},
     "output_type": "execute_result"
    }
   ],
   "source": [
    "df_combine_2009=pd.concat([df_en_2009, df_ger_2009], axis=1, join='inner') # to adjust automatically row labels i.e index\n",
    "df_combine_2009.shape"
   ]
  },
  {
   "cell_type": "code",
   "execution_count": 23,
   "metadata": {},
   "outputs": [
    {
     "data": {
      "text/html": [
       "<div>\n",
       "<style scoped>\n",
       "    .dataframe tbody tr th:only-of-type {\n",
       "        vertical-align: middle;\n",
       "    }\n",
       "\n",
       "    .dataframe tbody tr th {\n",
       "        vertical-align: top;\n",
       "    }\n",
       "\n",
       "    .dataframe thead th {\n",
       "        text-align: right;\n",
       "    }\n",
       "</style>\n",
       "<table border=\"1\" class=\"dataframe\">\n",
       "  <thead>\n",
       "    <tr style=\"text-align: right;\">\n",
       "      <th></th>\n",
       "      <th>eng</th>\n",
       "      <th>ger</th>\n",
       "    </tr>\n",
       "  </thead>\n",
       "  <tbody>\n",
       "    <tr>\n",
       "      <th>0</th>\n",
       "      <td>Prague Stock Market falls to minus by the end of the trading day</td>\n",
       "      <td>Die Prager Börse stürzt gegen Geschäftsschluss ins Minus.</td>\n",
       "    </tr>\n",
       "    <tr>\n",
       "      <th>1</th>\n",
       "      <td>After a sharp drop in the morning</td>\n",
       "      <td>Nach dem steilen Abfall am Morgen konnte die Prager Börse die Verluste korrigieren.</td>\n",
       "    </tr>\n",
       "    <tr>\n",
       "      <th>2</th>\n",
       "      <td>Transactions with stocks from the Czech Energy Enterprise (ČEZ) reached nearly half of the regular daily trading.</td>\n",
       "      <td>Die Transaktionen mit den Aktien von ČEZ erreichten fast die Hälfte des normalen Tagesgeschäfts.</td>\n",
       "    </tr>\n",
       "  </tbody>\n",
       "</table>\n",
       "</div>"
      ],
      "text/plain": [
       "                                                                                                                 eng  \\\n",
       "0                                                   Prague Stock Market falls to minus by the end of the trading day   \n",
       "1                                                                                  After a sharp drop in the morning   \n",
       "2  Transactions with stocks from the Czech Energy Enterprise (ČEZ) reached nearly half of the regular daily trading.   \n",
       "\n",
       "                                                                                                ger  \n",
       "0                                         Die Prager Börse stürzt gegen Geschäftsschluss ins Minus.  \n",
       "1               Nach dem steilen Abfall am Morgen konnte die Prager Börse die Verluste korrigieren.  \n",
       "2  Die Transaktionen mit den Aktien von ČEZ erreichten fast die Hälfte des normalen Tagesgeschäfts.  "
      ]
     },
     "execution_count": 23,
     "metadata": {},
     "output_type": "execute_result"
    }
   ],
   "source": [
    "df_combine_2009.head(3)"
   ]
  },
  {
   "cell_type": "code",
   "execution_count": 24,
   "metadata": {},
   "outputs": [
    {
     "data": {
      "text/html": [
       "<div>\n",
       "<style scoped>\n",
       "    .dataframe tbody tr th:only-of-type {\n",
       "        vertical-align: middle;\n",
       "    }\n",
       "\n",
       "    .dataframe tbody tr th {\n",
       "        vertical-align: top;\n",
       "    }\n",
       "\n",
       "    .dataframe thead th {\n",
       "        text-align: right;\n",
       "    }\n",
       "</style>\n",
       "<table border=\"1\" class=\"dataframe\">\n",
       "  <thead>\n",
       "    <tr style=\"text-align: right;\">\n",
       "      <th></th>\n",
       "      <th>eng</th>\n",
       "      <th>ger</th>\n",
       "    </tr>\n",
       "  </thead>\n",
       "  <tbody>\n",
       "    <tr>\n",
       "      <th>2520</th>\n",
       "      <td>Verdant has said that it has a long list of clients waiting for the necessary authorisations to benefit from the energy.</td>\n",
       "      <td>Laut Verdant wartet bereits eine lange Schlange von möglichen Klienten auf die nötigen Autorisierungen um diese Energiequellen zu nutzen.</td>\n",
       "    </tr>\n",
       "    <tr>\n",
       "      <th>2521</th>\n",
       "      <td>After the waves</td>\n",
       "      <td>Erst die Wellen</td>\n",
       "    </tr>\n",
       "    <tr>\n",
       "      <th>2522</th>\n",
       "      <td>Particular interest</td>\n",
       "      <td>Ein besonderes Interesse verdient laut dem Institut für Stromgewinnungsforschung augenblicklich das Potenzial</td>\n",
       "    </tr>\n",
       "    <tr>\n",
       "      <th>2523</th>\n",
       "      <td>Even though it is an intermittent phenomenon</td>\n",
       "      <td>Wenngleich es sich auch um ein unregelmäßiges Phänomen handelt</td>\n",
       "    </tr>\n",
       "    <tr>\n",
       "      <th>2524</th>\n",
       "      <td>It's exactly on tidal energy that states such as New York</td>\n",
       "      <td>Gerade die Gezeitenenergie ist es</td>\n",
       "    </tr>\n",
       "  </tbody>\n",
       "</table>\n",
       "</div>"
      ],
      "text/plain": [
       "                                                                                                                           eng  \\\n",
       "2520  Verdant has said that it has a long list of clients waiting for the necessary authorisations to benefit from the energy.   \n",
       "2521                                                                                                           After the waves   \n",
       "2522                                                                                                       Particular interest   \n",
       "2523                                                                              Even though it is an intermittent phenomenon   \n",
       "2524                                                                 It's exactly on tidal energy that states such as New York   \n",
       "\n",
       "                                                                                                                                            ger  \n",
       "2520  Laut Verdant wartet bereits eine lange Schlange von möglichen Klienten auf die nötigen Autorisierungen um diese Energiequellen zu nutzen.  \n",
       "2521                                                                                                                            Erst die Wellen  \n",
       "2522                              Ein besonderes Interesse verdient laut dem Institut für Stromgewinnungsforschung augenblicklich das Potenzial  \n",
       "2523                                                                             Wenngleich es sich auch um ein unregelmäßiges Phänomen handelt  \n",
       "2524                                                                                                          Gerade die Gezeitenenergie ist es  "
      ]
     },
     "execution_count": 24,
     "metadata": {},
     "output_type": "execute_result"
    }
   ],
   "source": [
    "df_combine_2009.tail(5)"
   ]
  },
  {
   "cell_type": "markdown",
   "metadata": {
    "colab_type": "text",
    "id": "8PZ0-Hl_f34A"
   },
   "source": [
    "**Here we have combined one file. Let's us combine all of dataset in form of dataframes with columns (showing german and english lang text) and rows.**"
   ]
  },
  {
   "cell_type": "markdown",
   "metadata": {
    "colab_type": "text",
    "id": "hxCTGM5LhE63"
   },
   "source": [
    "### 5a)- Combine all english version"
   ]
  },
  {
   "cell_type": "code",
   "execution_count": 25,
   "metadata": {
    "colab": {},
    "colab_type": "code",
    "id": "clJSlSUDfw6K"
   },
   "outputs": [],
   "source": [
    "df_en_2010= pd.read_table('newstest2010.en', encoding='utf-8',quoting = csv.QUOTE_NONE, names=['eng'])\n",
    "df_en_2011= pd.read_table('newstest2011.en', encoding='utf-8',quoting = csv.QUOTE_NONE, names=['eng'])\n",
    "df_en_2012= pd.read_table('newstest2012.en', encoding='utf-8',quoting = csv.QUOTE_NONE, names=['eng'])\n",
    "df_en_2013= pd.read_table('newstest2013.en', encoding='utf-8',quoting = csv.QUOTE_NONE, names=['eng'])\n",
    "df_en_2014= pd.read_table('newstest2014.en', encoding='utf-8',quoting = csv.QUOTE_NONE, names=['eng'])\n",
    "df_en_2015= pd.read_table('newstest2015.en', encoding='utf-8',quoting = csv.QUOTE_NONE, names=['eng'])\n",
    "df_en_2016= pd.read_table('newstest2016.en', encoding='utf-8',quoting = csv.QUOTE_NONE, names=['eng'])"
   ]
  },
  {
   "cell_type": "code",
   "execution_count": 26,
   "metadata": {},
   "outputs": [
    {
     "name": "stdout",
     "output_type": "stream",
     "text": [
      "shape of 2010 English data (2489, 1)\n",
      "shape of 2011 English data (3003, 1)\n",
      "shape of 2012 English data (3003, 1)\n",
      "shape of 2013 English data (3000, 1)\n",
      "shape of 2014 English data (3003, 1)\n",
      "shape of 2015 English data (2169, 1)\n",
      "shape of 2016 English data (2999, 1)\n"
     ]
    }
   ],
   "source": [
    "print(\"shape of 2010 English data\", df_en_2010.shape)\n",
    "print(\"shape of 2011 English data\",df_en_2011.shape)\n",
    "print(\"shape of 2012 English data\",df_en_2012.shape)\n",
    "print(\"shape of 2013 English data\",df_en_2013.shape)\n",
    "print(\"shape of 2014 English data\",df_en_2014.shape)\n",
    "print(\"shape of 2015 English data\",df_en_2015.shape)\n",
    "print(\"shape of 2016 English data\",df_en_2016.shape)"
   ]
  },
  {
   "cell_type": "code",
   "execution_count": 27,
   "metadata": {
    "colab": {},
    "colab_type": "code",
    "id": "S1YKFO2foQOA"
   },
   "outputs": [],
   "source": [
    "df_eng_all=pd.concat([df_en_2009,df_en_2010,df_en_2011,df_en_2012,df_en_2013,df_en_2014,df_en_2015,df_en_2016], ignore_index=True)"
   ]
  },
  {
   "cell_type": "code",
   "execution_count": 28,
   "metadata": {
    "colab": {
     "base_uri": "https://localhost:8080/",
     "height": 195
    },
    "colab_type": "code",
    "id": "a97y6Cv-ohgO",
    "outputId": "53a3c37a-094a-47d4-dbf1-3d634d9d0151"
   },
   "outputs": [
    {
     "data": {
      "text/html": [
       "<div>\n",
       "<style scoped>\n",
       "    .dataframe tbody tr th:only-of-type {\n",
       "        vertical-align: middle;\n",
       "    }\n",
       "\n",
       "    .dataframe tbody tr th {\n",
       "        vertical-align: top;\n",
       "    }\n",
       "\n",
       "    .dataframe thead th {\n",
       "        text-align: right;\n",
       "    }\n",
       "</style>\n",
       "<table border=\"1\" class=\"dataframe\">\n",
       "  <thead>\n",
       "    <tr style=\"text-align: right;\">\n",
       "      <th></th>\n",
       "      <th>eng</th>\n",
       "    </tr>\n",
       "  </thead>\n",
       "  <tbody>\n",
       "    <tr>\n",
       "      <th>0</th>\n",
       "      <td>Prague Stock Market falls to minus by the end of the trading day</td>\n",
       "    </tr>\n",
       "    <tr>\n",
       "      <th>1</th>\n",
       "      <td>After a sharp drop in the morning</td>\n",
       "    </tr>\n",
       "    <tr>\n",
       "      <th>2</th>\n",
       "      <td>Transactions with stocks from the Czech Energy Enterprise (ČEZ) reached nearly half of the regular daily trading.</td>\n",
       "    </tr>\n",
       "    <tr>\n",
       "      <th>3</th>\n",
       "      <td>The Prague Stock Market immediately continued its fall from Monday at the beginning of Tuesday's trading</td>\n",
       "    </tr>\n",
       "    <tr>\n",
       "      <th>4</th>\n",
       "      <td>This time the fall in stocks on Wall Street is responsible for the drop.</td>\n",
       "    </tr>\n",
       "  </tbody>\n",
       "</table>\n",
       "</div>"
      ],
      "text/plain": [
       "                                                                                                                 eng\n",
       "0                                                   Prague Stock Market falls to minus by the end of the trading day\n",
       "1                                                                                  After a sharp drop in the morning\n",
       "2  Transactions with stocks from the Czech Energy Enterprise (ČEZ) reached nearly half of the regular daily trading.\n",
       "3           The Prague Stock Market immediately continued its fall from Monday at the beginning of Tuesday's trading\n",
       "4                                           This time the fall in stocks on Wall Street is responsible for the drop."
      ]
     },
     "execution_count": 28,
     "metadata": {},
     "output_type": "execute_result"
    }
   ],
   "source": [
    "df_eng_all.head()"
   ]
  },
  {
   "cell_type": "code",
   "execution_count": 29,
   "metadata": {},
   "outputs": [
    {
     "name": "stdout",
     "output_type": "stream",
     "text": [
      "shape of combined English version is (22191, 1)\n"
     ]
    }
   ],
   "source": [
    "print(\"shape of combined English version is\", df_eng_all.shape)"
   ]
  },
  {
   "cell_type": "markdown",
   "metadata": {
    "colab_type": "text",
    "id": "9Ws-YxkolvK-"
   },
   "source": [
    "### 5b)- Combine all German version"
   ]
  },
  {
   "cell_type": "code",
   "execution_count": 30,
   "metadata": {
    "colab": {},
    "colab_type": "code",
    "id": "UiqEnEqPjF7z"
   },
   "outputs": [],
   "source": [
    "# reading German data\n",
    "df_ger_2010= pd.read_table('newstest2010.de', encoding='utf-8', quoting = csv.QUOTE_NONE , names=['ger'])\n",
    "df_ger_2011= pd.read_table('newstest2011.de', encoding='utf-8', quoting = csv.QUOTE_NONE , names=['ger'])\n",
    "df_ger_2012= pd.read_table('newstest2012.de', encoding='utf-8', quoting = csv.QUOTE_NONE , names=['ger'])\n",
    "df_ger_2013= pd.read_table('newstest2013.de', encoding='utf-8', quoting = csv.QUOTE_NONE , names=['ger'])\n",
    "df_ger_2014= pd.read_table('newstest2014.de', encoding='utf-8', quoting = csv.QUOTE_NONE , names=['ger'])\n",
    "df_ger_2015= pd.read_table('newstest2015.de', encoding='utf-8', quoting = csv.QUOTE_NONE , names=['ger'])\n",
    "df_ger_2016= pd.read_table('newstest2016.de', encoding='utf-8', quoting = csv.QUOTE_NONE , names=['ger'])"
   ]
  },
  {
   "cell_type": "code",
   "execution_count": 31,
   "metadata": {},
   "outputs": [
    {
     "name": "stdout",
     "output_type": "stream",
     "text": [
      "shape of 2010 German data (2489, 1)\n",
      "shape of 2011 German data (3003, 1)\n",
      "shape of 2012 German data (3003, 1)\n",
      "shape of 2013 German data (3000, 1)\n",
      "shape of 2014 German data (3003, 1)\n",
      "shape of 2015 German data (2169, 1)\n",
      "shape of 2016 German data (2999, 1)\n"
     ]
    }
   ],
   "source": [
    "print(\"shape of 2010 German data\",df_ger_2010.shape)\n",
    "print(\"shape of 2011 German data\",df_ger_2011.shape)\n",
    "print(\"shape of 2012 German data\",df_ger_2012.shape)\n",
    "print(\"shape of 2013 German data\",df_ger_2013.shape)\n",
    "print(\"shape of 2014 German data\",df_ger_2014.shape)\n",
    "print(\"shape of 2015 German data\",df_ger_2015.shape)\n",
    "print(\"shape of 2016 German data\",df_ger_2016.shape)"
   ]
  },
  {
   "cell_type": "code",
   "execution_count": 32,
   "metadata": {
    "colab": {},
    "colab_type": "code",
    "id": "yfbgXPWUluO3"
   },
   "outputs": [],
   "source": [
    "df_ger_all=pd.concat([df_ger_2009,df_ger_2010,df_ger_2011,df_ger_2012,df_ger_2013,df_ger_2014,df_ger_2015,df_ger_2016], ignore_index=True)"
   ]
  },
  {
   "cell_type": "code",
   "execution_count": 33,
   "metadata": {
    "colab": {
     "base_uri": "https://localhost:8080/",
     "height": 195
    },
    "colab_type": "code",
    "id": "0N5P-t9dpvkI",
    "outputId": "0fcecbb0-08ac-485f-9478-132984b4e76d"
   },
   "outputs": [
    {
     "data": {
      "text/html": [
       "<div>\n",
       "<style scoped>\n",
       "    .dataframe tbody tr th:only-of-type {\n",
       "        vertical-align: middle;\n",
       "    }\n",
       "\n",
       "    .dataframe tbody tr th {\n",
       "        vertical-align: top;\n",
       "    }\n",
       "\n",
       "    .dataframe thead th {\n",
       "        text-align: right;\n",
       "    }\n",
       "</style>\n",
       "<table border=\"1\" class=\"dataframe\">\n",
       "  <thead>\n",
       "    <tr style=\"text-align: right;\">\n",
       "      <th></th>\n",
       "      <th>ger</th>\n",
       "    </tr>\n",
       "  </thead>\n",
       "  <tbody>\n",
       "    <tr>\n",
       "      <th>0</th>\n",
       "      <td>Die Prager Börse stürzt gegen Geschäftsschluss ins Minus.</td>\n",
       "    </tr>\n",
       "    <tr>\n",
       "      <th>1</th>\n",
       "      <td>Nach dem steilen Abfall am Morgen konnte die Prager Börse die Verluste korrigieren.</td>\n",
       "    </tr>\n",
       "    <tr>\n",
       "      <th>2</th>\n",
       "      <td>Die Transaktionen mit den Aktien von ČEZ erreichten fast die Hälfte des normalen Tagesgeschäfts.</td>\n",
       "    </tr>\n",
       "    <tr>\n",
       "      <th>3</th>\n",
       "      <td>Die Prager Börse knüpfte gleich zu Beginn der Dienstagsgeschäfte an den Einbruch vom Montag an</td>\n",
       "    </tr>\n",
       "    <tr>\n",
       "      <th>4</th>\n",
       "      <td>Diesmal lag der Grund für den Einbruch an der Wall Street.</td>\n",
       "    </tr>\n",
       "  </tbody>\n",
       "</table>\n",
       "</div>"
      ],
      "text/plain": [
       "                                                                                                ger\n",
       "0                                         Die Prager Börse stürzt gegen Geschäftsschluss ins Minus.\n",
       "1               Nach dem steilen Abfall am Morgen konnte die Prager Börse die Verluste korrigieren.\n",
       "2  Die Transaktionen mit den Aktien von ČEZ erreichten fast die Hälfte des normalen Tagesgeschäfts.\n",
       "3    Die Prager Börse knüpfte gleich zu Beginn der Dienstagsgeschäfte an den Einbruch vom Montag an\n",
       "4                                        Diesmal lag der Grund für den Einbruch an der Wall Street."
      ]
     },
     "execution_count": 33,
     "metadata": {},
     "output_type": "execute_result"
    }
   ],
   "source": [
    "df_ger_all.head()"
   ]
  },
  {
   "cell_type": "code",
   "execution_count": 34,
   "metadata": {},
   "outputs": [
    {
     "name": "stdout",
     "output_type": "stream",
     "text": [
      "shape of combined German version is (22191, 1)\n"
     ]
    }
   ],
   "source": [
    "print(\"shape of combined German version is\", df_ger_all.shape)"
   ]
  },
  {
   "cell_type": "markdown",
   "metadata": {
    "colab_type": "text",
    "id": "r5BIWaqnrzvI"
   },
   "source": [
    "### 5c)- Join english and german versions"
   ]
  },
  {
   "cell_type": "code",
   "execution_count": 35,
   "metadata": {
    "colab": {
     "base_uri": "https://localhost:8080/",
     "height": 642
    },
    "colab_type": "code",
    "id": "4NQGALNlkO_U",
    "outputId": "fe1c9dbf-8a1a-4810-d50e-f46f1129e02a"
   },
   "outputs": [
    {
     "data": {
      "text/html": [
       "<div>\n",
       "<style scoped>\n",
       "    .dataframe tbody tr th:only-of-type {\n",
       "        vertical-align: middle;\n",
       "    }\n",
       "\n",
       "    .dataframe tbody tr th {\n",
       "        vertical-align: top;\n",
       "    }\n",
       "\n",
       "    .dataframe thead th {\n",
       "        text-align: right;\n",
       "    }\n",
       "</style>\n",
       "<table border=\"1\" class=\"dataframe\">\n",
       "  <thead>\n",
       "    <tr style=\"text-align: right;\">\n",
       "      <th></th>\n",
       "      <th>eng</th>\n",
       "      <th>ger</th>\n",
       "    </tr>\n",
       "  </thead>\n",
       "  <tbody>\n",
       "    <tr>\n",
       "      <th>0</th>\n",
       "      <td>Prague Stock Market falls to minus by the end of the trading day</td>\n",
       "      <td>Die Prager Börse stürzt gegen Geschäftsschluss ins Minus.</td>\n",
       "    </tr>\n",
       "    <tr>\n",
       "      <th>1</th>\n",
       "      <td>After a sharp drop in the morning</td>\n",
       "      <td>Nach dem steilen Abfall am Morgen konnte die Prager Börse die Verluste korrigieren.</td>\n",
       "    </tr>\n",
       "    <tr>\n",
       "      <th>2</th>\n",
       "      <td>Transactions with stocks from the Czech Energy Enterprise (ČEZ) reached nearly half of the regular daily trading.</td>\n",
       "      <td>Die Transaktionen mit den Aktien von ČEZ erreichten fast die Hälfte des normalen Tagesgeschäfts.</td>\n",
       "    </tr>\n",
       "    <tr>\n",
       "      <th>3</th>\n",
       "      <td>The Prague Stock Market immediately continued its fall from Monday at the beginning of Tuesday's trading</td>\n",
       "      <td>Die Prager Börse knüpfte gleich zu Beginn der Dienstagsgeschäfte an den Einbruch vom Montag an</td>\n",
       "    </tr>\n",
       "    <tr>\n",
       "      <th>4</th>\n",
       "      <td>This time the fall in stocks on Wall Street is responsible for the drop.</td>\n",
       "      <td>Diesmal lag der Grund für den Einbruch an der Wall Street.</td>\n",
       "    </tr>\n",
       "    <tr>\n",
       "      <th>5</th>\n",
       "      <td>The reaction of the market to the results of the vote in the American House of Representatives</td>\n",
       "      <td>Auch in Tschechien zeigt sich so die Reaktion des Marktes auf das Ergebnis der Abstimmung des amerikanischen Repräsentantenhauses</td>\n",
       "    </tr>\n",
       "    <tr>\n",
       "      <th>6</th>\n",
       "      <td>Stocks fall in Asia</td>\n",
       "      <td>Fall der Aktien in Asien</td>\n",
       "    </tr>\n",
       "    <tr>\n",
       "      <th>7</th>\n",
       "      <td>Stocks in the Asian markets experienced a dramatic drop on Tuesday</td>\n",
       "      <td>Einen dramatischen Fall erlebten am Dienstag die Aktien an den Börsen in Asien</td>\n",
       "    </tr>\n",
       "    <tr>\n",
       "      <th>8</th>\n",
       "      <td>The Hang Seng Index of the Hong Kong Stock Exchange wrote off nearly four percent during the day</td>\n",
       "      <td>Der Index der Hang Seng Börse in Hongkong verlor im Laufe des Geschäftstages fast vier Prozentpunkte</td>\n",
       "    </tr>\n",
       "    <tr>\n",
       "      <th>9</th>\n",
       "      <td>The Hang Seng China Enterprises Index</td>\n",
       "      <td>Der Index Hang Seng China Enterprises</td>\n",
       "    </tr>\n",
       "    <tr>\n",
       "      <th>10</th>\n",
       "      <td>Stocks on the market in Sydney lost more than five percent</td>\n",
       "      <td>Die Aktien an der Börse in Sydney verloren mehr als fünf Prozent</td>\n",
       "    </tr>\n",
       "    <tr>\n",
       "      <th>11</th>\n",
       "      <td>The stock exchange in Taiwan dropped by 3.6 percent according to the local index.</td>\n",
       "      <td>Die Börse in Taiwan sank nach dem dortigen Index um 3</td>\n",
       "    </tr>\n",
       "    <tr>\n",
       "      <th>12</th>\n",
       "      <td>\"The timing of the bailout action in the USA is uncertain and it will influence financial markets all over the world</td>\n",
       "      <td>\"Das Timing für die Rettungsaktion in den USA ist unsicher und wird die Finanzmärkte weltweit beeinflussen\"</td>\n",
       "    </tr>\n",
       "    <tr>\n",
       "      <th>13</th>\n",
       "      <td>Despite the fact that it is a part of China</td>\n",
       "      <td>Hongkong bestimmt</td>\n",
       "    </tr>\n",
       "    <tr>\n",
       "      <th>14</th>\n",
       "      <td>Hong Kong has interest rates at the same level as the United States.</td>\n",
       "      <td>Die Zinssätze in Hongkong bewegen sich auf demselben Niveau wie die in den Vereinigten Staaten.</td>\n",
       "    </tr>\n",
       "  </tbody>\n",
       "</table>\n",
       "</div>"
      ],
      "text/plain": [
       "                                                                                                                     eng  \\\n",
       "0                                                       Prague Stock Market falls to minus by the end of the trading day   \n",
       "1                                                                                      After a sharp drop in the morning   \n",
       "2      Transactions with stocks from the Czech Energy Enterprise (ČEZ) reached nearly half of the regular daily trading.   \n",
       "3               The Prague Stock Market immediately continued its fall from Monday at the beginning of Tuesday's trading   \n",
       "4                                               This time the fall in stocks on Wall Street is responsible for the drop.   \n",
       "5                         The reaction of the market to the results of the vote in the American House of Representatives   \n",
       "6                                                                                                    Stocks fall in Asia   \n",
       "7                                                     Stocks in the Asian markets experienced a dramatic drop on Tuesday   \n",
       "8                       The Hang Seng Index of the Hong Kong Stock Exchange wrote off nearly four percent during the day   \n",
       "9                                                                                  The Hang Seng China Enterprises Index   \n",
       "10                                                            Stocks on the market in Sydney lost more than five percent   \n",
       "11                                     The stock exchange in Taiwan dropped by 3.6 percent according to the local index.   \n",
       "12  \"The timing of the bailout action in the USA is uncertain and it will influence financial markets all over the world   \n",
       "13                                                                           Despite the fact that it is a part of China   \n",
       "14                                                  Hong Kong has interest rates at the same level as the United States.   \n",
       "\n",
       "                                                                                                                                  ger  \n",
       "0                                                                           Die Prager Börse stürzt gegen Geschäftsschluss ins Minus.  \n",
       "1                                                 Nach dem steilen Abfall am Morgen konnte die Prager Börse die Verluste korrigieren.  \n",
       "2                                    Die Transaktionen mit den Aktien von ČEZ erreichten fast die Hälfte des normalen Tagesgeschäfts.  \n",
       "3                                      Die Prager Börse knüpfte gleich zu Beginn der Dienstagsgeschäfte an den Einbruch vom Montag an  \n",
       "4                                                                          Diesmal lag der Grund für den Einbruch an der Wall Street.  \n",
       "5   Auch in Tschechien zeigt sich so die Reaktion des Marktes auf das Ergebnis der Abstimmung des amerikanischen Repräsentantenhauses  \n",
       "6                                                                                                            Fall der Aktien in Asien  \n",
       "7                                                      Einen dramatischen Fall erlebten am Dienstag die Aktien an den Börsen in Asien  \n",
       "8                                Der Index der Hang Seng Börse in Hongkong verlor im Laufe des Geschäftstages fast vier Prozentpunkte  \n",
       "9                                                                                               Der Index Hang Seng China Enterprises  \n",
       "10                                                                   Die Aktien an der Börse in Sydney verloren mehr als fünf Prozent  \n",
       "11                                                                              Die Börse in Taiwan sank nach dem dortigen Index um 3  \n",
       "12                        \"Das Timing für die Rettungsaktion in den USA ist unsicher und wird die Finanzmärkte weltweit beeinflussen\"  \n",
       "13                                                                                                                  Hongkong bestimmt  \n",
       "14                                    Die Zinssätze in Hongkong bewegen sich auf demselben Niveau wie die in den Vereinigten Staaten.  "
      ]
     },
     "execution_count": 35,
     "metadata": {},
     "output_type": "execute_result"
    }
   ],
   "source": [
    "# combine into rows and columns dataframe\n",
    "\n",
    "df_combine=pd.concat([df_eng_all,df_ger_all], axis=1, join='inner') # to adjust automatically row labels i.e index\n",
    "df_combine.head(15)"
   ]
  },
  {
   "cell_type": "code",
   "execution_count": 36,
   "metadata": {},
   "outputs": [
    {
     "data": {
      "text/html": [
       "<div>\n",
       "<style scoped>\n",
       "    .dataframe tbody tr th:only-of-type {\n",
       "        vertical-align: middle;\n",
       "    }\n",
       "\n",
       "    .dataframe tbody tr th {\n",
       "        vertical-align: top;\n",
       "    }\n",
       "\n",
       "    .dataframe thead th {\n",
       "        text-align: right;\n",
       "    }\n",
       "</style>\n",
       "<table border=\"1\" class=\"dataframe\">\n",
       "  <thead>\n",
       "    <tr style=\"text-align: right;\">\n",
       "      <th></th>\n",
       "      <th>eng</th>\n",
       "      <th>ger</th>\n",
       "    </tr>\n",
       "  </thead>\n",
       "  <tbody>\n",
       "    <tr>\n",
       "      <th>7456</th>\n",
       "      <td>In order to get out of this impasse he therefore suggests that Quebec should give a special mandate to the General Verifier for the latter to inquire into collusion and corruption.</td>\n",
       "      <td>Um aus dieser Sackgasse herauszukommen, schlägt er dem Quebec vor, der Finanzprüfungskontrolle ein spezielles Mandat einzuräumen, damit diese über Korruption und geheime Absprachen entsprechende N...</td>\n",
       "    </tr>\n",
       "    <tr>\n",
       "      <th>6393</th>\n",
       "      <td>Opponents can still appeal the project to the City Council.</td>\n",
       "      <td>Gegner können beim Stadtrat immer noch Einspruch gegen das Projekt einlegen.</td>\n",
       "    </tr>\n",
       "    <tr>\n",
       "      <th>7230</th>\n",
       "      <td>In Ecatepec, with signs of torture and tied of feet and hands two bodies were found inside a taxi left behind the Center of Justice of the colony San Agustín.</td>\n",
       "      <td>In Ecatepec wurden zwei an Händen und Füßen gefesselte Körper mit Folterspuren im Innern eines hinter dem Justizzentrum der Siedlung San Agustín abgestellten Taxis gefunden.</td>\n",
       "    </tr>\n",
       "    <tr>\n",
       "      <th>4238</th>\n",
       "      <td>With this money, the colleges are, in particular, to set up tutor programmes and course consultations as well as strengthen exams and foreign offices.</td>\n",
       "      <td>Von dem Geld sollen die Hochschulen vor allem Tutorenprogramme einrichten und Studienberatung sowie Prüfungs- und Auslandsämter stärken.</td>\n",
       "    </tr>\n",
       "    <tr>\n",
       "      <th>20072</th>\n",
       "      <td>Taking on Pakistan in the United Arab Emirates is a tough assignment but after seeing the squad England have selected for the tour, a repeat of the 3-0 Test series defeat suffered last time does n...</td>\n",
       "      <td>Auf Pakistan in den Vereinigten Arabischen Emiraten zu stoßen, ist eine schwierige Aufgabe, aber wenn man den Kader, den England für die Tour ausgewählt hat, sieht, steht eine Wiederholung der 3-0...</td>\n",
       "    </tr>\n",
       "    <tr>\n",
       "      <th>7816</th>\n",
       "      <td>The only certainty: The BCE would keep its principal rate of interest unchanged at 1%, historically the lowest since May 2009.</td>\n",
       "      <td>Einzige Gewissheit: Die EZB wird ihren Leitzins unverändert bei 1% belassen, dem historisch niedrigsten Niveau seit Mai 2009.</td>\n",
       "    </tr>\n",
       "    <tr>\n",
       "      <th>20820</th>\n",
       "      <td>If there are more refugees, we can manage.</td>\n",
       "      <td>Sollten es mehr Flüchtlinge werden, können wir es schaffen.</td>\n",
       "    </tr>\n",
       "    <tr>\n",
       "      <th>20194</th>\n",
       "      <td>He said little of the BBC's output was now formally classified as education - he said it was 1% of its TV output and 0.1% on radio - and it should take a lead from public service broadcasters in A...</td>\n",
       "      <td>Er sagte, nur wenig von der BBC-Produktion würde jetzt offiziell als Bildung klassifiziert - er sagte, dass es 1 % ihrer TV-Produktion und 0,1 % im Radio seien - und sie sollte sich an den öffentl...</td>\n",
       "    </tr>\n",
       "    <tr>\n",
       "      <th>9684</th>\n",
       "      <td>In attendance was, among others, Mitch McConnell, the Senate's top Republican and an avowed opponent of the healthcare law.</td>\n",
       "      <td>Dienst hatte unter anderem Mitch McConnell, der Fraktionschef der Republikaner im Senat und ein erklärter Gegner der Gesundheitsreform</td>\n",
       "    </tr>\n",
       "    <tr>\n",
       "      <th>15910</th>\n",
       "      <td>\"Our current policy is that electronic devices cannot be used during take-off and landing and we have no immediate plans to change that,\" it said.</td>\n",
       "      <td>„Unsere derzeitigen Richtlinien sehen vor, dass elektronische Geräte beim Start und der Landung nicht verwendet werden dürfen, und wir haben zurzeit keine Pläne, das zu ändern“, erklärte das Unter...</td>\n",
       "    </tr>\n",
       "    <tr>\n",
       "      <th>7783</th>\n",
       "      <td>An Elysée mandate tells a different story.</td>\n",
       "      <td>Ein Mandat im Elysée ruft das nächste herbei.</td>\n",
       "    </tr>\n",
       "    <tr>\n",
       "      <th>6062</th>\n",
       "      <td>Great when a film has several target groups, but a shame if they are mutually exclusive.</td>\n",
       "      <td>Schön, wenn ein Film mehrere Zielgruppen hat, schade nur, wenn sie sich gegenseitig ausschließen.</td>\n",
       "    </tr>\n",
       "    <tr>\n",
       "      <th>19277</th>\n",
       "      <td>\"It really is for me,\" said Spielberg, \"inarguably the greatest time travel movie ever put on film.\"</td>\n",
       "      <td>\"Es ist für mich wirklich\", sagte Spielberg, \"unstrittig der größte Zeitreise-Film, der jemals gedreht wurde.\"</td>\n",
       "    </tr>\n",
       "    <tr>\n",
       "      <th>9286</th>\n",
       "      <td>Their lives flicker here like votive candles lighted in a church; new ones are added to the mix while some wink out.</td>\n",
       "      <td>Jedes dieser Leben flackert auf wie die Votivkerzen in einer Kirche, einige kommen hinzu, während andern erlöschen.</td>\n",
       "    </tr>\n",
       "    <tr>\n",
       "      <th>7465</th>\n",
       "      <td>Rivers under close surveillance</td>\n",
       "      <td>Flüsse unter strenger Überwachung</td>\n",
       "    </tr>\n",
       "  </tbody>\n",
       "</table>\n",
       "</div>"
      ],
      "text/plain": [
       "                                                                                                                                                                                                           eng  \\\n",
       "7456                      In order to get out of this impasse he therefore suggests that Quebec should give a special mandate to the General Verifier for the latter to inquire into collusion and corruption.   \n",
       "6393                                                                                                                                               Opponents can still appeal the project to the City Council.   \n",
       "7230                                            In Ecatepec, with signs of torture and tied of feet and hands two bodies were found inside a taxi left behind the Center of Justice of the colony San Agustín.   \n",
       "4238                                                    With this money, the colleges are, in particular, to set up tutor programmes and course consultations as well as strengthen exams and foreign offices.   \n",
       "20072  Taking on Pakistan in the United Arab Emirates is a tough assignment but after seeing the squad England have selected for the tour, a repeat of the 3-0 Test series defeat suffered last time does n...   \n",
       "7816                                                                            The only certainty: The BCE would keep its principal rate of interest unchanged at 1%, historically the lowest since May 2009.   \n",
       "20820                                                                                                                                                               If there are more refugees, we can manage.   \n",
       "20194  He said little of the BBC's output was now formally classified as education - he said it was 1% of its TV output and 0.1% on radio - and it should take a lead from public service broadcasters in A...   \n",
       "9684                                                                               In attendance was, among others, Mitch McConnell, the Senate's top Republican and an avowed opponent of the healthcare law.   \n",
       "15910                                                       \"Our current policy is that electronic devices cannot be used during take-off and landing and we have no immediate plans to change that,\" it said.   \n",
       "7783                                                                                                                                                                An Elysée mandate tells a different story.   \n",
       "6062                                                                                                                  Great when a film has several target groups, but a shame if they are mutually exclusive.   \n",
       "19277                                                                                                     \"It really is for me,\" said Spielberg, \"inarguably the greatest time travel movie ever put on film.\"   \n",
       "9286                                                                                      Their lives flicker here like votive candles lighted in a church; new ones are added to the mix while some wink out.   \n",
       "7465                                                                                                                                                                           Rivers under close surveillance   \n",
       "\n",
       "                                                                                                                                                                                                           ger  \n",
       "7456   Um aus dieser Sackgasse herauszukommen, schlägt er dem Quebec vor, der Finanzprüfungskontrolle ein spezielles Mandat einzuräumen, damit diese über Korruption und geheime Absprachen entsprechende N...  \n",
       "6393                                                                                                                              Gegner können beim Stadtrat immer noch Einspruch gegen das Projekt einlegen.  \n",
       "7230                             In Ecatepec wurden zwei an Händen und Füßen gefesselte Körper mit Folterspuren im Innern eines hinter dem Justizzentrum der Siedlung San Agustín abgestellten Taxis gefunden.  \n",
       "4238                                                                  Von dem Geld sollen die Hochschulen vor allem Tutorenprogramme einrichten und Studienberatung sowie Prüfungs- und Auslandsämter stärken.  \n",
       "20072  Auf Pakistan in den Vereinigten Arabischen Emiraten zu stoßen, ist eine schwierige Aufgabe, aber wenn man den Kader, den England für die Tour ausgewählt hat, sieht, steht eine Wiederholung der 3-0...  \n",
       "7816                                                                             Einzige Gewissheit: Die EZB wird ihren Leitzins unverändert bei 1% belassen, dem historisch niedrigsten Niveau seit Mai 2009.  \n",
       "20820                                                                                                                                              Sollten es mehr Flüchtlinge werden, können wir es schaffen.  \n",
       "20194  Er sagte, nur wenig von der BBC-Produktion würde jetzt offiziell als Bildung klassifiziert - er sagte, dass es 1 % ihrer TV-Produktion und 0,1 % im Radio seien - und sie sollte sich an den öffentl...  \n",
       "9684                                                                    Dienst hatte unter anderem Mitch McConnell, der Fraktionschef der Republikaner im Senat und ein erklärter Gegner der Gesundheitsreform  \n",
       "15910  „Unsere derzeitigen Richtlinien sehen vor, dass elektronische Geräte beim Start und der Landung nicht verwendet werden dürfen, und wir haben zurzeit keine Pläne, das zu ändern“, erklärte das Unter...  \n",
       "7783                                                                                                                                                             Ein Mandat im Elysée ruft das nächste herbei.  \n",
       "6062                                                                                                         Schön, wenn ein Film mehrere Zielgruppen hat, schade nur, wenn sie sich gegenseitig ausschließen.  \n",
       "19277                                                                                           \"Es ist für mich wirklich\", sagte Spielberg, \"unstrittig der größte Zeitreise-Film, der jemals gedreht wurde.\"  \n",
       "9286                                                                                       Jedes dieser Leben flackert auf wie die Votivkerzen in einer Kirche, einige kommen hinzu, während andern erlöschen.  \n",
       "7465                                                                                                                                                                         Flüsse unter strenger Überwachung  "
      ]
     },
     "execution_count": 36,
     "metadata": {},
     "output_type": "execute_result"
    }
   ],
   "source": [
    "# checking values at random\n",
    "df_combine.sample(15)"
   ]
  },
  {
   "cell_type": "markdown",
   "metadata": {
    "colab_type": "text",
    "id": "ig_BxynKrszX"
   },
   "source": [
    "### 5d)- Saving file"
   ]
  },
  {
   "cell_type": "code",
   "execution_count": 37,
   "metadata": {
    "colab": {},
    "colab_type": "code",
    "id": "w9Y6IQVHlejL"
   },
   "outputs": [],
   "source": [
    "df_combine.to_pickle('full_data.pkl')"
   ]
  },
  {
   "cell_type": "code",
   "execution_count": 38,
   "metadata": {
    "colab": {},
    "colab_type": "code",
    "id": "WNcxec_crMX0"
   },
   "outputs": [],
   "source": [
    "# Load again to check\n",
    "df=pd.read_pickle('full_data.pkl')"
   ]
  },
  {
   "cell_type": "code",
   "execution_count": 39,
   "metadata": {
    "colab": {
     "base_uri": "https://localhost:8080/",
     "height": 642
    },
    "colab_type": "code",
    "id": "Txxf2J8Wrbcq",
    "outputId": "8cc1bf3b-8b72-458b-e663-ccfaf3550da2"
   },
   "outputs": [
    {
     "data": {
      "text/html": [
       "<div>\n",
       "<style scoped>\n",
       "    .dataframe tbody tr th:only-of-type {\n",
       "        vertical-align: middle;\n",
       "    }\n",
       "\n",
       "    .dataframe tbody tr th {\n",
       "        vertical-align: top;\n",
       "    }\n",
       "\n",
       "    .dataframe thead th {\n",
       "        text-align: right;\n",
       "    }\n",
       "</style>\n",
       "<table border=\"1\" class=\"dataframe\">\n",
       "  <thead>\n",
       "    <tr style=\"text-align: right;\">\n",
       "      <th></th>\n",
       "      <th>eng</th>\n",
       "      <th>ger</th>\n",
       "    </tr>\n",
       "  </thead>\n",
       "  <tbody>\n",
       "    <tr>\n",
       "      <th>0</th>\n",
       "      <td>Prague Stock Market falls to minus by the end of the trading day</td>\n",
       "      <td>Die Prager Börse stürzt gegen Geschäftsschluss ins Minus.</td>\n",
       "    </tr>\n",
       "    <tr>\n",
       "      <th>1</th>\n",
       "      <td>After a sharp drop in the morning</td>\n",
       "      <td>Nach dem steilen Abfall am Morgen konnte die Prager Börse die Verluste korrigieren.</td>\n",
       "    </tr>\n",
       "    <tr>\n",
       "      <th>2</th>\n",
       "      <td>Transactions with stocks from the Czech Energy Enterprise (ČEZ) reached nearly half of the regular daily trading.</td>\n",
       "      <td>Die Transaktionen mit den Aktien von ČEZ erreichten fast die Hälfte des normalen Tagesgeschäfts.</td>\n",
       "    </tr>\n",
       "    <tr>\n",
       "      <th>3</th>\n",
       "      <td>The Prague Stock Market immediately continued its fall from Monday at the beginning of Tuesday's trading</td>\n",
       "      <td>Die Prager Börse knüpfte gleich zu Beginn der Dienstagsgeschäfte an den Einbruch vom Montag an</td>\n",
       "    </tr>\n",
       "    <tr>\n",
       "      <th>4</th>\n",
       "      <td>This time the fall in stocks on Wall Street is responsible for the drop.</td>\n",
       "      <td>Diesmal lag der Grund für den Einbruch an der Wall Street.</td>\n",
       "    </tr>\n",
       "    <tr>\n",
       "      <th>5</th>\n",
       "      <td>The reaction of the market to the results of the vote in the American House of Representatives</td>\n",
       "      <td>Auch in Tschechien zeigt sich so die Reaktion des Marktes auf das Ergebnis der Abstimmung des amerikanischen Repräsentantenhauses</td>\n",
       "    </tr>\n",
       "    <tr>\n",
       "      <th>6</th>\n",
       "      <td>Stocks fall in Asia</td>\n",
       "      <td>Fall der Aktien in Asien</td>\n",
       "    </tr>\n",
       "    <tr>\n",
       "      <th>7</th>\n",
       "      <td>Stocks in the Asian markets experienced a dramatic drop on Tuesday</td>\n",
       "      <td>Einen dramatischen Fall erlebten am Dienstag die Aktien an den Börsen in Asien</td>\n",
       "    </tr>\n",
       "    <tr>\n",
       "      <th>8</th>\n",
       "      <td>The Hang Seng Index of the Hong Kong Stock Exchange wrote off nearly four percent during the day</td>\n",
       "      <td>Der Index der Hang Seng Börse in Hongkong verlor im Laufe des Geschäftstages fast vier Prozentpunkte</td>\n",
       "    </tr>\n",
       "    <tr>\n",
       "      <th>9</th>\n",
       "      <td>The Hang Seng China Enterprises Index</td>\n",
       "      <td>Der Index Hang Seng China Enterprises</td>\n",
       "    </tr>\n",
       "    <tr>\n",
       "      <th>10</th>\n",
       "      <td>Stocks on the market in Sydney lost more than five percent</td>\n",
       "      <td>Die Aktien an der Börse in Sydney verloren mehr als fünf Prozent</td>\n",
       "    </tr>\n",
       "    <tr>\n",
       "      <th>11</th>\n",
       "      <td>The stock exchange in Taiwan dropped by 3.6 percent according to the local index.</td>\n",
       "      <td>Die Börse in Taiwan sank nach dem dortigen Index um 3</td>\n",
       "    </tr>\n",
       "    <tr>\n",
       "      <th>12</th>\n",
       "      <td>\"The timing of the bailout action in the USA is uncertain and it will influence financial markets all over the world</td>\n",
       "      <td>\"Das Timing für die Rettungsaktion in den USA ist unsicher und wird die Finanzmärkte weltweit beeinflussen\"</td>\n",
       "    </tr>\n",
       "    <tr>\n",
       "      <th>13</th>\n",
       "      <td>Despite the fact that it is a part of China</td>\n",
       "      <td>Hongkong bestimmt</td>\n",
       "    </tr>\n",
       "    <tr>\n",
       "      <th>14</th>\n",
       "      <td>Hong Kong has interest rates at the same level as the United States.</td>\n",
       "      <td>Die Zinssätze in Hongkong bewegen sich auf demselben Niveau wie die in den Vereinigten Staaten.</td>\n",
       "    </tr>\n",
       "  </tbody>\n",
       "</table>\n",
       "</div>"
      ],
      "text/plain": [
       "                                                                                                                     eng  \\\n",
       "0                                                       Prague Stock Market falls to minus by the end of the trading day   \n",
       "1                                                                                      After a sharp drop in the morning   \n",
       "2      Transactions with stocks from the Czech Energy Enterprise (ČEZ) reached nearly half of the regular daily trading.   \n",
       "3               The Prague Stock Market immediately continued its fall from Monday at the beginning of Tuesday's trading   \n",
       "4                                               This time the fall in stocks on Wall Street is responsible for the drop.   \n",
       "5                         The reaction of the market to the results of the vote in the American House of Representatives   \n",
       "6                                                                                                    Stocks fall in Asia   \n",
       "7                                                     Stocks in the Asian markets experienced a dramatic drop on Tuesday   \n",
       "8                       The Hang Seng Index of the Hong Kong Stock Exchange wrote off nearly four percent during the day   \n",
       "9                                                                                  The Hang Seng China Enterprises Index   \n",
       "10                                                            Stocks on the market in Sydney lost more than five percent   \n",
       "11                                     The stock exchange in Taiwan dropped by 3.6 percent according to the local index.   \n",
       "12  \"The timing of the bailout action in the USA is uncertain and it will influence financial markets all over the world   \n",
       "13                                                                           Despite the fact that it is a part of China   \n",
       "14                                                  Hong Kong has interest rates at the same level as the United States.   \n",
       "\n",
       "                                                                                                                                  ger  \n",
       "0                                                                           Die Prager Börse stürzt gegen Geschäftsschluss ins Minus.  \n",
       "1                                                 Nach dem steilen Abfall am Morgen konnte die Prager Börse die Verluste korrigieren.  \n",
       "2                                    Die Transaktionen mit den Aktien von ČEZ erreichten fast die Hälfte des normalen Tagesgeschäfts.  \n",
       "3                                      Die Prager Börse knüpfte gleich zu Beginn der Dienstagsgeschäfte an den Einbruch vom Montag an  \n",
       "4                                                                          Diesmal lag der Grund für den Einbruch an der Wall Street.  \n",
       "5   Auch in Tschechien zeigt sich so die Reaktion des Marktes auf das Ergebnis der Abstimmung des amerikanischen Repräsentantenhauses  \n",
       "6                                                                                                            Fall der Aktien in Asien  \n",
       "7                                                      Einen dramatischen Fall erlebten am Dienstag die Aktien an den Börsen in Asien  \n",
       "8                                Der Index der Hang Seng Börse in Hongkong verlor im Laufe des Geschäftstages fast vier Prozentpunkte  \n",
       "9                                                                                               Der Index Hang Seng China Enterprises  \n",
       "10                                                                   Die Aktien an der Börse in Sydney verloren mehr als fünf Prozent  \n",
       "11                                                                              Die Börse in Taiwan sank nach dem dortigen Index um 3  \n",
       "12                        \"Das Timing für die Rettungsaktion in den USA ist unsicher und wird die Finanzmärkte weltweit beeinflussen\"  \n",
       "13                                                                                                                  Hongkong bestimmt  \n",
       "14                                    Die Zinssätze in Hongkong bewegen sich auf demselben Niveau wie die in den Vereinigten Staaten.  "
      ]
     },
     "execution_count": 39,
     "metadata": {},
     "output_type": "execute_result"
    }
   ],
   "source": [
    "df.head(15)"
   ]
  },
  {
   "cell_type": "markdown",
   "metadata": {
    "colab_type": "text",
    "id": "e0BVHxB-sEAV"
   },
   "source": [
    "Now we are ready for next stage i.e modeling"
   ]
  }
 ],
 "metadata": {
  "accelerator": "GPU",
  "colab": {
   "collapsed_sections": [],
   "name": "Preprocess.ipynb",
   "provenance": [],
   "version": "0.3.2"
  },
  "kernelspec": {
   "display_name": "Python 3",
   "language": "python",
   "name": "python3"
  },
  "language_info": {
   "codemirror_mode": {
    "name": "ipython",
    "version": 3
   },
   "file_extension": ".py",
   "mimetype": "text/x-python",
   "name": "python",
   "nbconvert_exporter": "python",
   "pygments_lexer": "ipython3",
   "version": "3.6.3"
  }
 },
 "nbformat": 4,
 "nbformat_minor": 1
}
