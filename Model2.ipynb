{
  "nbformat": 4,
  "nbformat_minor": 0,
  "metadata": {
    "accelerator": "GPU",
    "colab": {
      "name": "Model2.ipynb",
      "version": "0.3.2",
      "provenance": [],
      "collapsed_sections": []
    },
    "kernelspec": {
      "name": "python3",
      "display_name": "Python 3"
    },
    "language_info": {
      "codemirror_mode": {
        "name": "ipython",
        "version": 3
      },
      "file_extension": ".py",
      "mimetype": "text/x-python",
      "name": "python",
      "nbconvert_exporter": "python",
      "pygments_lexer": "ipython3",
      "version": "3.6.3"
    }
  },
  "cells": [
    {
      "cell_type": "markdown",
      "metadata": {
        "colab_type": "text",
        "id": "QJxJLfT6m4zo"
      },
      "source": [
        "# Machine Translation\n",
        "\n",
        "English-German Translation"
      ]
    },
    {
      "cell_type": "markdown",
      "metadata": {
        "colab_type": "text",
        "id": "YvFSu3KOnCQI"
      },
      "source": [
        "# 1)- Importing key modules"
      ]
    },
    {
      "cell_type": "code",
      "metadata": {
        "colab_type": "code",
        "id": "ydSdCo4JzRta",
        "colab": {}
      },
      "source": [
        "#support both Python 2 and Python 3 with minimal overhead.\n",
        "from __future__ import absolute_import, division, print_function\n",
        "#ignore warnings\n",
        "import warnings\n",
        "warnings.filterwarnings('ignore')"
      ],
      "execution_count": 0,
      "outputs": []
    },
    {
      "cell_type": "code",
      "metadata": {
        "colab_type": "code",
        "id": "HXdjBXc-zNXe",
        "colab": {}
      },
      "source": [
        "import string \n",
        "import re \n",
        "from numpy import array, argmax, random, take \n",
        "import pandas as pd \n",
        "import matplotlib.pyplot as plt \n",
        "%matplotlib inline \n",
        "pd.set_option('display.max_colwidth', 200)"
      ],
      "execution_count": 0,
      "outputs": []
    },
    {
      "cell_type": "code",
      "metadata": {
        "colab_type": "code",
        "id": "ElRcz5K3hJrC",
        "outputId": "fb0c112d-3955-4725-9916-acb5651cb86a",
        "colab": {
          "base_uri": "https://localhost:8080/",
          "height": 34
        }
      },
      "source": [
        "from keras.models import Sequential \n",
        "from keras.layers import Dense, LSTM, Embedding, RepeatVector\n",
        "from keras.preprocessing.text import Tokenizer\n",
        "from keras.callbacks import ModelCheckpoint \n",
        "from keras.preprocessing.sequence import pad_sequences\n",
        "from keras.models import load_model \n",
        "from keras import optimizers \n"
      ],
      "execution_count": 3,
      "outputs": [
        {
          "output_type": "stream",
          "text": [
            "Using TensorFlow backend.\n"
          ],
          "name": "stderr"
        }
      ]
    },
    {
      "cell_type": "markdown",
      "metadata": {
        "colab_type": "text",
        "id": "XN_b91atnHye"
      },
      "source": [
        "# 2)- Reading Dataset"
      ]
    },
    {
      "cell_type": "code",
      "metadata": {
        "id": "MmRrgEJZotlk",
        "colab_type": "code",
        "colab": {}
      },
      "source": [
        "df= pd.read_pickle('full_data.pkl')"
      ],
      "execution_count": 0,
      "outputs": []
    },
    {
      "cell_type": "code",
      "metadata": {
        "id": "HBghzTLCo3zi",
        "colab_type": "code",
        "colab": {
          "base_uri": "https://localhost:8080/",
          "height": 106
        },
        "outputId": "ec550ef0-1367-405f-dd85-ebec5a78735d"
      },
      "source": [
        "df.head(2)"
      ],
      "execution_count": 5,
      "outputs": [
        {
          "output_type": "execute_result",
          "data": {
            "text/html": [
              "<div>\n",
              "<style scoped>\n",
              "    .dataframe tbody tr th:only-of-type {\n",
              "        vertical-align: middle;\n",
              "    }\n",
              "\n",
              "    .dataframe tbody tr th {\n",
              "        vertical-align: top;\n",
              "    }\n",
              "\n",
              "    .dataframe thead th {\n",
              "        text-align: right;\n",
              "    }\n",
              "</style>\n",
              "<table border=\"1\" class=\"dataframe\">\n",
              "  <thead>\n",
              "    <tr style=\"text-align: right;\">\n",
              "      <th></th>\n",
              "      <th>eng</th>\n",
              "      <th>ger</th>\n",
              "    </tr>\n",
              "  </thead>\n",
              "  <tbody>\n",
              "    <tr>\n",
              "      <th>0</th>\n",
              "      <td>Prague Stock Market falls to minus by the end of the trading day</td>\n",
              "      <td>Die Prager Börse stürzt gegen Geschäftsschluss ins Minus.</td>\n",
              "    </tr>\n",
              "    <tr>\n",
              "      <th>1</th>\n",
              "      <td>After a sharp drop in the morning</td>\n",
              "      <td>Nach dem steilen Abfall am Morgen konnte die Prager Börse die Verluste korrigieren.</td>\n",
              "    </tr>\n",
              "  </tbody>\n",
              "</table>\n",
              "</div>"
            ],
            "text/plain": [
              "                                                                eng                                                                                  ger\n",
              "0  Prague Stock Market falls to minus by the end of the trading day                            Die Prager Börse stürzt gegen Geschäftsschluss ins Minus.\n",
              "1                                 After a sharp drop in the morning  Nach dem steilen Abfall am Morgen konnte die Prager Börse die Verluste korrigieren."
            ]
          },
          "metadata": {
            "tags": []
          },
          "execution_count": 5
        }
      ]
    },
    {
      "cell_type": "code",
      "metadata": {
        "id": "UYeTK6PlrZ74",
        "colab_type": "code",
        "colab": {
          "base_uri": "https://localhost:8080/",
          "height": 34
        },
        "outputId": "19e9a957-eece-4ed6-d9cf-40eead216e97"
      },
      "source": [
        "df.shape"
      ],
      "execution_count": 6,
      "outputs": [
        {
          "output_type": "execute_result",
          "data": {
            "text/plain": [
              "(22191, 2)"
            ]
          },
          "metadata": {
            "tags": []
          },
          "execution_count": 6
        }
      ]
    },
    {
      "cell_type": "code",
      "metadata": {
        "id": "JFYeG9LYrV4O",
        "colab_type": "code",
        "colab": {}
      },
      "source": [
        "df_random=df.sample(5000)"
      ],
      "execution_count": 0,
      "outputs": []
    },
    {
      "cell_type": "code",
      "metadata": {
        "id": "MT5eqwzprc3N",
        "colab_type": "code",
        "colab": {
          "base_uri": "https://localhost:8080/",
          "height": 410
        },
        "outputId": "381dc1bd-f1d3-41bc-cf2b-8a96f1cc4532"
      },
      "source": [
        "df_random.head(10)"
      ],
      "execution_count": 8,
      "outputs": [
        {
          "output_type": "execute_result",
          "data": {
            "text/html": [
              "<div>\n",
              "<style scoped>\n",
              "    .dataframe tbody tr th:only-of-type {\n",
              "        vertical-align: middle;\n",
              "    }\n",
              "\n",
              "    .dataframe tbody tr th {\n",
              "        vertical-align: top;\n",
              "    }\n",
              "\n",
              "    .dataframe thead th {\n",
              "        text-align: right;\n",
              "    }\n",
              "</style>\n",
              "<table border=\"1\" class=\"dataframe\">\n",
              "  <thead>\n",
              "    <tr style=\"text-align: right;\">\n",
              "      <th></th>\n",
              "      <th>eng</th>\n",
              "      <th>ger</th>\n",
              "    </tr>\n",
              "  </thead>\n",
              "  <tbody>\n",
              "    <tr>\n",
              "      <th>16424</th>\n",
              "      <td>He says Obama has had worthy efforts thwarted by GOP obstructionism</td>\n",
              "      <td>Er sagt, Obama habe lobenswerte Bemühungen unternommen, die von der Blockadetaktik der Republikaner vereitelt worden seien</td>\n",
              "    </tr>\n",
              "    <tr>\n",
              "      <th>19209</th>\n",
              "      <td>A day after the school shooting forced students and faculty to hide behind locked doors, authorities were still trying to piece together what motivated Lamb.</td>\n",
              "      <td>Einen Tag nach der Schießerei in der Universität, die Studenten und Dozenten dazu zwang, sich hinter verschlossenen Türen zu verstecken, versuchen die Behörden immer noch, sich ein Bild davon zu v...</td>\n",
              "    </tr>\n",
              "    <tr>\n",
              "      <th>9242</th>\n",
              "      <td>Rubbish bins set alight in Wedding</td>\n",
              "      <td>Müllcontainer im Wedding angezündet</td>\n",
              "    </tr>\n",
              "    <tr>\n",
              "      <th>12704</th>\n",
              "      <td>You have to pay extremely careful attention.</td>\n",
              "      <td>Man muss höllisch aufpassen</td>\n",
              "    </tr>\n",
              "    <tr>\n",
              "      <th>14086</th>\n",
              "      <td>\"This is not just a tax going into a black hole,\" said Adrian Moore, vice president of policy at Reason.</td>\n",
              "      <td>„Das ist keine Steuer, die in einem schwarzen Loch verschwindet“, erklärt Adrian Moore, Vizepräsident für Richtlinien bei Reason.</td>\n",
              "    </tr>\n",
              "    <tr>\n",
              "      <th>10663</th>\n",
              "      <td>Eurozone:</td>\n",
              "      <td>Eurozone:</td>\n",
              "    </tr>\n",
              "    <tr>\n",
              "      <th>6198</th>\n",
              "      <td>O'Donovan bought the house with his sister four years ago for 380,000 Euros - financed with a 100 percent mortgage.</td>\n",
              "      <td>Gemeinsam mit einer Schwester hat O'Donovan das Haus für vor vier Jahren für 380.000 Euro gekauft - 100 Prozent kreditfinanziert.</td>\n",
              "    </tr>\n",
              "    <tr>\n",
              "      <th>681</th>\n",
              "      <td>In Germany</td>\n",
              "      <td>In Deutschland brachen die Preise noch stärker ein als in anderen europäischen Ländern:</td>\n",
              "    </tr>\n",
              "    <tr>\n",
              "      <th>1251</th>\n",
              "      <td>A siviglian dancer pays tribute to another siviglian dancer.</td>\n",
              "      <td>Eine Flamencotänzerin aus Sevilla verehrt eine Tänzerin</td>\n",
              "    </tr>\n",
              "    <tr>\n",
              "      <th>11182</th>\n",
              "      <td>\"It depends on the person's ability\" to accept the regression, he says.</td>\n",
              "      <td>\"Das hängt von der Fähigkeit der Person ab\", einen Rückschritt hinzunehmen, stellt er fest.</td>\n",
              "    </tr>\n",
              "  </tbody>\n",
              "</table>\n",
              "</div>"
            ],
            "text/plain": [
              "                                                                                                                                                                 eng                                                                                                                                                                                                      ger\n",
              "16424                                                                                            He says Obama has had worthy efforts thwarted by GOP obstructionism                                                                               Er sagt, Obama habe lobenswerte Bemühungen unternommen, die von der Blockadetaktik der Republikaner vereitelt worden seien\n",
              "19209  A day after the school shooting forced students and faculty to hide behind locked doors, authorities were still trying to piece together what motivated Lamb.  Einen Tag nach der Schießerei in der Universität, die Studenten und Dozenten dazu zwang, sich hinter verschlossenen Türen zu verstecken, versuchen die Behörden immer noch, sich ein Bild davon zu v...\n",
              "9242                                                                                                                              Rubbish bins set alight in Wedding                                                                                                                                                                      Müllcontainer im Wedding angezündet\n",
              "12704                                                                                                                   You have to pay extremely careful attention.                                                                                                                                                                              Man muss höllisch aufpassen\n",
              "14086                                                       \"This is not just a tax going into a black hole,\" said Adrian Moore, vice president of policy at Reason.                                                                        „Das ist keine Steuer, die in einem schwarzen Loch verschwindet“, erklärt Adrian Moore, Vizepräsident für Richtlinien bei Reason.\n",
              "10663                                                                                                                                                      Eurozone:                                                                                                                                                                                                Eurozone:\n",
              "6198                                             O'Donovan bought the house with his sister four years ago for 380,000 Euros - financed with a 100 percent mortgage.                                                                        Gemeinsam mit einer Schwester hat O'Donovan das Haus für vor vier Jahren für 380.000 Euro gekauft - 100 Prozent kreditfinanziert.\n",
              "681                                                                                                                                                       In Germany                                                                                                                  In Deutschland brachen die Preise noch stärker ein als in anderen europäischen Ländern:\n",
              "1251                                                                                                    A siviglian dancer pays tribute to another siviglian dancer.                                                                                                                                                  Eine Flamencotänzerin aus Sevilla verehrt eine Tänzerin\n",
              "11182                                                                                        \"It depends on the person's ability\" to accept the regression, he says.                                                                                                              \"Das hängt von der Fähigkeit der Person ab\", einen Rückschritt hinzunehmen, stellt er fest."
            ]
          },
          "metadata": {
            "tags": []
          },
          "execution_count": 8
        }
      ]
    },
    {
      "cell_type": "code",
      "metadata": {
        "id": "KLu17zototon",
        "colab_type": "code",
        "colab": {}
      },
      "source": [
        "deu_eng=df_random.values"
      ],
      "execution_count": 0,
      "outputs": []
    },
    {
      "cell_type": "code",
      "metadata": {
        "id": "5azilzTootrW",
        "colab_type": "code",
        "colab": {
          "base_uri": "https://localhost:8080/",
          "height": 34
        },
        "outputId": "c06d751b-3271-4619-8683-a64ba21f3867"
      },
      "source": [
        "type(deu_eng)"
      ],
      "execution_count": 10,
      "outputs": [
        {
          "output_type": "execute_result",
          "data": {
            "text/plain": [
              "numpy.ndarray"
            ]
          },
          "metadata": {
            "tags": []
          },
          "execution_count": 10
        }
      ]
    },
    {
      "cell_type": "code",
      "metadata": {
        "id": "MSFX69O1ns-b",
        "colab_type": "code",
        "colab": {
          "base_uri": "https://localhost:8080/",
          "height": 67
        },
        "outputId": "2d8c4caf-0ef2-4071-816c-ee8056edaa8f"
      },
      "source": [
        "deu_eng[0]"
      ],
      "execution_count": 11,
      "outputs": [
        {
          "output_type": "execute_result",
          "data": {
            "text/plain": [
              "array(['He says Obama has had worthy efforts thwarted by GOP obstructionism',\n",
              "       'Er sagt, Obama habe lobenswerte Bemühungen unternommen, die von der Blockadetaktik der Republikaner vereitelt worden seien'],\n",
              "      dtype=object)"
            ]
          },
          "metadata": {
            "tags": []
          },
          "execution_count": 11
        }
      ]
    },
    {
      "cell_type": "code",
      "metadata": {
        "colab_type": "code",
        "id": "o1FK1T2Kicbi",
        "outputId": "b26ed4c5-684e-414c-e6e9-2c5c3cbae170",
        "colab": {
          "base_uri": "https://localhost:8080/",
          "height": 118
        }
      },
      "source": [
        "# for english part \n",
        "deu_eng[:,0]"
      ],
      "execution_count": 12,
      "outputs": [
        {
          "output_type": "execute_result",
          "data": {
            "text/plain": [
              "array(['He says Obama has had worthy efforts thwarted by GOP obstructionism',\n",
              "       'A day after the school shooting forced students and faculty to hide behind locked doors, authorities were still trying to piece together what motivated Lamb.',\n",
              "       'Rubbish bins set alight in Wedding', ...,\n",
              "       '11 are captured in Cadereyta',\n",
              "       'Lamb did not provide an explanation for the shooting.',\n",
              "       'Gravity no longer has any power over him'], dtype=object)"
            ]
          },
          "metadata": {
            "tags": []
          },
          "execution_count": 12
        }
      ]
    },
    {
      "cell_type": "code",
      "metadata": {
        "colab_type": "code",
        "id": "Z2CAJPD_ifVc",
        "outputId": "c3480bcf-a367-4ad4-f3e1-d746ca0ec5ec",
        "colab": {
          "base_uri": "https://localhost:8080/",
          "height": 138
        }
      },
      "source": [
        "# for german part of lang.\n",
        "deu_eng[:,1]"
      ],
      "execution_count": 13,
      "outputs": [
        {
          "output_type": "execute_result",
          "data": {
            "text/plain": [
              "array(['Er sagt, Obama habe lobenswerte Bemühungen unternommen, die von der Blockadetaktik der Republikaner vereitelt worden seien',\n",
              "       'Einen Tag nach der Schießerei in der Universität, die Studenten und Dozenten dazu zwang, sich hinter verschlossenen Türen zu verstecken, versuchen die Behörden immer noch, sich ein Bild davon zu verschaffen, was Lamb motivierte.',\n",
              "       'Müllcontainer im Wedding angezündet', ...,\n",
              "       '11 Personen in Cadereyta verhaftet',\n",
              "       'Lamb gab keine Erklärung für seine Schüsse.',\n",
              "       'Die Schwerkraft hat keine Macht mehr über ihn'], dtype=object)"
            ]
          },
          "metadata": {
            "tags": []
          },
          "execution_count": 13
        }
      ]
    },
    {
      "cell_type": "markdown",
      "metadata": {
        "id": "lUZ6BSmvtJ1s",
        "colab_type": "text"
      },
      "source": [
        "# 3)-Text Pre-Processing"
      ]
    },
    {
      "cell_type": "markdown",
      "metadata": {
        "colab_type": "text",
        "id": "GEia-m7ViPLD"
      },
      "source": [
        "### 3.1)-Text cleaning"
      ]
    },
    {
      "cell_type": "code",
      "metadata": {
        "colab_type": "code",
        "id": "WmC81k-wh8ZJ",
        "colab": {}
      },
      "source": [
        "# Remove punctuation \n",
        "deu_eng[:,0] = [s.translate(str.maketrans('', '', string.punctuation)) for s in deu_eng[:,0]] \n",
        "deu_eng[:,1] = [s.translate(str.maketrans('', '', string.punctuation)) for s in deu_eng[:,1]] \n",
        "\n",
        "# convert text to lowercase \n",
        "for i in range(len(deu_eng)): \n",
        "    deu_eng[i,0] = deu_eng[i,0].lower() \n",
        "    deu_eng[i,1] = deu_eng[i,1].lower()"
      ],
      "execution_count": 0,
      "outputs": []
    },
    {
      "cell_type": "markdown",
      "metadata": {
        "colab_type": "text",
        "id": "4FdyDdXwiS9i"
      },
      "source": [
        "### 3.2)-Text to Sequence Conversion"
      ]
    },
    {
      "cell_type": "code",
      "metadata": {
        "colab_type": "code",
        "id": "8pxu1-xNh8cA",
        "outputId": "c7e36d54-ed76-4324-c184-a7b0898fe9af",
        "colab": {
          "base_uri": "https://localhost:8080/",
          "height": 281
        }
      },
      "source": [
        "# empty lists \n",
        "eng_l = [] \n",
        "deu_l = [] \n",
        "\n",
        "# populate the lists with sentence lengths \n",
        "for i in deu_eng[:,0]: \n",
        "      eng_l.append(len(i.split())) \n",
        "\n",
        "for i in deu_eng[:,1]: \n",
        "      deu_l.append(len(i.split())) \n",
        "\n",
        "length_df = pd.DataFrame({'eng':eng_l, 'deu':deu_l})\n",
        "length_df.hist(bins = 30) \n",
        "plt.show()"
      ],
      "execution_count": 15,
      "outputs": [
        {
          "output_type": "display_data",
          "data": {
            "image/png": "[encoded data removed]",
            "text/plain": [
              "<Figure size 432x288 with 2 Axes>"
            ]
          },
          "metadata": {
            "tags": []
          }
        }
      ]
    },
    {
      "cell_type": "markdown",
      "metadata": {
        "colab_type": "text",
        "id": "2De4ZERJzX_4"
      },
      "source": [
        "the maximum length of the German sentences is 78 and that of the English phrases is 75."
      ]
    },
    {
      "cell_type": "markdown",
      "metadata": {
        "colab_type": "text",
        "id": "Lpt6tCjfkGKu"
      },
      "source": [
        "### 3.3)-vectorize our text data \n",
        "\n",
        "by using Keras’s Tokenizer()"
      ]
    },
    {
      "cell_type": "code",
      "metadata": {
        "colab_type": "code",
        "id": "_j_y_uZ7h8e6",
        "outputId": "c6eda635-f834-4a3d-a657-b2cb44dde652",
        "colab": {
          "base_uri": "https://localhost:8080/",
          "height": 34
        }
      },
      "source": [
        "# function to build a tokenizer \n",
        "def tokenization(lines): \n",
        "      tokenizer = Tokenizer() \n",
        "      tokenizer.fit_on_texts(lines) \n",
        "      return tokenizer\n",
        "\n",
        "# prepare english tokenizer \n",
        "eng_tokenizer = tokenization(deu_eng[:, 0]) \n",
        "eng_vocab_size = len(eng_tokenizer.word_index) + 1 \n",
        "eng_length = 8 \n",
        "\n",
        "print('English Vocabulary Size: %d' % eng_vocab_size)"
      ],
      "execution_count": 16,
      "outputs": [
        {
          "output_type": "stream",
          "text": [
            "English Vocabulary Size: 14248\n"
          ],
          "name": "stdout"
        }
      ]
    },
    {
      "cell_type": "code",
      "metadata": {
        "colab_type": "code",
        "id": "0ha_ZNySh8hh",
        "outputId": "f24460a8-5c54-43a4-934b-723d397a66a6",
        "colab": {
          "base_uri": "https://localhost:8080/",
          "height": 34
        }
      },
      "source": [
        "# prepare Deutch tokenizer \n",
        "deu_tokenizer = tokenization(deu_eng[:, 1]) \n",
        "deu_vocab_size = len(deu_tokenizer.word_index) + 1 \n",
        "deu_length = 8 \n",
        "print('Deutch Vocabulary Size: %d' % deu_vocab_size)"
      ],
      "execution_count": 17,
      "outputs": [
        {
          "output_type": "stream",
          "text": [
            "Deutch Vocabulary Size: 20423\n"
          ],
          "name": "stdout"
        }
      ]
    },
    {
      "cell_type": "markdown",
      "metadata": {
        "colab_type": "text",
        "id": "XvmowmplzfdT"
      },
      "source": [
        "There is difference in amount of words in two languages.We need to encode sequence"
      ]
    },
    {
      "cell_type": "markdown",
      "metadata": {
        "colab_type": "text",
        "id": "cUY-Py6WzhtB"
      },
      "source": [
        "### 3.4)-encode and pad sequences "
      ]
    },
    {
      "cell_type": "code",
      "metadata": {
        "colab_type": "code",
        "id": "QElAizsykOtJ",
        "colab": {}
      },
      "source": [
        "def encode_sequences(tokenizer, length, lines):          \n",
        "         # integer encode sequences          \n",
        "         seq = tokenizer.texts_to_sequences(lines)          \n",
        "         # pad sequences with 0 values          \n",
        "         seq = pad_sequences(seq, maxlen=length, padding='post')           \n",
        "         return seq"
      ],
      "execution_count": 0,
      "outputs": []
    },
    {
      "cell_type": "markdown",
      "metadata": {
        "colab_type": "text",
        "id": "408A3w7Ukb4r"
      },
      "source": [
        "# 4)-Model Building"
      ]
    },
    {
      "cell_type": "markdown",
      "metadata": {
        "colab_type": "text",
        "id": "kJF5iWUOnUgC"
      },
      "source": [
        "### 4.1)- Train-test Split\n",
        "\n",
        "80%-20%"
      ]
    },
    {
      "cell_type": "code",
      "metadata": {
        "colab_type": "code",
        "id": "GzxozTM0kZk7",
        "colab": {}
      },
      "source": [
        "from sklearn.model_selection import train_test_split \n",
        "\n",
        "# split data into train and test set \n",
        "train,test= train_test_split(deu_eng,test_size=0.2,random_state= 12)"
      ],
      "execution_count": 0,
      "outputs": []
    },
    {
      "cell_type": "markdown",
      "metadata": {
        "colab_type": "text",
        "id": "xvyO7SdQkr88"
      },
      "source": [
        "### 4.2)- Defining input and target\n",
        "We will encode English sentences as the input sequences and German sentences as the target sequences"
      ]
    },
    {
      "cell_type": "code",
      "metadata": {
        "colab_type": "code",
        "id": "wJvJMU9Vzr-7",
        "outputId": "ba9ba255-d7af-49a7-8856-c84e36ac2cf1",
        "colab": {
          "base_uri": "https://localhost:8080/",
          "height": 171
        }
      },
      "source": [
        "# english version\n",
        "train[:, 0]"
      ],
      "execution_count": 20,
      "outputs": [
        {
          "output_type": "execute_result",
          "data": {
            "text/plain": [
              "array(['kenya has started biometrically registering all civil servants in an attempt to remove ghost workers from the governments payroll',\n",
              "       'guests are also invited to take part in a tombola with impressive prizes and to sample some delicious food from the cafeteria',\n",
              "       'i think we write very good songs and at the beginning was a great thing',\n",
              "       ...,\n",
              "       'scalia and thomas have shown little regard for critics who say they too readily mix the business of the court with agendadriven groups such as the federalist society',\n",
              "       'i looked at sites blogs till someone responded offering me to go to begovaya station where a man will be waiting for me to take me to the corner so we can negotiate',\n",
              "       'norbet bräms adds that on the level of its interventions in the public debt market the bce would have to make purchases of these bonds adequately large to revive the lacklustre market'],\n",
              "      dtype=object)"
            ]
          },
          "metadata": {
            "tags": []
          },
          "execution_count": 20
        }
      ]
    },
    {
      "cell_type": "code",
      "metadata": {
        "colab_type": "code",
        "id": "TcMT6wFoztLT",
        "outputId": "39c62533-b7ff-40ac-e836-401d65765e74",
        "colab": {
          "base_uri": "https://localhost:8080/",
          "height": 171
        }
      },
      "source": [
        "# english version\n",
        "train[:, 1]"
      ],
      "execution_count": 21,
      "outputs": [
        {
          "output_type": "execute_result",
          "data": {
            "text/plain": [
              "array(['kenia hat damit begonnen alle staatsbeamten biometrisch zu registrieren um geisterangestellte aus den gehaltslisten der regierung zu löschen',\n",
              "       'die gäste sind auch zu einer mit stattlichen sachpreisen bestückte tombola und zu einer lecker bestückten cafeteria eingeladen',\n",
              "       'ich glaube wir haben sehr gute songs geschrieben und zu anfang war es großartig',\n",
              "       ...,\n",
              "       'scalia und thomas zeigen wenig rücksichtnahme auf kritiker die sagen sie würden gerichtsangelegenheit zu leicht mit gruppen die sich von der tagesordnung leiten lassen wie zum beispiel der föderalistischen gesellschaft vermischen',\n",
              "       'ich hatte mir webseiten und blogs angesehen als jemand auf mich aufmerksam wurde und mir vorschlug zur station begowaja zu kommen wo eine person auf mich warten würde die mich an einen gewissen ort brächte wo wir dann den preis verhandeln könnten',\n",
              "       'im bereich ihrer interventionen auf dem markt der staatsverschuldung sollte die ezb ein solches kaufvolumen an obligationen aufrechthalten das den trägen markt belebt fügt norbert bräms hinzu'],\n",
              "      dtype=object)"
            ]
          },
          "metadata": {
            "tags": []
          },
          "execution_count": 21
        }
      ]
    },
    {
      "cell_type": "code",
      "metadata": {
        "colab_type": "code",
        "id": "P6ZhWiJdkkb8",
        "colab": {}
      },
      "source": [
        "# prepare training data \n",
        "trainX = encode_sequences(eng_tokenizer, deu_length, train[:, 0]) \n",
        "trainY = encode_sequences(deu_tokenizer, eng_length, train[:, 1]) \n",
        "\n",
        "# prepare validation data \n",
        "testX = encode_sequences(eng_tokenizer, deu_length, test[:, 0]) \n",
        "testY = encode_sequences(deu_tokenizer, eng_length, test[:, 1])"
      ],
      "execution_count": 0,
      "outputs": []
    },
    {
      "cell_type": "code",
      "metadata": {
        "colab_type": "code",
        "id": "f2LKJrFfz0GI",
        "outputId": "659ccb52-0135-4213-e498-1c3c7d5ab66b",
        "colab": {
          "base_uri": "https://localhost:8080/",
          "height": 101
        }
      },
      "source": [
        "print(trainX[:5])"
      ],
      "execution_count": 23,
      "outputs": [
        {
          "output_type": "stream",
          "text": [
            "[[    3  2148  4242   458    22     1   793  3144]\n",
            " [    3 14037    73 14038   523    22     1 14039]\n",
            " [    6    21     1   462    13     5   182   721]\n",
            " [  267    85  6556   110  1860   677  2180  4341]\n",
            " [    1   153  1645    24    18    19  4714   186]]\n"
          ],
          "name": "stdout"
        }
      ]
    },
    {
      "cell_type": "code",
      "metadata": {
        "colab_type": "code",
        "id": "L81CkA-Rz0Jh",
        "outputId": "8cc1674b-ec04-4956-904c-d4d394420ea4",
        "colab": {
          "base_uri": "https://localhost:8080/",
          "height": 101
        }
      },
      "source": [
        "print(trainY[:5])"
      ],
      "execution_count": 24,
      "outputs": [
        {
          "output_type": "stream",
          "text": [
            "[[ 6360    41     6 14753     2   105     8  6361]\n",
            " [ 4307     3     8    29 20033 20034 20035  3694]\n",
            " [ 2071  1567     3     8   643    45    18  3495]\n",
            " [   27     1   949   546    95  6939  1747  1748]\n",
            " [ 1156    16     1   259   708    21  4585    35]]\n"
          ],
          "name": "stdout"
        }
      ]
    },
    {
      "cell_type": "code",
      "metadata": {
        "colab_type": "code",
        "id": "plUoF_-gz0Mh",
        "outputId": "b882238c-7766-4462-ec14-ab748b9b8a8e",
        "colab": {
          "base_uri": "https://localhost:8080/",
          "height": 84
        }
      },
      "source": [
        "print(trainX.shape)\n",
        "print(trainY.shape)\n",
        "print(testX.shape)\n",
        "print(testY.shape)"
      ],
      "execution_count": 25,
      "outputs": [
        {
          "output_type": "stream",
          "text": [
            "(4000, 8)\n",
            "(4000, 8)\n",
            "(1000, 8)\n",
            "(1000, 8)\n"
          ],
          "name": "stdout"
        }
      ]
    },
    {
      "cell_type": "markdown",
      "metadata": {
        "colab_type": "text",
        "id": "7ubte9AUngfx"
      },
      "source": [
        "### 4.3)- build NMT model"
      ]
    },
    {
      "cell_type": "code",
      "metadata": {
        "colab_type": "code",
        "id": "CuEMUhwV248X",
        "outputId": "0a6c7c71-1aa4-4d69-8c46-b9262e3658b9",
        "colab": {
          "base_uri": "https://localhost:8080/",
          "height": 34
        }
      },
      "source": [
        "eng_length"
      ],
      "execution_count": 26,
      "outputs": [
        {
          "output_type": "execute_result",
          "data": {
            "text/plain": [
              "8"
            ]
          },
          "metadata": {
            "tags": []
          },
          "execution_count": 26
        }
      ]
    },
    {
      "cell_type": "code",
      "metadata": {
        "colab_type": "code",
        "id": "afiv_7mw26av",
        "outputId": "8eac0e05-37f9-487f-9871-3cb59d17c22b",
        "colab": {
          "base_uri": "https://localhost:8080/",
          "height": 34
        }
      },
      "source": [
        "deu_length"
      ],
      "execution_count": 27,
      "outputs": [
        {
          "output_type": "execute_result",
          "data": {
            "text/plain": [
              "8"
            ]
          },
          "metadata": {
            "tags": []
          },
          "execution_count": 27
        }
      ]
    },
    {
      "cell_type": "code",
      "metadata": {
        "colab_type": "code",
        "id": "yORpCfMCkkjz",
        "colab": {}
      },
      "source": [
        " def build_model(in_vocab,out_vocab, in_timesteps,out_timesteps,n):   \n",
        "      model = Sequential() \n",
        "      model.add(Embedding(in_vocab, n, input_length=in_timesteps,   \n",
        "      mask_zero=True)) \n",
        "      model.add(LSTM(n)) \n",
        "      model.add(RepeatVector(out_timesteps)) \n",
        "      model.add(LSTM(n, return_sequences=True))  \n",
        "      model.add(Dense(out_vocab, activation='softmax')) \n",
        "      return model"
      ],
      "execution_count": 0,
      "outputs": []
    },
    {
      "cell_type": "code",
      "metadata": {
        "colab_type": "code",
        "id": "H_0LMdC6lgnp",
        "outputId": "a9f5c8f2-8b0e-46af-da22-f9fc2dfe9dd0",
        "colab": {
          "base_uri": "https://localhost:8080/",
          "height": 255
        }
      },
      "source": [
        "# model compilation (with 512 hidden units)\n",
        "model = build_model(eng_vocab_size,deu_vocab_size, eng_length, deu_length, 512)\n",
        "\n",
        "rms = optimizers.RMSprop(lr=0.001) \n",
        "model.compile(optimizer=rms, loss='sparse_categorical_crossentropy')"
      ],
      "execution_count": 29,
      "outputs": [
        {
          "output_type": "stream",
          "text": [
            "WARNING:tensorflow:From /usr/local/lib/python3.6/dist-packages/keras/backend/tensorflow_backend.py:66: The name tf.get_default_graph is deprecated. Please use tf.compat.v1.get_default_graph instead.\n",
            "\n",
            "WARNING:tensorflow:From /usr/local/lib/python3.6/dist-packages/keras/backend/tensorflow_backend.py:541: The name tf.placeholder is deprecated. Please use tf.compat.v1.placeholder instead.\n",
            "\n",
            "WARNING:tensorflow:From /usr/local/lib/python3.6/dist-packages/keras/backend/tensorflow_backend.py:4432: The name tf.random_uniform is deprecated. Please use tf.random.uniform instead.\n",
            "\n",
            "WARNING:tensorflow:From /usr/local/lib/python3.6/dist-packages/keras/backend/tensorflow_backend.py:3239: add_dispatch_support.<locals>.wrapper (from tensorflow.python.ops.array_ops) is deprecated and will be removed in a future version.\n",
            "Instructions for updating:\n",
            "Use tf.where in 2.0, which has the same broadcast rule as np.where\n",
            "WARNING:tensorflow:From /usr/local/lib/python3.6/dist-packages/keras/optimizers.py:793: The name tf.train.Optimizer is deprecated. Please use tf.compat.v1.train.Optimizer instead.\n",
            "\n",
            "WARNING:tensorflow:From /usr/local/lib/python3.6/dist-packages/keras/backend/tensorflow_backend.py:3622: The name tf.log is deprecated. Please use tf.math.log instead.\n",
            "\n"
          ],
          "name": "stdout"
        }
      ]
    },
    {
      "cell_type": "code",
      "metadata": {
        "colab_type": "code",
        "id": "BA8KW2_80Hs3",
        "outputId": "55260810-5421-4a5b-f275-b4a348d4c705",
        "colab": {
          "base_uri": "https://localhost:8080/",
          "height": 319
        }
      },
      "source": [
        "model.summary()"
      ],
      "execution_count": 30,
      "outputs": [
        {
          "output_type": "stream",
          "text": [
            "Model: \"sequential_1\"\n",
            "_________________________________________________________________\n",
            "Layer (type)                 Output Shape              Param #   \n",
            "=================================================================\n",
            "embedding_1 (Embedding)      (None, 8, 512)            7294976   \n",
            "_________________________________________________________________\n",
            "lstm_1 (LSTM)                (None, 512)               2099200   \n",
            "_________________________________________________________________\n",
            "repeat_vector_1 (RepeatVecto (None, 8, 512)            0         \n",
            "_________________________________________________________________\n",
            "lstm_2 (LSTM)                (None, 8, 512)            2099200   \n",
            "_________________________________________________________________\n",
            "dense_1 (Dense)              (None, 8, 20423)          10476999  \n",
            "=================================================================\n",
            "Total params: 21,970,375\n",
            "Trainable params: 21,970,375\n",
            "Non-trainable params: 0\n",
            "_________________________________________________________________\n"
          ],
          "name": "stdout"
        }
      ]
    },
    {
      "cell_type": "code",
      "metadata": {
        "colab_type": "code",
        "id": "9M1ukVFAlkFz",
        "outputId": "a983fb69-0840-40c5-8c5f-cc6fc0d832ff",
        "colab": {
          "base_uri": "https://localhost:8080/",
          "height": 1000
        }
      },
      "source": [
        "filename = 'model_translate.h1' \n",
        "\n",
        "# set checkpoint\n",
        "checkpoint = ModelCheckpoint(filename, monitor='val_loss',  \n",
        "                             verbose=1, save_best_only=True, \n",
        "                             mode='min') \n",
        "\n",
        "\n",
        "# train model \n",
        "history = model.fit(trainX, trainY.reshape(trainY.shape[0], trainY.shape[1], 1), \n",
        "                    epochs=30, batch_size=512, validation_split = 0.2, \n",
        "                    callbacks=[checkpoint], verbose=1)"
      ],
      "execution_count": 31,
      "outputs": [
        {
          "output_type": "stream",
          "text": [
            "WARNING:tensorflow:From /usr/local/lib/python3.6/dist-packages/keras/backend/tensorflow_backend.py:1033: The name tf.assign_add is deprecated. Please use tf.compat.v1.assign_add instead.\n",
            "\n",
            "Train on 3200 samples, validate on 800 samples\n",
            "Epoch 1/30\n",
            "3200/3200 [==============================] - 6s 2ms/step - loss: 9.2255 - val_loss: 8.1206\n",
            "\n",
            "Epoch 00001: val_loss improved from inf to 8.12055, saving model to model_translate.h1\n",
            "Epoch 2/30\n",
            "3200/3200 [==============================] - 3s 911us/step - loss: 7.7117 - val_loss: 8.2339\n",
            "\n",
            "Epoch 00002: val_loss did not improve from 8.12055\n",
            "Epoch 3/30\n",
            "3200/3200 [==============================] - 3s 924us/step - loss: 7.5090 - val_loss: 8.3604\n",
            "\n",
            "Epoch 00003: val_loss did not improve from 8.12055\n",
            "Epoch 4/30\n",
            "3200/3200 [==============================] - 3s 922us/step - loss: 7.4059 - val_loss: 8.4398\n",
            "\n",
            "Epoch 00004: val_loss did not improve from 8.12055\n",
            "Epoch 5/30\n",
            "3200/3200 [==============================] - 3s 923us/step - loss: 7.3554 - val_loss: 8.5236\n",
            "\n",
            "Epoch 00005: val_loss did not improve from 8.12055\n",
            "Epoch 6/30\n",
            "3200/3200 [==============================] - 3s 924us/step - loss: 7.4209 - val_loss: 8.6186\n",
            "\n",
            "Epoch 00006: val_loss did not improve from 8.12055\n",
            "Epoch 7/30\n",
            "3200/3200 [==============================] - 3s 925us/step - loss: 7.2827 - val_loss: 8.7327\n",
            "\n",
            "Epoch 00007: val_loss did not improve from 8.12055\n",
            "Epoch 8/30\n",
            "3200/3200 [==============================] - 3s 927us/step - loss: 7.2336 - val_loss: 8.7925\n",
            "\n",
            "Epoch 00008: val_loss did not improve from 8.12055\n",
            "Epoch 9/30\n",
            "3200/3200 [==============================] - 3s 924us/step - loss: 7.2242 - val_loss: 8.8213\n",
            "\n",
            "Epoch 00009: val_loss did not improve from 8.12055\n",
            "Epoch 10/30\n",
            "3200/3200 [==============================] - 3s 927us/step - loss: 7.1886 - val_loss: 8.8500\n",
            "\n",
            "Epoch 00010: val_loss did not improve from 8.12055\n",
            "Epoch 11/30\n",
            "3200/3200 [==============================] - 3s 923us/step - loss: 7.1344 - val_loss: 8.8831\n",
            "\n",
            "Epoch 00011: val_loss did not improve from 8.12055\n",
            "Epoch 12/30\n",
            "3200/3200 [==============================] - 3s 925us/step - loss: 7.1445 - val_loss: 8.8952\n",
            "\n",
            "Epoch 00012: val_loss did not improve from 8.12055\n",
            "Epoch 13/30\n",
            "3200/3200 [==============================] - 3s 930us/step - loss: 7.0826 - val_loss: 8.9270\n",
            "\n",
            "Epoch 00013: val_loss did not improve from 8.12055\n",
            "Epoch 14/30\n",
            "3200/3200 [==============================] - 3s 930us/step - loss: 7.1080 - val_loss: 8.9176\n",
            "\n",
            "Epoch 00014: val_loss did not improve from 8.12055\n",
            "Epoch 15/30\n",
            "3200/3200 [==============================] - 3s 927us/step - loss: 7.0219 - val_loss: 8.9201\n",
            "\n",
            "Epoch 00015: val_loss did not improve from 8.12055\n",
            "Epoch 16/30\n",
            "3200/3200 [==============================] - 3s 923us/step - loss: 6.9802 - val_loss: 8.9720\n",
            "\n",
            "Epoch 00016: val_loss did not improve from 8.12055\n",
            "Epoch 17/30\n",
            "3200/3200 [==============================] - 3s 935us/step - loss: 6.9501 - val_loss: 8.9778\n",
            "\n",
            "Epoch 00017: val_loss did not improve from 8.12055\n",
            "Epoch 18/30\n",
            "3200/3200 [==============================] - 3s 935us/step - loss: 6.9277 - val_loss: 8.9627\n",
            "\n",
            "Epoch 00018: val_loss did not improve from 8.12055\n",
            "Epoch 19/30\n",
            "3200/3200 [==============================] - 3s 933us/step - loss: 6.8925 - val_loss: 8.9519\n",
            "\n",
            "Epoch 00019: val_loss did not improve from 8.12055\n",
            "Epoch 20/30\n",
            "3200/3200 [==============================] - 3s 928us/step - loss: 6.8788 - val_loss: 8.9917\n",
            "\n",
            "Epoch 00020: val_loss did not improve from 8.12055\n",
            "Epoch 21/30\n",
            "3200/3200 [==============================] - 3s 931us/step - loss: 6.8042 - val_loss: 9.0120\n",
            "\n",
            "Epoch 00021: val_loss did not improve from 8.12055\n",
            "Epoch 22/30\n",
            "3200/3200 [==============================] - 3s 937us/step - loss: 6.8111 - val_loss: 9.0270\n",
            "\n",
            "Epoch 00022: val_loss did not improve from 8.12055\n",
            "Epoch 23/30\n",
            "3200/3200 [==============================] - 3s 934us/step - loss: 6.7244 - val_loss: 9.0760\n",
            "\n",
            "Epoch 00023: val_loss did not improve from 8.12055\n",
            "Epoch 24/30\n",
            "3200/3200 [==============================] - 3s 934us/step - loss: 6.8027 - val_loss: 9.0042\n",
            "\n",
            "Epoch 00024: val_loss did not improve from 8.12055\n",
            "Epoch 25/30\n",
            "3200/3200 [==============================] - 3s 929us/step - loss: 6.7023 - val_loss: 9.0490\n",
            "\n",
            "Epoch 00025: val_loss did not improve from 8.12055\n",
            "Epoch 26/30\n",
            "3200/3200 [==============================] - 3s 932us/step - loss: 6.6709 - val_loss: 9.0513\n",
            "\n",
            "Epoch 00026: val_loss did not improve from 8.12055\n",
            "Epoch 27/30\n",
            "3200/3200 [==============================] - 3s 935us/step - loss: 6.6226 - val_loss: 9.0794\n",
            "\n",
            "Epoch 00027: val_loss did not improve from 8.12055\n",
            "Epoch 28/30\n",
            "3200/3200 [==============================] - 3s 933us/step - loss: 6.5902 - val_loss: 9.1400\n",
            "\n",
            "Epoch 00028: val_loss did not improve from 8.12055\n",
            "Epoch 29/30\n",
            "3200/3200 [==============================] - 3s 935us/step - loss: 6.5638 - val_loss: 9.1119\n",
            "\n",
            "Epoch 00029: val_loss did not improve from 8.12055\n",
            "Epoch 30/30\n",
            "3200/3200 [==============================] - 3s 936us/step - loss: 6.5496 - val_loss: 9.1046\n",
            "\n",
            "Epoch 00030: val_loss did not improve from 8.12055\n"
          ],
          "name": "stdout"
        }
      ]
    },
    {
      "cell_type": "markdown",
      "metadata": {
        "colab_type": "text",
        "id": "nwrL0_sjmUuO"
      },
      "source": [
        "# 5)-Plotting results"
      ]
    },
    {
      "cell_type": "code",
      "metadata": {
        "colab_type": "code",
        "id": "iUYdtjQXlupF",
        "outputId": "8aac1a75-e66a-43ed-f3aa-9857a3608d73",
        "colab": {
          "base_uri": "https://localhost:8080/",
          "height": 269
        }
      },
      "source": [
        "plt.plot(history.history['loss']) \n",
        "plt.plot(history.history['val_loss']) \n",
        "plt.legend(['train','validation']) \n",
        "plt.show()"
      ],
      "execution_count": 32,
      "outputs": [
        {
          "output_type": "display_data",
          "data": {
            "image/png": "[encoded data removed]",
            "text/plain": [
              "<Figure size 432x288 with 1 Axes>"
            ]
          },
          "metadata": {
            "tags": []
          }
        }
      ]
    },
    {
      "cell_type": "markdown",
      "metadata": {
        "colab_type": "text",
        "id": "xQVCiaNDn4VJ"
      },
      "source": [
        "As you can see in the above plot, the validation loss stopped decreasing after 25 epochs. It did improve but not very significant."
      ]
    },
    {
      "cell_type": "markdown",
      "metadata": {
        "colab_type": "text",
        "id": "FgePSmZBmSbn"
      },
      "source": [
        "# 6)-Make Predictions"
      ]
    },
    {
      "cell_type": "code",
      "metadata": {
        "colab_type": "code",
        "id": "6gh_CukCl7Al",
        "colab": {}
      },
      "source": [
        "model = load_model('model_translate.h1') \n",
        "\n",
        "preds = model.predict_classes(testX.reshape((testX.shape[0], testX.shape[1])))"
      ],
      "execution_count": 0,
      "outputs": []
    },
    {
      "cell_type": "markdown",
      "metadata": {
        "colab_type": "text",
        "id": "M-DaR0x4oA4P"
      },
      "source": [
        "These predictions are sequences of integers. We need to convert these integers to their corresponding words."
      ]
    },
    {
      "cell_type": "markdown",
      "metadata": {
        "colab_type": "text",
        "id": "VU6IOmOOoB3f"
      },
      "source": [
        "### 6.1)- Convert integers to words"
      ]
    },
    {
      "cell_type": "code",
      "metadata": {
        "colab_type": "code",
        "id": "oiy9gGAAmAat",
        "colab": {}
      },
      "source": [
        "def get_word(n, tokenizer):  \n",
        "      for word, index in tokenizer.word_index.items():                       \n",
        "          if index == n: \n",
        "              return word \n",
        "      return None"
      ],
      "execution_count": 0,
      "outputs": []
    },
    {
      "cell_type": "markdown",
      "metadata": {
        "colab_type": "text",
        "id": "KqSwZTcXmDTW"
      },
      "source": [
        "### 6.2)-Convert predictions into text (German)"
      ]
    },
    {
      "cell_type": "code",
      "metadata": {
        "colab_type": "code",
        "id": "Y82jlYQMmAg0",
        "colab": {}
      },
      "source": [
        "preds_text = [] \n",
        "for i in preds:        \n",
        "       temp = []        \n",
        "       for j in range(len(i)):             \n",
        "            t = get_word(i[j], deu_tokenizer)             \n",
        "            if j > 0:                 \n",
        "                if (t==get_word(i[j-1],deu_tokenizer))or(t== None):                       \n",
        "                     temp.append('')                 \n",
        "                else:                      \n",
        "                     temp.append(t)             \n",
        "            else:                    \n",
        "                if(t == None):                                   \n",
        "                     temp.append('')                    \n",
        "                else:                           \n",
        "                     temp.append(t)        \n",
        "       preds_text.append(' '.join(temp))"
      ],
      "execution_count": 0,
      "outputs": []
    },
    {
      "cell_type": "code",
      "metadata": {
        "colab_type": "code",
        "id": "XOAI5cB8mAj3",
        "colab": {}
      },
      "source": [
        "pred_df = pd.DataFrame({'actual' : test[:,1], 'predicted' : preds_text})"
      ],
      "execution_count": 0,
      "outputs": []
    },
    {
      "cell_type": "code",
      "metadata": {
        "colab_type": "code",
        "id": "S2orsrv6oo4o",
        "outputId": "71c0219d-db34-4643-c15a-4b94fa99dba3",
        "colab": {
          "base_uri": "https://localhost:8080/",
          "height": 195
        }
      },
      "source": [
        "# 1st 5 rows\n",
        "pred_df.head(5)"
      ],
      "execution_count": 37,
      "outputs": [
        {
          "output_type": "execute_result",
          "data": {
            "text/html": [
              "<div>\n",
              "<style scoped>\n",
              "    .dataframe tbody tr th:only-of-type {\n",
              "        vertical-align: middle;\n",
              "    }\n",
              "\n",
              "    .dataframe tbody tr th {\n",
              "        vertical-align: top;\n",
              "    }\n",
              "\n",
              "    .dataframe thead th {\n",
              "        text-align: right;\n",
              "    }\n",
              "</style>\n",
              "<table border=\"1\" class=\"dataframe\">\n",
              "  <thead>\n",
              "    <tr style=\"text-align: right;\">\n",
              "      <th></th>\n",
              "      <th>actual</th>\n",
              "      <th>predicted</th>\n",
              "    </tr>\n",
              "  </thead>\n",
              "  <tbody>\n",
              "    <tr>\n",
              "      <th>0</th>\n",
              "      <td>roberto schulz meerbudenbesitzer und vorstandsmitglied bei der interessenvertretung der anlieger pro hieve klagt das wird ein riesenklotz der alle anderen gebaude überragt</td>\n",
              "      <td></td>\n",
              "    </tr>\n",
              "    <tr>\n",
              "      <th>1</th>\n",
              "      <td>diese breite region ist beim menschen viel höher entwickelt als bei den übrigen primaten und scheint bei anderen geschöpfen gänzlich zu fehlen</td>\n",
              "      <td></td>\n",
              "    </tr>\n",
              "    <tr>\n",
              "      <th>2</th>\n",
              "      <td>wenn von moderner nachkriegsarchitektur geschwärmt wird von klaren formen gläsernen hallen mutigen schwüngen und neuen baustoffen die typisch für den glauben an den technischen fortschritt sind da...</td>\n",
              "      <td></td>\n",
              "    </tr>\n",
              "    <tr>\n",
              "      <th>3</th>\n",
              "      <td>der angeklagte bedauerte sein verhalten gestern</td>\n",
              "      <td></td>\n",
              "    </tr>\n",
              "    <tr>\n",
              "      <th>4</th>\n",
              "      <td>mit der zeit resignierte darina ja es schien sogar als ob sie sich mit ihrem untreuen mann wieder versöhnen wolle  nun aber gab sie ihm endgültig den laufpass</td>\n",
              "      <td></td>\n",
              "    </tr>\n",
              "  </tbody>\n",
              "</table>\n",
              "</div>"
            ],
            "text/plain": [
              "                                                                                                                                                                                                    actual predicted\n",
              "0                              roberto schulz meerbudenbesitzer und vorstandsmitglied bei der interessenvertretung der anlieger pro hieve klagt das wird ein riesenklotz der alle anderen gebaude überragt          \n",
              "1                                                           diese breite region ist beim menschen viel höher entwickelt als bei den übrigen primaten und scheint bei anderen geschöpfen gänzlich zu fehlen          \n",
              "2  wenn von moderner nachkriegsarchitektur geschwärmt wird von klaren formen gläsernen hallen mutigen schwüngen und neuen baustoffen die typisch für den glauben an den technischen fortschritt sind da...          \n",
              "3                                                                                                                                                          der angeklagte bedauerte sein verhalten gestern          \n",
              "4                                           mit der zeit resignierte darina ja es schien sogar als ob sie sich mit ihrem untreuen mann wieder versöhnen wolle  nun aber gab sie ihm endgültig den laufpass          "
            ]
          },
          "metadata": {
            "tags": []
          },
          "execution_count": 37
        }
      ]
    },
    {
      "cell_type": "code",
      "metadata": {
        "colab_type": "code",
        "id": "LPocsO00mJy-",
        "outputId": "b21ac9be-12f1-4e16-9306-289a2caaf9ce",
        "colab": {
          "base_uri": "https://localhost:8080/",
          "height": 212
        }
      },
      "source": [
        "# print 5 rows randomly \n",
        "pred_df.sample(5)"
      ],
      "execution_count": 38,
      "outputs": [
        {
          "output_type": "execute_result",
          "data": {
            "text/html": [
              "<div>\n",
              "<style scoped>\n",
              "    .dataframe tbody tr th:only-of-type {\n",
              "        vertical-align: middle;\n",
              "    }\n",
              "\n",
              "    .dataframe tbody tr th {\n",
              "        vertical-align: top;\n",
              "    }\n",
              "\n",
              "    .dataframe thead th {\n",
              "        text-align: right;\n",
              "    }\n",
              "</style>\n",
              "<table border=\"1\" class=\"dataframe\">\n",
              "  <thead>\n",
              "    <tr style=\"text-align: right;\">\n",
              "      <th></th>\n",
              "      <th>actual</th>\n",
              "      <th>predicted</th>\n",
              "    </tr>\n",
              "  </thead>\n",
              "  <tbody>\n",
              "    <tr>\n",
              "      <th>709</th>\n",
              "      <td>insgesamt konnte die allgemeine rücklage um rund 21 millionen euro auf jetzt insgesamt 49 millionen euro gesteigert werden</td>\n",
              "      <td></td>\n",
              "    </tr>\n",
              "    <tr>\n",
              "      <th>867</th>\n",
              "      <td>john bradshaw experte für hundeverhalten und gaststipendiat an der fakultät für tierheilkunde der universität von bristol erklärte dies sei nicht die erste studie gewesen bei der untersucht wurde ...</td>\n",
              "      <td></td>\n",
              "    </tr>\n",
              "    <tr>\n",
              "      <th>871</th>\n",
              "      <td>an die anwohner denken</td>\n",
              "      <td></td>\n",
              "    </tr>\n",
              "    <tr>\n",
              "      <th>320</th>\n",
              "      <td>das von fujitsu bisher genutzte haus am rathausplatz und die benachbarte kleine vertikale gehörten mit den übrigen gebäuden am marienbader platz vor zehn jahren zu den umstrittensten bauvorhaben d...</td>\n",
              "      <td></td>\n",
              "    </tr>\n",
              "    <tr>\n",
              "      <th>221</th>\n",
              "      <td>der erfolg der bildungsoffensive hielt sich in grenzen</td>\n",
              "      <td></td>\n",
              "    </tr>\n",
              "  </tbody>\n",
              "</table>\n",
              "</div>"
            ],
            "text/plain": [
              "                                                                                                                                                                                                      actual predicted\n",
              "709                                                                               insgesamt konnte die allgemeine rücklage um rund 21 millionen euro auf jetzt insgesamt 49 millionen euro gesteigert werden          \n",
              "867  john bradshaw experte für hundeverhalten und gaststipendiat an der fakultät für tierheilkunde der universität von bristol erklärte dies sei nicht die erste studie gewesen bei der untersucht wurde ...          \n",
              "871                                                                                                                                                                                   an die anwohner denken          \n",
              "320  das von fujitsu bisher genutzte haus am rathausplatz und die benachbarte kleine vertikale gehörten mit den übrigen gebäuden am marienbader platz vor zehn jahren zu den umstrittensten bauvorhaben d...          \n",
              "221                                                                                                                                                   der erfolg der bildungsoffensive hielt sich in grenzen          "
            ]
          },
          "metadata": {
            "tags": []
          },
          "execution_count": 38
        }
      ]
    }
  ]
}