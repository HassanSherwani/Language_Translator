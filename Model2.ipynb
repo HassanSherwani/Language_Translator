{
  "nbformat": 4,
  "nbformat_minor": 0,
  "metadata": {
    "accelerator": "GPU",
    "colab": {
      "name": "Model2.ipynb",
      "version": "0.3.2",
      "provenance": [],
      "collapsed_sections": []
    },
    "kernelspec": {
      "name": "python3",
      "display_name": "Python 3"
    },
    "language_info": {
      "codemirror_mode": {
        "name": "ipython",
        "version": 3
      },
      "file_extension": ".py",
      "mimetype": "text/x-python",
      "name": "python",
      "nbconvert_exporter": "python",
      "pygments_lexer": "ipython3",
      "version": "3.6.3"
    }
  },
  "cells": [
    {
      "cell_type": "markdown",
      "metadata": {
        "colab_type": "text",
        "id": "QJxJLfT6m4zo"
      },
      "source": [
        "# Machine Translation\n",
        "\n",
        "English-German Translation"
      ]
    },
    {
      "cell_type": "markdown",
      "metadata": {
        "colab_type": "text",
        "id": "YvFSu3KOnCQI"
      },
      "source": [
        "# 1)- Importing key modules"
      ]
    },
    {
      "cell_type": "code",
      "metadata": {
        "colab_type": "code",
        "id": "ydSdCo4JzRta",
        "colab": {}
      },
      "source": [
        "#support both Python 2 and Python 3 with minimal overhead.\n",
        "from __future__ import absolute_import, division, print_function\n",
        "#ignore warnings\n",
        "import warnings\n",
        "warnings.filterwarnings('ignore')"
      ],
      "execution_count": 0,
      "outputs": []
    },
    {
      "cell_type": "code",
      "metadata": {
        "colab_type": "code",
        "id": "HXdjBXc-zNXe",
        "colab": {}
      },
      "source": [
        "import string \n",
        "import re \n",
        "from numpy import array, argmax, random, take \n",
        "import pandas as pd \n",
        "import matplotlib.pyplot as plt \n",
        "%matplotlib inline \n",
        "pd.set_option('display.max_colwidth', 200)"
      ],
      "execution_count": 0,
      "outputs": []
    },
    {
      "cell_type": "code",
      "metadata": {
        "colab_type": "code",
        "id": "ElRcz5K3hJrC",
        "outputId": "78037caf-0e18-4a95-e5cd-7bcccef09932",
        "colab": {
          "base_uri": "https://localhost:8080/",
          "height": 34
        }
      },
      "source": [
        "from keras.models import Sequential \n",
        "from keras.layers import Dense, LSTM, Embedding, RepeatVector\n",
        "from keras.preprocessing.text import Tokenizer\n",
        "from keras.callbacks import ModelCheckpoint \n",
        "from keras.preprocessing.sequence import pad_sequences\n",
        "from keras.models import load_model \n",
        "from keras import optimizers \n"
      ],
      "execution_count": 3,
      "outputs": [
        {
          "output_type": "stream",
          "text": [
            "Using TensorFlow backend.\n"
          ],
          "name": "stderr"
        }
      ]
    },
    {
      "cell_type": "markdown",
      "metadata": {
        "colab_type": "text",
        "id": "XN_b91atnHye"
      },
      "source": [
        "# 2)- Reading Dataset"
      ]
    },
    {
      "cell_type": "code",
      "metadata": {
        "colab_type": "code",
        "id": "ZM1ZO53WhL_6",
        "colab": {}
      },
      "source": [
        "# function to read raw text file\n",
        "def read_text(filename): \n",
        "        # open the file \n",
        "        file = open(filename, mode='rt', encoding='utf-8') \n",
        "        \n",
        "        # read all text \n",
        "        text = file.read() \n",
        "        file.close() \n",
        "        return text"
      ],
      "execution_count": 0,
      "outputs": []
    },
    {
      "cell_type": "code",
      "metadata": {
        "colab_type": "code",
        "id": "3nJ3NaVchcWb",
        "colab": {}
      },
      "source": [
        "# split text into sentences \n",
        "def to_lines(text): \n",
        "      sents = text.strip().split('\\n') \n",
        "      sents = [i.split('\\t') for i in sents] \n",
        "      return sents"
      ],
      "execution_count": 0,
      "outputs": []
    },
    {
      "cell_type": "code",
      "metadata": {
        "colab_type": "code",
        "id": "liHFTvu6hffX",
        "colab": {}
      },
      "source": [
        "data = read_text(\"full_data_clean.txt\") \n",
        "deu_eng = to_lines(data) \n",
        "deu_eng = array(deu_eng)"
      ],
      "execution_count": 0,
      "outputs": []
    },
    {
      "cell_type": "markdown",
      "metadata": {
        "colab_type": "text",
        "id": "bX6QuO7xh6RK"
      },
      "source": [
        "# 3)-Text Pre-Processing"
      ]
    },
    {
      "cell_type": "code",
      "metadata": {
        "id": "MmRrgEJZotlk",
        "colab_type": "code",
        "colab": {}
      },
      "source": [
        "df= pd.read_pickle('full_data.pkl')"
      ],
      "execution_count": 0,
      "outputs": []
    },
    {
      "cell_type": "code",
      "metadata": {
        "id": "HBghzTLCo3zi",
        "colab_type": "code",
        "colab": {
          "base_uri": "https://localhost:8080/",
          "height": 106
        },
        "outputId": "a8f3c8b4-3c1c-47bb-e75f-50fd637c18f8"
      },
      "source": [
        "df.head(2)"
      ],
      "execution_count": 42,
      "outputs": [
        {
          "output_type": "execute_result",
          "data": {
            "text/html": [
              "<div>\n",
              "<style scoped>\n",
              "    .dataframe tbody tr th:only-of-type {\n",
              "        vertical-align: middle;\n",
              "    }\n",
              "\n",
              "    .dataframe tbody tr th {\n",
              "        vertical-align: top;\n",
              "    }\n",
              "\n",
              "    .dataframe thead th {\n",
              "        text-align: right;\n",
              "    }\n",
              "</style>\n",
              "<table border=\"1\" class=\"dataframe\">\n",
              "  <thead>\n",
              "    <tr style=\"text-align: right;\">\n",
              "      <th></th>\n",
              "      <th>eng</th>\n",
              "      <th>ger</th>\n",
              "    </tr>\n",
              "  </thead>\n",
              "  <tbody>\n",
              "    <tr>\n",
              "      <th>0</th>\n",
              "      <td>Prague Stock Market falls to minus by the end of the trading day</td>\n",
              "      <td>Die Prager Börse stürzt gegen Geschäftsschluss ins Minus.</td>\n",
              "    </tr>\n",
              "    <tr>\n",
              "      <th>1</th>\n",
              "      <td>After a sharp drop in the morning</td>\n",
              "      <td>Nach dem steilen Abfall am Morgen konnte die Prager Börse die Verluste korrigieren.</td>\n",
              "    </tr>\n",
              "  </tbody>\n",
              "</table>\n",
              "</div>"
            ],
            "text/plain": [
              "                                                                eng                                                                                  ger\n",
              "0  Prague Stock Market falls to minus by the end of the trading day                            Die Prager Börse stürzt gegen Geschäftsschluss ins Minus.\n",
              "1                                 After a sharp drop in the morning  Nach dem steilen Abfall am Morgen konnte die Prager Börse die Verluste korrigieren."
            ]
          },
          "metadata": {
            "tags": []
          },
          "execution_count": 42
        }
      ]
    },
    {
      "cell_type": "code",
      "metadata": {
        "id": "UYeTK6PlrZ74",
        "colab_type": "code",
        "colab": {
          "base_uri": "https://localhost:8080/",
          "height": 34
        },
        "outputId": "39ab1bed-0763-4f32-95fa-672d09af351b"
      },
      "source": [
        "df.shape"
      ],
      "execution_count": 43,
      "outputs": [
        {
          "output_type": "execute_result",
          "data": {
            "text/plain": [
              "(22191, 2)"
            ]
          },
          "metadata": {
            "tags": []
          },
          "execution_count": 43
        }
      ]
    },
    {
      "cell_type": "code",
      "metadata": {
        "id": "JFYeG9LYrV4O",
        "colab_type": "code",
        "colab": {}
      },
      "source": [
        "df_random=df.sample(5000)"
      ],
      "execution_count": 0,
      "outputs": []
    },
    {
      "cell_type": "code",
      "metadata": {
        "id": "MT5eqwzprc3N",
        "colab_type": "code",
        "colab": {
          "base_uri": "https://localhost:8080/",
          "height": 427
        },
        "outputId": "c869517c-1f8d-4dac-8bdb-42f254f7028a"
      },
      "source": [
        "df_random.head(10)"
      ],
      "execution_count": 45,
      "outputs": [
        {
          "output_type": "execute_result",
          "data": {
            "text/html": [
              "<div>\n",
              "<style scoped>\n",
              "    .dataframe tbody tr th:only-of-type {\n",
              "        vertical-align: middle;\n",
              "    }\n",
              "\n",
              "    .dataframe tbody tr th {\n",
              "        vertical-align: top;\n",
              "    }\n",
              "\n",
              "    .dataframe thead th {\n",
              "        text-align: right;\n",
              "    }\n",
              "</style>\n",
              "<table border=\"1\" class=\"dataframe\">\n",
              "  <thead>\n",
              "    <tr style=\"text-align: right;\">\n",
              "      <th></th>\n",
              "      <th>eng</th>\n",
              "      <th>ger</th>\n",
              "    </tr>\n",
              "  </thead>\n",
              "  <tbody>\n",
              "    <tr>\n",
              "      <th>7698</th>\n",
              "      <td>Lastly, they place in a glaring light the way in which the French presidency tried to manipulate the media to give credence of the idea that the Syrian president, Bachar Al-Assad played a central ...</td>\n",
              "      <td>Schließlich setzen sie die Art und Weise, mit der das französische Präsidium die Medien zu dem Zwecke zu manipulieren versucht hat, diesen die Idee glaubhaft zu machen, der syrische Präsident Bach...</td>\n",
              "    </tr>\n",
              "    <tr>\n",
              "      <th>7830</th>\n",
              "      <td>An important bonds manager said yesterday that the Bank must at all costs offsat the shortage of investors in the market and prevent a boom of payments by the most vulnerable States.</td>\n",
              "      <td>\"Sie muss zu jedem Preis an die Steller der mangelnden Investoren auf dem Markt treten und derart handeln, um die vorschnelle Begeisterung über die an die schwächsten Staaten gezahlten Renditen zu...</td>\n",
              "    </tr>\n",
              "    <tr>\n",
              "      <th>20876</th>\n",
              "      <td>Breit got her interest in fashion from her mother, when she was still in the cradle.</td>\n",
              "      <td>Ihr Mode-Interesse hat Breit von ihrer Mutter in die Wiege gelegt bekommen.</td>\n",
              "    </tr>\n",
              "    <tr>\n",
              "      <th>717</th>\n",
              "      <td>It was the biggest one-day point-drop in its history.</td>\n",
              "      <td>Das war der größte Punkteverlust innerhalb eines Tages in seiner Geschichte.</td>\n",
              "    </tr>\n",
              "    <tr>\n",
              "      <th>4896</th>\n",
              "      <td>The white club has been the third on the continent to have pocketed more money from participating, and the only one, after AC Milan, to have won the trophy three times.</td>\n",
              "      <td>Der weiβe Club liegt an dritter Stelle Europas, der am meisten Geld durch seine Teilnahme verdient hat und der neben dem AC Mailand der einzige, der dreimal die Trophäe gewonnen hat.</td>\n",
              "    </tr>\n",
              "    <tr>\n",
              "      <th>2708</th>\n",
              "      <td>Traditionally, the most highly-anticipated award, the Nobel Peace Prize, went to the American president Barack Obama in the Norwegian city of Oslo this afternoon.</td>\n",
              "      <td>Traditionsgemäß hat der amerikanische Präsident, Barak Obama, den am meisten erwarteten Friedennobelpreis schon heute nachmittag in Oslo erhalten.</td>\n",
              "    </tr>\n",
              "    <tr>\n",
              "      <th>4813</th>\n",
              "      <td>What is logical is that Ecofin has forced the Greek government to be transparent, and make its citizens jointly responsible for the need for extraordinary measures to maintain the stability of its...</td>\n",
              "      <td>Dagegen ist es logisch, dass Ecofin die griechische Regierung dazu gezwungen hat, transparent zu sein und seine Bürger bei der Notwendigkeit von auβergewöhnlicchen Maβnahmen mit in die Pflicht zu ...</td>\n",
              "    </tr>\n",
              "    <tr>\n",
              "      <th>19270</th>\n",
              "      <td>Michael J. Fox Jokes About His 'Date' With Princess Diana</td>\n",
              "      <td>Michael J. Fox scherzt über sein \"Date\" mit Prinzessin Diana</td>\n",
              "    </tr>\n",
              "    <tr>\n",
              "      <th>14903</th>\n",
              "      <td>Basketball: Hopes are growing for the Neckar Riesen (Neckar Giants).</td>\n",
              "      <td>Basketball: Die Hoffnung der Neckar Riesen wächst</td>\n",
              "    </tr>\n",
              "    <tr>\n",
              "      <th>11292</th>\n",
              "      <td>He's worked with great players.</td>\n",
              "      <td>Er hatte Kontakt mit großen Spielern.</td>\n",
              "    </tr>\n",
              "  </tbody>\n",
              "</table>\n",
              "</div>"
            ],
            "text/plain": [
              "                                                                                                                                                                                                           eng                                                                                                                                                                                                      ger\n",
              "7698   Lastly, they place in a glaring light the way in which the French presidency tried to manipulate the media to give credence of the idea that the Syrian president, Bachar Al-Assad played a central ...  Schließlich setzen sie die Art und Weise, mit der das französische Präsidium die Medien zu dem Zwecke zu manipulieren versucht hat, diesen die Idee glaubhaft zu machen, der syrische Präsident Bach...\n",
              "7830                    An important bonds manager said yesterday that the Bank must at all costs offsat the shortage of investors in the market and prevent a boom of payments by the most vulnerable States.  \"Sie muss zu jedem Preis an die Steller der mangelnden Investoren auf dem Markt treten und derart handeln, um die vorschnelle Begeisterung über die an die schwächsten Staaten gezahlten Renditen zu...\n",
              "20876                                                                                                                     Breit got her interest in fashion from her mother, when she was still in the cradle.                                                                                                                              Ihr Mode-Interesse hat Breit von ihrer Mutter in die Wiege gelegt bekommen.\n",
              "717                                                                                                                                                      It was the biggest one-day point-drop in its history.                                                                                                                             Das war der größte Punkteverlust innerhalb eines Tages in seiner Geschichte.\n",
              "4896                                  The white club has been the third on the continent to have pocketed more money from participating, and the only one, after AC Milan, to have won the trophy three times.                   Der weiβe Club liegt an dritter Stelle Europas, der am meisten Geld durch seine Teilnahme verdient hat und der neben dem AC Mailand der einzige, der dreimal die Trophäe gewonnen hat.\n",
              "2708                                        Traditionally, the most highly-anticipated award, the Nobel Peace Prize, went to the American president Barack Obama in the Norwegian city of Oslo this afternoon.                                                       Traditionsgemäß hat der amerikanische Präsident, Barak Obama, den am meisten erwarteten Friedennobelpreis schon heute nachmittag in Oslo erhalten.\n",
              "4813   What is logical is that Ecofin has forced the Greek government to be transparent, and make its citizens jointly responsible for the need for extraordinary measures to maintain the stability of its...  Dagegen ist es logisch, dass Ecofin die griechische Regierung dazu gezwungen hat, transparent zu sein und seine Bürger bei der Notwendigkeit von auβergewöhnlicchen Maβnahmen mit in die Pflicht zu ...\n",
              "19270                                                                                                                                                Michael J. Fox Jokes About His 'Date' With Princess Diana                                                                                                                                             Michael J. Fox scherzt über sein \"Date\" mit Prinzessin Diana\n",
              "14903                                                                                                                                     Basketball: Hopes are growing for the Neckar Riesen (Neckar Giants).                                                                                                                                                        Basketball: Die Hoffnung der Neckar Riesen wächst\n",
              "11292                                                                                                                                                                          He's worked with great players.                                                                                                                                                                    Er hatte Kontakt mit großen Spielern."
            ]
          },
          "metadata": {
            "tags": []
          },
          "execution_count": 45
        }
      ]
    },
    {
      "cell_type": "code",
      "metadata": {
        "id": "KLu17zototon",
        "colab_type": "code",
        "colab": {}
      },
      "source": [
        "deu_eng=df_random.values"
      ],
      "execution_count": 0,
      "outputs": []
    },
    {
      "cell_type": "code",
      "metadata": {
        "id": "5azilzTootrW",
        "colab_type": "code",
        "colab": {
          "base_uri": "https://localhost:8080/",
          "height": 34
        },
        "outputId": "57754313-962e-4d13-8b2d-b92c05730d5d"
      },
      "source": [
        "type(deu_eng)"
      ],
      "execution_count": 47,
      "outputs": [
        {
          "output_type": "execute_result",
          "data": {
            "text/plain": [
              "numpy.ndarray"
            ]
          },
          "metadata": {
            "tags": []
          },
          "execution_count": 47
        }
      ]
    },
    {
      "cell_type": "code",
      "metadata": {
        "id": "MSFX69O1ns-b",
        "colab_type": "code",
        "colab": {
          "base_uri": "https://localhost:8080/",
          "height": 87
        },
        "outputId": "d9114fd5-d52c-4045-c269-de65609b851c"
      },
      "source": [
        "deu_eng[0]"
      ],
      "execution_count": 48,
      "outputs": [
        {
          "output_type": "execute_result",
          "data": {
            "text/plain": [
              "array(['Lastly, they place in a glaring light the way in which the French presidency tried to manipulate the media to give credence of the idea that the Syrian president, Bachar Al-Assad played a central part in the release of Clotilde Reiss.',\n",
              "       'Schließlich setzen sie die Art und Weise, mit der das französische Präsidium die Medien zu dem Zwecke zu manipulieren versucht hat, diesen die Idee glaubhaft zu machen, der syrische Präsident Bachar Al-Assad habe eine zentrale Rolle bei der Befreiung von Clotilde Reiss gespielt, in ein grelles Licht.'],\n",
              "      dtype=object)"
            ]
          },
          "metadata": {
            "tags": []
          },
          "execution_count": 48
        }
      ]
    },
    {
      "cell_type": "code",
      "metadata": {
        "colab_type": "code",
        "id": "o1FK1T2Kicbi",
        "outputId": "f2717a48-0595-4d41-adbc-ba07bf8a9025",
        "colab": {
          "base_uri": "https://localhost:8080/",
          "height": 138
        }
      },
      "source": [
        "# for english part \n",
        "deu_eng[:,0]"
      ],
      "execution_count": 49,
      "outputs": [
        {
          "output_type": "execute_result",
          "data": {
            "text/plain": [
              "array(['Lastly, they place in a glaring light the way in which the French presidency tried to manipulate the media to give credence of the idea that the Syrian president, Bachar Al-Assad played a central part in the release of Clotilde Reiss.',\n",
              "       'An important bonds manager said yesterday that the Bank must at all costs offsat the shortage of investors in the market and prevent a boom of payments by the most vulnerable States.',\n",
              "       'Breit got her interest in fashion from her mother, when she was still in the cradle.',\n",
              "       ..., 'All a nonsense', 'This we know.',\n",
              "       '\"All wins are fun, no matter how it happens,\" Tigers manager Brad Ausmus said.'],\n",
              "      dtype=object)"
            ]
          },
          "metadata": {
            "tags": []
          },
          "execution_count": 49
        }
      ]
    },
    {
      "cell_type": "code",
      "metadata": {
        "colab_type": "code",
        "id": "Z2CAJPD_ifVc",
        "outputId": "5441f659-0a49-40b8-bf18-f764b2781d47",
        "colab": {
          "base_uri": "https://localhost:8080/",
          "height": 138
        }
      },
      "source": [
        "# for german part of lang.\n",
        "deu_eng[:,1]"
      ],
      "execution_count": 50,
      "outputs": [
        {
          "output_type": "execute_result",
          "data": {
            "text/plain": [
              "array(['Schließlich setzen sie die Art und Weise, mit der das französische Präsidium die Medien zu dem Zwecke zu manipulieren versucht hat, diesen die Idee glaubhaft zu machen, der syrische Präsident Bachar Al-Assad habe eine zentrale Rolle bei der Befreiung von Clotilde Reiss gespielt, in ein grelles Licht.',\n",
              "       '\"Sie muss zu jedem Preis an die Steller der mangelnden Investoren auf dem Markt treten und derart handeln, um die vorschnelle Begeisterung über die an die schwächsten Staaten gezahlten Renditen zu verhindern\", bezeugte gestern ein wichtiger Obligationeninhaber.',\n",
              "       'Ihr Mode-Interesse hat Breit von ihrer Mutter in die Wiege gelegt bekommen.',\n",
              "       ..., 'Natürlich ist das eine Menge Unsinn', 'Das wissen wir.',\n",
              "       '\"Alle Siege machen Spaß, egal wie es kommt\", sagte Tigers Manager Brad Ausmus.'],\n",
              "      dtype=object)"
            ]
          },
          "metadata": {
            "tags": []
          },
          "execution_count": 50
        }
      ]
    },
    {
      "cell_type": "markdown",
      "metadata": {
        "colab_type": "text",
        "id": "GEia-m7ViPLD"
      },
      "source": [
        "### 3.1)-Text cleaning"
      ]
    },
    {
      "cell_type": "code",
      "metadata": {
        "colab_type": "code",
        "id": "WmC81k-wh8ZJ",
        "colab": {}
      },
      "source": [
        "# Remove punctuation \n",
        "deu_eng[:,0] = [s.translate(str.maketrans('', '', string.punctuation)) for s in deu_eng[:,0]] \n",
        "deu_eng[:,1] = [s.translate(str.maketrans('', '', string.punctuation)) for s in deu_eng[:,1]] \n",
        "\n",
        "# convert text to lowercase \n",
        "for i in range(len(deu_eng)): \n",
        "    deu_eng[i,0] = deu_eng[i,0].lower() \n",
        "    deu_eng[i,1] = deu_eng[i,1].lower()"
      ],
      "execution_count": 0,
      "outputs": []
    },
    {
      "cell_type": "markdown",
      "metadata": {
        "colab_type": "text",
        "id": "4FdyDdXwiS9i"
      },
      "source": [
        "### 3.2)-Text to Sequence Conversion"
      ]
    },
    {
      "cell_type": "code",
      "metadata": {
        "colab_type": "code",
        "id": "8pxu1-xNh8cA",
        "outputId": "d2e1675b-f53a-40d7-891d-5075458a3aea",
        "colab": {
          "base_uri": "https://localhost:8080/",
          "height": 281
        }
      },
      "source": [
        "# empty lists \n",
        "eng_l = [] \n",
        "deu_l = [] \n",
        "\n",
        "# populate the lists with sentence lengths \n",
        "for i in deu_eng[:,0]: \n",
        "      eng_l.append(len(i.split())) \n",
        "\n",
        "for i in deu_eng[:,1]: \n",
        "      deu_l.append(len(i.split())) \n",
        "\n",
        "length_df = pd.DataFrame({'eng':eng_l, 'deu':deu_l})\n",
        "length_df.hist(bins = 30) \n",
        "plt.show()"
      ],
      "execution_count": 52,
      "outputs": [
        {
          "output_type": "display_data",
          "data": {
            "image/png": "[encoded data removed]",
            "text/plain": [
              "<Figure size 432x288 with 2 Axes>"
            ]
          },
          "metadata": {
            "tags": []
          }
        }
      ]
    },
    {
      "cell_type": "markdown",
      "metadata": {
        "colab_type": "text",
        "id": "2De4ZERJzX_4"
      },
      "source": [
        "the maximum length of the German sentences is 78 and that of the English phrases is 75."
      ]
    },
    {
      "cell_type": "markdown",
      "metadata": {
        "colab_type": "text",
        "id": "Lpt6tCjfkGKu"
      },
      "source": [
        "### 3.3)-vectorize our text data \n",
        "\n",
        "by using Keras’s Tokenizer()"
      ]
    },
    {
      "cell_type": "code",
      "metadata": {
        "colab_type": "code",
        "id": "_j_y_uZ7h8e6",
        "outputId": "10171f6e-8ac8-4921-d29f-f095aaa8e9d2",
        "colab": {
          "base_uri": "https://localhost:8080/",
          "height": 34
        }
      },
      "source": [
        "# function to build a tokenizer \n",
        "def tokenization(lines): \n",
        "      tokenizer = Tokenizer() \n",
        "      tokenizer.fit_on_texts(lines) \n",
        "      return tokenizer\n",
        "\n",
        "# prepare english tokenizer \n",
        "eng_tokenizer = tokenization(deu_eng[:, 0]) \n",
        "eng_vocab_size = len(eng_tokenizer.word_index) + 1 \n",
        "eng_length = 8 \n",
        "\n",
        "print('English Vocabulary Size: %d' % eng_vocab_size)"
      ],
      "execution_count": 53,
      "outputs": [
        {
          "output_type": "stream",
          "text": [
            "English Vocabulary Size: 14491\n"
          ],
          "name": "stdout"
        }
      ]
    },
    {
      "cell_type": "code",
      "metadata": {
        "colab_type": "code",
        "id": "0ha_ZNySh8hh",
        "outputId": "5aec0219-7b4f-483d-f719-1cd9928fe5ec",
        "colab": {
          "base_uri": "https://localhost:8080/",
          "height": 34
        }
      },
      "source": [
        "# prepare Deutch tokenizer \n",
        "deu_tokenizer = tokenization(deu_eng[:, 1]) \n",
        "deu_vocab_size = len(deu_tokenizer.word_index) + 1 \n",
        "deu_length = 8 \n",
        "print('Deutch Vocabulary Size: %d' % deu_vocab_size)"
      ],
      "execution_count": 54,
      "outputs": [
        {
          "output_type": "stream",
          "text": [
            "Deutch Vocabulary Size: 20662\n"
          ],
          "name": "stdout"
        }
      ]
    },
    {
      "cell_type": "markdown",
      "metadata": {
        "colab_type": "text",
        "id": "XvmowmplzfdT"
      },
      "source": [
        "There is difference in amount of words in two languages.We need to encode sequence"
      ]
    },
    {
      "cell_type": "markdown",
      "metadata": {
        "colab_type": "text",
        "id": "cUY-Py6WzhtB"
      },
      "source": [
        "### 3.4)-encode and pad sequences "
      ]
    },
    {
      "cell_type": "code",
      "metadata": {
        "colab_type": "code",
        "id": "QElAizsykOtJ",
        "colab": {}
      },
      "source": [
        "def encode_sequences(tokenizer, length, lines):          \n",
        "         # integer encode sequences          \n",
        "         seq = tokenizer.texts_to_sequences(lines)          \n",
        "         # pad sequences with 0 values          \n",
        "         seq = pad_sequences(seq, maxlen=length, padding='post')           \n",
        "         return seq"
      ],
      "execution_count": 0,
      "outputs": []
    },
    {
      "cell_type": "markdown",
      "metadata": {
        "colab_type": "text",
        "id": "408A3w7Ukb4r"
      },
      "source": [
        "# 4)-Model Building"
      ]
    },
    {
      "cell_type": "markdown",
      "metadata": {
        "colab_type": "text",
        "id": "kJF5iWUOnUgC"
      },
      "source": [
        "### 4.1)- Train-test Split\n",
        "\n",
        "80%-20%"
      ]
    },
    {
      "cell_type": "code",
      "metadata": {
        "colab_type": "code",
        "id": "GzxozTM0kZk7",
        "colab": {}
      },
      "source": [
        "from sklearn.model_selection import train_test_split \n",
        "\n",
        "# split data into train and test set \n",
        "train,test= train_test_split(deu_eng,test_size=0.2,random_state= 12)"
      ],
      "execution_count": 0,
      "outputs": []
    },
    {
      "cell_type": "markdown",
      "metadata": {
        "colab_type": "text",
        "id": "xvyO7SdQkr88"
      },
      "source": [
        "### 4.2)- Defining input and target\n",
        "We will encode English sentences as the input sequences and German sentences as the target sequences"
      ]
    },
    {
      "cell_type": "code",
      "metadata": {
        "colab_type": "code",
        "id": "wJvJMU9Vzr-7",
        "outputId": "8693c4a8-5431-4c93-e78a-ad2246900c77",
        "colab": {
          "base_uri": "https://localhost:8080/",
          "height": 171
        }
      },
      "source": [
        "# english version\n",
        "train[:, 0]"
      ],
      "execution_count": 57,
      "outputs": [
        {
          "output_type": "execute_result",
          "data": {
            "text/plain": [
              "array(['it is issued to him and given through the fence',\n",
              "       'when choosing the size of your mattress thickness add one foot length to your height which is about 2134 cm',\n",
              "       'a good portion of the store is given over to the massive freezer section where youll find frozen curry leaves bitter melon and galangal whole ducks fish beef blood and bile pork casings fish balls regional sausages commerciallyprepared foods and more',\n",
              "       ...,\n",
              "       'ruins measuring five metres tall made from stones around the size of the palm of your hand are waiting to be discovered',\n",
              "       'the latters order is likely to have been a similar one get me goal number two',\n",
              "       'fiftyone percent of those surveyed are against cooperating with the syrian ruler bashar alassad but 20 percent were in favour'],\n",
              "      dtype=object)"
            ]
          },
          "metadata": {
            "tags": []
          },
          "execution_count": 57
        }
      ]
    },
    {
      "cell_type": "code",
      "metadata": {
        "colab_type": "code",
        "id": "TcMT6wFoztLT",
        "outputId": "ea9b5c18-f7a9-4937-f7b5-e936a43d98b4",
        "colab": {
          "base_uri": "https://localhost:8080/",
          "height": 171
        }
      },
      "source": [
        "# english version\n",
        "train[:, 1]"
      ],
      "execution_count": 58,
      "outputs": [
        {
          "output_type": "execute_result",
          "data": {
            "text/plain": [
              "array(['die waffe wird ausgestellt und durch den zaun übergeben',\n",
              "       'bei der wahl der matratzengröße sollte man zur körpergröße immer noch die länge der fußsohlen hinzurechnen also ca 21 bis 34 cm',\n",
              "       'ein guter teil des ladens gehört der massiven gefrierabteilung hier finden sie gefrorene curryblätter bittere melone und galgant ganze enten fisch rinderblut und galle schweinenaturdarm fischbällchen regionale wurst kommerziell zubereitete lebensmittel und mehr',\n",
              "       ...,\n",
              "       'zu sehen sind etwa fünf meter hohe ruinen aus handtellergroßen steinen',\n",
              "       'dessen befehl wird ähnlich gelautet haben her mit tor zwei',\n",
              "       'eine zusammenarbeit mit dem syrischen machthaber baschar alassad lehnen 51 prozent der befragten ab 20 prozent wären dafür'],\n",
              "      dtype=object)"
            ]
          },
          "metadata": {
            "tags": []
          },
          "execution_count": 58
        }
      ]
    },
    {
      "cell_type": "code",
      "metadata": {
        "colab_type": "code",
        "id": "P6ZhWiJdkkb8",
        "colab": {}
      },
      "source": [
        "# prepare training data \n",
        "trainX = encode_sequences(eng_tokenizer, deu_length, train[:, 0]) \n",
        "trainY = encode_sequences(deu_tokenizer, eng_length, train[:, 1]) \n",
        "\n",
        "# prepare validation data \n",
        "testX = encode_sequences(eng_tokenizer, deu_length, test[:, 0]) \n",
        "testY = encode_sequences(deu_tokenizer, eng_length, test[:, 1])"
      ],
      "execution_count": 0,
      "outputs": []
    },
    {
      "cell_type": "code",
      "metadata": {
        "colab_type": "code",
        "id": "f2LKJrFfz0GI",
        "outputId": "5a0fbcca-30f2-4222-bbfb-a55ca2807f93",
        "colab": {
          "base_uri": "https://localhost:8080/",
          "height": 101
        }
      },
      "source": [
        "print(trainX[:5])"
      ],
      "execution_count": 60,
      "outputs": [
        {
          "output_type": "stream",
          "text": [
            "[[  941     3    79     5   269   129     1  1618]\n",
            " [    3    97  2447    30     7    47 14294 14295]\n",
            " [ 1588 12943   623 12944 12945  5797     5    41]\n",
            " [ 2617    49   735  3318    18    70   944  4481]\n",
            " [    5   145  6017  2479    15    44  2138  1432]]\n"
          ],
          "name": "stdout"
        }
      ]
    },
    {
      "cell_type": "code",
      "metadata": {
        "colab_type": "code",
        "id": "L81CkA-Rz0Jh",
        "outputId": "3c052937-0bde-43b0-ec86-357171242525",
        "colab": {
          "base_uri": "https://localhost:8080/",
          "height": 101
        }
      },
      "source": [
        "print(trainY[:5])"
      ],
      "execution_count": 61,
      "outputs": [
        {
          "output_type": "stream",
          "text": [
            "[[ 2832    37  2641     3    61     7  4001  6411]\n",
            " [20291 20292   186   659   631    63  2979  3364]\n",
            " [17929  3620  6354 17930 17931  1905     3    56]\n",
            " [   20     5   245  1075   708  4149   131    44]\n",
            " [13752    50   440 13753    38   177  1629  1362]]\n"
          ],
          "name": "stdout"
        }
      ]
    },
    {
      "cell_type": "code",
      "metadata": {
        "colab_type": "code",
        "id": "plUoF_-gz0Mh",
        "outputId": "ffd4babc-f8e7-463f-c1d1-a221ed01a69a",
        "colab": {
          "base_uri": "https://localhost:8080/",
          "height": 84
        }
      },
      "source": [
        "print(trainX.shape)\n",
        "print(trainY.shape)\n",
        "print(testX.shape)\n",
        "print(testY.shape)"
      ],
      "execution_count": 62,
      "outputs": [
        {
          "output_type": "stream",
          "text": [
            "(4000, 8)\n",
            "(4000, 8)\n",
            "(1000, 8)\n",
            "(1000, 8)\n"
          ],
          "name": "stdout"
        }
      ]
    },
    {
      "cell_type": "markdown",
      "metadata": {
        "colab_type": "text",
        "id": "7ubte9AUngfx"
      },
      "source": [
        "### 4.3)- build NMT model"
      ]
    },
    {
      "cell_type": "code",
      "metadata": {
        "colab_type": "code",
        "id": "CuEMUhwV248X",
        "outputId": "06f22f0f-d734-4915-ee78-c41321070d6b",
        "colab": {
          "base_uri": "https://localhost:8080/",
          "height": 34
        }
      },
      "source": [
        "eng_length"
      ],
      "execution_count": 63,
      "outputs": [
        {
          "output_type": "execute_result",
          "data": {
            "text/plain": [
              "8"
            ]
          },
          "metadata": {
            "tags": []
          },
          "execution_count": 63
        }
      ]
    },
    {
      "cell_type": "code",
      "metadata": {
        "colab_type": "code",
        "id": "afiv_7mw26av",
        "outputId": "e332a8ef-d726-409f-c420-c2cceba869a1",
        "colab": {
          "base_uri": "https://localhost:8080/",
          "height": 34
        }
      },
      "source": [
        "deu_length"
      ],
      "execution_count": 64,
      "outputs": [
        {
          "output_type": "execute_result",
          "data": {
            "text/plain": [
              "8"
            ]
          },
          "metadata": {
            "tags": []
          },
          "execution_count": 64
        }
      ]
    },
    {
      "cell_type": "code",
      "metadata": {
        "colab_type": "code",
        "id": "yORpCfMCkkjz",
        "colab": {}
      },
      "source": [
        " def build_model(in_vocab,out_vocab, in_timesteps,out_timesteps,n):   \n",
        "      model = Sequential() \n",
        "      model.add(Embedding(in_vocab, n, input_length=in_timesteps,   \n",
        "      mask_zero=True)) \n",
        "      model.add(LSTM(n)) \n",
        "      model.add(RepeatVector(out_timesteps)) \n",
        "      model.add(LSTM(n, return_sequences=True))  \n",
        "      model.add(Dense(out_vocab, activation='softmax')) \n",
        "      return model"
      ],
      "execution_count": 0,
      "outputs": []
    },
    {
      "cell_type": "code",
      "metadata": {
        "colab_type": "code",
        "id": "H_0LMdC6lgnp",
        "colab": {}
      },
      "source": [
        "# model compilation (with 512 hidden units)\n",
        "model = build_model(eng_vocab_size,deu_vocab_size, eng_length, deu_length, 512)\n",
        "\n",
        "rms = optimizers.RMSprop(lr=0.001) \n",
        "model.compile(optimizer=rms, loss='sparse_categorical_crossentropy')"
      ],
      "execution_count": 0,
      "outputs": []
    },
    {
      "cell_type": "code",
      "metadata": {
        "colab_type": "code",
        "id": "BA8KW2_80Hs3",
        "outputId": "4a55eb38-4d82-4d6c-d9e2-70f9d18faa49",
        "colab": {
          "base_uri": "https://localhost:8080/",
          "height": 319
        }
      },
      "source": [
        "model.summary()"
      ],
      "execution_count": 67,
      "outputs": [
        {
          "output_type": "stream",
          "text": [
            "Model: \"sequential_2\"\n",
            "_________________________________________________________________\n",
            "Layer (type)                 Output Shape              Param #   \n",
            "=================================================================\n",
            "embedding_2 (Embedding)      (None, 8, 512)            7419392   \n",
            "_________________________________________________________________\n",
            "lstm_3 (LSTM)                (None, 512)               2099200   \n",
            "_________________________________________________________________\n",
            "repeat_vector_2 (RepeatVecto (None, 8, 512)            0         \n",
            "_________________________________________________________________\n",
            "lstm_4 (LSTM)                (None, 8, 512)            2099200   \n",
            "_________________________________________________________________\n",
            "dense_2 (Dense)              (None, 8, 20662)          10599606  \n",
            "=================================================================\n",
            "Total params: 22,217,398\n",
            "Trainable params: 22,217,398\n",
            "Non-trainable params: 0\n",
            "_________________________________________________________________\n"
          ],
          "name": "stdout"
        }
      ]
    },
    {
      "cell_type": "code",
      "metadata": {
        "colab_type": "code",
        "id": "9M1ukVFAlkFz",
        "outputId": "17201c75-acfe-4b13-e444-1ffbb820e297",
        "colab": {
          "base_uri": "https://localhost:8080/",
          "height": 1000
        }
      },
      "source": [
        "filename = 'model_translate.h1' \n",
        "\n",
        "# set checkpoint\n",
        "checkpoint = ModelCheckpoint(filename, monitor='val_loss',  \n",
        "                             verbose=1, save_best_only=True, \n",
        "                             mode='min') \n",
        "\n",
        "\n",
        "# train model \n",
        "history = model.fit(trainX, trainY.reshape(trainY.shape[0], trainY.shape[1], 1), \n",
        "                    epochs=30, batch_size=512, validation_split = 0.2, \n",
        "                    callbacks=[checkpoint], verbose=1)"
      ],
      "execution_count": 68,
      "outputs": [
        {
          "output_type": "stream",
          "text": [
            "Train on 3200 samples, validate on 800 samples\n",
            "Epoch 1/30\n",
            "3200/3200 [==============================] - 5s 2ms/step - loss: 9.2146 - val_loss: 8.1807\n",
            "\n",
            "Epoch 00001: val_loss improved from inf to 8.18068, saving model to model_translate.h1\n",
            "Epoch 2/30\n",
            "3200/3200 [==============================] - 3s 918us/step - loss: 7.6958 - val_loss: 8.3215\n",
            "\n",
            "Epoch 00002: val_loss did not improve from 8.18068\n",
            "Epoch 3/30\n",
            "3200/3200 [==============================] - 3s 921us/step - loss: 7.4887 - val_loss: 8.4361\n",
            "\n",
            "Epoch 00003: val_loss did not improve from 8.18068\n",
            "Epoch 4/30\n",
            "3200/3200 [==============================] - 3s 926us/step - loss: 7.3985 - val_loss: 8.5338\n",
            "\n",
            "Epoch 00004: val_loss did not improve from 8.18068\n",
            "Epoch 5/30\n",
            "3200/3200 [==============================] - 3s 926us/step - loss: 7.3715 - val_loss: 8.6195\n",
            "\n",
            "Epoch 00005: val_loss did not improve from 8.18068\n",
            "Epoch 6/30\n",
            "3200/3200 [==============================] - 3s 917us/step - loss: 7.3057 - val_loss: 8.8273\n",
            "\n",
            "Epoch 00006: val_loss did not improve from 8.18068\n",
            "Epoch 7/30\n",
            "3200/3200 [==============================] - 3s 922us/step - loss: 7.3331 - val_loss: 8.8089\n",
            "\n",
            "Epoch 00007: val_loss did not improve from 8.18068\n",
            "Epoch 8/30\n",
            "3200/3200 [==============================] - 3s 924us/step - loss: 7.2519 - val_loss: 8.8835\n",
            "\n",
            "Epoch 00008: val_loss did not improve from 8.18068\n",
            "Epoch 9/30\n",
            "3200/3200 [==============================] - 3s 929us/step - loss: 7.2246 - val_loss: 8.9221\n",
            "\n",
            "Epoch 00009: val_loss did not improve from 8.18068\n",
            "Epoch 10/30\n",
            "3200/3200 [==============================] - 3s 930us/step - loss: 7.1774 - val_loss: 8.9748\n",
            "\n",
            "Epoch 00010: val_loss did not improve from 8.18068\n",
            "Epoch 11/30\n",
            "3200/3200 [==============================] - 3s 925us/step - loss: 7.1448 - val_loss: 8.9717\n",
            "\n",
            "Epoch 00011: val_loss did not improve from 8.18068\n",
            "Epoch 12/30\n",
            "3200/3200 [==============================] - 3s 921us/step - loss: 7.1112 - val_loss: 8.9328\n",
            "\n",
            "Epoch 00012: val_loss did not improve from 8.18068\n",
            "Epoch 13/30\n",
            "3200/3200 [==============================] - 3s 927us/step - loss: 7.1066 - val_loss: 8.9641\n",
            "\n",
            "Epoch 00013: val_loss did not improve from 8.18068\n",
            "Epoch 14/30\n",
            "3200/3200 [==============================] - 3s 926us/step - loss: 7.0396 - val_loss: 8.9555\n",
            "\n",
            "Epoch 00014: val_loss did not improve from 8.18068\n",
            "Epoch 15/30\n",
            "3200/3200 [==============================] - 3s 925us/step - loss: 7.0266 - val_loss: 8.9788\n",
            "\n",
            "Epoch 00015: val_loss did not improve from 8.18068\n",
            "Epoch 16/30\n",
            "3200/3200 [==============================] - 3s 936us/step - loss: 7.0220 - val_loss: 8.9814\n",
            "\n",
            "Epoch 00016: val_loss did not improve from 8.18068\n",
            "Epoch 17/30\n",
            "3200/3200 [==============================] - 3s 932us/step - loss: 6.9309 - val_loss: 9.0182\n",
            "\n",
            "Epoch 00017: val_loss did not improve from 8.18068\n",
            "Epoch 18/30\n",
            "3200/3200 [==============================] - 3s 937us/step - loss: 6.9267 - val_loss: 8.9841\n",
            "\n",
            "Epoch 00018: val_loss did not improve from 8.18068\n",
            "Epoch 19/30\n",
            "3200/3200 [==============================] - 3s 932us/step - loss: 6.8854 - val_loss: 8.9975\n",
            "\n",
            "Epoch 00019: val_loss did not improve from 8.18068\n",
            "Epoch 20/30\n",
            "3200/3200 [==============================] - 3s 928us/step - loss: 6.8641 - val_loss: 9.0570\n",
            "\n",
            "Epoch 00020: val_loss did not improve from 8.18068\n",
            "Epoch 21/30\n",
            "3200/3200 [==============================] - 3s 933us/step - loss: 6.8933 - val_loss: 9.0119\n",
            "\n",
            "Epoch 00021: val_loss did not improve from 8.18068\n",
            "Epoch 22/30\n",
            "3200/3200 [==============================] - 3s 930us/step - loss: 6.7763 - val_loss: 9.0394\n",
            "\n",
            "Epoch 00022: val_loss did not improve from 8.18068\n",
            "Epoch 23/30\n",
            "3200/3200 [==============================] - 3s 931us/step - loss: 6.7504 - val_loss: 8.9997\n",
            "\n",
            "Epoch 00023: val_loss did not improve from 8.18068\n",
            "Epoch 24/30\n",
            "3200/3200 [==============================] - 3s 931us/step - loss: 6.7483 - val_loss: 9.0514\n",
            "\n",
            "Epoch 00024: val_loss did not improve from 8.18068\n",
            "Epoch 25/30\n",
            "3200/3200 [==============================] - 3s 929us/step - loss: 6.7101 - val_loss: 9.0936\n",
            "\n",
            "Epoch 00025: val_loss did not improve from 8.18068\n",
            "Epoch 26/30\n",
            "3200/3200 [==============================] - 3s 932us/step - loss: 6.6815 - val_loss: 9.0787\n",
            "\n",
            "Epoch 00026: val_loss did not improve from 8.18068\n",
            "Epoch 27/30\n",
            "3200/3200 [==============================] - 3s 926us/step - loss: 6.6481 - val_loss: 9.0650\n",
            "\n",
            "Epoch 00027: val_loss did not improve from 8.18068\n",
            "Epoch 28/30\n",
            "3200/3200 [==============================] - 3s 931us/step - loss: 6.6175 - val_loss: 9.0820\n",
            "\n",
            "Epoch 00028: val_loss did not improve from 8.18068\n",
            "Epoch 29/30\n",
            "3200/3200 [==============================] - 3s 933us/step - loss: 6.5635 - val_loss: 9.1014\n",
            "\n",
            "Epoch 00029: val_loss did not improve from 8.18068\n",
            "Epoch 30/30\n",
            "3200/3200 [==============================] - 3s 932us/step - loss: 6.5730 - val_loss: 9.1162\n",
            "\n",
            "Epoch 00030: val_loss did not improve from 8.18068\n"
          ],
          "name": "stdout"
        }
      ]
    },
    {
      "cell_type": "markdown",
      "metadata": {
        "colab_type": "text",
        "id": "nwrL0_sjmUuO"
      },
      "source": [
        "# 5)-Plotting results"
      ]
    },
    {
      "cell_type": "code",
      "metadata": {
        "colab_type": "code",
        "id": "iUYdtjQXlupF",
        "outputId": "147bb39e-ace1-4c61-d0e8-2000796e051e",
        "colab": {
          "base_uri": "https://localhost:8080/",
          "height": 269
        }
      },
      "source": [
        "plt.plot(history.history['loss']) \n",
        "plt.plot(history.history['val_loss']) \n",
        "plt.legend(['train','validation']) \n",
        "plt.show()"
      ],
      "execution_count": 69,
      "outputs": [
        {
          "output_type": "display_data",
          "data": {
            "image/png": "[encoded data removed]",
            "text/plain": [
              "<Figure size 432x288 with 1 Axes>"
            ]
          },
          "metadata": {
            "tags": []
          }
        }
      ]
    },
    {
      "cell_type": "markdown",
      "metadata": {
        "colab_type": "text",
        "id": "xQVCiaNDn4VJ"
      },
      "source": [
        "As you can see in the above plot, the validation loss stopped decreasing after 25 epochs. It did improve but not very significant."
      ]
    },
    {
      "cell_type": "markdown",
      "metadata": {
        "colab_type": "text",
        "id": "FgePSmZBmSbn"
      },
      "source": [
        "# 6)-Make Predictions"
      ]
    },
    {
      "cell_type": "code",
      "metadata": {
        "colab_type": "code",
        "id": "6gh_CukCl7Al",
        "colab": {}
      },
      "source": [
        "model = load_model('model_translate.h1') \n",
        "\n",
        "preds = model.predict_classes(testX.reshape((testX.shape[0], testX.shape[1])))"
      ],
      "execution_count": 0,
      "outputs": []
    },
    {
      "cell_type": "markdown",
      "metadata": {
        "colab_type": "text",
        "id": "M-DaR0x4oA4P"
      },
      "source": [
        "These predictions are sequences of integers. We need to convert these integers to their corresponding words."
      ]
    },
    {
      "cell_type": "markdown",
      "metadata": {
        "colab_type": "text",
        "id": "VU6IOmOOoB3f"
      },
      "source": [
        "### 6.1)- Convert integers to words"
      ]
    },
    {
      "cell_type": "code",
      "metadata": {
        "colab_type": "code",
        "id": "oiy9gGAAmAat",
        "colab": {}
      },
      "source": [
        "def get_word(n, tokenizer):  \n",
        "      for word, index in tokenizer.word_index.items():                       \n",
        "          if index == n: \n",
        "              return word \n",
        "      return None"
      ],
      "execution_count": 0,
      "outputs": []
    },
    {
      "cell_type": "markdown",
      "metadata": {
        "colab_type": "text",
        "id": "KqSwZTcXmDTW"
      },
      "source": [
        "### 6.2)-Convert predictions into text (German)"
      ]
    },
    {
      "cell_type": "code",
      "metadata": {
        "colab_type": "code",
        "id": "Y82jlYQMmAg0",
        "colab": {}
      },
      "source": [
        "preds_text = [] \n",
        "for i in preds:        \n",
        "       temp = []        \n",
        "       for j in range(len(i)):             \n",
        "            t = get_word(i[j], deu_tokenizer)             \n",
        "            if j > 0:                 \n",
        "                if (t==get_word(i[j-1],deu_tokenizer))or(t== None):                       \n",
        "                     temp.append('')                 \n",
        "                else:                      \n",
        "                     temp.append(t)             \n",
        "            else:                    \n",
        "                if(t == None):                                   \n",
        "                     temp.append('')                    \n",
        "                else:                           \n",
        "                     temp.append(t)        \n",
        "       preds_text.append(' '.join(temp))"
      ],
      "execution_count": 0,
      "outputs": []
    },
    {
      "cell_type": "code",
      "metadata": {
        "colab_type": "code",
        "id": "XOAI5cB8mAj3",
        "colab": {}
      },
      "source": [
        "pred_df = pd.DataFrame({'actual' : test[:,1], 'predicted' : preds_text})"
      ],
      "execution_count": 0,
      "outputs": []
    },
    {
      "cell_type": "code",
      "metadata": {
        "colab_type": "code",
        "id": "S2orsrv6oo4o",
        "outputId": "99dfbe3e-f992-422d-fe6c-7e5171d4fe79",
        "colab": {
          "base_uri": "https://localhost:8080/",
          "height": 195
        }
      },
      "source": [
        "# 1st 15 rows\n",
        "pred_df.head(5)"
      ],
      "execution_count": 75,
      "outputs": [
        {
          "output_type": "execute_result",
          "data": {
            "text/html": [
              "<div>\n",
              "<style scoped>\n",
              "    .dataframe tbody tr th:only-of-type {\n",
              "        vertical-align: middle;\n",
              "    }\n",
              "\n",
              "    .dataframe tbody tr th {\n",
              "        vertical-align: top;\n",
              "    }\n",
              "\n",
              "    .dataframe thead th {\n",
              "        text-align: right;\n",
              "    }\n",
              "</style>\n",
              "<table border=\"1\" class=\"dataframe\">\n",
              "  <thead>\n",
              "    <tr style=\"text-align: right;\">\n",
              "      <th></th>\n",
              "      <th>actual</th>\n",
              "      <th>predicted</th>\n",
              "    </tr>\n",
              "  </thead>\n",
              "  <tbody>\n",
              "    <tr>\n",
              "      <th>0</th>\n",
              "      <td>für eure costaricanischen fans verwirklicht sich ein traum wenn pearl jam in costa rica spielt seid ihr euch bewusst was das für eure fans bedeutet</td>\n",
              "      <td></td>\n",
              "    </tr>\n",
              "    <tr>\n",
              "      <th>1</th>\n",
              "      <td>jemand außerhalb des internets handelt mit respekt sittlichkeit und anderen prinzipien und dasselbe muss für die sozialen netzwerke gelten erklärt er</td>\n",
              "      <td></td>\n",
              "    </tr>\n",
              "    <tr>\n",
              "      <th>2</th>\n",
              "      <td>auch promotionchef tobias hagen seit der ersten hr4radtour 2004 als tourleiter dabei konnte nur kurz verschnaufen hatte er doch reichlich mit der technik vor ort zu tun</td>\n",
              "      <td></td>\n",
              "    </tr>\n",
              "    <tr>\n",
              "      <th>3</th>\n",
              "      <td>nach dem sturz des diktators saßen bis zu 11000 zivilisten in militärhaft</td>\n",
              "      <td></td>\n",
              "    </tr>\n",
              "    <tr>\n",
              "      <th>4</th>\n",
              "      <td>während zehntausende von menschen weiterhin in den schutzräumen leben und die kämpfe andauern verschoben die bildungsbehörden vergangene woche den beginn des schuljahres</td>\n",
              "      <td></td>\n",
              "    </tr>\n",
              "  </tbody>\n",
              "</table>\n",
              "</div>"
            ],
            "text/plain": [
              "                                                                                                                                                                      actual predicted\n",
              "0                        für eure costaricanischen fans verwirklicht sich ein traum wenn pearl jam in costa rica spielt seid ihr euch bewusst was das für eure fans bedeutet          \n",
              "1                      jemand außerhalb des internets handelt mit respekt sittlichkeit und anderen prinzipien und dasselbe muss für die sozialen netzwerke gelten erklärt er          \n",
              "2   auch promotionchef tobias hagen seit der ersten hr4radtour 2004 als tourleiter dabei konnte nur kurz verschnaufen hatte er doch reichlich mit der technik vor ort zu tun          \n",
              "3                                                                                                  nach dem sturz des diktators saßen bis zu 11000 zivilisten in militärhaft          \n",
              "4  während zehntausende von menschen weiterhin in den schutzräumen leben und die kämpfe andauern verschoben die bildungsbehörden vergangene woche den beginn des schuljahres          "
            ]
          },
          "metadata": {
            "tags": []
          },
          "execution_count": 75
        }
      ]
    },
    {
      "cell_type": "code",
      "metadata": {
        "colab_type": "code",
        "id": "LPocsO00mJy-",
        "outputId": "018d5c81-d19f-4f8d-f10b-8b2507ba00c1",
        "colab": {
          "base_uri": "https://localhost:8080/",
          "height": 195
        }
      },
      "source": [
        "# print 15 rows randomly \n",
        "pred_df.sample(5)"
      ],
      "execution_count": 76,
      "outputs": [
        {
          "output_type": "execute_result",
          "data": {
            "text/html": [
              "<div>\n",
              "<style scoped>\n",
              "    .dataframe tbody tr th:only-of-type {\n",
              "        vertical-align: middle;\n",
              "    }\n",
              "\n",
              "    .dataframe tbody tr th {\n",
              "        vertical-align: top;\n",
              "    }\n",
              "\n",
              "    .dataframe thead th {\n",
              "        text-align: right;\n",
              "    }\n",
              "</style>\n",
              "<table border=\"1\" class=\"dataframe\">\n",
              "  <thead>\n",
              "    <tr style=\"text-align: right;\">\n",
              "      <th></th>\n",
              "      <th>actual</th>\n",
              "      <th>predicted</th>\n",
              "    </tr>\n",
              "  </thead>\n",
              "  <tbody>\n",
              "    <tr>\n",
              "      <th>97</th>\n",
              "      <td>der black friday dauerte in seinen laden von 8 uhr abends am donnerstag bis mitternacht den nächsten tag und in diesem zeitraum verkaufte walmart ungefähr 5000 artikel pro sekunde</td>\n",
              "      <td></td>\n",
              "    </tr>\n",
              "    <tr>\n",
              "      <th>661</th>\n",
              "      <td>seit 2001 stand das gebäude leer und kam mehr und mehr herunter</td>\n",
              "      <td></td>\n",
              "    </tr>\n",
              "    <tr>\n",
              "      <th>200</th>\n",
              "      <td>bei ihrer argumentation gegen das urteil sagten vertreter des staates louisiana dass sie keine ärzte wegen der durchführung von abtreibungen bestrafen würden während deren anträge auf patientenein...</td>\n",
              "      <td></td>\n",
              "    </tr>\n",
              "    <tr>\n",
              "      <th>197</th>\n",
              "      <td>vergewaltiger in südafrika zweimal lebenslange haft</td>\n",
              "      <td></td>\n",
              "    </tr>\n",
              "    <tr>\n",
              "      <th>251</th>\n",
              "      <td>anlässlich des weltweiten tags der diabetes erklärte er es werde angestrebt dass dreitausend kinder und jugendliche im alter von sechs bis 14 jahren mit dem einverständnis und unter aufsicht ihrer...</td>\n",
              "      <td></td>\n",
              "    </tr>\n",
              "  </tbody>\n",
              "</table>\n",
              "</div>"
            ],
            "text/plain": [
              "                                                                                                                                                                                                      actual predicted\n",
              "97                       der black friday dauerte in seinen laden von 8 uhr abends am donnerstag bis mitternacht den nächsten tag und in diesem zeitraum verkaufte walmart ungefähr 5000 artikel pro sekunde          \n",
              "661                                                                                                                                          seit 2001 stand das gebäude leer und kam mehr und mehr herunter          \n",
              "200  bei ihrer argumentation gegen das urteil sagten vertreter des staates louisiana dass sie keine ärzte wegen der durchführung von abtreibungen bestrafen würden während deren anträge auf patientenein...          \n",
              "197                                                                                                                                                      vergewaltiger in südafrika zweimal lebenslange haft          \n",
              "251  anlässlich des weltweiten tags der diabetes erklärte er es werde angestrebt dass dreitausend kinder und jugendliche im alter von sechs bis 14 jahren mit dem einverständnis und unter aufsicht ihrer...          "
            ]
          },
          "metadata": {
            "tags": []
          },
          "execution_count": 76
        }
      ]
    }
  ]
}