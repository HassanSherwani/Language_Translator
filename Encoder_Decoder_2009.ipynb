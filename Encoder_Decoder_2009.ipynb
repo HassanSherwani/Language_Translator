{
  "nbformat": 4,
  "nbformat_minor": 0,
  "metadata": {
    "accelerator": "GPU",
    "colab": {
      "name": "Encoder-Decoder_2009.ipynb",
      "version": "0.3.2",
      "provenance": [],
      "collapsed_sections": [],
      "machine_shape": "hm"
    },
    "kernelspec": {
      "name": "python3",
      "display_name": "Python 3"
    },
    "language_info": {
      "codemirror_mode": {
        "name": "ipython",
        "version": 3
      },
      "file_extension": ".py",
      "mimetype": "text/x-python",
      "name": "python",
      "nbconvert_exporter": "python",
      "pygments_lexer": "ipython3",
      "version": "3.6.3"
    }
  },
  "cells": [
    {
      "cell_type": "markdown",
      "metadata": {
        "colab_type": "text",
        "id": "QJxJLfT6m4zo"
      },
      "source": [
        "# Machine Translation\n",
        "\n",
        "English-German Translation"
      ]
    },
    {
      "cell_type": "markdown",
      "metadata": {
        "colab_type": "text",
        "id": "YvFSu3KOnCQI"
      },
      "source": [
        "# 1)- Importing key modules"
      ]
    },
    {
      "cell_type": "code",
      "metadata": {
        "colab_type": "code",
        "id": "ydSdCo4JzRta",
        "colab": {}
      },
      "source": [
        "#support both Python 2 and Python 3 with minimal overhead.\n",
        "from __future__ import absolute_import, division, print_function\n",
        "#ignore warnings\n",
        "import warnings\n",
        "warnings.filterwarnings('ignore')"
      ],
      "execution_count": 0,
      "outputs": []
    },
    {
      "cell_type": "code",
      "metadata": {
        "id": "eXS6Ad_pwdsT",
        "colab_type": "code",
        "colab": {}
      },
      "source": [
        "# What's life without style :). So, let's add style to our dataframes\n",
        "#from IPython.core.display import HTML\n",
        "#css = open('style-table.css').read() + open('style-notebook.css').read()\n",
        "#HTML('<style>{}</style>'.format(css))"
      ],
      "execution_count": 0,
      "outputs": []
    },
    {
      "cell_type": "code",
      "metadata": {
        "colab_type": "code",
        "id": "HXdjBXc-zNXe",
        "colab": {}
      },
      "source": [
        "import pandas as pd \n",
        "import string \n",
        "import pickle\n",
        "from pickle import dump\n",
        "from pickle import load\n",
        "from string import digits\n",
        "import re \n",
        "from sklearn.utils import shuffle\n",
        "from sklearn.model_selection import train_test_split\n",
        "from numpy import array, argmax, random, take \n",
        "import matplotlib.pyplot as plt \n",
        "%matplotlib inline \n",
        "pd.set_option('display.max_colwidth', 200)"
      ],
      "execution_count": 0,
      "outputs": []
    },
    {
      "cell_type": "code",
      "metadata": {
        "colab_type": "code",
        "id": "ElRcz5K3hJrC",
        "outputId": "76333974-1615-4fac-9d47-077946b0f3ca",
        "colab": {
          "base_uri": "https://localhost:8080/",
          "height": 34
        }
      },
      "source": [
        "from keras.models import Model\n",
        "from keras.models import Sequential \n",
        "from keras.layers import Dense, LSTM, Embedding,Input,RepeatVector\n",
        "from keras.preprocessing.text import Tokenizer\n",
        "from keras.callbacks import ModelCheckpoint \n",
        "from keras.preprocessing.sequence import pad_sequences\n",
        "from keras.models import load_model \n",
        "from keras import optimizers "
      ],
      "execution_count": 4,
      "outputs": [
        {
          "output_type": "stream",
          "text": [
            "Using TensorFlow backend.\n"
          ],
          "name": "stderr"
        }
      ]
    },
    {
      "cell_type": "code",
      "metadata": {
        "id": "yI5oZH-mwmWL",
        "colab_type": "code",
        "colab": {
          "base_uri": "https://localhost:8080/",
          "height": 34
        },
        "outputId": "0834ac0c-fb6a-4ea2-ec4f-5170b205a478"
      },
      "source": [
        "!  pip install version_information"
      ],
      "execution_count": 5,
      "outputs": [
        {
          "output_type": "stream",
          "text": [
            "Requirement already satisfied: version_information in /usr/local/lib/python3.6/dist-packages (1.0.3)\n"
          ],
          "name": "stdout"
        }
      ]
    },
    {
      "cell_type": "code",
      "metadata": {
        "id": "91NCx_C7wdsZ",
        "colab_type": "code",
        "colab": {
          "base_uri": "https://localhost:8080/",
          "height": 195
        },
        "outputId": "909d16cb-d00a-4de5-f5df-e37d6ac2c1c0"
      },
      "source": [
        "# first install: pip install version_information\n",
        "%reload_ext version_information\n",
        "%version_information pandas,re,sklearn, matplotlib,keras"
      ],
      "execution_count": 6,
      "outputs": [
        {
          "output_type": "execute_result",
          "data": {
            "text/latex": "\\begin{tabular}{|l|l|}\\hline\n{\\bf Software} & {\\bf Version} \\\\ \\hline\\hline\nPython & 3.6.8 64bit [GCC 8.0.1 20180414 (experimental) [trunk revision 259383] \\\\ \\hline\nIPython & 5.5.0 \\\\ \\hline\nOS & Linux 4.14.137+ x86\\_64 with Ubuntu 18.04 bionic \\\\ \\hline\npandas & 0.24.2 \\\\ \\hline\nre & 2.2.1 \\\\ \\hline\nsklearn & 0.21.3 \\\\ \\hline\nmatplotlib & 3.0.3 \\\\ \\hline\nkeras & 2.2.5 \\\\ \\hline\n\\hline \\multicolumn{2}{|l|}{Tue Sep 10 16:21:27 2019 UTC} \\\\ \\hline\n\\end{tabular}\n",
            "application/json": {
              "Software versions": [
                {
                  "version": "3.6.8 64bit [GCC 8.0.1 20180414 (experimental) [trunk revision 259383]",
                  "module": "Python"
                },
                {
                  "version": "5.5.0",
                  "module": "IPython"
                },
                {
                  "version": "Linux 4.14.137+ x86_64 with Ubuntu 18.04 bionic",
                  "module": "OS"
                },
                {
                  "version": "0.24.2",
                  "module": "pandas"
                },
                {
                  "version": "2.2.1",
                  "module": "re"
                },
                {
                  "version": "0.21.3",
                  "module": "sklearn"
                },
                {
                  "version": "3.0.3",
                  "module": "matplotlib"
                },
                {
                  "version": "2.2.5",
                  "module": "keras"
                }
              ]
            },
            "text/html": [
              "<table><tr><th>Software</th><th>Version</th></tr><tr><td>Python</td><td>3.6.8 64bit [GCC 8.0.1 20180414 (experimental) [trunk revision 259383]</td></tr><tr><td>IPython</td><td>5.5.0</td></tr><tr><td>OS</td><td>Linux 4.14.137+ x86_64 with Ubuntu 18.04 bionic</td></tr><tr><td>pandas</td><td>0.24.2</td></tr><tr><td>re</td><td>2.2.1</td></tr><tr><td>sklearn</td><td>0.21.3</td></tr><tr><td>matplotlib</td><td>3.0.3</td></tr><tr><td>keras</td><td>2.2.5</td></tr><tr><td colspan='2'>Tue Sep 10 16:21:27 2019 UTC</td></tr></table>"
            ],
            "text/plain": [
              "Software versions\n",
              "Python 3.6.8 64bit [GCC 8.0.1 20180414 (experimental) [trunk revision 259383]\n",
              "IPython 5.5.0\n",
              "OS Linux 4.14.137+ x86_64 with Ubuntu 18.04 bionic\n",
              "pandas 0.24.2\n",
              "re 2.2.1\n",
              "sklearn 0.21.3\n",
              "matplotlib 3.0.3\n",
              "keras 2.2.5\n",
              "Tue Sep 10 16:21:27 2019 UTC"
            ]
          },
          "metadata": {
            "tags": []
          },
          "execution_count": 6
        }
      ]
    },
    {
      "cell_type": "markdown",
      "metadata": {
        "colab_type": "text",
        "id": "XN_b91atnHye"
      },
      "source": [
        "# 2)- Reading Dataset"
      ]
    },
    {
      "cell_type": "code",
      "metadata": {
        "colab_type": "code",
        "id": "ZM1ZO53WhL_6",
        "colab": {}
      },
      "source": [
        "lines= pd.read_pickle('data_2009.pkl')"
      ],
      "execution_count": 0,
      "outputs": []
    },
    {
      "cell_type": "code",
      "metadata": {
        "colab_type": "code",
        "id": "gws8XMBx-IfV",
        "outputId": "d142fcf6-76fb-486b-a739-c6be85caaeec",
        "colab": {
          "base_uri": "https://localhost:8080/",
          "height": 34
        }
      },
      "source": [
        "lines.shape"
      ],
      "execution_count": 22,
      "outputs": [
        {
          "output_type": "execute_result",
          "data": {
            "text/plain": [
              "(2525, 2)"
            ]
          },
          "metadata": {
            "tags": []
          },
          "execution_count": 22
        }
      ]
    },
    {
      "cell_type": "code",
      "metadata": {
        "colab_type": "code",
        "id": "GdbfP26dHHIX",
        "outputId": "6ccf6431-3306-40db-d6ce-07451ff98b84",
        "colab": {
          "base_uri": "https://localhost:8080/",
          "height": 197
        }
      },
      "source": [
        "lines.head()"
      ],
      "execution_count": 23,
      "outputs": [
        {
          "output_type": "execute_result",
          "data": {
            "text/html": [
              "<div>\n",
              "<style scoped>\n",
              "    .dataframe tbody tr th:only-of-type {\n",
              "        vertical-align: middle;\n",
              "    }\n",
              "\n",
              "    .dataframe tbody tr th {\n",
              "        vertical-align: top;\n",
              "    }\n",
              "\n",
              "    .dataframe thead th {\n",
              "        text-align: right;\n",
              "    }\n",
              "</style>\n",
              "<table border=\"1\" class=\"dataframe\">\n",
              "  <thead>\n",
              "    <tr style=\"text-align: right;\">\n",
              "      <th></th>\n",
              "      <th>eng</th>\n",
              "      <th>ger</th>\n",
              "    </tr>\n",
              "  </thead>\n",
              "  <tbody>\n",
              "    <tr>\n",
              "      <th>0</th>\n",
              "      <td>Prague Stock Market falls to minus by the end of the trading day</td>\n",
              "      <td>Die Prager Börse stürzt gegen Geschäftsschluss ins Minus.</td>\n",
              "    </tr>\n",
              "    <tr>\n",
              "      <th>1</th>\n",
              "      <td>After a sharp drop in the morning</td>\n",
              "      <td>Nach dem steilen Abfall am Morgen konnte die Prager Börse die Verluste korrigieren.</td>\n",
              "    </tr>\n",
              "    <tr>\n",
              "      <th>2</th>\n",
              "      <td>Transactions with stocks from the Czech Energy Enterprise (ČEZ) reached nearly half of the regular daily trading.</td>\n",
              "      <td>Die Transaktionen mit den Aktien von ČEZ erreichten fast die Hälfte des normalen Tagesgeschäfts.</td>\n",
              "    </tr>\n",
              "    <tr>\n",
              "      <th>3</th>\n",
              "      <td>The Prague Stock Market immediately continued its fall from Monday at the beginning of Tuesday's trading</td>\n",
              "      <td>Die Prager Börse knüpfte gleich zu Beginn der Dienstagsgeschäfte an den Einbruch vom Montag an</td>\n",
              "    </tr>\n",
              "    <tr>\n",
              "      <th>4</th>\n",
              "      <td>This time the fall in stocks on Wall Street is responsible for the drop.</td>\n",
              "      <td>Diesmal lag der Grund für den Einbruch an der Wall Street.</td>\n",
              "    </tr>\n",
              "  </tbody>\n",
              "</table>\n",
              "</div>"
            ],
            "text/plain": [
              "                                                                                                                 eng                                                                                               ger\n",
              "0                                                   Prague Stock Market falls to minus by the end of the trading day                                         Die Prager Börse stürzt gegen Geschäftsschluss ins Minus.\n",
              "1                                                                                  After a sharp drop in the morning               Nach dem steilen Abfall am Morgen konnte die Prager Börse die Verluste korrigieren.\n",
              "2  Transactions with stocks from the Czech Energy Enterprise (ČEZ) reached nearly half of the regular daily trading.  Die Transaktionen mit den Aktien von ČEZ erreichten fast die Hälfte des normalen Tagesgeschäfts.\n",
              "3           The Prague Stock Market immediately continued its fall from Monday at the beginning of Tuesday's trading    Die Prager Börse knüpfte gleich zu Beginn der Dienstagsgeschäfte an den Einbruch vom Montag an\n",
              "4                                           This time the fall in stocks on Wall Street is responsible for the drop.                                        Diesmal lag der Grund für den Einbruch an der Wall Street."
            ]
          },
          "metadata": {
            "tags": []
          },
          "execution_count": 23
        }
      ]
    },
    {
      "cell_type": "markdown",
      "metadata": {
        "id": "8532Vnqswdsh",
        "colab_type": "text"
      },
      "source": [
        "As this is big data and I have a poor old computing machine. So, I ll use smaller sample. It got to be random to avoid sample biaseness"
      ]
    },
    {
      "cell_type": "code",
      "metadata": {
        "id": "PZuWRYCZwdsh",
        "colab_type": "code",
        "colab": {
          "base_uri": "https://localhost:8080/",
          "height": 497
        },
        "outputId": "9f16b063-70f4-444b-da7e-43bcf04f5563"
      },
      "source": [
        "lines.sample(15)"
      ],
      "execution_count": 10,
      "outputs": [
        {
          "output_type": "execute_result",
          "data": {
            "text/html": [
              "<div>\n",
              "<style scoped>\n",
              "    .dataframe tbody tr th:only-of-type {\n",
              "        vertical-align: middle;\n",
              "    }\n",
              "\n",
              "    .dataframe tbody tr th {\n",
              "        vertical-align: top;\n",
              "    }\n",
              "\n",
              "    .dataframe thead th {\n",
              "        text-align: right;\n",
              "    }\n",
              "</style>\n",
              "<table border=\"1\" class=\"dataframe\">\n",
              "  <thead>\n",
              "    <tr style=\"text-align: right;\">\n",
              "      <th></th>\n",
              "      <th>eng</th>\n",
              "      <th>ger</th>\n",
              "    </tr>\n",
              "  </thead>\n",
              "  <tbody>\n",
              "    <tr>\n",
              "      <th>203</th>\n",
              "      <td>Regarding this</td>\n",
              "      <td>Miroslav Čepický meint dazu: \"Für Verhandlungen mit potenziellen virtuellen Anbietern sind wir offen</td>\n",
              "    </tr>\n",
              "    <tr>\n",
              "      <th>374</th>\n",
              "      <td>According to the prime minister</td>\n",
              "      <td>Nach Worten des Premiers wird es notwendig sein</td>\n",
              "    </tr>\n",
              "    <tr>\n",
              "      <th>1187</th>\n",
              "      <td>The collection of portraits of contemporary flamenco</td>\n",
              "      <td>Die Sammlung der Porträts des Flamencos von heute mit dem Titel `Flamenco-people' ist in der Galerie des El Fotómata ausgestellt</td>\n",
              "    </tr>\n",
              "    <tr>\n",
              "      <th>1105</th>\n",
              "      <td>On the face of it</td>\n",
              "      <td>Auf den ersten Blick hat sich nichts geändert.</td>\n",
              "    </tr>\n",
              "    <tr>\n",
              "      <th>748</th>\n",
              "      <td>For years</td>\n",
              "      <td>Seit Jahren sorgt ein mysteriöses Phänomen bei Forschen für Ratlosigkeit: Dunkle Materie beeinflusst die Geschwindigkeit von Raumsonden während so genannter Swing-by-Manöver.</td>\n",
              "    </tr>\n",
              "    <tr>\n",
              "      <th>2096</th>\n",
              "      <td>His Democratic colleague</td>\n",
              "      <td>Seine Kollegin aus Ohio</td>\n",
              "    </tr>\n",
              "    <tr>\n",
              "      <th>458</th>\n",
              "      <td>Should the pressure for more mergers increase</td>\n",
              "      <td>Sollte der Druck zu weiteren Fusionen steigen</td>\n",
              "    </tr>\n",
              "    <tr>\n",
              "      <th>809</th>\n",
              "      <td>\"This unpleasant saga ends with the victim taking her own life.</td>\n",
              "      <td>Diese unerfreuliche Geschichte endet mit dem Selbstmord des Opfers.</td>\n",
              "    </tr>\n",
              "    <tr>\n",
              "      <th>779</th>\n",
              "      <td>Right now we are checking their health</td>\n",
              "      <td>Wir überprüfen gerade ihren Gesundheitszustand\"</td>\n",
              "    </tr>\n",
              "    <tr>\n",
              "      <th>1267</th>\n",
              "      <td>\"I wanted to remember her</td>\n",
              "      <td>`Ich wollte sie in Erinnerung zurückrufen</td>\n",
              "    </tr>\n",
              "    <tr>\n",
              "      <th>2088</th>\n",
              "      <td>Restriction means that in case the Treasury purchases on auction</td>\n",
              "      <td>Die Kürzung bedeutet im Wesentlichen</td>\n",
              "    </tr>\n",
              "    <tr>\n",
              "      <th>1047</th>\n",
              "      <td>\"Off the road on the left</td>\n",
              "      <td>\"Abseits der Straße zur Linken\"</td>\n",
              "    </tr>\n",
              "    <tr>\n",
              "      <th>2387</th>\n",
              "      <td>The scientists were inspired by the paws of geckoes</td>\n",
              "      <td>Die Wissenschaftler haben sich von den Füße der Geckos inspirieren lassen</td>\n",
              "    </tr>\n",
              "    <tr>\n",
              "      <th>2241</th>\n",
              "      <td>Italians</td>\n",
              "      <td>\"deren Lohn-Dynamiken - so der Minister - waren in den letzten 8-10 Jahre doppelt so groß wie der Privatbereich und weit über der Inflationsrate\".</td>\n",
              "    </tr>\n",
              "    <tr>\n",
              "      <th>1356</th>\n",
              "      <td>Microsoft surely will try a joint launch</td>\n",
              "      <td>Microsoft sucht die Möglichkeit</td>\n",
              "    </tr>\n",
              "  </tbody>\n",
              "</table>\n",
              "</div>"
            ],
            "text/plain": [
              "                                                                   eng                                                                                                                                                                             ger\n",
              "203                                                     Regarding this                                                                            Miroslav Čepický meint dazu: \"Für Verhandlungen mit potenziellen virtuellen Anbietern sind wir offen\n",
              "374                                    According to the prime minister                                                                                                                                 Nach Worten des Premiers wird es notwendig sein\n",
              "1187              The collection of portraits of contemporary flamenco                                                Die Sammlung der Porträts des Flamencos von heute mit dem Titel `Flamenco-people' ist in der Galerie des El Fotómata ausgestellt\n",
              "1105                                                 On the face of it                                                                                                                                  Auf den ersten Blick hat sich nichts geändert.\n",
              "748                                                          For years  Seit Jahren sorgt ein mysteriöses Phänomen bei Forschen für Ratlosigkeit: Dunkle Materie beeinflusst die Geschwindigkeit von Raumsonden während so genannter Swing-by-Manöver.\n",
              "2096                                          His Democratic colleague                                                                                                                                                         Seine Kollegin aus Ohio\n",
              "458                      Should the pressure for more mergers increase                                                                                                                                   Sollte der Druck zu weiteren Fusionen steigen\n",
              "809    \"This unpleasant saga ends with the victim taking her own life.                                                                                                             Diese unerfreuliche Geschichte endet mit dem Selbstmord des Opfers.\n",
              "779                             Right now we are checking their health                                                                                                                                 Wir überprüfen gerade ihren Gesundheitszustand\"\n",
              "1267                                         \"I wanted to remember her                                                                                                                                       `Ich wollte sie in Erinnerung zurückrufen\n",
              "2088  Restriction means that in case the Treasury purchases on auction                                                                                                                                            Die Kürzung bedeutet im Wesentlichen\n",
              "1047                                         \"Off the road on the left                                                                                                                                                 \"Abseits der Straße zur Linken\"\n",
              "2387               The scientists were inspired by the paws of geckoes                                                                                                       Die Wissenschaftler haben sich von den Füße der Geckos inspirieren lassen\n",
              "2241                                                          Italians                              \"deren Lohn-Dynamiken - so der Minister - waren in den letzten 8-10 Jahre doppelt so groß wie der Privatbereich und weit über der Inflationsrate\".\n",
              "1356                          Microsoft surely will try a joint launch                                                                                                                                                 Microsoft sucht die Möglichkeit"
            ]
          },
          "metadata": {
            "tags": []
          },
          "execution_count": 10
        }
      ]
    },
    {
      "cell_type": "code",
      "metadata": {
        "colab_type": "code",
        "id": "Y11hmIvPFXQi",
        "colab": {}
      },
      "source": [
        "#lines = lines[:5000]"
      ],
      "execution_count": 0,
      "outputs": []
    },
    {
      "cell_type": "markdown",
      "metadata": {
        "id": "y4sjvE5Nwdsk",
        "colab_type": "text"
      },
      "source": [
        "# 3)- Quick Preprocessing"
      ]
    },
    {
      "cell_type": "code",
      "metadata": {
        "colab_type": "code",
        "id": "GEvO1bfy-KKP",
        "colab": {}
      },
      "source": [
        "# Lowercase all characters\n",
        "lines.eng=lines.eng.apply(lambda x: x.lower())\n",
        "lines.ger=lines.ger.apply(lambda x: x.lower())"
      ],
      "execution_count": 0,
      "outputs": []
    },
    {
      "cell_type": "code",
      "metadata": {
        "colab_type": "code",
        "id": "9bLMfF59-KNX",
        "colab": {}
      },
      "source": [
        "# Remove quotes\n",
        "lines.eng=lines.eng.apply(lambda x: re.sub(\"'\", '', x))\n",
        "lines.ger=lines.ger.apply(lambda x: re.sub(\"'\", '', x))"
      ],
      "execution_count": 0,
      "outputs": []
    },
    {
      "cell_type": "code",
      "metadata": {
        "colab_type": "code",
        "id": "t-rYHNHd-KQK",
        "colab": {}
      },
      "source": [
        "exclude = set(string.punctuation) # Set of all special characters\n",
        "# Remove all the special characters\n",
        "lines.eng=lines.eng.apply(lambda x: ''.join(ch for ch in x if ch not in exclude))\n",
        "lines.ger=lines.ger.apply(lambda x: ''.join(ch for ch in x if ch not in exclude))"
      ],
      "execution_count": 0,
      "outputs": []
    },
    {
      "cell_type": "code",
      "metadata": {
        "colab_type": "code",
        "id": "bWGhz8JG-KVi",
        "colab": {}
      },
      "source": [
        "# Remove all numbers from text\n",
        "remove_digits = str.maketrans('', '', digits)\n",
        "lines.eng=lines.eng.apply(lambda x: x.translate(remove_digits))\n",
        "lines.ger=lines.ger.apply(lambda x: x.translate(remove_digits))"
      ],
      "execution_count": 0,
      "outputs": []
    },
    {
      "cell_type": "code",
      "metadata": {
        "colab_type": "code",
        "id": "qCJnKqIY-KYm",
        "colab": {}
      },
      "source": [
        "# Remove extra spaces\n",
        "lines.eng=lines.eng.apply(lambda x: x.strip())\n",
        "lines.ger=lines.ger.apply(lambda x: x.strip())\n",
        "lines.eng=lines.eng.apply(lambda x: re.sub(\" +\", \" \", x))\n",
        "lines.ger=lines.ger.apply(lambda x: re.sub(\" +\", \" \", x))"
      ],
      "execution_count": 0,
      "outputs": []
    },
    {
      "cell_type": "code",
      "metadata": {
        "id": "9AwSMz4O-pKQ",
        "colab_type": "code",
        "colab": {}
      },
      "source": [
        "# Add start and end tokens to target sequences. I am not German so , I am doing so for my ease\n",
        "lines.ger = lines.ger.apply(lambda x : 'START_ '+ x + ' _END')"
      ],
      "execution_count": 0,
      "outputs": []
    },
    {
      "cell_type": "code",
      "metadata": {
        "id": "O-6Rm08s-yn9",
        "colab_type": "code",
        "colab": {
          "base_uri": "https://localhost:8080/",
          "height": 123
        },
        "outputId": "103c42cd-3a4f-456c-ad7d-4971ea22abf1"
      },
      "source": [
        "lines.ger[:5]"
      ],
      "execution_count": 31,
      "outputs": [
        {
          "output_type": "execute_result",
          "data": {
            "text/plain": [
              "0                                           START_ die prager börse stürzt gegen geschäftsschluss ins minus _END\n",
              "1                 START_ nach dem steilen abfall am morgen konnte die prager börse die verluste korrigieren _END\n",
              "2    START_ die transaktionen mit den aktien von čez erreichten fast die hälfte des normalen tagesgeschäfts _END\n",
              "3     START_ die prager börse knüpfte gleich zu beginn der dienstagsgeschäfte an den einbruch vom montag an _END\n",
              "4                                          START_ diesmal lag der grund für den einbruch an der wall street _END\n",
              "Name: ger, dtype: object"
            ]
          },
          "metadata": {
            "tags": []
          },
          "execution_count": 31
        }
      ]
    },
    {
      "cell_type": "code",
      "metadata": {
        "colab_type": "code",
        "id": "5slsI5P7-Ja-",
        "outputId": "b3b43c36-1f75-40d0-e35f-0c9c93184d77",
        "colab": {
          "base_uri": "https://localhost:8080/",
          "height": 347
        }
      },
      "source": [
        "lines.sample(10)"
      ],
      "execution_count": 32,
      "outputs": [
        {
          "output_type": "execute_result",
          "data": {
            "text/html": [
              "<div>\n",
              "<style scoped>\n",
              "    .dataframe tbody tr th:only-of-type {\n",
              "        vertical-align: middle;\n",
              "    }\n",
              "\n",
              "    .dataframe tbody tr th {\n",
              "        vertical-align: top;\n",
              "    }\n",
              "\n",
              "    .dataframe thead th {\n",
              "        text-align: right;\n",
              "    }\n",
              "</style>\n",
              "<table border=\"1\" class=\"dataframe\">\n",
              "  <thead>\n",
              "    <tr style=\"text-align: right;\">\n",
              "      <th></th>\n",
              "      <th>eng</th>\n",
              "      <th>ger</th>\n",
              "    </tr>\n",
              "  </thead>\n",
              "  <tbody>\n",
              "    <tr>\n",
              "      <th>1342</th>\n",
              "      <td>what ballmer said this week confirms this idea</td>\n",
              "      <td>START_ was ballmer diese woche sagte _END</td>\n",
              "    </tr>\n",
              "    <tr>\n",
              "      <th>546</th>\n",
              "      <td>this may be causing some sleepless nights for longterm creditors in particular</td>\n",
              "      <td>START_ das dürfte vor allem langzeitgläubigern einige schlaflose nächte mit der entscheidung bereiten _END</td>\n",
              "    </tr>\n",
              "    <tr>\n",
              "      <th>664</th>\n",
              "      <td>he concluded his comments with a sideswipe my life has moved on</td>\n",
              "      <td>START_ und so schließen seinen einlassungen mit dem seitenhieb mein leben geht jedenfalls weiter _END</td>\n",
              "    </tr>\n",
              "    <tr>\n",
              "      <th>1230</th>\n",
              "      <td>according to a spokesman for the police</td>\n",
              "      <td>START_ laut einem polizeisprecher _END</td>\n",
              "    </tr>\n",
              "    <tr>\n",
              "      <th>1155</th>\n",
              "      <td>when he was freed glitter flew to bangkok where he was due to board a flight to london</td>\n",
              "      <td>START_ als er freigelassen wurde flog glitter nach bangkok _END</td>\n",
              "    </tr>\n",
              "    <tr>\n",
              "      <th>815</th>\n",
              "      <td>the man was on secondment from the ministry of defence when he left two highly classified documents on a train to waterloo</td>\n",
              "      <td>START_ der mann war vom verteidigungsministerium abgeordnet _END</td>\n",
              "    </tr>\n",
              "    <tr>\n",
              "      <th>2018</th>\n",
              "      <td>the reason for this is that the warsaw stock exchange is stateowned</td>\n",
              "      <td>START_ grund dafür ist _END</td>\n",
              "    </tr>\n",
              "    <tr>\n",
              "      <th>1286</th>\n",
              "      <td>he was an official enemy of richard nixon and a supporter of lost and won causes</td>\n",
              "      <td>START_ er war offizieller feind von richard nixon und erlitt wie verschiedene verluste sowohl auch gewinne von der stiftung _END</td>\n",
              "    </tr>\n",
              "    <tr>\n",
              "      <th>1019</th>\n",
              "      <td>paced by four kenyans on sunday</td>\n",
              "      <td>START_ begleitet von vier kenianern am sonntag hatte gebrselassie den mittelpunkt der strecke in erreicht _END</td>\n",
              "    </tr>\n",
              "    <tr>\n",
              "      <th>916</th>\n",
              "      <td>for instance</td>\n",
              "      <td>START_ zum beispiel _END</td>\n",
              "    </tr>\n",
              "  </tbody>\n",
              "</table>\n",
              "</div>"
            ],
            "text/plain": [
              "                                                                                                                             eng                                                                                                                               ger\n",
              "1342                                                                              what ballmer said this week confirms this idea                                                                                         START_ was ballmer diese woche sagte _END\n",
              "546                                               this may be causing some sleepless nights for longterm creditors in particular                        START_ das dürfte vor allem langzeitgläubigern einige schlaflose nächte mit der entscheidung bereiten _END\n",
              "664                                                              he concluded his comments with a sideswipe my life has moved on                             START_ und so schließen seinen einlassungen mit dem seitenhieb mein leben geht jedenfalls weiter _END\n",
              "1230                                                                                     according to a spokesman for the police                                                                                            START_ laut einem polizeisprecher _END\n",
              "1155                                      when he was freed glitter flew to bangkok where he was due to board a flight to london                                                                   START_ als er freigelassen wurde flog glitter nach bangkok _END\n",
              "815   the man was on secondment from the ministry of defence when he left two highly classified documents on a train to waterloo                                                                  START_ der mann war vom verteidigungsministerium abgeordnet _END\n",
              "2018                                                         the reason for this is that the warsaw stock exchange is stateowned                                                                                                       START_ grund dafür ist _END\n",
              "1286                                            he was an official enemy of richard nixon and a supporter of lost and won causes  START_ er war offizieller feind von richard nixon und erlitt wie verschiedene verluste sowohl auch gewinne von der stiftung _END\n",
              "1019                                                                                             paced by four kenyans on sunday                    START_ begleitet von vier kenianern am sonntag hatte gebrselassie den mittelpunkt der strecke in erreicht _END\n",
              "916                                                                                                                 for instance                                                                                                          START_ zum beispiel _END"
            ]
          },
          "metadata": {
            "tags": []
          },
          "execution_count": 32
        }
      ]
    },
    {
      "cell_type": "code",
      "metadata": {
        "colab_type": "code",
        "id": "tum2mSmK-Jeq",
        "colab": {}
      },
      "source": [
        "# Vocabulary of English\n",
        "all_eng_words=set()\n",
        "for eng in lines.eng:\n",
        "    for word in eng.split():\n",
        "        if word not in all_eng_words:\n",
        "            all_eng_words.add(word)\n",
        "# Vocabulary of German \n",
        "all_german_words=set()\n",
        "for ger in lines.ger:\n",
        "    for word in ger.split():\n",
        "        if word not in all_german_words:\n",
        "            all_german_words.add(word)"
      ],
      "execution_count": 0,
      "outputs": []
    },
    {
      "cell_type": "code",
      "metadata": {
        "colab_type": "code",
        "id": "gGrnrWLw-Jhr",
        "outputId": "bfa1c0f7-bbb9-4c73-df07-cf99dd3e44ba",
        "colab": {
          "base_uri": "https://localhost:8080/",
          "height": 34
        }
      },
      "source": [
        "# Max Length of source sequence\n",
        "import numpy as np\n",
        "lenght_list=[]\n",
        "for l in lines.eng:\n",
        "    lenght_list.append(len(l.split(' ')))\n",
        "max_length_src = np.max(lenght_list)\n",
        "max_length_src"
      ],
      "execution_count": 34,
      "outputs": [
        {
          "output_type": "execute_result",
          "data": {
            "text/plain": [
              "70"
            ]
          },
          "metadata": {
            "tags": []
          },
          "execution_count": 34
        }
      ]
    },
    {
      "cell_type": "code",
      "metadata": {
        "colab_type": "code",
        "id": "NKYTzcsw-Jls",
        "outputId": "a645bcf0-2769-445f-a1cb-8b8b7b620cf7",
        "colab": {
          "base_uri": "https://localhost:8080/",
          "height": 34
        }
      },
      "source": [
        "# Max Length of target sequence\n",
        "lenght_list=[]\n",
        "for l in lines.ger:\n",
        "    lenght_list.append(len(l.split(' ')))\n",
        "max_length_tar = np.max(lenght_list)\n",
        "max_length_tar"
      ],
      "execution_count": 35,
      "outputs": [
        {
          "output_type": "execute_result",
          "data": {
            "text/plain": [
              "52"
            ]
          },
          "metadata": {
            "tags": []
          },
          "execution_count": 35
        }
      ]
    },
    {
      "cell_type": "markdown",
      "metadata": {
        "id": "1xQirCJ8xIA8",
        "colab_type": "text"
      },
      "source": [
        "# Make a threshold here"
      ]
    },
    {
      "cell_type": "markdown",
      "metadata": {
        "id": "dLxosVx4wds5",
        "colab_type": "text"
      },
      "source": [
        "### 3a)- Defining input and target"
      ]
    },
    {
      "cell_type": "code",
      "metadata": {
        "colab_type": "code",
        "id": "z8TUTnn4AC9c",
        "outputId": "ff59985a-9cb0-4fce-c671-b23d038730db",
        "colab": {
          "base_uri": "https://localhost:8080/",
          "height": 34
        }
      },
      "source": [
        "input_words = sorted(list(all_eng_words))\n",
        "target_words = sorted(list(all_german_words))\n",
        "num_encoder_tokens = len(all_eng_words)\n",
        "num_decoder_tokens = len(all_german_words)\n",
        "num_encoder_tokens, num_decoder_tokens"
      ],
      "execution_count": 36,
      "outputs": [
        {
          "output_type": "execute_result",
          "data": {
            "text/plain": [
              "(5454, 6522)"
            ]
          },
          "metadata": {
            "tags": []
          },
          "execution_count": 36
        }
      ]
    },
    {
      "cell_type": "code",
      "metadata": {
        "colab_type": "code",
        "id": "G06K661ZADAo",
        "outputId": "32c95697-9c94-4975-872d-4b62e88075fd",
        "colab": {
          "base_uri": "https://localhost:8080/",
          "height": 34
        }
      },
      "source": [
        "num_decoder_tokens += 1 # For zero padding\n",
        "num_decoder_tokens"
      ],
      "execution_count": 37,
      "outputs": [
        {
          "output_type": "execute_result",
          "data": {
            "text/plain": [
              "6523"
            ]
          },
          "metadata": {
            "tags": []
          },
          "execution_count": 37
        }
      ]
    },
    {
      "cell_type": "code",
      "metadata": {
        "colab_type": "code",
        "id": "pw2TwZh6ADGE",
        "colab": {}
      },
      "source": [
        "input_token_index = dict([(word, i+1) for i, word in enumerate(input_words)])\n",
        "target_token_index = dict([(word, i+1) for i, word in enumerate(target_words)])"
      ],
      "execution_count": 0,
      "outputs": []
    },
    {
      "cell_type": "code",
      "metadata": {
        "colab_type": "code",
        "id": "3_DwM1HCADJk",
        "colab": {}
      },
      "source": [
        "reverse_input_char_index = dict((i, word) for word, i in input_token_index.items())\n",
        "reverse_target_char_index = dict((i, word) for word, i in target_token_index.items())"
      ],
      "execution_count": 0,
      "outputs": []
    },
    {
      "cell_type": "code",
      "metadata": {
        "id": "jfgAU6cH_g-L",
        "colab_type": "code",
        "colab": {
          "base_uri": "https://localhost:8080/",
          "height": 54
        },
        "outputId": "3b62b6ca-3369-48ca-acce-20796b2aa832"
      },
      "source": [
        "print(reverse_input_char_index)"
      ],
      "execution_count": 41,
      "outputs": [
        {
          "output_type": "stream",
          "text": [
            "{1: 'a', 2: 'aac', 3: 'abandon', 4: 'abc', 5: 'abducted', 6: 'abductors', 7: 'abetting', 8: 'ability', 9: 'able', 10: 'about', 11: 'above', 12: 'abovementioned', 13: 'abroad', 14: 'absenteeism', 15: 'absolute', 16: 'absolutely', 17: 'abuse', 18: 'academia', 19: 'accelerate', 20: 'acceleration', 21: 'accelerator', 22: 'accentuating', 23: 'accept', 24: 'acceptable', 25: 'accepted', 26: 'access', 27: 'accident', 28: 'accidental', 29: 'accidentally', 30: 'accidents', 31: 'accommodatingly', 32: 'accommodation', 33: 'accompanied', 34: 'accordance', 35: 'according', 36: 'accordingly', 37: 'accounting', 38: 'accounts', 39: 'accrue', 40: 'accumulators', 41: 'accusation', 42: 'accusations', 43: 'accuse', 44: 'accused', 45: 'accusing', 46: 'accustomed', 47: 'achieve', 48: 'achieved', 49: 'achievement', 50: 'acquired', 51: 'acquisition', 52: 'across', 53: 'act', 54: 'action', 55: 'actions', 56: 'active', 57: 'activities', 58: 'activity', 59: 'actors', 60: 'actress', 61: 'actually', 62: 'adam', 63: 'adaptation', 64: 'aday', 65: 'added', 66: 'addicted', 67: 'addition', 68: 'additional', 69: 'address', 70: 'addressed', 71: 'addressing', 72: 'adds', 73: 'adequate', 74: 'adhering', 75: 'adhesion', 76: 'adhesive', 77: 'adler', 78: 'administration', 79: 'administrative', 80: 'admiration', 81: 'admirers', 82: 'admit', 83: 'admits', 84: 'admitted', 85: 'ado', 86: 'adoption', 87: 'adq', 88: 'adrenaline', 89: 'adrian', 90: 'adult', 91: 'adultery', 92: 'adulthood', 93: 'advance', 94: 'advanced', 95: 'advantage', 96: 'advantages', 97: 'advertised', 98: 'advertisements', 99: 'advertising', 100: 'advice', 101: 'advocates', 102: 'adélardgodbout', 103: 'aerospace', 104: 'aesthetic', 105: 'aesthetics', 106: 'affair', 107: 'affairs', 108: 'affected', 109: 'affection', 110: 'affects', 111: 'afford', 112: 'afforded', 113: 'afghan', 114: 'afraid', 115: 'after', 116: 'afternoon', 117: 'afterward', 118: 'again', 119: 'against', 120: 'agazio', 121: 'age', 122: 'agency', 123: 'agencys', 124: 'agent', 125: 'ages', 126: 'aggressive', 127: 'aging', 128: 'agitated', 129: 'ago', 130: 'agree', 131: 'agreed', 132: 'agreement', 133: 'agrees', 134: 'ah', 135: 'ahead', 136: 'ahronoth', 137: 'aid', 138: 'aiding', 139: 'aids', 140: 'aig', 141: 'ailing', 142: 'aim', 143: 'aimed', 144: 'aiming', 145: 'aimlessly', 146: 'aims', 147: 'air', 148: 'aircraft', 149: 'airlines', 150: 'airplane', 151: 'airports', 152: 'airtravel', 153: 'alapítvány', 154: 'alarm', 155: 'alava', 156: 'albert', 157: 'album', 158: 'alcohol', 159: 'alcoholic', 160: 'alcoholism', 161: 'alcolock', 162: 'alejandro', 163: 'alemanno', 164: 'alert', 165: 'alex', 166: 'alexej', 167: 'aleš', 168: 'alhambra', 169: 'alice', 170: 'alive', 171: 'all', 172: 'allegations', 173: 'allegedly', 174: 'alleviation', 175: 'alleyway', 176: 'allocated', 177: 'allocation', 178: 'allow', 179: 'allowed', 180: 'allows', 181: 'almost', 182: 'alone', 183: 'along', 184: 'alqaeda', 185: 'already', 186: 'also', 187: 'alteration', 188: 'alternative', 189: 'alternatively', 190: 'alternatives', 191: 'although', 192: 'always', 193: 'am', 194: 'amazing', 195: 'ambassador', 196: 'ambition', 197: 'ambitions', 198: 'amended', 199: 'amenity', 200: 'america', 201: 'american', 202: 'americans', 203: 'amnesty', 204: 'among', 205: 'amongst', 206: 'amount', 207: 'amounting', 208: 'an', 209: 'analyses', 210: 'analysis', 211: 'analyst', 212: 'analysts', 213: 'analyzed', 214: 'analyzing', 215: 'and', 216: 'andalusian', 217: 'andik', 218: 'andoh', 219: 'anec', 220: 'angela', 221: 'angle', 222: 'anglican', 223: 'anglosaxon', 224: 'angry', 225: 'anguished', 226: 'animal', 227: 'animals', 228: 'anmil', 229: 'annexation', 230: 'anniversary', 231: 'anniversarys', 232: 'announced', 233: 'announcement', 234: 'announces', 235: 'annoyed', 236: 'annual', 237: 'annually', 238: 'anomaly', 239: 'another', 240: 'answer', 241: 'answered', 242: 'answering', 243: 'anthem', 244: 'anthems', 245: 'anthology', 246: 'antiamerican', 247: 'antidoping', 248: 'antiimmigrant', 249: 'antimafia', 250: 'antipolio', 251: 'antislackers', 252: 'antistress', 253: 'antonio', 254: 'anxiety', 255: 'any', 256: 'anyone', 257: 'anything', 258: 'apart', 259: 'apartment', 260: 'apparent', 261: 'apparently', 262: 'appeal', 263: 'appeals', 264: 'appear', 265: 'appearance', 266: 'appearing', 267: 'appears', 268: 'appease', 269: 'apple', 270: 'application', 271: 'applications', 272: 'applied', 273: 'applies', 274: 'appoint', 275: 'appointed', 276: 'appointment', 277: 'appreciate', 278: 'appreciated', 279: 'appreciates', 280: 'appreciation', 281: 'approach', 282: 'approached', 283: 'appropriate', 284: 'approval', 285: 'approve', 286: 'approved', 287: 'approximately', 288: 'april', 289: 'architects', 290: 'are', 291: 'area', 292: 'areas', 293: 'argued', 294: 'argues', 295: 'argument', 296: 'arguments', 297: 'arises', 298: 'arizona', 299: 'armiñón', 300: 'armybacked', 301: 'around', 302: 'arranged', 303: 'arrangements', 304: 'arrest', 305: 'arrested', 306: 'arrests', 307: 'arriaga', 308: 'arrival', 309: 'arrive', 310: 'arrived', 311: 'arrives', 312: 'art', 313: 'article', 314: 'articles', 315: 'artist', 316: 'artists', 317: 'as', 318: 'ashford', 319: 'asia', 320: 'asian', 321: 'aside', 322: 'ask', 323: 'askale', 324: 'asked', 325: 'asks', 326: 'aspects', 327: 'assault', 328: 'assembled', 329: 'assess', 330: 'assessments', 331: 'asset', 332: 'assets', 333: 'assistance', 334: 'assistant', 335: 'assisted', 336: 'associated', 337: 'association', 338: 'associative', 339: 'assuaging', 340: 'assume', 341: 'assumed', 342: 'assumption', 343: 'assured', 344: 'at', 345: 'atheists', 346: 'athletessportartproject', 347: 'atlanta', 348: 'atlantic', 349: 'atlas', 350: 'atmosphere', 351: 'attached', 352: 'attack', 353: 'attackers', 354: 'attacks', 355: 'attempt', 356: 'attend', 357: 'attending', 358: 'attention', 359: 'attention»', 360: 'attests', 361: 'attire', 362: 'attitude', 363: 'attorney', 364: 'attorneys', 365: 'attribute', 366: 'auction', 367: 'auctions', 368: 'audience', 369: 'audit', 370: 'august', 371: 'augustus', 372: 'aunts', 373: 'australia', 374: 'austria', 375: 'austrian', 376: 'author', 377: 'authorisations', 378: 'authoritative', 379: 'authorities', 380: 'authority', 381: 'authors', 382: 'autonomy', 383: 'autumnwinter', 384: 'available', 385: 'avalon', 386: 'avenue', 387: 'avenues', 388: 'average', 389: 'avoid', 390: 'avoidance', 391: 'award', 392: 'awarded', 393: 'awarding', 394: 'awards', 395: 'aware', 396: 'awareness', 397: 'away', 398: 'awesome', 399: 'awful', 400: 'b', 401: 'back', 402: 'background', 403: 'backwards', 404: 'bad', 405: 'badacsonytomaj', 406: 'badly', 407: 'bafin', 408: 'bag', 409: 'bagel', 410: 'bagheria', 411: 'bail', 412: 'bailey', 413: 'bailout', 414: 'balance', 415: 'ballet', 416: 'ballmer', 417: 'baloldal', 418: 'ban', 419: 'bands', 420: 'bangkok', 421: 'bangladesh', 422: 'bank', 423: 'banking', 424: 'bankruptcy', 425: 'banks', 426: 'banned', 427: 'banning', 428: 'barack', 429: 'barclays', 430: 'bari', 431: 'barrel', 432: 'barrick', 433: 'based', 434: 'basic', 435: 'basis', 436: 'bass', 437: 'bastian', 438: 'bat', 439: 'batch', 440: 'battery', 441: 'battle', 442: 'bauer', 443: 'bavaria', 444: 'bavarian', 445: 'bay', 446: 'bayon', 447: 'bays', 448: 'bb', 449: 'bbc', 450: 'be', 451: 'beat', 452: 'beauharnois', 453: 'beautiful', 454: 'beauty', 455: 'became', 456: 'because', 457: 'beckstein', 458: 'become', 459: 'becomes', 460: 'becoming', 461: 'bedspace', 462: 'bee', 463: 'been', 464: 'beer', 465: 'beerhouse', 466: 'bees', 467: 'before', 468: 'began', 469: 'begin', 470: 'beginning', 471: 'begun', 472: 'behalf', 473: 'behave', 474: 'behaved', 475: 'behaving', 476: 'behaviors', 477: 'behaviour', 478: 'beheaded', 479: 'behind', 480: 'behindthescenes', 481: 'beijing', 482: 'being', 483: 'belarus', 484: 'belarusian', 485: 'belarusians', 486: 'belated', 487: 'belatedly', 488: 'belgium', 489: 'believe', 490: 'believed', 491: 'believers', 492: 'believes', 493: 'believing', 494: 'belongs', 495: 'below', 496: 'beltransgas', 497: 'benedict', 498: 'benefit', 499: 'benign', 500: 'benoit', 501: 'bento', 502: 'berkeley', 503: 'bernhard', 504: 'bertrand', 505: 'beside', 506: 'besides', 507: 'best', 508: 'bestow', 509: 'bet', 510: 'better', 511: 'betting', 512: 'between', 513: 'beyond', 514: 'bid', 515: 'bids', 516: 'big', 517: 'bigger', 518: 'biggest', 519: 'bilingual', 520: 'bill', 521: 'billboard', 522: 'billiard', 523: 'billion', 524: 'billiondollar', 525: 'billmakers', 526: 'bills', 527: 'bingley', 528: 'bingleys', 529: 'bini', 530: 'biogate', 531: 'biological', 532: 'biomedical', 533: 'birthday', 534: 'bishop', 535: 'bit', 536: 'bitter', 537: 'bizarre', 538: 'biztos', 539: 'black', 540: 'blame', 541: 'blaming', 542: 'blamingly', 543: 'blind', 544: 'blink', 545: 'bloc', 546: 'block', 547: 'blocked', 548: 'blocks', 549: 'blog', 550: 'blood', 551: 'bloodbath', 552: 'bloody', 553: 'blue', 554: 'board', 555: 'boarding', 556: 'boards', 557: 'body', 558: 'bohemia', 559: 'bold', 560: 'bologna', 561: 'bombarded', 562: 'bond', 563: 'bonds', 564: 'booking', 565: 'border', 566: 'born', 567: 'borussia', 568: 'boss', 569: 'both', 570: 'bottle', 571: 'botónmango', 572: 'bought', 573: 'boulevard', 574: 'boulognesurmer', 575: 'boutiques', 576: 'bowens', 577: 'bowery', 578: 'box', 579: 'boxer', 580: 'boy', 581: 'boyd', 582: 'boyfriend', 583: 'boys', 584: 'bradford', 585: 'brain', 586: 'brainstem', 587: 'brakes', 588: 'branch', 589: 'branches', 590: 'brando', 591: 'brands', 592: 'branson', 593: 'brazilian', 594: 'brazilians', 595: 'brc', 596: 'break', 597: 'breakfast', 598: 'breaks', 599: 'breakthrough', 600: 'breton', 601: 'brett', 602: 'brief', 603: 'briefing', 604: 'brightly', 605: 'brilliant', 606: 'bring', 607: 'bringing', 608: 'brings', 609: 'britain', 610: 'britains', 611: 'british', 612: 'brittany', 613: 'brixen', 614: 'broad', 615: 'broadcast', 616: 'broadcaster', 617: 'broader', 618: 'brother', 619: 'brothers', 620: 'brought', 621: 'browser', 622: 'browsing', 623: 'brunetta', 624: 'brussels', 625: 'brutality', 626: 'bsa', 627: 'bskyb', 628: 'bt', 629: 'bubble', 630: 'budapestbased', 631: 'budapestért', 632: 'buddhist', 633: 'buddybuddy', 634: 'budget', 635: 'budějovice', 636: 'buffet', 637: 'building', 638: 'buildings', 639: 'built', 640: 'bull', 641: 'bulldozers', 642: 'bullfights', 643: 'bully', 644: 'bumblebee', 645: 'bundesbank', 646: 'bundestag', 647: 'bureau', 648: 'burning', 649: 'bursting', 650: 'bus', 651: 'busca', 652: 'buses', 653: 'bush', 654: 'bushadministration', 655: 'bushs', 656: 'business', 657: 'but', 658: 'butch', 659: 'buttons', 660: 'buy', 661: 'buying', 662: 'buys', 663: 'by', 664: 'bypass', 665: 'bzö', 666: 'bělohlávek', 667: 'c', 668: 'cabinet', 669: 'cables', 670: 'cadel', 671: 'cairo', 672: 'calabrese', 673: 'calculation', 674: 'calculations', 675: 'californian', 676: 'call', 677: 'called', 678: 'calling', 679: 'calls', 680: 'calm', 681: 'calming', 682: 'came', 683: 'camera', 684: 'camp', 685: 'campaign', 686: 'campaigns', 687: 'campbell', 688: 'campidoglio', 689: 'can', 690: 'canada', 691: 'canadian', 692: 'cancelation', 693: 'cancer', 694: 'candidate', 695: 'candidates', 696: 'candidate…', 697: 'candor', 698: 'cannot', 699: 'capabilities', 700: 'capacity', 701: 'capital', 702: 'capitalism', 703: 'capitalmarket', 704: 'caps', 705: 'captain', 706: 'captive', 707: 'captors', 708: 'capture', 709: 'captured', 710: 'car', 711: 'carbon', 712: 'card', 713: 'cardinals', 714: 'cards', 715: 'care', 716: 'career', 717: 'careful', 718: 'carelessness', 719: 'cargo', 720: 'carlos', 721: 'carmen', 722: 'carried', 723: 'carries', 724: 'carruba', 725: 'carry', 726: 'carryforward', 727: 'carrying', 728: 'carter', 729: 'carts', 730: 'casado', 731: 'case', 732: 'cases', 733: 'cash', 734: 'cassette', 735: 'cassidy', 736: 'cassinihuygens', 737: 'casting', 738: 'casualties', 739: 'catacombs', 740: 'catalyst', 741: 'catastrophe', 742: 'catastrophic', 743: 'catch', 744: 'categories', 745: 'category', 746: 'catering', 747: 'catholic', 748: 'catholics', 749: 'catwalk', 750: 'caucus', 751: 'cause', 752: 'caused', 753: 'causes', 754: 'causing', 755: 'cautious', 756: 'cbgb', 757: 'cbs', 758: 'cd', 759: 'cdu', 760: 'ceatec', 761: 'cede', 762: 'celebrate', 763: 'celebrated', 764: 'celebrating', 765: 'celebration', 766: 'celebrations', 767: 'celestial', 768: 'cell', 769: 'cells', 770: 'cellular', 771: 'cemetery', 772: 'cent', 773: 'center', 774: 'centers', 775: 'central', 776: 'centralize', 777: 'centre', 778: 'centres', 779: 'century', 780: 'cera', 781: 'certain', 782: 'certainly', 783: 'certificates', 784: 'certification', 785: 'cessations', 786: 'chagal', 787: 'chair', 788: 'chaired', 789: 'chairman', 790: 'challenge', 791: 'chalupa', 792: 'chamber', 793: 'chance', 794: 'change', 795: 'changed', 796: 'changes', 797: 'changing', 798: 'channel', 799: 'channels', 800: 'chaotic', 801: 'character', 802: 'characterize', 803: 'characters', 804: 'charest', 805: 'charge', 806: 'charged', 807: 'charges', 808: 'charmed', 809: 'charming', 810: 'chart', 811: 'charts', 812: 'chase', 813: 'chased', 814: 'chasing', 815: 'chatenaymalabry', 816: 'cheating', 817: 'checked', 818: 'checking', 819: 'checks', 820: 'cheeky', 821: 'chemical', 822: 'chevron', 823: 'chief', 824: 'chigi', 825: 'child', 826: 'children', 827: 'china', 828: 'chinese', 829: 'chip', 830: 'choice', 831: 'choices', 832: 'choose', 833: 'choosing', 834: 'chord', 835: 'chore', 836: 'chose', 837: 'christian', 838: 'christopher', 839: 'chrome', 840: 'chronic', 841: 'church', 842: 'churchnew', 843: 'cigala', 844: 'cinecittà', 845: 'cinema', 846: 'cinemas', 847: 'cinematographic', 848: 'circle', 849: 'circuits', 850: 'circumstances', 851: 'cirrhosis', 852: 'cited', 853: 'cities', 854: 'citing', 855: 'citizen', 856: 'citizens', 857: 'citizenship', 858: 'city', 859: 'cityowned', 860: 'citys', 861: 'ciudad', 862: 'civic', 863: 'civil', 864: 'claim', 865: 'claiming', 866: 'claims', 867: 'clash', 868: 'class', 869: 'classical', 870: 'classified', 871: 'cleaner', 872: 'clear', 873: 'clearly', 874: 'client', 875: 'clients', 876: 'climate', 877: 'climbed', 878: 'clinton', 879: 'clock', 880: 'close', 881: 'closely', 882: 'closer', 883: 'closes', 884: 'closing', 885: 'closure', 886: 'closures', 887: 'clothes', 888: 'cloud', 889: 'clouds', 890: 'clue', 891: 'clustered', 892: 'cm', 893: 'coach', 894: 'coachinchief', 895: 'coalition', 896: 'coast', 897: 'codacons', 898: 'coefficient', 899: 'coen', 900: 'coffee', 901: 'coincide', 902: 'coincidence', 903: 'coldplay', 904: 'coles', 905: 'collaborating', 906: 'collaboration', 907: 'collapse', 908: 'colleague', 909: 'colleagues', 910: 'collect', 911: 'collected', 912: 'collecting', 913: 'collection', 914: 'collections', 915: 'collective', 916: 'college', 917: 'collision', 918: 'collusions', 919: 'colorful', 920: 'colossi', 921: 'coloured', 922: 'combat', 923: 'combining', 924: 'come', 925: 'comes', 926: 'comfortable', 927: 'comics', 928: 'coming', 929: 'comment', 930: 'comments', 931: 'commercial', 932: 'commerzbank', 933: 'commission', 934: 'commissions', 935: 'commit', 936: 'committed', 937: 'committee', 938: 'commodities', 939: 'commodity', 940: 'common', 941: 'commonwealth', 942: 'communicate', 943: 'communication', 944: 'community', 945: 'compact', 946: 'companies', 947: 'companion', 948: 'companions', 949: 'company', 950: 'compared', 951: 'comparing', 952: 'comparison', 953: 'compatible', 954: 'compensate', 955: 'compensation', 956: 'competition', 957: 'competitive', 958: 'competitor', 959: 'completed', 960: 'completely', 961: 'complex', 962: 'composed', 963: 'composition', 964: 'compound', 965: 'compromise', 966: 'computer', 967: 'computers', 968: 'conceal', 969: 'concentrate', 970: 'concept', 971: 'concepts', 972: 'concern', 973: 'concerned', 974: 'concerning', 975: 'concerns', 976: 'concerted', 977: 'concisely', 978: 'conclude', 979: 'concluded', 980: 'concludes', 981: 'conclusion', 982: 'concrete', 983: 'conditions', 984: 'condoleezza', 985: 'conduct', 986: 'conducted', 987: 'conducting', 988: 'conductor', 989: 'conference', 990: 'confess', 991: 'confession', 992: 'confirm', 993: 'confirmation', 994: 'confirmed', 995: 'confirming', 996: 'confirms', 997: 'conforming', 998: 'confronted', 999: 'confused', 1000: 'congress', 1001: 'congressional', 1002: 'conjunction', 1003: 'connected', 1004: 'connecting', 1005: 'connection', 1006: 'conscious', 1007: 'consciously', 1008: 'consecutive', 1009: 'consequence', 1010: 'consequences', 1011: 'conservatives', 1012: 'consider', 1013: 'considerable', 1014: 'considerably', 1015: 'consideration', 1016: 'considerations', 1017: 'considered', 1018: 'considering', 1019: 'considers', 1020: 'consist', 1021: 'consistent', 1022: 'consisting', 1023: 'consists', 1024: 'consolidation', 1025: 'constant', 1026: 'constantly', 1027: 'constitute', 1028: 'constitutes', 1029: 'constitution', 1030: 'constrain', 1031: 'constraining', 1032: 'construction', 1033: 'constructive', 1034: 'consult', 1035: 'consultants', 1036: 'consultations', 1037: 'consulting', 1038: 'consumer', 1039: 'consumers', 1040: 'consumption', 1041: 'contagion', 1042: 'contain', 1043: 'contained', 1044: 'containing', 1045: 'contains', 1046: 'contaminated', 1047: 'contemporary', 1048: 'contempt', 1049: 'content', 1050: 'context', 1051: 'continue', 1052: 'continued', 1053: 'continuing', 1054: 'continuous', 1055: 'continuously', 1056: 'contract', 1057: 'contracting', 1058: 'contracts', 1059: 'contradiction', 1060: 'contrary', 1061: 'contrast', 1062: 'contribute', 1063: 'contribution', 1064: 'contributions', 1065: 'control', 1066: 'convention', 1067: 'convergent', 1068: 'conversation', 1069: 'convey', 1070: 'convictions', 1071: 'convince', 1072: 'convinced', 1073: 'convincingly', 1074: 'cook', 1075: 'cooperated', 1076: 'cooperation', 1077: 'coordinated', 1078: 'copies', 1079: 'coppola', 1080: 'cord', 1081: 'corker', 1082: 'cornelius', 1083: 'corner', 1084: 'cornerback', 1085: 'corners', 1086: 'corp', 1087: 'corporation', 1088: 'corporations', 1089: 'correct', 1090: 'correctly', 1091: 'correspondent', 1092: 'correspondents', 1093: 'corresponds', 1094: 'corruption', 1095: 'cortex', 1096: 'cosmetic', 1097: 'cost', 1098: 'costs', 1099: 'costumes', 1100: 'cotton', 1101: 'could', 1102: 'council', 1103: 'count', 1104: 'counter', 1105: 'counteranalysis', 1106: 'counterproposal', 1107: 'counting', 1108: 'countries', 1109: 'country', 1110: 'countryloving', 1111: 'counts', 1112: 'county', 1113: 'couple', 1114: 'coupon', 1115: 'coupons', 1116: 'course', 1117: 'court', 1118: 'coventry', 1119: 'cover', 1120: 'cowboy', 1121: 'craft', 1122: 'crash', 1123: 'craziness', 1124: 'create', 1125: 'created', 1126: 'creates', 1127: 'creating', 1128: 'creation', 1129: 'credit', 1130: 'creditors', 1131: 'crime', 1132: 'crimes', 1133: 'criminal', 1134: 'crises', 1135: 'crisis', 1136: 'cristo', 1137: 'critical', 1138: 'criticised', 1139: 'criticism', 1140: 'critics', 1141: 'croisic', 1142: 'crook', 1143: 'crops', 1144: 'cross', 1145: 'crossing', 1146: 'crown', 1147: 'crowns', 1148: 'crucial', 1149: 'crude', 1150: 'crushed', 1151: 'cruz', 1152: 'csu', 1153: 'csus', 1154: 'ctb', 1155: 'cto', 1156: 'cult', 1157: 'cultural', 1158: 'culture', 1159: 'cupboards', 1160: 'curative', 1161: 'curb', 1162: 'currency', 1163: 'current', 1164: 'currently', 1165: 'currents', 1166: 'custody', 1167: 'customer', 1168: 'customers', 1169: 'cut', 1170: 'cute', 1171: 'cuts', 1172: 'cyclist', 1173: 'cyst', 1174: 'czech', 1175: 'czechia', 1176: 'czechoslovakia', 1177: 'da', 1178: 'dai', 1179: 'daily', 1180: 'dairy', 1181: 'dal', 1182: 'dam', 1183: 'damage', 1184: 'damaged', 1185: 'damages', 1186: 'damaging', 1187: 'damascus', 1188: 'dance', 1189: 'dancer', 1190: 'dancers', 1191: 'dances', 1192: 'dancing', 1193: 'danger', 1194: 'dangerously', 1195: 'daniel', 1196: 'dannehy', 1197: 'dannemarie', 1198: 'dark', 1199: 'darrelle', 1200: 'dash', 1201: 'data', 1202: 'date', 1203: 'dated', 1204: 'daughter', 1205: 'daughters', 1206: 'david', 1207: 'dax', 1208: 'day', 1209: 'days', 1210: 'dayton', 1211: 'de', 1212: 'dead', 1213: 'deadline', 1214: 'deaf', 1215: 'deal', 1216: 'dealing', 1217: 'dealt', 1218: 'death', 1219: 'deaths', 1220: 'debate', 1221: 'debit', 1222: 'debt', 1223: 'debts', 1224: 'debuted', 1225: 'decade', 1226: 'decades', 1227: 'december', 1228: 'decide', 1229: 'decided', 1230: 'decides', 1231: 'decision', 1232: 'decisions', 1233: 'decisive', 1234: 'declared', 1235: 'decline', 1236: 'declined', 1237: 'declining', 1238: 'decoration', 1239: 'decrease', 1240: 'decreased', 1241: 'decree', 1242: 'dedicated', 1243: 'deduced', 1244: 'deems', 1245: 'deep', 1246: 'deeper', 1247: 'deeply', 1248: 'defeat', 1249: 'defeated', 1250: 'defence', 1251: 'defendants', 1252: 'deficiencies', 1253: 'deficit', 1254: 'define', 1255: 'defined', 1256: 'definitely', 1257: 'definition', 1258: 'definitive', 1259: 'definitively', 1260: 'degree', 1261: 'degrees', 1262: 'deka', 1263: 'delay', 1264: 'delayed', 1265: 'delegating', 1266: 'deliberations', 1267: 'delicious', 1268: 'delight', 1269: 'deliver', 1270: 'delivered', 1271: 'delivery', 1272: 'demand', 1273: 'demanded', 1274: 'demanding', 1275: 'demands', 1276: 'demo', 1277: 'democracy', 1278: 'democratic', 1279: 'democrats', 1280: 'demonstrate', 1281: 'demonstrated', 1282: 'denied', 1283: 'denies', 1284: 'dennis', 1285: 'denounced', 1286: 'density', 1287: 'deny', 1288: 'department', 1289: 'departure', 1290: 'dependent', 1291: 'depending', 1292: 'depends', 1293: 'depfa', 1294: 'depfas', 1295: 'depicting', 1296: 'deposits', 1297: 'depressing', 1298: 'depression', 1299: 'deputy', 1300: 'der', 1301: 'derailed', 1302: 'derelict', 1303: 'describe', 1304: 'described', 1305: 'describing', 1306: 'desecrated', 1307: 'desecrating', 1308: 'desecration', 1309: 'desegregation', 1310: 'desert', 1311: 'deserves', 1312: 'designated', 1313: 'designed', 1314: 'desired', 1315: 'despite', 1316: 'destination', 1317: 'destiny', 1318: 'destroy', 1319: 'destroyed', 1320: 'detailed', 1321: 'details', 1322: 'detained', 1323: 'detect', 1324: 'detectors', 1325: 'detects', 1326: 'detention', 1327: 'deteriorates', 1328: 'deterioration', 1329: 'determination', 1330: 'determine', 1331: 'detroit', 1332: 'deutsche', 1333: 'developed', 1334: 'developers', 1335: 'developing', 1336: 'development', 1337: 'developments', 1338: 'device', 1339: 'devices', 1340: 'dialogue', 1341: 'diario', 1342: 'did', 1343: 'didnt', 1344: 'die', 1345: 'died', 1346: 'diego', 1347: 'diepressecom', 1348: 'difference', 1349: 'differences', 1350: 'different', 1351: 'differing', 1352: 'differs', 1353: 'difficult', 1354: 'difficulties', 1355: 'difficulty', 1356: 'diffused', 1357: 'diffusion', 1358: 'digest', 1359: 'diminished', 1360: 'diminishes', 1361: 'dint', 1362: 'diplomacy', 1363: 'direct', 1364: 'directed', 1365: 'direction', 1366: 'directions', 1367: 'directly', 1368: 'director', 1369: 'directors', 1370: 'directory', 1371: 'dirty', 1372: 'disadvantages', 1373: 'disappear', 1374: 'disappearance', 1375: 'disappeared', 1376: 'disappearing', 1377: 'disappointed', 1378: 'disassembling', 1379: 'disbursed', 1380: 'discarded', 1381: 'disclose', 1382: 'disclosed', 1383: 'disclosing', 1384: 'discontent', 1385: 'discontinue', 1386: 'discounted', 1387: 'discourage', 1388: 'discouraging', 1389: 'discover', 1390: 'discovered', 1391: 'discovery', 1392: 'discredit', 1393: 'discuss', 1394: 'discussed', 1395: 'discussions', 1396: 'disdained', 1397: 'disease', 1398: 'diseases', 1399: 'disgraceful', 1400: 'dishonoured', 1401: 'dismissed', 1402: 'disorders', 1403: 'displacement', 1404: 'display', 1405: 'disposals', 1406: 'disposed', 1407: 'disproportionate', 1408: 'disputed', 1409: 'disputes', 1410: 'disregarding', 1411: 'dissolution', 1412: 'dissolve', 1413: 'distance', 1414: 'distances', 1415: 'distant', 1416: 'distinct', 1417: 'distinction', 1418: 'distributed', 1419: 'distributes', 1420: 'district', 1421: 'disturbed', 1422: 'disturbing', 1423: 'divide', 1424: 'divided', 1425: 'division', 1426: 'divorce', 1427: 'divorced', 1428: 'divorcing', 1429: 'djia', 1430: 'dk', 1431: 'do', 1432: 'doctor', 1433: 'document', 1434: 'documents', 1435: 'does', 1436: 'doesnt', 1437: 'doing', 1438: 'dollar', 1439: 'dollars', 1440: 'domestic', 1441: 'dominance', 1442: 'dominant', 1443: 'dominated', 1444: 'domov', 1445: 'donate', 1446: 'done', 1447: 'donlin', 1448: 'donors', 1449: 'dont', 1450: 'door', 1451: 'doors', 1452: 'double', 1453: 'doubts', 1454: 'dow', 1455: 'down', 1456: 'download', 1457: 'downloads', 1458: 'downstream', 1459: 'downward', 1460: 'dozen', 1461: 'dr', 1462: 'draft', 1463: 'dragging', 1464: 'dramatic', 1465: 'draught', 1466: 'draw', 1467: 'drawn', 1468: 'draws', 1469: 'dream', 1470: 'dress', 1471: 'dressing', 1472: 'dribbling', 1473: 'drift', 1474: 'drinks', 1475: 'drive', 1476: 'driver', 1477: 'drivers', 1478: 'driving', 1479: 'drop', 1480: 'dropped', 1481: 'dropping', 1482: 'drops', 1483: 'drug', 1484: 'drugs', 1485: 'drum', 1486: 'drzeviecki', 1487: 'dubbed', 1488: 'due', 1489: 'duesseldorf', 1490: 'duo', 1491: 'duration', 1492: 'durations', 1493: 'during', 1494: 'dust', 1495: 'duty', 1496: 'dvořák', 1497: 'dynamics', 1498: 'décary', 1499: 'détente', 1500: 'e', 1501: 'each', 1502: 'ear', 1503: 'earlier', 1504: 'early', 1505: 'earning', 1506: 'earnings', 1507: 'ears', 1508: 'earth', 1509: 'ease', 1510: 'easier', 1511: 'east', 1512: 'eastmainaruper', 1513: 'easy', 1514: 'eaten', 1515: 'eating', 1516: 'eatonville', 1517: 'eatonvilles', 1518: 'eccentric', 1519: 'economic', 1520: 'economically', 1521: 'economics', 1522: 'economist', 1523: 'economists', 1524: 'economy', 1525: 'ecosystem', 1526: 'edge', 1527: 'edition', 1528: 'editors', 1529: 'educate', 1530: 'education', 1531: 'eef', 1532: 'effect', 1533: 'effective', 1534: 'effectively', 1535: 'efficaciously', 1536: 'efficient', 1537: 'effort', 1538: 'efforts', 1539: 'eg', 1540: 'ego', 1541: 'egyesület', 1542: 'egypt', 1543: 'egyptian', 1544: 'együtt', 1545: 'eight', 1546: 'eightplus', 1547: 'einstein', 1548: 'einsteins', 1549: 'either', 1550: 'el', 1551: 'elected', 1552: 'election', 1553: 'elections', 1554: 'electoral', 1555: 'electric', 1556: 'electrical', 1557: 'electricity', 1558: 'electronic', 1559: 'element', 1560: 'elements', 1561: 'elena', 1562: 'eleven', 1563: 'eligible', 1564: 'elite', 1565: 'else', 1566: 'elwen', 1567: 'elysée', 1568: 'emancipation', 1569: 'emanuel', 1570: 'embarking', 1571: 'embassy', 1572: 'embodied', 1573: 'embracing', 1574: 'embraer', 1575: 'emerge', 1576: 'emerged', 1577: 'emergencies', 1578: 'emergency', 1579: 'emerges', 1580: 'emerging', 1581: 'emigrants', 1582: 'emotional', 1583: 'emotionalist', 1584: 'emotions', 1585: 'emotive', 1586: 'empezar', 1587: 'emphasis', 1588: 'emphasized', 1589: 'emphasizes', 1590: 'employed', 1591: 'employee', 1592: 'employees', 1593: 'employers', 1594: 'employs', 1595: 'empowerment', 1596: 'empty', 1597: 'en', 1598: 'enables', 1599: 'enactments', 1600: 'encountered', 1601: 'end', 1602: 'endangering', 1603: 'ended', 1604: 'endorsed', 1605: 'ends', 1606: 'enemies', 1607: 'enemy', 1608: 'energy', 1609: 'enersis', 1610: 'english', 1611: 'englishlanguagearts', 1612: 'englishlearner', 1613: 'enjoy', 1614: 'enjoyed', 1615: 'enlarge', 1616: 'enormous', 1617: 'enough', 1618: 'enron', 1619: 'ensure', 1620: 'enter', 1621: 'entering', 1622: 'enterprise', 1623: 'enterprises', 1624: 'enthusiastic', 1625: 'entire', 1626: 'entirely', 1627: 'entourage', 1628: 'entrance', 1629: 'entry', 1630: 'environment', 1631: 'ep', 1632: 'epic', 1633: 'episode', 1634: 'episodes', 1635: 'epo', 1636: 'equal', 1637: 'equality', 1638: 'equally', 1639: 'equation', 1640: 'equipment', 1641: 'equipped', 1642: 'equity', 1643: 'equivalent', 1644: 'era', 1645: 'eras', 1646: 'eric', 1647: 'ericsson', 1648: 'ermine', 1649: 'err', 1650: 'errant', 1651: 'errors', 1652: 'ertzaintza', 1653: 'escape', 1654: 'especially', 1655: 'essence', 1656: 'essential', 1657: 'essentiality', 1658: 'establishes', 1659: 'estate', 1660: 'estates', 1661: 'esteem', 1662: 'estimated', 1663: 'estimates', 1664: 'esély', 1665: 'ethiopia', 1666: 'eu', 1667: 'eur', 1668: 'euro', 1669: 'eurocup', 1670: 'europe', 1671: 'european', 1672: 'europeanamerican', 1673: 'euros', 1674: 'evaluated', 1675: 'evaluating', 1676: 'evans', 1677: 'even', 1678: 'evening', 1679: 'event', 1680: 'events', 1681: 'eventually', 1682: 'ever', 1683: 'everdeepening', 1684: 'every', 1685: 'everyday', 1686: 'everyone', 1687: 'everything', 1688: 'evidence', 1689: 'evidently', 1690: 'evolution', 1691: 'exact', 1692: 'exactly', 1693: 'exaggerate', 1694: 'exam', 1695: 'examine', 1696: 'examining', 1697: 'example', 1698: 'excels', 1699: 'exceptions', 1700: 'excessive', 1701: 'exchange', 1702: 'excited', 1703: 'exclude', 1704: 'excluded', 1705: 'exclusively', 1706: 'executed', 1707: 'executive', 1708: 'executives', 1709: 'exhibition', 1710: 'exist', 1711: 'existence', 1712: 'existent', 1713: 'existing', 1714: 'exit', 1715: 'expansion', 1716: 'expect', 1717: 'expectations', 1718: 'expected', 1719: 'expedition', 1720: 'expensive', 1721: 'experience', 1722: 'experienced', 1723: 'experiment', 1724: 'experimental', 1725: 'expertise', 1726: 'experts', 1727: 'explain', 1728: 'explained', 1729: 'explains', 1730: 'explanation', 1731: 'exploit', 1732: 'exploitation', 1733: 'explore', 1734: 'explorer', 1735: 'expm', 1736: 'export', 1737: 'exposed', 1738: 'exposure', 1739: 'express', 1740: 'expressed', 1741: 'expresses', 1742: 'expulsion', 1743: 'exquisite', 1744: 'extent', 1745: 'extorting', 1746: 'extra', 1747: 'extract', 1748: 'extracting', 1749: 'extraordinary', 1750: 'extremely', 1751: 'extremes', 1752: 'extremists', 1753: 'eye', 1754: 'eyes', 1755: 'fabani', 1756: 'fabuleux', 1757: 'face', 1758: 'facebook', 1759: 'faced', 1760: 'faces', 1761: 'facilitates', 1762: 'facing', 1763: 'fact', 1764: 'factor', 1765: 'factory', 1766: 'faeces', 1767: 'fail', 1768: 'failed', 1769: 'failure', 1770: 'faipari', 1771: 'fair', 1772: 'faith', 1773: 'fake', 1774: 'fall', 1775: 'fallen', 1776: 'falling', 1777: 'falls', 1778: 'false', 1779: 'familiar', 1780: 'families', 1781: 'family', 1782: 'famous', 1783: 'fan', 1784: 'fancy', 1785: 'fans', 1786: 'far', 1787: 'farias', 1788: 'farkas', 1789: 'farright', 1790: 'fascinate', 1791: 'fascinated', 1792: 'fascinating', 1793: 'fashion', 1794: 'fast', 1795: 'fasten', 1796: 'faster', 1797: 'fastgrowing', 1798: 'fatal', 1799: 'fate', 1800: 'father', 1801: 'favored', 1802: 'favour', 1803: 'favre', 1804: 'faymann', 1805: 'fbi', 1806: 'fear', 1807: 'feared', 1808: 'fears', 1809: 'features', 1810: 'february', 1811: 'fed', 1812: 'federal', 1813: 'federalist', 1814: 'federation', 1815: 'feel', 1816: 'feeling', 1817: 'feelings', 1818: 'fees', 1819: 'feet', 1820: 'fell', 1821: 'fellow', 1822: 'felt', 1823: 'female', 1824: 'ferdinand', 1825: 'festival', 1826: 'fetishist', 1827: 'few', 1828: 'fewer', 1829: 'fiatal', 1830: 'fictitious', 1831: 'fidesz', 1832: 'fidlovačka', 1833: 'field', 1834: 'fields', 1835: 'fierce', 1836: 'fight', 1837: 'fighters', 1838: 'figure', 1839: 'figures', 1840: 'file', 1841: 'files', 1842: 'filing', 1843: 'fill', 1844: 'filled', 1845: 'fillers', 1846: 'film', 1847: 'filmmaker', 1848: 'films', 1849: 'filtering', 1850: 'final', 1851: 'finalist', 1852: 'finally', 1853: 'finance', 1854: 'financial', 1855: 'financing', 1856: 'find', 1857: 'finding', 1858: 'findings', 1859: 'finds', 1860: 'fine', 1861: 'fini', 1862: 'finish', 1863: 'finished', 1864: 'fired', 1865: 'firefox', 1866: 'firing', 1867: 'firm', 1868: 'firmly', 1869: 'firms', 1870: 'first', 1871: 'fisheries', 1872: 'fishermen', 1873: 'five', 1874: 'fivelane', 1875: 'fivelaning', 1876: 'fix', 1877: 'fixed', 1878: 'flagging', 1879: 'flamenco', 1880: 'flamencopeople', 1881: 'flat', 1882: 'flee', 1883: 'flew', 1884: 'flight', 1885: 'flights', 1886: 'florence', 1887: 'florida', 1888: 'flow', 1889: 'flowing', 1890: 'fluent', 1891: 'fly', 1892: 'flying', 1893: 'focus', 1894: 'focused', 1895: 'follow', 1896: 'followed', 1897: 'following', 1898: 'fond', 1899: 'food', 1900: 'foot', 1901: 'for', 1902: 'force', 1903: 'forced', 1904: 'forces', 1905: 'forcing', 1906: 'forecast', 1907: 'foreign', 1908: 'foreseen', 1909: 'forgers', 1910: 'forgery', 1911: 'forget', 1912: 'forintbased', 1913: 'forints', 1914: 'form', 1915: 'formal', 1916: 'formally', 1917: 'format', 1918: 'formats', 1919: 'former', 1920: 'formerly', 1921: 'forms', 1922: 'formulated', 1923: 'fortis', 1924: 'forward', 1925: 'forwards', 1926: 'fought', 1927: 'found', 1928: 'foundation', 1929: 'foundations', 1930: 'founded', 1931: 'founders', 1932: 'four', 1933: 'fourth', 1934: 'fraction', 1935: 'framework', 1936: 'france', 1937: 'frank', 1938: 'frankfurt', 1939: 'frankfurts', 1940: 'franklin', 1941: 'franklins', 1942: 'frantic', 1943: 'františek', 1944: 'franz', 1945: 'fratto', 1946: 'fraud', 1947: 'fraudulent', 1948: 'free', 1949: 'freed', 1950: 'freely', 1951: 'freestyle', 1952: 'freeze', 1953: 'freezing', 1954: 'french', 1955: 'frequency', 1956: 'frequent', 1957: 'frequently', 1958: 'fresh', 1959: 'friday', 1960: 'friendly', 1961: 'friends', 1962: 'from', 1963: 'front', 1964: 'frontier', 1965: 'frozen', 1966: 'fruit', 1967: 'fuel', 1968: 'fuels', 1969: 'fugitives', 1970: 'fulfilling', 1971: 'full', 1972: 'fully', 1973: 'fumble', 1974: 'fuming', 1975: 'fun', 1976: 'function', 1977: 'functionalities', 1978: 'functioning', 1979: 'functions', 1980: 'fund', 1981: 'fundamental', 1982: 'fundamentally', 1983: 'funds', 1984: 'funke', 1985: 'furious', 1986: 'further', 1987: 'furthermore', 1988: 'future', 1989: 'futures', 1990: 'félix', 1991: 'g', 1992: 'gabriele', 1993: 'gadd', 1994: 'gain', 1995: 'gained', 1996: 'gains', 1997: 'gala', 1998: 'galdós', 1999: 'galling', 2000: 'gallup', 2001: 'gamboa', 2002: 'game', 2003: 'games', 2004: 'gang', 2005: 'gaps', 2006: 'garci', 2007: 'gardner', 2008: 'gargantuan', 2009: 'garments', 2010: 'garver', 2011: 'garvers', 2012: 'gary', 2013: 'gas', 2014: 'gasoline', 2015: 'gaspar', 2016: 'gathered', 2017: 'gathering', 2018: 'gave', 2019: 'gb', 2020: 'gdp', 2021: 'gebrselassie', 2022: 'gebrselassies', 2023: 'geckoes', 2024: 'geeks', 2025: 'general', 2026: 'generally', 2027: 'generals', 2028: 'generate', 2029: 'generates', 2030: 'generation', 2031: 'generator', 2032: 'generosity', 2033: 'generous', 2034: 'geopolitical', 2035: 'georg', 2036: 'george', 2037: 'georgia', 2038: 'geostrategic', 2039: 'gergen', 2040: 'german', 2041: 'germans', 2042: 'germany', 2043: 'get', 2044: 'gets', 2045: 'getting', 2046: 'gianfranco', 2047: 'giant', 2048: 'gifts', 2049: 'gigabyte', 2050: 'giggled', 2051: 'giggling', 2052: 'gimmick', 2053: 'gioacchino', 2054: 'gioia', 2055: 'giorgio', 2056: 'girl', 2057: 'girls', 2058: 'giuseppe', 2059: 'give', 2060: 'given', 2061: 'gives', 2062: 'giving', 2063: 'glad', 2064: 'gladbach', 2065: 'glass', 2066: 'glassfronted', 2067: 'glenn', 2068: 'glitter', 2069: 'glitters', 2070: 'global', 2071: 'globally', 2072: 'gloomy', 2073: 'glorious', 2074: 'glue', 2075: 'glue»', 2076: 'gluing', 2077: 'go', 2078: 'goal', 2079: 'god', 2080: 'godbout', 2081: 'godfather', 2082: 'goes', 2083: 'going', 2084: 'golan', 2085: 'gold', 2086: 'golden', 2087: 'goldman', 2088: 'gonzaless', 2089: 'good', 2090: 'goodbye', 2091: 'goods', 2092: 'google', 2093: 'googlechief', 2094: 'googles', 2095: 'got', 2096: 'govern', 2097: 'government', 2098: 'governmentfunding', 2099: 'governments', 2100: 'governors', 2101: 'gps', 2102: 'grace', 2103: 'graders', 2104: 'graffiti', 2105: 'grandmother', 2106: 'grant', 2107: 'granted', 2108: 'grapefruit', 2109: 'graves', 2110: 'gravitation', 2111: 'gravitational', 2112: 'gravity', 2113: 'graziano', 2114: 'great', 2115: 'greater', 2116: 'greatest', 2117: 'greatness', 2118: 'greats', 2119: 'greetings', 2120: 'gripped', 2121: 'ground', 2122: 'grounds', 2123: 'group', 2124: 'groups', 2125: 'growing', 2126: 'growth', 2127: 'guaranteed', 2128: 'guess', 2129: 'guest', 2130: 'guests', 2131: 'guidebook', 2132: 'guilt', 2133: 'guilvinec', 2134: 'guitarists', 2135: 'gun', 2136: 'gustav', 2137: 'guzzlers', 2138: 'győző', 2139: 'gélineau', 2140: 'göncz', 2141: 'günther', 2142: 'had', 2143: 'hadnt', 2144: 'haider', 2145: 'haile', 2146: 'hair', 2147: 'half', 2148: 'halftime', 2149: 'halfyear', 2150: 'halved', 2151: 'hamas', 2152: 'hamburg', 2153: 'hamburgers', 2154: 'hamburgs', 2155: 'hammered', 2156: 'hampers', 2157: 'hand', 2158: 'handed', 2159: 'handle', 2160: 'handling', 2161: 'hands', 2162: 'hang', 2163: 'hangar', 2164: 'hanging', 2165: 'hannover', 2166: 'happen', 2167: 'happened', 2168: 'happening', 2169: 'happens', 2170: 'happiness', 2171: 'happy', 2172: 'harbor', 2173: 'harbour', 2174: 'hard', 2175: 'harder', 2176: 'hardly', 2177: 'hardware', 2178: 'hardwire', 2179: 'harmadik', 2180: 'harper', 2181: 'harry', 2182: 'has', 2183: 'hashish', 2184: 'hasina', 2185: 'hasinas', 2186: 'hastily', 2187: 'haunt', 2188: 'have', 2189: 'having', 2190: 'he', 2191: 'head', 2192: 'header', 2193: 'heads', 2194: 'health', 2195: 'healthy', 2196: 'hear', 2197: 'heard', 2198: 'hearing', 2199: 'heart', 2200: 'heartfelt', 2201: 'heather', 2202: 'heathrows', 2203: 'heavily', 2204: 'heavy', 2205: 'hectic', 2206: 'heels', 2207: 'heights', 2208: 'heinzchristian', 2209: 'helaba', 2210: 'held', 2211: 'hell', 2212: 'helmand', 2213: 'help', 2214: 'helped', 2215: 'helpful', 2216: 'helping', 2217: 'hence', 2218: 'henry', 2219: 'hepatitis', 2220: 'her', 2221: 'herbs', 2222: 'here', 2223: 'herself', 2224: 'hes', 2225: 'hezbollah', 2226: 'hib', 2227: 'hidden', 2228: 'hide', 2229: 'hiding', 2230: 'high', 2231: 'higher', 2232: 'highest', 2233: 'highlighted', 2234: 'highly', 2235: 'highprofile', 2236: 'highway', 2237: 'hill', 2238: 'hillary', 2239: 'hiltrop', 2240: 'him', 2241: 'himself', 2242: 'his', 2243: 'hisher', 2244: 'hispanic', 2245: 'hispanicamerican', 2246: 'historic', 2247: 'historical', 2248: 'history', 2249: 'hit', 2250: 'hits', 2251: 'hofbräu', 2252: 'hold', 2253: 'holding', 2254: 'holds', 2255: 'holiday', 2256: 'hollywood', 2257: 'holstein', 2258: 'holzkirchen', 2259: 'home', 2260: 'homemade', 2261: 'homeowners', 2262: 'hometown', 2263: 'homicide', 2264: 'honest', 2265: 'hong', 2266: 'honor', 2267: 'honoured', 2268: 'hope', 2269: 'hopes', 2270: 'hoping', 2271: 'hoppá', 2272: 'hora', 2273: 'hospitals', 2274: 'host', 2275: 'hostage', 2276: 'hostages', 2277: 'hosts', 2278: 'hotel', 2279: 'hour', 2280: 'hours', 2281: 'house', 2282: 'households', 2283: 'houses', 2284: 'housing', 2285: 'how', 2286: 'however', 2287: 'hořín', 2288: 'hre', 2289: 'hsv', 2290: 'hsvs', 2291: 'httpitopenofficeorgdownloaddownloadhtml', 2292: 'hub', 2293: 'huber', 2294: 'huberbeckstein', 2295: 'hudsucker', 2296: 'huf', 2297: 'huge', 2298: 'hugged', 2299: 'hugging', 2300: 'human', 2301: 'humans', 2302: 'hundred', 2303: 'hungarian', 2304: 'hungarians', 2305: 'hungary', 2306: 'hurston', 2307: 'hurt', 2308: 'hurts', 2309: 'husband', 2310: 'hustler', 2311: 'hydroelectric', 2312: 'hymn', 2313: 'hypo', 2314: 'hypothesis', 2315: 'hémaquebec', 2316: 'hémaquébec', 2317: 'i', 2318: 'ibm', 2319: 'icon', 2320: 'iconographic', 2321: 'iconography', 2322: 'id', 2323: 'idea', 2324: 'ideal', 2325: 'identical', 2326: 'identification', 2327: 'ie', 2328: 'if', 2329: 'ifjú', 2330: 'ignominious', 2331: 'ignore', 2332: 'ignored', 2333: 'ignores', 2334: 'ihnedcz', 2335: 'ill', 2336: 'illegal', 2337: 'illhaeusern', 2338: 'illness', 2339: 'illustrated', 2340: 'im', 2341: 'image', 2342: 'images', 2343: 'imaginative', 2344: 'imagined', 2345: 'imaging', 2346: 'imitates', 2347: 'immediately', 2348: 'immense', 2349: 'immersion', 2350: 'immigrants', 2351: 'immigration', 2352: 'impact', 2353: 'impacting', 2354: 'impacts', 2355: 'impartial', 2356: 'impasse', 2357: 'imperfect', 2358: 'implementation', 2359: 'implicit', 2360: 'import', 2361: 'importance', 2362: 'important', 2363: 'importantly', 2364: 'imposed', 2365: 'impossible', 2366: 'impression', 2367: 'imprisonment', 2368: 'improve', 2369: 'improved', 2370: 'improvement', 2371: 'improvements', 2372: 'in', 2373: 'inappropriate', 2374: 'inaugural', 2375: 'inc', 2376: 'inception', 2377: 'incident', 2378: 'incidents', 2379: 'inclined', 2380: 'include', 2381: 'included', 2382: 'includes', 2383: 'income', 2384: 'incorporated', 2385: 'incorrectly', 2386: 'increase', 2387: 'increased', 2388: 'increases', 2389: 'increasing', 2390: 'increasingly', 2391: 'incredible', 2392: 'incubation', 2393: 'indebtedness', 2394: 'indeed', 2395: 'independence', 2396: 'independent', 2397: 'index', 2398: 'indexes', 2399: 'india', 2400: 'indicated', 2401: 'indicator', 2402: 'indictment', 2403: 'indignant', 2404: 'indirectly', 2405: 'individual', 2406: 'individuals', 2407: 'induce', 2408: 'industrial', 2409: 'industries', 2410: 'industrious', 2411: 'industry', 2412: 'inexpensive', 2413: 'infancy', 2414: 'infected', 2415: 'infection', 2416: 'infectious', 2417: 'infinite', 2418: 'inflammation', 2419: 'influence', 2420: 'influenced', 2421: 'informal', 2422: 'information', 2423: 'informed', 2424: 'infrastructure', 2425: 'ingredient', 2426: 'inhabitants', 2427: 'inhibit', 2428: 'inhibited', 2429: 'initial', 2430: 'initiative', 2431: 'initiatives', 2432: 'injuries', 2433: 'injury', 2434: 'inner', 2435: 'innermost', 2436: 'inoffensive', 2437: 'inputs', 2438: 'inquiry', 2439: 'inseparable', 2440: 'insert', 2441: 'inside', 2442: 'insisted', 2443: 'insolvency', 2444: 'insolvent', 2445: 'inspection', 2446: 'inspector', 2447: 'inspiration', 2448: 'inspirations', 2449: 'inspire', 2450: 'inspired', 2451: 'install', 2452: 'installation', 2453: 'installed', 2454: 'installment', 2455: 'instance', 2456: 'instant', 2457: 'instantly', 2458: 'instead', 2459: 'instinctive', 2460: 'instinctively', 2461: 'instincts', 2462: 'institute', 2463: 'institutes', 2464: 'institution', 2465: 'institutions', 2466: 'instruction', 2467: 'instrumental', 2468: 'instruments', 2469: 'instyle', 2470: 'insurance', 2471: 'insured', 2472: 'insurers', 2473: 'integrate', 2474: 'integrated', 2475: 'integrating', 2476: 'integration', 2477: 'intelligence', 2478: 'intelligent', 2479: 'intend', 2480: 'intended', 2481: 'intends', 2482: 'intense', 2483: 'intensity', 2484: 'intent', 2485: 'intentionally', 2486: 'intercepted', 2487: 'interceptions', 2488: 'interest', 2489: 'interested', 2490: 'interesting', 2491: 'interestingly', 2492: 'interests', 2493: 'interim', 2494: 'interior', 2495: 'intermediate', 2496: 'interministerial', 2497: 'intermittent', 2498: 'internal', 2499: 'internally', 2500: 'international', 2501: 'internationalism', 2502: 'internet', 2503: 'interoperability', 2504: 'interpretation', 2505: 'interpreted', 2506: 'interpreter', 2507: 'interpreters', 2508: 'interprets', 2509: 'interrogated', 2510: 'interrogation', 2511: 'interstate', 2512: 'intervene', 2513: 'intervention', 2514: 'interview', 2515: 'interviewed', 2516: 'interviews', 2517: 'intimate', 2518: 'into', 2519: 'intolerance', 2520: 'introduced', 2521: 'intuitive', 2522: 'invasion', 2523: 'invented', 2524: 'invest', 2525: 'invested', 2526: 'investigate', 2527: 'investigated', 2528: 'investigating', 2529: 'investigation', 2530: 'investigations', 2531: 'investigators', 2532: 'investing', 2533: 'investment', 2534: 'investor', 2535: 'investors', 2536: 'invisible', 2537: 'invoice', 2538: 'invoiceissuers', 2539: 'invoices', 2540: 'involved', 2541: 'involvement', 2542: 'involving', 2543: 'inés', 2544: 'ipods', 2545: 'iran', 2546: 'iraq', 2547: 'iraqs', 2548: 'irish', 2549: 'irony', 2550: 'irrational', 2551: 'irreparable', 2552: 'irresponsibility', 2553: 'is', 2554: 'isabel', 2555: 'islamic', 2556: 'isnt', 2557: 'isolated', 2558: 'israel', 2559: 'israeli', 2560: 'issue', 2561: 'issued', 2562: 'issues', 2563: 'issuing', 2564: 'istván', 2565: 'it', 2566: 'italian', 2567: 'italians', 2568: 'italy', 2569: 'its', 2570: 'itself', 2571: 'itv', 2572: 'iu', 2573: 'ivan', 2574: 'ive', 2575: 'iván', 2576: 'izumi', 2577: 'jack', 2578: 'jacksonville', 2579: 'jacqui', 2580: 'jail', 2581: 'jailed', 2582: 'james', 2583: 'january', 2584: 'jančura', 2585: 'japan', 2586: 'japanese', 2587: 'jaroslav', 2588: 'jars', 2589: 'jaundice', 2590: 'jean', 2591: 'jeremiah', 2592: 'jeremiáš', 2593: 'jersey', 2594: 'jerusalem', 2595: 'jesus', 2596: 'jets', 2597: 'jewel', 2598: 'jewish', 2599: 'jimmy', 2600: 'jitters', 2601: 'jiří', 2602: 'job', 2603: 'jobb', 2604: 'john', 2605: 'join', 2606: 'joined', 2607: 'joint', 2608: 'jointer', 2609: 'jokingly', 2610: 'jol', 2611: 'jones', 2612: 'jordan', 2613: 'jos', 2614: 'jose', 2615: 'josef', 2616: 'joseph', 2617: 'josinvestment', 2618: 'jostle', 2619: 'journal', 2620: 'journalism', 2621: 'journalist', 2622: 'journalists', 2623: 'journey', 2624: 'jp', 2625: 'judge', 2626: 'judges', 2627: 'judicial', 2628: 'juice', 2629: 'juices', 2630: 'july', 2631: 'june', 2632: 'jungle', 2633: 'junk', 2634: 'just', 2635: 'justice', 2636: 'justify', 2637: 'jános', 2638: 'járóka', 2639: 'józsefváros', 2640: 'jörg', 2641: 'jövőért', 2642: 'kajetán', 2643: 'kamathi', 2644: 'kandahar', 2645: 'kateřina', 2646: 'kauffmann', 2647: 'kde', 2648: 'keep', 2649: 'keeping', 2650: 'kemecseis', 2651: 'kennedy', 2652: 'kent', 2653: 'kenya', 2654: 'kenyan', 2655: 'kenyans', 2656: 'kept', 2657: 'kerosene', 2658: 'key', 2659: 'kft', 2660: 'khadr', 2661: 'khaleda', 2662: 'kickstart', 2663: 'kid', 2664: 'kill', 2665: 'killed', 2666: 'kilograms', 2667: 'kilos', 2668: 'kind', 2669: 'kinds', 2670: 'kinga', 2671: 'kiskunhalas', 2672: 'klein', 2673: 'knees', 2674: 'knew', 2675: 'know', 2676: 'knowing', 2677: 'knowledge', 2678: 'known', 2679: 'knows', 2680: 'kněžínková', 2681: 'koblic', 2682: 'kohl', 2683: 'kong', 2684: 'korunas', 2685: 'kostitsyn', 2686: 'kovalev', 2687: 'kovalevs', 2688: 'krever', 2689: 'kristián', 2690: 'kristoffer', 2691: 'krugman', 2692: 'krček', 2693: 'kubatov', 2694: 'kunfehértó', 2695: 'la', 2696: 'laboratories', 2697: 'laboratory', 2698: 'lacking', 2699: 'ladder', 2700: 'lados', 2701: 'ladoss', 2702: 'lady', 2703: 'lance', 2704: 'land', 2705: 'landesbanken', 2706: 'landing', 2707: 'lane', 2708: 'language', 2709: 'lapsed', 2710: 'large', 2711: 'largescale', 2712: 'largest', 2713: 'last', 2714: 'lasted', 2715: 'lasting', 2716: 'late', 2717: 'later', 2718: 'latest', 2719: 'latino', 2720: 'latter', 2721: 'latters', 2722: 'lauded', 2723: 'launch', 2724: 'launched', 2725: 'laveranues', 2726: 'law', 2727: 'laws', 2728: 'lawyers', 2729: 'lay', 2730: 'layer', 2731: 'le', 2732: 'lead', 2733: 'leader', 2734: 'leaders', 2735: 'leadership', 2736: 'leading', 2737: 'league', 2738: 'learn', 2739: 'learned', 2740: 'lease', 2741: 'leasing', 2742: 'least', 2743: 'leather', 2744: 'leave', 2745: 'leaving', 2746: 'lebedev', 2747: 'led', 2748: 'ledoux', 2749: 'lee', 2750: 'left', 2751: 'legacy', 2752: 'legal', 2753: 'legendary', 2754: 'legends', 2755: 'legislation', 2756: 'legislators', 2757: 'legs', 2758: 'lehman', 2759: 'leisure', 2760: 'leonardo', 2761: 'leonardos', 2762: 'lequipe', 2763: 'lesions', 2764: 'less', 2765: 'let', 2766: 'lets', 2767: 'letter', 2768: 'letters', 2769: 'leukaemia', 2770: 'level', 2771: 'levesque', 2772: 'liberal', 2773: 'liberals', 2774: 'libraries', 2775: 'library', 2776: 'license', 2777: 'lied', 2778: 'lies', 2779: 'life', 2780: 'lifebelt', 2781: 'liga', 2782: 'light', 2783: 'lighter', 2784: 'like', 2785: 'liked', 2786: 'likely', 2787: 'likes', 2788: 'likewise', 2789: 'like»', 2790: 'liming', 2791: 'limit', 2792: 'limited', 2793: 'limits', 2794: 'lin', 2795: 'line', 2796: 'linebacker', 2797: 'lines', 2798: 'linguistic', 2799: 'linked', 2800: 'liquidation', 2801: 'liquidity', 2802: 'list', 2803: 'listed', 2804: 'listen', 2805: 'listener', 2806: 'listening', 2807: 'lists', 2808: 'literary', 2809: 'literature', 2810: 'lithiumpolymer', 2811: 'litre', 2812: 'little', 2813: 'litvin', 2814: 'live', 2815: 'liver', 2816: 'lives', 2817: 'living', 2818: 'llamazares', 2819: 'llosa', 2820: 'loaded', 2821: 'loaf', 2822: 'loafs', 2823: 'loan', 2824: 'loans', 2825: 'local', 2826: 'localisation', 2827: 'located', 2828: 'location', 2829: 'locations', 2830: 'locker', 2831: 'locklear', 2832: 'log', 2833: 'logic', 2834: 'logically', 2835: 'loiero', 2836: 'london', 2837: 'long', 2838: 'longer', 2839: 'longterm', 2840: 'longtime', 2841: 'look', 2842: 'looked', 2843: 'looking', 2844: 'looks', 2845: 'looms', 2846: 'loop', 2847: 'lorenzo', 2848: 'los', 2849: 'losanna', 2850: 'lose', 2851: 'loses', 2852: 'losing', 2853: 'loss', 2854: 'losses', 2855: 'lost', 2856: 'lot', 2857: 'lottery', 2858: 'loudly', 2859: 'love', 2860: 'loved', 2861: 'low', 2862: 'lower', 2863: 'lowering', 2864: 'lowest', 2865: 'lps', 2866: 'luca', 2867: 'lucid', 2868: 'lucky', 2869: 'ludwik', 2870: 'luis', 2871: 'lukashenkoopposition', 2872: 'lull', 2873: 'lunch', 2874: 'luque', 2875: 'lyn', 2876: 'là', 2877: 'm', 2878: 'mac', 2879: 'machine', 2880: 'machineries', 2881: 'machines', 2882: 'made', 2883: 'madonna', 2884: 'madrid', 2885: 'mafia', 2886: 'magarsa', 2887: 'magazine', 2888: 'magistrates', 2889: 'magnificent', 2890: 'magyarországért', 2891: 'main', 2892: 'mainly', 2893: 'maintain', 2894: 'maintains', 2895: 'major', 2896: 'majority', 2897: 'make', 2898: 'makes', 2899: 'making', 2900: 'malaise', 2901: 'male', 2902: 'mammals', 2903: 'man', 2904: 'manage', 2905: 'managed', 2906: 'management', 2907: 'managers', 2908: 'mandate', 2909: 'maneuver', 2910: 'maneuvers', 2911: 'manga', 2912: 'mangini', 2913: 'mango', 2914: 'manhattan', 2915: 'manifest', 2916: 'manifested', 2917: 'manner', 2918: 'manoeuvre', 2919: 'manoeuvring', 2920: 'mans', 2921: 'manufactured', 2922: 'manufacturer', 2923: 'manufacturing', 2924: 'many', 2925: 'mapping', 2926: 'marathon', 2927: 'marcel', 2928: 'march', 2929: 'marco', 2930: 'marcos', 2931: 'marek', 2932: 'marin', 2933: 'marine', 2934: 'marital', 2935: 'market', 2936: 'marketability', 2937: 'marketing', 2938: 'markets', 2939: 'marking', 2940: 'marko', 2941: 'marks', 2942: 'martinez', 2943: 'martinon', 2944: 'marvin', 2945: 'mary', 2946: 'masi', 2947: 'masons', 2948: 'mass', 2949: 'master', 2950: 'masters', 2951: 'match', 2952: 'matched', 2953: 'material', 2954: 'materials', 2955: 'matilde', 2956: 'matt', 2957: 'matter', 2958: 'mature', 2959: 'maxim', 2960: 'maximum', 2961: 'may', 2962: 'maybe', 2963: 'mayo', 2964: 'mayor', 2965: 'maß', 2966: 'mccain', 2967: 'mccains', 2968: 'mdax', 2969: 'me', 2970: 'mean', 2971: 'means', 2972: 'meant', 2973: 'meantime', 2974: 'meanwhile', 2975: 'measure', 2976: 'measures', 2977: 'meat', 2978: 'mechanism', 2979: 'medal', 2980: 'media', 2981: 'medical', 2982: 'medicines', 2983: 'meet', 2984: 'meeting', 2985: 'meets', 2986: 'meg', 2987: 'megabyte', 2988: 'meltdown', 2989: 'member', 2990: 'members', 2991: 'memory', 2992: 'men', 2993: 'mendes', 2994: 'mental', 2995: 'mentality', 2996: 'mention', 2997: 'mentioned', 2998: 'mercandelli', 2999: 'mercantile', 3000: 'merely', 3001: 'merger', 3002: 'mergers', 3003: 'merkel', 3004: 'message', 3005: 'met', 3006: 'metal', 3007: 'meters', 3008: 'methodology', 3009: 'methods', 3010: 'metro', 3011: 'metropolitan', 3012: 'mexico', 3013: 'miami', 3014: 'michael', 3015: 'michel', 3016: 'michele', 3017: 'microfibers', 3018: 'microsoft', 3019: 'microsofts', 3020: 'middle', 3021: 'midfielder', 3022: 'might', 3023: 'miguel', 3024: 'mihály', 3025: 'mikels', 3026: 'milan', 3027: 'miles', 3028: 'milk', 3029: 'million', 3030: 'millioncrown', 3031: 'milly', 3032: 'mimic', 3033: 'minarets', 3034: 'mind', 3035: 'minimise', 3036: 'minimum', 3037: 'minister', 3038: 'ministers', 3039: 'ministry', 3040: 'minnesota', 3041: 'minniti', 3042: 'minors', 3043: 'minsk', 3044: 'minus', 3045: 'minute', 3046: 'minutes', 3047: 'miracle', 3048: 'mirek', 3049: 'miroslav', 3050: 'mirror', 3051: 'misplaced', 3052: 'miss', 3053: 'missed', 3054: 'missing', 3055: 'mission', 3056: 'mississippi', 3057: 'mistake', 3058: 'mistakes', 3059: 'mit', 3060: 'mixed', 3061: 'mladen', 3062: 'mobilcz', 3063: 'mobile', 3064: 'mobility', 3065: 'mobilking', 3066: 'mod', 3067: 'model', 3068: 'models', 3069: 'moderate', 3070: 'modern', 3071: 'modernisation', 3072: 'modernization', 3073: 'modesty', 3074: 'modules', 3075: 'molter', 3076: 'molterer', 3077: 'moment', 3078: 'monday', 3079: 'money', 3080: 'monica', 3081: 'monitor', 3082: 'monitoring', 3083: 'monopoly', 3084: 'montecito', 3085: 'month', 3086: 'monthly', 3087: 'months', 3088: 'montreal', 3089: 'monumental', 3090: 'mood', 3091: 'moral', 3092: 'morals', 3093: 'more', 3094: 'moreno', 3095: 'moreover', 3096: 'morgan', 3097: 'morning', 3098: 'mornings', 3099: 'mortgage', 3100: 'mortgagebacked', 3101: 'mortgages', 3102: 'mosques', 3103: 'moss', 3104: 'most', 3105: 'mostly', 3106: 'mother', 3107: 'motherinlaw', 3108: 'mothers', 3109: 'motion', 3110: 'motives', 3111: 'motor', 3112: 'motorbike', 3113: 'move', 3114: 'moved', 3115: 'movement', 3116: 'moviegoers', 3117: 'moving', 3118: 'mp', 3119: 'mr', 3120: 'mri', 3121: 'ms', 3122: 'mti', 3123: 'much', 3124: 'mug', 3125: 'multilevel', 3126: 'multiple', 3127: 'multiplex', 3128: 'mundo', 3129: 'munich', 3130: 'munichs', 3131: 'municipal', 3132: 'munson', 3133: 'murderer', 3134: 'music', 3135: 'musical', 3136: 'muslim', 3137: 'must', 3138: 'mutley', 3139: 'mutual', 3140: 'my', 3141: 'myself', 3142: 'můj', 3143: 'n', 3144: 'name', 3145: 'named', 3146: 'namely', 3147: 'names', 3148: 'nancy', 3149: 'naomi', 3150: 'naomis', 3151: 'naples', 3152: 'napolitano', 3153: 'narcissistic', 3154: 'narrowly', 3155: 'nasdaq', 3156: 'nati', 3157: 'nation', 3158: 'national', 3159: 'nationalists', 3160: 'nationalization', 3161: 'natural', 3162: 'naturally', 3163: 'nature', 3164: 'natures', 3165: 'navigation', 3166: 'naïve', 3167: 'near', 3168: 'nearexclusive', 3169: 'nearly', 3170: 'nears', 3171: 'necessarily', 3172: 'necessary', 3173: 'necessity', 3174: 'need', 3175: 'needed', 3176: 'needs', 3177: 'negative', 3178: 'negotiate', 3179: 'negotiations', 3180: 'negotiator', 3181: 'neighbor', 3182: 'neighborhood', 3183: 'neighbors', 3184: 'neither', 3185: 'neokeynesian', 3186: 'nephew', 3187: 'nervous', 3188: 'net', 3189: 'network', 3190: 'networking', 3191: 'neural', 3192: 'neurological', 3193: 'neurologicaleconomic', 3194: 'neurologist', 3195: 'neurologists', 3196: 'neuroscientist', 3197: 'nevada', 3198: 'never', 3199: 'nevertheless', 3200: 'neves', 3201: 'new', 3202: 'newest', 3203: 'newly', 3204: 'newman', 3205: 'news', 3206: 'newspaper', 3207: 'newspapers', 3208: 'newsroom', 3209: 'newsrooms', 3210: 'newsstands', 3211: 'next', 3212: 'nice', 3213: 'nickel', 3214: 'nicolas', 3215: 'night', 3216: 'nightmares', 3217: 'nights', 3218: 'nil', 3219: 'nine', 3220: 'ninetyten', 3221: 'nixon', 3222: 'no', 3223: 'nobel', 3224: 'noble', 3225: 'noblest', 3226: 'nobody', 3227: 'nobodys', 3228: 'nobrainer', 3229: 'nodded', 3230: 'noise', 3231: 'nominations', 3232: 'noncompensated', 3233: 'none', 3234: 'nonetheless', 3235: 'noneu', 3236: 'nonsense', 3237: 'nor', 3238: 'nora', 3239: 'nordlb', 3240: 'normandy', 3241: 'north', 3242: 'northern', 3243: 'not', 3244: 'notable', 3245: 'note', 3246: 'notes', 3247: 'nothing', 3248: 'notice', 3249: 'noticed', 3250: 'notify', 3251: 'novel', 3252: 'novelist', 3253: 'novelty', 3254: 'now', 3255: 'nowadays', 3256: 'ntl', 3257: 'nuclear', 3258: 'number', 3259: 'numbers', 3260: 'numerous', 3261: 'nyt', 3262: 'nyíregyháza', 3263: 'o', 3264: 'oakshaded', 3265: 'obama', 3266: 'obamas', 3267: 'objective', 3268: 'objects', 3269: 'oblige', 3270: 'obliged', 3271: 'obscure', 3272: 'observed', 3273: 'observers', 3274: 'observes', 3275: 'obstacle', 3276: 'obstacles', 3277: 'obstruct', 3278: 'obtain', 3279: 'obtained', 3280: 'obtaining', 3281: 'obviously', 3282: 'occasion', 3283: 'occasionally', 3284: 'occasions', 3285: 'occupants', 3286: 'occupied', 3287: 'occur', 3288: 'occurred', 3289: 'occurs', 3290: 'ocean', 3291: 'oceanic', 3292: 'oclock', 3293: 'october', 3294: 'of', 3295: 'off', 3296: 'offence', 3297: 'offenders', 3298: 'offenses', 3299: 'offer', 3300: 'offered', 3301: 'offerings', 3302: 'offers', 3303: 'office', 3304: 'officers', 3305: 'offices', 3306: 'official', 3307: 'officials', 3308: 'often', 3309: 'oh', 3310: 'ohio', 3311: 'oil', 3312: 'oktoberfest', 3313: 'old', 3314: 'older', 3315: 'olivier', 3316: 'olmert', 3317: 'olympic', 3318: 'omar', 3319: 'on', 3320: 'once', 3321: 'one', 3322: 'oneday', 3323: 'ones', 3324: 'onestory', 3325: 'onetenth', 3326: 'ongoing', 3327: 'online', 3328: 'only', 3329: 'onto', 3330: 'opc', 3331: 'open', 3332: 'opencard', 3333: 'opened', 3334: 'opening', 3335: 'openoffice', 3336: 'openofficeorg', 3337: 'opens', 3338: 'operate', 3339: 'operates', 3340: 'operating', 3341: 'operation', 3342: 'operator', 3343: 'operators', 3344: 'opinion', 3345: 'opinions', 3346: 'oppenheim', 3347: 'opponents', 3348: 'opportunities', 3349: 'opportunity', 3350: 'oppose', 3351: 'opposite', 3352: 'opposition', 3353: 'oppressors', 3354: 'opprobrium', 3355: 'option', 3356: 'options', 3357: 'or', 3358: 'orange', 3359: 'orchestra', 3360: 'order', 3361: 'ordered', 3362: 'ordinary', 3363: 'organisations', 3364: 'organised', 3365: 'organization', 3366: 'organizations', 3367: 'organized', 3368: 'organizes', 3369: 'oriental', 3370: 'original', 3371: 'originally', 3372: 'orlando', 3373: 'orlandos', 3374: 'orwellian', 3375: 'os', 3376: 'oscar', 3377: 'osce', 3378: 'ostiense', 3379: 'otakar', 3380: 'other', 3381: 'others', 3382: 'otherwise', 3383: 'ought', 3384: 'ounce', 3385: 'our', 3386: 'ours', 3387: 'out', 3388: 'outcome', 3389: 'outdated', 3390: 'outline', 3391: 'outlook', 3392: 'outoftowners', 3393: 'outrageous', 3394: 'outsiders', 3395: 'outstanding', 3396: 'ovation', 3397: 'over', 3398: 'overbidding', 3399: 'overcome', 3400: 'overdose', 3401: 'overexcite', 3402: 'overhead', 3403: 'overseas', 3404: 'oversee', 3405: 'overshadowed', 3406: 'overwhelmed', 3407: 'overwhelmingly', 3408: 'owing', 3409: 'own', 3410: 'owner', 3411: 'ownership', 3412: 'owning', 3413: 'oxford', 3414: 'pablo', 3415: 'paced', 3416: 'pack', 3417: 'package', 3418: 'packages', 3419: 'paco', 3420: 'padua', 3421: 'paedophiles', 3422: 'pages', 3423: 'paid', 3424: 'pain', 3425: 'painters', 3426: 'painting', 3427: 'paintings', 3428: 'palace', 3429: 'palestinians', 3430: 'paltry', 3431: 'pankseep', 3432: 'paolo', 3433: 'paper', 3434: 'papers', 3435: 'parachute', 3436: 'parachutes', 3437: 'parades', 3438: 'paradigm', 3439: 'paradiso', 3440: 'paradox', 3441: 'paradoxical', 3442: 'paradoxically', 3443: 'paragraphs', 3444: 'paramount', 3445: 'pared', 3446: 'parents', 3447: 'paris', 3448: 'parking', 3449: 'parks', 3450: 'parliament', 3451: 'parliamentary', 3452: 'parole', 3453: 'part', 3454: 'partial', 3455: 'participants', 3456: 'participate', 3457: 'participating', 3458: 'participation', 3459: 'particular', 3460: 'particularly', 3461: 'parties', 3462: 'partner', 3463: 'partners', 3464: 'partnership', 3465: 'parts', 3466: 'party', 3467: 'pass', 3468: 'passage', 3469: 'passages', 3470: 'passageway', 3471: 'passed', 3472: 'passengers', 3473: 'passersby', 3474: 'passion', 3475: 'passport', 3476: 'past', 3477: 'path', 3478: 'pathogens', 3479: 'patria', 3480: 'patrol', 3481: 'paul', 3482: 'paula', 3483: 'pauli', 3484: 'paulson', 3485: 'pavel', 3486: 'pavement', 3487: 'paws', 3488: 'pay', 3489: 'payment', 3490: 'payments', 3491: 'pays', 3492: 'pcaa', 3493: 'peace', 3494: 'peaceful', 3495: 'peacefully', 3496: 'peaked', 3497: 'pearl', 3498: 'pearson', 3499: 'pelletier', 3500: 'pelosi', 3501: 'penal', 3502: 'penalties', 3503: 'pence', 3504: 'penchant', 3505: 'pending', 3506: 'penelope', 3507: 'peninsula', 3508: 'pension', 3509: 'people', 3510: 'peoples', 3511: 'pepa', 3512: 'per', 3513: 'percent', 3514: 'percentage', 3515: 'perdition', 3516: 'perfect', 3517: 'perfectly', 3518: 'performance', 3519: 'performed', 3520: 'performing', 3521: 'performs', 3522: 'perhaps', 3523: 'period', 3524: 'periodical', 3525: 'periods', 3526: 'permanent', 3527: 'permission', 3528: 'permit', 3529: 'permits', 3530: 'permitted', 3531: 'perros', 3532: 'person', 3533: 'personal', 3534: 'personality', 3535: 'personalized', 3536: 'persons', 3537: 'perspective', 3538: 'persuasion', 3539: 'pervades', 3540: 'pessimism', 3541: 'petition', 3542: 'petitions', 3543: 'petr', 3544: 'petric', 3545: 'pew', 3546: 'phenomena', 3547: 'phenomenon', 3548: 'phone', 3549: 'phones', 3550: 'photo', 3551: 'photograph', 3552: 'photographers', 3553: 'photographs', 3554: 'photography', 3555: 'photos', 3556: 'phrased', 3557: 'physical', 3558: 'physicist', 3559: 'physiotherapist', 3560: 'picasso', 3561: 'picture', 3562: 'pictures', 3563: 'pie', 3564: 'pieces', 3565: 'pigal', 3566: 'pile', 3567: 'pilgrimage', 3568: 'pilsen', 3569: 'pioneer', 3570: 'pipelines', 3571: 'piromalli', 3572: 'pity', 3573: 'place', 3574: 'placed', 3575: 'places', 3576: 'plachetka', 3577: 'placing', 3578: 'plainly', 3579: 'plan', 3580: 'plane', 3581: 'planes', 3582: 'planned', 3583: 'planning', 3584: 'plans', 3585: 'plants', 3586: 'plastic', 3587: 'plate', 3588: 'platform', 3589: 'platini', 3590: 'platonic', 3591: 'play', 3592: 'played', 3593: 'player', 3594: 'players', 3595: 'playing', 3596: 'playoffs', 3597: 'plays', 3598: 'plea', 3599: 'pledges', 3600: 'plenty', 3601: 'plenum', 3602: 'plotted', 3603: 'plunged', 3604: 'plymouth', 3605: 'pm', 3606: 'pneumonia', 3607: 'pocket', 3608: 'podium', 3609: 'poeta', 3610: 'point', 3611: 'pointdrop', 3612: 'pointed', 3613: 'points', 3614: 'poland', 3615: 'police', 3616: 'policemen', 3617: 'policy', 3618: 'polish', 3619: 'political', 3620: 'politically', 3621: 'politician', 3622: 'politicians', 3623: 'politics', 3624: 'poll', 3625: 'polling', 3626: 'polls', 3627: 'pont', 3628: 'pool', 3629: 'poorly', 3630: 'pope', 3631: 'popular', 3632: 'popularity', 3633: 'population', 3634: 'populations', 3635: 'portable', 3636: 'portfolio', 3637: 'porting', 3638: 'portion', 3639: 'portrait', 3640: 'portraits', 3641: 'portray', 3642: 'portrayed', 3643: 'ports', 3644: 'portuguese', 3645: 'poses', 3646: 'position', 3647: 'positions', 3648: 'positive', 3649: 'possess', 3650: 'possessing', 3651: 'possession', 3652: 'possibility', 3653: 'possible', 3654: 'post', 3655: 'posterity', 3656: 'postwar', 3657: 'potential', 3658: 'poveda', 3659: 'poverty', 3660: 'power', 3661: 'powerpoint', 3662: 'pozoblanco', 3663: 'pq', 3664: 'practical', 3665: 'practically', 3666: 'practice', 3667: 'practising', 3668: 'practitioner', 3669: 'prague', 3670: 'precautionary', 3671: 'preceded', 3672: 'preceding', 3673: 'precisely', 3674: 'predicted', 3675: 'prediction', 3676: 'predicts', 3677: 'prefecture', 3678: 'prefers', 3679: 'prefrontal', 3680: 'pregentrified', 3681: 'preliminary', 3682: 'premeditated', 3683: 'prenestrina', 3684: 'prep', 3685: 'prepackaged', 3686: 'preparations', 3687: 'prepare', 3688: 'prepared', 3689: 'prescribing', 3690: 'presence', 3691: 'present', 3692: 'presentation', 3693: 'presentations', 3694: 'presented', 3695: 'presenting', 3696: 'preservation', 3697: 'president', 3698: 'presidential', 3699: 'press', 3700: 'presse', 3701: 'pressing', 3702: 'pressure', 3703: 'pretend', 3704: 'pretty', 3705: 'prevent', 3706: 'prevented', 3707: 'prevention', 3708: 'preventive', 3709: 'previous', 3710: 'previously', 3711: 'price', 3712: 'prices', 3713: 'pride', 3714: 'primary', 3715: 'primates', 3716: 'prime', 3717: 'prince', 3718: 'princeton', 3719: 'principal', 3720: 'principle', 3721: 'principles', 3722: 'printed', 3723: 'printing', 3724: 'prior', 3725: 'prison', 3726: 'prisoner', 3727: 'privacy', 3728: 'private', 3729: 'privilege', 3730: 'privileged', 3731: 'prize', 3732: 'probably', 3733: 'probe', 3734: 'probes', 3735: 'problem', 3736: 'problematic', 3737: 'problems', 3738: 'procedure', 3739: 'proceed', 3740: 'proceedings', 3741: 'process', 3742: 'processes', 3743: 'processing', 3744: 'produce', 3745: 'produced', 3746: 'producing', 3747: 'product', 3748: 'production', 3749: 'products', 3750: 'profession', 3751: 'professional', 3752: 'professors', 3753: 'proficient', 3754: 'profile', 3755: 'profit', 3756: 'profits', 3757: 'program', 3758: 'programme', 3759: 'programs', 3760: 'progress', 3761: 'progressive', 3762: 'prohibit', 3763: 'prohibits', 3764: 'project', 3765: 'projects', 3766: 'prolonged', 3767: 'prominent', 3768: 'promise', 3769: 'promised', 3770: 'promising', 3771: 'promote', 3772: 'promoted', 3773: 'promotion', 3774: 'prompted', 3775: 'proof', 3776: 'proper', 3777: 'property', 3778: 'proportion', 3779: 'proposal', 3780: 'proposals', 3781: 'propose', 3782: 'proposed', 3783: 'proposing', 3784: 'prosecute', 3785: 'prosecution', 3786: 'prosecutor', 3787: 'protect', 3788: 'protecting', 3789: 'protection', 3790: 'protest', 3791: 'protests', 3792: 'protti', 3793: 'prove', 3794: 'proved', 3795: 'proves', 3796: 'provide', 3797: 'provided', 3798: 'provider', 3799: 'provides', 3800: 'province', 3801: 'provinces', 3802: 'provincial', 3803: 'proving', 3804: 'provision', 3805: 'provisional', 3806: 'provisions', 3807: 'proximity', 3808: 'proxy', 3809: 'prudent', 3810: 'prudently', 3811: 'psychological', 3812: 'psychologically', 3813: 'psychologist', 3814: 'psychology', 3815: 'public', 3816: 'publication', 3817: 'publicly', 3818: 'publish', 3819: 'published', 3820: 'publishers', 3821: 'publishing', 3822: 'pulling', 3823: 'pump', 3824: 'punctuality', 3825: 'punished', 3826: 'punishment', 3827: 'purchase', 3828: 'purchases', 3829: 'purchasing', 3830: 'pursuant', 3831: 'pursuit', 3832: 'pushed', 3833: 'pushing', 3834: 'put', 3835: 'putting', 3836: 'pzpn', 3837: 'q', 3838: 'quaid', 3839: 'quaids', 3840: 'qualification', 3841: 'qualified', 3842: 'qualitative', 3843: 'quality', 3844: 'quantified', 3845: 'quarter', 3846: 'quarterback', 3847: 'quarters', 3848: 'quebec', 3849: 'quebecers', 3850: 'question', 3851: 'questioned', 3852: 'questions', 3853: 'queue', 3854: 'quiberon', 3855: 'quickly', 3856: 'quiet', 3857: 'quirinal', 3858: 'quite', 3859: 'race', 3860: 'rachel', 3861: 'rachelle', 3862: 'racism', 3863: 'racists', 3864: 'radcliffe', 3865: 'radical', 3866: 'radio', 3867: 'radius', 3868: 'rahm', 3869: 'rain', 3870: 'raise', 3871: 'raised', 3872: 'raising', 3873: 'rally', 3874: 'ran', 3875: 'randle', 3876: 'range', 3877: 'ranked', 3878: 'ransom', 3879: 'rapidly', 3880: 'rare', 3881: 'rarely', 3882: 'rarity', 3883: 'rat', 3884: 'rate', 3885: 'rated', 3886: 'rates', 3887: 'rather', 3888: 'ratified', 3889: 'rats', 3890: 'rattle', 3891: 'ravenna', 3892: 'rays', 3893: 'razors', 3894: 'reach', 3895: 'reached', 3896: 'reaching', 3897: 'react', 3898: 'reacting', 3899: 'reaction', 3900: 'read', 3901: 'readers', 3902: 'reading', 3903: 'reads', 3904: 'ready', 3905: 'reaffirming', 3906: 'real', 3907: 'realestate', 3908: 'realise', 3909: 'reality', 3910: 'realized', 3911: 'really', 3912: 'realm', 3913: 'rear', 3914: 'reason', 3915: 'reasonable', 3916: 'reasonably', 3917: 'reasons', 3918: 'reassured', 3919: 'rebuffs', 3920: 'recall', 3921: 'receding', 3922: 'receive', 3923: 'received', 3924: 'receiving', 3925: 'recent', 3926: 'recently', 3927: 'receptionist', 3928: 'recession', 3929: 'reciencasado', 3930: 'recitals', 3931: 'recién', 3932: 'recognition', 3933: 'recognize', 3934: 'recognized', 3935: 'recollections', 3936: 'recommendations', 3937: 'recommended', 3938: 'reconcilable', 3939: 'reconciliations', 3940: 'reconstruction', 3941: 'record', 3942: 'recorded', 3943: 'recorder', 3944: 'recording', 3945: 'recordings', 3946: 'recovering', 3947: 'recreate', 3948: 'recuperate', 3949: 'recurring', 3950: 'red', 3951: 'redblack', 3952: 'redeemed', 3953: 'rediscovers', 3954: 'reduce', 3955: 'reduced', 3956: 'reduction', 3957: 'rees', 3958: 'refer', 3959: 'referendum', 3960: 'referring', 3961: 'refinancing', 3962: 'reformism', 3963: 'reforms', 3964: 'refunds', 3965: 'refurbishing', 3966: 'refused', 3967: 'refuses', 3968: 'regained', 3969: 'regard', 3970: 'regarded', 3971: 'regarding', 3972: 'regardless', 3973: 'regards', 3974: 'regime', 3975: 'region', 3976: 'regions', 3977: 'register', 3978: 'registered', 3979: 'registering', 3980: 'registration', 3981: 'registry', 3982: 'regrettable', 3983: 'regular', 3984: 'regularly', 3985: 'regulation', 3986: 'regulations', 3987: 'regulator', 3988: 'reid', 3989: 'reign', 3990: 'reimbursement', 3991: 'reinforced', 3992: 'reinhardt', 3993: 'reinstatement', 3994: 'reiterated', 3995: 'reject', 3996: 'rejected', 3997: 'rejection', 3998: 'related', 3999: 'relation', 4000: 'relations', 4001: 'relationship', 4002: 'relationships', 4003: 'relative', 4004: 'relatively', 4005: 'relativity', 4006: 'relax', 4007: 'relaxed', 4008: 'relaxing', 4009: 'relay', 4010: 'release', 4011: 'released', 4012: 'relied', 4013: 'relief', 4014: 'relies', 4015: 'religious', 4016: 'reluctantly', 4017: 'remain', 4018: 'remained', 4019: 'remaining', 4020: 'remains', 4021: 'remarkable', 4022: 'remedy', 4023: 'remember', 4024: 'remembered', 4025: 'remind', 4026: 'reminded', 4027: 'remnants', 4028: 'removed', 4029: 'remuneration', 4030: 'rename', 4031: 'renamed', 4032: 'render', 4033: 'renderings', 4034: 'renew', 4035: 'renewed', 4036: 'rent', 4037: 'rental', 4038: 'renting', 4039: 'rentoffers', 4040: 'rents', 4041: 'repaid', 4042: 'repave', 4043: 'repay', 4044: 'repeat', 4045: 'repeated', 4046: 'repeatedly', 4047: 'replace', 4048: 'replaceable', 4049: 'replication', 4050: 'reply', 4051: 'report', 4052: 'reported', 4053: 'reportedly', 4054: 'reporters', 4055: 'reporting', 4056: 'reports', 4057: 'represent', 4058: 'representative', 4059: 'representatives', 4060: 'represented', 4061: 'reprieve', 4062: 'repubblica', 4063: 'republic', 4064: 'republican', 4065: 'republicans', 4066: 'reputedly', 4067: 'request', 4068: 'requested', 4069: 'requests', 4070: 'require', 4071: 'required', 4072: 'required»', 4073: 'requirements', 4074: 'requires', 4075: 'rescue', 4076: 'research', 4077: 'researchers', 4078: 'researches', 4079: 'researching', 4080: 'resemblance', 4081: 'reserve', 4082: 'reserved', 4083: 'residents', 4084: 'resigned', 4085: 'resolutions', 4086: 'resolved', 4087: 'resorting', 4088: 'resources', 4089: 'respect', 4090: 'respective', 4091: 'respond', 4092: 'response', 4093: 'responsibilities', 4094: 'responsibility', 4095: 'responsible', 4096: 'rest', 4097: 'rested', 4098: 'restitution', 4099: 'restore', 4100: 'restrict', 4101: 'restricted', 4102: 'restriction', 4103: 'restructuring', 4104: 'result', 4105: 'resulted', 4106: 'resulting', 4107: 'results', 4108: 'resume', 4109: 'resurrected', 4110: 'retailers', 4111: 'reticent', 4112: 'retired', 4113: 'retreat', 4114: 'return', 4115: 'returned', 4116: 'reuters', 4117: 'revalued', 4118: 'revenge', 4119: 'review', 4120: 'revis', 4121: 'revival', 4122: 'revive', 4123: 'revoked', 4124: 'revolution', 4125: 'revolutionary', 4126: 'revolving', 4127: 'rhythm', 4128: 'riahi', 4129: 'ribeiro', 4130: 'rice', 4131: 'rich', 4132: 'richard', 4133: 'ride', 4134: 'ridiculous', 4135: 'rieger', 4136: 'rift', 4137: 'right', 4138: 'rightly', 4139: 'rights', 4140: 'ringing', 4141: 'risk', 4142: 'risks', 4143: 'risky', 4144: 'rival', 4145: 'riviera', 4146: 'roaches', 4147: 'roachs', 4148: 'road', 4149: 'roadblock', 4150: 'roads', 4151: 'roaming', 4152: 'robert', 4153: 'rock', 4154: 'rocked', 4155: 'rocky', 4156: 'roger', 4157: 'role', 4158: 'roles', 4159: 'rolled', 4160: 'roma', 4161: 'romanian', 4162: 'rome', 4163: 'romebased', 4164: 'romeo', 4165: 'room', 4166: 'rooms', 4167: 'roots', 4168: 'rosario', 4169: 'rose', 4170: 'rossen', 4171: 'rotating', 4172: 'roughly', 4173: 'round', 4174: 'rounds', 4175: 'route', 4176: 'routes', 4177: 'routine', 4178: 'row', 4179: 'roy', 4180: 'royal', 4181: 'rscg', 4182: 'rubbish', 4183: 'ruffles', 4184: 'ruin', 4185: 'ruler', 4186: 'rules', 4187: 'rummage', 4188: 'run', 4189: 'runner', 4190: 'runners', 4191: 'running', 4192: 'runs', 4193: 'rural', 4194: 'rushing', 4195: 'russia', 4196: 'russiadependent', 4197: 'russian', 4198: 'ryan', 4199: 'ryans', 4200: 's', 4201: 'sachs', 4202: 'safe', 4203: 'safety', 4204: 'saga', 4205: 'sahara', 4206: 'said', 4207: 'saidon', 4208: 'sailors', 4209: 'saint', 4210: 'sal', 4211: 'salad', 4212: 'salaries', 4213: 'sale', 4214: 'sales', 4215: 'sally', 4216: 'salvation', 4217: 'sam', 4218: 'same', 4219: 'samples', 4220: 'san', 4221: 'sanctions', 4222: 'sangre', 4223: 'santander', 4224: 'sarkozy', 4225: 'sassoferratos', 4226: 'sastre', 4227: 'satellite', 4228: 'satisfied', 4229: 'saturday', 4230: 'saturdays', 4231: 'save', 4232: 'saved', 4233: 'savers', 4234: 'savings', 4235: 'saw', 4236: 'saxony', 4237: 'say', 4238: 'saying', 4239: 'says', 4240: 'scale', 4241: 'scandal', 4242: 'scandals', 4243: 'scanner', 4244: 'scanning', 4245: 'scared', 4246: 'scene', 4247: 'sceptics', 4248: 'schedule', 4249: 'scheme', 4250: 'schiavone', 4251: 'schmidt', 4252: 'school', 4253: 'schools', 4254: 'science', 4255: 'scientific', 4256: 'scientist', 4257: 'scientists', 4258: 'scope', 4259: 'scored', 4260: 'scoring', 4261: 'scotland', 4262: 'scott', 4263: 'screen', 4264: 'screens', 4265: 'scrolls', 4266: 'scurried', 4267: 'sea', 4268: 'seal', 4269: 'search', 4270: 'searched', 4271: 'searches', 4272: 'seas', 4273: 'season', 4274: 'seasons', 4275: 'seat', 4276: 'seatbelts', 4277: 'seated', 4278: 'seats', 4279: 'second', 4280: 'secondary', 4281: 'seconded', 4282: 'secondment', 4283: 'secondquarter', 4284: 'seconds', 4285: 'secret', 4286: 'secretary', 4287: 'secrets', 4288: 'section', 4289: 'sector', 4290: 'sectors', 4291: 'secured', 4292: 'securities', 4293: 'security', 4294: 'see', 4295: 'seeing', 4296: 'seek', 4297: 'seem', 4298: 'seemed', 4299: 'seemingly', 4300: 'seems', 4301: 'seen', 4302: 'sees', 4303: 'segment', 4304: 'segments', 4305: 'seizure', 4306: 'selected', 4307: 'selection', 4308: 'self', 4309: 'selfclean', 4310: 'selfimage', 4311: 'selfishness', 4312: 'selfrewarding', 4313: 'selfservice', 4314: 'sell', 4315: 'sells', 4316: 'semester', 4317: 'semifinal', 4318: 'semifinals', 4319: 'senate', 4320: 'senator', 4321: 'senators', 4322: 'seng', 4323: 'senior', 4324: 'sense', 4325: 'senses', 4326: 'sensitive', 4327: 'sensitivity', 4328: 'sensitization', 4329: 'sensual', 4330: 'sent', 4331: 'sentence', 4332: 'sentiment', 4333: 'sentinel', 4334: 'separate', 4335: 'september', 4336: 'septuagenarian', 4337: 'sergei', 4338: 'series', 4339: 'serious', 4340: 'server', 4341: 'service', 4342: 'services', 4343: 'set', 4344: 'seth', 4345: 'sets', 4346: 'setting', 4347: 'seven', 4348: 'seventh', 4349: 'several', 4350: 'severance', 4351: 'severely', 4352: 'sex', 4353: 'sexually', 4354: 'shadowy', 4355: 'shall', 4356: 'shame', 4357: 'share', 4358: 'shared', 4359: 'shareholders', 4360: 'shares', 4361: 'sharp', 4362: 'sharply', 4363: 'she', 4364: 'sheikh', 4365: 'shes', 4366: 'shield', 4367: 'shiite', 4368: 'shock', 4369: 'shocked', 4370: 'shocks', 4371: 'shootout', 4372: 'shop', 4373: 'shopping', 4374: 'shops', 4375: 'shore', 4376: 'short', 4377: 'shortages', 4378: 'shorten', 4379: 'shortly', 4380: 'shortsighted', 4381: 'shortterm', 4382: 'shot', 4383: 'shots', 4384: 'should', 4385: 'show', 4386: 'showed', 4387: 'shown', 4388: 'shows', 4389: 'shuffle', 4390: 'sickness', 4391: 'side', 4392: 'sidelining', 4393: 'sides', 4394: 'sideswipe', 4395: 'sidewalks', 4396: 'sight', 4397: 'sign', 4398: 'signal', 4399: 'signalling', 4400: 'signed', 4401: 'signedon', 4402: 'significance', 4403: 'significant', 4404: 'significantly', 4405: 'signing', 4406: 'signs', 4407: 'silence', 4408: 'silent', 4409: 'silva', 4410: 'similar', 4411: 'similarities', 4412: 'similarity', 4413: 'similarly', 4414: 'simple', 4415: 'simplest', 4416: 'simply', 4417: 'simultaneously', 4418: 'since', 4419: 'sincere', 4420: 'singer', 4421: 'singers', 4422: 'singing', 4423: 'single', 4424: 'sir', 4425: 'sister', 4426: 'sites', 4427: 'situation', 4428: 'situations', 4429: 'siviglian', 4430: 'six', 4431: 'sixth', 4432: 'size', 4433: 'skill', 4434: 'skin', 4435: 'skips', 4436: 'skittered', 4437: 'skivers', 4438: 'sky', 4439: 'slang', 4440: 'slap', 4441: 'slaps', 4442: 'sleep', 4443: 'sleeping', 4444: 'sleepless', 4445: 'slightly', 4446: 'slim', 4447: 'sliver', 4448: 'slogan', 4449: 'sloppy', 4450: 'slot', 4451: 'slovenian', 4452: 'slower', 4453: 'slowing', 4454: 'smaghi', 4455: 'small', 4456: 'smaller', 4457: 'smart', 4458: 'smile', 4459: 'smiling', 4460: 'smith', 4461: 'smooth', 4462: 'so', 4463: 'soaring', 4464: 'sobolewski', 4465: 'socalled', 4466: 'soccer', 4467: 'social', 4468: 'socialists', 4469: 'societies', 4470: 'society', 4471: 'sociologists', 4472: 'software', 4473: 'soil', 4474: 'sold', 4475: 'soldiers', 4476: 'solely', 4477: 'solicitor', 4478: 'solidified', 4479: 'solo', 4480: 'solution', 4481: 'solutions', 4482: 'solved', 4483: 'some', 4484: 'someone', 4485: 'something', 4486: 'sometimes', 4487: 'somniloquy', 4488: 'son', 4489: 'song', 4490: 'sony', 4491: 'soon', 4492: 'sooner', 4493: 'soonest', 4494: 'sort', 4495: 'soul', 4496: 'soulsearching', 4497: 'sound', 4498: 'sounders', 4499: 'sounds', 4500: 'source', 4501: 'sources', 4502: 'south', 4503: 'southern', 4504: 'sovereign', 4505: 'sovereignty', 4506: 'space', 4507: 'spaghetti»', 4508: 'spain', 4509: 'spanish', 4510: 'spd', 4511: 'speak', 4512: 'speaker', 4513: 'speaking', 4514: 'speaks', 4515: 'special', 4516: 'specialist', 4517: 'species', 4518: 'specific', 4519: 'specifically', 4520: 'specified', 4521: 'spectacular', 4522: 'spectators', 4523: 'speculation', 4524: 'speech', 4525: 'speeches', 4526: 'speed', 4527: 'speeding', 4528: 'spend', 4529: 'spending', 4530: 'spent', 4531: 'spiderman', 4532: 'spiegel', 4533: 'spiegelde', 4534: 'spiral', 4535: 'spirit', 4536: 'spite', 4537: 'split', 4538: 'spokesman', 4539: 'spokesperson', 4540: 'spokeswoman', 4541: 'spontaneously', 4542: 'sporadically', 4543: 'sport', 4544: 'sportcamp', 4545: 'spotlight', 4546: 'spots', 4547: 'spouses', 4548: 'sprawl', 4549: 'sprayed', 4550: 'spread', 4551: 'spreading', 4552: 'spreads', 4553: 'spreadsheet', 4554: 'spree', 4555: 'spring', 4556: 'sprint', 4557: 'sprucing', 4558: 'spö', 4559: 'square', 4560: 'squared', 4561: 'squares', 4562: 'st', 4563: 'stability', 4564: 'stabilization', 4565: 'stabilize', 4566: 'stabilizing', 4567: 'stadiums', 4568: 'staff', 4569: 'stage', 4570: 'staging', 4571: 'stake', 4572: 'stakes', 4573: 'stamp', 4574: 'stampede', 4575: 'stamps', 4576: 'standard', 4577: 'standing', 4578: 'stands', 4579: 'stanza', 4580: 'star', 4581: 'stark', 4582: 'starlit', 4583: 'stars', 4584: 'start', 4585: 'started', 4586: 'starting', 4587: 'starts', 4588: 'statalnational', 4589: 'state', 4590: 'stated', 4591: 'statehood', 4592: 'statement', 4593: 'stateowned', 4594: 'states', 4595: 'static', 4596: 'stations', 4597: 'statistics', 4598: 'stay', 4599: 'stayed', 4600: 'staying', 4601: 'steady', 4602: 'stem', 4603: 'step', 4604: 'stepdaughter', 4605: 'stepfather', 4606: 'stephanie', 4607: 'stephanies', 4608: 'stephen', 4609: 'stephens', 4610: 'steps', 4611: 'steve', 4612: 'steward', 4613: 'stewardess', 4614: 'stewardesses', 4615: 'stewards', 4616: 'still', 4617: 'sting', 4618: 'stock', 4619: 'stocks', 4620: 'stoiber', 4621: 'stood', 4622: 'stop', 4623: 'stopover', 4624: 'stopped', 4625: 'stored', 4626: 'stories', 4627: 'storing', 4628: 'story', 4629: 'strache', 4630: 'straightforward', 4631: 'strange', 4632: 'strategic', 4633: 'strategy', 4634: 'street', 4635: 'streets', 4636: 'strength', 4637: 'strengthening', 4638: 'stress', 4639: 'stressed', 4640: 'striatum', 4641: 'strictly', 4642: 'strike', 4643: 'striker', 4644: 'strikes', 4645: 'strong', 4646: 'stronger', 4647: 'structure', 4648: 'struggle', 4649: 'student', 4650: 'students', 4651: 'studied', 4652: 'studies', 4653: 'study', 4654: 'studying', 4655: 'stuff', 4656: 'stunned', 4657: 'style', 4658: 'stylistic', 4659: 'subject', 4660: 'subjective', 4661: 'subjects', 4662: 'submit', 4663: 'submitted', 4664: 'subprime', 4665: 'subsidiary', 4666: 'subsidiarys', 4667: 'substance', 4668: 'substances', 4669: 'substantial', 4670: 'substantially', 4671: 'suburban', 4672: 'suburbs', 4673: 'succeeded', 4674: 'success', 4675: 'successful', 4676: 'successfully', 4677: 'such', 4678: 'sudan', 4679: 'sudeten', 4680: 'sudetenlands', 4681: 'sue', 4682: 'suffer', 4683: 'suffered', 4684: 'suffering', 4685: 'suffice', 4686: 'suffocation', 4687: 'sugar', 4688: 'suggest', 4689: 'suggested', 4690: 'suggestion', 4691: 'suggests', 4692: 'suicidal', 4693: 'suicide', 4694: 'suitable', 4695: 'suite', 4696: 'sum', 4697: 'summer', 4698: 'summit', 4699: 'sums', 4700: 'sundance', 4701: 'sunday', 4702: 'sundays', 4703: 'sunia', 4704: 'sunny', 4705: 'suns', 4706: 'sunset', 4707: 'super', 4708: 'supercinema', 4709: 'superglue', 4710: 'supermarket', 4711: 'superposition', 4712: 'supervised', 4713: 'supervising', 4714: 'supervision', 4715: 'support', 4716: 'supported', 4717: 'supporter', 4718: 'supports', 4719: 'supposed', 4720: 'supposedly', 4721: 'supreme', 4722: 'surely', 4723: 'surface', 4724: 'surprise', 4725: 'surprised', 4726: 'surprising', 4727: 'surprisingly', 4728: 'surreal', 4729: 'surrender', 4730: 'surrounding', 4731: 'surveys', 4732: 'suspect', 4733: 'suspected', 4734: 'suspecting', 4735: 'suspended', 4736: 'suspicion', 4737: 'sustain', 4738: 'sustainable', 4739: 'sustained', 4740: 'sv', 4741: 'swear', 4742: 'sweats', 4743: 'swing', 4744: 'swingby', 4745: 'swings', 4746: 'switched', 4747: 'sydney', 4748: 'sylvana', 4749: 'symbolic', 4750: 'symbolize', 4751: 'symbols', 4752: 'symptoms', 4753: 'syria', 4754: 'syrians', 4755: 'system', 4756: 'systems', 4757: 'sziberi', 4758: 'szocialisták', 4759: 'szövetség', 4760: 't', 4761: 'table', 4762: 'tables', 4763: 'tactics', 4764: 'tafa', 4765: 'tail', 4766: 'taiwan', 4767: 'taka', 4768: 'take', 4769: 'taken', 4770: 'takeover', 4771: 'takes', 4772: 'taking', 4773: 'talavante', 4774: 'taleban', 4775: 'talk', 4776: 'talked', 4777: 'talking', 4778: 'talks', 4779: 'tan', 4780: 'tandem', 4781: 'tank', 4782: 'target', 4783: 'tariffs', 4784: 'task', 4785: 'taste', 4786: 'tauro', 4787: 'tavernier', 4788: 'tax', 4789: 'taxes', 4790: 'taxi', 4791: 'taxpayers', 4792: 'tea', 4793: 'teacher', 4794: 'teaches', 4795: 'team', 4796: 'technically', 4797: 'techniques', 4798: 'technologies', 4799: 'technology', 4800: 'teenager', 4801: 'telecommunication', 4802: 'telecommunications', 4803: 'telephone', 4804: 'telephones', 4805: 'television', 4806: 'tell', 4807: 'teller', 4808: 'tells', 4809: 'templates', 4810: 'temporale', 4811: 'temporary', 4812: 'temptation', 4813: 'ten', 4814: 'tend', 4815: 'tender', 4816: 'tension', 4817: 'tent', 4818: 'tergat', 4819: 'term', 4820: 'terminal', 4821: 'terms', 4822: 'territoriality', 4823: 'territories', 4824: 'territory', 4825: 'terrorism', 4826: 'tested', 4827: 'testify', 4828: 'testimony', 4829: 'testing', 4830: 'tests', 4831: 'text', 4832: 'textile', 4833: 'tg', 4834: 'th', 4835: 'thai', 4836: 'than', 4837: 'thank', 4838: 'thanks', 4839: 'that', 4840: 'thats', 4841: 'the', 4842: 'theater', 4843: 'theatres', 4844: 'theatrical', 4845: 'their', 4846: 'them', 4847: 'theme', 4848: 'themepark', 4849: 'themes', 4850: 'themselves', 4851: 'then', 4852: 'theories', 4853: 'theory', 4854: 'there', 4855: 'therefore', 4856: 'theres', 4857: 'these', 4858: 'they', 4859: 'theyre', 4860: 'thing', 4861: 'things', 4862: 'think', 4863: 'thinks', 4864: 'third', 4865: 'thirds', 4866: 'this', 4867: 'thomas', 4868: 'thoroughly', 4869: 'those', 4870: 'though', 4871: 'thought', 4872: 'thousand', 4873: 'thousands', 4874: 'threat', 4875: 'threaten', 4876: 'threats', 4877: 'three', 4878: 'threw', 4879: 'thrifts', 4880: 'throat', 4881: 'through', 4882: 'throughout', 4883: 'throw', 4884: 'thrown', 4885: 'thrust', 4886: 'thumb', 4887: 'thursday', 4888: 'thus', 4889: 'tidal', 4890: 'tides', 4891: 'tied', 4892: 'ties', 4893: 'tighten', 4894: 'tightens', 4895: 'till', 4896: 'time', 4897: 'timed', 4898: 'times', 4899: 'timid', 4900: 'timing', 4901: 'tiny', 4902: 'tip', 4903: 'tipped', 4904: 'tips', 4905: 'tissues', 4906: 'titled', 4907: 'titles', 4908: 'tma', 4909: 'tmobile', 4910: 'to', 4911: 'today', 4912: 'toews', 4913: 'together', 4914: 'toilet', 4915: 'tokyo', 4916: 'told', 4917: 'tom', 4918: 'tomorrow', 4919: 'tone', 4920: 'tonight', 4921: 'tony', 4922: 'too', 4923: 'took', 4924: 'tool', 4925: 'top', 4926: 'topoftheline', 4927: 'topolánek', 4928: 'tops', 4929: 'topsecret', 4930: 'tornatore', 4931: 'torres', 4932: 'torrione', 4933: 'tortola', 4934: 'torture', 4935: 'total', 4936: 'totally', 4937: 'touchdown', 4938: 'touchdowns', 4939: 'tough', 4940: 'tour', 4941: 'tourism', 4942: 'tourists', 4943: 'tours', 4944: 'toward', 4945: 'towards', 4946: 'towel', 4947: 'town', 4948: 'towns', 4949: 'toxic', 4950: 'traces', 4951: 'track', 4952: 'tractor', 4953: 'tractors', 4954: 'trade', 4955: 'trading', 4956: 'tradition', 4957: 'traditional', 4958: 'traffic', 4959: 'trafficking', 4960: 'trafficlimited', 4961: 'trafficstyle', 4962: 'tragedy', 4963: 'tragic', 4964: 'trail', 4965: 'trailer', 4966: 'train', 4967: 'training', 4968: 'trains', 4969: 'tram', 4970: 'tranche', 4971: 'transactions', 4972: 'transferred', 4973: 'transformation', 4974: 'transformed', 4975: 'transforming', 4976: 'transfusion', 4977: 'transient', 4978: 'transition', 4979: 'transmission', 4980: 'transmitted', 4981: 'transparency', 4982: 'transparent', 4983: 'transplants', 4984: 'transport', 4985: 'transportation', 4986: 'transports', 4987: 'traun', 4988: 'travel', 4989: 'travelers', 4990: 'traveller', 4991: 'travellers', 4992: 'travesty', 4993: 'travolta', 4994: 'treasury', 4995: 'treat', 4996: 'treated', 4997: 'treatment', 4998: 'treatments', 4999: 'tree', 5000: 'trees', 5001: 'tremendous', 5002: 'trend', 5003: 'trending', 5004: 'trerise', 5005: 'trial', 5006: 'trials', 5007: 'tribunal', 5008: 'tribute', 5009: 'tributes', 5010: 'trick', 5011: 'trickling', 5012: 'tricky', 5013: 'tried', 5014: 'triggered', 5015: 'trio', 5016: 'trip', 5017: 'trips', 5018: 'triumph', 5019: 'trolleys', 5020: 'troops', 5021: 'trouble', 5022: 'troubled', 5023: 'truck', 5024: 'true', 5025: 'truly', 5026: 'truncated', 5027: 'truro', 5028: 'trust', 5029: 'truth', 5030: 'try', 5031: 'trying', 5032: 'tshirts', 5033: 'tsunami', 5034: 'tubes', 5035: 'tuesday', 5036: 'tuesdays', 5037: 'tugofwar', 5038: 'tumba', 5039: 'tuned', 5040: 'turballe', 5041: 'turbine', 5042: 'turbines', 5043: 'turbulenc', 5044: 'turbulence', 5045: 'turmoil', 5046: 'turn', 5047: 'turned', 5048: 'turning', 5049: 'turnover', 5050: 'turns', 5051: 'tv', 5052: 'twelve', 5053: 'twenty', 5054: 'twentyfirst', 5055: 'twice', 5056: 'two', 5057: 'twoparty', 5058: 'tying', 5059: 'tyl', 5060: 'type', 5061: 'typical', 5062: 'tyrol', 5063: 'táncsics', 5064: 'uefa', 5065: 'uefas', 5066: 'ufon', 5067: 'uk', 5068: 'ukraine', 5069: 'ukrainian', 5070: 'ultimately', 5071: 'umbilical', 5072: 'un', 5073: 'unable', 5074: 'unanswered', 5075: 'uncertain', 5076: 'unchanged', 5077: 'unclear', 5078: 'unconsciously', 5079: 'uncover', 5080: 'under', 5081: 'underestimate', 5082: 'undergoing', 5083: 'underlined', 5084: 'understand', 5085: 'understanding', 5086: 'understood', 5087: 'underwater', 5088: 'underway', 5089: 'underwear', 5090: 'undisclosed', 5091: 'undoubtedly', 5092: 'undulating', 5093: 'unequivocal', 5094: 'uneventful', 5095: 'unexpectedly', 5096: 'unfaithfulness', 5097: 'unfold', 5098: 'unfolding', 5099: 'unforgettable', 5100: 'unfortunately', 5101: 'uniform', 5102: 'union', 5103: 'unipol', 5104: 'unipolbnl', 5105: 'unique', 5106: 'unit', 5107: 'united', 5108: 'units', 5109: 'universal', 5110: 'universities', 5111: 'university', 5112: 'unknown', 5113: 'unlike', 5114: 'unlikely', 5115: 'unluckily', 5116: 'unnecessary', 5117: 'unofficial', 5118: 'unpalatable', 5119: 'unpleasant', 5120: 'unpredictability', 5121: 'unprofitable', 5122: 'unquestionable', 5123: 'unreasonable', 5124: 'unsellable', 5125: 'unthinkable', 5126: 'until', 5127: 'untouched', 5128: 'untrustworthy', 5129: 'up', 5130: 'upheavals', 5131: 'uphold', 5132: 'uploaded', 5133: 'upon', 5134: 'upswing', 5135: 'uptodate', 5136: 'urban', 5137: 'urgency', 5138: 'urges', 5139: 'us', 5140: 'usa', 5141: 'usb', 5142: 'usd', 5143: 'use', 5144: 'used', 5145: 'useful', 5146: 'useless', 5147: 'userfriendly', 5148: 'users', 5149: 'uses', 5150: 'using', 5151: 'usl', 5152: 'usual', 5153: 'usually', 5154: 'utilise', 5155: 'utter', 5156: 'uxbridge', 5157: 'vaccination', 5158: 'vaccinations', 5159: 'valencia', 5160: 'valid', 5161: 'validity', 5162: 'value', 5163: 'values', 5164: 'van', 5165: 'vancouver', 5166: 'vargas', 5167: 'variable', 5168: 'varied', 5169: 'various', 5170: 'vast', 5171: 'vasyunik', 5172: 'vat', 5173: 'vegetarian', 5174: 'vehicle', 5175: 'veins', 5176: 'vending', 5177: 'venerable', 5178: 'vengeful', 5179: 'verdant', 5180: 'verdict', 5181: 'verify', 5182: 'verona', 5183: 'version', 5184: 'versions', 5185: 'vertical', 5186: 'vertigo', 5187: 'very', 5188: 'veteran', 5189: 'veto', 5190: 'via', 5191: 'viable', 5192: 'vic', 5193: 'vice', 5194: 'vicechancellor', 5195: 'viceminister', 5196: 'vicepresident', 5197: 'vicious', 5198: 'victim', 5199: 'victims', 5200: 'victorious', 5201: 'victory', 5202: 'vienna', 5203: 'vietnam', 5204: 'vietnamese', 5205: 'view', 5206: 'viewed', 5207: 'viewers', 5208: 'viewpoint', 5209: 'views', 5210: 'vigilant', 5211: 'vii', 5212: 'village', 5213: 'vincis', 5214: 'violating', 5215: 'violations', 5216: 'violence', 5217: 'virgin', 5218: 'virtual', 5219: 'virtually', 5220: 'virtualreceptionist', 5221: 'virtue', 5222: 'virus', 5223: 'viruses', 5224: 'visa', 5225: 'visible', 5226: 'vision', 5227: 'visit', 5228: 'visits', 5229: 'visor', 5230: 'visual', 5231: 'vivacious', 5232: 'vocabulary', 5233: 'vocal', 5234: 'vocals', 5235: 'vodafone', 5236: 'vodafones', 5237: 'voice', 5238: 'voices', 5239: 'voided', 5240: 'volume', 5241: 'volumes', 5242: 'volunteer', 5243: 'volunteers', 5244: 'volver', 5245: 'vote', 5246: 'voted', 5247: 'voters', 5248: 'votes', 5249: 'voting', 5250: 'vs', 5251: 'vulnerable', 5252: 'városért', 5253: 'w', 5254: 'wait', 5255: 'waiting', 5256: 'wake', 5257: 'walk', 5258: 'walker', 5259: 'walking', 5260: 'wall', 5261: 'walls', 5262: 'walter', 5263: 'wang', 5264: 'want', 5265: 'wanted', 5266: 'wants', 5267: 'war', 5268: 'warm', 5269: 'warner', 5270: 'warning', 5271: 'warns', 5272: 'warren', 5273: 'wars', 5274: 'warsaw', 5275: 'was', 5276: 'washington', 5277: 'waste', 5278: 'watch', 5279: 'watched', 5280: 'water', 5281: 'waterloo', 5282: 'watermelon', 5283: 'wave', 5284: 'waves', 5285: 'waving', 5286: 'way', 5287: 'ways', 5288: 'way»', 5289: 'we', 5290: 'weak', 5291: 'weakened', 5292: 'weakest', 5293: 'wealthy', 5294: 'wearing', 5295: 'weather', 5296: 'web', 5297: 'wec', 5298: 'wednesday', 5299: 'week', 5300: 'weekend', 5301: 'weekends', 5302: 'weeks', 5303: 'weird', 5304: 'welcome', 5305: 'welcomed', 5306: 'welfare', 5307: 'well', 5308: 'wellequipped', 5309: 'wellknown', 5310: 'wellorganized', 5311: 'welt', 5312: 'went', 5313: 'were', 5314: 'werner', 5315: 'western', 5316: 'westlb', 5317: 'weve', 5318: 'what', 5319: 'whatever', 5320: 'wheel', 5321: 'when', 5322: 'whenever', 5323: 'where', 5324: 'whereabouts', 5325: 'whereas', 5326: 'whether', 5327: 'which', 5328: 'while', 5329: 'whip', 5330: 'whispering', 5331: 'white', 5332: 'whitecaps', 5333: 'whitehall', 5334: 'who', 5335: 'whoever', 5336: 'whole', 5337: 'wholesale', 5338: 'whom', 5339: 'why', 5340: 'wide', 5341: 'widespread', 5342: 'widow', 5343: 'wiesn', 5344: 'wife', 5345: 'wilhelm', 5346: 'will', 5347: 'willing', 5348: 'willingness', 5349: 'win', 5350: 'window', 5351: 'windows', 5352: 'wing', 5353: 'winning', 5354: 'wins', 5355: 'wish', 5356: 'wished', 5357: 'wishes', 5358: 'with', 5359: 'withdrawal', 5360: 'within', 5361: 'without', 5362: 'witness', 5363: 'witnessed', 5364: 'witnesses', 5365: 'woman', 5366: 'womans', 5367: 'women', 5368: 'womens', 5369: 'won', 5370: 'wonder', 5371: 'wonderful', 5372: 'wondering', 5373: 'wont', 5374: 'word', 5375: 'words', 5376: 'work', 5377: 'worked', 5378: 'workers', 5379: 'working', 5380: 'workplace', 5381: 'world', 5382: 'worldcom', 5383: 'worlds', 5384: 'worldwide', 5385: 'worries', 5386: 'worrisome', 5387: 'worrying', 5388: 'worst', 5389: 'worth', 5390: 'would', 5391: 'wouldnt', 5392: 'wounded', 5393: 'wraps', 5394: 'wright', 5395: 'writeoffs', 5396: 'writer', 5397: 'writers', 5398: 'writes', 5399: 'writing', 5400: 'written', 5401: 'wrong', 5402: 'wrote', 5403: 'wuerttemberg', 5404: 'xanga', 5405: 'xavier', 5406: 'xvi', 5407: 'y', 5408: 'yard', 5409: 'yards', 5410: 'year', 5411: 'yearold', 5412: 'years', 5413: 'yedioth', 5414: 'yellow', 5415: 'yes', 5416: 'yesterday', 5417: 'yesterdays', 5418: 'yet', 5419: 'ygeneráció', 5420: 'yields', 5421: 'yoga', 5422: 'york', 5423: 'yorkers', 5424: 'you', 5425: 'young', 5426: 'younger', 5427: 'your', 5428: 'youre', 5429: 'zhong', 5430: 'zia', 5431: 'zone', 5432: 'zora', 5433: 'zuschlag', 5434: 'zuschlags', 5435: '£bn', 5436: '£m', 5437: '«i', 5438: '«its', 5439: '«the', 5440: 'árpád', 5441: 'évezredért', 5442: 'ózd', 5443: 'övp', 5444: 'última', 5445: 'čepický', 5446: 'české', 5447: 'čez', 5448: 'řebíček', 5449: 'škroup', 5450: 'šumava', 5451: '–', 5452: '‘belpaese', 5453: '‘ndrangheta', 5454: '‘the'}\n"
          ],
          "name": "stdout"
        }
      ]
    },
    {
      "cell_type": "code",
      "metadata": {
        "id": "WVLHBLON_kQY",
        "colab_type": "code",
        "colab": {
          "base_uri": "https://localhost:8080/",
          "height": 54
        },
        "outputId": "048e9093-4e20-489d-9dd8-e7dded0c11c6"
      },
      "source": [
        "print(reverse_target_char_index)"
      ],
      "execution_count": 42,
      "outputs": [
        {
          "output_type": "stream",
          "text": [
            "{1: 'START_', 2: '_END', 3: 'a', 4: 'aac', 5: 'ab', 6: 'abbringen', 7: 'abc', 8: 'abend', 9: 'aber', 10: 'abfall', 11: 'abgabenordnung', 12: 'abgebildet', 13: 'abgebogen', 14: 'abgegrenzt', 15: 'abgelehnt', 16: 'abgeltungssteuerzahlungen', 17: 'abgeordnet', 18: 'abgeordnete', 19: 'abgeordneten', 20: 'abgeordnetenhaus', 21: 'abgeordnetenkammer', 22: 'abgeordneter', 23: 'abgeschlossen', 24: 'abgesehen', 25: 'abgestimmt', 26: 'abgewiesen', 27: 'abhinge', 28: 'abhängig', 29: 'abhängiger', 30: 'abhöraktion', 31: 'abkauf', 32: 'abkommen', 33: 'abkommens', 34: 'ablauf', 35: 'ablaufen', 36: 'ablehnung', 37: 'ableiten', 38: 'abreise', 39: 'absagen', 40: 'absatzmarkt', 41: 'absatzmärkte', 42: 'absatzmärkten', 43: 'abschaffung', 44: 'abschlussurteil', 45: 'abschreibungen', 46: 'abschusszahlen', 47: 'abseits', 48: 'absenzen', 49: 'absicht', 50: 'absichtlich', 51: 'absolut', 52: 'absolute', 53: 'abspielen', 54: 'abstand', 55: 'abstimmen', 56: 'abstimmung', 57: 'abstimmungsniederlage', 58: 'abstufungen', 59: 'absätze', 60: 'abteilung', 61: 'abwechselungsreiche', 62: 'abwälzung', 63: 'abwärts', 64: 'abwärtssog', 65: 'abzug', 66: 'abzuheben', 67: 'abzurunden', 68: 'ach', 69: 'acht', 70: 'achthundert', 71: 'achtjährigen', 72: 'achtung', 73: 'adam', 74: 'adler', 75: 'adq', 76: 'adrenalin', 77: 'adressverzeichnisses', 78: 'adrian', 79: 'advanced', 80: 'adwards', 81: 'afghanistan', 82: 'agazio', 83: 'agency', 84: 'agentur', 85: 'aggressiv', 86: 'aggressiver', 87: 'agieren', 88: 'ah', 89: 'ahnen', 90: 'ahnt', 91: 'ahnung', 92: 'aig', 93: 'airlines', 94: 'akkus', 95: 'aktie', 96: 'aktien', 97: 'aktienindex', 98: 'aktienkurs', 99: 'aktienkurse', 100: 'aktienmärkte', 101: 'aktienmärkten', 102: 'aktienoptionsscheine', 103: 'aktion', 104: 'aktionäre', 105: 'aktiv', 106: 'aktiva', 107: 'aktivitäten', 108: 'aktuellen', 109: 'akuten', 110: 'akzeptabel', 111: 'akzeptieren', 112: 'akzeptiert', 113: 'alapítvány', 114: 'alberto', 115: 'alcolock', 116: 'alejandro', 117: 'alemanno', 118: 'alex', 119: 'alexej', 120: 'aleš', 121: 'alice', 122: 'alkohol', 123: 'all', 124: 'alle', 125: 'alledem', 126: 'allein', 127: 'alleinregierer', 128: 'allem', 129: 'allen', 130: 'allenfalls', 131: 'aller', 132: 'allerdings', 133: 'alles', 134: 'allgemein', 135: 'allgemeinen', 136: 'allianz', 137: 'alltäglichen', 138: 'allzu', 139: 'als', 140: 'also', 141: 'alt', 142: 'alte', 143: 'alten', 144: 'alter', 145: 'alternative', 146: 'am', 147: 'ambitionen', 148: 'american', 149: 'amerika', 150: 'amerikaner', 151: 'amerikanische', 152: 'amerikanischen', 153: 'amerikanischer', 154: 'amministrazione', 155: 'amnestie', 156: 'amp', 157: 'amt', 158: 'amtsgericht', 159: 'amtszeit', 160: 'amway', 161: 'an', 162: 'analyse', 163: 'analysen', 164: 'analysiert', 165: 'analysten', 166: 'analytiker', 167: 'anbieter', 168: 'anbietern', 169: 'anbieters', 170: 'and', 171: 'andalusierin', 172: 'andalusische', 173: 'andere', 174: 'anderem', 175: 'anderen', 176: 'anderer', 177: 'andererseits', 178: 'anderes', 179: 'andik', 180: 'andoh', 181: 'androhung', 182: 'android', 183: 'anfang', 184: 'anfangen', 185: 'anfangs', 186: 'anfangsgewinnen', 187: 'anforderungen', 188: 'anfrage', 189: 'anfänglichen', 190: 'anfühlen', 191: 'angaben', 192: 'angebot', 193: 'angebote', 194: 'angeboten', 195: 'angebracht', 196: 'angebunden', 197: 'angeeignet', 198: 'angeführt', 199: 'angehabt', 200: 'angeht', 201: 'angehäuften', 202: 'angeklagt', 203: 'angeklagten', 204: 'angekündigt', 205: 'angekündigten', 206: 'angela', 207: 'angelegenheiten', 208: 'angelsächsischen', 209: 'angemeldet', 210: 'angenommen', 211: 'angenommenen', 212: 'angeordneter', 213: 'angerechnet', 214: 'angeschlagene', 215: 'angesehener', 216: 'angesichts', 217: 'angesiedelten', 218: 'angespannten', 219: 'angesprochen', 220: 'angestellte', 221: 'angestellten', 222: 'angestrengt', 223: 'angetrieben', 224: 'angewiesenen', 225: 'angezeigt', 226: 'angliederung', 227: 'anglikanische', 228: 'angriff', 229: 'angriffspunkt', 230: 'angst', 231: 'anhalten', 232: 'anhören', 233: 'ankam', 234: 'ankaufs', 235: 'anklage', 236: 'anklagen', 237: 'anklageschrift', 238: 'ankommt', 239: 'ankündigung', 240: 'anlage', 241: 'anlagealternative', 242: 'anlagegüter', 243: 'anlass', 244: 'anleger', 245: 'anleihen', 246: 'anleihenkurse', 247: 'anliegen', 248: 'anlässlich', 249: 'anmelden', 250: 'anmerkung', 251: 'anmil', 252: 'anomalie', 253: 'anordnete', 254: 'ansatz', 255: 'anschließend', 256: 'anschluss', 257: 'anschlägen', 258: 'anschneiden', 259: 'ansicht', 260: 'ansichten', 261: 'ansiedlung', 262: 'ansonsten', 263: 'ansporn', 264: 'anspruch', 265: 'anspruchsvolleren', 266: 'ansprüchen', 267: 'anstatt', 268: 'ansteigen', 269: 'anstieg', 270: 'anstoß', 271: 'anstrengung', 272: 'anstrengungen', 273: 'anständigen', 274: 'anständiger', 275: 'anteil', 276: 'anteile', 277: 'anthologie', 278: 'antiamerikanische', 279: 'antidopingkommission', 280: 'antimafiabehörde', 281: 'antipolioinitiative', 282: 'antonio', 283: 'antritt', 284: 'antwort', 285: 'antworte', 286: 'antworten', 287: 'antwortete', 288: 'anwaltschaft', 289: 'anwenden', 290: 'anwendung', 291: 'anwendungen', 292: 'anwendungsgebiete', 293: 'anwesend', 294: 'anwesenden', 295: 'anwesenheit', 296: 'anwesenheitsquote', 297: 'anwälte', 298: 'anzahl', 299: 'anzeichen', 300: 'anziehungskraft', 301: 'anzuhalten', 302: 'anzuschauen', 303: 'anzusprechen', 304: 'apartments', 305: 'apfelsaft', 306: 'appell', 307: 'april', 308: 'aprils', 309: 'arbeit', 310: 'arbeiten', 311: 'arbeiter', 312: 'arbeiternehmers', 313: 'arbeitgeber', 314: 'arbeitsbedingte', 315: 'arbeitsbedingten', 316: 'arbeitseffizienz', 317: 'arbeitsplätzen', 318: 'arbeitsunfallopfer', 319: 'arbeitsunfälle', 320: 'arbeitsunfällen', 321: 'arbeitszeit', 322: 'arcandor', 323: 'argument', 324: 'argumentation', 325: 'argumente', 326: 'argumentiert', 327: 'argumentierte', 328: 'arizona', 329: 'arm', 330: 'armeeunterstützte', 331: 'armut', 332: 'arriaga', 333: 'art', 334: 'arten', 335: 'artikel', 336: 'arzneimittel', 337: 'arzneimittels', 338: 'arzt', 339: 'asiana', 340: 'asiatischen', 341: 'asien', 342: 'asiengeschäfte', 343: 'askale', 344: 'aspekt', 345: 'aspekte', 346: 'aspekten', 347: 'assistenztrainer', 348: 'associazione', 349: 'assoziierten', 350: 'atheisten', 351: 'atlantikküste', 352: 'atomkraftwerke', 353: 'attacken', 354: 'auch', 355: 'audio', 356: 'auf', 357: 'aufatmen', 358: 'aufbau', 359: 'aufbruch', 360: 'aufforderung', 361: 'auffällig', 362: 'aufgabe', 363: 'aufgehen', 364: 'aufgelöst', 365: 'aufgenommen', 366: 'aufgeregt', 367: 'aufgespielten', 368: 'aufgestellr', 369: 'aufgetaucht', 370: 'aufgeworfenen', 371: 'aufgrund', 372: 'aufkauf', 373: 'aufklärung', 374: 'auflösen', 375: 'auflösung', 376: 'aufmerksam', 377: 'aufmerksamkeit', 378: 'aufnahmen', 379: 'aufrecht', 380: 'aufrichtige', 381: 'aufsetzen', 382: 'aufspielen', 383: 'aufstieg', 384: 'auftauchen', 385: 'auftaucht', 386: 'auftrag', 387: 'auftreten', 388: 'aufzeichnungen', 389: 'aufzug', 390: 'aufzurufen', 391: 'aufzusuchen', 392: 'aufzuzählen', 393: 'aufzählung', 394: 'auge', 395: 'augen', 396: 'augenblick', 397: 'augenblicklich', 398: 'auges', 399: 'august', 400: 'augustus', 401: 'auktion', 402: 'auktionen', 403: 'aus', 404: 'ausarbeiten', 405: 'ausbauen', 406: 'ausbezahlt', 407: 'ausbildung', 408: 'ausblicke', 409: 'ausdruck', 410: 'ausdrücklichen', 411: 'auseinandergesetzt', 412: 'auserwählten', 413: 'ausfindig', 414: 'ausführungen', 415: 'ausführungs', 416: 'ausgabe', 417: 'ausgearbeitet', 418: 'ausgegeben', 419: 'ausgehend', 420: 'ausgelassen', 421: 'ausgelöst', 422: 'ausgelöste', 423: 'ausgelösten', 424: 'ausgerechnet', 425: 'ausgereift', 426: 'ausgereiftesten', 427: 'ausgerichtet', 428: 'ausgeruhter', 429: 'ausgeschlossen', 430: 'ausgesehen', 431: 'ausgesetzt', 432: 'ausgesprochen', 433: 'ausgestellt', 434: 'ausgestellten', 435: 'ausgewählte', 436: 'ausgezahlt', 437: 'ausgezeichnet', 438: 'ausgezeichnete', 439: 'ausgleich', 440: 'ausgleiche', 441: 'ausgleichen', 442: 'ausgrenzung', 443: 'ausgänge', 444: 'aushandeln', 445: 'ausland', 446: 'auslandsreisesperre', 447: 'auslegung', 448: 'ausmaß', 449: 'ausnahmen', 450: 'ausrangierten', 451: 'ausschliesslichen', 452: 'ausschließen', 453: 'ausschließlich', 454: 'ausschreibungen', 455: 'ausschusses', 456: 'ausschüttung', 457: 'aussenpolitik', 458: 'ausser', 459: 'ausstellung', 460: 'austausch', 461: 'austauschbare', 462: 'austauschlog', 463: 'australischen', 464: 'auswahl', 465: 'ausweichen', 466: 'ausweicht', 467: 'auswertungsbericht', 468: 'auswirkungen', 469: 'auswüchsen', 470: 'auszeichnungen', 471: 'auszunutzen', 472: 'auszuruhen', 473: 'auszuschleißen', 474: 'auszählung', 475: 'auto', 476: 'autobahn', 477: 'autofahrer', 478: 'automat', 479: 'automaten', 480: 'autor', 481: 'autoren', 482: 'autorin', 483: 'autorisierungen', 484: 'autoritäten', 485: 'autorobotern', 486: 'autos', 487: 'außenbezirke', 488: 'außenminister', 489: 'außenministerin', 490: 'außenseiter', 491: 'außenstehende', 492: 'außenverteidiger', 493: 'außer', 494: 'außerdem', 495: 'außergewöhnlichen', 496: 'außerordentlichen', 497: 'avalon', 498: 'avenue', 499: 'average', 500: 'award', 501: 'ayer', 502: 'azul', 503: 'azurblauen', 504: 'b', 505: 'badacsonytomaj', 506: 'badenwürttemberg', 507: 'bafin', 508: 'baghiera', 509: 'bahnen', 510: 'bahnläufer', 511: 'bailey', 512: 'bald', 513: 'ball', 514: 'ballmer', 515: 'ballverlust', 516: 'baloldal', 517: 'bammel', 518: 'bangkok', 519: 'bangladesch', 520: 'bank', 521: 'banken', 522: 'bankenausschusses', 523: 'bankengruppe', 524: 'bankensystem', 525: 'bankgeschäfte', 526: 'bankrot', 527: 'barack', 528: 'barclays', 529: 'bari', 530: 'barmherzig', 531: 'barney', 532: 'barrack', 533: 'barrel', 534: 'barreserve', 535: 'barrick', 536: 'basismodellen', 537: 'basta', 538: 'bastian', 539: 'bat', 540: 'batterien', 541: 'bau', 542: 'bauch', 543: 'bauen', 544: 'bauer', 545: 'bauers', 546: 'baugesellschaften', 547: 'baumstruktur', 548: 'baumwolle', 549: 'bausparkasse', 550: 'bauten', 551: 'bauunternehmen', 552: 'bay', 553: 'bayern', 554: 'bayerns', 555: 'bayón', 556: 'bb', 557: 'bbc', 558: 'beamte', 559: 'beamten', 560: 'beanspruchte', 561: 'beantworten', 562: 'bearbeiter', 563: 'bearbeitet', 564: 'beauftragt', 565: 'beckstein', 566: 'becksteinhuberduo', 567: 'becksteins', 568: 'bedacht', 569: 'bedachtsam', 570: 'bedarf', 571: 'bedauerlich', 572: 'bedauert', 573: 'bedenken', 574: 'bedeuten', 575: 'bedeutenden', 576: 'bedeutender', 577: 'bedeutet', 578: 'bedeutung', 579: 'bedienen', 580: 'bedienknöpfe', 581: 'bedienung', 582: 'bedingt', 583: 'bedingungen', 584: 'bedroht', 585: 'bedrohung', 586: 'beeindruckend', 587: 'beeinflussen', 588: 'beeinflusst', 589: 'beendet', 590: 'beendigung', 591: 'befand', 592: 'befehl', 593: 'befestigt', 594: 'befinden', 595: 'befindenden', 596: 'befindet', 597: 'befindliche', 598: 'befragt', 599: 'befreit', 600: 'befremdlicher', 601: 'befugnis', 602: 'befunden', 603: 'beförderer', 604: 'befördern', 605: 'befürchten', 606: 'befürchtet', 607: 'befürchteten', 608: 'befürchtungen', 609: 'begangen', 610: 'begann', 611: 'begannen', 612: 'begegnung', 613: 'begehen', 614: 'begeht', 615: 'beginn', 616: 'beginnen', 617: 'beginnend', 618: 'beginnt', 619: 'begleichen', 620: 'begleitet', 621: 'beglückwünschen', 622: 'begonnen', 623: 'begriff', 624: 'begründet', 625: 'begrüßte', 626: 'begünstigten', 627: 'behalten', 628: 'behandelt', 629: 'behandlung', 630: 'behandlungen', 631: 'behaupten', 632: 'behauptet', 633: 'beheben', 634: 'behält', 635: 'behörde', 636: 'behörden', 637: 'bei', 638: 'beide', 639: 'beiden', 640: 'beider', 641: 'beidseitig', 642: 'beidseitige', 643: 'beifall', 644: 'beigelegt', 645: 'beigetragen', 646: 'beihilfe', 647: 'beijing', 648: 'beim', 649: 'beinahe', 650: 'beinhalten', 651: 'beinhaltet', 652: 'beiseite', 653: 'beispiel', 654: 'beispielen', 655: 'beispielhafter', 656: 'beispielsweise', 657: 'beiträge', 658: 'bekamen', 659: 'bekannt', 660: 'bekannte', 661: 'bekannten', 662: 'bekannter', 663: 'bekommen', 664: 'bekommt', 665: 'bekräftigte', 666: 'beladen', 667: 'belangte', 668: 'belebten', 669: 'belegen', 670: 'belgiens', 671: 'belgische', 672: 'beliebt', 673: 'belohnung', 674: 'belpaese', 675: 'bemerkt', 676: 'bemerkte', 677: 'bemerkungen', 678: 'bemühungen', 679: 'benachrichtigen', 680: 'benachrichtigung', 681: 'benannt', 682: 'beneluxländer', 683: 'benito', 684: 'benoît', 685: 'bentobox', 686: 'bentos', 687: 'benutzen', 688: 'benutzer', 689: 'benutzten', 690: 'benzinpreis', 691: 'benötig', 692: 'benötigen', 693: 'beobachte', 694: 'beobachten', 695: 'beobachter', 696: 'beobachtet', 697: 'beobachteten', 698: 'bequeme', 699: 'beraten', 700: 'berechnungen', 701: 'berechtigte', 702: 'bereich', 703: 'bereit', 704: 'bereiten', 705: 'bereitgestellt', 706: 'bereits', 707: 'bericht', 708: 'berichte', 709: 'berichten', 710: 'berichtes', 711: 'berichtet', 712: 'berichtete', 713: 'berichteten', 714: 'beriefen', 715: 'berkeley', 716: 'berlin', 717: 'bernhard', 718: 'bertrand', 719: 'beruf', 720: 'berufsfischer', 721: 'beruft', 722: 'berufung', 723: 'beruhigen', 724: 'beruhigt', 725: 'beruht', 726: 'berücksichtigung', 727: 'berühmte', 728: 'berühmten', 729: 'berühmter', 730: 'beschaffung', 731: 'bescheid', 732: 'beschleunigen', 733: 'beschleunigt', 734: 'beschleunigte', 735: 'beschlossen', 736: 'beschlüsse', 737: 'beschreiben', 738: 'beschreibt', 739: 'beschrieb', 740: 'beschränkt', 741: 'beschränkte', 742: 'beschränkung', 743: 'beschuldigen', 744: 'beschuldigt', 745: 'beschuldigungen', 746: 'beschuss', 747: 'beschwerden', 748: 'beschäftigt', 749: 'beschäftigungs', 750: 'besetzen', 751: 'besetzten', 752: 'besiegen', 753: 'besipfachmann', 754: 'besitz', 755: 'besitzen', 756: 'besitzes', 757: 'besitzt', 758: 'besondere', 759: 'besonderes', 760: 'besonderheit', 761: 'besonders', 762: 'besonnen', 763: 'besorgniserregenden', 764: 'besorgt', 765: 'besorgte', 766: 'besprechen', 767: 'besprochen', 768: 'besser', 769: 'bessere', 770: 'besserung', 771: 'bestand', 772: 'bestanden', 773: 'bestandteil', 774: 'beste', 775: 'bestehe', 776: 'bestehen', 777: 'bestehenden', 778: 'besteht', 779: 'besten', 780: 'bestimmende', 781: 'bestimmt', 782: 'bestimmte', 783: 'bestimmten', 784: 'bestätigen', 785: 'bestätigt', 786: 'bestätigte', 787: 'bestätigung', 788: 'besuch', 789: 'besucher', 790: 'besänftigen', 791: 'beteiligt', 792: 'beteiligung', 793: 'beteiligungsrechte', 794: 'betitelten', 795: 'betont', 796: 'betonte', 797: 'betracht', 798: 'betrachten', 799: 'betrachtens', 800: 'betrachter', 801: 'betrachtet', 802: 'betrachtung', 803: 'betreffend', 804: 'betreiber', 805: 'betreibt', 806: 'betreten', 807: 'betriebene', 808: 'betriebes', 809: 'betriebsleiter', 810: 'betriebssystem', 811: 'betrifft', 812: 'betroffen', 813: 'betroffenen', 814: 'betrugs', 815: 'beträfe', 816: 'beträgt', 817: 'beunruhigenden', 818: 'beunruhigender', 819: 'bevor', 820: 'bevorteilungen', 821: 'bevorzugt', 822: 'bevölkerung', 823: 'bewahren', 824: 'bewegen', 825: 'bewegt', 826: 'bewegung', 827: 'beweis', 828: 'beweisen', 829: 'beweist', 830: 'bewerbungen', 831: 'bewertet', 832: 'bewohner', 833: 'bewunderer', 834: 'bewusst', 835: 'bewussten', 836: 'bewusstsein', 837: 'bewusstseins', 838: 'bewusstseinsprozesse', 839: 'bewusstwerdung', 840: 'bezahle', 841: 'bezahlten', 842: 'bezeichnen', 843: 'bezeichnet', 844: 'beziehen', 845: 'beziehung', 846: 'bezirk', 847: 'bezog', 848: 'bezug', 849: 'bezugnahme', 850: 'bezüglich', 851: 'bibliothek', 852: 'bibliotheken', 853: 'biene', 854: 'bienen', 855: 'bier', 856: 'bierflasche', 857: 'bierlokal', 858: 'bierzelt', 859: 'bieten', 860: 'bietet', 861: 'bild', 862: 'bilde', 863: 'bilden', 864: 'bilder', 865: 'bildermühle', 866: 'bildern', 867: 'bildes', 868: 'bildet', 869: 'bildgebenden', 870: 'bildschirmen', 871: 'bildsortierungsfunktion', 872: 'bildung', 873: 'bill', 874: 'billardspieler', 875: 'billige', 876: 'billigen', 877: 'billiger', 878: 'billigsten', 879: 'billionen', 880: 'bin', 881: 'bindet', 882: 'bingley', 883: 'bini', 884: 'biogate', 885: 'biologischen', 886: 'biomimetische', 887: 'bis', 888: 'bischof', 889: 'bisher', 890: 'bisherigen', 891: 'bislang', 892: 'bist', 893: 'bitte', 894: 'bitten', 895: 'bitter', 896: 'bittet', 897: 'bizarren', 898: 'biztos', 899: 'blassen', 900: 'blauen', 901: 'bleiben', 902: 'bleibt', 903: 'blick', 904: 'blickwinkel', 905: 'blieb', 906: 'bliebe', 907: 'blinde', 908: 'blinken', 909: 'blockade', 910: 'blockieren', 911: 'blockiert', 912: 'blockte', 913: 'bloß', 914: 'bloße', 915: 'blut', 916: 'blutbad', 917: 'blutbanken', 918: 'blutige', 919: 'blutkonserven', 920: 'blutlache', 921: 'blutproben', 922: 'blutspendernetz', 923: 'blätter', 924: 'boden', 925: 'bojen', 926: 'bologna', 927: 'bond', 928: 'bord', 929: 'bordeaux', 930: 'bordry', 931: 'borussia', 932: 'boss', 933: 'botschaft', 934: 'botschafter', 935: 'boulevard', 936: 'boulognesurmer', 937: 'bowens', 938: 'bowery', 939: 'boyd', 940: 'boykotten', 941: 'brachen', 942: 'brachte', 943: 'brad', 944: 'bradford', 945: 'brando', 946: 'branson', 947: 'brasilianern', 948: 'brasilianische', 949: 'brasilien', 950: 'brauche', 951: 'brauchen', 952: 'braucht', 953: 'brc', 954: 'breit', 955: 'breite', 956: 'breitere', 957: 'bremsen', 958: 'bremst', 959: 'bretonische', 960: 'brett', 961: 'bricht', 962: 'brief', 963: 'briefe', 964: 'briefes', 965: 'bringen', 966: 'bringley', 967: 'bringt', 968: 'britische', 969: 'britischen', 970: 'britischer', 971: 'brixen', 972: 'broadcast', 973: 'brothers', 974: 'bruce', 975: 'bruchlandung', 976: 'bruchteil', 977: 'bruder', 978: 'bruderschaft', 979: 'brunetta', 980: 'brunettas', 981: 'bruxelles', 982: 'brächte', 983: 'bröckele', 984: 'brüder', 985: 'brüssel', 986: 'bsa', 987: 'bskyb', 988: 'bt', 989: 'buch', 990: 'buches', 991: 'buchstaben', 992: 'buchungsdaten', 993: 'budapestért', 994: 'buddhistin', 995: 'budweiser', 996: 'buffett', 997: 'bundesanstalt', 998: 'bundesbank', 999: 'bundesland', 1000: 'bundesregierung', 1001: 'bundestagswahlen', 1002: 'bunten', 1003: 'bus', 1004: 'busfirma', 1005: 'bush', 1006: 'bushadministration', 1007: 'bushs', 1008: 'buslinien', 1009: 'busse', 1010: 'bussen', 1011: 'busses', 1012: 'butch', 1013: 'bzö', 1014: 'bzöchef', 1015: 'bäume', 1016: 'bótonmango', 1017: 'böhmerwalddeutschen', 1018: 'böhmerwaldes', 1019: 'böhmischen', 1020: 'börse', 1021: 'börsen', 1022: 'börsenbarometer', 1023: 'böse', 1024: 'bücher', 1025: 'büchern', 1026: 'bücherregalen', 1027: 'bühne', 1028: 'bündel', 1029: 'bündelungen', 1030: 'bürger', 1031: 'bürgermeister', 1032: 'bürgermeisters', 1033: 'bürgerrechte', 1034: 'bürgersteige', 1035: 'bürgersteigen', 1036: 'büro', 1037: 'büroangestellte', 1038: 'büros', 1039: 'bělohlávek', 1040: 'c', 1041: 'ca', 1042: 'cadel', 1043: 'calvados', 1044: 'campbell', 1045: 'canada', 1046: 'capital', 1047: 'cappuccino', 1048: 'caracallathermen', 1049: 'cardinal', 1050: 'cardinals', 1051: 'carlos', 1052: 'carmen', 1053: 'carruba', 1054: 'carter', 1055: 'casado', 1056: 'cash', 1057: 'cassidy', 1058: 'cassinihuygens', 1059: 'cbgb', 1060: 'cbs', 1061: 'cdu', 1062: 'ceatec', 1063: 'center', 1064: 'cera', 1065: 'chalupa', 1066: 'chancen', 1067: 'chancengleichheit', 1068: 'chancenlos', 1069: 'chaotische', 1070: 'charakter', 1071: 'charakterisieren', 1072: 'charakters', 1073: 'charest', 1074: 'charests', 1075: 'charmante', 1076: 'charmanten', 1077: 'charts', 1078: 'chase', 1079: 'chef', 1080: 'chefin', 1081: 'chefredakteure', 1082: 'chefredakteuren', 1083: 'chefredaktor', 1084: 'chefs', 1085: 'cheftrainer', 1086: 'chemical', 1087: 'chemikalien', 1088: 'chemischen', 1089: 'chevron', 1090: 'chigi', 1091: 'chikungunyavirus', 1092: 'china', 1093: 'chinesische', 1094: 'chinesischen', 1095: 'chip', 1096: 'chipkarte', 1097: 'chor', 1098: 'christdemokratie', 1099: 'christopher', 1100: 'christsozialen', 1101: 'chrom', 1102: 'chronischem', 1103: 'chronischer', 1104: 'church', 1105: 'cigala', 1106: 'cineast', 1107: 'cinecittà', 1108: 'citigroup', 1109: 'city', 1110: 'ciudad', 1111: 'clinton', 1112: 'clou', 1113: 'co', 1114: 'coen', 1115: 'coldplay', 1116: 'coles', 1117: 'collab', 1118: 'college', 1119: 'comics', 1120: 'commerzbank', 1121: 'computer', 1122: 'condoleezza', 1123: 'conference', 1124: 'connecticut', 1125: 'contro', 1126: 'coppola', 1127: 'corker', 1128: 'cornelius', 1129: 'cornwall', 1130: 'cortex', 1131: 'costa', 1132: 'council', 1133: 'county', 1134: 'coupon', 1135: 'coupons', 1136: 'coventry', 1137: 'cowboy', 1138: 'croisic', 1139: 'croissant', 1140: 'crowe', 1141: 'cruz', 1142: 'csu', 1143: 'csuführung', 1144: 'csupolitiker', 1145: 'da', 1146: 'dabei', 1147: 'dachte', 1148: 'dadurch', 1149: 'dafür', 1150: 'dagegen', 1151: 'daher', 1152: 'dairy', 1153: 'dal', 1154: 'damalige', 1155: 'damasio', 1156: 'damaskus', 1157: 'dame', 1158: 'damit', 1159: 'danach', 1160: 'daniel', 1161: 'danilo', 1162: 'dank', 1163: 'dankbar', 1164: 'dann', 1165: 'dannehy', 1166: 'daran', 1167: 'darauf', 1168: 'darf', 1169: 'darin', 1170: 'darlehen', 1171: 'darrelle', 1172: 'darstellen', 1173: 'darsteller', 1174: 'darum', 1175: 'darzustellen', 1176: 'darüber', 1177: 'das', 1178: 'dash', 1179: 'dass', 1180: 'daten', 1181: 'datenübertragungen', 1182: 'dauer', 1183: 'dauerläufer', 1184: 'daumen', 1185: 'david', 1186: 'davon', 1187: 'davor', 1188: 'dax', 1189: 'dazu', 1190: 'de', 1191: 'debatte', 1192: 'definiert', 1193: 'definitiven', 1194: 'defizit', 1195: 'deine', 1196: 'deinen', 1197: 'deka', 1198: 'dekabank', 1199: 'dekabankchef', 1200: 'del', 1201: 'della', 1202: 'dem', 1203: 'demgegenüber', 1204: 'demnach', 1205: 'demokraten', 1206: 'demokratie', 1207: 'demokratisch', 1208: 'demokratische', 1209: 'demokratischen', 1210: 'demonstrierten', 1211: 'demselben', 1212: 'den', 1213: 'denjenigen', 1214: 'denke', 1215: 'denken', 1216: 'denkst', 1217: 'denkt', 1218: 'denn', 1219: 'dennis', 1220: 'dennoch', 1221: 'depfa', 1222: 'depfagruppe', 1223: 'depfaübernahme', 1224: 'der', 1225: 'deren', 1226: 'derjenige', 1227: 'derlei', 1228: 'derzeit', 1229: 'derzeitigen', 1230: 'des', 1231: 'desaster', 1232: 'deshalb', 1233: 'desinteresse', 1234: 'dessen', 1235: 'detailliert', 1236: 'details', 1237: 'detroit', 1238: 'deutlich', 1239: 'deutliche', 1240: 'deutlichen', 1241: 'deutlichsten', 1242: 'deutsche', 1243: 'deutschen', 1244: 'deutscher', 1245: 'deutschland', 1246: 'deutschlands', 1247: 'deutschsprachigen', 1248: 'devoir', 1249: 'dezember', 1250: 'diario', 1251: 'dich', 1252: 'die', 1253: 'diego', 1254: 'diejenige', 1255: 'diejenigen', 1256: 'dienst', 1257: 'dienstag', 1258: 'dienstagsgeschäfte', 1259: 'dienste', 1260: 'dienstes', 1261: 'dienstleistung', 1262: 'dienstleistungen', 1263: 'dienstleistungsangebots', 1264: 'dient', 1265: 'diepressecom', 1266: 'dies', 1267: 'diesbezüglich', 1268: 'diese', 1269: 'dieselbe', 1270: 'diesem', 1271: 'diesen', 1272: 'dieser', 1273: 'dieses', 1274: 'diesmal', 1275: 'dimension', 1276: 'dinge', 1277: 'diplomatie', 1278: 'direkt', 1279: 'direkten', 1280: 'direktere', 1281: 'direktor', 1282: 'direktoren', 1283: 'diskussion', 1284: 'diskutieren', 1285: 'display', 1286: 'djia', 1287: 'doch', 1288: 'dodd', 1289: 'dokumente', 1290: 'dollar', 1291: 'dollarkurs', 1292: 'dollarplan', 1293: 'dominante', 1294: 'dominierende', 1295: 'dominierenden', 1296: 'dominoeffekt', 1297: 'domov', 1298: 'donges', 1299: 'donlin', 1300: 'donnerstag', 1301: 'dopingfall', 1302: 'doppelmord', 1303: 'doppelmordes', 1304: 'doppelmörder', 1305: 'doppelt', 1306: 'doppelten', 1307: 'dort', 1308: 'dortige', 1309: 'dortigen', 1310: 'dow', 1311: 'download', 1312: 'dr', 1313: 'dramas', 1314: 'dramatische', 1315: 'dramatischen', 1316: 'drehbare', 1317: 'drehbaren', 1318: 'drehten', 1319: 'drei', 1320: 'dreierbund', 1321: 'dreitausend', 1322: 'dribblings', 1323: 'dringendem', 1324: 'dringenden', 1325: 'dritte', 1326: 'drittel', 1327: 'dritten', 1328: 'drittens', 1329: 'dritter', 1330: 'drogenhandels', 1331: 'drohe', 1332: 'drohen', 1333: 'droht', 1334: 'druck', 1335: 'druckpresse', 1336: 'druckt', 1337: 'drzewiecki', 1338: 'drängt', 1339: 'drückte', 1340: 'du', 1341: 'duell', 1342: 'dunkle', 1343: 'dunklen', 1344: 'duo', 1345: 'duos', 1346: 'durch', 1347: 'durchaus', 1348: 'durchblicken', 1349: 'durchbrochen', 1350: 'durchbruch', 1351: 'durcheinander', 1352: 'durchfahrtstraße', 1353: 'durchgang', 1354: 'durchgeführt', 1355: 'durchgeführten', 1356: 'durchschnitt', 1357: 'durchschnittlich', 1358: 'durchschnittlicher', 1359: 'durchschnittsgeschwindigkeit', 1360: 'durchsuchung', 1361: 'durften', 1362: 'durststrecke', 1363: 'dvořák', 1364: 'dynamik', 1365: 'dänemark', 1366: 'décary', 1367: 'dürfen', 1368: 'dürfte', 1369: 'dürften', 1370: 'düsseldorfer', 1371: 'e', 1372: 'east', 1373: 'eastmainaruper', 1374: 'eatonville', 1375: 'eatonvilles', 1376: 'eben', 1377: 'ebene', 1378: 'ebenen', 1379: 'ebenfalls', 1380: 'ebenso', 1381: 'echt', 1382: 'echte', 1383: 'ecke', 1384: 'economyklasse', 1385: 'edge', 1386: 'education', 1387: 'edvkomponenten', 1388: 'effekt', 1389: 'effektiv', 1390: 'effizient', 1391: 'ego', 1392: 'együtt', 1393: 'ehe', 1394: 'ehebruchs', 1395: 'ehefrau', 1396: 'ehemalige', 1397: 'ehemaligen', 1398: 'ehemaliger', 1399: 'ehemals', 1400: 'ehemann', 1401: 'eher', 1402: 'ehre', 1403: 'ehrungen', 1404: 'ehud', 1405: 'eigenart', 1406: 'eigene', 1407: 'eigenen', 1408: 'eigenschaften', 1409: 'eigenständige', 1410: 'eigenständigen', 1411: 'eigentlich', 1412: 'eigentümer', 1413: 'eigentümers', 1414: 'eigenwilliger', 1415: 'eignet', 1416: 'ein', 1417: 'einbezieht', 1418: 'einbezogen', 1419: 'einbrach', 1420: 'einbrechen', 1421: 'einbruch', 1422: 'eindeutig', 1423: 'eindeutige', 1424: 'eindruck', 1425: 'eindrucks', 1426: 'eine', 1427: 'einem', 1428: 'einen', 1429: 'einer', 1430: 'einerseits', 1431: 'eines', 1432: 'einfach', 1433: 'einfacher', 1434: 'einfachsten', 1435: 'einfinden', 1436: 'einfluss', 1437: 'einführen', 1438: 'eingebundene', 1439: 'eingeführte', 1440: 'eingerostet', 1441: 'eingesetzt', 1442: 'eingespielt', 1443: 'eingetreten', 1444: 'eingrenzen', 1445: 'eingriff', 1446: 'einhalten', 1447: 'einheiten', 1448: 'einher', 1449: 'einhunderttausend', 1450: 'einige', 1451: 'einigem', 1452: 'einigen', 1453: 'einiger', 1454: 'einigung', 1455: 'einklang', 1456: 'einkommen', 1457: 'einlagerung', 1458: 'einlassungen', 1459: 'einleuchtende', 1460: 'einmal', 1461: 'einmischung', 1462: 'einnahmen', 1463: 'einnehmen', 1464: 'einordnen', 1465: 'einreise', 1466: 'einschalten', 1467: 'einschliesslich', 1468: 'einschließlich', 1469: 'einschreiten', 1470: 'einschränken', 1471: 'einsetzung', 1472: 'einsparen', 1473: 'einst', 1474: 'einsteigen', 1475: 'einsturz', 1476: 'einstweilen', 1477: 'einstöckige', 1478: 'einsätzen', 1479: 'eintritt', 1480: 'einverstanden', 1481: 'einwanderern', 1482: 'einwanderung', 1483: 'einwohner', 1484: 'einwohnern', 1485: 'einzelhändler', 1486: 'einzelner', 1487: 'einzelzimmer', 1488: 'einziehen', 1489: 'einzig', 1490: 'einzige', 1491: 'einzigen', 1492: 'einzudringen', 1493: 'einzug', 1494: 'einzuordnen', 1495: 'einzusetzen', 1496: 'einzuzahlen', 1497: 'el', 1498: 'elektronischen', 1499: 'elektroschocks', 1500: 'element', 1501: 'elemente', 1502: 'elena', 1503: 'elf', 1504: 'elite', 1505: 'eliteläufer', 1506: 'ellis', 1507: 'elwen', 1508: 'elyséepalasts', 1509: 'emanuel', 1510: 'embraer', 1511: 'emerging', 1512: 'emiliaromagna', 1513: 'emotionalist', 1514: 'emotionsgeladene', 1515: 'empfahl', 1516: 'empfange', 1517: 'empfehlung', 1518: 'empfiehlt', 1519: 'empfinden', 1520: 'empfindens', 1521: 'empfindet', 1522: 'empfindungen', 1523: 'empfohlen', 1524: 'emporzugehen', 1525: 'empörter', 1526: 'empörtes', 1527: 'emsigen', 1528: 'emstadien', 1529: 'endabstimmung', 1530: 'ende', 1531: 'endeffekt', 1532: 'endet', 1533: 'endgültige', 1534: 'endgültigen', 1535: 'endlich', 1536: 'energie', 1537: 'energiebranche', 1538: 'energiefresser', 1539: 'energiekommission', 1540: 'energiequellen', 1541: 'energy', 1542: 'eng', 1543: 'engagement', 1544: 'engagierten', 1545: 'englisch', 1546: 'englischen', 1547: 'englischprüfung', 1548: 'englischsprachigen', 1549: 'englischsprachiger', 1550: 'engländer', 1551: 'enormen', 1552: 'entdeckt', 1553: 'entehrtes', 1554: 'enterprises', 1555: 'entführer', 1556: 'entführt', 1557: 'entführte', 1558: 'entführung', 1559: 'entgegen', 1560: 'enthalten', 1561: 'enthob', 1562: 'enthält', 1563: 'enthüllte', 1564: 'entlang', 1565: 'entlangwandern', 1566: 'entlassen', 1567: 'entlassungen', 1568: 'entledigen', 1569: 'entmachtung', 1570: 'entmutigend', 1571: 'entnehmen', 1572: 'entrüstung', 1573: 'entscheiden', 1574: 'entscheidend', 1575: 'entscheidende', 1576: 'entscheidenden', 1577: 'entscheidung', 1578: 'entschieden', 1579: 'entschlossenen', 1580: 'entschlossenheit', 1581: 'entschädigung', 1582: 'entspannen', 1583: 'entspannter', 1584: 'entspannung', 1585: 'entsprechend', 1586: 'entsprechende', 1587: 'entsprechenden', 1588: 'entspringt', 1589: 'entstehen', 1590: 'entstehung', 1591: 'entwickelt', 1592: 'entwickler', 1593: 'entwicklung', 1594: 'entworfen', 1595: 'entwurf', 1596: 'epabgeordneten', 1597: 'epische', 1598: 'epischer', 1599: 'episoden', 1600: 'episodios', 1601: 'epochen', 1602: 'epochenbruch', 1603: 'epotest', 1604: 'er', 1605: 'erdgasimport', 1606: 'erdölpreis', 1607: 'ereignete', 1608: 'ereignis', 1609: 'ereignisse', 1610: 'erfahren', 1611: 'erfahrene', 1612: 'erfahrung', 1613: 'erfahrungen', 1614: 'erfolg', 1615: 'erfolgreich', 1616: 'erfolgreichen', 1617: 'erfolgskurs', 1618: 'erforderlich', 1619: 'erfordern', 1620: 'erforsche', 1621: 'erfreuliche', 1622: 'erfrischt', 1623: 'erfrischungsgetränkeautomat', 1624: 'erfuhr', 1625: 'erfundene', 1626: 'erfüllt', 1627: 'erfüllte', 1628: 'erfüllung', 1629: 'ergeben', 1630: 'ergebnis', 1631: 'ergebnisse', 1632: 'ergebnissen', 1633: 'ergibt', 1634: 'erhalten', 1635: 'erheblich', 1636: 'erhielt', 1637: 'erhielten', 1638: 'erhoben', 1639: 'erhofft', 1640: 'erhält', 1641: 'erhältlich', 1642: 'ericsson', 1643: 'erik', 1644: 'erinnern', 1645: 'erinnert', 1646: 'erinnerung', 1647: 'erinnerungen', 1648: 'erkannt', 1649: 'erkennen', 1650: 'erkenntnis', 1651: 'erkenntnisse', 1652: 'erkennung', 1653: 'erklang', 1654: 'erklären', 1655: 'erklärte', 1656: 'erklärten', 1657: 'erklärung', 1658: 'erkrankten', 1659: 'erkrankung', 1660: 'erkundungstour', 1661: 'erkämpften', 1662: 'erlaubt', 1663: 'erlebens', 1664: 'erlebensgleichheit', 1665: 'erlebten', 1666: 'erlegten', 1667: 'erleichtern', 1668: 'erlitt', 1669: 'ermitteln', 1670: 'ermittelt', 1671: 'ermittlungen', 1672: 'ermittlungsbehörde', 1673: 'ermittlungsbehörden', 1674: 'ermöglichen', 1675: 'ermöglicht', 1676: 'ermöglichten', 1677: 'ern', 1678: 'erneuern', 1679: 'erneuert', 1680: 'erneut', 1681: 'erneuten', 1682: 'erneuter', 1683: 'ernst', 1684: 'ernste', 1685: 'ernsthaft', 1686: 'ernsthafte', 1687: 'ernüchterung', 1688: 'erobert', 1689: 'erosion', 1690: 'erregen', 1691: 'erreger', 1692: 'erreichen', 1693: 'erreicht', 1694: 'erreichten', 1695: 'errichten', 1696: 'ersatz', 1697: 'erscheinen', 1698: 'erscheint', 1699: 'erscheinungen', 1700: 'erschien', 1701: 'erschienen', 1702: 'erschüttert', 1703: 'ersetzt', 1704: 'ersparnisse', 1705: 'erspielten', 1706: 'erst', 1707: 'erstattung', 1708: 'erstattungen', 1709: 'erstaunliche', 1710: 'erstaunliches', 1711: 'erste', 1712: 'ersten', 1713: 'erstens', 1714: 'erstes', 1715: 'erstligisten', 1716: 'erstmalig', 1717: 'erstmals', 1718: 'ersuchen', 1719: 'ersucht', 1720: 'ertragskraft', 1721: 'erträge', 1722: 'ertzaintza', 1723: 'erwartet', 1724: 'erwartungen', 1725: 'erweiterung', 1726: 'erwiesene', 1727: 'erwin', 1728: 'erwirkt', 1729: 'erworben', 1730: 'erwähnt', 1731: 'erwähnte', 1732: 'erwähnten', 1733: 'erzeugen', 1734: 'erzielen', 1735: 'erzielt', 1736: 'erzielte', 1737: 'erzielten', 1738: 'erzähl', 1739: 'erzählen', 1740: 'erzählt', 1741: 'erzählte', 1742: 'eröffnet', 1743: 'eröffnete', 1744: 'eröffnungsevent', 1745: 'es', 1746: 'essen', 1747: 'essenständen', 1748: 'establishments', 1749: 'estate', 1750: 'esély', 1751: 'etat', 1752: 'ethischmoralischen', 1753: 'etwa', 1754: 'etwas', 1755: 'eu', 1756: 'euch', 1757: 'euer', 1758: 'eukommission', 1759: 'eumitgliedsstaaten', 1760: 'eur', 1761: 'euro', 1762: 'europa', 1763: 'europas', 1764: 'europäischamerikanische', 1765: 'europäische', 1766: 'europäischen', 1767: 'europäischer', 1768: 'evans', 1769: 'evolution', 1770: 'executive', 1771: 'executives', 1772: 'exehepaar', 1773: 'exekutivkomitee', 1774: 'exemplare', 1775: 'existenz', 1776: 'existierenden', 1777: 'existiert', 1778: 'expansion', 1779: 'experiment', 1780: 'experten', 1781: 'expertin', 1782: 'exportpreise', 1783: 'exportsektor', 1784: 'express', 1785: 'extra', 1786: 'extrem', 1787: 'extreme', 1788: 'exzentrikerin', 1789: 'fabani', 1790: 'fabuleux', 1791: 'facebook', 1792: 'facetten', 1793: 'fachunterricht', 1794: 'fahne', 1795: 'fahre', 1796: 'fahren', 1797: 'fahrens', 1798: 'fahrer', 1799: 'fahrern', 1800: 'fahrers', 1801: 'fahrgast', 1802: 'fahrgäste', 1803: 'fahrt', 1804: 'fahrweise', 1805: 'fahrzeugbegleiter', 1806: 'faible', 1807: 'faipari', 1808: 'faktisch', 1809: 'fall', 1810: 'falle', 1811: 'fallen', 1812: 'falls', 1813: 'fallschirme', 1814: 'falsch', 1815: 'falsches', 1816: 'familie', 1817: 'familien', 1818: 'fand', 1819: 'fanden', 1820: 'fangen', 1821: 'fans', 1822: 'fantasie', 1823: 'farias', 1824: 'farkas', 1825: 'fashion', 1826: 'fasoli', 1827: 'fassung', 1828: 'fast', 1829: 'fasziniert', 1830: 'faulen', 1831: 'fauler', 1832: 'faulpelze', 1833: 'favre', 1834: 'favres', 1835: 'faymann', 1836: 'features', 1837: 'februar', 1838: 'feely', 1839: 'fehlen', 1840: 'fehlende', 1841: 'fehler', 1842: 'fehlt', 1843: 'feier', 1844: 'feierstunde', 1845: 'feierte', 1846: 'feierten', 1847: 'feind', 1848: 'feine', 1849: 'feinfühligen', 1850: 'feingefühl', 1851: 'feldmitte', 1852: 'ferner', 1853: 'fernhielten', 1854: 'fernreisebusse', 1855: 'fernsehduell', 1856: 'fernsehen', 1857: 'fernsehschirmen', 1858: 'fernsehsenders', 1859: 'fernstraße', 1860: 'fernstraßenprojekt', 1861: 'fernverbindungen', 1862: 'ferrer', 1863: 'fest', 1864: 'festgehalten', 1865: 'festgelegt', 1866: 'festgelegte', 1867: 'festgenommen', 1868: 'festgenommene', 1869: 'festgestellt', 1870: 'festhalten', 1871: 'festival', 1872: 'festivals', 1873: 'feststellten', 1874: 'feststellung', 1875: 'fetischist', 1876: 'fiatal', 1877: 'fidesz', 1878: 'fidlovačka', 1879: 'fiel', 1880: 'field', 1881: 'fields', 1882: 'fielen', 1883: 'fiktiver', 1884: 'film', 1885: 'filmemacher', 1886: 'filmkunst', 1887: 'filmlänge', 1888: 'finance', 1889: 'financial', 1890: 'finanzdienstleisters', 1891: 'finanzdienstleistungen', 1892: 'finanzdienstleistungsaufsicht', 1893: 'finanzgeschäften', 1894: 'finanzgesellschaften', 1895: 'finanzgruppe', 1896: 'finanzhilfe', 1897: 'finanzielle', 1898: 'finanzinstitutionen', 1899: 'finanzkatastrophe', 1900: 'finanzkrise', 1901: 'finanzlatein', 1902: 'finanzmarkts', 1903: 'finanzminister', 1904: 'finanzministerium', 1905: 'finanzmärkte', 1906: 'finanzmärkten', 1907: 'finanzplätze', 1908: 'finanzsekretär', 1909: 'finanzsystem', 1910: 'finanzsystems', 1911: 'finanzturbulenzen', 1912: 'finanzunternehmen', 1913: 'finde', 1914: 'finden', 1915: 'findet', 1916: 'fing', 1917: 'fini', 1918: 'finish', 1919: 'firma', 1920: 'firmen', 1921: 'firmenname', 1922: 'first', 1923: 'fischer', 1924: 'fischerei', 1925: 'fischereikomitees', 1926: 'fischern', 1927: 'fixiert', 1928: 'flachen', 1929: 'flair', 1930: 'flamenco', 1931: 'flamencodarstellung', 1932: 'flamencopeople', 1933: 'flamencos', 1934: 'flamencotänzer', 1935: 'flamencotänzerin', 1936: 'fliegen', 1937: 'fliegt', 1938: 'flieht', 1939: 'fließen', 1940: 'fließend', 1941: 'fließendes', 1942: 'flinte', 1943: 'flog', 1944: 'florenz', 1945: 'florenç', 1946: 'florida', 1947: 'floridareiseführer', 1948: 'flossen', 1949: 'flug', 1950: 'flugkörper', 1951: 'flugmanöver', 1952: 'flugpreisen', 1953: 'flugreisemarkts', 1954: 'flugtickets', 1955: 'flugzeug', 1956: 'flugzeuge', 1957: 'flugzeugen', 1958: 'flugzeughersteller', 1959: 'flut', 1960: 'fläche', 1961: 'flüge', 1962: 'flüssigen', 1963: 'folge', 1964: 'folgen', 1965: 'folgendem', 1966: 'folgenden', 1967: 'folglich', 1968: 'folgt', 1969: 'folgte', 1970: 'folter', 1971: 'fond', 1972: 'for', 1973: 'forderten', 1974: 'forderung', 1975: 'forint', 1976: 'form', 1977: 'formal', 1978: 'formale', 1979: 'format', 1980: 'formfehlern', 1981: 'formuliert', 1982: 'formulierung', 1983: 'forschen', 1984: 'forscher', 1985: 'forscherteam', 1986: 'forschung', 1987: 'forschungsergebnisse', 1988: 'forschungsprojekt', 1989: 'forschungssonde', 1990: 'forschungszentren', 1991: 'fortführen', 1992: 'fortis', 1993: 'fortschreitende', 1994: 'fortschritt', 1995: 'fortschritte', 1996: 'fortschritten', 1997: 'fortsetzung', 1998: 'foto', 1999: 'fotograf', 2000: 'fotómata', 2001: 'fpö', 2002: 'frage', 2003: 'fragen', 2004: 'fragt', 2005: 'fragten', 2006: 'fraktion', 2007: 'france', 2008: 'franco', 2009: 'frank', 2010: 'frankfurt', 2011: 'frankfurter', 2012: 'franklin', 2013: 'franklins', 2014: 'frankreich', 2015: 'franz', 2016: 'französische', 2017: 'französischen', 2018: 'frattini', 2019: 'fratto', 2020: 'frau', 2021: 'frauen', 2022: 'frech', 2023: 'frei', 2024: 'freie', 2025: 'freien', 2026: 'freigelassen', 2027: 'freiheitsstrafe', 2028: 'freilassen', 2029: 'freilassung', 2030: 'freilich', 2031: 'freitag', 2032: 'freiwilligen', 2033: 'freizeitparks', 2034: 'freude', 2035: 'freundin', 2036: 'frieden', 2037: 'friedhof', 2038: 'frischen', 2039: 'frist', 2040: 'froh', 2041: 'fruchtbar', 2042: 'fruchtsaft', 2043: 'fruchtsäften', 2044: 'frühe', 2045: 'früher', 2046: 'früheren', 2047: 'frühestens', 2048: 'frühling', 2049: 'frühstück', 2050: 'frühstücksbagel', 2051: 'frühstücksitzungen', 2052: 'frühzeitige', 2053: 'ft', 2054: 'ftseindex', 2055: 'fug', 2056: 'fuller', 2057: 'fungiert', 2058: 'funke', 2059: 'funkelndes', 2060: 'funktion', 2061: 'funktionen', 2062: 'funktionieren', 2063: 'funktioniert', 2064: 'furcht', 2065: 'furchterregend', 2066: 'fusionen', 2067: 'fuß', 2068: 'fähigkeit', 2069: 'fälle', 2070: 'fällen', 2071: 'fällig', 2072: 'fälschern', 2073: 'fälschung', 2074: 'fängt', 2075: 'félix', 2076: 'föderalist', 2077: 'förderung', 2078: 'fügt', 2079: 'fügte', 2080: 'fühle', 2081: 'fühlen', 2082: 'fühlt', 2083: 'fühlte', 2084: 'führe', 2085: 'führen', 2086: 'führende', 2087: 'führenden', 2088: 'führt', 2089: 'führte', 2090: 'führten', 2091: 'führung', 2092: 'führungen', 2093: 'führungslinien', 2094: 'fünf', 2095: 'fünfhundert', 2096: 'fünfspurige', 2097: 'fünfspurigen', 2098: 'fünftel', 2099: 'fünfzig', 2100: 'für', 2101: 'fürst', 2102: 'füttern', 2103: 'füße', 2104: 'gab', 2105: 'gaben', 2106: 'gadd', 2107: 'gaetano', 2108: 'galdós', 2109: 'galerie', 2110: 'gallupinstitut', 2111: 'gamboa', 2112: 'gangway', 2113: 'ganove', 2114: 'ganz', 2115: 'ganze', 2116: 'ganzen', 2117: 'ganzes', 2118: 'gar', 2119: 'garci', 2120: 'gardner', 2121: 'garver', 2122: 'gary', 2123: 'gaspar', 2124: 'gasse', 2125: 'gastkapitäns', 2126: 'gastmutter', 2127: 'gb', 2128: 'gbspeicherkarten', 2129: 'geantwortet', 2130: 'gearbeitet', 2131: 'gearteten', 2132: 'gebannt', 2133: 'gebaut', 2134: 'gebe', 2135: 'geben', 2136: 'gebeten', 2137: 'gebiet', 2138: 'gebiete', 2139: 'gebietes', 2140: 'geblieben', 2141: 'geboren', 2142: 'gebracht', 2143: 'gebrauch', 2144: 'gebrselassie', 2145: 'gebrselassies', 2146: 'gebunden', 2147: 'geburtstag', 2148: 'geburtstages', 2149: 'geckos', 2150: 'gedacht', 2151: 'gedankenspiele', 2152: 'gedauert', 2153: 'gedenkfeier', 2154: 'gedruckt', 2155: 'gedrucktes', 2156: 'gedrängt', 2157: 'gedächtnis', 2158: 'geehrt', 2159: 'geeigneteren', 2160: 'geeinigt', 2161: 'geekkultur', 2162: 'geeks', 2163: 'gefahr', 2164: 'gefahren', 2165: 'gefallen', 2166: 'gefallenen', 2167: 'gefangene', 2168: 'gefangenschaft', 2169: 'gefochten', 2170: 'gefordert', 2171: 'gefragt', 2172: 'gefrierenden', 2173: 'gefrühstückt', 2174: 'gefunden', 2175: 'gefächert', 2176: 'gefälscht', 2177: 'gefängnisstrafe', 2178: 'gefühle', 2179: 'geführt', 2180: 'gegangen', 2181: 'gegeben', 2182: 'gegebenen', 2183: 'gegen', 2184: 'gegenpartei', 2185: 'gegenpole', 2186: 'gegenproben', 2187: 'gegensatz', 2188: 'gegenstand', 2189: 'gegenteil', 2190: 'gegenvereinbarung', 2191: 'gegenwärtige', 2192: 'gegenzug', 2193: 'gegenüber', 2194: 'gegenübertreten', 2195: 'gegnerische', 2196: 'gegrinst', 2197: 'gegründet', 2198: 'gehalten', 2199: 'gehaltenen', 2200: 'gehe', 2201: 'geheim', 2202: 'geheimnisse', 2203: 'geheimnisvollen', 2204: 'gehemmten', 2205: 'gehen', 2206: 'gehirnstruktur', 2207: 'geholfen', 2208: 'geht', 2209: 'gehts', 2210: 'gehuscht', 2211: 'gehälter', 2212: 'gehör', 2213: 'gehören', 2214: 'gehört', 2215: 'geiseln', 2216: 'geiselnehmer', 2217: 'gekauft', 2218: 'geklärt', 2219: 'gekommen', 2220: 'gekämpft', 2221: 'gekündigt', 2222: 'gekürzt', 2223: 'gelang', 2224: 'gelangen', 2225: 'gelangt', 2226: 'gelaufen', 2227: 'gelautet', 2228: 'gelbe', 2229: 'gelbes', 2230: 'gelbschwarzen', 2231: 'gelbsucht', 2232: 'geld', 2233: 'gelder', 2234: 'geldes', 2235: 'geldinstitute', 2236: 'geldinstituten', 2237: 'geldinstituts', 2238: 'geldmarktfonds', 2239: 'geldmärkte', 2240: 'geldpreis', 2241: 'geldquelle', 2242: 'geldschaltern', 2243: 'gelegentlich', 2244: 'geleitetes', 2245: 'gelesen', 2246: 'geliefert', 2247: 'gelieferten', 2248: 'gelingt', 2249: 'gelobte', 2250: 'gelten', 2251: 'gelungen', 2252: 'gelöst', 2253: 'gemacht', 2254: 'gemeinde', 2255: 'gemeinderat', 2256: 'gemeinderats', 2257: 'gemeinnützigen', 2258: 'gemeinsam', 2259: 'gemeinschaft', 2260: 'gemeinschaftsportalen', 2261: 'gemeinschaftsseiten', 2262: 'gemessenen', 2263: 'gemäldes', 2264: 'gemütszustandes', 2265: 'genannten', 2266: 'genannter', 2267: 'genau', 2268: 'genaue', 2269: 'genauere', 2270: 'genauerer', 2271: 'genauso', 2272: 'genehmigung', 2273: 'generaldirektor', 2274: 'generalinspektors', 2275: 'generalstaatsanwalt', 2276: 'generalstaatsanwaltschaf', 2277: 'generalstaatsanwaltschaft', 2278: 'generalversammlung', 2279: 'generieren', 2280: 'genießen', 2281: 'genommen', 2282: 'gentiloni', 2283: 'genug', 2284: 'genötigt', 2285: 'genügend', 2286: 'genügt', 2287: 'geopolitischen', 2288: 'georg', 2289: 'george', 2290: 'georgina', 2291: 'geostrategischen', 2292: 'geplant', 2293: 'geplante', 2294: 'geplanten', 2295: 'gepriesen', 2296: 'gerade', 2297: 'geraten', 2298: 'geratenen', 2299: 'gergen', 2300: 'gericht', 2301: 'gerichtes', 2302: 'gerichteten', 2303: 'gerichtliche', 2304: 'gerichtshofes', 2305: 'gerichtshofs', 2306: 'gerichtsurteil', 2307: 'geringer', 2308: 'geringere', 2309: 'geringfügig', 2310: 'geringste', 2311: 'gerissen', 2312: 'gern', 2313: 'gerne', 2314: 'gerolsteiner', 2315: 'gerät', 2316: 'geräte', 2317: 'geräten', 2318: 'gerätes', 2319: 'gesagt', 2320: 'gesamtbeitrag', 2321: 'gesamtbetrag', 2322: 'gesamte', 2323: 'gesamten', 2324: 'gesamtwert', 2325: 'gesangsfassung', 2326: 'geschafft', 2327: 'geschah', 2328: 'geschehen', 2329: 'gescheitert', 2330: 'geschenk', 2331: 'geschichte', 2332: 'geschichten', 2333: 'geschickt', 2334: 'geschieht', 2335: 'gescholtene', 2336: 'geschrieben', 2337: 'geschultem', 2338: 'geschwindigkeit', 2339: 'geschwister', 2340: 'geschäft', 2341: 'geschäften', 2342: 'geschäftsbesorgung', 2343: 'geschäftsführer', 2344: 'geschäftsschluss', 2345: 'geschäftstages', 2346: 'geschändet', 2347: 'geschätzt', 2348: 'geschöpfen', 2349: 'gesehen', 2350: 'gesellschaft', 2351: 'gesellschaften', 2352: 'gesellschafter', 2353: 'gesetz', 2354: 'gesetzes', 2355: 'gesetzesentwurf', 2356: 'gesetzesänderung', 2357: 'gesetzgeber', 2358: 'gesetzliche', 2359: 'gesetzt', 2360: 'gesicht', 2361: 'gesichter', 2362: 'gesichterkennungssystem', 2363: 'gesichtsfeld', 2364: 'gesinnung', 2365: 'gespannt', 2366: 'gespräche', 2367: 'gesprächen', 2368: 'gestanden', 2369: 'gestartet', 2370: 'gesteht', 2371: 'gestellt', 2372: 'gestern', 2373: 'gesteuerte', 2374: 'gestiegen', 2375: 'gestimmt', 2376: 'gestorben', 2377: 'gestrige', 2378: 'gestrigen', 2379: 'geständig', 2380: 'geständnis', 2381: 'gestärkt', 2382: 'gesucht', 2383: 'gesunde', 2384: 'gesundheitszustand', 2385: 'gesundungsplan', 2386: 'gesunken', 2387: 'gesättigt', 2388: 'getan', 2389: 'geteilt', 2390: 'geteilten', 2391: 'getestet', 2392: 'getroffen', 2393: 'getränke', 2394: 'getuschelt', 2395: 'getötet', 2396: 'gewachsen', 2397: 'gewalt', 2398: 'gewaltigem', 2399: 'gewaltigen', 2400: 'gewandt', 2401: 'gewappnet', 2402: 'gewarnt', 2403: 'gewebe', 2404: 'gewechselt', 2405: 'gewerbeverbands', 2406: 'gewerblichen', 2407: 'gewesen', 2408: 'gewidmeten', 2409: 'gewinne', 2410: 'gewinnen', 2411: 'gewinner', 2412: 'gewinnt', 2413: 'gewiss', 2414: 'gewisse', 2415: 'gewissem', 2416: 'gewissen', 2417: 'gewissensforschung', 2418: 'gewisser', 2419: 'gewissheit', 2420: 'gewonnen', 2421: 'geworden', 2422: 'gewährt', 2423: 'gewöhnt', 2424: 'gewünscht', 2425: 'gezahlt', 2426: 'gezeichnet', 2427: 'gezeigt', 2428: 'gezeiten', 2429: 'gezeitenenergie', 2430: 'gezwungen', 2431: 'geändert', 2432: 'geäußert', 2433: 'geäußerten', 2434: 'gianfranco', 2435: 'gibt', 2436: 'giftige', 2437: 'gigabyte', 2438: 'giganten', 2439: 'gilt', 2440: 'ging', 2441: 'gingen', 2442: 'gioacchino', 2443: 'gioia', 2444: 'giorgio', 2445: 'gipfel', 2446: 'giroverband', 2447: 'gitaristen', 2448: 'giuseppe', 2449: 'gladbach', 2450: 'gladbacher', 2451: 'glas', 2452: 'glaube', 2453: 'glauben', 2454: 'glaubens', 2455: 'glaubst', 2456: 'glaubt', 2457: 'glaubten', 2458: 'glaubwürdigkeit', 2459: 'gleich', 2460: 'gleiche', 2461: 'gleichen', 2462: 'gleichzeitig', 2463: 'glenn', 2464: 'gli', 2465: 'glitter', 2466: 'glizenz', 2467: 'global', 2468: 'globale', 2469: 'gläubige', 2470: 'gläubiger', 2471: 'glück', 2472: 'glücklich', 2473: 'gmbh', 2474: 'gnade', 2475: 'gnadenfrist', 2476: 'godbout', 2477: 'golanhöhen', 2478: 'gold', 2479: 'goldenen', 2480: 'goldener', 2481: 'goldman', 2482: 'golf', 2483: 'gonzales', 2484: 'google', 2485: 'googles', 2486: 'gott', 2487: 'gpssatellitennavigation', 2488: 'grab', 2489: 'grabschändung', 2490: 'grad', 2491: 'graffiti', 2492: 'grapefruit', 2493: 'grapefruitsaft', 2494: 'greifen', 2495: 'grenze', 2496: 'grenzen', 2497: 'grenzenden', 2498: 'grenzgebiet', 2499: 'grenzlinie', 2500: 'griffen', 2501: 'grosse', 2502: 'grottaferrata', 2503: 'group', 2504: 'groß', 2505: 'großartig', 2506: 'großbank', 2507: 'großbritannien', 2508: 'großbuchstaben', 2509: 'große', 2510: 'großem', 2511: 'großen', 2512: 'großer', 2513: 'großes', 2514: 'großherzige', 2515: 'großinvestor', 2516: 'großmarktpreis', 2517: 'großteil', 2518: 'großzügig', 2519: 'großzügigkeit', 2520: 'grund', 2521: 'grundbedarfsgüter', 2522: 'grunde', 2523: 'grundgedanke', 2524: 'grundlage', 2525: 'grundlegend', 2526: 'grundlegende', 2527: 'grundlegenden', 2528: 'grundlegendes', 2529: 'gruppe', 2530: 'gruppen', 2531: 'gruz', 2532: 'gräber', 2533: 'grösseres', 2534: 'größe', 2535: 'größere', 2536: 'größte', 2537: 'größten', 2538: 'größter', 2539: 'gründe', 2540: 'gründen', 2541: 'gründung', 2542: 'gts', 2543: 'guajira', 2544: 'guilvinec', 2545: 'gustav', 2546: 'gut', 2547: 'gute', 2548: 'guten', 2549: 'guter', 2550: 'gutes', 2551: 'győző', 2552: 'gänzlich', 2553: 'gélineau', 2554: 'göncz', 2555: 'gültigkeit', 2556: 'günstiger', 2557: 'günter', 2558: 'günther', 2559: 'gütermärkte', 2560: 'haare', 2561: 'habe', 2562: 'haben', 2563: 'haftung', 2564: 'haider', 2565: 'haile', 2566: 'halb', 2567: 'halbe', 2568: 'halben', 2569: 'halbes', 2570: 'halbfinale', 2571: 'halbiert', 2572: 'halbinsel', 2573: 'halbjahr', 2574: 'halbjahreszahlen', 2575: 'halbzeit', 2576: 'halten', 2577: 'haltung', 2578: 'hamburger', 2579: 'hamburgs', 2580: 'hand', 2581: 'handbewegung', 2582: 'handeln', 2583: 'handels', 2584: 'handelsbörse', 2585: 'handelsdefizits', 2586: 'handelsmustern', 2587: 'handelsstunde', 2588: 'handelt', 2589: 'handicap', 2590: 'handschellen', 2591: 'handy', 2592: 'handys', 2593: 'hang', 2594: 'hangsengindex', 2595: 'hannover', 2596: 'harbor', 2597: 'harmadik', 2598: 'hart', 2599: 'harten', 2600: 'haschischbündeln', 2601: 'hasina', 2602: 'hasinas', 2603: 'hass', 2604: 'hat', 2605: 'hatte', 2606: 'hatten', 2607: 'haufen', 2608: 'hauptanliegen', 2609: 'hauptbestandteilen', 2610: 'hauptgrund', 2611: 'hauptinhalte', 2612: 'hauptplatz', 2613: 'hauptrichtlinien', 2614: 'hauptstadt', 2615: 'hauptstrategie', 2616: 'hauptverkehrsstraßen', 2617: 'hauptökonomen', 2618: 'haus', 2619: 'hausarrests', 2620: 'hause', 2621: 'hauseigentümer', 2622: 'hauses', 2623: 'haushoch', 2624: 'haut', 2625: 'heather', 2626: 'heathrow', 2627: 'heber', 2628: 'heftiger', 2629: 'hege', 2630: 'heimatland', 2631: 'heimatstadt', 2632: 'heimische', 2633: 'heimischen', 2634: 'heinzchristian', 2635: 'heiße', 2636: 'heißt', 2637: 'hektisch', 2638: 'helaba', 2639: 'heldenbuch', 2640: 'helfen', 2641: 'hell', 2642: 'helmand', 2643: 'hemaquebec', 2644: 'hemenway', 2645: 'henry', 2646: 'hepatitis', 2647: 'hepatitisviren', 2648: 'her', 2649: 'herangehensweise', 2650: 'heraus', 2651: 'herausforderung', 2652: 'herausgabe', 2653: 'herausgestellt', 2654: 'herkömmlichen', 2655: 'herr', 2656: 'herrn', 2657: 'herstellenden', 2658: 'hersteller', 2659: 'hervor', 2660: 'hervorragenden', 2661: 'hervorragendsten', 2662: 'herz', 2663: 'herzen', 2664: 'hessenthüringen', 2665: 'heute', 2666: 'heutigen', 2667: 'heutiger', 2668: 'heutzutage', 2669: 'hib', 2670: 'hier', 2671: 'hierauf', 2672: 'hierbei', 2673: 'hierfür', 2674: 'hierzu', 2675: 'hierzulande', 2676: 'highschool', 2677: 'hilfe', 2678: 'hilft', 2679: 'hill', 2680: 'hillary', 2681: 'hiltrop', 2682: 'himmel', 2683: 'hin', 2684: 'hinaus', 2685: 'hinausgehenden', 2686: 'hinblick', 2687: 'hindernis', 2688: 'hindernisse', 2689: 'hindurch', 2690: 'hinein', 2691: 'hingegen', 2692: 'hinsicht', 2693: 'hinter', 2694: 'hinteren', 2695: 'hinterfragte', 2696: 'hintergasse', 2697: 'hintergrund', 2698: 'hintergrundinformationen', 2699: 'hintergründe', 2700: 'hinterließ', 2701: 'hinterlässt', 2702: 'hintern', 2703: 'hintertür', 2704: 'hinweis', 2705: 'hinzu', 2706: 'hinzugewinnen', 2707: 'hinzuzufügen', 2708: 'hirnregion', 2709: 'hirnscan', 2710: 'hirnstamm', 2711: 'hirnstämme', 2712: 'hisbollahbewegung', 2713: 'hispanisch', 2714: 'hispanischen', 2715: 'hispanoamerikanische', 2716: 'historische', 2717: 'historischen', 2718: 'historisches', 2719: 'hiv', 2720: 'hob', 2721: 'hochburg', 2722: 'hochentwickelten', 2723: 'hochklettern', 2724: 'hochrangige', 2725: 'hochrangiger', 2726: 'hochsteigt', 2727: 'hochwertige', 2728: 'hofbräuzelt', 2729: 'hoffen', 2730: 'hoffnung', 2731: 'hoffnungen', 2732: 'hofften', 2733: 'hohe', 2734: 'hohen', 2735: 'holen', 2736: 'hollywood', 2737: 'hollywoodschauspieler', 2738: 'holstein', 2739: 'holte', 2740: 'holzkirchen', 2741: 'hong', 2742: 'hongkong', 2743: 'horrenden', 2744: 'hotel', 2745: 'hotelmarkt', 2746: 'hotelpreise', 2747: 'hotels', 2748: 'hořín', 2749: 'hre', 2750: 'hrevorstandsvorsitzende', 2751: 'hsv', 2752: 'httpitopenofficeorgdownloaddownloadhtml', 2753: 'huber', 2754: 'huberbeckstein', 2755: 'hubers', 2756: 'hudsucker', 2757: 'huf', 2758: 'hummel', 2759: 'hundert', 2760: 'hunderttausend', 2761: 'hurston', 2762: 'hurstonbiographie', 2763: 'hurstons', 2764: 'hurtson', 2765: 'hustler', 2766: 'hut', 2767: 'hvghu', 2768: 'hybride', 2769: 'hymne', 2770: 'hymnen', 2771: 'hymnenversionen', 2772: 'hypo', 2773: 'hyporealestateanleihen', 2774: 'hypotheken', 2775: 'hypothekenaktiva', 2776: 'hypothekenpapiere', 2777: 'hypothese', 2778: 'häfen', 2779: 'hälfte', 2780: 'hält', 2781: 'händen', 2782: 'hänge', 2783: 'hängt', 2784: 'hätte', 2785: 'hätten', 2786: 'häufig', 2787: 'häufigkeit', 2788: 'häuser', 2789: 'höchste', 2790: 'höchsten', 2791: 'höchstens', 2792: 'höchstgeschwindigkeit', 2793: 'höhe', 2794: 'höhepunkt', 2795: 'höher', 2796: 'höhere', 2797: 'höheren', 2798: 'höherer', 2799: 'hören', 2800: 'hörern', 2801: 'hörner', 2802: 'hörschäden', 2803: 'hörte', 2804: 'ibm', 2805: 'ich', 2806: 'ideal', 2807: 'idealen', 2808: 'idee', 2809: 'identifiziert', 2810: 'identisch', 2811: 'ifjú', 2812: 'ignorierten', 2813: 'ihm', 2814: 'ihn', 2815: 'ihnedcz', 2816: 'ihnen', 2817: 'ihr', 2818: 'ihre', 2819: 'ihrem', 2820: 'ihren', 2821: 'ihrer', 2822: 'ihres', 2823: 'ikone', 2824: 'ikonen', 2825: 'ikonografie', 2826: 'illhaeusischen', 2827: 'illhäusern', 2828: 'illhäusische', 2829: 'illustrierten', 2830: 'im', 2831: 'image', 2832: 'imitiert', 2833: 'immer', 2834: 'immerhin', 2835: 'immobilienfinanzierer', 2836: 'immobilienfinanziers', 2837: 'immobilienkrediten', 2838: 'impact', 2839: 'impfprogramm', 2840: 'impfung', 2841: 'implementierung', 2842: 'in', 2843: 'inail', 2844: 'inc', 2845: 'indes', 2846: 'index', 2847: 'indien', 2848: 'indirekt', 2849: 'industrial', 2850: 'industrie', 2851: 'industriepreise', 2852: 'industriestandorte', 2853: 'industriezweigen', 2854: 'infizierten', 2855: 'inflationsrate', 2856: 'infolge', 2857: 'informationen', 2858: 'informationskampagnen', 2859: 'informiert', 2860: 'infortuni', 2861: 'infrastrukturfinanzierer', 2862: 'inhaftiert', 2863: 'inhalt', 2864: 'inhalte', 2865: 'initiative', 2866: 'initiativen', 2867: 'inland', 2868: 'inlandsflügen', 2869: 'inne', 2870: 'innenministerin', 2871: 'innenministerium', 2872: 'innenpolitische', 2873: 'innenverteidiger', 2874: 'innerhalb', 2875: 'inputs', 2876: 'ins', 2877: 'insbesondere', 2878: 'insel', 2879: 'insgesamt', 2880: 'insolvenz', 2881: 'inspektionen', 2882: 'inspirieren', 2883: 'inspiriert', 2884: 'installationscd', 2885: 'instinkte', 2886: 'instinktiv', 2887: 'institut', 2888: 'institute', 2889: 'instrumentalen', 2890: 'instrumente', 2891: 'instyle', 2892: 'inszenierung', 2893: 'inszenierungen', 2894: 'intakt', 2895: 'intelligentes', 2896: 'intensive', 2897: 'intensiver', 2898: 'interbankenmarkt', 2899: 'interessant', 2900: 'interessanterweise', 2901: 'interessantes', 2902: 'interesse', 2903: 'interessen', 2904: 'interessenten', 2905: 'interessiert', 2906: 'interessierte', 2907: 'international', 2908: 'internationalen', 2909: 'internationalismus', 2910: 'interne', 2911: 'internet', 2912: 'internets', 2913: 'internetuser', 2914: 'internetzeitschrift', 2915: 'interpretation', 2916: 'interpretierten', 2917: 'interview', 2918: 'interviews', 2919: 'interviewten', 2920: 'intoleranz', 2921: 'invalidi', 2922: 'investitionen', 2923: 'investment', 2924: 'investmentbank', 2925: 'investoren', 2926: 'inzwischen', 2927: 'inés', 2928: 'iphon', 2929: 'ipod', 2930: 'irak', 2931: 'iran', 2932: 'irgendeinem', 2933: 'irgendwelcher', 2934: 'irina', 2935: 'irischen', 2936: 'ironie', 2937: 'irrationalen', 2938: 'irrtümlich', 2939: 'isabel', 2940: 'islamischen', 2941: 'islams', 2942: 'israelischen', 2943: 'israels', 2944: 'ist', 2945: 'istituto', 2946: 'istván', 2947: 'italien', 2948: 'italienern', 2949: 'italienerwochenende', 2950: 'italienische', 2951: 'italienischen', 2952: 'italiens', 2953: 'itv', 2954: 'iván', 2955: 'iwan', 2956: 'izumi', 2957: 'j', 2958: 'ja', 2959: 'jacqui', 2960: 'jahr', 2961: 'jahre', 2962: 'jahrelang', 2963: 'jahrelanger', 2964: 'jahren', 2965: 'jahres', 2966: 'jahresbudget', 2967: 'jahrestag', 2968: 'jahresvergleich', 2969: 'jahrhundert', 2970: 'jahrhunderts', 2971: 'jahrzehnte', 2972: 'jahrzehnten', 2973: 'james', 2974: 'januar', 2975: 'jančura', 2976: 'japan', 2977: 'japanische', 2978: 'japanischen', 2979: 'japanischer', 2980: 'jaroslav', 2981: 'jay', 2982: 'je', 2983: 'jean', 2984: 'jede', 2985: 'jeden', 2986: 'jedenfalls', 2987: 'jeder', 2988: 'jederzeit', 2989: 'jedes', 2990: 'jedoch', 2991: 'jeglicher', 2992: 'jemals', 2993: 'jemanden', 2994: 'jene', 2995: 'jenen', 2996: 'jener', 2997: 'jenes', 2998: 'jeremiah', 2999: 'jeremiáš', 3000: 'jersey', 3001: 'jesús', 3002: 'jets', 3003: 'jetzt', 3004: 'jimmy', 3005: 'jiří', 3006: 'joanne', 3007: 'jobb', 3008: 'john', 3009: 'jol', 3010: 'jom', 3011: 'jones', 3012: 'jos', 3013: 'josef', 3014: 'joseph', 3015: 'josinvestment', 3016: 'josé', 3017: 'journal', 3018: 'journalismus', 3019: 'journalist', 3020: 'journalisten', 3021: 'jp', 3022: 'juan', 3023: 'jubiläum', 3024: 'juden', 3025: 'jugend', 3026: 'jugendliche', 3027: 'jugendlichen', 3028: 'jugendlicher', 3029: 'jugendschutzgesetz', 3030: 'juli', 3031: 'junge', 3032: 'jungen', 3033: 'jungfrau', 3034: 'juni', 3035: 'juniorpartner', 3036: 'juristischer', 3037: 'justizministerium', 3038: 'justizministeriums', 3039: 'jános', 3040: 'járóka', 3041: 'jährige', 3042: 'jährlich', 3043: 'józsefváros', 3044: 'jörg', 3045: 'jövőért', 3046: 'jüdische', 3047: 'jüngeren', 3048: 'jüngsten', 3049: 'kaffe', 3050: 'kaffee', 3051: 'kairo', 3052: 'kajetán', 3053: 'kalabriens', 3054: 'kalifornischen', 3055: 'kam', 3056: 'kamathi', 3057: 'kamen', 3058: 'kamera', 3059: 'kammer', 3060: 'kampagne', 3061: 'kampagnen', 3062: 'kampf', 3063: 'kampfes', 3064: 'kanada', 3065: 'kanadas', 3066: 'kanadischen', 3067: 'kandahar', 3068: 'kandidat', 3069: 'kandidaten', 3070: 'kann', 3071: 'kannte', 3072: 'kannten', 3073: 'kapazität', 3074: 'kapitalerhöhung', 3075: 'kapitalmarktgeschäft', 3076: 'kapitalmarkthaus', 3077: 'kapitel', 3078: 'kapitol', 3079: 'kappen', 3080: 'karriere', 3081: 'karte', 3082: 'karten', 3083: 'kartenlesegeräte', 3084: 'kartoffel', 3085: 'kasse', 3086: 'kassen', 3087: 'katakomben', 3088: 'katalane', 3089: 'katastrophalen', 3090: 'kateřina', 3091: 'katholiken', 3092: 'kauf', 3093: 'kaufangebot', 3094: 'kaufen', 3095: 'kauffmann', 3096: 'kaufpreis', 3097: 'kauft', 3098: 'kaum', 3099: 'kaution', 3100: 'kautionsbitte', 3101: 'kautionsgesuch', 3102: 'kawasaki', 3103: 'kde', 3104: 'kehlkopfentzündung', 3105: 'kehrte', 3106: 'kein', 3107: 'keine', 3108: 'keinem', 3109: 'keinen', 3110: 'keiner', 3111: 'keinerlei', 3112: 'kemecsei', 3113: 'kemrová', 3114: 'kenia', 3115: 'kenianern', 3116: 'kennedy', 3117: 'kennen', 3118: 'kennt', 3119: 'kenntnis', 3120: 'kennzeichenschild', 3121: 'kent', 3122: 'kents', 3123: 'kerle', 3124: 'kernkraftwerken', 3125: 'kerosinverteuerung', 3126: 'kevin', 3127: 'kft', 3128: 'kicherten', 3129: 'kid', 3130: 'kidnappern', 3131: 'kiefern', 3132: 'kind', 3133: 'kinder', 3134: 'kindern', 3135: 'kindesmissbrauchs', 3136: 'kinga', 3137: 'kino', 3138: 'kinobetreiber', 3139: 'kinolegenden', 3140: 'kinoliebhaber', 3141: 'kinos', 3142: 'kinosäle', 3143: 'kirche', 3144: 'kiskunhalas', 3145: 'klage', 3146: 'klappern', 3147: 'klaps', 3148: 'klar', 3149: 'klaren', 3150: 'klarer', 3151: 'klares', 3152: 'klasse', 3153: 'klassische', 3154: 'klassischen', 3155: 'klebers', 3156: 'klebstoff', 3157: 'klebstoffe', 3158: 'klebstoffes', 3159: 'klein', 3160: 'kleiner', 3161: 'kleines', 3162: 'kleinsten', 3163: 'kletterers', 3164: 'kletterten', 3165: 'klienten', 3166: 'klimas', 3167: 'klingen', 3168: 'klingt', 3169: 'klinik', 3170: 'klären', 3171: 'knapp', 3172: 'knie', 3173: 'knüpfte', 3174: 'kněžínková', 3175: 'koalitionsfragen', 3176: 'koblic', 3177: 'kohl', 3178: 'kohls', 3179: 'kollegin', 3180: 'kollektiven', 3181: 'kollision', 3182: 'kollisionsvermeidungstechnologie', 3183: 'kombinierte', 3184: 'komitee', 3185: 'komitees', 3186: 'komme', 3187: 'kommen', 3188: 'kommende', 3189: 'kommentaren', 3190: 'kommission', 3191: 'kommt', 3192: 'kommunikation', 3193: 'kommunikatoren', 3194: 'kompakter', 3195: 'kompatibilität', 3196: 'kompensation', 3197: 'kompetenz', 3198: 'kompetenzblock', 3199: 'komplexen', 3200: 'komplizen', 3201: 'komplizierte', 3202: 'komplizierten', 3203: 'komposition', 3204: 'kompromiss', 3205: 'konferenz', 3206: 'konflikt', 3207: 'konfrontiert', 3208: 'konfrontierte', 3209: 'kong', 3210: 'kongress', 3211: 'kongressabgeordneten', 3212: 'kongresses', 3213: 'kongressmitglieder', 3214: 'konkreten', 3215: 'konkretes', 3216: 'konkurrenten', 3217: 'konkurrenzkampfes', 3218: 'konkurrenzumfeld', 3219: 'konkurs', 3220: 'konnte', 3221: 'konnten', 3222: 'konsequent', 3223: 'konservative', 3224: 'konservativen', 3225: 'konsortium', 3226: 'konstant', 3227: 'konstante', 3228: 'konsumationen', 3229: 'konsumgüter', 3230: 'kontrolle', 3231: 'kontrollen', 3232: 'kontrollgruppe', 3233: 'kontrollieren', 3234: 'kontrolliert', 3235: 'kontrollsysteme', 3236: 'konvergierende', 3237: 'konzentriert', 3238: 'konzepte', 3239: 'konzernleitung', 3240: 'konzerns', 3241: 'konzernunternehmen', 3242: 'konzerte', 3243: 'kopfballtreffer', 3244: 'korn', 3245: 'korrekte', 3246: 'korrespondenten', 3247: 'korrigieren', 3248: 'korrigiert', 3249: 'korruption', 3250: 'kosmetische', 3251: 'kosten', 3252: 'kostenfreier', 3253: 'kostenfreiheit', 3254: 'kostet', 3255: 'kostitsyn', 3256: 'kovalev', 3257: 'kraft', 3258: 'kranken', 3259: 'krankheit', 3260: 'krebs', 3261: 'krebsbekämpfung', 3262: 'kredite', 3263: 'kreditportfolios', 3264: 'kreditvergabe', 3265: 'kreis', 3266: 'krever', 3267: 'krieg', 3268: 'krieges', 3269: 'kriegsgefangenen', 3270: 'kriegsgefangenenlager', 3271: 'kriminalität', 3272: 'kriminelle', 3273: 'kriminellen', 3274: 'krise', 3275: 'krisen', 3276: 'krisenkomitee', 3277: 'krisenkomitees', 3278: 'kristoffer', 3279: 'kritik', 3280: 'kritiker', 3281: 'kritisch', 3282: 'kritische', 3283: 'kritischer', 3284: 'kritisiert', 3285: 'kritisierte', 3286: 'kronen', 3287: 'krugman', 3288: 'krumau', 3289: 'kräfte', 3290: 'kräftigen', 3291: 'kräutern', 3292: 'krček', 3293: 'kubatov', 3294: 'kubatovs', 3295: 'kulisse', 3296: 'kultfilm', 3297: 'kultur', 3298: 'kunde', 3299: 'kunden', 3300: 'kundgebung', 3301: 'kunfehértó', 3302: 'kunststoffen', 3303: 'kurs', 3304: 'kursgewinne', 3305: 'kursverluste', 3306: 'kurz', 3307: 'kurzem', 3308: 'kurzer', 3309: 'kurzfristige', 3310: 'kurzsichtig', 3311: 'kurzzeitanleger', 3312: 'kurzzeitgedächtnis', 3313: 'kältetod', 3314: 'käme', 3315: 'kämen', 3316: 'kämpfen', 3317: 'käppchen', 3318: 'käufer', 3319: 'königliche', 3320: 'königreich', 3321: 'könne', 3322: 'können', 3323: 'könnte', 3324: 'könnten', 3325: 'köpfe', 3326: 'kündigten', 3327: 'künftigen', 3328: 'künstler', 3329: 'kürzer', 3330: 'kürzlich', 3331: 'kürzung', 3332: 'kürzungen', 3333: 'küste', 3334: 'la', 3335: 'laboruntersuchung', 3336: 'lados', 3337: 'lag', 3338: 'lage', 3339: 'lager', 3340: 'lagers', 3341: 'lance', 3342: 'land', 3343: 'landes', 3344: 'landesbank', 3345: 'landesbanken', 3346: 'landesbankensektor', 3347: 'landesweite', 3348: 'landnutzung', 3349: 'landtagswahl', 3350: 'landwirtschaft', 3351: 'lang', 3352: 'lange', 3353: 'langen', 3354: 'langer', 3355: 'langfristig', 3356: 'langfristige', 3357: 'langfristprojekte', 3358: 'langjährige', 3359: 'langjähriger', 3360: 'langsamer', 3361: 'langstrecken', 3362: 'langstreckenläufer', 3363: 'langzeitgläubigern', 3364: 'lassen', 3365: 'lateinamerikanischen', 3366: 'latinos', 3367: 'latte', 3368: 'lauf', 3369: 'laufe', 3370: 'laufen', 3371: 'laufenden', 3372: 'laufstieg', 3373: 'laufzeiten', 3374: 'laut', 3375: 'laute', 3376: 'lauten', 3377: 'lautet', 3378: 'lavernues', 3379: 'lavoro', 3380: 'lb', 3381: 'le', 3382: 'leadership', 3383: 'leaderships', 3384: 'lebe', 3385: 'lebedev', 3386: 'leben', 3387: 'lebens', 3388: 'lebensdauer', 3389: 'lebensfreude', 3390: 'lebensfähiges', 3391: 'lebenslauf', 3392: 'lebensmittel', 3393: 'lebensmittels', 3394: 'leberentzündung', 3395: 'leberkrebs', 3396: 'leberzirrhose', 3397: 'lebhafte', 3398: 'lebhaften', 3399: 'lebt', 3400: 'lebte', 3401: 'lederwaren', 3402: 'lediglich', 3403: 'ledoux', 3404: 'lee', 3405: 'leere', 3406: 'legen', 3407: 'legendären', 3408: 'legislatur', 3409: 'legitimation', 3410: 'legt', 3411: 'lehman', 3412: 'lehnte', 3413: 'lehnten', 3414: 'lehrer', 3415: 'leicht', 3416: 'leichte', 3417: 'leichten', 3418: 'leichter', 3419: 'leiden', 3420: 'leidenschaft', 3421: 'leider', 3422: 'leise', 3423: 'leistung', 3424: 'leistungen', 3425: 'leistungsabstand', 3426: 'leistungsfähiger', 3427: 'leiten', 3428: 'leitenden', 3429: 'leiter', 3430: 'leiterin', 3431: 'leitete', 3432: 'leitindex', 3433: 'leitlinien', 3434: 'leitsätze', 3435: 'leitung', 3436: 'lequipe', 3437: 'lernenden', 3438: 'lese', 3439: 'lesen', 3440: 'letzen', 3441: 'letzt', 3442: 'letzte', 3443: 'letzten', 3444: 'letztendlich', 3445: 'letztere', 3446: 'letztes', 3447: 'leugnet', 3448: 'leute', 3449: 'leuten', 3450: 'levesque', 3451: 'liberale', 3452: 'liberalen', 3453: 'libero', 3454: 'liebe', 3455: 'liebsten', 3456: 'lied', 3457: 'liedes', 3458: 'lief', 3459: 'lieferanten', 3460: 'lieferprognosen', 3461: 'liefert', 3462: 'lieferte', 3463: 'liegen', 3464: 'liegt', 3465: 'liessen', 3466: 'liest', 3467: 'ließ', 3468: 'ließe', 3469: 'ließen', 3470: 'linderung', 3471: 'linebacker', 3472: 'linien', 3473: 'linienbusses', 3474: 'link', 3475: 'linke', 3476: 'linken', 3477: 'links', 3478: 'linux', 3479: 'linz', 3480: 'liquidation', 3481: 'liste', 3482: 'liter', 3483: 'literatur', 3484: 'lithiumpolymerbatterien', 3485: 'litvin', 3486: 'lkw', 3487: 'lkwfahrer', 3488: 'llamazares', 3489: 'lle', 3490: 'llosa', 3491: 'loaf', 3492: 'loafs', 3493: 'locklaer', 3494: 'locklear', 3495: 'logischerweise', 3496: 'lohndynamiken', 3497: 'lohnt', 3498: 'loiero', 3499: 'loireatlantique', 3500: 'lokalen', 3501: 'lokalpolitiker', 3502: 'london', 3503: 'londoner', 3504: 'lope', 3505: 'lorenzo', 3506: 'los', 3507: 'lotto', 3508: 'lowcostfirmen', 3509: 'lps', 3510: 'luca', 3511: 'ludwik', 3512: 'luft', 3513: 'luhukay', 3514: 'luis', 3515: 'lukachenko', 3516: 'lukaschenkoopposition', 3517: 'lukrierten', 3518: 'lunchbox', 3519: 'lungenkrebs', 3520: 'luque', 3521: 'lust', 3522: 'lyn', 3523: 'lächeln', 3524: 'lächelnd', 3525: 'lächerlich', 3526: 'ländern', 3527: 'länger', 3528: 'längere', 3529: 'längerer', 3530: 'lässt', 3531: 'läuft', 3532: 'lívia', 3533: 'löcher', 3534: 'löhne', 3535: 'lösegeld', 3536: 'lösegeldes', 3537: 'lösegeldverhandlungen', 3538: 'lösten', 3539: 'lösungen', 3540: 'm', 3541: 'mac', 3542: 'mach', 3543: 'mache', 3544: 'machen', 3545: 'macht', 3546: 'machte', 3547: 'madrid', 3548: 'mafia', 3549: 'mafiagruppe', 3550: 'mag', 3551: 'magarsa', 3552: 'magazin', 3553: 'magazine', 3554: 'magyarországért', 3555: 'mai', 3556: 'mailand', 3557: 'mal', 3558: 'man', 3559: 'manche', 3560: 'manchmal', 3561: 'mangacomics', 3562: 'mangas', 3563: 'mangelhaft', 3564: 'mangelnde', 3565: 'mangini', 3566: 'mango', 3567: 'manhattan', 3568: 'manifestiert', 3569: 'manipulation', 3570: 'mann', 3571: 'mannschaft', 3572: 'mannschaftsrekord', 3573: 'manöver', 3574: 'marathon', 3575: 'marathonberatungen', 3576: 'marcel', 3577: 'marco', 3578: 'marcos', 3579: 'marek', 3580: 'maria', 3581: 'marin', 3582: 'marine', 3583: 'marken', 3584: 'marko', 3585: 'markt', 3586: 'markteintritt', 3587: 'marktes', 3588: 'marktexperten', 3589: 'marktplatz', 3590: 'marktposition', 3591: 'marktsegment', 3592: 'martin', 3593: 'martina', 3594: 'martinon', 3595: 'martínez', 3596: 'marzano', 3597: 'maschinen', 3598: 'masi', 3599: 'masri', 3600: 'masse', 3601: 'matadore', 3602: 'material', 3603: 'materialien', 3604: 'materie', 3605: 'mathe', 3606: 'matilde', 3607: 'mauer', 3608: 'mauern', 3609: 'maurern', 3610: 'max', 3611: 'maximal', 3612: 'maximalen', 3613: 'mayo', 3614: 'maß', 3615: 'maßnahme', 3616: 'maßnahmen', 3617: 'maßstab', 3618: 'mccain', 3619: 'mdax', 3620: 'meat', 3621: 'mechanismen', 3622: 'mediendschungel', 3623: 'medienkampagne', 3624: 'medikamente', 3625: 'medikamentes', 3626: 'meeresenergie', 3627: 'meg', 3628: 'megabyteschwerer', 3629: 'mehr', 3630: 'mehrere', 3631: 'mehreren', 3632: 'mehrheit', 3633: 'mehrheitlich', 3634: 'mehrhändig', 3635: 'mehrmals', 3636: 'mehrwertsteuer', 3637: 'meile', 3638: 'meilen', 3639: 'mein', 3640: 'meine', 3641: 'meinem', 3642: 'meinen', 3643: 'meiner', 3644: 'meines', 3645: 'meint', 3646: 'meinte', 3647: 'meinten', 3648: 'meinung', 3649: 'meist', 3650: 'meisten', 3651: 'meister', 3652: 'meldet', 3653: 'meldete', 3654: 'meldungen', 3655: 'memories', 3656: 'mendes', 3657: 'menge', 3658: 'mensch', 3659: 'menschen', 3660: 'menschliche', 3661: 'menschlichen', 3662: 'mentale', 3663: 'mentalität', 3664: 'mercandelli', 3665: 'merkel', 3666: 'merkwürdig', 3667: 'merl', 3668: 'messen', 3669: 'messers', 3670: 'messerscharf', 3671: 'metallenen', 3672: 'metallverarbeitenden', 3673: 'metern', 3674: 'methode', 3675: 'methoden', 3676: 'metier', 3677: 'mexikanische', 3678: 'mexiko', 3679: 'mi', 3680: 'miami', 3681: 'mich', 3682: 'michael', 3683: 'michel', 3684: 'michele', 3685: 'microsoft', 3686: 'microsofts', 3687: 'mietangebote', 3688: 'mieten', 3689: 'mietspreise', 3690: 'miguel', 3691: 'mikels', 3692: 'mikitenko', 3693: 'mikrofasern', 3694: 'milch', 3695: 'milliarde', 3696: 'milliarden', 3697: 'milliardenbetrages', 3698: 'milliardenhilfen', 3699: 'milliardenkredit', 3700: 'millionen', 3701: 'millioneneinwohnerstaates', 3702: 'milly', 3703: 'minaretten', 3704: 'mindestens', 3705: 'minimum', 3706: 'minister', 3707: 'ministerium', 3708: 'ministeriums', 3709: 'ministerkomitee', 3710: 'ministerpräsident', 3711: 'ministerrates', 3712: 'minnesota', 3713: 'minniti', 3714: 'minsk', 3715: 'minus', 3716: 'minuten', 3717: 'mio', 3718: 'mir', 3719: 'mirek', 3720: 'miroslav', 3721: 'miroslaw', 3722: 'miss', 3723: 'missachtend', 3724: 'missbrauch', 3725: 'missbraucht', 3726: 'mississippi', 3727: 'mit', 3728: 'mitarbeiter', 3729: 'mitbieten', 3730: 'mitbürger', 3731: 'miteinander', 3732: 'mitgeht', 3733: 'mitgeteilt', 3734: 'mitglieder', 3735: 'mithilfe', 3736: 'mittagessen', 3737: 'mitteilte', 3738: 'mitteilung', 3739: 'mittel', 3740: 'mittelfeldspieler', 3741: 'mitteln', 3742: 'mittelpunkt', 3743: 'mittels', 3744: 'mittelschulbildung', 3745: 'mittelstand', 3746: 'mittwoch', 3747: 'mitzubestimmen', 3748: 'mixes', 3749: 'mladen', 3750: 'mobile', 3751: 'mobilen', 3752: 'mobiles', 3753: 'mobilfunkanbieter', 3754: 'mobilfunkanbietern', 3755: 'mobilfunkanbieters', 3756: 'mobilfunkmarkt', 3757: 'mobilfunkmarktes', 3758: 'mobilking', 3759: 'mochten', 3760: 'mode', 3761: 'modell', 3762: 'modellierte', 3763: 'modells', 3764: 'modern', 3765: 'modernen', 3766: 'modernes', 3767: 'modernisierung', 3768: 'modetalenten', 3769: 'modewettbewerbs', 3770: 'molterer', 3771: 'moment', 3772: 'momentan', 3773: 'momentane', 3774: 'momenten', 3775: 'monat', 3776: 'monate', 3777: 'monaten', 3778: 'monopol', 3779: 'montag', 3780: 'montagmorgen', 3781: 'montreals', 3782: 'monumental', 3783: 'moralischer', 3784: 'morbihan', 3785: 'moreno', 3786: 'morgan', 3787: 'morgen', 3788: 'morgenmeeting', 3789: 'moschee', 3790: 'moscheen', 3791: 'moss', 3792: 'motto', 3793: 'mp', 3794: 'mpdateien', 3795: 'mpplayer', 3796: 'mpplayern', 3797: 'mrd', 3798: 'mrddollar', 3799: 'mri', 3800: 'mti', 3801: 'muffins', 3802: 'multiplexkinos', 3803: 'mundo', 3804: 'music', 3805: 'musik', 3806: 'musikalischen', 3807: 'musikalischer', 3808: 'musikbibliothek', 3809: 'musikgeräte', 3810: 'musikgeräten', 3811: 'musikhandys', 3812: 'musikklubs', 3813: 'musikpreisverleihung', 3814: 'muslemische', 3815: 'muslimischen', 3816: 'muss', 3817: 'musste', 3818: 'mussten', 3819: 'mutilati', 3820: 'mutter', 3821: 'mutual', 3822: 'mysteriöses', 3823: 'mythos', 3824: 'mächtige', 3825: 'mädchen', 3826: 'männer', 3827: 'männlichem', 3828: 'märkte', 3829: 'märkten', 3830: 'märz', 3831: 'mónica', 3832: 'möchte', 3833: 'möchten', 3834: 'möglich', 3835: 'mögliche', 3836: 'möglichen', 3837: 'möglicher', 3838: 'möglicherweise', 3839: 'möglichkeit', 3840: 'möglichkeiten', 3841: 'münchner', 3842: 'müsse', 3843: 'müssen', 3844: 'müsste', 3845: 'müssten', 3846: 'mütter', 3847: 'můj', 3848: 'nabelschnur', 3849: 'nabelschnurblutprobe', 3850: 'nach', 3851: 'nachbarn', 3852: 'nachbarschaft', 3853: 'nachdem', 3854: 'nachdruck', 3855: 'nachfolger', 3856: 'nachfrage', 3857: 'nachgelagerten', 3858: 'nachgewiesen', 3859: 'nachhaltigen', 3860: 'nachhaltiger', 3861: 'nachkaufen', 3862: 'nachkriegsgeschichte', 3863: 'nachlassende', 3864: 'nachmittagsstunden', 3865: 'nachricht', 3866: 'nachrichten', 3867: 'nachrichtenagentur', 3868: 'nachrichtenmagazins', 3869: 'nacht', 3870: 'nachteile', 3871: 'nachts', 3872: 'nachweisbar', 3873: 'nachweisen', 3874: 'nachzuahmen', 3875: 'nacionales', 3876: 'nahe', 3877: 'nahezu', 3878: 'nahm', 3879: 'nahverkehrs', 3880: 'naiv', 3881: 'naja', 3882: 'name', 3883: 'namen', 3884: 'namenlosen', 3885: 'naomi', 3886: 'naomis', 3887: 'napolitano', 3888: 'narzisstischen', 3889: 'nasdag', 3890: 'nasdaq', 3891: 'nati', 3892: 'nation', 3893: 'nationalcharakters', 3894: 'nationalen', 3895: 'nationalhymne', 3896: 'nationalistischen', 3897: 'nationalitäten', 3898: 'nationallied', 3899: 'nationalspieler', 3900: 'nationaltheaters', 3901: 'nationen', 3902: 'natur', 3903: 'natürlich', 3904: 'nazionale', 3905: 'ndrangheta', 3906: 'neapel', 3907: 'neben', 3908: 'neffen', 3909: 'negative', 3910: 'nehme', 3911: 'nehmen', 3912: 'nehmende', 3913: 'neigen', 3914: 'nein', 3915: 'nennen', 3916: 'neokeynesianer', 3917: 'nervensystems', 3918: 'nervösen', 3919: 'nettoerträge', 3920: 'netz', 3921: 'netzbetreibers', 3922: 'netzes', 3923: 'netzwerk', 3924: 'neu', 3925: 'neuartig', 3926: 'neue', 3927: 'neuen', 3928: 'neuentdeckung', 3929: 'neuer', 3930: 'neueste', 3931: 'neuesten', 3932: 'neugepflasterten', 3933: 'neuheit', 3934: 'neuheiten', 3935: 'neun', 3936: 'neunzigsten', 3937: 'neurale', 3938: 'neuralen', 3939: 'neurologen', 3940: 'neurologischen', 3941: 'neurotiker', 3942: 'neurowissenschaftler', 3943: 'neuverteilung', 3944: 'neuwahlen', 3945: 'nevada', 3946: 'neves', 3947: 'new', 3948: 'newman', 3949: 'newmans', 3950: 'newsroom', 3951: 'nicht', 3952: 'nichtformalen', 3953: 'nichts', 3954: 'nichtstun', 3955: 'nickel', 3956: 'nickte', 3957: 'nie', 3958: 'nieder', 3959: 'niedergang', 3960: 'niederlage', 3961: 'niederlegt', 3962: 'niedersachsen', 3963: 'niedlich', 3964: 'niedrigem', 3965: 'niedriger', 3966: 'niedrigsten', 3967: 'niemals', 3968: 'niemand', 3969: 'nikkei', 3970: 'nissan', 3971: 'niveau', 3972: 'nixon', 3973: 'noch', 3974: 'nochmals', 3975: 'noir', 3976: 'nominierungen', 3977: 'nora', 3978: 'nord', 3979: 'norden', 3980: 'nordens', 3981: 'norm', 3982: 'normale', 3983: 'normalen', 3984: 'normalerweise', 3985: 'northern', 3986: 'norwegischen', 3987: 'not', 3988: 'notenbanken', 3989: 'notfall', 3990: 'notfallmaßnahmen', 3991: 'notfallversammlung', 3992: 'notfällen', 3993: 'notiert', 3994: 'notierte', 3995: 'notwendig', 3996: 'notwendige', 3997: 'notwendigen', 3998: 'notwendigkeit', 3999: 'notwenigkeit', 4000: 'novera', 4001: 'nst', 4002: 'nukleinsäuretests', 4003: 'null', 4004: 'nummer', 4005: 'nummern', 4006: 'nun', 4007: 'nunmehr', 4008: 'nur', 4009: 'nurmehr', 4010: 'nutzen', 4011: 'nutzlos', 4012: 'nutzt', 4013: 'nutzte', 4014: 'nutzung', 4015: 'nyíregyháza', 4016: 'nächsten', 4017: 'nächster', 4018: 'nächstes', 4019: 'nächte', 4020: 'nähe', 4021: 'nährt', 4022: 'nämlich', 4023: 'nötig', 4024: 'nötigen', 4025: 'nützliche', 4026: 'o', 4027: 'ob', 4028: 'obama', 4029: 'obamas', 4030: 'oben', 4031: 'oberausschusses', 4032: 'oberbürgermeister', 4033: 'obere', 4034: 'oberfläche', 4035: 'oberflächlich', 4036: 'obersten', 4037: 'oberstes', 4038: 'obskure', 4039: 'obwohl', 4040: 'ocean', 4041: 'oder', 4042: 'ods', 4043: 'oecd', 4044: 'of', 4045: 'offen', 4046: 'offenbar', 4047: 'offenbart', 4048: 'offensichtlich', 4049: 'offerte', 4050: 'office', 4051: 'offiziellem', 4052: 'offiziellen', 4053: 'offizieller', 4054: 'oft', 4055: 'oh', 4056: 'ohio', 4057: 'ohne', 4058: 'ohr', 4059: 'oktober', 4060: 'oktoberfest', 4061: 'oktoberplatz', 4062: 'oktoberwochenende', 4063: 'oliver', 4064: 'olmert', 4065: 'olympischen', 4066: 'online', 4067: 'onlineausgabe', 4068: 'onlineleben', 4069: 'open', 4070: 'opencard', 4071: 'openoffice', 4072: 'openofficeorg', 4073: 'openskiesabkommen', 4074: 'opfer', 4075: 'opfers', 4076: 'oppenheim', 4077: 'opposition', 4078: 'oppositionelle', 4079: 'oppositionellen', 4080: 'oppositionskandidaten', 4081: 'oppositionspolitiker', 4082: 'option', 4083: 'optionsvermehrung', 4084: 'orange', 4085: 'orangen', 4086: 'orangensaft', 4087: 'orchester', 4088: 'ordnet', 4089: 'organisation', 4090: 'organisationen', 4091: 'organischen', 4092: 'organisiert', 4093: 'organisierten', 4094: 'orientalische', 4095: 'orientierungslos', 4096: 'orlando', 4097: 'orlandos', 4098: 'ort', 4099: 'orte', 4100: 'orten', 4101: 'ortsansässige', 4102: 'orwellsche', 4103: 'os', 4104: 'oskar', 4105: 'ostiense', 4106: 'ostsee', 4107: 'otakar', 4108: 'out', 4109: 'outing', 4110: 'oxford', 4111: 'paar', 4112: 'pablo', 4113: 'packen', 4114: 'packten', 4115: 'paco', 4116: 'padua', 4117: 'paketes', 4118: 'palazzo', 4119: 'palästinensern', 4120: 'pankseep', 4121: 'papierherstellung', 4122: 'parade', 4123: 'paradebeispiel', 4124: 'paradiso', 4125: 'paradox', 4126: 'paradoxen', 4127: 'paradoxer', 4128: 'paris', 4129: 'parklatz', 4130: 'parkplatz', 4131: 'parkplatzes', 4132: 'parlament', 4133: 'partei', 4134: 'parteibasis', 4135: 'parteichef', 4136: 'parteichefs', 4137: 'parteien', 4138: 'parteiinternen', 4139: 'parteitag', 4140: 'parti', 4141: 'partner', 4142: 'party', 4143: 'partyfotos', 4144: 'pass', 4145: 'passanten', 4146: 'passkontrolle', 4147: 'passt', 4148: 'pate', 4149: 'patienten', 4150: 'patria', 4151: 'patrick', 4152: 'paul', 4153: 'paulsen', 4154: 'paulson', 4155: 'pause', 4156: 'pausenbrote', 4157: 'pavel', 4158: 'pc', 4159: 'pdfdateien', 4160: 'pearl', 4161: 'pecorella', 4162: 'peeptoes', 4163: 'peitsche', 4164: 'pelletier', 4165: 'pelosi', 4166: 'pence', 4167: 'pension', 4168: 'pensionen', 4169: 'penta', 4170: 'pepa', 4171: 'perdition', 4172: 'perfekt', 4173: 'perfekte', 4174: 'perros', 4175: 'person', 4176: 'personal', 4177: 'personalized', 4178: 'personen', 4179: 'perspektive', 4180: 'persönlich', 4181: 'persönliche', 4182: 'persönlichen', 4183: 'persönlichkeit', 4184: 'persönlichkeiten', 4185: 'pessimistisch', 4186: 'petitionen', 4187: 'petr', 4188: 'petric', 4189: 'pew', 4190: 'pflaster', 4191: 'pflastern', 4192: 'pflicht', 4193: 'pflichten', 4194: 'pflichtet', 4195: 'pflichtgang', 4196: 'pfund', 4197: 'physikalischen', 4198: 'physiker', 4199: 'physiotherapeut', 4200: 'phänomen', 4201: 'phänomene', 4202: 'phänomens', 4203: 'picasso', 4204: 'piegza', 4205: 'pierre', 4206: 'pilgerstätte', 4207: 'pilotenprojekt', 4208: 'pilsen', 4209: 'piromalli', 4210: 'place', 4211: 'plachetka', 4212: 'plan', 4213: 'planmäßig', 4214: 'plans', 4215: 'plant', 4216: 'planten', 4217: 'planung', 4218: 'platini', 4219: 'platonisches', 4220: 'plattenspieler', 4221: 'plattform', 4222: 'platz', 4223: 'player', 4224: 'playern', 4225: 'pleite', 4226: 'plenum', 4227: 'plymouth', 4228: 'pläne', 4229: 'plänen', 4230: 'plätze', 4231: 'plötzlich', 4232: 'podium', 4233: 'poeta', 4234: 'pokorný', 4235: 'polen', 4236: 'politik', 4237: 'politiker', 4238: 'politische', 4239: 'politischen', 4240: 'politischer', 4241: 'politisches', 4242: 'politologen', 4243: 'polizei', 4244: 'polizeieinheit', 4245: 'polizeisprecher', 4246: 'polizeistreife', 4247: 'polizisten', 4248: 'polnischen', 4249: 'pont', 4250: 'populär', 4251: 'portrait', 4252: 'porträts', 4253: 'portugal', 4254: 'position', 4255: 'positionen', 4256: 'positiv', 4257: 'positive', 4258: 'positiven', 4259: 'potenzial', 4260: 'potenzielle', 4261: 'potenziellen', 4262: 'poveda', 4263: 'power', 4264: 'pozoblanco', 4265: 'prager', 4266: 'praktisch', 4267: 'praktische', 4268: 'praktischer', 4269: 'praktizieren', 4270: 'praktiziert', 4271: 'prangerte', 4272: 'preis', 4273: 'preisangebote', 4274: 'preisanstieg', 4275: 'preise', 4276: 'preiseinbruch', 4277: 'preiserhöhung', 4278: 'preiskategorie', 4279: 'preislisten', 4280: 'preisrückgang', 4281: 'preissenkung', 4282: 'preissteigerungen', 4283: 'preisvergabe', 4284: 'preiswerten', 4285: 'preisänderungen', 4286: 'premierminister', 4287: 'premierministerin', 4288: 'premierministers', 4289: 'premiers', 4290: 'premium', 4291: 'prenestina', 4292: 'prep', 4293: 'presse', 4294: 'pressearbeit', 4295: 'pressebüro', 4296: 'presseschau', 4297: 'pressesprecher', 4298: 'pressesprecherin', 4299: 'primaten', 4300: 'primären', 4301: 'princeton', 4302: 'prinzip', 4303: 'prinzipien', 4304: 'privatbank', 4305: 'privatbanken', 4306: 'privatbereich', 4307: 'privaten', 4308: 'privathaushalten', 4309: 'privatisierung', 4310: 'privatleben', 4311: 'pro', 4312: 'probanden', 4313: 'problem', 4314: 'problematik', 4315: 'problematische', 4316: 'probleme', 4317: 'problemen', 4318: 'produktes', 4319: 'produktionen', 4320: 'produktionssektoren', 4321: 'produzieren', 4322: 'produziert', 4323: 'produzierten', 4324: 'profil', 4325: 'profilieren', 4326: 'profiliert', 4327: 'profitieren', 4328: 'prognosen', 4329: 'prognostiziert', 4330: 'programm', 4331: 'programme', 4332: 'programmes', 4333: 'programms', 4334: 'projekt', 4335: 'projekte', 4336: 'projektes', 4337: 'projekts', 4338: 'projiziert', 4339: 'promoten', 4340: 'promotion', 4341: 'protest', 4342: 'protestmaßnahmen', 4343: 'protestmärsche', 4344: 'provider', 4345: 'providers', 4346: 'provinzen', 4347: 'provisorischen', 4348: 'proxy', 4349: 'prozent', 4350: 'prozentig', 4351: 'prozentigen', 4352: 'prozentpunkte', 4353: 'prozentsatz', 4354: 'prozess', 4355: 'prozesses', 4356: 'präfektur', 4357: 'präfrontalen', 4358: 'präsentation', 4359: 'präsentationsvideo', 4360: 'präsentieren', 4361: 'präsentiert', 4362: 'präsident', 4363: 'präsidenten', 4364: 'präsidentschaftskandidaten', 4365: 'präsidentschaftswahlen', 4366: 'präsidiums', 4367: 'prävention', 4368: 'präzise', 4369: 'pseudovirtueller', 4370: 'psychologe', 4371: 'psychologie', 4372: 'psychologisch', 4373: 'psychologische', 4374: 'pubblica', 4375: 'publikum', 4376: 'publizierten', 4377: 'pult', 4378: 'pumpen', 4379: 'punkt', 4380: 'punkte', 4381: 'punktemarke', 4382: 'punkten', 4383: 'punkteverlust', 4384: 'pzpn', 4385: 'pädophilie', 4386: 'pérez', 4387: 'pünktlichkeit', 4388: 'q', 4389: 'qgs', 4390: 'quaid', 4391: 'quaids', 4392: 'quaife', 4393: 'qualitativ', 4394: 'qualitätskategorien', 4395: 'quartal', 4396: 'quarterback', 4397: 'quasi', 4398: 'quebec', 4399: 'quellen', 4400: 'quiberon', 4401: 'quirinale', 4402: 'quo', 4403: 'québécois', 4404: 'rachel', 4405: 'rachsüchtiger', 4406: 'radcliff', 4407: 'radikalerer', 4408: 'radiohits', 4409: 'rahm', 4410: 'rahmen', 4411: 'ramsay', 4412: 'ramón', 4413: 'ranch', 4414: 'rand', 4415: 'rande', 4416: 'randle', 4417: 'rassenvermischung', 4418: 'rassisten', 4419: 'rassistisch', 4420: 'rassistische', 4421: 'rat', 4422: 'raten', 4423: 'rates', 4424: 'rathäuser', 4425: 'ratlosigkeit', 4426: 'ratschläge', 4427: 'ratspräsidentschaft', 4428: 'ratte', 4429: 'ratten', 4430: 'raum', 4431: 'raumfahrt', 4432: 'raums', 4433: 'raumsonde', 4434: 'raumsonden', 4435: 'ravenna', 4436: 'reagieren', 4437: 'reagiert', 4438: 'reaktion', 4439: 'reaktionen', 4440: 'real', 4441: 'rechnen', 4442: 'rechnet', 4443: 'rechnung', 4444: 'rechnungen', 4445: 'rechnungsblöcke', 4446: 'rechnungsfabrik', 4447: 'rechnungsformat', 4448: 'rechnungsfälscher', 4449: 'rechnungsfälschung', 4450: 'rechnungsleger', 4451: 'recht', 4452: 'rechte', 4453: 'rechtliche', 4454: 'rechtsanwalt', 4455: 'rechtsbeschwerde', 4456: 'rechtsexperten', 4457: 'rechtsextremisten', 4458: 'rechtsrutsch', 4459: 'rechtsvorschrift', 4460: 'rechtzeitig', 4461: 'rechtzeitiges', 4462: 'recién', 4463: 'redakteure', 4464: 'rede', 4465: 'reden', 4466: 'rederecht', 4467: 'redeten', 4468: 'redmond', 4469: 'reduziert', 4470: 'rees', 4471: 'refinanzierung', 4472: 'reformismus', 4473: 'regel', 4474: 'regeln', 4475: 'regelung', 4476: 'regelverstöße', 4477: 'regieren', 4478: 'regierung', 4479: 'regierungen', 4480: 'region', 4481: 'regionalen', 4482: 'regionen', 4483: 'regisseur', 4484: 'regisseurs', 4485: 'register', 4486: 'registrieren', 4487: 'registriert', 4488: 'regnete', 4489: 'regulierung', 4490: 'regulierungsbehörde', 4491: 'regulierungsbehörden', 4492: 'regulierungsorgane', 4493: 'reichender', 4494: 'reifen', 4495: 'reihe', 4496: 'rein', 4497: 'reinhardt', 4498: 'reinigen', 4499: 'reis', 4500: 'reise', 4501: 'reiseführer', 4502: 'reisen', 4503: 'reisende', 4504: 'reisenden', 4505: 'reizvoll', 4506: 'reißt', 4507: 'relativ', 4508: 'relevanten', 4509: 'religiösen', 4510: 'renato', 4511: 'renommierten', 4512: 'renovieren', 4513: 'reportern', 4514: 'repräsentantenhaus', 4515: 'repräsentantenhauses', 4516: 'repräsentierte', 4517: 'republik', 4518: 'republikaner', 4519: 'republikanern', 4520: 'republikanische', 4521: 'republikanischer', 4522: 'research', 4523: 'reserviert', 4524: 'resozialisierung', 4525: 'rest', 4526: 'restaurants', 4527: 'restlichen', 4528: 'resultat', 4529: 'retter', 4530: 'retterin', 4531: 'rettete', 4532: 'rettung', 4533: 'rettungsaktion', 4534: 'rettungspaket', 4535: 'rettungspakete', 4536: 'rettungspaketgesetzes', 4537: 'rettungspakets', 4538: 'rettungsplan', 4539: 'rettungsplanes', 4540: 'rettungsplans', 4541: 'rettungspläne', 4542: 'reuters', 4543: 'revis', 4544: 'revolten', 4545: 'revolution', 4546: 'revolutionären', 4547: 'rezeptionistin', 4548: 'rheinlandpfalz', 4549: 'riahi', 4550: 'rialto', 4551: 'ribeiro', 4552: 'rice', 4553: 'richard', 4554: 'richter', 4555: 'richtet', 4556: 'richtig', 4557: 'richtiger', 4558: 'richtung', 4559: 'richtungen', 4560: 'richtungswechsel', 4561: 'rieger', 4562: 'riesigen', 4563: 'rinderwahnsinns', 4564: 'risiko', 4565: 'risikoträchtig', 4566: 'riss', 4567: 'rivale', 4568: 'river', 4569: 'road', 4570: 'roaminggebühren', 4571: 'robert', 4572: 'rock', 4573: 'rockstar', 4574: 'roger', 4575: 'rohstoffen', 4576: 'rohöltermingeschäfte', 4577: 'rohölverarbeitung', 4578: 'rolle', 4579: 'rollen', 4580: 'rom', 4581: 'roma', 4582: 'romajugendlichen', 4583: 'romakindern', 4584: 'romanschriftsteller', 4585: 'romeo', 4586: 'roms', 4587: 'rosario', 4588: 'rosenkrieg', 4589: 'rossen', 4590: 'rot', 4591: 'rote', 4592: 'rotschwarz', 4593: 'routinemäßigen', 4594: 'roy', 4595: 'rscg', 4596: 'rudd', 4597: 'rufen', 4598: 'ruft', 4599: 'ruhe', 4600: 'ruhen', 4601: 'ruhig', 4602: 'ruhigen', 4603: 'ruhmes', 4604: 'ruhmreichen', 4605: 'rumäne', 4606: 'rumänischen', 4607: 'rund', 4608: 'runde', 4609: 'rundfunk', 4610: 'runter', 4611: 'russell', 4612: 'russische', 4613: 'russland', 4614: 'rutschte', 4615: 'ryan', 4616: 'ryans', 4617: 'rät', 4618: 'räumte', 4619: 'réunion', 4620: 'révfülöp', 4621: 'röhren', 4622: 'rückgabe', 4623: 'rückgang', 4624: 'rücksicht', 4625: 'rückspiel', 4626: 'rückte', 4627: 'rückwärts', 4628: 'rückzug', 4629: 'rührende', 4630: 'saal', 4631: 'sache', 4632: 'sachen', 4633: 'sachs', 4634: 'sagen', 4635: 'sagt', 4636: 'sagte', 4637: 'sagten', 4638: 'sah', 4639: 'sahara', 4640: 'sahen', 4641: 'saint', 4642: 'saison', 4643: 'sal', 4644: 'sally', 4645: 'sam', 4646: 'sammelbegriff', 4647: 'sammlung', 4648: 'samstag', 4649: 'samstagabend', 4650: 'samstagnachmittag', 4651: 'sandrina', 4652: 'sangre', 4653: 'sank', 4654: 'sanken', 4655: 'sanktionen', 4656: 'santander', 4657: 'sarkozy', 4658: 'sastre', 4659: 'satz', 4660: 'saß', 4661: 'scanner', 4662: 'schabe', 4663: 'schadet', 4664: 'schaffen', 4665: 'schafft', 4666: 'schafften', 4667: 'schalen', 4668: 'schalter', 4669: 'schaltkreise', 4670: 'schaltkreisen', 4671: 'schande', 4672: 'scharen', 4673: 'scharf', 4674: 'schatten', 4675: 'schau', 4676: 'schaue', 4677: 'schauspieler', 4678: 'schauspielerin', 4679: 'schauspielers', 4680: 'scheich', 4681: 'scheiden', 4682: 'scheidung', 4683: 'scheinbar', 4684: 'scheinen', 4685: 'scheint', 4686: 'scheitern', 4687: 'scheiterte', 4688: 'schenken', 4689: 'scherz', 4690: 'schiavone', 4691: 'schicken', 4692: 'schicksal', 4693: 'schicksals', 4694: 'schieben', 4695: 'schien', 4696: 'schießerei', 4697: 'schiitischen', 4698: 'schild', 4699: 'schilder', 4700: 'schildert', 4701: 'schimmer', 4702: 'schimpfen', 4703: 'schlaf', 4704: 'schlafen', 4705: 'schlaflose', 4706: 'schlafplatz', 4707: 'schlafstörung', 4708: 'schlag', 4709: 'schlagendes', 4710: 'schlampigem', 4711: 'schlange', 4712: 'schlaumeier', 4713: 'schlecht', 4714: 'schlechte', 4715: 'schlechten', 4716: 'schlechter', 4717: 'schlechtes', 4718: 'schleifpapier', 4719: 'schlicht', 4720: 'schlichtweg', 4721: 'schließen', 4722: 'schließlich', 4723: 'schließt', 4724: 'schließung', 4725: 'schlimmer', 4726: 'schloss', 4727: 'schlurfen', 4728: 'schluss', 4729: 'schlussstrich', 4730: 'schlägt', 4731: 'schmecken', 4732: 'schmerzen', 4733: 'schmetterlings', 4734: 'schmidt', 4735: 'schmutziger', 4736: 'schneide', 4737: 'schnell', 4738: 'schnellbericht', 4739: 'schnelle', 4740: 'schneller', 4741: 'schnelles', 4742: 'schnellstens', 4743: 'schnitt', 4744: 'schocken', 4745: 'schockierend', 4746: 'schockiert', 4747: 'schon', 4748: 'schoss', 4749: 'schottland', 4750: 'schreiben', 4751: 'schreibt', 4752: 'schrie', 4753: 'schrieb', 4754: 'schriftliche', 4755: 'schriftstellerin', 4756: 'schritt', 4757: 'schritte', 4758: 'schritten', 4759: 'schrott', 4760: 'schub', 4761: 'schuld', 4762: 'schulden', 4763: 'schuldenlast', 4764: 'schuldig', 4765: 'schule', 4766: 'schulen', 4767: 'schuljahr', 4768: 'schulrahmen', 4769: 'schultag', 4770: 'schuluniform', 4771: 'schulweg', 4772: 'schuss', 4773: 'schutz', 4774: 'schutzes', 4775: 'schwachen', 4776: 'schwarz', 4777: 'schwarze', 4778: 'schwarzen', 4779: 'schwebenden', 4780: 'schweigens', 4781: 'schwer', 4782: 'schweren', 4783: 'schwerkraft', 4784: 'schwerlich', 4785: 'schwerpunkt', 4786: 'schwerwiegende', 4787: 'schwester', 4788: 'schwesterpartei', 4789: 'schwierig', 4790: 'schwierigkeiten', 4791: 'schwächelnde', 4792: 'schwächste', 4793: 'schäden', 4794: 'schätze', 4795: 'schätzen', 4796: 'schätzt', 4797: 'schäumt', 4798: 'schön', 4799: 'schönen', 4800: 'schönheit', 4801: 'schönsten', 4802: 'schüchtern', 4803: 'schüler', 4804: 'schülern', 4805: 'schützen', 4806: 'science', 4807: 'screenshot', 4808: 'scuola', 4809: 'search', 4810: 'sechs', 4811: 'sechsmonatige', 4812: 'second', 4813: 'seelenstriptease', 4814: 'seeleute', 4815: 'segelhafen', 4816: 'segmenten', 4817: 'segregation', 4818: 'sehen', 4819: 'sehr', 4820: 'sei', 4821: 'seien', 4822: 'sein', 4823: 'seine', 4824: 'seinem', 4825: 'seinen', 4826: 'seiner', 4827: 'seinerseits', 4828: 'seines', 4829: 'seit', 4830: 'seitdem', 4831: 'seite', 4832: 'seiten', 4833: 'seitenhieb', 4834: 'seitens', 4835: 'seitlichen', 4836: 'sektor', 4837: 'sektoren', 4838: 'sekunde', 4839: 'sekunden', 4840: 'sekundenbruchteilen', 4841: 'selben', 4842: 'selber', 4843: 'selbst', 4844: 'selbstbedienungsautomaten', 4845: 'selbstbelohnung', 4846: 'selbstbildes', 4847: 'selbstmord', 4848: 'selbstregierung', 4849: 'selbstverständlich', 4850: 'selbstverwaltung', 4851: 'selten', 4852: 'seltener', 4853: 'seltenheit', 4854: 'seltsam', 4855: 'senat', 4856: 'senator', 4857: 'senators', 4858: 'senats', 4859: 'sender', 4860: 'sendezeit', 4861: 'seng', 4862: 'seniors', 4863: 'senken', 4864: 'senkt', 4865: 'sensation', 4866: 'sensex', 4867: 'sensibilisierung', 4868: 'sensibilität', 4869: 'sentinel', 4870: 'september', 4871: 'sergej', 4872: 'serie', 4873: 'seriösen', 4874: 'server', 4875: 'seth', 4876: 'setzen', 4877: 'setzt', 4878: 'sevilla', 4879: 'sexualstraftäter', 4880: 'sexuell', 4881: 'shaun', 4882: 'sherman', 4883: 'shot', 4884: 'sich', 4885: 'sicher', 4886: 'sicheren', 4887: 'sichergestellt', 4888: 'sicherheit', 4889: 'sicherheitsbeamten', 4890: 'sicherheitsgründen', 4891: 'sicherheitsleuten', 4892: 'sicherlich', 4893: 'sicht', 4894: 'sichtweise', 4895: 'sie', 4896: 'sieben', 4897: 'siebzigjährige', 4898: 'sieg', 4899: 'siegestor', 4900: 'siehe', 4901: 'sieht', 4902: 'signal', 4903: 'signalisieren', 4904: 'silva', 4905: 'simplen', 4906: 'sind', 4907: 'singen', 4908: 'single', 4909: 'sinken', 4910: 'sinkt', 4911: 'sinne', 4912: 'sinnlich', 4913: 'sir', 4914: 'situation', 4915: 'sitz', 4916: 'sitzenden', 4917: 'sitzung', 4918: 'sixth', 4919: 'skandal', 4920: 'skandalen', 4921: 'skepsis', 4922: 'skeptiker', 4923: 'sky', 4924: 'slap', 4925: 'slogan', 4926: 'slot', 4927: 'slowenische', 4928: 'smaghi', 4929: 'smartphons', 4930: 'smith', 4931: 'sms', 4932: 'so', 4933: 'sobald', 4934: 'sobolewski', 4935: 'soccer', 4936: 'society', 4937: 'sodann', 4938: 'soeben', 4939: 'sofort', 4940: 'sofortigen', 4941: 'software', 4942: 'sog', 4943: 'sogar', 4944: 'sogenannter', 4945: 'sohn', 4946: 'solange', 4947: 'solche', 4948: 'solchen', 4949: 'solcher', 4950: 'solches', 4951: 'soldaten', 4952: 'soll', 4953: 'sollen', 4954: 'sollte', 4955: 'sollten', 4956: 'sologesang', 4957: 'somit', 4958: 'sommerregen', 4959: 'sonden', 4960: 'sonderlich', 4961: 'song', 4962: 'sonne', 4963: 'sonnensonde', 4964: 'sonntag', 4965: 'sonntagabend', 4966: 'sonntagsausgabe', 4967: 'sonst', 4968: 'sony', 4969: 'sorgen', 4970: 'sorgt', 4971: 'sorgte', 4972: 'source', 4973: 'sowie', 4974: 'sowohl', 4975: 'soziale', 4976: 'sozialen', 4977: 'sozialistischen', 4978: 'sozialminister', 4979: 'sozialsystems', 4980: 'soziologen', 4981: 'spaghetti', 4982: 'spanien', 4983: 'spanier', 4984: 'spanische', 4985: 'spanischen', 4986: 'spanischer', 4987: 'spannendes', 4988: 'spannung', 4989: 'sparen', 4990: 'sparkassen', 4991: 'sparkassenfinanzgruppe', 4992: 'speichermedien', 4993: 'speichermedium', 4994: 'speichern', 4995: 'spektakuläre', 4996: 'spekulationen', 4997: 'spekulative', 4998: 'spendernetzes', 4999: 'sperre', 5000: 'spesen', 5001: 'spezialermittler', 5002: 'spezialermittlerin', 5003: 'spezialermittlers', 5004: 'speziell', 5005: 'spezielle', 5006: 'speziellen', 5007: 'spezies', 5008: 'spezifik', 5009: 'spezifika', 5010: 'spezifisch', 5011: 'spiderman', 5012: 'spiegel', 5013: 'spiegelde', 5014: 'spiegelte', 5015: 'spiel', 5016: 'spiele', 5017: 'spielen', 5018: 'spielenden', 5019: 'spielfeld', 5020: 'spielminute', 5021: 'spielt', 5022: 'spielte', 5023: 'spielten', 5024: 'spitze', 5025: 'splitter', 5026: 'sportlager', 5027: 'sportler', 5028: 'sportminister', 5029: 'spots', 5030: 'sprach', 5031: 'sprache', 5032: 'sprachen', 5033: 'sprachlichen', 5034: 'sprechen', 5035: 'sprecher', 5036: 'sprecherin', 5037: 'spricht', 5038: 'springen', 5039: 'sprühten', 5040: 'spuren', 5041: 'spurenbeseitigung', 5042: 'spät', 5043: 'späten', 5044: 'später', 5045: 'späterer', 5046: 'spätnachmittag', 5047: 'spö', 5048: 'spöchef', 5049: 'spüren', 5050: 'square', 5051: 'staat', 5052: 'staaten', 5053: 'staates', 5054: 'staatliche', 5055: 'staatlichkeit', 5056: 'staats', 5057: 'staatsangehörigkeit', 5058: 'staatsanwalt', 5059: 'staatsanwaltsaffäre', 5060: 'staatsanwaltschaft', 5061: 'staatsanwälte', 5062: 'staatschef', 5063: 'staatsfernsehen', 5064: 'staatsfinanzierer', 5065: 'staatsfinanzierung', 5066: 'staatskasse', 5067: 'staatsprüfung', 5068: 'staatssymbole', 5069: 'stabil', 5070: 'stabilisierung', 5071: 'stadien', 5072: 'stadt', 5073: 'stadtbus', 5074: 'stadtbusse', 5075: 'stadtrand', 5076: 'stadtverwaltung', 5077: 'stadtverwaltungsabteilung', 5078: 'stadtzentrum', 5079: 'stammfiliale', 5080: 'stammt', 5081: 'stand', 5082: 'standpunkt', 5083: 'standstreifen', 5084: 'stapel', 5085: 'starb', 5086: 'stark', 5087: 'starsauftritte', 5088: 'start', 5089: 'statische', 5090: 'statistikamt', 5091: 'statistiken', 5092: 'statt', 5093: 'stattdessen', 5094: 'status', 5095: 'staub', 5096: 'staubigen', 5097: 'stehen', 5098: 'stehplätze', 5099: 'steht', 5100: 'steigen', 5101: 'steigenden', 5102: 'steigerung', 5103: 'steigt', 5104: 'steilen', 5105: 'stelle', 5106: 'stellen', 5107: 'stellt', 5108: 'stellte', 5109: 'stellten', 5110: 'stellung', 5111: 'stellungnahme', 5112: 'stellvertretende', 5113: 'stellvertreter', 5114: 'stempel', 5115: 'stephen', 5116: 'stephens', 5117: 'stern', 5118: 'sterne', 5119: 'sternvollen', 5120: 'stets', 5121: 'steuer', 5122: 'steuerliche', 5123: 'steuernummer', 5124: 'steuerungsfunktionen', 5125: 'steuerzahler', 5126: 'steve', 5127: 'steward', 5128: 'stewardess', 5129: 'stewardessen', 5130: 'stewards', 5131: 'stieftochter', 5132: 'stiefvater', 5133: 'stiefvaters', 5134: 'stieg', 5135: 'stiegen', 5136: 'stierkampffeste', 5137: 'stierkämpfer', 5138: 'stiers', 5139: 'stiftung', 5140: 'stil', 5141: 'stilistischer', 5142: 'still', 5143: 'stille', 5144: 'stimme', 5145: 'stimmen', 5146: 'stimmt', 5147: 'stimmverlust', 5148: 'sting', 5149: 'stirbt', 5150: 'stoiber', 5151: 'stolz', 5152: 'stoppt', 5153: 'strache', 5154: 'strafe', 5155: 'strafgerichtshof', 5156: 'strafkammer', 5157: 'strafprozess', 5158: 'strang', 5159: 'strapazen', 5160: 'strategiewechsel', 5161: 'strategischen', 5162: 'straße', 5163: 'straßen', 5164: 'straßenbahn', 5165: 'straßenbauplänen', 5166: 'straßenfahrzeuge', 5167: 'straßenschilder', 5168: 'straßenverkehr', 5169: 'strecke', 5170: 'strecken', 5171: 'street', 5172: 'streichung', 5173: 'streik', 5174: 'streit', 5175: 'streng', 5176: 'stress', 5177: 'strikt', 5178: 'strittigen', 5179: 'strom', 5180: 'stromgewinnungsforschung', 5181: 'strophe', 5182: 'strömungen', 5183: 'student', 5184: 'studenten', 5185: 'studentinnen', 5186: 'studie', 5187: 'studieren', 5188: 'studierende', 5189: 'studio', 5190: 'study', 5191: 'stunde', 5192: 'stunden', 5193: 'stundenzimmern', 5194: 'sturms', 5195: 'stuttgart', 5196: 'städte', 5197: 'städten', 5198: 'ständetheaters', 5199: 'ständige', 5200: 'ständiger', 5201: 'stärken', 5202: 'stärker', 5203: 'stärkere', 5204: 'stärkste', 5205: 'stärksten', 5206: 'stößt', 5207: 'stück', 5208: 'stürmischen', 5209: 'stürzt', 5210: 'subjekt', 5211: 'substanzen', 5212: 'suchbegriffen', 5213: 'suche', 5214: 'suchen', 5215: 'sucht', 5216: 'suchverlauf', 5217: 'sudan', 5218: 'sudanesische', 5219: 'sudeten', 5220: 'sudetendeutschen', 5221: 'sul', 5222: 'summe', 5223: 'sundance', 5224: 'sunia', 5225: 'sunnyboys', 5226: 'super', 5227: 'supercinema', 5228: 'superhelden', 5229: 'superiore', 5230: 'superkleber', 5231: 'superman', 5232: 'superspieler', 5233: 'surrealen', 5234: 'suspendiert', 5235: 'sv', 5236: 'sweatshirts', 5237: 'swingby', 5238: 'swingbyanomalie', 5239: 'swingbymanöver', 5240: 'sydney', 5241: 'sylvana', 5242: 'symbole', 5243: 'symbolisch', 5244: 'sympathische', 5245: 'symptome', 5246: 'syrier', 5247: 'system', 5248: 'systemen', 5249: 'sziberi', 5250: 'szocialisták', 5251: 'szövetség', 5252: 'sänger', 5253: 'sätzen', 5254: 'südamerikaner', 5255: 'süden', 5256: 'südlichen', 5257: 'südtirol', 5258: 'sündenbock', 5259: 'sündteure', 5260: 't', 5261: 'tabellen', 5262: 'tabellenführer', 5263: 'tabletts', 5264: 'tachibana', 5265: 'tafa', 5266: 'tafel', 5267: 'tafeln', 5268: 'tag', 5269: 'tage', 5270: 'tagelangen', 5271: 'tagen', 5272: 'tages', 5273: 'tagesgeschäfts', 5274: 'tagesordnung', 5275: 'tageszeitung', 5276: 'tagung', 5277: 'taiwan', 5278: 'taktik', 5279: 'talavante', 5280: 'taliban', 5281: 'tandems', 5282: 'tank', 5283: 'tankstellen', 5284: 'tanz', 5285: 'tanzen', 5286: 'tanzgrundlagen', 5287: 'tar', 5288: 'taschen', 5289: 'tat', 5290: 'tatsache', 5291: 'tatsächlich', 5292: 'tatverdacht', 5293: 'tatwaffe', 5294: 'tauften', 5295: 'taumel', 5296: 'tauro', 5297: 'tausende', 5298: 'tausendsten', 5299: 'tavernier', 5300: 'taxi', 5301: 'taxifahrer', 5302: 'team', 5303: 'teams', 5304: 'technik', 5305: 'technisch', 5306: 'technologie', 5307: 'technologiebörse', 5308: 'technologien', 5309: 'technology', 5310: 'teewägen', 5311: 'teflon', 5312: 'teil', 5313: 'teile', 5314: 'teilen', 5315: 'teilnahme', 5316: 'teilnehmen', 5317: 'teilnehmenden', 5318: 'teilnehmer', 5319: 'teilnehmern', 5320: 'teils', 5321: 'teilte', 5322: 'teilverstaatlichung', 5323: 'teilweise', 5324: 'teilzunehmen', 5325: 'telefon', 5326: 'telefondienstleistungen', 5327: 'telefone', 5328: 'telefongespräche', 5329: 'telefonieren', 5330: 'telekommunikation', 5331: 'telekommunikationsbehörde', 5332: 'telekommunikationsdienstleistungen', 5333: 'tempo', 5334: 'temporale', 5335: 'tergat', 5336: 'terminal', 5337: 'terrance', 5338: 'territorium', 5339: 'tesco', 5340: 'tests', 5341: 'teuerste', 5342: 'teuersten', 5343: 'teuerung', 5344: 'teufelskreis', 5345: 'teuren', 5346: 'teurer', 5347: 'text', 5348: 'textilindustrie', 5349: 'tg', 5350: 'thailändischen', 5351: 'the', 5352: 'theater', 5353: 'theatralik', 5354: 'thema', 5355: 'themen', 5356: 'theoretisch', 5357: 'theorien', 5358: 'theresienwiese', 5359: 'these', 5360: 'thrifts', 5361: 'thunder', 5362: 'ticket', 5363: 'ticketholen', 5364: 'tief', 5365: 'tiefer', 5366: 'tiere', 5367: 'tieren', 5368: 'times', 5369: 'timing', 5370: 'tisch', 5371: 'titel', 5372: 'tmobile', 5373: 'to', 5374: 'tochter', 5375: 'tochterfirma', 5376: 'tod', 5377: 'todesfälle', 5378: 'toews', 5379: 'tokios', 5380: 'tokioter', 5381: 'tollen', 5382: 'tom', 5383: 'tony', 5384: 'topolánek', 5385: 'tor', 5386: 'torchancen', 5387: 'tornatore', 5388: 'torres', 5389: 'torrione', 5390: 'torschütze', 5391: 'tot', 5392: 'totalraffinerie', 5393: 'touchdowns', 5394: 'tour', 5395: 'touristen', 5396: 'touristikkonzern', 5397: 'tradition', 5398: 'traditionelle', 5399: 'traditionellen', 5400: 'traf', 5401: 'trafen', 5402: 'tragbaren', 5403: 'tragen', 5404: 'tragischen', 5405: 'tragödie', 5406: 'tragödien', 5407: 'training', 5408: 'trainingsangebot', 5409: 'tranche', 5410: 'transaktionen', 5411: 'transparente', 5412: 'transparenz', 5413: 'transportiert', 5414: 'traums', 5415: 'traun', 5416: 'traurige', 5417: 'traurigen', 5418: 'treffenden', 5419: 'treffpunkt', 5420: 'treibstoff', 5421: 'treibstoffleitungen', 5422: 'treibt', 5423: 'trend', 5424: 'trends', 5425: 'trerise', 5426: 'treten', 5427: 'trick', 5428: 'trieb', 5429: 'trieben', 5430: 'triennium', 5431: 'triffst', 5432: 'trifft', 5433: 'trikot', 5434: 'trinkgeld', 5435: 'trio', 5436: 'tritt', 5437: 'triumphes', 5438: 'trotz', 5439: 'trotzdem', 5440: 'trudeln', 5441: 'trumpf', 5442: 'truro', 5443: 'tschechen', 5444: 'tschechien', 5445: 'tschechische', 5446: 'tschechischen', 5447: 'tschechoslowakei', 5448: 'tugend', 5449: 'tun', 5450: 'turballe', 5451: 'turbine', 5452: 'turbinen', 5453: 'tyl', 5454: 'typ', 5455: 'typische', 5456: 'typisches', 5457: 'tänze', 5458: 'tänzerin', 5459: 'täter', 5460: 'tätigen', 5461: 'tätigkeit', 5462: 'tórtola', 5463: 'töchtern', 5464: 'tödlichen', 5465: 'tür', 5466: 'türen', 5467: 'uefa', 5468: 'uefapräsident', 5469: 'ufon', 5470: 'uhr', 5471: 'ukraine', 5472: 'ukrainische', 5473: 'ulysses', 5474: 'um', 5475: 'umarmte', 5476: 'umbau', 5477: 'umfang', 5478: 'umfasst', 5479: 'umfeld', 5480: 'umfragen', 5481: 'umgeben', 5482: 'umgebung', 5483: 'umher', 5484: 'umkreis', 5485: 'umlauf', 5486: 'umschwung', 5487: 'umsetzung', 5488: 'umstand', 5489: 'umstritten', 5490: 'umstrukturierung', 5491: 'umstrukturierungen', 5492: 'umstände', 5493: 'umständen', 5494: 'umsätzen', 5495: 'un', 5496: 'unabhängig', 5497: 'unabhängige', 5498: 'unabhängigen', 5499: 'unbeachtet', 5500: 'unbedingt', 5501: 'unbehandelt', 5502: 'unbekannte', 5503: 'unbekannten', 5504: 'unbeständigen', 5505: 'und', 5506: 'undenkbar', 5507: 'unendlich', 5508: 'unentschlossenen', 5509: 'unerfreuliche', 5510: 'unerwartet', 5511: 'unerwarteten', 5512: 'unfall', 5513: 'unfalls', 5514: 'unfallvermeidung', 5515: 'ungarische', 5516: 'ungarischen', 5517: 'ungarischstämmigen', 5518: 'ungeheuerlich', 5519: 'ungesetzlich', 5520: 'ungetreuer', 5521: 'unglaublich', 5522: 'unglaubliche', 5523: 'ungleichen', 5524: 'unglück', 5525: 'uni', 5526: 'unionsbürgern', 5527: 'unipol', 5528: 'unipolbnl', 5529: 'universalität', 5530: 'universell', 5531: 'university', 5532: 'universitäre', 5533: 'universität', 5534: 'universitäten', 5535: 'universitätswelt', 5536: 'universums', 5537: 'unklar', 5538: 'unlängst', 5539: 'unmittelbares', 5540: 'unmöglich', 5541: 'unnötige', 5542: 'unprofitabler', 5543: 'unregelmäßiges', 5544: 'unregelmäßigkeiten', 5545: 'uns', 5546: 'unschönen', 5547: 'unser', 5548: 'unsere', 5549: 'unseren', 5550: 'unserer', 5551: 'unseres', 5552: 'unsicher', 5553: 'unsichtbar', 5554: 'unsinn', 5555: 'unten', 5556: 'unter', 5557: 'unterbreitet', 5558: 'unterirdisch', 5559: 'unterlaufen', 5560: 'untermauern', 5561: 'unternehmen', 5562: 'unternehmens', 5563: 'unterredung', 5564: 'unterricht', 5565: 'unterrichtsbeginn', 5566: 'unterrichtsministerium', 5567: 'unterscheiden', 5568: 'unterschied', 5569: 'unterschiedlich', 5570: 'unterschiedlichen', 5571: 'unterschätzendes', 5572: 'unterseeischer', 5573: 'unterstützen', 5574: 'unterstützt', 5575: 'unterstützten', 5576: 'unterstützung', 5577: 'untersuchen', 5578: 'untersucht', 5579: 'untersuchten', 5580: 'untersuchung', 5581: 'untersuchungen', 5582: 'unterteilen', 5583: 'unterwasserleitungen', 5584: 'unterwegs', 5585: 'unterwäsche', 5586: 'untreu', 5587: 'ununterbrochen', 5588: 'unvergessliche', 5589: 'unverhältnismäßige', 5590: 'unverkäuflicher', 5591: 'unvermittelten', 5592: 'unveränderter', 5593: 'unvorhergesehenen', 5594: 'unwahrscheinlich', 5595: 'unwohlbefinden', 5596: 'unwägbarkeiten', 5597: 'unzufriedenheit', 5598: 'unzähligen', 5599: 'unüberwindbaren', 5600: 'urbanen', 5601: 'urlaub', 5602: 'ursache', 5603: 'ursachen', 5604: 'ursprünglich', 5605: 'ursprünglichen', 5606: 'us', 5607: 'usa', 5608: 'usamerikanischen', 5609: 'usbabschluss', 5610: 'usbport', 5611: 'usd', 5612: 'usdollar', 5613: 'user', 5614: 'usern', 5615: 'usindex', 5616: 'uspräsident', 5617: 'uspräsidenten', 5618: 'usregierung', 5619: 'usrepräsentantenhaus', 5620: 'uszeitschrift', 5621: 'uxbridge', 5622: 'v', 5623: 'valencia', 5624: 'valenzuela', 5625: 'vancouver', 5626: 'vargas', 5627: 'vater', 5628: 'vaterlandes', 5629: 'vega', 5630: 'venen', 5631: 'verabschieden', 5632: 'verabschiedet', 5633: 'verabschiedete', 5634: 'verabschiedung', 5635: 'verabsäumt', 5636: 'veranstalter', 5637: 'veranstaltet', 5638: 'verantwortlich', 5639: 'verantwortlichen', 5640: 'verantwortlicher', 5641: 'verantwortung', 5642: 'verantwortungsgefühl', 5643: 'verarbeiten', 5644: 'verarbeitenden', 5645: 'verbandes', 5646: 'verbessern', 5647: 'verbessert', 5648: 'verbesserten', 5649: 'verbesserung', 5650: 'verbesserungen', 5651: 'verbesserungswürdige', 5652: 'verbieten', 5653: 'verbietet', 5654: 'verbindung', 5655: 'verbindungen', 5656: 'verbirgt', 5657: 'verbitterter', 5658: 'verbracht', 5659: 'verbrachten', 5660: 'verbraucherzentrale', 5661: 'verbreiten', 5662: 'verbreitet', 5663: 'verbreiteten', 5664: 'verbreitung', 5665: 'verbunden', 5666: 'verbundenen', 5667: 'verdacht', 5668: 'verdanken', 5669: 'verdankt', 5670: 'verdant', 5671: 'verdauungstrakt', 5672: 'verdient', 5673: 'verdiente', 5674: 'verdächtige', 5675: 'verehrern', 5676: 'verehrt', 5677: 'vereinbarung', 5678: 'vereinen', 5679: 'vereinigte', 5680: 'vereinigten', 5681: 'vereinigung', 5682: 'vereinte', 5683: 'vereinten', 5684: 'verfahren', 5685: 'verfallene', 5686: 'verfechter', 5687: 'verfolgte', 5688: 'verfolgung', 5689: 'verfügbar', 5690: 'verfügen', 5691: 'verfügt', 5692: 'verfügung', 5693: 'verfügungen', 5694: 'vergangene', 5695: 'vergangenen', 5696: 'vergas', 5697: 'vergessen', 5698: 'vergleich', 5699: 'vergleichszeitraum', 5700: 'verglichen', 5701: 'vergriffen', 5702: 'vergrößern', 5703: 'vergänglicher', 5704: 'verhaftung', 5705: 'verhaftungen', 5706: 'verhalten', 5707: 'verhaltensweisen', 5708: 'verhaltensähnlichkeit', 5709: 'verhandeln', 5710: 'verhandelt', 5711: 'verhandlungen', 5712: 'verhandlungsfortschritte', 5713: 'verhandlungstisch', 5714: 'verheiratet', 5715: 'verhindern', 5716: 'verhinderung', 5717: 'verhältnis', 5718: 'verhört', 5719: 'verkauf', 5720: 'verkaufspreise', 5721: 'verkauft', 5722: 'verkehrsbetriebe', 5723: 'verkehrskontrollen', 5724: 'verkehrsministerium', 5725: 'verkehrsministeriums', 5726: 'verkehrssicherheit', 5727: 'verkehrszeichen', 5728: 'verklagen', 5729: 'verkäufe', 5730: 'verkörperte', 5731: 'verkündet', 5732: 'verkündeten', 5733: 'verlagsgruppen', 5734: 'verlangte', 5735: 'verlassen', 5736: 'verlasst', 5737: 'verlauf', 5738: 'verlegungen', 5739: 'verleumder', 5740: 'verliehen', 5741: 'verlieren', 5742: 'verlierer', 5743: 'verliert', 5744: 'verlor', 5745: 'verloren', 5746: 'verlorene', 5747: 'verlorenen', 5748: 'verlorenes', 5749: 'verlust', 5750: 'verluste', 5751: 'verlusten', 5752: 'verlustvortrag', 5753: 'verläuft', 5754: 'vermag', 5755: 'vermischtes', 5756: 'vermittler', 5757: 'vermuten', 5758: 'vermutlich', 5759: 'vernachlässigende', 5760: 'vernehmen', 5761: 'verneint', 5762: 'verona', 5763: 'verordnet', 5764: 'verpasst', 5765: 'verpflegung', 5766: 'verpflichtenden', 5767: 'verpflichteten', 5768: 'verrechnungskosten', 5769: 'versammelte', 5770: 'versammelten', 5771: 'versammlung', 5772: 'verschafft', 5773: 'verschaffte', 5774: 'verschieben', 5775: 'verschiedene', 5776: 'verschiedenen', 5777: 'verschiedener', 5778: 'verschlechtert', 5779: 'verschlechterung', 5780: 'verschleppten', 5781: 'verschließen', 5782: 'verschließt', 5783: 'verschuldung', 5784: 'verschwenden', 5785: 'verschwinden', 5786: 'verschönerten', 5787: 'versetzte', 5788: 'versicherer', 5789: 'versicherern', 5790: 'versichert', 5791: 'versiegende', 5792: 'versiegt', 5793: 'version', 5794: 'versionen', 5795: 'verspekuliert', 5796: 'versperrt', 5797: 'versprachen', 5798: 'versprechens', 5799: 'verspricht', 5800: 'versprochen', 5801: 'verspäteter', 5802: 'verstaatlichung', 5803: 'verstanden', 5804: 'versteckt', 5805: 'verstehe', 5806: 'verstehen', 5807: 'versteht', 5808: 'versteigerungen', 5809: 'verstorbene', 5810: 'verstorbenen', 5811: 'verständlich', 5812: 'verständlicherweise', 5813: 'verstärkt', 5814: 'verstößen', 5815: 'versuch', 5816: 'versuchen', 5817: 'versuchspersonen', 5818: 'versucht', 5819: 'versuchte', 5820: 'versäumnis', 5821: 'versäumt', 5822: 'verteidiger', 5823: 'verteidigte', 5824: 'verteidigung', 5825: 'verteidigungskorrespondent', 5826: 'verteidigungsministerium', 5827: 'verteilt', 5828: 'vertilgt', 5829: 'vertrag', 5830: 'vertrauen', 5831: 'vertrauensbeweis', 5832: 'vertrauensverlust', 5833: 'vertraute', 5834: 'vertreten', 5835: 'vertreter', 5836: 'vertretern', 5837: 'verträge', 5838: 'vertuschen', 5839: 'verunglückt', 5840: 'verunglückten', 5841: 'verunreinigte', 5842: 'verunreinigten', 5843: 'verursachen', 5844: 'verursacht', 5845: 'verurteilt', 5846: 'verurteilten', 5847: 'verwalten', 5848: 'verwalter', 5849: 'verwaltung', 5850: 'verwaltungsgericht', 5851: 'verwaltungsrat', 5852: 'verwaltungssanktionen', 5853: 'verwandelt', 5854: 'verwandelte', 5855: 'verwehrt', 5856: 'verweigerten', 5857: 'verwenden', 5858: 'verwendet', 5859: 'verwendeten', 5860: 'verwendung', 5861: 'verwirrung', 5862: 'verwundert', 5863: 'verwunderung', 5864: 'verwundete', 5865: 'verzehr', 5866: 'verzeichnete', 5867: 'verzichten', 5868: 'verzinsen', 5869: 'verzweigte', 5870: 'verändern', 5871: 'verändert', 5872: 'veränderten', 5873: 'veränderung', 5874: 'veränderungen', 5875: 'verärgerte', 5876: 'veröffentlicht', 5877: 'veröffentlichte', 5878: 'veröffentlichung', 5879: 'vetorecht', 5880: 'via', 5881: 'vic', 5882: 'videoausstattung', 5883: 'viel', 5884: 'viele', 5885: 'vielen', 5886: 'vielleicht', 5887: 'vielmehr', 5888: 'vielversprechende', 5889: 'vier', 5890: 'vierhundert', 5891: 'viertausend', 5892: 'vierte', 5893: 'viertel', 5894: 'vierteln', 5895: 'vierten', 5896: 'vietnam', 5897: 'village', 5898: 'vinaigrette', 5899: 'viren', 5900: 'virgin', 5901: 'virtuelle', 5902: 'virtuellen', 5903: 'virtueller', 5904: 'visier', 5905: 'vision', 5906: 'visualisierung', 5907: 'visum', 5908: 'vizeinnenminister', 5909: 'vizepräsidenten', 5910: 'vl', 5911: 'vodafone', 5912: 'volk', 5913: 'volksentscheid', 5914: 'voll', 5915: 'voller', 5916: 'volles', 5917: 'vollständig', 5918: 'vom', 5919: 'von', 5920: 'vonstatten', 5921: 'vor', 5922: 'voraussage', 5923: 'voraussetzungen', 5924: 'vorbehalten', 5925: 'vorbei', 5926: 'vorbereitet', 5927: 'vorbeugen', 5928: 'vorbeugung', 5929: 'vorbildlicher', 5930: 'vordere', 5931: 'vordergrund', 5932: 'vorerst', 5933: 'vorfall', 5934: 'vorfeld', 5935: 'vorgehen', 5936: 'vorgehens', 5937: 'vorgehensweise', 5938: 'vorgeschlagen', 5939: 'vorgeschlagene', 5940: 'vorgesehen', 5941: 'vorgestellt', 5942: 'vorgezeigt', 5943: 'vorhaben', 5944: 'vorhandenen', 5945: 'vorhandener', 5946: 'vorhergesehenen', 5947: 'vorheriges', 5948: 'vorjahr', 5949: 'vorjahreszeitraum', 5950: 'vorkommen', 5951: 'vorkommt', 5952: 'vorlage', 5953: 'vorliegen', 5954: 'vormals', 5955: 'vormittagssession', 5956: 'vormonat', 5957: 'vorne', 5958: 'vornehmen', 5959: 'vororte', 5960: 'vorrangigen', 5961: 'vorräte', 5962: 'vorschein', 5963: 'vorschlag', 5964: 'vorschläge', 5965: 'vorschriften', 5966: 'vorsicht', 5967: 'vorsichtig', 5968: 'vorsitzende', 5969: 'vorsprung', 5970: 'vorstadtbusse', 5971: 'vorstadtzügen', 5972: 'vorstands', 5973: 'vorstellen', 5974: 'vorstellung', 5975: 'vorteil', 5976: 'vorteile', 5977: 'vorteilhaftes', 5978: 'vortrags', 5979: 'vorwärts', 5980: 'vorwürfe', 5981: 'vorüber', 5982: 'vorübergehe', 5983: 'vorübergehende', 5984: 'vs', 5985: 'väter', 5986: 'völlig', 5987: 'w', 5988: 'waas', 5989: 'wachgerufen', 5990: 'wachovia', 5991: 'wachsenden', 5992: 'wachstums', 5993: 'wagen', 5994: 'wagens', 5995: 'wahl', 5996: 'wahldebakels', 5997: 'wahlen', 5998: 'wahlkampagne', 5999: 'wahlkampfveranstaltung', 6000: 'wahlkommission', 6001: 'wahlkommissionen', 6002: 'wahllokale', 6003: 'wahllokalen', 6004: 'wahlperiode', 6005: 'wahlrecht', 6006: 'wahnsinn', 6007: 'wahr', 6008: 'wahre', 6009: 'wahren', 6010: 'wahrheit', 6011: 'wahrscheinlich', 6012: 'wahrscheinlichkeit', 6013: 'walker', 6014: 'walkman', 6015: 'wall', 6016: 'walter', 6017: 'wandbemalung', 6018: 'wandte', 6019: 'wanken', 6020: 'wann', 6021: 'war', 6022: 'waren', 6023: 'warenkaufhaus', 6024: 'warfen', 6025: 'warner', 6026: 'warren', 6027: 'warschauer', 6028: 'warten', 6029: 'wartet', 6030: 'warteten', 6031: 'warum', 6032: 'was', 6033: 'wasauchimmer', 6034: 'washington', 6035: 'wasjunik', 6036: 'wasser', 6037: 'wasserbewegungen', 6038: 'wasserkraftstaudamm', 6039: 'wasserkraftwerken', 6040: 'wassermelone', 6041: 'watch', 6042: 'web', 6043: 'webadressen', 6044: 'webseite', 6045: 'wec', 6046: 'weck', 6047: 'wecker', 6048: 'wedeln', 6049: 'weder', 6050: 'weg', 6051: 'wegen', 6052: 'wegmarken', 6053: 'weiblichem', 6054: 'weiblichen', 6055: 'weicht', 6056: 'weigerte', 6057: 'weil', 6058: 'weise', 6059: 'weisen', 6060: 'weissen', 6061: 'weist', 6062: 'weit', 6063: 'weiter', 6064: 'weitere', 6065: 'weiteren', 6066: 'weiterentwicklung', 6067: 'weiterer', 6068: 'weiteres', 6069: 'weitergehen', 6070: 'weiterhin', 6071: 'weiters', 6072: 'weiterverwendungssektor', 6073: 'weitesten', 6074: 'weitete', 6075: 'weitgehend', 6076: 'weiß', 6077: 'weiße', 6078: 'weißen', 6079: 'weißer', 6080: 'weißrussen', 6081: 'weißrussischen', 6082: 'weißt', 6083: 'welche', 6084: 'welchem', 6085: 'welle', 6086: 'wellen', 6087: 'welt', 6088: 'weltraum', 6089: 'weltraumforscher', 6090: 'weltrekord', 6091: 'welttag', 6092: 'weltweit', 6093: 'weltwirtschaft', 6094: 'wem', 6095: 'wende', 6096: 'wenden', 6097: 'wendepunkt', 6098: 'wenig', 6099: 'wenige', 6100: 'wenigen', 6101: 'weniger', 6102: 'wenn', 6103: 'wenngleich', 6104: 'wer', 6105: 'werbung', 6106: 'werde', 6107: 'werden', 6108: 'werdet', 6109: 'werfen', 6110: 'werk', 6111: 'werkes', 6112: 'werner', 6113: 'wert', 6114: 'wertet', 6115: 'werts', 6116: 'wertschätzung', 6117: 'wertvolle', 6118: 'wesentlich', 6119: 'wesentliche', 6120: 'wesentlichen', 6121: 'west', 6122: 'westlb', 6123: 'westlbvorstands', 6124: 'westlichen', 6125: 'westlondon', 6126: 'wettbewerb', 6127: 'wettbewerbs', 6128: 'wettbewerbsbehörde', 6129: 'wettbewerbsberufungsgericht', 6130: 'wettbewerbskommission', 6131: 'wetter', 6132: 'wettkampf', 6133: 'whitecaps', 6134: 'whitehall', 6135: 'wichen', 6136: 'wichtig', 6137: 'wichtige', 6138: 'wichtigen', 6139: 'wichtiger', 6140: 'wichtiges', 6141: 'wichtigste', 6142: 'wichtigsten', 6143: 'widersetzt', 6144: 'widerspiegeln', 6145: 'widersprechen', 6146: 'widerspruch', 6147: 'widerstand', 6148: 'wie', 6149: 'wieder', 6150: 'wiederbelebung', 6151: 'wiedergewonnen', 6152: 'wiederholt', 6153: 'wiederholte', 6154: 'wiederholung', 6155: 'wiedersehen', 6156: 'wiederum', 6157: 'wien', 6158: 'wiener', 6159: 'wiesen', 6160: 'wiesn', 6161: 'wiesnwochenende', 6162: 'will', 6163: 'windows', 6164: 'winken', 6165: 'winzige', 6166: 'wir', 6167: 'wirbelstürmen', 6168: 'wird', 6169: 'wirklich', 6170: 'wirklichen', 6171: 'wirklichkeit', 6172: 'wirksam', 6173: 'wirkstoffe', 6174: 'wirkt', 6175: 'wirkung', 6176: 'wirtschaft', 6177: 'wirtschaftlich', 6178: 'wirtschaftliche', 6179: 'wirtschaftlichen', 6180: 'wirtschafts', 6181: 'wirtschaftsforschern', 6182: 'wirtschaftsnobelpreis', 6183: 'wirtschaftspolitik', 6184: 'wirtschaftsprofessoren', 6185: 'wirtschaftsthemen', 6186: 'wirtschaftstheorie', 6187: 'wirtschaftswachstum', 6188: 'wirtschaftswachstums', 6189: 'wischt', 6190: 'wissen', 6191: 'wissenschaftler', 6192: 'wissenschaftlern', 6193: 'wissenschaftliche', 6194: 'wissenschaftlichen', 6195: 'witterung', 6196: 'witwe', 6197: 'witz', 6198: 'wo', 6199: 'woche', 6200: 'wochen', 6201: 'wochenende', 6202: 'wochenendes', 6203: 'wochentag', 6204: 'wofür', 6205: 'wohl', 6206: 'wohne', 6207: 'wohnung', 6208: 'wohnungen', 6209: 'wohnungsbaugesellschaften', 6210: 'wolle', 6211: 'wollen', 6212: 'wollte', 6213: 'wollten', 6214: 'women', 6215: 'woodward', 6216: 'worden', 6217: 'world', 6218: 'wort', 6219: 'worte', 6220: 'worten', 6221: 'wortschatz', 6222: 'wozu', 6223: 'wright', 6224: 'writer', 6225: 'wunder', 6226: 'wunderbare', 6227: 'wunderbaren', 6228: 'wunsch', 6229: 'wurde', 6230: 'wurden', 6231: 'wurf', 6232: 'wurzeln', 6233: 'wusste', 6234: 'wwwdppcz', 6235: 'wächst', 6236: 'wägt', 6237: 'wählen', 6238: 'wähler', 6239: 'wählern', 6240: 'währen', 6241: 'während', 6242: 'währung', 6243: 'wände', 6244: 'wänden', 6245: 'wäre', 6246: 'wörtern', 6247: 'wünsche', 6248: 'wünschenswert', 6249: 'wünschte', 6250: 'würde', 6251: 'würden', 6252: 'württemberg', 6253: 'wüsste', 6254: 'wüstenexpedition', 6255: 'wütende', 6256: 'xanga', 6257: 'xavier', 6258: 'y', 6259: 'yard', 6260: 'yardtouchdown', 6261: 'ygeneráció', 6262: 'yogastellungen', 6263: 'york', 6264: 'yorker', 6265: 'z', 6266: 'zahl', 6267: 'zahle', 6268: 'zahlen', 6269: 'zahlreiche', 6270: 'zahlreichen', 6271: 'zahlreicher', 6272: 'zahlung', 6273: 'zahlungsverkehr', 6274: 'zawlocki', 6275: 'zehn', 6276: 'zehnten', 6277: 'zehnzwölf', 6278: 'zeichen', 6279: 'zeigen', 6280: 'zeigt', 6281: 'zeigte', 6282: 'zeigten', 6283: 'zeit', 6284: 'zeiten', 6285: 'zeitlich', 6286: 'zeitplan', 6287: 'zeitpunkt', 6288: 'zeitraum', 6289: 'zeitschrift', 6290: 'zeitspanne', 6291: 'zeitung', 6292: 'zeitungen', 6293: 'zeitungsbericht', 6294: 'zeitungsständen', 6295: 'zeitweise', 6296: 'zelts', 6297: 'zenobia', 6298: 'zentralbank', 6299: 'zentrale', 6300: 'zentralen', 6301: 'zentralisieren', 6302: 'zentren', 6303: 'zerlegung', 6304: 'zerstören', 6305: 'zerstört', 6306: 'zeug', 6307: 'zeugin', 6308: 'zeugt', 6309: 'ziehen', 6310: 'zieht', 6311: 'ziel', 6312: 'ziele', 6313: 'zielsetzung', 6314: 'ziemlich', 6315: 'zierlich', 6316: 'ziffern', 6317: 'zimmer', 6318: 'zinsen', 6319: 'zinssätze', 6320: 'zog', 6321: 'zora', 6322: 'zu', 6323: 'zuckerbrot', 6324: 'zudem', 6325: 'zueinander', 6326: 'zuerst', 6327: 'zufall', 6328: 'zufolge', 6329: 'zufrieden', 6330: 'zug', 6331: 'zuge', 6332: 'zugegeben', 6333: 'zugereiste', 6334: 'zugeständnis', 6335: 'zugunsten', 6336: 'zugängen', 6337: 'zugänglichen', 6338: 'zukunft', 6339: 'zulassung', 6340: 'zuletzt', 6341: 'zulässt', 6342: 'zum', 6343: 'zumeist', 6344: 'zumindest', 6345: 'zunächst', 6346: 'zur', 6347: 'zurzeit', 6348: 'zurück', 6349: 'zurückeroberten', 6350: 'zurückgeben', 6351: 'zurückgekommen', 6352: 'zurückgenommen', 6353: 'zurückgewiesen', 6354: 'zurückgezahlt', 6355: 'zurückhaltend', 6356: 'zurückkehren', 6357: 'zurückliegende', 6358: 'zurückrufen', 6359: 'zurückzog', 6360: 'zurückzugreifen', 6361: 'zusammen', 6362: 'zusammenarbeit', 6363: 'zusammenarbeiten', 6364: 'zusammenbruch', 6365: 'zusammenführen', 6366: 'zusammengearbeitet', 6367: 'zusammengehen', 6368: 'zusammengekommen', 6369: 'zusammengesetzte', 6370: 'zusammengesetzten', 6371: 'zusammengestellt', 6372: 'zusammengetan', 6373: 'zusammenhang', 6374: 'zusammenhänge', 6375: 'zusammenzuarbeiten', 6376: 'zusammenzubrechen', 6377: 'zusatz', 6378: 'zuschauer', 6379: 'zuschlag', 6380: 'zuschüsse', 6381: 'zuspitzenden', 6382: 'zustandekommen', 6383: 'zustimmend', 6384: 'zustimmt', 6385: 'zustimmung', 6386: 'zuständige', 6387: 'zuständigen', 6388: 'zuständigkeiten', 6389: 'zusätzliche', 6390: 'zutiefst', 6391: 'zuvor', 6392: 'zuwenden', 6393: 'zwangsabstieg', 6394: 'zwangsintegration', 6395: 'zwanzig', 6396: 'zwar', 6397: 'zweck', 6398: 'zwecke', 6399: 'zwei', 6400: 'zweidrei', 6401: 'zweieinhalb', 6402: 'zweifel', 6403: 'zweifelt', 6404: 'zweigen', 6405: 'zweihundert', 6406: 'zweimal', 6407: 'zweisprachige', 6408: 'zweisprachigen', 6409: 'zweite', 6410: 'zweiten', 6411: 'zweitens', 6412: 'zwischen', 6413: 'zwischenzeit', 6414: 'zwischenzeitlich', 6415: 'zwölf', 6416: 'zählern', 6417: 'zählt', 6418: 'zögerte', 6419: 'züge', 6420: 'zügen', 6421: 'álava', 6422: 'árpád', 6423: 'ägypten', 6424: 'ägyptens', 6425: 'ägyptische', 6426: 'ägyptischen', 6427: 'ähnelnd', 6428: 'ähnlich', 6429: 'ähnliche', 6430: 'ähnlichen', 6431: 'ältester', 6432: 'ämter', 6433: 'ämtern', 6434: 'änderte', 6435: 'ängste', 6436: 'ära', 6437: 'ärmelkanals', 6438: 'ärzte', 6439: 'äthiopien', 6440: 'äußer', 6441: 'äußert', 6442: 'äußerte', 6443: 'évezredért', 6444: 'ózd', 6445: 'öden', 6446: 'öffentlich', 6447: 'öffentliche', 6448: 'öffentlichen', 6449: 'öffentlichkeit', 6450: 'öffentlichrechtlichen', 6451: 'öffnet', 6452: 'öffnete', 6453: 'öffnung', 6454: 'ökologische', 6455: 'ökonom', 6456: 'ökonomen', 6457: 'ökonomische', 6458: 'ökonomischer', 6459: 'ölpreis', 6460: 'öls', 6461: 'ölverbrauch', 6462: 'örtlichen', 6463: 'österreich', 6464: 'österreicher', 6465: 'österreichische', 6466: 'österreichischen', 6467: 'österreichs', 6468: 'övp', 6469: 'úohs', 6470: 'über', 6471: 'überalterung', 6472: 'überbietens', 6473: 'übereinkunft', 6474: 'übereinstimmung', 6475: 'übergangsprozess', 6476: 'übergangsregierung', 6477: 'übergeben', 6478: 'überhaupt', 6479: 'überlebenswichtigen', 6480: 'überlegungen', 6481: 'übermäßiges', 6482: 'übernachten', 6483: 'übernachtungen', 6484: 'übernahm', 6485: 'übernahme', 6486: 'übernahmen', 6487: 'übernehmen', 6488: 'übernommen', 6489: 'überprüfen', 6490: 'überprüft', 6491: 'überprüfung', 6492: 'überragenden', 6493: 'überragt', 6494: 'überraschen', 6495: 'überraschend', 6496: 'überrascht', 6497: 'überraschung', 6498: 'überschattet', 6499: 'überschlagenden', 6500: 'überspielen', 6501: 'übertreiben', 6502: 'übertrieben', 6503: 'übertrifft', 6504: 'überwachen', 6505: 'überwertende', 6506: 'überwiegende', 6507: 'überzeugt', 6508: 'überzeugung', 6509: 'üblich', 6510: 'üblicher', 6511: 'übrig', 6512: 'übrigen', 6513: 'übrigens', 6514: 'übte', 6515: 'übung', 6516: 'čepický', 6517: 'čez', 6518: 'čtú', 6519: 'čtúwebseiten', 6520: 'řebíček', 6521: '–', 6522: '„antifaulpelzgesetz'}\n"
          ],
          "name": "stdout"
        }
      ]
    },
    {
      "cell_type": "markdown",
      "metadata": {
        "id": "2SKleAlZwdtA",
        "colab_type": "text"
      },
      "source": [
        "### 3b)-Train - Test Split\n",
        "\n",
        "For validation"
      ]
    },
    {
      "cell_type": "code",
      "metadata": {
        "colab_type": "code",
        "id": "kj_K6FfeAeYC",
        "outputId": "b7cca266-892d-4290-aa8e-f2277947e8fa",
        "colab": {
          "base_uri": "https://localhost:8080/",
          "height": 34
        }
      },
      "source": [
        "X, y = lines.eng, lines.ger #X being input, y being target\n",
        "X_train, X_test, y_train, y_test = train_test_split(X, y, test_size = 0.2)\n",
        "X_train.shape, X_test.shape"
      ],
      "execution_count": 43,
      "outputs": [
        {
          "output_type": "execute_result",
          "data": {
            "text/plain": [
              "((2020,), (505,))"
            ]
          },
          "metadata": {
            "tags": []
          },
          "execution_count": 43
        }
      ]
    },
    {
      "cell_type": "markdown",
      "metadata": {
        "colab_type": "text",
        "id": "LZYt7v-fCOQt"
      },
      "source": [
        "**Save the train and test dataframes for reproducing the results later, as they are shuffled**"
      ]
    },
    {
      "cell_type": "code",
      "metadata": {
        "colab_type": "code",
        "id": "GvpxI3i7A3BT",
        "colab": {}
      },
      "source": [
        "X_train.to_pickle('X_train.pkl')\n",
        "X_test.to_pickle('X_test.pkl')"
      ],
      "execution_count": 0,
      "outputs": []
    },
    {
      "cell_type": "code",
      "metadata": {
        "colab_type": "code",
        "id": "f99GUE2iA3E5",
        "colab": {}
      },
      "source": [
        "def generate_batch(X = X_train, y = y_train, batch_size = 128):\n",
        "    ''' Generate a batch of data '''\n",
        "    while True:\n",
        "        for j in range(0, len(X), batch_size):\n",
        "            encoder_input_data = np.zeros((batch_size, max_length_src),dtype='float32')\n",
        "            decoder_input_data = np.zeros((batch_size, max_length_tar),dtype='float32')\n",
        "            decoder_target_data = np.zeros((batch_size, max_length_tar, num_decoder_tokens),dtype='float32')\n",
        "            for i, (input_text, target_text) in enumerate(zip(X[j:j+batch_size], y[j:j+batch_size])):\n",
        "                for t, word in enumerate(input_text.split()):\n",
        "                    encoder_input_data[i, t] = input_token_index[word] # encoder input seq\n",
        "                for t, word in enumerate(target_text.split()):\n",
        "                    if t<len(target_text.split())-1:\n",
        "                        decoder_input_data[i, t] = target_token_index[word] # decoder input seq\n",
        "                    if t>0:\n",
        "                        # decoder target sequence (one hot encoded)\n",
        "                        # does not include the START_ token\n",
        "                        # Offset by one timestep\n",
        "                        decoder_target_data[i, t - 1, target_token_index[word]] = 1.\n",
        "            yield([encoder_input_data, decoder_input_data], decoder_target_data)"
      ],
      "execution_count": 0,
      "outputs": []
    },
    {
      "cell_type": "markdown",
      "metadata": {
        "colab_type": "text",
        "id": "G_MQxfbrCj_E"
      },
      "source": [
        "# 4)-Encoder - Decoder Model Architecture"
      ]
    },
    {
      "cell_type": "code",
      "metadata": {
        "colab_type": "code",
        "id": "WAKup9U3A3II",
        "colab": {}
      },
      "source": [
        "latent_dim = 50"
      ],
      "execution_count": 0,
      "outputs": []
    },
    {
      "cell_type": "code",
      "metadata": {
        "colab_type": "code",
        "id": "NVWXpjPeA3K4",
        "outputId": "08715db6-1445-489a-e963-15604bdd6320",
        "colab": {
          "base_uri": "https://localhost:8080/",
          "height": 176
        }
      },
      "source": [
        "# Encoder\n",
        "encoder_inputs = Input(shape=(None,))\n",
        "enc_emb =  Embedding(num_encoder_tokens, latent_dim, mask_zero = True)(encoder_inputs)\n",
        "encoder_lstm = LSTM(latent_dim, return_state=True)\n",
        "encoder_outputs, state_h, state_c = encoder_lstm(enc_emb)\n",
        "# We discard `encoder_outputs` and only keep the states.\n",
        "encoder_states = [state_h, state_c]"
      ],
      "execution_count": 47,
      "outputs": [
        {
          "output_type": "stream",
          "text": [
            "WARNING:tensorflow:From /usr/local/lib/python3.6/dist-packages/keras/backend/tensorflow_backend.py:66: The name tf.get_default_graph is deprecated. Please use tf.compat.v1.get_default_graph instead.\n",
            "\n",
            "WARNING:tensorflow:From /usr/local/lib/python3.6/dist-packages/keras/backend/tensorflow_backend.py:541: The name tf.placeholder is deprecated. Please use tf.compat.v1.placeholder instead.\n",
            "\n",
            "WARNING:tensorflow:From /usr/local/lib/python3.6/dist-packages/keras/backend/tensorflow_backend.py:4432: The name tf.random_uniform is deprecated. Please use tf.random.uniform instead.\n",
            "\n",
            "WARNING:tensorflow:From /usr/local/lib/python3.6/dist-packages/keras/backend/tensorflow_backend.py:3239: add_dispatch_support.<locals>.wrapper (from tensorflow.python.ops.array_ops) is deprecated and will be removed in a future version.\n",
            "Instructions for updating:\n",
            "Use tf.where in 2.0, which has the same broadcast rule as np.where\n"
          ],
          "name": "stdout"
        }
      ]
    },
    {
      "cell_type": "code",
      "metadata": {
        "colab_type": "code",
        "id": "y5NPVx5SAebD",
        "colab": {}
      },
      "source": [
        "# Set up the decoder, using `encoder_states` as initial state.\n",
        "decoder_inputs = Input(shape=(None,))\n",
        "dec_emb_layer = Embedding(num_decoder_tokens, latent_dim, mask_zero = True)\n",
        "dec_emb = dec_emb_layer(decoder_inputs)\n",
        "# We set up our decoder to return full output sequences,\n",
        "# and to return internal states as well. We don't use the\n",
        "# return states in the training model, but we will use them in inference.\n",
        "decoder_lstm = LSTM(latent_dim, return_sequences=True, return_state=True)\n",
        "decoder_outputs, _, _ = decoder_lstm(dec_emb,\n",
        "                                     initial_state=encoder_states)\n",
        "decoder_dense = Dense(num_decoder_tokens, activation='softmax')\n",
        "decoder_outputs = decoder_dense(decoder_outputs)\n",
        "\n",
        "# Define the model that will turn\n",
        "# `encoder_input_data` & `decoder_input_data` into `decoder_target_data`\n",
        "model = Model([encoder_inputs, decoder_inputs], decoder_outputs)"
      ],
      "execution_count": 0,
      "outputs": []
    },
    {
      "cell_type": "code",
      "metadata": {
        "colab_type": "code",
        "id": "jmJpG9LHAegu",
        "outputId": "7698ddfe-96f4-468f-af2e-57c5c4461763",
        "colab": {
          "base_uri": "https://localhost:8080/",
          "height": 87
        }
      },
      "source": [
        "model.compile(optimizer='rmsprop', loss='categorical_crossentropy', metrics=['acc'])"
      ],
      "execution_count": 49,
      "outputs": [
        {
          "output_type": "stream",
          "text": [
            "WARNING:tensorflow:From /usr/local/lib/python3.6/dist-packages/keras/optimizers.py:793: The name tf.train.Optimizer is deprecated. Please use tf.compat.v1.train.Optimizer instead.\n",
            "\n",
            "WARNING:tensorflow:From /usr/local/lib/python3.6/dist-packages/keras/backend/tensorflow_backend.py:3576: The name tf.log is deprecated. Please use tf.math.log instead.\n",
            "\n"
          ],
          "name": "stdout"
        }
      ]
    },
    {
      "cell_type": "code",
      "metadata": {
        "colab_type": "code",
        "id": "ZYb2KO_TAepD",
        "colab": {}
      },
      "source": [
        "#from IPython.display import Image\n",
        "#Image(retina=True, filename='train.png')"
      ],
      "execution_count": 0,
      "outputs": []
    },
    {
      "cell_type": "code",
      "metadata": {
        "colab_type": "code",
        "id": "dEJCmevEAesV",
        "colab": {}
      },
      "source": [
        "train_samples = len(X_train)\n",
        "val_samples = len(X_test)\n",
        "batch_size = 128\n",
        "epochs = 15"
      ],
      "execution_count": 0,
      "outputs": []
    },
    {
      "cell_type": "code",
      "metadata": {
        "colab_type": "code",
        "id": "bYQOjYpjEmfJ",
        "outputId": "2abd9a62-61c2-45cf-bb2d-71532f7a66a0",
        "colab": {
          "base_uri": "https://localhost:8080/",
          "height": 443
        }
      },
      "source": [
        "model.summary()"
      ],
      "execution_count": 52,
      "outputs": [
        {
          "output_type": "stream",
          "text": [
            "Model: \"model_1\"\n",
            "__________________________________________________________________________________________________\n",
            "Layer (type)                    Output Shape         Param #     Connected to                     \n",
            "==================================================================================================\n",
            "input_1 (InputLayer)            (None, None)         0                                            \n",
            "__________________________________________________________________________________________________\n",
            "input_2 (InputLayer)            (None, None)         0                                            \n",
            "__________________________________________________________________________________________________\n",
            "embedding_1 (Embedding)         (None, None, 50)     272700      input_1[0][0]                    \n",
            "__________________________________________________________________________________________________\n",
            "embedding_2 (Embedding)         (None, None, 50)     326150      input_2[0][0]                    \n",
            "__________________________________________________________________________________________________\n",
            "lstm_1 (LSTM)                   [(None, 50), (None,  20200       embedding_1[0][0]                \n",
            "__________________________________________________________________________________________________\n",
            "lstm_2 (LSTM)                   [(None, None, 50), ( 20200       embedding_2[0][0]                \n",
            "                                                                 lstm_1[0][1]                     \n",
            "                                                                 lstm_1[0][2]                     \n",
            "__________________________________________________________________________________________________\n",
            "dense_1 (Dense)                 (None, None, 6523)   332673      lstm_2[0][0]                     \n",
            "==================================================================================================\n",
            "Total params: 971,923\n",
            "Trainable params: 971,923\n",
            "Non-trainable params: 0\n",
            "__________________________________________________________________________________________________\n"
          ],
          "name": "stdout"
        }
      ]
    },
    {
      "cell_type": "code",
      "metadata": {
        "colab_type": "code",
        "id": "8_dLHRGWAemn",
        "outputId": "59b7da2e-fcfe-4a19-ff6f-35ae24f01615",
        "colab": {
          "base_uri": "https://localhost:8080/",
          "height": 603
        }
      },
      "source": [
        "model.fit_generator(generator = generate_batch(X_train, y_train, batch_size = batch_size),\n",
        "                    steps_per_epoch = train_samples//batch_size,\n",
        "                    epochs=epochs,\n",
        "                    validation_data = generate_batch(X_test, y_test, batch_size = batch_size),\n",
        "                    validation_steps = val_samples//batch_size)"
      ],
      "execution_count": 53,
      "outputs": [
        {
          "output_type": "stream",
          "text": [
            "WARNING:tensorflow:From /usr/local/lib/python3.6/dist-packages/keras/backend/tensorflow_backend.py:1033: The name tf.assign_add is deprecated. Please use tf.compat.v1.assign_add instead.\n",
            "\n",
            "Epoch 1/15\n",
            "15/15 [==============================] - 8s 514ms/step - loss: 8.6017 - acc: 0.0909 - val_loss: 8.0899 - val_acc: 0.1013\n",
            "Epoch 2/15\n",
            "15/15 [==============================] - 5s 330ms/step - loss: 7.5900 - acc: 0.1023 - val_loss: 7.3998 - val_acc: 0.1044\n",
            "Epoch 3/15\n",
            "15/15 [==============================] - 5s 330ms/step - loss: 7.0569 - acc: 0.1028 - val_loss: 7.2367 - val_acc: 0.0988\n",
            "Epoch 4/15\n",
            "15/15 [==============================] - 5s 327ms/step - loss: 6.8835 - acc: 0.1025 - val_loss: 7.1771 - val_acc: 0.1041\n",
            "Epoch 5/15\n",
            "15/15 [==============================] - 5s 326ms/step - loss: 6.8052 - acc: 0.1024 - val_loss: 7.2367 - val_acc: 0.1013\n",
            "Epoch 6/15\n",
            "15/15 [==============================] - 5s 329ms/step - loss: 6.7858 - acc: 0.1026 - val_loss: 7.2965 - val_acc: 0.1044\n",
            "Epoch 7/15\n",
            "15/15 [==============================] - 5s 324ms/step - loss: 6.7697 - acc: 0.1031 - val_loss: 7.3804 - val_acc: 0.0988\n",
            "Epoch 8/15\n",
            "15/15 [==============================] - 5s 325ms/step - loss: 6.7655 - acc: 0.1025 - val_loss: 7.4004 - val_acc: 0.1041\n",
            "Epoch 9/15\n",
            "15/15 [==============================] - 5s 330ms/step - loss: 6.7524 - acc: 0.1027 - val_loss: 7.4902 - val_acc: 0.1013\n",
            "Epoch 10/15\n",
            "15/15 [==============================] - 5s 324ms/step - loss: 6.7442 - acc: 0.1019 - val_loss: 7.5410 - val_acc: 0.1044\n",
            "Epoch 11/15\n",
            "15/15 [==============================] - 5s 324ms/step - loss: 6.7249 - acc: 0.1025 - val_loss: 7.5932 - val_acc: 0.0988\n",
            "Epoch 12/15\n",
            "15/15 [==============================] - 5s 328ms/step - loss: 6.6910 - acc: 0.1024 - val_loss: 7.5343 - val_acc: 0.1041\n",
            "Epoch 13/15\n",
            "15/15 [==============================] - 5s 323ms/step - loss: 6.6408 - acc: 0.1029 - val_loss: 7.5435 - val_acc: 0.1013\n",
            "Epoch 14/15\n",
            "15/15 [==============================] - 5s 325ms/step - loss: 6.5928 - acc: 0.1032 - val_loss: 7.5710 - val_acc: 0.1044\n",
            "Epoch 15/15\n",
            "15/15 [==============================] - 5s 324ms/step - loss: 6.5667 - acc: 0.1032 - val_loss: 7.5971 - val_acc: 0.0988\n"
          ],
          "name": "stdout"
        },
        {
          "output_type": "execute_result",
          "data": {
            "text/plain": [
              "<keras.callbacks.History at 0x7fa4ef868f98>"
            ]
          },
          "metadata": {
            "tags": []
          },
          "execution_count": 53
        }
      ]
    },
    {
      "cell_type": "code",
      "metadata": {
        "colab_type": "code",
        "id": "S5p1pg6XAekB",
        "colab": {}
      },
      "source": [
        "# save model\n",
        "model.save_weights('translate.h5')"
      ],
      "execution_count": 0,
      "outputs": []
    },
    {
      "cell_type": "code",
      "metadata": {
        "colab_type": "code",
        "id": "Bg0C_Xo0Aedy",
        "colab": {}
      },
      "source": [
        "model.load_weights('translate.h5')"
      ],
      "execution_count": 0,
      "outputs": []
    },
    {
      "cell_type": "markdown",
      "metadata": {
        "colab_type": "text",
        "id": "5MuBJTzQNTVn"
      },
      "source": [
        "# Inference Setup"
      ]
    },
    {
      "cell_type": "code",
      "metadata": {
        "colab_type": "code",
        "id": "DYLNM2LFNMAp",
        "colab": {}
      },
      "source": [
        "# Encode the input sequence to get the \"thought vectors\"\n",
        "encoder_model = Model(encoder_inputs, encoder_states)\n",
        "\n",
        "# Decoder setup\n",
        "# Below tensors will hold the states of the previous time step\n",
        "decoder_state_input_h = Input(shape=(latent_dim,))\n",
        "decoder_state_input_c = Input(shape=(latent_dim,))\n",
        "decoder_states_inputs = [decoder_state_input_h, decoder_state_input_c]\n",
        "\n",
        "dec_emb2= dec_emb_layer(decoder_inputs) # Get the embeddings of the decoder sequence\n",
        "\n",
        "# To predict the next word in the sequence, set the initial states to the states from the previous time step\n",
        "decoder_outputs2, state_h2, state_c2 = decoder_lstm(dec_emb2, initial_state=decoder_states_inputs)\n",
        "decoder_states2 = [state_h2, state_c2]\n",
        "decoder_outputs2 = decoder_dense(decoder_outputs2) # A dense softmax layer to generate prob dist. over the target vocabulary\n",
        "\n",
        "# Final decoder model\n",
        "decoder_model = Model(\n",
        "    [decoder_inputs] + decoder_states_inputs,\n",
        "    [decoder_outputs2] + decoder_states2)"
      ],
      "execution_count": 0,
      "outputs": []
    },
    {
      "cell_type": "markdown",
      "metadata": {
        "colab_type": "text",
        "id": "yp5DWmhDNaSX"
      },
      "source": [
        "# Decode sample sequeces"
      ]
    },
    {
      "cell_type": "code",
      "metadata": {
        "colab_type": "code",
        "id": "qZnHAo2KNX1R",
        "colab": {}
      },
      "source": [
        "def decode_sequence(input_seq):\n",
        "    # Encode the input as state vectors.\n",
        "    states_value = encoder_model.predict(input_seq)\n",
        "    # Generate empty target sequence of length 1.\n",
        "    target_seq = np.zeros((1,1))\n",
        "    \n",
        "    \n",
        "    # Populate the first character of target sequence with the start character.\n",
        "    target_seq[0, 0] = target_token_index['START_']\n",
        "  \n",
        "\n",
        "    # Sampling loop for a batch of sequences\n",
        "    # (to simplify, here we assume a batch of size 1).\n",
        "    stop_condition = False\n",
        "    decoded_sentence = ''\n",
        "    while not stop_condition:\n",
        "        output_tokens, h, c = decoder_model.predict([target_seq] + states_value)\n",
        "\n",
        "        # Sample a token\n",
        "        sampled_token_index = np.argmax(output_tokens[0, -1, :])\n",
        "        sampled_char = reverse_target_char_index[sampled_token_index]\n",
        "        decoded_sentence += ' '+sampled_char\n",
        "\n",
        "        # Exit condition: either hit max length\n",
        "        # or find stop character.\n",
        "        if (sampled_char == '_END' or\n",
        "           len(decoded_sentence) > 50):\n",
        "            stop_condition = True\n",
        "\n",
        "        # Update the target sequence (of length 1).\n",
        "        target_seq = np.zeros((1,1))\n",
        "        target_seq[0, 0] = sampled_token_index\n",
        "\n",
        "        # Update states\n",
        "        states_value = [h, c]\n",
        "\n",
        "    return decoded_sentence"
      ],
      "execution_count": 0,
      "outputs": []
    },
    {
      "cell_type": "markdown",
      "metadata": {
        "colab_type": "text",
        "id": "BmOR00fXNgFe"
      },
      "source": [
        "# Evaluation on Train Dataset"
      ]
    },
    {
      "cell_type": "code",
      "metadata": {
        "colab_type": "code",
        "id": "Vm_zRElrNd39",
        "colab": {}
      },
      "source": [
        "train_gen = generate_batch(X_train, y_train, batch_size = 1)\n",
        "k=-1"
      ],
      "execution_count": 0,
      "outputs": []
    },
    {
      "cell_type": "code",
      "metadata": {
        "colab_type": "code",
        "id": "gUFD9t9ENhbG",
        "outputId": "505f7a90-57d1-4d7c-af5a-61f8081209c5",
        "colab": {
          "base_uri": "https://localhost:8080/",
          "height": 70
        }
      },
      "source": [
        "k+=1\n",
        "(input_seq, actual_output), _ = next(train_gen)\n",
        "decoded_sentence = decode_sequence(input_seq)\n",
        "print('Input English sentence:', X_train[k:k+1].values[0])\n",
        "print('Actual German Translation:', y_train[k:k+1].values[0][6:-4])\n",
        "print('Predicted German Translation:', decoded_sentence[:-4])"
      ],
      "execution_count": 59,
      "outputs": [
        {
          "output_type": "stream",
          "text": [
            "Input English sentence: after the waves\n",
            "Actual German Translation:  erst die wellen \n",
            "Predicted German Translation:  \n"
          ],
          "name": "stdout"
        }
      ]
    },
    {
      "cell_type": "code",
      "metadata": {
        "colab_type": "code",
        "id": "x5j_RvtnNheP",
        "outputId": "cb2d3087-9733-436d-abd8-9a939ddd3e6b",
        "colab": {
          "base_uri": "https://localhost:8080/",
          "height": 70
        }
      },
      "source": [
        "k+=1\n",
        "(input_seq, actual_output), _ = next(train_gen)\n",
        "decoded_sentence = decode_sequence(input_seq)\n",
        "print('Input English sentence:', X_train[k:k+1].values[0])\n",
        "print('Actual German Translation:', y_train[k:k+1].values[0][6:-4])\n",
        "print('Predicted German Translation:', decoded_sentence[:-4])"
      ],
      "execution_count": 60,
      "outputs": [
        {
          "output_type": "stream",
          "text": [
            "Input English sentence: soon all is quiet in the bus\n",
            "Actual German Translation:  schnell wird es ruhig im bus \n",
            "Predicted German Translation:  \n"
          ],
          "name": "stdout"
        }
      ]
    },
    {
      "cell_type": "code",
      "metadata": {
        "colab_type": "code",
        "id": "t7KzAzWTNhhh",
        "outputId": "6d03598f-6360-4fa8-a61c-70745f18e753",
        "colab": {
          "base_uri": "https://localhost:8080/",
          "height": 70
        }
      },
      "source": [
        "k+=1\n",
        "(input_seq, actual_output), _ = next(train_gen)\n",
        "decoded_sentence = decode_sequence(input_seq)\n",
        "print('Input English sentence:', X_train[k:k+1].values[0])\n",
        "print('Actual German Translation:', y_train[k:k+1].values[0][6:-4])\n",
        "print('Predicted German Translation:', decoded_sentence[:-4])"
      ],
      "execution_count": 61,
      "outputs": [
        {
          "output_type": "stream",
          "text": [
            "Input English sentence: when you ask taxpayers to take extraordinary measures because of the irresponsibility of some\n",
            "Actual German Translation:  wenn man die steuerzahler darum bittet \n",
            "Predicted German Translation:  \n"
          ],
          "name": "stdout"
        }
      ]
    },
    {
      "cell_type": "markdown",
      "metadata": {
        "colab_type": "text",
        "id": "2tpV8t7HOc8R"
      },
      "source": [
        "# Evaluation on Validation Dataset"
      ]
    },
    {
      "cell_type": "code",
      "metadata": {
        "colab_type": "code",
        "id": "Ew_6eBkXNhkm",
        "colab": {}
      },
      "source": [
        "val_gen = generate_batch(X_test, y_test, batch_size = 1)\n",
        "k=-1"
      ],
      "execution_count": 0,
      "outputs": []
    },
    {
      "cell_type": "code",
      "metadata": {
        "colab_type": "code",
        "id": "JAc4u_sbOgV8",
        "outputId": "a60886b5-c9a4-441f-d7b3-dd114fb6c648",
        "colab": {
          "base_uri": "https://localhost:8080/",
          "height": 70
        }
      },
      "source": [
        "k+=1\n",
        "(input_seq, actual_output), _ = next(val_gen)\n",
        "decoded_sentence = decode_sequence(input_seq)\n",
        "print('Input English sentence:', X_test[k:k+1].values[0])\n",
        "print('Actual German Translation:', y_test[k:k+1].values[0][6:-4])\n",
        "print('Predicted German Translation:', decoded_sentence[:-4])"
      ],
      "execution_count": 63,
      "outputs": [
        {
          "output_type": "stream",
          "text": [
            "Input English sentence: aig is ready to explore the sale of most of its activities beyond its international life insurance and its pension business in the united states\n",
            "Actual German Translation:  aig ist dazu bereit \n",
            "Predicted German Translation:  \n"
          ],
          "name": "stdout"
        }
      ]
    },
    {
      "cell_type": "code",
      "metadata": {
        "colab_type": "code",
        "id": "6qjx9jmtOlBn",
        "outputId": "7ea137e9-cd61-4676-bf1d-2a68ffe9bab9",
        "colab": {
          "base_uri": "https://localhost:8080/",
          "height": 70
        }
      },
      "source": [
        "k+=1\n",
        "(input_seq, actual_output), _ = next(val_gen)\n",
        "decoded_sentence = decode_sequence(input_seq)\n",
        "print('Input English sentence:', X_test[k:k+1].values[0])\n",
        "print('Actual German Translation:', y_test[k:k+1].values[0][6:-4])\n",
        "print('Predicted German Translation:', decoded_sentence[:-4])"
      ],
      "execution_count": 64,
      "outputs": [
        {
          "output_type": "stream",
          "text": [
            "Input English sentence: in a rare shared opinion with a statement by o\n",
            "Actual German Translation:  die pressesprecherin von tmobile martina kemrová fügt in seltener übereinstimmung mit der erklärung von o hinzu bislang haben wir noch kein lebensfähiges und beidseitig vorteilhaftes projekt gefunden \n",
            "Predicted German Translation:  \n"
          ],
          "name": "stdout"
        }
      ]
    },
    {
      "cell_type": "code",
      "metadata": {
        "colab_type": "code",
        "id": "Mt_UxJJhOt8l",
        "outputId": "28099f83-3b9b-4ad1-f727-422db6ad4e82",
        "colab": {
          "base_uri": "https://localhost:8080/",
          "height": 70
        }
      },
      "source": [
        "k+=1\n",
        "(input_seq, actual_output), _ = next(val_gen)\n",
        "decoded_sentence = decode_sequence(input_seq)\n",
        "print('Input English sentence:', X_test[k:k+1].values[0])\n",
        "print('Actual German Translation:', y_test[k:k+1].values[0][6:-4])\n",
        "print('Predicted German Translation:', decoded_sentence[:-4])"
      ],
      "execution_count": 65,
      "outputs": [
        {
          "output_type": "stream",
          "text": [
            "Input English sentence: the name and tax number of our company were placed incorrectly on the stamp\n",
            "Actual German Translation:  unser firmenname und die steuernummer waren auf dem stempel falsch angebracht \n",
            "Predicted German Translation:  \n"
          ],
          "name": "stdout"
        }
      ]
    }
  ]
}