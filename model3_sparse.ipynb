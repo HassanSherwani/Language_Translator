{
  "nbformat": 4,
  "nbformat_minor": 0,
  "metadata": {
    "colab": {
      "name": "model3_sparse.ipynb",
      "version": "0.3.2",
      "provenance": [],
      "collapsed_sections": []
    },
    "kernelspec": {
      "name": "python3",
      "display_name": "Python 3"
    },
    "accelerator": "GPU"
  },
  "cells": [
    {
      "cell_type": "markdown",
      "metadata": {
        "id": "QJxJLfT6m4zo",
        "colab_type": "text"
      },
      "source": [
        "# Machine Translation\n",
        "\n",
        "German-English"
      ]
    },
    {
      "cell_type": "markdown",
      "metadata": {
        "id": "YvFSu3KOnCQI",
        "colab_type": "text"
      },
      "source": [
        "# 1)- Importing key modules"
      ]
    },
    {
      "cell_type": "code",
      "metadata": {
        "id": "ydSdCo4JzRta",
        "colab_type": "code",
        "colab": {}
      },
      "source": [
        "#support both Python 2 and Python 3 with minimal overhead.\n",
        "from __future__ import absolute_import, division, print_function\n",
        "#ignore warnings\n",
        "import warnings\n",
        "warnings.filterwarnings('ignore')"
      ],
      "execution_count": 0,
      "outputs": []
    },
    {
      "cell_type": "code",
      "metadata": {
        "id": "HXdjBXc-zNXe",
        "colab_type": "code",
        "colab": {}
      },
      "source": [
        "import string \n",
        "import re \n",
        "from numpy import array, argmax, random, take \n",
        "import pandas as pd \n",
        "import matplotlib.pyplot as plt \n",
        "% matplotlib inline \n",
        "pd.set_option('display.max_colwidth', 200)"
      ],
      "execution_count": 0,
      "outputs": []
    },
    {
      "cell_type": "code",
      "metadata": {
        "id": "ElRcz5K3hJrC",
        "colab_type": "code",
        "outputId": "2429a024-37a3-4e3c-8015-3a9e831b757c",
        "colab": {
          "base_uri": "https://localhost:8080/",
          "height": 34
        }
      },
      "source": [
        "from keras.models import Sequential \n",
        "from keras.layers import Dense, LSTM, Embedding, RepeatVector\n",
        "from keras.preprocessing.text import Tokenizer\n",
        "from keras.callbacks import ModelCheckpoint \n",
        "from keras.preprocessing.sequence import pad_sequences\n",
        "from keras.models import load_model \n",
        "from keras import optimizers \n"
      ],
      "execution_count": 3,
      "outputs": [
        {
          "output_type": "stream",
          "text": [
            "Using TensorFlow backend.\n"
          ],
          "name": "stderr"
        }
      ]
    },
    {
      "cell_type": "code",
      "metadata": {
        "id": "oAKOREWdCLPr",
        "colab_type": "code",
        "colab": {}
      },
      "source": [
        "import tensorflow as tf\n",
        "from tensorflow import keras\n",
        "from tensorflow.keras.models import Model\n",
        "from tensorflow.keras.layers import Input, LSTM, Dense, Embedding, CuDNNLSTM, Flatten, TimeDistributed, Dropout, LSTMCell, RNN\n",
        "from tensorflow.keras.callbacks import ModelCheckpoint\n",
        "from tensorflow.python.keras.utils import tf_utils\n",
        "from tensorflow.keras import backend as K\n",
        "\n",
        "\n",
        "import unicodedata\n",
        "import re\n",
        "import numpy as np\n",
        "import os\n",
        "import time\n",
        "import shutil"
      ],
      "execution_count": 0,
      "outputs": []
    },
    {
      "cell_type": "markdown",
      "metadata": {
        "id": "XN_b91atnHye",
        "colab_type": "text"
      },
      "source": [
        "# 2)- Reading Dataset % quick preprocessing\n",
        "\n",
        "We will not be using extension step by step as there is a separate file for that. In fact , data is pretty much clean. It is only a double check and to follow all proper steps of preprocessing and data clean"
      ]
    },
    {
      "cell_type": "code",
      "metadata": {
        "id": "FYR22vaiC5UG",
        "colab_type": "code",
        "colab": {}
      },
      "source": [
        "path_to_file = \"merged2015.txt\""
      ],
      "execution_count": 0,
      "outputs": []
    },
    {
      "cell_type": "code",
      "metadata": {
        "id": "eziqj57OCQOj",
        "colab_type": "code",
        "colab": {}
      },
      "source": [
        "class LanguageIndex():\n",
        "    def __init__(self, lang):\n",
        "        self.lang = lang\n",
        "        self.word2idx = {}\n",
        "        self.idx2word = {}\n",
        "        self.vocab = set()\n",
        "        self.create_index()\n",
        "    def create_index(self):\n",
        "        for phrase in self.lang:\n",
        "            self.vocab.update(phrase.split(' '))\n",
        "        self.vocab = sorted(self.vocab)\n",
        "        self.word2idx[\"<pad>\"] = 0\n",
        "        self.idx2word[0] = \"<pad>\"\n",
        "        for i,word in enumerate(self.vocab):\n",
        "            self.word2idx[word] = i + 1\n",
        "            self.idx2word[i+1] = word"
      ],
      "execution_count": 0,
      "outputs": []
    },
    {
      "cell_type": "code",
      "metadata": {
        "id": "pygpKzHnCQRZ",
        "colab_type": "code",
        "colab": {}
      },
      "source": [
        "def unicode_to_ascii(s):\n",
        "    return ''.join(c for c in unicodedata.normalize('NFD', s) if unicodedata.category(c) != 'Mn')\n",
        "def preprocess_sentence(w):\n",
        "    w = unicode_to_ascii(w.lower().strip())\n",
        "    w = re.sub(r\"([?.!,¿])\", r\" \\1 \", w)\n",
        "    w = re.sub(r'[\" \"]+', \" \", w)\n",
        "    w = re.sub(r\"[^a-zA-Z?.!,¿]+\", \" \", w)\n",
        "    w = w.rstrip().strip()\n",
        "    w = \"<start> \" + w + \" <end>\"\n",
        "    return w\n",
        "\n",
        "def max_length(t):\n",
        "    return max(len(i) for i in t)\n",
        "\n",
        "def create_dataset(path, num_examples):\n",
        "    lines = open(path, encoding=\"UTF-8\").read().strip().split(\"\\n\")\n",
        "    word_pairs = [[preprocess_sentence(w) for w in l.split(\"\\t\")] for l in lines[:num_examples]]\n",
        "    return word_pairs\n",
        "\n",
        "def load_dataset(path, num_examples):\n",
        "    pairs = create_dataset(path, num_examples)\n",
        "    out_lang = LanguageIndex(sp for en, sp in pairs)\n",
        "    in_lang = LanguageIndex(en for en, sp in pairs)\n",
        "    input_data = [[in_lang.word2idx[s] for s in en.split(' ')] for en, sp in pairs]\n",
        "    output_data = [[out_lang.word2idx[s] for s in sp.split(' ')] for en, sp in pairs]\n",
        "\n",
        "    max_length_in, max_length_out = max_length(input_data), max_length(output_data)\n",
        "    input_data = tf.keras.preprocessing.sequence.pad_sequences(input_data, maxlen=max_length_in, padding=\"post\")\n",
        "    output_data = tf.keras.preprocessing.sequence.pad_sequences(output_data, maxlen=max_length_out, padding=\"post\")\n",
        "    return input_data, output_data, in_lang, out_lang, max_length_in, max_length_out"
      ],
      "execution_count": 0,
      "outputs": []
    },
    {
      "cell_type": "code",
      "metadata": {
        "id": "v88OB32ACQUI",
        "colab_type": "code",
        "colab": {}
      },
      "source": [
        "#num_examples = 118000 # Full example set.\n",
        "num_examples = 30000 # Partial set for faster training\n",
        "input_data, teacher_data, input_lang, target_lang, len_input, len_target = load_dataset(path_to_file, num_examples)"
      ],
      "execution_count": 0,
      "outputs": []
    },
    {
      "cell_type": "code",
      "metadata": {
        "id": "dqTixoujCQXR",
        "colab_type": "code",
        "colab": {}
      },
      "source": [
        "target_data = [[teacher_data[n][i+1] for i in range(len(teacher_data[n])-1)] for n in range(len(teacher_data))]\n",
        "target_data = tf.keras.preprocessing.sequence.pad_sequences(target_data, maxlen=len_target, padding=\"post\")\n",
        "target_data = target_data.reshape((target_data.shape[0], target_data.shape[1], 1))\n",
        "\n",
        "# Shuffle all of the data in unison. This training set has the longest (e.g. most complicated) data at the end,\n",
        "# so a simple Keras validation split will be problematic if not shuffled.\n",
        "p = np.random.permutation(len(input_data))\n",
        "input_data = input_data[p]\n",
        "teacher_data = teacher_data[p]\n",
        "target_data = target_data[p]\n",
        "\n",
        "BUFFER_SIZE = len(input_data)\n",
        "BATCH_SIZE = 64\n",
        "embedding_dim = 256\n",
        "units = 1024\n",
        "vocab_in_size = len(input_lang.word2idx)\n",
        "vocab_out_size = len(target_lang.word2idx)"
      ],
      "execution_count": 0,
      "outputs": []
    },
    {
      "cell_type": "markdown",
      "metadata": {
        "id": "_I0SUICZDtoi",
        "colab_type": "text"
      },
      "source": [
        "# Creating the Seq2Seq Model"
      ]
    },
    {
      "cell_type": "code",
      "metadata": {
        "id": "5k6dy3HjCQaR",
        "colab_type": "code",
        "colab": {}
      },
      "source": [
        ""
      ],
      "execution_count": 0,
      "outputs": []
    },
    {
      "cell_type": "code",
      "metadata": {
        "id": "ISPFDcU3CQdC",
        "colab_type": "code",
        "colab": {
          "base_uri": "https://localhost:8080/",
          "height": 123
        },
        "outputId": "6c58f114-f1f2-4bd9-88de-fd04a033a7ec"
      },
      "source": [
        "# Create the Encoder layers first.\n",
        "encoder_inputs = Input(shape=(len_input,))\n",
        "encoder_emb = Embedding(input_dim=vocab_in_size, output_dim=embedding_dim)\n",
        "encoder_lstm = CuDNNLSTM(units=units, return_sequences=True, return_state=True)\n",
        "encoder_outputs, state_h, state_c = encoder_lstm(encoder_emb(encoder_inputs))\n",
        "encoder_states = [state_h, state_c]\n",
        "\n",
        "# Now create the Decoder layers.\n",
        "decoder_inputs = Input(shape=(None,))\n",
        "decoder_emb = Embedding(input_dim=vocab_out_size, output_dim=embedding_dim)\n",
        "decoder_lstm = CuDNNLSTM(units=units, return_sequences=True, return_state=True)\n",
        "decoder_lstm_out, _, _ = decoder_lstm(decoder_emb(decoder_inputs), initial_state=encoder_states)\n",
        "# Two dense layers added to this model to improve inference capabilities.\n",
        "decoder_d1 = Dense(units, activation=\"relu\")\n",
        "decoder_d2 = Dense(vocab_out_size, activation=\"softmax\")\n",
        "# Drop-out is added in the dense layers to help mitigate overfitting in this part of the model. Astute developers\n",
        "# may want to add the same mechanism inside the LSTMs.\n",
        "decoder_out = decoder_d2(Dropout(rate=.4)(decoder_d1(Dropout(rate=.4)(decoder_lstm_out))))\n",
        "\n",
        "# Finally, create a training model which combines the encoder and the decoder.\n",
        "# Note that this model has three inputs:\n",
        "#  encoder_inputs=[batch,encoded_words] from input language (English)\n",
        "#  decoder_inputs=[batch,encoded_words] from output language (Spanish). This is the \"teacher tensor\".\n",
        "#  decoder_out=[batch,encoded_words] from output language (Spanish). This is the \"target tensor\".\n",
        "model = Model([encoder_inputs, decoder_inputs], decoder_out)\n",
        "# We'll use sparse_categorical_crossentropy so we don't have to expand decoder_out into a massive one-hot array.\n",
        "#  Adam is used because it's, well, the best.\n",
        "model.compile(optimizer=tf.train.AdamOptimizer(), loss=\"sparse_categorical_crossentropy\", metrics=['sparse_categorical_accuracy'])"
      ],
      "execution_count": 21,
      "outputs": [
        {
          "output_type": "stream",
          "text": [
            "WARNING:tensorflow:From /usr/local/lib/python3.6/dist-packages/tensorflow/python/keras/initializers.py:119: calling RandomUniform.__init__ (from tensorflow.python.ops.init_ops) with dtype is deprecated and will be removed in a future version.\n",
            "Instructions for updating:\n",
            "Call initializer instance with the dtype argument instead of passing it to the constructor\n",
            "WARNING:tensorflow:From /usr/local/lib/python3.6/dist-packages/tensorflow/python/ops/init_ops.py:1251: calling VarianceScaling.__init__ (from tensorflow.python.ops.init_ops) with dtype is deprecated and will be removed in a future version.\n",
            "Instructions for updating:\n",
            "Call initializer instance with the dtype argument instead of passing it to the constructor\n"
          ],
          "name": "stdout"
        }
      ]
    },
    {
      "cell_type": "code",
      "metadata": {
        "id": "UOQymUzOEYWp",
        "colab_type": "code",
        "colab": {
          "base_uri": "https://localhost:8080/",
          "height": 550
        },
        "outputId": "35c2b866-83b0-4315-848b-4431f7e1278b"
      },
      "source": [
        "model.summary()"
      ],
      "execution_count": 22,
      "outputs": [
        {
          "output_type": "stream",
          "text": [
            "Model: \"model\"\n",
            "__________________________________________________________________________________________________\n",
            "Layer (type)                    Output Shape         Param #     Connected to                     \n",
            "==================================================================================================\n",
            "input_1 (InputLayer)            [(None, 73)]         0                                            \n",
            "__________________________________________________________________________________________________\n",
            "input_2 (InputLayer)            [(None, None)]       0                                            \n",
            "__________________________________________________________________________________________________\n",
            "embedding (Embedding)           (None, 73, 256)      1851648     input_1[0][0]                    \n",
            "__________________________________________________________________________________________________\n",
            "embedding_1 (Embedding)         (None, None, 256)    2377216     input_2[0][0]                    \n",
            "__________________________________________________________________________________________________\n",
            "cu_dnnlstm (CuDNNLSTM)          [(None, 73, 1024), ( 5251072     embedding[0][0]                  \n",
            "__________________________________________________________________________________________________\n",
            "cu_dnnlstm_1 (CuDNNLSTM)        [(None, None, 1024), 5251072     embedding_1[0][0]                \n",
            "                                                                 cu_dnnlstm[0][1]                 \n",
            "                                                                 cu_dnnlstm[0][2]                 \n",
            "__________________________________________________________________________________________________\n",
            "dropout_1 (Dropout)             (None, None, 1024)   0           cu_dnnlstm_1[0][0]               \n",
            "__________________________________________________________________________________________________\n",
            "dense (Dense)                   (None, None, 1024)   1049600     dropout_1[0][0]                  \n",
            "__________________________________________________________________________________________________\n",
            "dropout (Dropout)               (None, None, 1024)   0           dense[0][0]                      \n",
            "__________________________________________________________________________________________________\n",
            "dense_1 (Dense)                 (None, None, 9286)   9518150     dropout[0][0]                    \n",
            "==================================================================================================\n",
            "Total params: 25,298,758\n",
            "Trainable params: 25,298,758\n",
            "Non-trainable params: 0\n",
            "__________________________________________________________________________________________________\n"
          ],
          "name": "stdout"
        }
      ]
    },
    {
      "cell_type": "code",
      "metadata": {
        "id": "plUWeITuCQgK",
        "colab_type": "code",
        "colab": {
          "base_uri": "https://localhost:8080/",
          "height": 443
        },
        "outputId": "947aaae0-78fb-4179-ba91-2defd2409f08"
      },
      "source": [
        "# Note, we use 20% of our data for validation.\n",
        "epochs = 10\n",
        "history = model.fit([input_data, teacher_data], target_data,\n",
        "                 batch_size=BATCH_SIZE,\n",
        "                 epochs=epochs,\n",
        "                 validation_split=0.2)"
      ],
      "execution_count": 23,
      "outputs": [
        {
          "output_type": "stream",
          "text": [
            "Train on 5205 samples, validate on 1302 samples\n",
            "WARNING:tensorflow:From /usr/local/lib/python3.6/dist-packages/tensorflow/python/ops/math_grad.py:1250: add_dispatch_support.<locals>.wrapper (from tensorflow.python.ops.array_ops) is deprecated and will be removed in a future version.\n",
            "Instructions for updating:\n",
            "Use tf.where in 2.0, which has the same broadcast rule as np.where\n",
            "Epoch 1/10\n",
            "5205/5205 [==============================] - 43s 8ms/sample - loss: 2.6352 - sparse_categorical_accuracy: 0.7025 - val_loss: 1.7803 - val_sparse_categorical_accuracy: 0.7649\n",
            "Epoch 2/10\n",
            "5205/5205 [==============================] - 42s 8ms/sample - loss: 1.7307 - sparse_categorical_accuracy: 0.7635 - val_loss: 1.7091 - val_sparse_categorical_accuracy: 0.7677\n",
            "Epoch 3/10\n",
            "5205/5205 [==============================] - 42s 8ms/sample - loss: 1.6632 - sparse_categorical_accuracy: 0.7664 - val_loss: 1.6548 - val_sparse_categorical_accuracy: 0.7689\n",
            "Epoch 4/10\n",
            "5205/5205 [==============================] - 41s 8ms/sample - loss: 1.6405 - sparse_categorical_accuracy: 0.7649 - val_loss: 1.6172 - val_sparse_categorical_accuracy: 0.7694\n",
            "Epoch 5/10\n",
            "5205/5205 [==============================] - 41s 8ms/sample - loss: 1.5498 - sparse_categorical_accuracy: 0.7684 - val_loss: 1.5619 - val_sparse_categorical_accuracy: 0.7702\n",
            "Epoch 6/10\n",
            "5205/5205 [==============================] - 42s 8ms/sample - loss: 1.4911 - sparse_categorical_accuracy: 0.7697 - val_loss: 1.5126 - val_sparse_categorical_accuracy: 0.7710\n",
            "Epoch 7/10\n",
            "5205/5205 [==============================] - 41s 8ms/sample - loss: 1.4326 - sparse_categorical_accuracy: 0.7714 - val_loss: 1.4626 - val_sparse_categorical_accuracy: 0.7718\n",
            "Epoch 8/10\n",
            "5205/5205 [==============================] - 41s 8ms/sample - loss: 1.3765 - sparse_categorical_accuracy: 0.7731 - val_loss: 1.4089 - val_sparse_categorical_accuracy: 0.7742\n",
            "Epoch 9/10\n",
            "5205/5205 [==============================] - 41s 8ms/sample - loss: 1.3144 - sparse_categorical_accuracy: 0.7750 - val_loss: 1.3524 - val_sparse_categorical_accuracy: 0.7761\n",
            "Epoch 10/10\n",
            "5205/5205 [==============================] - 41s 8ms/sample - loss: 1.2516 - sparse_categorical_accuracy: 0.7775 - val_loss: 1.2922 - val_sparse_categorical_accuracy: 0.7783\n"
          ],
          "name": "stdout"
        }
      ]
    },
    {
      "cell_type": "code",
      "metadata": {
        "id": "KGOo3JEkF611",
        "colab_type": "code",
        "colab": {
          "base_uri": "https://localhost:8080/",
          "height": 268
        },
        "outputId": "9e513ca4-c8a3-4010-8978-3c5b14a26b1c"
      },
      "source": [
        "# Plot the results of the training.\n",
        "plt.plot(history.history['sparse_categorical_accuracy'], label=\"Training loss\")\n",
        "plt.plot(history.history['val_sparse_categorical_accuracy'], label=\"Validation loss\")\n",
        "plt.show()"
      ],
      "execution_count": 24,
      "outputs": [
        {
          "output_type": "display_data",
          "data": {
            "image/png": "[encoded data removed]",
            "text/plain": [
              "<Figure size 432x288 with 1 Axes>"
            ]
          },
          "metadata": {
            "tags": []
          }
        }
      ]
    },
    {
      "cell_type": "markdown",
      "metadata": {
        "id": "OTG8zJyNDxqK",
        "colab_type": "text"
      },
      "source": [
        "# Inference"
      ]
    },
    {
      "cell_type": "code",
      "metadata": {
        "id": "C693eOhxCQjC",
        "colab_type": "code",
        "colab": {}
      },
      "source": [
        "# Create the encoder model from the tensors we previously declared.\n",
        "encoder_model = Model(encoder_inputs, [encoder_outputs, state_h, state_c])\n",
        "\n",
        "# Generate a new set of tensors for our new inference decoder. Note that we are using new tensors, \n",
        "# this does not preclude using the same underlying layers that we trained on. (e.g. weights/biases).\n",
        "inf_decoder_inputs = Input(shape=(None,), name=\"inf_decoder_inputs\")\n",
        "# We'll need to force feed the two state variables into the decoder each step.\n",
        "state_input_h = Input(shape=(units,), name=\"state_input_h\")\n",
        "state_input_c = Input(shape=(units,), name=\"state_input_c\")\n",
        "decoder_res, decoder_h, decoder_c = decoder_lstm(\n",
        "    decoder_emb(inf_decoder_inputs), \n",
        "    initial_state=[state_input_h, state_input_c])\n",
        "inf_decoder_out = decoder_d2(decoder_d1(decoder_res))\n",
        "inf_model = Model(inputs=[inf_decoder_inputs, state_input_h, state_input_c], \n",
        "                  outputs=[inf_decoder_out, decoder_h, decoder_c])"
      ],
      "execution_count": 0,
      "outputs": []
    },
    {
      "cell_type": "code",
      "metadata": {
        "id": "-vAVR-CbCQl7",
        "colab_type": "code",
        "colab": {}
      },
      "source": [
        "# Converts the given sentence (just a string) into a vector of word IDs\n",
        "# using the language specified. This can be used for either the input (English)\n",
        "# or target (German) languages.\n",
        "# Output is 1-D: [timesteps/words]\n",
        "def sentence_to_vector(sentence, lang):\n",
        "    pre = preprocess_sentence(sentence)\n",
        "    vec = np.zeros(len_input)\n",
        "    sentence_list = [lang.word2idx[s] for s in pre.split(' ')]\n",
        "    for i,w in enumerate(sentence_list):\n",
        "        vec[i] = w\n",
        "    return vec\n",
        "\n",
        "# Given an input string, an encoder model (infenc_model) and a decoder model (infmodel),\n",
        "# return a translated string.\n",
        "def translate(input_sentence, infenc_model, infmodel, attention=False):\n",
        "    sv = sentence_to_vector(input_sentence, input_lang)\n",
        "    # Reshape so we can use the encoder model. New shape=[samples,sequence length]\n",
        "    sv = sv.reshape(1,len(sv))\n",
        "    [emb_out, sh, sc] = infenc_model.predict(x=sv)\n",
        "    \n",
        "    i = 0\n",
        "    start_vec = target_lang.word2idx[\"<start>\"]\n",
        "    stop_vec = target_lang.word2idx[\"<end>\"]\n",
        "    # We will continuously feed cur_vec as an input into the decoder to produce the next word,\n",
        "    # which will be assigned to cur_vec. Start it with \"<start>\".\n",
        "    cur_vec = np.zeros((1,1))\n",
        "    cur_vec[0,0] = start_vec\n",
        "    cur_word = \"<start>\"\n",
        "    output_sentence = \"\"\n",
        "    # Start doing the feeding. Terminate when the model predicts an \"<end>\" or we reach the end\n",
        "    # of the max target language sentence length.\n",
        "    while cur_word != \"<end>\" and i < (len_target-1):\n",
        "        i += 1\n",
        "        if cur_word != \"<start>\":\n",
        "            output_sentence = output_sentence + \" \" + cur_word\n",
        "        x_in = [cur_vec, sh, sc]\n",
        "        # This will allow us to accomodate attention models, which we will talk about later.\n",
        "        if attention:\n",
        "            x_in += [emb_out]\n",
        "        [nvec, sh, sc] = infmodel.predict(x=x_in)\n",
        "        # The output of the model is a massive softmax vector with one spot for every possible word. Convert\n",
        "        # it to a word ID using argmax().\n",
        "        cur_vec[0,0] = np.argmax(nvec[0,0])\n",
        "        cur_word = target_lang.idx2word[np.argmax(nvec[0,0])]\n",
        "    return output_sentence"
      ],
      "execution_count": 0,
      "outputs": []
    },
    {
      "cell_type": "code",
      "metadata": {
        "id": "BkP3J2JZCQo_",
        "colab_type": "code",
        "colab": {}
      },
      "source": [
        "# Let's test out the model! Feel free to modify as you see fit. Note that only words\n",
        "# that we've trained the model on will be available, otherwise you'll get an error.\n",
        "#print(translate(\"india is also reportedly hoping for a deal on defence collaboration between the two nations\", encoder_model, inf_model))\n"
      ],
      "execution_count": 0,
      "outputs": []
    }
  ]
}