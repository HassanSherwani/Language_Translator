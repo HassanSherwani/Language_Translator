{
 "cells": [
  {
   "cell_type": "markdown",
   "metadata": {
    "colab_type": "text",
    "id": "_t3V5W67K5zX"
   },
   "source": [
    "# Machine Translation\n",
    "\n"
   ]
  },
  {
   "cell_type": "markdown",
   "metadata": {
    "colab_type": "text",
    "id": "8Q5A1ySzLPrq"
   },
   "source": [
    "# 1)- Importing key modules"
   ]
  },
  {
   "cell_type": "code",
   "execution_count": 1,
   "metadata": {
    "colab": {},
    "colab_type": "code",
    "id": "dPBH2WUkKwz-"
   },
   "outputs": [],
   "source": [
    "#support both Python 2 and Python 3 with minimal overhead.\n",
    "from __future__ import absolute_import, division, print_function\n",
    "#ignore warnings\n",
    "import warnings\n",
    "warnings.filterwarnings('ignore')"
   ]
  },
  {
   "cell_type": "code",
   "execution_count": 2,
   "metadata": {
    "colab": {},
    "colab_type": "code",
    "id": "zTJY_mj6K-LS"
   },
   "outputs": [
    {
     "name": "stderr",
     "output_type": "stream",
     "text": [
      "UsageError: Line magic function `%` not found.\n"
     ]
    }
   ],
   "source": [
    "import string \n",
    "from string import digits\n",
    "from collections import Counter\n",
    "import re \n",
    "from sklearn.utils import shuffle\n",
    "import pandas as pd \n",
    "from pickle import dump\n",
    "from pickle import load\n",
    "from unicodedata import normalize\n",
    "import matplotlib.pyplot as plt \n",
    "% matplotlib inline \n",
    "pd.set_option('display.max_colwidth', 200)"
   ]
  },
  {
   "cell_type": "markdown",
   "metadata": {
    "colab_type": "text",
    "id": "5-X0sC5fLS7a"
   },
   "source": [
    "# 2)- Loading data\n",
    "\n",
    "We have data from 2009 to 2016."
   ]
  },
  {
   "cell_type": "code",
   "execution_count": 3,
   "metadata": {
    "colab": {},
    "colab_type": "code",
    "id": "tFpuPSdKLEtJ"
   },
   "outputs": [],
   "source": [
    "# load doc into memory\n",
    "def load_doc(filename):\n",
    "\t# open the file as read only\n",
    "\tfile = open(filename, mode='rt', encoding='utf-8')\n",
    "\t# read all text\n",
    "\ttext = file.read()\n",
    "\t# close the file\n",
    "\tfile.close()\n",
    "\treturn text"
   ]
  },
  {
   "cell_type": "code",
   "execution_count": 4,
   "metadata": {
    "colab": {},
    "colab_type": "code",
    "id": "3QpycswrLlaU"
   },
   "outputs": [],
   "source": [
    "# split a loaded document into sentences\n",
    "def to_sentences(doc):\n",
    "\treturn doc.strip().split('\\n')"
   ]
  },
  {
   "cell_type": "code",
   "execution_count": 5,
   "metadata": {
    "colab": {},
    "colab_type": "code",
    "id": "GMLe1Lk5LnAV"
   },
   "outputs": [],
   "source": [
    "# shortest and longest sentence lengths\n",
    "def sentence_lengths(sentences):\n",
    "\tlengths = [len(s.split()) for s in sentences]\n",
    "\treturn min(lengths), max(lengths)"
   ]
  },
  {
   "cell_type": "markdown",
   "metadata": {
    "colab_type": "text",
    "id": "lkrmOs7-L0X0"
   },
   "source": [
    "### 2.1)- For year 2009"
   ]
  },
  {
   "cell_type": "code",
   "execution_count": 6,
   "metadata": {
    "colab": {
     "base_uri": "https://localhost:8080/",
     "height": 50
    },
    "colab_type": "code",
    "id": "Xg8f11ToLpnc",
    "outputId": "311de7c7-f649-42f0-8cd9-ec431b5807f4"
   },
   "outputs": [
    {
     "name": "stdout",
     "output_type": "stream",
     "text": [
      "English data: sentences=2525, min=1, max=108\n",
      "German data: sentences=2525, min=1, max=110\n"
     ]
    }
   ],
   "source": [
    "# load English data\n",
    "filename = 'newstest2009.en'\n",
    "doc = load_doc(filename)\n",
    "sentences = to_sentences(doc)\n",
    "minlen, maxlen = sentence_lengths(sentences)\n",
    "print('English data: sentences=%d, min=%d, max=%d' % (len(sentences), minlen, maxlen))\n",
    "\n",
    "# load French data\n",
    "filename = 'newstest2009.de'\n",
    "doc = load_doc(filename)\n",
    "sentences = to_sentences(doc)\n",
    "minlen, maxlen = sentence_lengths(sentences)\n",
    "print('German data: sentences=%d, min=%d, max=%d' % (len(sentences), minlen, maxlen))"
   ]
  },
  {
   "cell_type": "markdown",
   "metadata": {
    "colab_type": "text",
    "id": "SQmRuUHGL74N"
   },
   "source": [
    "It is important to notice that sentence length is same. So, we have a balanced data.\n",
    "\n",
    "We shall check this on all years"
   ]
  },
  {
   "cell_type": "markdown",
   "metadata": {
    "colab_type": "text",
    "id": "lr3hYKrBMGtQ"
   },
   "source": [
    "### 2.2)-For 2010"
   ]
  },
  {
   "cell_type": "code",
   "execution_count": 7,
   "metadata": {
    "colab": {
     "base_uri": "https://localhost:8080/",
     "height": 50
    },
    "colab_type": "code",
    "id": "bF2HZBV-LycJ",
    "outputId": "acdf8664-6604-4301-8d9d-ba390eaf4347"
   },
   "outputs": [
    {
     "name": "stdout",
     "output_type": "stream",
     "text": [
      "English data: sentences=2489, min=1, max=74\n",
      "German data: sentences=2489, min=1, max=86\n"
     ]
    }
   ],
   "source": [
    "# load English data\n",
    "filename = 'newstest2010.en'\n",
    "doc = load_doc(filename)\n",
    "sentences = to_sentences(doc)\n",
    "minlen, maxlen = sentence_lengths(sentences)\n",
    "print('English data: sentences=%d, min=%d, max=%d' % (len(sentences), minlen, maxlen))\n",
    "\n",
    "# load French data\n",
    "filename = 'newstest2010.de'\n",
    "doc = load_doc(filename)\n",
    "sentences = to_sentences(doc)\n",
    "minlen, maxlen = sentence_lengths(sentences)\n",
    "print('German data: sentences=%d, min=%d, max=%d' % (len(sentences), minlen, maxlen))"
   ]
  },
  {
   "cell_type": "markdown",
   "metadata": {
    "colab_type": "text",
    "id": "xFaKT4WENIA0"
   },
   "source": [
    "### 2.3)-For year 2011"
   ]
  },
  {
   "cell_type": "code",
   "execution_count": 8,
   "metadata": {
    "colab": {
     "base_uri": "https://localhost:8080/",
     "height": 50
    },
    "colab_type": "code",
    "id": "OFdlOFxaM8GF",
    "outputId": "36ee1165-5d13-4dab-84dc-23b0f15cf953"
   },
   "outputs": [
    {
     "name": "stdout",
     "output_type": "stream",
     "text": [
      "English data: sentences=3003, min=1, max=93\n",
      "German data: sentences=3003, min=1, max=92\n"
     ]
    }
   ],
   "source": [
    "# load English data\n",
    "filename = 'newstest2011.en'\n",
    "doc = load_doc(filename)\n",
    "sentences = to_sentences(doc)\n",
    "minlen, maxlen = sentence_lengths(sentences)\n",
    "print('English data: sentences=%d, min=%d, max=%d' % (len(sentences), minlen, maxlen))\n",
    "\n",
    "# load French data\n",
    "filename = 'newstest2011.de'\n",
    "doc = load_doc(filename)\n",
    "sentences = to_sentences(doc)\n",
    "minlen, maxlen = sentence_lengths(sentences)\n",
    "print('German data: sentences=%d, min=%d, max=%d' % (len(sentences), minlen, maxlen))"
   ]
  },
  {
   "cell_type": "markdown",
   "metadata": {
    "colab_type": "text",
    "id": "H-iKcf42NQl9"
   },
   "source": [
    "### 2.4)-For year 2012"
   ]
  },
  {
   "cell_type": "code",
   "execution_count": 9,
   "metadata": {
    "colab": {
     "base_uri": "https://localhost:8080/",
     "height": 50
    },
    "colab_type": "code",
    "id": "T6YRzm6yNO12",
    "outputId": "9b944f1f-774e-458a-9039-0ccffa67ab29"
   },
   "outputs": [
    {
     "name": "stdout",
     "output_type": "stream",
     "text": [
      "English data: sentences=3003, min=1, max=114\n",
      "German data: sentences=3003, min=1, max=101\n"
     ]
    }
   ],
   "source": [
    "# load English data\n",
    "filename = 'newstest2012.en'\n",
    "doc = load_doc(filename)\n",
    "sentences = to_sentences(doc)\n",
    "minlen, maxlen = sentence_lengths(sentences)\n",
    "print('English data: sentences=%d, min=%d, max=%d' % (len(sentences), minlen, maxlen))\n",
    "\n",
    "# load French data\n",
    "filename = 'newstest2012.de'\n",
    "doc = load_doc(filename)\n",
    "sentences = to_sentences(doc)\n",
    "minlen, maxlen = sentence_lengths(sentences)\n",
    "print('German data: sentences=%d, min=%d, max=%d' % (len(sentences), minlen, maxlen))"
   ]
  },
  {
   "cell_type": "markdown",
   "metadata": {
    "colab_type": "text",
    "id": "4624P_5XNUCW"
   },
   "source": [
    "### 2.5)-For year 2013"
   ]
  },
  {
   "cell_type": "code",
   "execution_count": 10,
   "metadata": {
    "colab": {
     "base_uri": "https://localhost:8080/",
     "height": 50
    },
    "colab_type": "code",
    "id": "6pqUQn_dNW8B",
    "outputId": "b7324f03-847e-44b7-9548-e0a01f752c87"
   },
   "outputs": [
    {
     "name": "stdout",
     "output_type": "stream",
     "text": [
      "English data: sentences=3000, min=1, max=82\n",
      "German data: sentences=3000, min=1, max=85\n"
     ]
    }
   ],
   "source": [
    "# load English data\n",
    "filename = 'newstest2013.en'\n",
    "doc = load_doc(filename)\n",
    "sentences = to_sentences(doc)\n",
    "minlen, maxlen = sentence_lengths(sentences)\n",
    "print('English data: sentences=%d, min=%d, max=%d' % (len(sentences), minlen, maxlen))\n",
    "\n",
    "# load French data\n",
    "filename = 'newstest2013.de'\n",
    "doc = load_doc(filename)\n",
    "sentences = to_sentences(doc)\n",
    "minlen, maxlen = sentence_lengths(sentences)\n",
    "print('German data: sentences=%d, min=%d, max=%d' % (len(sentences), minlen, maxlen))"
   ]
  },
  {
   "cell_type": "markdown",
   "metadata": {
    "colab_type": "text",
    "id": "5ROs3kgYNXzl"
   },
   "source": [
    "### 2.6)-For year 2014"
   ]
  },
  {
   "cell_type": "code",
   "execution_count": 11,
   "metadata": {
    "colab": {
     "base_uri": "https://localhost:8080/",
     "height": 50
    },
    "colab_type": "code",
    "id": "ZlS9fS1ANcTU",
    "outputId": "b6621ab2-a139-465e-96ce-f3f0fe6040bc"
   },
   "outputs": [
    {
     "name": "stdout",
     "output_type": "stream",
     "text": [
      "English data: sentences=3003, min=1, max=68\n",
      "German data: sentences=3003, min=1, max=64\n"
     ]
    }
   ],
   "source": [
    "# load English data\n",
    "filename = 'newstest2014.en'\n",
    "doc = load_doc(filename)\n",
    "sentences = to_sentences(doc)\n",
    "minlen, maxlen = sentence_lengths(sentences)\n",
    "print('English data: sentences=%d, min=%d, max=%d' % (len(sentences), minlen, maxlen))\n",
    "\n",
    "# load French data\n",
    "filename = 'newstest2014.de'\n",
    "doc = load_doc(filename)\n",
    "sentences = to_sentences(doc)\n",
    "minlen, maxlen = sentence_lengths(sentences)\n",
    "print('German data: sentences=%d, min=%d, max=%d' % (len(sentences), minlen, maxlen))"
   ]
  },
  {
   "cell_type": "markdown",
   "metadata": {
    "colab_type": "text",
    "id": "_By95YGUOKjP"
   },
   "source": [
    "### 2.7)- For year 2015"
   ]
  },
  {
   "cell_type": "code",
   "execution_count": 12,
   "metadata": {
    "colab": {
     "base_uri": "https://localhost:8080/",
     "height": 50
    },
    "colab_type": "code",
    "id": "Id289Xi1ONBv",
    "outputId": "d7d9604d-c494-4b87-b9c8-47cc10ba9d87"
   },
   "outputs": [
    {
     "name": "stdout",
     "output_type": "stream",
     "text": [
      "English data: sentences=2169, min=1, max=71\n",
      "German data: sentences=2169, min=1, max=72\n"
     ]
    }
   ],
   "source": [
    "# load English data\n",
    "filename = 'newstest2015.en'\n",
    "doc = load_doc(filename)\n",
    "sentences = to_sentences(doc)\n",
    "minlen, maxlen = sentence_lengths(sentences)\n",
    "print('English data: sentences=%d, min=%d, max=%d' % (len(sentences), minlen, maxlen))\n",
    "\n",
    "# load French data\n",
    "filename = 'newstest2015.de'\n",
    "doc = load_doc(filename)\n",
    "sentences = to_sentences(doc)\n",
    "minlen, maxlen = sentence_lengths(sentences)\n",
    "print('German data: sentences=%d, min=%d, max=%d' % (len(sentences), minlen, maxlen))"
   ]
  },
  {
   "cell_type": "markdown",
   "metadata": {
    "colab_type": "text",
    "id": "VzgjV6OjON2G"
   },
   "source": [
    "### For year 2016"
   ]
  },
  {
   "cell_type": "code",
   "execution_count": 13,
   "metadata": {
    "colab": {
     "base_uri": "https://localhost:8080/",
     "height": 50
    },
    "colab_type": "code",
    "id": "z2fUwxLLOQFR",
    "outputId": "53495f34-d4a9-4c63-a113-e531e115c426"
   },
   "outputs": [
    {
     "name": "stdout",
     "output_type": "stream",
     "text": [
      "English data: sentences=2999, min=1, max=83\n",
      "German data: sentences=2999, min=1, max=88\n"
     ]
    }
   ],
   "source": [
    "# load English data\n",
    "filename = 'newstest2016.en'\n",
    "doc = load_doc(filename)\n",
    "sentences = to_sentences(doc)\n",
    "minlen, maxlen = sentence_lengths(sentences)\n",
    "print('English data: sentences=%d, min=%d, max=%d' % (len(sentences), minlen, maxlen))\n",
    "\n",
    "# load French data\n",
    "filename = 'newstest2016.de'\n",
    "doc = load_doc(filename)\n",
    "sentences = to_sentences(doc)\n",
    "minlen, maxlen = sentence_lengths(sentences)\n",
    "print('German data: sentences=%d, min=%d, max=%d' % (len(sentences), minlen, maxlen))"
   ]
  },
  {
   "cell_type": "markdown",
   "metadata": {
    "colab_type": "text",
    "id": "4Jlgba1dOkje"
   },
   "source": [
    "**All datasets have balanced sentences for English and German version**"
   ]
  },
  {
   "cell_type": "markdown",
   "metadata": {
    "colab_type": "text",
    "id": "JgBlgGqVbzTM"
   },
   "source": [
    "# 2)- Combine Files\n",
    "\n",
    "- We can do this whole process on each file and then use one dataset pair for modeling i.e German 2015, English 2015.\n",
    "\n",
    "- Or we can combine all these files and then apply these above discussed preprocessing methods on combined data. \n",
    "\n",
    "-  We may end up with a huge data so, we need to use random sample of data to train our model.\n",
    "\n",
    "- Finally, I personally like to work with dataframes and like to see files as form of matrix or vector. So, I will convert these files into dataframes then combine both English and German translation parts in rows and columns. So, they look agreeable to me. "
   ]
  },
  {
   "cell_type": "code",
   "execution_count": 14,
   "metadata": {
    "colab": {},
    "colab_type": "code",
    "id": "nSjpKssKbjV5"
   },
   "outputs": [
    {
     "data": {
      "text/plain": [
       "(2441, 1)"
      ]
     },
     "execution_count": 14,
     "metadata": {},
     "output_type": "execute_result"
    }
   ],
   "source": [
    "df_en_2009= pd.read_table('newstest2009.en', sep=\"\\t\", names=['eng'])\n",
    "df_en_2009.shape"
   ]
  },
  {
   "cell_type": "code",
   "execution_count": 15,
   "metadata": {
    "colab": {},
    "colab_type": "code",
    "id": "oQ04coB-et9_"
   },
   "outputs": [
    {
     "data": {
      "text/plain": [
       "(2394, 1)"
      ]
     },
     "execution_count": 15,
     "metadata": {},
     "output_type": "execute_result"
    }
   ],
   "source": [
    "df_ger_2009= pd.read_table('newstest2009.de', sep=\"\\t\", names=['ger'])\n",
    "df_ger_2009.shape"
   ]
  },
  {
   "cell_type": "code",
   "execution_count": 16,
   "metadata": {},
   "outputs": [
    {
     "name": "stdout",
     "output_type": "stream",
     "text": [
      "English data: sentences=2525, min=1, max=108\n",
      "German data: sentences=2525, min=1, max=110\n"
     ]
    }
   ],
   "source": [
    "# load English data\n",
    "filename = 'newstest2009.en'\n",
    "doc = load_doc(filename)\n",
    "sentences = to_sentences(doc)\n",
    "minlen, maxlen = sentence_lengths(sentences)\n",
    "print('English data: sentences=%d, min=%d, max=%d' % (len(sentences), minlen, maxlen))\n",
    "\n",
    "# load French data\n",
    "filename = 'newstest2009.de'\n",
    "doc = load_doc(filename)\n",
    "sentences = to_sentences(doc)\n",
    "minlen, maxlen = sentence_lengths(sentences)\n",
    "print('German data: sentences=%d, min=%d, max=%d' % (len(sentences), minlen, maxlen))"
   ]
  },
  {
   "cell_type": "markdown",
   "metadata": {},
   "source": [
    "**As pandas dataframes show different lengths. How can we combine these two files as one column shows english and other column shows german**"
   ]
  },
  {
   "cell_type": "code",
   "execution_count": 39,
   "metadata": {
    "colab": {
     "base_uri": "https://localhost:8080/",
     "height": 195
    },
    "colab_type": "code",
    "id": "D5edVuf5cJjA",
    "outputId": "00f91c3b-8ecf-4e1c-fc39-11ddfc05d4a8"
   },
   "outputs": [
    {
     "data": {
      "text/html": [
       "<div>\n",
       "<style scoped>\n",
       "    .dataframe tbody tr th:only-of-type {\n",
       "        vertical-align: middle;\n",
       "    }\n",
       "\n",
       "    .dataframe tbody tr th {\n",
       "        vertical-align: top;\n",
       "    }\n",
       "\n",
       "    .dataframe thead th {\n",
       "        text-align: right;\n",
       "    }\n",
       "</style>\n",
       "<table border=\"1\" class=\"dataframe\">\n",
       "  <thead>\n",
       "    <tr style=\"text-align: right;\">\n",
       "      <th></th>\n",
       "      <th>eng</th>\n",
       "    </tr>\n",
       "  </thead>\n",
       "  <tbody>\n",
       "    <tr>\n",
       "      <th>0</th>\n",
       "      <td>Prague Stock Market falls to minus by the end of the trading day</td>\n",
       "    </tr>\n",
       "    <tr>\n",
       "      <th>1</th>\n",
       "      <td>After a sharp drop in the morning, the Prague Stock Market corrected its losses.</td>\n",
       "    </tr>\n",
       "    <tr>\n",
       "      <th>2</th>\n",
       "      <td>Transactions with stocks from the Czech Energy Enterprise (ČEZ) reached nearly half of the regular daily trading.</td>\n",
       "    </tr>\n",
       "    <tr>\n",
       "      <th>3</th>\n",
       "      <td>The Prague Stock Market immediately continued its fall from Monday at the beginning of Tuesday's trading, when it dropped by nearly six percent.</td>\n",
       "    </tr>\n",
       "    <tr>\n",
       "      <th>4</th>\n",
       "      <td>This time the fall in stocks on Wall Street is responsible for the drop.</td>\n",
       "    </tr>\n",
       "  </tbody>\n",
       "</table>\n",
       "</div>"
      ],
      "text/plain": [
       "                                                                                                                                                eng\n",
       "0                                                                                  Prague Stock Market falls to minus by the end of the trading day\n",
       "1                                                                  After a sharp drop in the morning, the Prague Stock Market corrected its losses.\n",
       "2                                 Transactions with stocks from the Czech Energy Enterprise (ČEZ) reached nearly half of the regular daily trading.\n",
       "3  The Prague Stock Market immediately continued its fall from Monday at the beginning of Tuesday's trading, when it dropped by nearly six percent.\n",
       "4                                                                          This time the fall in stocks on Wall Street is responsible for the drop."
      ]
     },
     "execution_count": 39,
     "metadata": {
      "tags": []
     },
     "output_type": "execute_result"
    }
   ],
   "source": [
    "df_en_2009.head()"
   ]
  },
  {
   "cell_type": "code",
   "execution_count": 40,
   "metadata": {
    "colab": {
     "base_uri": "https://localhost:8080/",
     "height": 195
    },
    "colab_type": "code",
    "id": "oWFE_e_Pe3_F",
    "outputId": "e4683c5d-1303-447d-fc8f-d97746a2093d"
   },
   "outputs": [
    {
     "data": {
      "text/html": [
       "<div>\n",
       "<style scoped>\n",
       "    .dataframe tbody tr th:only-of-type {\n",
       "        vertical-align: middle;\n",
       "    }\n",
       "\n",
       "    .dataframe tbody tr th {\n",
       "        vertical-align: top;\n",
       "    }\n",
       "\n",
       "    .dataframe thead th {\n",
       "        text-align: right;\n",
       "    }\n",
       "</style>\n",
       "<table border=\"1\" class=\"dataframe\">\n",
       "  <thead>\n",
       "    <tr style=\"text-align: right;\">\n",
       "      <th></th>\n",
       "      <th>ger</th>\n",
       "    </tr>\n",
       "  </thead>\n",
       "  <tbody>\n",
       "    <tr>\n",
       "      <th>0</th>\n",
       "      <td>Die Prager Börse stürzt gegen Geschäftsschluss ins Minus.</td>\n",
       "    </tr>\n",
       "    <tr>\n",
       "      <th>1</th>\n",
       "      <td>Nach dem steilen Abfall am Morgen konnte die Prager Börse die Verluste korrigieren.</td>\n",
       "    </tr>\n",
       "    <tr>\n",
       "      <th>2</th>\n",
       "      <td>Die Transaktionen mit den Aktien von ČEZ erreichten fast die Hälfte des normalen Tagesgeschäfts.</td>\n",
       "    </tr>\n",
       "    <tr>\n",
       "      <th>3</th>\n",
       "      <td>Die Prager Börse knüpfte gleich zu Beginn der Dienstagsgeschäfte an den Einbruch vom Montag an, als sie um weitere sechs Prozentpunkte sank.</td>\n",
       "    </tr>\n",
       "    <tr>\n",
       "      <th>4</th>\n",
       "      <td>Diesmal lag der Grund für den Einbruch an der Wall Street.</td>\n",
       "    </tr>\n",
       "  </tbody>\n",
       "</table>\n",
       "</div>"
      ],
      "text/plain": [
       "                                                                                                                                            ger\n",
       "0                                                                                     Die Prager Börse stürzt gegen Geschäftsschluss ins Minus.\n",
       "1                                                           Nach dem steilen Abfall am Morgen konnte die Prager Börse die Verluste korrigieren.\n",
       "2                                              Die Transaktionen mit den Aktien von ČEZ erreichten fast die Hälfte des normalen Tagesgeschäfts.\n",
       "3  Die Prager Börse knüpfte gleich zu Beginn der Dienstagsgeschäfte an den Einbruch vom Montag an, als sie um weitere sechs Prozentpunkte sank.\n",
       "4                                                                                    Diesmal lag der Grund für den Einbruch an der Wall Street."
      ]
     },
     "execution_count": 40,
     "metadata": {
      "tags": []
     },
     "output_type": "execute_result"
    }
   ],
   "source": [
    "df_ger_2009.head()"
   ]
  },
  {
   "cell_type": "code",
   "execution_count": 18,
   "metadata": {
    "colab": {
     "base_uri": "https://localhost:8080/",
     "height": 229
    },
    "colab_type": "code",
    "id": "zIxT_tmFe7Jn",
    "outputId": "d2a85af0-9764-439a-e034-47867d659062"
   },
   "outputs": [
    {
     "data": {
      "text/html": [
       "<div>\n",
       "<style scoped>\n",
       "    .dataframe tbody tr th:only-of-type {\n",
       "        vertical-align: middle;\n",
       "    }\n",
       "\n",
       "    .dataframe tbody tr th {\n",
       "        vertical-align: top;\n",
       "    }\n",
       "\n",
       "    .dataframe thead th {\n",
       "        text-align: right;\n",
       "    }\n",
       "</style>\n",
       "<table border=\"1\" class=\"dataframe\">\n",
       "  <thead>\n",
       "    <tr style=\"text-align: right;\">\n",
       "      <th></th>\n",
       "      <th>eng</th>\n",
       "      <th>ger</th>\n",
       "    </tr>\n",
       "  </thead>\n",
       "  <tbody>\n",
       "    <tr>\n",
       "      <th>0</th>\n",
       "      <td>Prague Stock Market falls to minus by the end ...</td>\n",
       "      <td>Die Prager Börse stürzt gegen Geschäftsschluss...</td>\n",
       "    </tr>\n",
       "    <tr>\n",
       "      <th>1</th>\n",
       "      <td>After a sharp drop in the morning, the Prague ...</td>\n",
       "      <td>Nach dem steilen Abfall am Morgen konnte die P...</td>\n",
       "    </tr>\n",
       "    <tr>\n",
       "      <th>2</th>\n",
       "      <td>Transactions with stocks from the Czech Energy...</td>\n",
       "      <td>Die Transaktionen mit den Aktien von ČEZ errei...</td>\n",
       "    </tr>\n",
       "    <tr>\n",
       "      <th>3</th>\n",
       "      <td>The Prague Stock Market immediately continued ...</td>\n",
       "      <td>Die Prager Börse knüpfte gleich zu Beginn der ...</td>\n",
       "    </tr>\n",
       "    <tr>\n",
       "      <th>4</th>\n",
       "      <td>This time the fall in stocks on Wall Street is...</td>\n",
       "      <td>Diesmal lag der Grund für den Einbruch an der ...</td>\n",
       "    </tr>\n",
       "  </tbody>\n",
       "</table>\n",
       "</div>"
      ],
      "text/plain": [
       "                                                 eng  \\\n",
       "0  Prague Stock Market falls to minus by the end ...   \n",
       "1  After a sharp drop in the morning, the Prague ...   \n",
       "2  Transactions with stocks from the Czech Energy...   \n",
       "3  The Prague Stock Market immediately continued ...   \n",
       "4  This time the fall in stocks on Wall Street is...   \n",
       "\n",
       "                                                 ger  \n",
       "0  Die Prager Börse stürzt gegen Geschäftsschluss...  \n",
       "1  Nach dem steilen Abfall am Morgen konnte die P...  \n",
       "2  Die Transaktionen mit den Aktien von ČEZ errei...  \n",
       "3  Die Prager Börse knüpfte gleich zu Beginn der ...  \n",
       "4  Diesmal lag der Grund für den Einbruch an der ...  "
      ]
     },
     "execution_count": 18,
     "metadata": {},
     "output_type": "execute_result"
    }
   ],
   "source": [
    "df_combine_2009=pd.concat([df_en_2009, df_ger_2009], axis=1, join='inner') # to adjust automatically row labels i.e index\n",
    "df_combine_2009.head()"
   ]
  },
  {
   "cell_type": "code",
   "execution_count": 19,
   "metadata": {},
   "outputs": [
    {
     "data": {
      "text/plain": [
       "(2394, 2)"
      ]
     },
     "execution_count": 19,
     "metadata": {},
     "output_type": "execute_result"
    }
   ],
   "source": [
    "df_combine_2009.shape"
   ]
  },
  {
   "cell_type": "markdown",
   "metadata": {},
   "source": [
    "**We have lost data as english version had 2441 and german had 2394.Now we have 2394.**"
   ]
  },
  {
   "cell_type": "markdown",
   "metadata": {},
   "source": [
    "# Problem:\n",
    "   \n",
    "**How could we combine these two data files without losing anything?**\n",
    "\n",
    "**If we want to analyse random data after combining all files , will df.sample(5000) work ?**\n",
    "    "
   ]
  },
  {
   "cell_type": "code",
   "execution_count": null,
   "metadata": {},
   "outputs": [],
   "source": []
  },
  {
   "cell_type": "markdown",
   "metadata": {},
   "source": [
    "### END"
   ]
  },
  {
   "cell_type": "code",
   "execution_count": null,
   "metadata": {},
   "outputs": [],
   "source": []
  },
  {
   "cell_type": "code",
   "execution_count": null,
   "metadata": {},
   "outputs": [],
   "source": []
  },
  {
   "cell_type": "code",
   "execution_count": null,
   "metadata": {},
   "outputs": [],
   "source": []
  },
  {
   "cell_type": "code",
   "execution_count": null,
   "metadata": {},
   "outputs": [],
   "source": []
  },
  {
   "cell_type": "code",
   "execution_count": null,
   "metadata": {},
   "outputs": [],
   "source": []
  },
  {
   "cell_type": "code",
   "execution_count": null,
   "metadata": {},
   "outputs": [],
   "source": []
  },
  {
   "cell_type": "markdown",
   "metadata": {
    "colab_type": "text",
    "id": "8PZ0-Hl_f34A"
   },
   "source": [
    "**Here we have combined one file. Let's us combine all of dataset in form of dataframes with columns (showing german and english lang text) and rows.**"
   ]
  },
  {
   "cell_type": "markdown",
   "metadata": {
    "colab_type": "text",
    "id": "hxCTGM5LhE63"
   },
   "source": [
    "### 5a)- Combine all english version"
   ]
  },
  {
   "cell_type": "code",
   "execution_count": 0,
   "metadata": {
    "colab": {},
    "colab_type": "code",
    "id": "clJSlSUDfw6K"
   },
   "outputs": [],
   "source": [
    "df_en_2010= pd.read_table('newstest2010.en', sep=\"\\t\", names=['eng'])\n",
    "df_en_2011= pd.read_table('newstest2011.en', sep=\"\\t\", names=['eng'])\n",
    "df_en_2012= pd.read_table('newstest2012.en', sep=\"\\t\", names=['eng'])\n",
    "df_en_2013= pd.read_table('newstest2013.en', sep=\"\\t\", names=['eng'])\n",
    "df_en_2014= pd.read_table('newstest2014.en', sep=\"\\t\", names=['eng'])\n",
    "df_en_2015= pd.read_table('newstest2015.en', sep=\"\\t\", names=['eng'])\n",
    "df_en_2016= pd.read_table('newstest2016.en', sep=\"\\t\", names=['eng'])"
   ]
  },
  {
   "cell_type": "code",
   "execution_count": 0,
   "metadata": {
    "colab": {},
    "colab_type": "code",
    "id": "S1YKFO2foQOA"
   },
   "outputs": [],
   "source": [
    "df_eng_all=pd.concat([df_en_2009,df_en_2010,df_en_2011,df_en_2012,df_en_2013,df_en_2014,df_en_2015,df_en_2016], ignore_index=True)"
   ]
  },
  {
   "cell_type": "code",
   "execution_count": 56,
   "metadata": {
    "colab": {
     "base_uri": "https://localhost:8080/",
     "height": 195
    },
    "colab_type": "code",
    "id": "a97y6Cv-ohgO",
    "outputId": "53a3c37a-094a-47d4-dbf1-3d634d9d0151"
   },
   "outputs": [
    {
     "data": {
      "text/html": [
       "<div>\n",
       "<style scoped>\n",
       "    .dataframe tbody tr th:only-of-type {\n",
       "        vertical-align: middle;\n",
       "    }\n",
       "\n",
       "    .dataframe tbody tr th {\n",
       "        vertical-align: top;\n",
       "    }\n",
       "\n",
       "    .dataframe thead th {\n",
       "        text-align: right;\n",
       "    }\n",
       "</style>\n",
       "<table border=\"1\" class=\"dataframe\">\n",
       "  <thead>\n",
       "    <tr style=\"text-align: right;\">\n",
       "      <th></th>\n",
       "      <th>eng</th>\n",
       "    </tr>\n",
       "  </thead>\n",
       "  <tbody>\n",
       "    <tr>\n",
       "      <th>0</th>\n",
       "      <td>Prague Stock Market falls to minus by the end of the trading day</td>\n",
       "    </tr>\n",
       "    <tr>\n",
       "      <th>1</th>\n",
       "      <td>After a sharp drop in the morning, the Prague Stock Market corrected its losses.</td>\n",
       "    </tr>\n",
       "    <tr>\n",
       "      <th>2</th>\n",
       "      <td>Transactions with stocks from the Czech Energy Enterprise (ČEZ) reached nearly half of the regular daily trading.</td>\n",
       "    </tr>\n",
       "    <tr>\n",
       "      <th>3</th>\n",
       "      <td>The Prague Stock Market immediately continued its fall from Monday at the beginning of Tuesday's trading, when it dropped by nearly six percent.</td>\n",
       "    </tr>\n",
       "    <tr>\n",
       "      <th>4</th>\n",
       "      <td>This time the fall in stocks on Wall Street is responsible for the drop.</td>\n",
       "    </tr>\n",
       "  </tbody>\n",
       "</table>\n",
       "</div>"
      ],
      "text/plain": [
       "                                                                                                                                                eng\n",
       "0                                                                                  Prague Stock Market falls to minus by the end of the trading day\n",
       "1                                                                  After a sharp drop in the morning, the Prague Stock Market corrected its losses.\n",
       "2                                 Transactions with stocks from the Czech Energy Enterprise (ČEZ) reached nearly half of the regular daily trading.\n",
       "3  The Prague Stock Market immediately continued its fall from Monday at the beginning of Tuesday's trading, when it dropped by nearly six percent.\n",
       "4                                                                          This time the fall in stocks on Wall Street is responsible for the drop."
      ]
     },
     "execution_count": 56,
     "metadata": {
      "tags": []
     },
     "output_type": "execute_result"
    }
   ],
   "source": [
    "df_eng_all.head()"
   ]
  },
  {
   "cell_type": "markdown",
   "metadata": {
    "colab_type": "text",
    "id": "9Ws-YxkolvK-"
   },
   "source": [
    "### 5b)- Combine all German version"
   ]
  },
  {
   "cell_type": "code",
   "execution_count": 0,
   "metadata": {
    "colab": {},
    "colab_type": "code",
    "id": "UiqEnEqPjF7z"
   },
   "outputs": [],
   "source": [
    "df_ger_2010= pd.read_table('newstest2010.de', sep=\"\\t\", names=['ger'])\n",
    "df_ger_2011= pd.read_table('newstest2011.de', sep=\"\\t\", names=['ger'])\n",
    "df_ger_2012= pd.read_table('newstest2012.de', sep=\"\\t\", names=['ger'])\n",
    "df_ger_2013= pd.read_table('newstest2013.de', sep=\"\\t\", names=['ger'])\n",
    "df_ger_2014= pd.read_table('newstest2014.de', sep=\"\\t\", names=['ger'])\n",
    "df_ger_2015= pd.read_table('newstest2015.de', sep=\"\\t\", names=['ger'])\n",
    "df_ger_2016= pd.read_table('newstest2016.de', sep=\"\\t\", names=['ger'])"
   ]
  },
  {
   "cell_type": "code",
   "execution_count": 0,
   "metadata": {
    "colab": {},
    "colab_type": "code",
    "id": "yfbgXPWUluO3"
   },
   "outputs": [],
   "source": [
    "df_ger_all=pd.concat([df_ger_2009,df_ger_2010,df_ger_2011,df_ger_2012,df_ger_2013,df_ger_2014,df_ger_2015,df_ger_2016], ignore_index=True)"
   ]
  },
  {
   "cell_type": "code",
   "execution_count": 61,
   "metadata": {
    "colab": {
     "base_uri": "https://localhost:8080/",
     "height": 195
    },
    "colab_type": "code",
    "id": "0N5P-t9dpvkI",
    "outputId": "0fcecbb0-08ac-485f-9478-132984b4e76d"
   },
   "outputs": [
    {
     "data": {
      "text/html": [
       "<div>\n",
       "<style scoped>\n",
       "    .dataframe tbody tr th:only-of-type {\n",
       "        vertical-align: middle;\n",
       "    }\n",
       "\n",
       "    .dataframe tbody tr th {\n",
       "        vertical-align: top;\n",
       "    }\n",
       "\n",
       "    .dataframe thead th {\n",
       "        text-align: right;\n",
       "    }\n",
       "</style>\n",
       "<table border=\"1\" class=\"dataframe\">\n",
       "  <thead>\n",
       "    <tr style=\"text-align: right;\">\n",
       "      <th></th>\n",
       "      <th>ger</th>\n",
       "    </tr>\n",
       "  </thead>\n",
       "  <tbody>\n",
       "    <tr>\n",
       "      <th>0</th>\n",
       "      <td>Die Prager Börse stürzt gegen Geschäftsschluss ins Minus.</td>\n",
       "    </tr>\n",
       "    <tr>\n",
       "      <th>1</th>\n",
       "      <td>Nach dem steilen Abfall am Morgen konnte die Prager Börse die Verluste korrigieren.</td>\n",
       "    </tr>\n",
       "    <tr>\n",
       "      <th>2</th>\n",
       "      <td>Die Transaktionen mit den Aktien von ČEZ erreichten fast die Hälfte des normalen Tagesgeschäfts.</td>\n",
       "    </tr>\n",
       "    <tr>\n",
       "      <th>3</th>\n",
       "      <td>Die Prager Börse knüpfte gleich zu Beginn der Dienstagsgeschäfte an den Einbruch vom Montag an, als sie um weitere sechs Prozentpunkte sank.</td>\n",
       "    </tr>\n",
       "    <tr>\n",
       "      <th>4</th>\n",
       "      <td>Diesmal lag der Grund für den Einbruch an der Wall Street.</td>\n",
       "    </tr>\n",
       "  </tbody>\n",
       "</table>\n",
       "</div>"
      ],
      "text/plain": [
       "                                                                                                                                            ger\n",
       "0                                                                                     Die Prager Börse stürzt gegen Geschäftsschluss ins Minus.\n",
       "1                                                           Nach dem steilen Abfall am Morgen konnte die Prager Börse die Verluste korrigieren.\n",
       "2                                              Die Transaktionen mit den Aktien von ČEZ erreichten fast die Hälfte des normalen Tagesgeschäfts.\n",
       "3  Die Prager Börse knüpfte gleich zu Beginn der Dienstagsgeschäfte an den Einbruch vom Montag an, als sie um weitere sechs Prozentpunkte sank.\n",
       "4                                                                                    Diesmal lag der Grund für den Einbruch an der Wall Street."
      ]
     },
     "execution_count": 61,
     "metadata": {
      "tags": []
     },
     "output_type": "execute_result"
    }
   ],
   "source": [
    "df_ger_all.head()"
   ]
  },
  {
   "cell_type": "markdown",
   "metadata": {
    "colab_type": "text",
    "id": "r5BIWaqnrzvI"
   },
   "source": [
    "### 5c)- Join english and german versions"
   ]
  },
  {
   "cell_type": "code",
   "execution_count": 64,
   "metadata": {
    "colab": {
     "base_uri": "https://localhost:8080/",
     "height": 642
    },
    "colab_type": "code",
    "id": "4NQGALNlkO_U",
    "outputId": "fe1c9dbf-8a1a-4810-d50e-f46f1129e02a"
   },
   "outputs": [
    {
     "data": {
      "text/html": [
       "<div>\n",
       "<style scoped>\n",
       "    .dataframe tbody tr th:only-of-type {\n",
       "        vertical-align: middle;\n",
       "    }\n",
       "\n",
       "    .dataframe tbody tr th {\n",
       "        vertical-align: top;\n",
       "    }\n",
       "\n",
       "    .dataframe thead th {\n",
       "        text-align: right;\n",
       "    }\n",
       "</style>\n",
       "<table border=\"1\" class=\"dataframe\">\n",
       "  <thead>\n",
       "    <tr style=\"text-align: right;\">\n",
       "      <th></th>\n",
       "      <th>eng</th>\n",
       "      <th>ger</th>\n",
       "    </tr>\n",
       "  </thead>\n",
       "  <tbody>\n",
       "    <tr>\n",
       "      <th>0</th>\n",
       "      <td>Prague Stock Market falls to minus by the end of the trading day</td>\n",
       "      <td>Die Prager Börse stürzt gegen Geschäftsschluss ins Minus.</td>\n",
       "    </tr>\n",
       "    <tr>\n",
       "      <th>1</th>\n",
       "      <td>After a sharp drop in the morning, the Prague Stock Market corrected its losses.</td>\n",
       "      <td>Nach dem steilen Abfall am Morgen konnte die Prager Börse die Verluste korrigieren.</td>\n",
       "    </tr>\n",
       "    <tr>\n",
       "      <th>2</th>\n",
       "      <td>Transactions with stocks from the Czech Energy Enterprise (ČEZ) reached nearly half of the regular daily trading.</td>\n",
       "      <td>Die Transaktionen mit den Aktien von ČEZ erreichten fast die Hälfte des normalen Tagesgeschäfts.</td>\n",
       "    </tr>\n",
       "    <tr>\n",
       "      <th>3</th>\n",
       "      <td>The Prague Stock Market immediately continued its fall from Monday at the beginning of Tuesday's trading, when it dropped by nearly six percent.</td>\n",
       "      <td>Die Prager Börse knüpfte gleich zu Beginn der Dienstagsgeschäfte an den Einbruch vom Montag an, als sie um weitere sechs Prozentpunkte sank.</td>\n",
       "    </tr>\n",
       "    <tr>\n",
       "      <th>4</th>\n",
       "      <td>This time the fall in stocks on Wall Street is responsible for the drop.</td>\n",
       "      <td>Diesmal lag der Grund für den Einbruch an der Wall Street.</td>\n",
       "    </tr>\n",
       "    <tr>\n",
       "      <th>5</th>\n",
       "      <td>The reaction of the market to the results of the vote in the American House of Representatives, which refused to support the plan for the stabilization of the financial sector there, has manifeste...</td>\n",
       "      <td>Auch in Tschechien zeigt sich so die Reaktion des Marktes auf das Ergebnis der Abstimmung des amerikanischen Repräsentantenhauses, das es abgelehnt hatte, einen Stabilisierungsplan für den dortige...</td>\n",
       "    </tr>\n",
       "    <tr>\n",
       "      <th>6</th>\n",
       "      <td>Stocks fall in Asia</td>\n",
       "      <td>Fall der Aktien in Asien</td>\n",
       "    </tr>\n",
       "    <tr>\n",
       "      <th>7</th>\n",
       "      <td>Stocks in the Asian markets experienced a dramatic drop on Tuesday, even though the indexes ultimately erased a part of the losses during the day.</td>\n",
       "      <td>Einen dramatischen Fall erlebten am Dienstag die Aktien an den Börsen in Asien, wenngleich die Indices im Laufe des Tages einen Teil der Verluste ausgleichen konnten.</td>\n",
       "    </tr>\n",
       "    <tr>\n",
       "      <th>8</th>\n",
       "      <td>The Hang Seng Index of the Hong Kong Stock Exchange wrote off nearly four percent during the day, but later it erased a part of the losses and reduced the decrease to roughly 2.5 percent.</td>\n",
       "      <td>Der Index der Hang Seng Börse in Hongkong verlor im Laufe des Geschäftstages fast vier Prozentpunkte, konnte aber später einen Teil der Verluste wettmachen, somit verringerte sich der Rückgang auf...</td>\n",
       "    </tr>\n",
       "    <tr>\n",
       "      <th>9</th>\n",
       "      <td>The Hang Seng China Enterprises Index, which follows the movement of Chinese stocks on the stock market in Hong Kong, dropped by 3.8 percent, in Shanghai the markets were closed.</td>\n",
       "      <td>Der Index Hang Seng China Enterprises, der die Bewegung der chinesischen Aktien an der Börse in Hongkong beobachtet, sank um 3,8 Prozent, in Shanghai waren die Märkte geschlossen.</td>\n",
       "    </tr>\n",
       "    <tr>\n",
       "      <th>10</th>\n",
       "      <td>Stocks on the market in Sydney lost more than five percent, but ultimately lowered their losses to 4.3 percent.</td>\n",
       "      <td>Die Aktien an der Börse in Sydney verloren mehr als fünf Prozent, verringerten jedoch dann die Verluste auf 4,3 Prozent.</td>\n",
       "    </tr>\n",
       "    <tr>\n",
       "      <th>11</th>\n",
       "      <td>The stock exchange in Taiwan dropped by 3.6 percent according to the local index.</td>\n",
       "      <td>Die Börse in Taiwan sank nach dem dortigen Index um 3,6 Prozent.</td>\n",
       "    </tr>\n",
       "    <tr>\n",
       "      <th>12</th>\n",
       "      <td>The timing of the bailout action in the USA is uncertain and it will influence financial markets all over the world, remarked the head of the Hong Kong Currency Board, Joseph Yam.</td>\n",
       "      <td>Das Timing für die Rettungsaktion in den USA ist unsicher und wird die Finanzmärkte weltweit beeinflussen, so der Chef der Währungsbehörde in Hongkong Joseph Yam.</td>\n",
       "    </tr>\n",
       "    <tr>\n",
       "      <th>13</th>\n",
       "      <td>Despite the fact that it is a part of China, Hong Kong determines its currency policy separately, that is, without being dependent on the Chinese Central Bank.</td>\n",
       "      <td>Hongkong bestimmt, obwohl es zu China gehört, seine Währungspolitik selbst, also unabhängig von der chinesischen Zentralbank.</td>\n",
       "    </tr>\n",
       "    <tr>\n",
       "      <th>14</th>\n",
       "      <td>Hong Kong has interest rates at the same level as the United States.</td>\n",
       "      <td>Die Zinssätze in Hongkong bewegen sich auf demselben Niveau wie die in den Vereinigten Staaten.</td>\n",
       "    </tr>\n",
       "  </tbody>\n",
       "</table>\n",
       "</div>"
      ],
      "text/plain": [
       "                                                                                                                                                                                                        eng                                                                                                                                                                                                      ger\n",
       "0                                                                                                                                          Prague Stock Market falls to minus by the end of the trading day                                                                                                                                                Die Prager Börse stürzt gegen Geschäftsschluss ins Minus.\n",
       "1                                                                                                                          After a sharp drop in the morning, the Prague Stock Market corrected its losses.                                                                                                                      Nach dem steilen Abfall am Morgen konnte die Prager Börse die Verluste korrigieren.\n",
       "2                                                                                         Transactions with stocks from the Czech Energy Enterprise (ČEZ) reached nearly half of the regular daily trading.                                                                                                         Die Transaktionen mit den Aktien von ČEZ erreichten fast die Hälfte des normalen Tagesgeschäfts.\n",
       "3                                                          The Prague Stock Market immediately continued its fall from Monday at the beginning of Tuesday's trading, when it dropped by nearly six percent.                                                             Die Prager Börse knüpfte gleich zu Beginn der Dienstagsgeschäfte an den Einbruch vom Montag an, als sie um weitere sechs Prozentpunkte sank.\n",
       "4                                                                                                                                  This time the fall in stocks on Wall Street is responsible for the drop.                                                                                                                                               Diesmal lag der Grund für den Einbruch an der Wall Street.\n",
       "5   The reaction of the market to the results of the vote in the American House of Representatives, which refused to support the plan for the stabilization of the financial sector there, has manifeste...  Auch in Tschechien zeigt sich so die Reaktion des Marktes auf das Ergebnis der Abstimmung des amerikanischen Repräsentantenhauses, das es abgelehnt hatte, einen Stabilisierungsplan für den dortige...\n",
       "6                                                                                                                                                                                       Stocks fall in Asia                                                                                                                                                                                 Fall der Aktien in Asien\n",
       "7                                                        Stocks in the Asian markets experienced a dramatic drop on Tuesday, even though the indexes ultimately erased a part of the losses during the day.                                   Einen dramatischen Fall erlebten am Dienstag die Aktien an den Börsen in Asien, wenngleich die Indices im Laufe des Tages einen Teil der Verluste ausgleichen konnten.\n",
       "8               The Hang Seng Index of the Hong Kong Stock Exchange wrote off nearly four percent during the day, but later it erased a part of the losses and reduced the decrease to roughly 2.5 percent.  Der Index der Hang Seng Börse in Hongkong verlor im Laufe des Geschäftstages fast vier Prozentpunkte, konnte aber später einen Teil der Verluste wettmachen, somit verringerte sich der Rückgang auf...\n",
       "9                        The Hang Seng China Enterprises Index, which follows the movement of Chinese stocks on the stock market in Hong Kong, dropped by 3.8 percent, in Shanghai the markets were closed.                      Der Index Hang Seng China Enterprises, der die Bewegung der chinesischen Aktien an der Börse in Hongkong beobachtet, sank um 3,8 Prozent, in Shanghai waren die Märkte geschlossen.\n",
       "10                                                                                          Stocks on the market in Sydney lost more than five percent, but ultimately lowered their losses to 4.3 percent.                                                                                 Die Aktien an der Börse in Sydney verloren mehr als fünf Prozent, verringerten jedoch dann die Verluste auf 4,3 Prozent.\n",
       "11                                                                                                                        The stock exchange in Taiwan dropped by 3.6 percent according to the local index.                                                                                                                                         Die Börse in Taiwan sank nach dem dortigen Index um 3,6 Prozent.\n",
       "12                      The timing of the bailout action in the USA is uncertain and it will influence financial markets all over the world, remarked the head of the Hong Kong Currency Board, Joseph Yam.                                       Das Timing für die Rettungsaktion in den USA ist unsicher und wird die Finanzmärkte weltweit beeinflussen, so der Chef der Währungsbehörde in Hongkong Joseph Yam.\n",
       "13                                          Despite the fact that it is a part of China, Hong Kong determines its currency policy separately, that is, without being dependent on the Chinese Central Bank.                                                                            Hongkong bestimmt, obwohl es zu China gehört, seine Währungspolitik selbst, also unabhängig von der chinesischen Zentralbank.\n",
       "14                                                                                                                                     Hong Kong has interest rates at the same level as the United States.                                                                                                          Die Zinssätze in Hongkong bewegen sich auf demselben Niveau wie die in den Vereinigten Staaten."
      ]
     },
     "execution_count": 64,
     "metadata": {
      "tags": []
     },
     "output_type": "execute_result"
    }
   ],
   "source": [
    "# combine into rows and columns dataframe\n",
    "\n",
    "df_combine=pd.concat([df_eng_all,df_ger_all], axis=1, join='inner') # to adjust automatically row labels i.e index\n",
    "df_combine.head(15)"
   ]
  },
  {
   "cell_type": "markdown",
   "metadata": {
    "colab_type": "text",
    "id": "ig_BxynKrszX"
   },
   "source": [
    "### 5d)- Saving file"
   ]
  },
  {
   "cell_type": "code",
   "execution_count": 0,
   "metadata": {
    "colab": {},
    "colab_type": "code",
    "id": "w9Y6IQVHlejL"
   },
   "outputs": [],
   "source": [
    "df_combine.to_pickle('full_data.pkl')"
   ]
  },
  {
   "cell_type": "code",
   "execution_count": 0,
   "metadata": {
    "colab": {},
    "colab_type": "code",
    "id": "WNcxec_crMX0"
   },
   "outputs": [],
   "source": [
    "# Load again to check\n",
    "df=pd.read_pickle('full_data.pkl')"
   ]
  },
  {
   "cell_type": "code",
   "execution_count": 69,
   "metadata": {
    "colab": {
     "base_uri": "https://localhost:8080/",
     "height": 642
    },
    "colab_type": "code",
    "id": "Txxf2J8Wrbcq",
    "outputId": "8cc1bf3b-8b72-458b-e663-ccfaf3550da2"
   },
   "outputs": [
    {
     "data": {
      "text/html": [
       "<div>\n",
       "<style scoped>\n",
       "    .dataframe tbody tr th:only-of-type {\n",
       "        vertical-align: middle;\n",
       "    }\n",
       "\n",
       "    .dataframe tbody tr th {\n",
       "        vertical-align: top;\n",
       "    }\n",
       "\n",
       "    .dataframe thead th {\n",
       "        text-align: right;\n",
       "    }\n",
       "</style>\n",
       "<table border=\"1\" class=\"dataframe\">\n",
       "  <thead>\n",
       "    <tr style=\"text-align: right;\">\n",
       "      <th></th>\n",
       "      <th>eng</th>\n",
       "      <th>ger</th>\n",
       "    </tr>\n",
       "  </thead>\n",
       "  <tbody>\n",
       "    <tr>\n",
       "      <th>0</th>\n",
       "      <td>Prague Stock Market falls to minus by the end of the trading day</td>\n",
       "      <td>Die Prager Börse stürzt gegen Geschäftsschluss ins Minus.</td>\n",
       "    </tr>\n",
       "    <tr>\n",
       "      <th>1</th>\n",
       "      <td>After a sharp drop in the morning, the Prague Stock Market corrected its losses.</td>\n",
       "      <td>Nach dem steilen Abfall am Morgen konnte die Prager Börse die Verluste korrigieren.</td>\n",
       "    </tr>\n",
       "    <tr>\n",
       "      <th>2</th>\n",
       "      <td>Transactions with stocks from the Czech Energy Enterprise (ČEZ) reached nearly half of the regular daily trading.</td>\n",
       "      <td>Die Transaktionen mit den Aktien von ČEZ erreichten fast die Hälfte des normalen Tagesgeschäfts.</td>\n",
       "    </tr>\n",
       "    <tr>\n",
       "      <th>3</th>\n",
       "      <td>The Prague Stock Market immediately continued its fall from Monday at the beginning of Tuesday's trading, when it dropped by nearly six percent.</td>\n",
       "      <td>Die Prager Börse knüpfte gleich zu Beginn der Dienstagsgeschäfte an den Einbruch vom Montag an, als sie um weitere sechs Prozentpunkte sank.</td>\n",
       "    </tr>\n",
       "    <tr>\n",
       "      <th>4</th>\n",
       "      <td>This time the fall in stocks on Wall Street is responsible for the drop.</td>\n",
       "      <td>Diesmal lag der Grund für den Einbruch an der Wall Street.</td>\n",
       "    </tr>\n",
       "    <tr>\n",
       "      <th>5</th>\n",
       "      <td>The reaction of the market to the results of the vote in the American House of Representatives, which refused to support the plan for the stabilization of the financial sector there, has manifeste...</td>\n",
       "      <td>Auch in Tschechien zeigt sich so die Reaktion des Marktes auf das Ergebnis der Abstimmung des amerikanischen Repräsentantenhauses, das es abgelehnt hatte, einen Stabilisierungsplan für den dortige...</td>\n",
       "    </tr>\n",
       "    <tr>\n",
       "      <th>6</th>\n",
       "      <td>Stocks fall in Asia</td>\n",
       "      <td>Fall der Aktien in Asien</td>\n",
       "    </tr>\n",
       "    <tr>\n",
       "      <th>7</th>\n",
       "      <td>Stocks in the Asian markets experienced a dramatic drop on Tuesday, even though the indexes ultimately erased a part of the losses during the day.</td>\n",
       "      <td>Einen dramatischen Fall erlebten am Dienstag die Aktien an den Börsen in Asien, wenngleich die Indices im Laufe des Tages einen Teil der Verluste ausgleichen konnten.</td>\n",
       "    </tr>\n",
       "    <tr>\n",
       "      <th>8</th>\n",
       "      <td>The Hang Seng Index of the Hong Kong Stock Exchange wrote off nearly four percent during the day, but later it erased a part of the losses and reduced the decrease to roughly 2.5 percent.</td>\n",
       "      <td>Der Index der Hang Seng Börse in Hongkong verlor im Laufe des Geschäftstages fast vier Prozentpunkte, konnte aber später einen Teil der Verluste wettmachen, somit verringerte sich der Rückgang auf...</td>\n",
       "    </tr>\n",
       "    <tr>\n",
       "      <th>9</th>\n",
       "      <td>The Hang Seng China Enterprises Index, which follows the movement of Chinese stocks on the stock market in Hong Kong, dropped by 3.8 percent, in Shanghai the markets were closed.</td>\n",
       "      <td>Der Index Hang Seng China Enterprises, der die Bewegung der chinesischen Aktien an der Börse in Hongkong beobachtet, sank um 3,8 Prozent, in Shanghai waren die Märkte geschlossen.</td>\n",
       "    </tr>\n",
       "    <tr>\n",
       "      <th>10</th>\n",
       "      <td>Stocks on the market in Sydney lost more than five percent, but ultimately lowered their losses to 4.3 percent.</td>\n",
       "      <td>Die Aktien an der Börse in Sydney verloren mehr als fünf Prozent, verringerten jedoch dann die Verluste auf 4,3 Prozent.</td>\n",
       "    </tr>\n",
       "    <tr>\n",
       "      <th>11</th>\n",
       "      <td>The stock exchange in Taiwan dropped by 3.6 percent according to the local index.</td>\n",
       "      <td>Die Börse in Taiwan sank nach dem dortigen Index um 3,6 Prozent.</td>\n",
       "    </tr>\n",
       "    <tr>\n",
       "      <th>12</th>\n",
       "      <td>The timing of the bailout action in the USA is uncertain and it will influence financial markets all over the world, remarked the head of the Hong Kong Currency Board, Joseph Yam.</td>\n",
       "      <td>Das Timing für die Rettungsaktion in den USA ist unsicher und wird die Finanzmärkte weltweit beeinflussen, so der Chef der Währungsbehörde in Hongkong Joseph Yam.</td>\n",
       "    </tr>\n",
       "    <tr>\n",
       "      <th>13</th>\n",
       "      <td>Despite the fact that it is a part of China, Hong Kong determines its currency policy separately, that is, without being dependent on the Chinese Central Bank.</td>\n",
       "      <td>Hongkong bestimmt, obwohl es zu China gehört, seine Währungspolitik selbst, also unabhängig von der chinesischen Zentralbank.</td>\n",
       "    </tr>\n",
       "    <tr>\n",
       "      <th>14</th>\n",
       "      <td>Hong Kong has interest rates at the same level as the United States.</td>\n",
       "      <td>Die Zinssätze in Hongkong bewegen sich auf demselben Niveau wie die in den Vereinigten Staaten.</td>\n",
       "    </tr>\n",
       "  </tbody>\n",
       "</table>\n",
       "</div>"
      ],
      "text/plain": [
       "                                                                                                                                                                                                        eng                                                                                                                                                                                                      ger\n",
       "0                                                                                                                                          Prague Stock Market falls to minus by the end of the trading day                                                                                                                                                Die Prager Börse stürzt gegen Geschäftsschluss ins Minus.\n",
       "1                                                                                                                          After a sharp drop in the morning, the Prague Stock Market corrected its losses.                                                                                                                      Nach dem steilen Abfall am Morgen konnte die Prager Börse die Verluste korrigieren.\n",
       "2                                                                                         Transactions with stocks from the Czech Energy Enterprise (ČEZ) reached nearly half of the regular daily trading.                                                                                                         Die Transaktionen mit den Aktien von ČEZ erreichten fast die Hälfte des normalen Tagesgeschäfts.\n",
       "3                                                          The Prague Stock Market immediately continued its fall from Monday at the beginning of Tuesday's trading, when it dropped by nearly six percent.                                                             Die Prager Börse knüpfte gleich zu Beginn der Dienstagsgeschäfte an den Einbruch vom Montag an, als sie um weitere sechs Prozentpunkte sank.\n",
       "4                                                                                                                                  This time the fall in stocks on Wall Street is responsible for the drop.                                                                                                                                               Diesmal lag der Grund für den Einbruch an der Wall Street.\n",
       "5   The reaction of the market to the results of the vote in the American House of Representatives, which refused to support the plan for the stabilization of the financial sector there, has manifeste...  Auch in Tschechien zeigt sich so die Reaktion des Marktes auf das Ergebnis der Abstimmung des amerikanischen Repräsentantenhauses, das es abgelehnt hatte, einen Stabilisierungsplan für den dortige...\n",
       "6                                                                                                                                                                                       Stocks fall in Asia                                                                                                                                                                                 Fall der Aktien in Asien\n",
       "7                                                        Stocks in the Asian markets experienced a dramatic drop on Tuesday, even though the indexes ultimately erased a part of the losses during the day.                                   Einen dramatischen Fall erlebten am Dienstag die Aktien an den Börsen in Asien, wenngleich die Indices im Laufe des Tages einen Teil der Verluste ausgleichen konnten.\n",
       "8               The Hang Seng Index of the Hong Kong Stock Exchange wrote off nearly four percent during the day, but later it erased a part of the losses and reduced the decrease to roughly 2.5 percent.  Der Index der Hang Seng Börse in Hongkong verlor im Laufe des Geschäftstages fast vier Prozentpunkte, konnte aber später einen Teil der Verluste wettmachen, somit verringerte sich der Rückgang auf...\n",
       "9                        The Hang Seng China Enterprises Index, which follows the movement of Chinese stocks on the stock market in Hong Kong, dropped by 3.8 percent, in Shanghai the markets were closed.                      Der Index Hang Seng China Enterprises, der die Bewegung der chinesischen Aktien an der Börse in Hongkong beobachtet, sank um 3,8 Prozent, in Shanghai waren die Märkte geschlossen.\n",
       "10                                                                                          Stocks on the market in Sydney lost more than five percent, but ultimately lowered their losses to 4.3 percent.                                                                                 Die Aktien an der Börse in Sydney verloren mehr als fünf Prozent, verringerten jedoch dann die Verluste auf 4,3 Prozent.\n",
       "11                                                                                                                        The stock exchange in Taiwan dropped by 3.6 percent according to the local index.                                                                                                                                         Die Börse in Taiwan sank nach dem dortigen Index um 3,6 Prozent.\n",
       "12                      The timing of the bailout action in the USA is uncertain and it will influence financial markets all over the world, remarked the head of the Hong Kong Currency Board, Joseph Yam.                                       Das Timing für die Rettungsaktion in den USA ist unsicher und wird die Finanzmärkte weltweit beeinflussen, so der Chef der Währungsbehörde in Hongkong Joseph Yam.\n",
       "13                                          Despite the fact that it is a part of China, Hong Kong determines its currency policy separately, that is, without being dependent on the Chinese Central Bank.                                                                            Hongkong bestimmt, obwohl es zu China gehört, seine Währungspolitik selbst, also unabhängig von der chinesischen Zentralbank.\n",
       "14                                                                                                                                     Hong Kong has interest rates at the same level as the United States.                                                                                                          Die Zinssätze in Hongkong bewegen sich auf demselben Niveau wie die in den Vereinigten Staaten."
      ]
     },
     "execution_count": 69,
     "metadata": {
      "tags": []
     },
     "output_type": "execute_result"
    }
   ],
   "source": [
    "df.head(15)"
   ]
  },
  {
   "cell_type": "markdown",
   "metadata": {
    "colab_type": "text",
    "id": "e0BVHxB-sEAV"
   },
   "source": [
    "Now we are ready for next stage i.e modeling"
   ]
  }
 ],
 "metadata": {
  "accelerator": "GPU",
  "colab": {
   "collapsed_sections": [],
   "name": "Preprocess.ipynb",
   "provenance": [],
   "version": "0.3.2"
  },
  "kernelspec": {
   "display_name": "Python 3",
   "language": "python",
   "name": "python3"
  },
  "language_info": {
   "codemirror_mode": {
    "name": "ipython",
    "version": 3
   },
   "file_extension": ".py",
   "mimetype": "text/x-python",
   "name": "python",
   "nbconvert_exporter": "python",
   "pygments_lexer": "ipython3",
   "version": "3.6.3"
  }
 },
 "nbformat": 4,
 "nbformat_minor": 1
}
